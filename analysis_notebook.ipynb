{
 "cells": [
  {
   "cell_type": "markdown",
   "id": "d8c4375b-d247-4445-82b3-7f7f082a33fd",
   "metadata": {},
   "source": [
    "<div style=\"display: flex; background-color: #3F579F;\">\n",
    "    <h1 style=\"margin: auto; font-weight: bold; padding: 30px 30px 0px 30px;\" align=\"center\">Consumption needs of buildings - Project 4</h1>\n",
    "</div>\n",
    "<div style=\"display: flex; background-color: #3F579F; margin: auto; padding: 5px 30px 0px 30px;\" >\n",
    "    <h2 style=\"width: 100%; text-align: center; float: left;\" align=\"center\">| Analysis notebook |</h2>\n",
    "</div>\n",
    "<div style=\"display: flex; background-color: #3F579F; margin: auto; padding: 10px 30px 30px 30px;\">\n",
    "    <h3 style=\"width: 100%; text-align: center; font-size:26px; float: left;\" align=\"center\">Data Scientist course - OpenClassrooms</h3>\n",
    "</div>"
   ]
  },
  {
   "cell_type": "markdown",
   "id": "06b593c8-f915-40a6-a9bc-8d9d268bb779",
   "metadata": {
    "tags": []
   },
   "source": [
    "<div style=\"background-color: #506AB9;\" >\n",
    "    <h3 style=\"margin: auto; padding: 20px; color:#fff; \">1. Libraries and functions</h3>\n",
    "</div>"
   ]
  },
  {
   "cell_type": "markdown",
   "id": "ad4b81b4-039b-44ef-a7e1-fd3fc60123a6",
   "metadata": {},
   "source": [
    "<div style=\"background-color: #6D83C5;\" >\n",
    "    <h4 style=\"margin: auto; padding: 20px; color:#fff; \">1.1. Libraries and functions</h3>\n",
    "</div>"
   ]
  },
  {
   "cell_type": "code",
   "execution_count": 1,
   "id": "e02861e2-fa46-4075-afd5-d69648e185f3",
   "metadata": {},
   "outputs": [],
   "source": [
    "import io\n",
    "import gc\n",
    "import ast\n",
    "from math import prod\n",
    "import pandas as pd\n",
    "import numpy as np\n",
    "import scipy.stats as stats\n",
    "import matplotlib.pyplot as plt\n",
    "import seaborn as sns\n",
    "from statsmodels.graphics.gofplots import qqplot\n",
    "from sklearn.preprocessing import StandardScaler\n",
    "from sklearn import decomposition\n",
    "from sklearn.decomposition import PCA\n",
    "\n",
    "\n",
    "# import os\n",
    "# import itertools\n",
    "# import math\n",
    "# import matplotlib.gridspec as gridspec\n",
    "# from sklearn.preprocessing import OneHotEncoder, MinMaxScaler\n",
    "# from sklearn.model_selection import train_test_split\n",
    "# from sklearn.impute import KNNImputer\n",
    "# from sklearn.metrics import mean_squared_error, r2_score\n",
    "# from sklearn.linear_model import LinearRegression\n",
    "\n",
    "\n",
    "\n",
    "%matplotlib inline\n",
    "sns.set_theme(style=\"darkgrid\")\n",
    "\n",
    "SUB = str.maketrans(\"0123456789\", \"₀₁₂₃₄₅₆₇₈₉\")\n",
    "SUP = str.maketrans(\"0123456789\", \"⁰¹²³⁴⁵⁶⁷⁸⁹\")"
   ]
  },
  {
   "cell_type": "markdown",
   "id": "3e8f935a-e110-44a8-8da5-0a4b3decb69c",
   "metadata": {},
   "source": [
    "<div style=\"background-color: #6D83C5;\" >\n",
    "    <h4 style=\"margin: auto; padding: 20px; color:#fff; \">1.2. Functions declaration</h4>\n",
    "</div>"
   ]
  },
  {
   "cell_type": "code",
   "execution_count": 2,
   "id": "b8bc101a-32e6-440e-9bd7-5c475fba60e8",
   "metadata": {
    "tags": []
   },
   "outputs": [],
   "source": [
    "def df_analysis(df, name_df, *args, **kwargs):\n",
    "    \"\"\"\n",
    "    Method used to analyze on the DataFrame.\n",
    "\n",
    "    Parameters:\n",
    "    -----------------\n",
    "        df (pandas.DataFrame): Dataset to analyze\n",
    "        name_df (str): Dataset name\n",
    "        \n",
    "        *args, **kwargs:\n",
    "        -----------------\n",
    "            columns (list): Dataframe keys in list format\n",
    "            flag (str): Flag to show complete information about the dataset to analyse\n",
    "                        \"complete\" shows all information about the dataset\n",
    "\n",
    "    Returns:\n",
    "    -----------------\n",
    "        None. \n",
    "        Print the analysis on the Dataset. \n",
    "    \"\"\"\n",
    "    \n",
    "    # Getting the variables\n",
    "    columns = kwargs.get(\"columns\", None)\n",
    "    type_analysis = kwargs.get(\"type_analysis\", None)\n",
    "    \n",
    "    ORDERING_COMPLETE = [\n",
    "        \"name\", \"type\", \"records\", \"unique\", \"# NaN\", \"% NaN\", \"mean\", \"min\", \"25%\", \"50%\", \"75%\", \"max\", \"std\"\n",
    "    ]\n",
    "    \n",
    "    # Calculating the memory usage based on dataframe.info()\n",
    "    buf = io.StringIO()\n",
    "    df.info(buf=buf)\n",
    "    memory_usage = buf.getvalue().split('\\n')[-2]\n",
    "    \n",
    "    if df.empty:\n",
    "        print(\"The\", name_df, \"dataset is empty. Please verify the file.\")\n",
    "    else:\n",
    "        empty_cols = [col for col in df.columns if df[col].isna().all()] # identifying empty columns\n",
    "        df_rows_duplicates = df[df.duplicated()] #identifying full duplicates rows\n",
    "        \n",
    "        # Creating a dataset based on Type object and records by columns\n",
    "        type_cols = df.dtypes.apply(lambda x: x.name).to_dict() \n",
    "        df_resume = pd.DataFrame(list(type_cols.items()), columns = [\"name\", \"type\"])\n",
    "        df_resume[\"records\"] = list(df.count())\n",
    "        df_resume[\"# NaN\"] = list(df.isnull().sum())\n",
    "        df_resume[\"% NaN\"] = list(((df.isnull().sum() / len(df.index))*100).round(2))\n",
    "        \n",
    "        print(\"\\nAnalysis of\", name_df, \"dataset\")\n",
    "        print(\"--------------------------------------------------------------------\")\n",
    "        print(\"- Dataset shape:                 \", df.shape[0], \"rows and\", df.shape[1], \"columns\")\n",
    "        print(\"- Total of NaN values:           \", df.isna().sum().sum())\n",
    "        print(\"- Percentage of NaN:             \", round((df.isna().sum().sum() / prod(df.shape)) * 100, 2), \"%\")\n",
    "        print(\"- Total of full duplicates rows: \", df_rows_duplicates.shape[0])\n",
    "        print(\"- Total of empty rows:           \", df.shape[0] - df.dropna(axis=\"rows\", how=\"all\").shape[0]) if df.dropna(axis=\"rows\", how=\"all\").shape[0] < df.shape[0] else \\\n",
    "                    print(\"- Total of empty rows:            0\")\n",
    "        print(\"- Total of empty columns:        \", len(empty_cols))\n",
    "        print(\"  + The empty column is:         \", empty_cols) if len(empty_cols) == 1 else \\\n",
    "                    print(\"  + The empty column are:         \", empty_cols) if len(empty_cols) >= 1 else None\n",
    "        print(\"- Unique indexes:                \", df.index.is_unique)\n",
    "        \n",
    "        if columns is not None:\n",
    "            print(\"\\n- The key(s):\", columns, \"is not present multiple times in the dataframe.\\n  It CAN be used as a primary key.\") if df.size == df.drop_duplicates(columns).size else \\\n",
    "                print(\"\\n- The key(s):\", columns, \"is present multiple times in the dataframe.\\n  It CANNOT be used as a primary key.\")\n",
    "        \n",
    "        if type_analysis == \"summarized\":\n",
    "            print(\"\\n\")\n",
    "        \n",
    "        if type_analysis is None or type_analysis != \"summarized\":\n",
    "            pd.set_option(\"display.max_rows\", None) # show full of showing rows\n",
    "            pd.set_option(\"display.max_columns\", None) # show full of showing cols\n",
    "            pd.set_option(\"display.max_colwidth\", None) # show full width of showing cols\n",
    "            pd.set_option(\"display.float_format\", lambda x: \"%.5f\" % x) # show full content in cell    \n",
    "            \n",
    "            if type_analysis is None or type_analysis != \"complete\":\n",
    "                print(\"\\n- Type object and records by columns      (\",memory_usage,\")\")\n",
    "                print(\"--------------------------------------------------------------------\")\n",
    "            elif type_analysis == \"complete\":\n",
    "                df_resume[\"unique\"] = list(df.nunique())\n",
    "                df_desc = pd.DataFrame(df.describe().T).reset_index()\n",
    "                df_desc = df_desc.rename(columns={\"index\": \"name\"})\n",
    "                df_resume = df_resume.merge(right=df_desc[[\"name\", \"mean\", \"min\", \"25%\", \"50%\", \"75%\", \"max\", \"std\"]], on=\"name\", how=\"left\")\n",
    "                df_resume = df_resume[ORDERING_COMPLETE]\n",
    "                print(\"\\n- Type object and records by columns      (\",memory_usage,\")\")\n",
    "                print(\"--------------------------------------------------------------------\")\n",
    "                \n",
    "            display(df_resume.sort_values(\"records\", ascending=False))\n",
    "            \n",
    "            pd.reset_option(\"display.max_rows\") # reset max of showing rows\n",
    "            pd.reset_option(\"display.max_columns\") # reset max of showing cols\n",
    "            pd.reset_option(\"display.max_colwidth\") # reset width of showing cols\n",
    "            pd.reset_option(\"display.float_format\") # reset show full content in cell\n",
    "            \n",
    "        # deleting dataframe to free memory\n",
    "        if type_analysis == \"complete\":\n",
    "            del [[df_resume, df_desc]]\n",
    "            gc.collect()\n",
    "            df_resume, df_desc = (pd.DataFrame() for i in range(2))\n",
    "        else:\n",
    "            del df_resume\n",
    "            gc.collect()\n",
    "            df_resume = pd.DataFrame()\n",
    "\n",
    "\n",
    "def comparing_columns_df():\n",
    "    \"\"\"\n",
    "    Method used to identify columns that do not match between datasets\n",
    "\n",
    "    Returns:\n",
    "    -----------------\n",
    "        df (pandas.DataFrame): Dataframe with columns that do not match\n",
    "    \"\"\"\n",
    "\n",
    "    LIST_COL, LIST_ORIGIN = ([] for i in range(2))\n",
    "\n",
    "    for col in data_2015.columns:\n",
    "        if col not in list(data_2016.columns):\n",
    "            LIST_COL.append(col)\n",
    "            LIST_ORIGIN.append(\"data_2015\")\n",
    "\n",
    "    for col in data_2016.columns:\n",
    "        if col not in list(data_2015.columns):\n",
    "            LIST_COL.append(col)\n",
    "            LIST_ORIGIN.append(\"data_2016\")\n",
    "\n",
    "    df = pd.DataFrame({\n",
    "        \"column\": LIST_COL,\n",
    "        \"origin\": LIST_ORIGIN\n",
    "    })\n",
    "    \n",
    "    display(df.sort_values(\"column\"))\n",
    "    \n",
    "    return df\n",
    "\n",
    "\n",
    "def types_different():\n",
    "    \"\"\"\n",
    "    Method used to identify the same columns with different dtypes\n",
    "\n",
    "    Returns:\n",
    "    -----------------\n",
    "        None. \n",
    "        Print the tests on a new Dataset. \n",
    "    \"\"\"\n",
    "    \n",
    "    COLS_2015, COLS_2016, LIST_COL_DIFFERENT, LIST_DTYPE_2015, LIST_DTYPE_2016 = [[] for i in range(5)]\n",
    "    \n",
    "    for col in data_2015.columns:\n",
    "        if col not in list(df_columns_not_matches.loc[df_columns_not_matches[\"origin\"]==\"data_2015\", \"column\"]):         \n",
    "            COLS_2015.append(col)\n",
    "    for col in data_2016.columns:\n",
    "        if col not in list(df_columns_not_matches.loc[df_columns_not_matches[\"origin\"]==\"data_2016\", \"column\"]):\n",
    "            COLS_2016.append(col)\n",
    "    \n",
    "    for col_2015, col_2016 in zip(COLS_2015, COLS_2016):\n",
    "        if data_2015[col_2015].dtype != data_2016[col_2016].dtype:\n",
    "            LIST_COL_DIFFERENT.append(col_2015)\n",
    "            LIST_DTYPE_2015.append(str(data_2015[col_2015].dtype))\n",
    "            LIST_DTYPE_2016.append(str(data_2016[col_2016].dtype))\n",
    "            \n",
    "    df_types_different = pd.DataFrame({\n",
    "                            \"column\": LIST_COL_DIFFERENT,\n",
    "                            \"2015\": LIST_DTYPE_2015,\n",
    "                            \"2016\": LIST_DTYPE_2016\n",
    "                        })\n",
    "    \n",
    "    return display(df_types_different.sort_values(\"column\"))\n",
    "            \n",
    "            \n",
    "def normality_test(df):\n",
    "    \"\"\"\n",
    "    Method used to make the normality test.\n",
    "\n",
    "    Parameters:\n",
    "    -----------------\n",
    "        df (pandas.DataFrame): Dataset to analyze\n",
    "\n",
    "    Returns:\n",
    "    -----------------\n",
    "        None. \n",
    "        Print the tests on a new Dataset. \n",
    "    \"\"\"\n",
    "    \n",
    "    list_test = {\n",
    "        \"Shapiro-Wilk\":stats.shapiro, \"D’Agostino’s K^2\":stats.normaltest,\n",
    "        \"Kolmogorov-Smirnov\":stats.kstest\n",
    "    }\n",
    "    \n",
    "    \n",
    "    alpha = 0.05\n",
    "    fail_to_reject_H = \"Sample looks Gaussian (fail to reject H0)\"\n",
    "    reject_H = \"Sample does not look Gaussian (reject H0)\"\n",
    "    \n",
    "    variable, test_name, result, hypothesis = [[] for i in range(4)]\n",
    "    \n",
    "    for key, value in list_test.items():\n",
    "    \n",
    "        for col in df.columns:\n",
    "            \n",
    "            if df[col].dtypes == \"float64\":\n",
    "                variable.append(col)\n",
    "                test_name.append(key)\n",
    "                \n",
    "                if key == \"Kolmogorov-Smirnov\":\n",
    "                    stat, p_value = value(df[col], cdf=\"norm\")\n",
    "                else:\n",
    "                    stat, p_value = value(df[col])\n",
    "                    \n",
    "                result.append(\"Statistics=%.3f, p-value=%.3f\" % (stat, p_value))\n",
    "                hypothesis.append(fail_to_reject_H.translate(SUB)) if p_value > alpha else hypothesis.append(reject_H.translate(SUB))\n",
    "                \n",
    "    df_normality_test = pd.DataFrame({\n",
    "                            \"variable\": variable,\n",
    "                            \"normality test\": test_name, \n",
    "                            \"result\": result,\n",
    "                            \"hypothesis\": hypothesis})\n",
    "    \n",
    "    display(df_normality_test)"
   ]
  },
  {
   "cell_type": "markdown",
   "id": "5b27e6e4-d8ea-4933-8ec8-e27336e4cf89",
   "metadata": {
    "tags": []
   },
   "source": [
    "<div style=\"background-color: #506AB9;\" >\n",
    "    <h3 style=\"margin: auto; padding: 20px; color:#fff; \">2. Importing files</h3>\n",
    "</div>"
   ]
  },
  {
   "cell_type": "markdown",
   "id": "4678efea-65bf-428c-9891-3deae81aedbc",
   "metadata": {},
   "source": [
    "<div style=\"background-color: #6D83C5;\" >\n",
    "    <h4 style=\"margin: auto; padding: 20px; color:#fff; \">2.1. Importing and preparing files</h4>\n",
    "</div>"
   ]
  },
  {
   "cell_type": "markdown",
   "id": "3539bf64-6af9-4db5-bcef-878942f1d89b",
   "metadata": {},
   "source": [
    "<div class=\"alert alert-block alert-info\">\n",
    "    Based on the <b>official site of Seattle Open Data</b>, we can see the dataset <b>metadata</b> to know all features\n",
    "    \n",
    "    <ul style=\"list-style-type: square;\">\n",
    "        <li><b>2015: https://data.seattle.gov/dataset/2015-Building-Energy-Benchmarking/h7rm-fz6m</b></li>\n",
    "        <li><b>2016: https://data.seattle.gov/dataset/2016-Building-Energy-Benchmarking/2bpz-gwpy</b></li>\n",
    "    </ul>  \n",
    "    \n",
    "    On the other hand, we get the means of <b>Energy Star Score</b>\n",
    "    <ul style=\"list-style-type: square;\">\n",
    "        <li><b>Energy Star Score: https://www.energystar.gov/buildings/benchmark/analyze_benchmarking_results</b></li>\n",
    "    </ul>  \n",
    "</div>"
   ]
  },
  {
   "cell_type": "code",
   "execution_count": 3,
   "id": "93b7d446-bda1-48f2-8e1c-29ba1a359d00",
   "metadata": {},
   "outputs": [],
   "source": [
    "data_2015 = pd.read_csv(r\"datasets\\2015-building-energy-benchmarking.csv\")\n",
    "data_2016 = pd.read_csv(r\"datasets\\2016-building-energy-benchmarking.csv\")"
   ]
  },
  {
   "cell_type": "markdown",
   "id": "66ab6163-ecfe-4b38-a106-c5bdefab9e96",
   "metadata": {},
   "source": [
    "<div style=\"background-color: #6D83C5;\" >\n",
    "    <h4 style=\"margin: auto; padding: 20px; color:#fff; \">2.2. Initial analysis</h4>\n",
    "</div>"
   ]
  },
  {
   "cell_type": "markdown",
   "id": "bb2c9bcf-c986-490f-9ecc-1005ff0efdd2",
   "metadata": {},
   "source": [
    "<div class=\"alert alert-block alert-info\">\n",
    "Making <b>the initial analysis</b>\n",
    "</div>"
   ]
  },
  {
   "cell_type": "code",
   "execution_count": 4,
   "id": "da794e0d-7da2-4d7a-a1e5-830c2bb10e10",
   "metadata": {
    "tags": []
   },
   "outputs": [
    {
     "name": "stdout",
     "output_type": "stream",
     "text": [
      "\n",
      "Analysis of data_2015 dataset\n",
      "--------------------------------------------------------------------\n",
      "- Dataset shape:                  3340 rows and 47 columns\n",
      "- Total of NaN values:            26512\n",
      "- Percentage of NaN:              16.89 %\n",
      "- Total of full duplicates rows:  0\n",
      "- Total of empty rows:            0\n",
      "- Total of empty columns:         0\n",
      "- Unique indexes:                 True\n",
      "\n",
      "\n"
     ]
    }
   ],
   "source": [
    "df_analysis(data_2015, \"data_2015\", type_analysis=\"summarized\")"
   ]
  },
  {
   "cell_type": "code",
   "execution_count": 5,
   "id": "b1d8c24f-f985-438f-8db5-a80743f4c63d",
   "metadata": {
    "tags": []
   },
   "outputs": [
    {
     "name": "stdout",
     "output_type": "stream",
     "text": [
      "\n",
      "Analysis of data_2016 dataset\n",
      "--------------------------------------------------------------------\n",
      "- Dataset shape:                  3376 rows and 46 columns\n",
      "- Total of NaN values:            19952\n",
      "- Percentage of NaN:              12.85 %\n",
      "- Total of full duplicates rows:  0\n",
      "- Total of empty rows:            0\n",
      "- Total of empty columns:         1\n",
      "  + The empty column is:          ['Comments']\n",
      "- Unique indexes:                 True\n",
      "\n",
      "\n"
     ]
    }
   ],
   "source": [
    "df_analysis(data_2016, \"data_2016\", type_analysis=\"summarized\")"
   ]
  },
  {
   "cell_type": "markdown",
   "id": "d2772095-3e6c-45da-8d38-69cb125a3ec8",
   "metadata": {
    "tags": []
   },
   "source": [
    "<div style=\"background-color: #506AB9;\" >\n",
    "    <h3 style=\"margin: auto; padding: 20px; color:#fff; \">3. Cleaning</h3>\n",
    "</div>"
   ]
  },
  {
   "cell_type": "markdown",
   "id": "9d8c0f90-0612-4171-8517-357f7dd7cf7e",
   "metadata": {
    "tags": []
   },
   "source": [
    "<div style=\"background-color: #6D83C5;\" >\n",
    "    <h4 style=\"margin: auto; padding: 20px; color:#fff; \">3.1. Formatting columns</h4>\n",
    "</div>"
   ]
  },
  {
   "cell_type": "markdown",
   "id": "1fdeecc2-0156-4894-9590-a900f4b25af8",
   "metadata": {},
   "source": [
    "<div class=\"alert alert-block alert-info\">\n",
    "    We are going to <b>concatenate both datasets</b> and keeping only the <b>unique values</b>. But first, we must know deeply the datastes.\n",
    "</div>\n",
    "<div class=\"alert alert-block alert-info\">\n",
    "    Based on the <b>official site of Seattle Open Data</b>, we can <b>identify similar features</b> between datasets\n",
    "    \n",
    "     <ul style=\"list-style-type: square;\">\n",
    "        <li><b>GHGEmissions(MetricTonsCO2e)</b> in <b>data_2015</b> is the same feature as <b>TotalGHGEmissions</b> in <b>data_2016</b></li>\n",
    "        <li><b>GHGEmissionsIntensity(kgCO2e/ft2)</b> in <b>data_2015</b> is the same feature as <b>GHGEmissionsIntensity</b> in <b>data_2016</b></li>\n",
    "    </ul>\n",
    "    \n",
    "     On the other hands, we have the following\n",
    "    <ul style=\"list-style-type: square;\">\n",
    "        <li><b>Zip Codes</b> in <b>data_2015</b> is the same feature as <b>ZipCode</b> in <b>data_2016</b></li>\n",
    "    </ul>\n",
    "</div>"
   ]
  },
  {
   "cell_type": "code",
   "execution_count": 6,
   "id": "fff53e6a-824e-41c8-a377-b9647130f940",
   "metadata": {},
   "outputs": [],
   "source": [
    "data_2015[\"ZipCode\"] = data_2015[\"Zip Codes\"]\n",
    "data_2016[\"GHGEmissionsIntensity(kgCO2e/ft2)\"] = data_2016[\"GHGEmissionsIntensity\"]\n",
    "data_2016[\"GHGEmissions(MetricTonsCO2e)\"] = data_2016[\"TotalGHGEmissions\"]\n",
    "\n",
    "data_2015.drop(labels=[\"Zip Codes\"], axis=1, inplace=True)\n",
    "data_2016.drop(labels=[\"GHGEmissionsIntensity\", \"TotalGHGEmissions\"], axis=1, inplace=True)"
   ]
  },
  {
   "cell_type": "markdown",
   "id": "4b349ea5-d957-497b-be1b-90134d6fb74b",
   "metadata": {},
   "source": [
    "<div class=\"alert alert-block alert-info\">\n",
    "    Splitting the featured <b>Location</b> in <b>data_2015</b>\n",
    "</div>"
   ]
  },
  {
   "cell_type": "code",
   "execution_count": 7,
   "id": "3bba3f9d-7027-4d08-bea9-307cf9760861",
   "metadata": {},
   "outputs": [],
   "source": [
    "df_temp = data_2015[\"Location\"].apply(lambda x: ast.literal_eval(x))\n",
    "data_2015[[\"Latitude\", \"Longitude\", \"HumanAddress\"]] = df_temp.apply(pd.Series)"
   ]
  },
  {
   "cell_type": "markdown",
   "id": "4010f7fb-2ea2-496d-aaf1-e4c0562597b1",
   "metadata": {},
   "source": [
    "<div class=\"alert alert-block alert-info\">\n",
    "<b>Comparing</b> the match between columns <b>before</b> making the <b>concatenation</b>\n",
    "</div>"
   ]
  },
  {
   "cell_type": "code",
   "execution_count": 8,
   "id": "2a8ea74f-9c6e-44de-a0b7-43a8336a33fc",
   "metadata": {},
   "outputs": [
    {
     "data": {
      "text/html": [
       "<div>\n",
       "<style scoped>\n",
       "    .dataframe tbody tr th:only-of-type {\n",
       "        vertical-align: middle;\n",
       "    }\n",
       "\n",
       "    .dataframe tbody tr th {\n",
       "        vertical-align: top;\n",
       "    }\n",
       "\n",
       "    .dataframe thead th {\n",
       "        text-align: right;\n",
       "    }\n",
       "</style>\n",
       "<table border=\"1\" class=\"dataframe\">\n",
       "  <thead>\n",
       "    <tr style=\"text-align: right;\">\n",
       "      <th></th>\n",
       "      <th>column</th>\n",
       "      <th>origin</th>\n",
       "    </tr>\n",
       "  </thead>\n",
       "  <tbody>\n",
       "    <tr>\n",
       "      <th>3</th>\n",
       "      <td>2010 Census Tracts</td>\n",
       "      <td>data_2015</td>\n",
       "    </tr>\n",
       "    <tr>\n",
       "      <th>8</th>\n",
       "      <td>Address</td>\n",
       "      <td>data_2016</td>\n",
       "    </tr>\n",
       "    <tr>\n",
       "      <th>9</th>\n",
       "      <td>City</td>\n",
       "      <td>data_2016</td>\n",
       "    </tr>\n",
       "    <tr>\n",
       "      <th>5</th>\n",
       "      <td>City Council Districts</td>\n",
       "      <td>data_2015</td>\n",
       "    </tr>\n",
       "    <tr>\n",
       "      <th>2</th>\n",
       "      <td>Comment</td>\n",
       "      <td>data_2015</td>\n",
       "    </tr>\n",
       "    <tr>\n",
       "      <th>11</th>\n",
       "      <td>Comments</td>\n",
       "      <td>data_2016</td>\n",
       "    </tr>\n",
       "    <tr>\n",
       "      <th>7</th>\n",
       "      <td>HumanAddress</td>\n",
       "      <td>data_2015</td>\n",
       "    </tr>\n",
       "    <tr>\n",
       "      <th>0</th>\n",
       "      <td>Location</td>\n",
       "      <td>data_2015</td>\n",
       "    </tr>\n",
       "    <tr>\n",
       "      <th>1</th>\n",
       "      <td>OtherFuelUse(kBtu)</td>\n",
       "      <td>data_2015</td>\n",
       "    </tr>\n",
       "    <tr>\n",
       "      <th>6</th>\n",
       "      <td>SPD Beats</td>\n",
       "      <td>data_2015</td>\n",
       "    </tr>\n",
       "    <tr>\n",
       "      <th>4</th>\n",
       "      <td>Seattle Police Department Micro Community Poli...</td>\n",
       "      <td>data_2015</td>\n",
       "    </tr>\n",
       "    <tr>\n",
       "      <th>10</th>\n",
       "      <td>State</td>\n",
       "      <td>data_2016</td>\n",
       "    </tr>\n",
       "  </tbody>\n",
       "</table>\n",
       "</div>"
      ],
      "text/plain": [
       "                                               column     origin\n",
       "3                                  2010 Census Tracts  data_2015\n",
       "8                                             Address  data_2016\n",
       "9                                                City  data_2016\n",
       "5                              City Council Districts  data_2015\n",
       "2                                             Comment  data_2015\n",
       "11                                           Comments  data_2016\n",
       "7                                        HumanAddress  data_2015\n",
       "0                                            Location  data_2015\n",
       "1                                  OtherFuelUse(kBtu)  data_2015\n",
       "6                                           SPD Beats  data_2015\n",
       "4   Seattle Police Department Micro Community Poli...  data_2015\n",
       "10                                              State  data_2016"
      ]
     },
     "metadata": {},
     "output_type": "display_data"
    }
   ],
   "source": [
    "df_columns_not_matches = comparing_columns_df()"
   ]
  },
  {
   "cell_type": "markdown",
   "id": "01f4d598-8769-4a5a-bd28-1fd220fe6b3a",
   "metadata": {},
   "source": [
    "<div class=\"alert alert-block alert-success\">\n",
    "    At this point, we get all columns that do <b>not match between the datasets</b>. Most of them seem not to have <b>importance</b> unlike <b>OtherFuelUse(kBtu)</b>\n",
    "</div>"
   ]
  },
  {
   "cell_type": "markdown",
   "id": "7ca2d3e3-5e77-44f7-bcf5-ed9fa89b7345",
   "metadata": {},
   "source": [
    "<div class=\"alert alert-block alert-info\">\n",
    "    <b>Eliminate</b> the columns that do not matched between the two datasets because they are not interesting for the mission<br>\n",
    "    But, keeping the column <b>OtherFuelUse(kBtu)</b>\n",
    "</div>"
   ]
  },
  {
   "cell_type": "code",
   "execution_count": 9,
   "id": "4bd4f91f-80c8-4808-b334-042f2c515d8f",
   "metadata": {},
   "outputs": [],
   "source": [
    "COLUMNS_NOT_MACTCH_2015 = list(df_columns_not_matches.loc[(df_columns_not_matches[\"origin\"]==\"data_2015\") & (df_columns_not_matches[\"column\"]!=\"OtherFuelUse(kBtu)\"), \"column\"])\n",
    "COLUMNS_NOT_MACTCH_2016 = list(df_columns_not_matches.loc[df_columns_not_matches[\"origin\"]==\"data_2016\", \"column\"])"
   ]
  },
  {
   "cell_type": "code",
   "execution_count": 10,
   "id": "b6a975cd-2d9b-4a30-a139-3634ad0d0388",
   "metadata": {},
   "outputs": [],
   "source": [
    "data_2015.drop(labels=COLUMNS_NOT_MACTCH_2015, axis=1, inplace=True)\n",
    "data_2016.drop(labels=COLUMNS_NOT_MACTCH_2016, axis=1, inplace=True)"
   ]
  },
  {
   "cell_type": "code",
   "execution_count": 11,
   "id": "9c21a0e9-7855-45e1-8b9c-cb91224e5128",
   "metadata": {},
   "outputs": [
    {
     "data": {
      "text/html": [
       "<div>\n",
       "<style scoped>\n",
       "    .dataframe tbody tr th:only-of-type {\n",
       "        vertical-align: middle;\n",
       "    }\n",
       "\n",
       "    .dataframe tbody tr th {\n",
       "        vertical-align: top;\n",
       "    }\n",
       "\n",
       "    .dataframe thead th {\n",
       "        text-align: right;\n",
       "    }\n",
       "</style>\n",
       "<table border=\"1\" class=\"dataframe\">\n",
       "  <thead>\n",
       "    <tr style=\"text-align: right;\">\n",
       "      <th></th>\n",
       "      <th>column</th>\n",
       "      <th>origin</th>\n",
       "    </tr>\n",
       "  </thead>\n",
       "  <tbody>\n",
       "    <tr>\n",
       "      <th>0</th>\n",
       "      <td>OtherFuelUse(kBtu)</td>\n",
       "      <td>data_2015</td>\n",
       "    </tr>\n",
       "  </tbody>\n",
       "</table>\n",
       "</div>"
      ],
      "text/plain": [
       "               column     origin\n",
       "0  OtherFuelUse(kBtu)  data_2015"
      ]
     },
     "metadata": {},
     "output_type": "display_data"
    }
   ],
   "source": [
    "df_columns_not_matches = comparing_columns_df()"
   ]
  },
  {
   "cell_type": "markdown",
   "id": "88833336-28df-472c-ab8b-884c3d169af2",
   "metadata": {},
   "source": [
    "<div class=\"alert alert-block alert-info\">\n",
    "<b>Comparing</b> the types of each par of column <b>before</b> making the <b>concatenation</b>\n",
    "    \n",
    "</div>"
   ]
  },
  {
   "cell_type": "code",
   "execution_count": 12,
   "id": "717f4705-ad73-4604-9b9f-979a1d8e5d14",
   "metadata": {},
   "outputs": [],
   "source": [
    "data_2015 = data_2015.reindex(sorted(data_2015.columns), axis=1)\n",
    "data_2016 = data_2016.reindex(sorted(data_2016.columns), axis=1)"
   ]
  },
  {
   "cell_type": "code",
   "execution_count": 13,
   "id": "aed45413-a5aa-4df1-b0da-8d71fbddfdf7",
   "metadata": {},
   "outputs": [
    {
     "data": {
      "text/html": [
       "<div>\n",
       "<style scoped>\n",
       "    .dataframe tbody tr th:only-of-type {\n",
       "        vertical-align: middle;\n",
       "    }\n",
       "\n",
       "    .dataframe tbody tr th {\n",
       "        vertical-align: top;\n",
       "    }\n",
       "\n",
       "    .dataframe thead th {\n",
       "        text-align: right;\n",
       "    }\n",
       "</style>\n",
       "<table border=\"1\" class=\"dataframe\">\n",
       "  <thead>\n",
       "    <tr style=\"text-align: right;\">\n",
       "      <th></th>\n",
       "      <th>column</th>\n",
       "      <th>2015</th>\n",
       "      <th>2016</th>\n",
       "    </tr>\n",
       "  </thead>\n",
       "  <tbody>\n",
       "    <tr>\n",
       "      <th>0</th>\n",
       "      <td>DefaultData</td>\n",
       "      <td>object</td>\n",
       "      <td>bool</td>\n",
       "    </tr>\n",
       "    <tr>\n",
       "      <th>1</th>\n",
       "      <td>Latitude</td>\n",
       "      <td>object</td>\n",
       "      <td>float64</td>\n",
       "    </tr>\n",
       "    <tr>\n",
       "      <th>2</th>\n",
       "      <td>Longitude</td>\n",
       "      <td>object</td>\n",
       "      <td>float64</td>\n",
       "    </tr>\n",
       "    <tr>\n",
       "      <th>3</th>\n",
       "      <td>NumberofBuildings</td>\n",
       "      <td>int64</td>\n",
       "      <td>float64</td>\n",
       "    </tr>\n",
       "    <tr>\n",
       "      <th>4</th>\n",
       "      <td>NumberofFloors</td>\n",
       "      <td>float64</td>\n",
       "      <td>int64</td>\n",
       "    </tr>\n",
       "    <tr>\n",
       "      <th>5</th>\n",
       "      <td>ZipCode</td>\n",
       "      <td>int64</td>\n",
       "      <td>float64</td>\n",
       "    </tr>\n",
       "  </tbody>\n",
       "</table>\n",
       "</div>"
      ],
      "text/plain": [
       "              column     2015     2016\n",
       "0        DefaultData   object     bool\n",
       "1           Latitude   object  float64\n",
       "2          Longitude   object  float64\n",
       "3  NumberofBuildings    int64  float64\n",
       "4     NumberofFloors  float64    int64\n",
       "5            ZipCode    int64  float64"
      ]
     },
     "metadata": {},
     "output_type": "display_data"
    }
   ],
   "source": [
    "types_different()"
   ]
  },
  {
   "cell_type": "markdown",
   "id": "5d9151fc-ab89-4ce6-b7e0-b47a5f44b4dc",
   "metadata": {},
   "source": [
    "<div class=\"alert alert-block alert-info\">\n",
    "    <b>Fixing column types</b><br>\n",
    "</div>"
   ]
  },
  {
   "cell_type": "code",
   "execution_count": 15,
   "id": "04e88413-f7f1-4a12-ac66-46085996eb69",
   "metadata": {},
   "outputs": [
    {
     "data": {
      "text/html": [
       "<div>\n",
       "<style scoped>\n",
       "    .dataframe tbody tr th:only-of-type {\n",
       "        vertical-align: middle;\n",
       "    }\n",
       "\n",
       "    .dataframe tbody tr th {\n",
       "        vertical-align: top;\n",
       "    }\n",
       "\n",
       "    .dataframe thead th {\n",
       "        text-align: right;\n",
       "    }\n",
       "</style>\n",
       "<table border=\"1\" class=\"dataframe\">\n",
       "  <thead>\n",
       "    <tr style=\"text-align: right;\">\n",
       "      <th></th>\n",
       "      <th>column</th>\n",
       "      <th>2015</th>\n",
       "      <th>2016</th>\n",
       "    </tr>\n",
       "  </thead>\n",
       "  <tbody>\n",
       "  </tbody>\n",
       "</table>\n",
       "</div>"
      ],
      "text/plain": [
       "Empty DataFrame\n",
       "Columns: [column, 2015, 2016]\n",
       "Index: []"
      ]
     },
     "metadata": {},
     "output_type": "display_data"
    }
   ],
   "source": [
    "data_2015[\"DefaultData\"] = data_2015[\"DefaultData\"].astype(\"bool\")\n",
    "data_2015[\"Latitude\"] = data_2015[\"Latitude\"].astype(\"float64\")\n",
    "data_2015[\"Longitude\"] = data_2015[\"Longitude\"].astype(\"float64\")\n",
    "\n",
    "data_2016[\"NumberofBuildings\"] = data_2016[\"NumberofBuildings\"].fillna(0)\n",
    "data_2016[\"NumberofBuildings\"] = data_2016[\"NumberofBuildings\"].astype(\"int64\")\n",
    "\n",
    "data_2015[\"NumberofFloors\"] = data_2015[\"NumberofFloors\"].fillna(0)\n",
    "data_2015[\"NumberofFloors\"] = data_2015[\"NumberofFloors\"].astype(\"int64\")\n",
    "\n",
    "data_2016[\"ZipCode\"] = data_2016[\"ZipCode\"].fillna(0)\n",
    "data_2016[\"ZipCode\"] = data_2016[\"ZipCode\"].astype(\"int64\")\n",
    "\n",
    "types_different()"
   ]
  },
  {
   "cell_type": "markdown",
   "id": "bd72441f-4c5b-4ae3-9527-415efecc9abf",
   "metadata": {},
   "source": [
    "<div class=\"alert alert-block alert-danger\">\n",
    "    <b>Flag Position</b>\n",
    "</div>"
   ]
  },
  {
   "cell_type": "code",
   "execution_count": null,
   "id": "b1ad53c0-94d6-4d40-9ed8-da25f83214e8",
   "metadata": {},
   "outputs": [],
   "source": [
    "XXXXXXXXXXXXXX"
   ]
  },
  {
   "cell_type": "code",
   "execution_count": null,
   "id": "6ad56df9-700c-43ec-972e-9b70ceb8c3bd",
   "metadata": {},
   "outputs": [],
   "source": []
  },
  {
   "cell_type": "code",
   "execution_count": null,
   "id": "430046bf-1a99-417f-b4e3-38078dbe5a0c",
   "metadata": {},
   "outputs": [],
   "source": []
  },
  {
   "cell_type": "code",
   "execution_count": null,
   "id": "a3ce4112-7ad6-426b-a293-16ce327edc7f",
   "metadata": {},
   "outputs": [],
   "source": []
  },
  {
   "cell_type": "code",
   "execution_count": null,
   "id": "b8649b26-47f0-4634-b5f1-28a4c8071e79",
   "metadata": {},
   "outputs": [],
   "source": []
  },
  {
   "cell_type": "code",
   "execution_count": null,
   "id": "e6fe952c-4656-4a80-9c59-18bc1079f89d",
   "metadata": {},
   "outputs": [],
   "source": []
  },
  {
   "cell_type": "markdown",
   "id": "d6534057-7167-4c8a-a31f-d5b97ee13fed",
   "metadata": {},
   "source": [
    "<div class=\"alert alert-block alert-info\">\n",
    "    <b>Deleting</b> the columns over <b>80%</b> of <b>missing-values</b>\n",
    "</div>"
   ]
  },
  {
   "cell_type": "code",
   "execution_count": null,
   "id": "66847c1a-6dc2-4d50-9e4c-9ce5078c953d",
   "metadata": {},
   "outputs": [],
   "source": [
    "data_2015 = data_2015.loc[:, data_2015.isnull().mean() < .8]\n",
    "data_2016 = data_2016.loc[:, data_2016.isnull().mean() < .8]"
   ]
  },
  {
   "cell_type": "markdown",
   "id": "3d73dcbc-44cf-41b0-98e3-cca1286245fc",
   "metadata": {},
   "source": [
    "<div class=\"alert alert-block alert-info\">\n",
    "    <b>Concatenating</b> the datasets\n",
    "</div>"
   ]
  },
  {
   "cell_type": "code",
   "execution_count": null,
   "id": "4cdd960c-0ec1-4dc1-af0a-b47d81ddfcf3",
   "metadata": {},
   "outputs": [],
   "source": [
    "data = pd.concat([data_2015, data_2016], ignore_index=True).reset_index(drop=True)"
   ]
  },
  {
   "cell_type": "code",
   "execution_count": null,
   "id": "217f51df-5007-41c7-b3d2-de9444247dcc",
   "metadata": {},
   "outputs": [],
   "source": [
    "df_analysis(data, \"data\")"
   ]
  },
  {
   "cell_type": "code",
   "execution_count": null,
   "id": "15edf538-924f-4583-9bac-8406f10d43ea",
   "metadata": {},
   "outputs": [],
   "source": [
    "pd.set_option(\"display.max_rows\", None) # show full of showing rows\n",
    "pd.set_option(\"display.max_columns\", None) # show full of showing cols\n",
    "pd.set_option(\"max_colwidth\", None) # show full width of showing cols\n",
    "data.head(5)"
   ]
  },
  {
   "cell_type": "markdown",
   "id": "b48c5320-b29f-4bee-83e6-79041f21c022",
   "metadata": {
    "tags": []
   },
   "source": [
    "<div style=\"background-color: #6D83C5;\" >\n",
    "    <h4 style=\"margin: auto; padding: 20px; color:#fff; \">3.2. Identifying and formatting categorical columns</h4>\n",
    "</div>"
   ]
  },
  {
   "cell_type": "code",
   "execution_count": null,
   "id": "34ce478b-be17-4aeb-9f15-331bb12b1663",
   "metadata": {},
   "outputs": [],
   "source": [
    "data[list(set(data.columns) - set(data._get_numeric_data()))].head(10)"
   ]
  },
  {
   "cell_type": "code",
   "execution_count": null,
   "id": "3dbc39d5-8f25-488e-99f8-b60f455c487b",
   "metadata": {},
   "outputs": [],
   "source": [
    "for col in list(set(data.columns) - set(data._get_numeric_data())):\n",
    "    print(col)\n",
    "    display(data[col].unique())"
   ]
  },
  {
   "cell_type": "markdown",
   "id": "558ba13a-1612-4086-8482-eca46ba6480a",
   "metadata": {},
   "source": [
    "<div class=\"alert alert-block alert-info\">\n",
    "    <b>Cleaning</b> data in the features\n",
    "</div>"
   ]
  },
  {
   "cell_type": "code",
   "execution_count": null,
   "id": "9718c5d1-a27c-4380-a038-814de0b7e44b",
   "metadata": {},
   "outputs": [],
   "source": [
    "data[\"ComplianceStatus\"].replace(\"Non-Compliant\", \"Not Compliant\", inplace=True)\n",
    "data[\"ComplianceStatus\"].replace(\"Missing Data\", np.nan, inplace=True)\n",
    "data[\"ComplianceStatus\"].replace(\"Error - Correct Default Data\", np.nan, inplace=True)\n",
    "\n",
    "\n",
    "data[\"Neighborhood\"].replace(\"Ballard\", \"BALLARD\", inplace=True)\n",
    "data[\"Neighborhood\"].replace(\"Central\", \"CENTRAL\", inplace=True)\n",
    "data[\"Neighborhood\"].replace(\"North\", \"NORTH\", inplace=True)\n",
    "data[\"Neighborhood\"].replace(\"Delridge\", \"DELRIDGE\", inplace=True)\n",
    "data[\"Neighborhood\"].replace(\"DELRIDGE NEIGHBORHOODS\", \"DELRIDGE\", inplace=True)\n",
    "data[\"Neighborhood\"].replace(\"Northwest\", \"NORTHWEST\", inplace=True)\n",
    "\n",
    "\n",
    "data[\"PrimaryPropertyType\"].replace(\"Restaurant\\n\", \"Restaurant\", inplace=True)\n",
    "data[\"PrimaryPropertyType\"].replace(\"Self-Storage Facility\\n\", \"Self-Storage Facility\", inplace=True)\n",
    "data[\"PrimaryPropertyType\"].replace(\"Distribution Center\\n\", \"Distribution Center\", inplace=True)\n",
    "data[\"PrimaryPropertyType\"].replace(\"Small- and Mid-Sized Office\", \"Small and Mid-Sized Office\", inplace=True)\n",
    "data[\"PrimaryPropertyType\"].replace(\"Supermarket / Grocery Store\", \"Supermarket/Grocery Store\", inplace=True)"
   ]
  },
  {
   "cell_type": "markdown",
   "id": "ef3dcae4-c781-4f2e-9749-5e24325b8409",
   "metadata": {},
   "source": [
    "<div class=\"alert alert-block alert-info\">\n",
    "    <b>Changing</b> the type of data <b>Neighborhood</b>\n",
    "</div>"
   ]
  },
  {
   "cell_type": "code",
   "execution_count": null,
   "id": "f9f4fd56-278a-4bc1-966d-192b0840e918",
   "metadata": {},
   "outputs": [],
   "source": [
    "for col in list(set(data.columns) - set(data._get_numeric_data())):\n",
    "    data[col] = data[col].astype(\"category\")"
   ]
  },
  {
   "cell_type": "markdown",
   "id": "2eaa63d3-0781-497a-91e3-7639ec120108",
   "metadata": {
    "tags": []
   },
   "source": [
    "<div style=\"background-color: #6D83C5;\" >\n",
    "    <h4 style=\"margin: auto; padding: 20px; color:#fff; \">3.3. Filtering information</h4>\n",
    "</div>"
   ]
  },
  {
   "cell_type": "markdown",
   "id": "6957b553-7022-4ca6-83f2-d13defca4b9b",
   "metadata": {},
   "source": [
    "<div class=\"alert alert-block alert-info\">\n",
    "    Based on the mision, we are going to <b>filter</b> the <b>types of building</b> considering only \"non residential\" buildings\n",
    "</div>"
   ]
  },
  {
   "cell_type": "code",
   "execution_count": null,
   "id": "1327a792-e3eb-424d-9d57-9aa82e738caa",
   "metadata": {},
   "outputs": [],
   "source": [
    "data[\"BuildingType\"].unique()"
   ]
  },
  {
   "cell_type": "code",
   "execution_count": null,
   "id": "f1a07805-c940-4112-a876-4ab83ae98088",
   "metadata": {},
   "outputs": [],
   "source": [
    "data = pd.DataFrame(data[~data[\"BuildingType\"].str.contains(\"family\", case=False, na=False).any(level=0)])"
   ]
  },
  {
   "cell_type": "code",
   "execution_count": null,
   "id": "afc9ea47-8196-47ff-911f-a62ee181026f",
   "metadata": {
    "tags": []
   },
   "outputs": [],
   "source": [
    "data[\"BuildingType\"].unique()"
   ]
  },
  {
   "cell_type": "markdown",
   "id": "70b7f935-766a-4cbb-983a-6cc5cc636afb",
   "metadata": {},
   "source": [
    "<div class=\"alert alert-block alert-info\">\n",
    "    Based on the mision, we are going to <b>filter</b> the <b>PrimaryPropertyType</b> considering only \"non residential\" buildings\n",
    "</div>"
   ]
  },
  {
   "cell_type": "code",
   "execution_count": null,
   "id": "6881700b-5ce9-44c2-add0-00e187dcdf04",
   "metadata": {
    "tags": []
   },
   "outputs": [],
   "source": [
    "data = data[~data[\"PrimaryPropertyType\"].isin([\"Residence Hall\", \"Residence Hall/Dormitory\", \"Low-Rise Multifamily\"])]"
   ]
  },
  {
   "cell_type": "markdown",
   "id": "33555908-8a44-4c24-b830-4d3cf8f83fe5",
   "metadata": {},
   "source": [
    "<div class=\"alert alert-block alert-info\">\n",
    "    Groupinig by <b>PrimaryPropertyType</b> \n",
    "</div>"
   ]
  },
  {
   "cell_type": "code",
   "execution_count": null,
   "id": "63692258-8200-4c8b-aeec-d2f71a26c3e9",
   "metadata": {},
   "outputs": [],
   "source": [
    "PROPERTY_TYPE = data[\"PrimaryPropertyType\"].unique().to_list()\n",
    "PROPERTY_TYPE"
   ]
  },
  {
   "cell_type": "code",
   "execution_count": null,
   "id": "e295ff19-e32e-4a6f-82b9-29645db8a5b1",
   "metadata": {},
   "outputs": [],
   "source": [
    "RENAME_PROPERTY_TYPE = [\n",
    "    \"Hotel\", \"Other\", \"Store/Restaurant\", \"Education\", \"Education\", \"Office\", \"Warehouse\", \n",
    "    \"Warehouse\", \"Office\", \"Retail Store\", \"Health\", \"Office\", \"Health\", \"Warehouse\", \n",
    "    \"Education\", \"Other\",  \"Retail Store\", \"Other\", \"Refrigerated Warehouse\", \"Store/Restaurant\", \"Education\", \n",
    "    \"Warehouse\", \"Office\"  \n",
    "]"
   ]
  },
  {
   "cell_type": "code",
   "execution_count": null,
   "id": "f09409bd-d31b-4858-b51e-ce84759506bd",
   "metadata": {},
   "outputs": [],
   "source": [
    "df_property_type_rename = pd.DataFrame({\n",
    "    \"PrimaryPropertyType\" : PROPERTY_TYPE,\n",
    "    \"renamed_PrimaryPropertyType\" : RENAME_PROPERTY_TYPE\n",
    "})\n",
    "df_property_type_rename"
   ]
  },
  {
   "cell_type": "code",
   "execution_count": null,
   "id": "6d667d31-f2df-47bd-acf1-260b584b3047",
   "metadata": {},
   "outputs": [],
   "source": [
    "data = data.merge(right=df_property_type_rename[[\"PrimaryPropertyType\", \"renamed_PrimaryPropertyType\"]], on=\"PrimaryPropertyType\", how=\"left\")"
   ]
  },
  {
   "cell_type": "code",
   "execution_count": null,
   "id": "9e638041-032e-4d12-bf7d-1a3010dbf00c",
   "metadata": {},
   "outputs": [],
   "source": [
    "df_analysis(data, \"data\")"
   ]
  },
  {
   "cell_type": "markdown",
   "id": "4ade0950-b79d-499d-8792-a5c180c09e38",
   "metadata": {},
   "source": [
    "<div class=\"alert alert-block alert-success\">\n",
    "    At this point, we get a <b>dataset shape 3277 rows and 39</b>\n",
    "</div>"
   ]
  },
  {
   "cell_type": "code",
   "execution_count": null,
   "id": "c3289dda-92aa-4a49-a790-a751bedb7de9",
   "metadata": {},
   "outputs": [],
   "source": [
    "pd.set_option(\"display.max_rows\", None) # show full of showing rows\n",
    "pd.set_option(\"display.max_columns\", None) # show full of showing cols\n",
    "pd.set_option(\"max_colwidth\", None) # show full width of showing cols\n",
    "data.head(10)"
   ]
  },
  {
   "cell_type": "markdown",
   "id": "5b9c24a4-803c-41da-acf2-44d42f061ff0",
   "metadata": {
    "tags": []
   },
   "source": [
    "<div style=\"background-color: #6D83C5;\" >\n",
    "    <h4 style=\"margin: auto; padding: 20px; color:#fff; \">3.4. Selecting the features</h4>\n",
    "</div>"
   ]
  },
  {
   "cell_type": "markdown",
   "id": "07cd279f-8b1d-4e9c-966e-53f340d95705",
   "metadata": {},
   "source": [
    "<div class=\"alert alert-block alert-info\">\n",
    "    Based on the <b>official site of Seattle Open Data</b>, we can see the dataset <b>metadata</b> to know all features\n",
    "    \n",
    "    <ul style=\"list-style-type: square;\">\n",
    "        <li><b>2015: https://data.seattle.gov/dataset/2015-Building-Energy-Benchmarking/h7rm-fz6m</b></li>\n",
    "        <li><b>2016: https://data.seattle.gov/dataset/2016-Building-Energy-Benchmarking/2bpz-gwpy</b></li>\n",
    "    </ul>  \n",
    "    \n",
    "    On the other hand, we get the means of <b>Energy Star Score</b>\n",
    "    <ul style=\"list-style-type: square;\">\n",
    "        <li><b>Energy Star Score: https://www.energystar.gov/buildings/benchmark/analyze_benchmarking_results</b></li>\n",
    "    </ul>  \n",
    "       \n",
    "    The <b>target variables</b> are:\n",
    "    <ul style=\"list-style-type: square;\">\n",
    "        <li><b>SiteEnergyUse(kBtu):</b>The annual amount of energy consumed by the property from all sources of energy.</li>\n",
    "        <li><b>GHGEmissions(MetricTonsCO2e):</b>The total amount of greenhouse gas emissions, including carbon dioxide, methane, and nitrous oxide gases released into the atmosphere as a result of energy consumption at the property, measured in metric tons of carbon dioxide equivalent. This calculation uses a GHG emissions factor from Seattle CIty Light's portfolio of generating resources. This uses Seattle City Light's 2015 emissions factor of 52.44 lbs CO2e/MWh. Enwave steam factor = 170.17 lbs CO2e/MMBtu. Gas factor sourced from EPA Portfolio Manager = 53.11 kg CO2e/MBtu.</li>\n",
    "        <li><b>ENERGYSTARScore:</b>An EPA calculated 1-100 rating that assesses a property’s overall energy performance, based on national data to control for differences among climate, building uses, and operations. A score of 50 represents the national median.</li>\n",
    "    </ul>  \n",
    "</div>"
   ]
  },
  {
   "cell_type": "code",
   "execution_count": null,
   "id": "51fe4a9c-7d1d-4b66-be64-fa7ccef679ec",
   "metadata": {},
   "outputs": [],
   "source": [
    "TARGET_VARIABLES = [\n",
    "    \"SiteEnergyUse(kBtu)\", \"GHGEmissions(MetricTonsCO2e)\", \"ENERGYSTARScore\"\n",
    "]"
   ]
  },
  {
   "cell_type": "code",
   "execution_count": null,
   "id": "00dcd7e8-9f07-4e0b-82ee-83c2bbd0a9b2",
   "metadata": {},
   "outputs": [],
   "source": [
    "GENERAL_VARIABLES = [\n",
    "    \"OSEBuildingID\", \"DataYear\", \"PrimaryPropertyType\", \"renamed_PrimaryPropertyType\", \n",
    "    \"YearBuilt\", \"PropertyGFATotal\", \"NumberofFloors\", \"NumberofBuildings\", \n",
    "    \"ZipCode\", \"Neighborhood\", \n",
    "]"
   ]
  },
  {
   "cell_type": "code",
   "execution_count": null,
   "id": "fb4a9938-bb58-4815-a332-944acc853d06",
   "metadata": {
    "tags": []
   },
   "outputs": [],
   "source": [
    "OTHERS_VARIABLES = [\n",
    "    \"Electricity(kBtu)\", \"NaturalGas(kBtu)\", \"SiteEUI(kBtu/sf)\", \"SourceEUI(kBtu/sf)\", \"SteamUse(kBtu)\", \n",
    "]"
   ]
  },
  {
   "cell_type": "markdown",
   "id": "59323bf9-a48c-4ad9-8002-aa4be37308b3",
   "metadata": {},
   "source": [
    "<div class=\"alert alert-block alert-success\">\n",
    "    <b>df_bebcs: Building Energy Benchmarking City of Seattled</b>\n",
    "</div>"
   ]
  },
  {
   "cell_type": "code",
   "execution_count": null,
   "id": "4dd9bbe5-3574-48c0-a3d9-5291f7419617",
   "metadata": {},
   "outputs": [],
   "source": [
    "df_bebcs = data[GENERAL_VARIABLES + TARGET_VARIABLES + OTHERS_VARIABLES].copy()"
   ]
  },
  {
   "cell_type": "code",
   "execution_count": null,
   "id": "78eee89a-ac66-4fa6-a418-b400847ebbc9",
   "metadata": {},
   "outputs": [],
   "source": [
    "df_analysis(df_bebcs, \"df_bebcs\", type_analysis=\"complete\")"
   ]
  },
  {
   "cell_type": "markdown",
   "id": "925dcb87-c7c2-4919-854e-01a529e6f4f1",
   "metadata": {},
   "source": [
    "<div class=\"alert alert-block alert-success\">\n",
    "    <b>Hypothesis</b><br/>\n",
    "    At this point, we can notice the following:\n",
    "        \n",
    "    <ul style=\"list-style-type: square;\">\n",
    "        <li>There are some <b>negatives values</b></li>\n",
    "        <li>There are <b>NumberofBuildings</b> and <b>NumberofFloors</b> with <b>0</b></li>\n",
    "        <li>We can infer the age of the building if we work with the fields <b>YearBuilt</b> and <b>DataYear</b></li>\n",
    "    </ul>  \n",
    "    \n",
    "    Due to that, we are going to consider the following <b>hypothesis</b>. \n",
    "    <ul style=\"list-style-type: square;\">\n",
    "        <li>In <b>this case</b> it is not possible to have <b>negative values</b>. So, we are going to <b>format</b> all dataframe with <b>absolute values</b>.</li>\n",
    "        <li>There is not <b>NumberofBuildings</b> and <b>NumberofFloors</b> with value of <b>0</b>. So, we are going to <b>replace</b> these values <b>by 1</b></li>\n",
    "    </ul>     \n",
    "</div>\n",
    "\n",
    "<div class=\"alert alert-block alert-info\">\n",
    "    <b>Formatting</b> all dataframe with <b>absolute values</b>.\n",
    "</div>"
   ]
  },
  {
   "cell_type": "code",
   "execution_count": null,
   "id": "e7dde444-df39-4a1a-9c3a-39eabd2a4a24",
   "metadata": {},
   "outputs": [],
   "source": [
    "for col in set(df_bebcs._get_numeric_data()):\n",
    "    df_bebcs[col] = df_bebcs[col].abs()"
   ]
  },
  {
   "cell_type": "markdown",
   "id": "d656ca3a-93f1-4b84-bacd-df46fa6cc9ef",
   "metadata": {},
   "source": [
    "<div class=\"alert alert-block alert-info\">\n",
    "    <b>Replacing by 1</b>, value of 0 in <b>(NumberofBuildings = 0)</b> and <b>(NumberofFloors = 0)</b> \n",
    "</div>"
   ]
  },
  {
   "cell_type": "code",
   "execution_count": null,
   "id": "5aa360b3-cfdb-44c0-9847-ef9771c8b14f",
   "metadata": {
    "tags": []
   },
   "outputs": [],
   "source": [
    "df_bebcs.loc[df_bebcs[\"NumberofBuildings\"] == 0, \"NumberofBuildings\"] = 1\n",
    "df_bebcs.loc[df_bebcs[\"NumberofFloors\"] == 0, \"NumberofFloors\"] = 1"
   ]
  },
  {
   "cell_type": "markdown",
   "id": "45738db2-3adb-4982-986f-d449d975f17c",
   "metadata": {},
   "source": [
    "<div class=\"alert alert-block alert-info\">\n",
    "    Calculating the <b>building age</b> \n",
    "</div>"
   ]
  },
  {
   "cell_type": "code",
   "execution_count": null,
   "id": "6ea295d6-5be6-435a-8ff0-bededffbb5b0",
   "metadata": {},
   "outputs": [],
   "source": [
    "df_bebcs[\"BuildingAge\"] = df_bebcs[\"DataYear\"] - df_bebcs[\"YearBuilt\"]"
   ]
  },
  {
   "cell_type": "markdown",
   "id": "d395d9c7-f1e0-413f-9ead-13af444e6b88",
   "metadata": {
    "tags": []
   },
   "source": [
    "<div style=\"background-color: #506AB9;\" >\n",
    "    <h3 style=\"margin: auto; padding: 20px; color:#fff; \">4. Treating Outliers</h3>\n",
    "</div>"
   ]
  },
  {
   "cell_type": "markdown",
   "id": "830496ce-97e0-49dc-8054-7b0600722c22",
   "metadata": {},
   "source": [
    "<div class=\"alert alert-block alert-info\">\n",
    "    We are going to <b>treat </b> outliers only for variables <b>that are not targets</b>. Also, we are going to consider <b>PrimaryPropertyType</b> to treat the outliers.\n",
    "    <ul style=\"list-style-type: square;\">\n",
    "        <li><b>Electricity(kBtu)</b></li>\n",
    "        <li><b>NaturalGas(kBtu)</b></li>\n",
    "        <li><b>SiteEUI(kBtu/sf)</b></li>\n",
    "        <li><b>SourceEUI(kBtu/sf)</b></li>\n",
    "        <li><b>SteamUse(kBtu)</b></li>\n",
    "    </ul>  \n",
    "</div>"
   ]
  },
  {
   "cell_type": "markdown",
   "id": "ba723801-6dcd-4189-8ba9-f0ec20e9ce7c",
   "metadata": {
    "tags": []
   },
   "source": [
    "<div style=\"background-color: #6D83C5;\" >\n",
    "    <h4 style=\"margin: auto; padding: 20px; color:#fff; \">4.1. Treating Outliers with Z Score</h4>\n",
    "</div>"
   ]
  },
  {
   "cell_type": "markdown",
   "id": "573f7d77-7345-4cb0-a725-2a7650380af4",
   "metadata": {},
   "source": [
    "<div class=\"alert alert-block alert-info\">\n",
    "    Deleting <b>outliers</b> with <b>Z Score</b>\n",
    "</div>"
   ]
  },
  {
   "cell_type": "code",
   "execution_count": null,
   "id": "1c74676f-b01c-462e-940b-2ce89781041b",
   "metadata": {
    "tags": []
   },
   "outputs": [],
   "source": [
    "df_without_outliers = pd.DataFrame()\n",
    "\n",
    "# List de features to excluded because they don't need to be treated cause they are targets or general information\n",
    "LIST_FEATURES_TO_BE_EXCLUDED = GENERAL_VARIABLES + TARGET_VARIABLES + [\"BuildingAge\"]\n",
    "\n",
    "for property_type in df_bebcs[\"PrimaryPropertyType\"].unique():\n",
    "    \n",
    "    # for each property type, we are going to define the max and min threshold to replace outliers\n",
    "    df_temp_outliers = df_bebcs[df_bebcs[\"PrimaryPropertyType\"] == property_type].copy()\n",
    "    \n",
    "    for col in set(df_temp_outliers._get_numeric_data()):\n",
    "        \n",
    "        if col not in LIST_FEATURES_TO_BE_EXCLUDED:\n",
    "            # Defining the Z Score\n",
    "            df_temp_outliers[col + \"_zscore\"] = (df_temp_outliers[col] - df_temp_outliers[col].mean()) / df_temp_outliers[col].std()\n",
    "            df_temp_outliers.loc[(df_temp_outliers[col + \"_zscore\"] > 3) | (df_temp_outliers[col + \"_zscore\"] < -3), col] = np.nan\n",
    "\n",
    "            del df_temp_outliers[col + \"_zscore\"]\n",
    "        \n",
    "    df_without_outliers = pd.concat([df_without_outliers, df_temp_outliers])"
   ]
  },
  {
   "cell_type": "code",
   "execution_count": null,
   "id": "13451155-5ec6-4e1a-88c2-dd0c8a8d5f41",
   "metadata": {},
   "outputs": [],
   "source": [
    "df_analysis(df_without_outliers, \"df_without_outliers\", type_analysis=\"complete\")"
   ]
  },
  {
   "cell_type": "markdown",
   "id": "9717ffc1-a51f-4695-a4ac-c2e9cae692a2",
   "metadata": {
    "tags": []
   },
   "source": [
    "<div style=\"background-color: #6D83C5;\" >\n",
    "    <h4 style=\"margin: auto; padding: 20px; color:#fff; \">4.2. Comparison of Outliers treatment</h4>\n",
    "</div>"
   ]
  },
  {
   "cell_type": "markdown",
   "id": "c33a4897-71bc-4388-967e-af52860c6044",
   "metadata": {},
   "source": [
    "<div class=\"alert alert-block alert-info\">\n",
    "    Identifying the <b>PrimaryPropertyType</b> with more records to plot the comparison with <b>Z Score result</b>\n",
    "</div>"
   ]
  },
  {
   "cell_type": "code",
   "execution_count": null,
   "id": "ee2969c0-8958-4770-b1d9-d3d571d041e1",
   "metadata": {},
   "outputs": [],
   "source": [
    "df_bebcs.groupby(\"renamed_PrimaryPropertyType\")[\"OSEBuildingID\"].count().sort_values(ascending=False).head(3)"
   ]
  },
  {
   "cell_type": "markdown",
   "id": "9632b16e-fa28-4d9f-86a7-aef859267f38",
   "metadata": {},
   "source": [
    "<div class=\"alert alert-block alert-info\">\n",
    "    <b>Plotting</b> the comparison between data before and after treating <b>outliers</b> with <b>Z Score</b>\n",
    "</div>"
   ]
  },
  {
   "cell_type": "code",
   "execution_count": null,
   "id": "a0692423-86ff-4946-81d1-901929d5661e",
   "metadata": {},
   "outputs": [],
   "source": [
    "LIST_FEATURES_TO_PLOTT = [\"Electricity(kBtu)\", \"NaturalGas(kBtu)\"]\n",
    "property_type = \"Large Office\"\n",
    "\n",
    "df_temp = df_bebcs[df_bebcs[\"PrimaryPropertyType\"] == property_type].copy()\n",
    "df_temp_by_zscore = df_without_outliers[df_without_outliers[\"PrimaryPropertyType\"] == property_type].copy()\n",
    "\n",
    "for col in LIST_FEATURES_TO_PLOTT:\n",
    "\n",
    "    # Creating a figure composed of two matplotlib.Axes objects (ax_box and ax_hist)\n",
    "    fig, ((ax_box, ax_box_zscore), (ax_hist, ax_hist_zscore)) = \\\n",
    "                                                        plt.subplots(nrows=2, ncols=2, figsize=[14,8], sharex=True, gridspec_kw={\"height_ratios\": (.15, .85)})\n",
    "\n",
    "    # Title for the complete RR078466118RUfigure\n",
    "    fig.suptitle((col.capitalize() + \" in \" + property_type), fontsize=\"x-large\", fontweight=\"bold\", size=20)\n",
    "\n",
    "    # Assigning a graph to each ax\n",
    "    ax_box.title.set_text(\"Before treating outliers\")\n",
    "    ax_box_zscore.title.set_text(\"After zscore\")\n",
    "\n",
    "    sns.boxplot(data=df_temp, x=col, ax=ax_box)\n",
    "    sns.boxplot(data=df_temp_by_zscore, x=col, ax=ax_box_zscore)\n",
    "\n",
    "    sns.histplot(data=df_temp, x=col, kde=True, ax=ax_hist)\n",
    "    sns.histplot(data=df_temp_by_zscore, x=col, kde=True, ax=ax_hist_zscore)\n",
    "\n",
    "    # Remove x axis name for the boxplot\n",
    "    ax_box.set(xlabel=\"\")\n",
    "    ax_box.set(yticks=[])\n",
    "    ax_box_zscore.set(xlabel=\"\")\n",
    "    ax_box_zscore.set(yticks=[])\n",
    "\n",
    "    plt.tight_layout()\n",
    "    plt.savefig(\"img/outliers-\" + (col[0:-5].capitalize()) + \"-in-\" + property_type + \".png\")\n",
    "    sns.despine(fig)"
   ]
  },
  {
   "cell_type": "markdown",
   "id": "36dbb2a4-e52c-4fad-b184-f7bfae2ece81",
   "metadata": {},
   "source": [
    "<div class=\"alert alert-block alert-success\">\n",
    "    Both percentiles and distributions appear similar\n",
    "</div>"
   ]
  },
  {
   "cell_type": "markdown",
   "id": "42ae273a-09f2-4206-94ab-fd4fd12c9d41",
   "metadata": {
    "tags": []
   },
   "source": [
    "<div style=\"background-color: #506AB9;\" >\n",
    "    <h3 style=\"margin: auto; padding: 20px; color:#fff; \">5. Exploratory Data Analysis</h3>\n",
    "</div>\n",
    "<br>\n",
    "<div class=\"alert alert-block alert-info\">\n",
    "    We are just going to make an <b>Exploraty Data Analysis</b> based on the following<b>target variables</b>\n",
    "    <ul style=\"list-style-type: square;\">\n",
    "        <li><b>SiteEnergyUse(kBtu)</b></li>\n",
    "        <li><b>GHGEmissions(MetricTonsCO2e)</b></li>\n",
    "    </ul>  \n",
    "</div>"
   ]
  },
  {
   "cell_type": "code",
   "execution_count": null,
   "id": "05883900-13d6-4c5f-a0e5-d01cb036784b",
   "metadata": {},
   "outputs": [],
   "source": [
    "df_analysis(df_without_outliers, \"df_without_outliers\", type_analysis=\"complete\")"
   ]
  },
  {
   "cell_type": "markdown",
   "id": "df4cdecd-73eb-4582-81d5-efa17fbca6b9",
   "metadata": {
    "tags": []
   },
   "source": [
    "<div style=\"background-color: #6D83C5;\" >\n",
    "    <h4 style=\"margin: auto; padding: 20px; color:#fff; \">5.1. Initial analysis</h4>\n",
    "</div>"
   ]
  },
  {
   "cell_type": "markdown",
   "id": "291e52c5-2ef9-484e-810f-c46c3b0210dc",
   "metadata": {
    "tags": []
   },
   "source": [
    "<div style=\"background-color: #6D83C5;\" >\n",
    "    <h5 style=\"margin: auto; padding: 20px; color:#fff; \">5.1.1 Primary Property type distribution</h5>\n",
    "</div>"
   ]
  },
  {
   "cell_type": "code",
   "execution_count": null,
   "id": "0f9f3d1c-cd21-42c5-9d3c-ca1b18be3797",
   "metadata": {
    "tags": []
   },
   "outputs": [],
   "source": [
    "data_piechart = df_without_outliers[\"renamed_PrimaryPropertyType\"].sort_values(ascending=False).value_counts().values\n",
    "labels_piechart = df_without_outliers[\"renamed_PrimaryPropertyType\"].sort_values(ascending=False).value_counts().index.tolist()\n",
    "textprops = dict(size=16, color=\"gray\")\n",
    "colors = [\"#5975A4\", \"#CC8963\", \"#5F9E6E\", \"#AD5B5E\", \"#857AAB\", \"#7D6D5F\", \"#D095BF\", \"#EAEAF2\", \"#C1B37F\"]\n",
    "explode = (0, 0, 0, 0, 0, 0, 0, 0, 0)"
   ]
  },
  {
   "cell_type": "code",
   "execution_count": null,
   "id": "801f70ed-68d0-4386-bb96-4a5b7e22c91c",
   "metadata": {},
   "outputs": [],
   "source": [
    "fig, (ax1, ax2) = plt.subplots(nrows=1, ncols=2, figsize=[15,8])\n",
    "\n",
    "fig.suptitle(\"Primary Property type distribution\", size=25)\n",
    "\n",
    "for lb, data, color in zip(labels_piechart, data_piechart, colors):\n",
    "    ax2.bar(lb, data, label=lb, color=color)\n",
    "for index, data in enumerate(data_piechart):\n",
    "    plt.text(x=index, y=data+1 , s=f\"{data}\", horizontalalignment=\"center\", fontdict=dict(fontsize=16, color=\"gray\"))\n",
    "ax2.set_title(\"by quantity (#)\", fontsize=14)\n",
    "ax2.axis('off')\n",
    "\n",
    "ax1.pie(x=data_piechart, explode=explode, autopct=\"%1.1f%%\", pctdistance=1.10, \n",
    "        textprops=textprops, colors=[color for color in colors], startangle=0)\n",
    "ax1.set_title(\"by percentage (%)\", fontsize=14)\n",
    "\n",
    "fig.legend(labels_piechart, loc=\"center\", ncol=5, fontsize=14, bbox_to_anchor=(0.5, -0.05), fancybox=True, shadow=True)\n",
    "\n",
    "plt.tight_layout()\n",
    "plt.savefig(\"img/primary-property-type-distribution.png\")\n",
    "plt.show()"
   ]
  },
  {
   "cell_type": "markdown",
   "id": "d2faa413-f904-4e3b-a355-0f4fee522379",
   "metadata": {
    "tags": []
   },
   "source": [
    "<div style=\"background-color: #6D83C5;\" >\n",
    "    <h5 style=\"margin: auto; padding: 20px; color:#fff; \">5.1.2  Comparison of the targets variables in each Property type</h5>\n",
    "</div>"
   ]
  },
  {
   "cell_type": "code",
   "execution_count": null,
   "id": "a6d317f4-02bb-4642-8cd1-424f99a67dcb",
   "metadata": {
    "tags": []
   },
   "outputs": [],
   "source": [
    "for var in TARGET_VARIABLES:\n",
    "    if var != \"ENERGYSTARScore\":\n",
    "        plt.figure(figsize=[12,10])\n",
    "        sns.boxplot(x=df_without_outliers[var], y=df_without_outliers[\"renamed_PrimaryPropertyType\"], orient=\"h\", showmeans=True, \n",
    "                    meanprops={\"markerfacecolor\":\"white\", \"markeredgecolor\":\"blue\"})\n",
    "        plt.title(var + \" in all categories\", size=20)\n",
    "        plt.ylabel(\"Property Type\", size=14)\n",
    "        plt.xlabel(\"Quantity of \" + var, size=14)\n",
    "        plt.tight_layout()\n",
    "        plt.savefig(\"img/comparison-of-\" + var + \"-in-each-category.png\")\n",
    "        plt.show()"
   ]
  },
  {
   "cell_type": "markdown",
   "id": "396b95fd-ae27-475e-b7c7-429701bdce9d",
   "metadata": {},
   "source": [
    "<div class=\"alert alert-block alert-success\">\n",
    "    <b>Observations / Conclusions</b><br/><br/>\n",
    "    Building related to <b>Health</b> have a high <b>SiteEnergyUse(kBtu)</b> and <b>GHGEmissions(MetricTonsCO2e)</b>\n",
    "</div>"
   ]
  },
  {
   "cell_type": "markdown",
   "id": "2dbb6aa5-31a6-455c-8a74-0ece2182fcb4",
   "metadata": {
    "tags": []
   },
   "source": [
    "<div style=\"background-color: #6D83C5;\" >\n",
    "    <h5 style=\"margin: auto; padding: 20px; color:#fff; \">5.1.3  Comparison by Years</h5>\n",
    "</div>"
   ]
  },
  {
   "cell_type": "code",
   "execution_count": null,
   "id": "05c5d929-213f-46e9-962a-b38c7d28f17b",
   "metadata": {},
   "outputs": [],
   "source": [
    "fig, ax1 = plt.subplots(figsize=(20, 10))\n",
    "sns.barplot(x=\"renamed_PrimaryPropertyType\", \n",
    "            y=\"SiteEnergyUse(kBtu)\", \n",
    "            hue=\"DataYear\", \n",
    "            data=df_without_outliers)\n",
    "plt.legend(bbox_to_anchor=(1.004, 1), borderaxespad=0, title=\"Years\")\n",
    "plt.ylabel(\"Site Energy Use (kBtu)\", size=14)\n",
    "plt.xlabel(\"Property Type\", size=14)\n",
    "plt.title(\"Site Energy Use by year in each property type\", size=18)\n",
    "plt.savefig(\"img\\grouped-SiteEnergyUse-by-year.png\")"
   ]
  },
  {
   "cell_type": "code",
   "execution_count": null,
   "id": "50a65596-6cc3-4aea-8741-20b46679025c",
   "metadata": {},
   "outputs": [],
   "source": [
    "fig, ax1 = plt.subplots(figsize=(20, 10))\n",
    "sns.barplot(x=\"renamed_PrimaryPropertyType\", \n",
    "            y=\"GHGEmissions(MetricTonsCO2e)\", \n",
    "            hue=\"DataYear\", \n",
    "            data=df_without_outliers)\n",
    "plt.legend(bbox_to_anchor=(1.004, 1), borderaxespad=0, title=\"Years\")\n",
    "plt.ylabel(\"Total GHG Emissions (MetricTonsCO2e)\", size=14)\n",
    "plt.xlabel(\"Property Type\", size=14)\n",
    "plt.title(\"Total GHG Emissions by year in each property type\", size=18)\n",
    "plt.savefig(\"img\\grouped-GHGEmissions-by-year.png\")"
   ]
  },
  {
   "cell_type": "markdown",
   "id": "8dfb4907-d38d-4cc7-a956-65f83ab525e6",
   "metadata": {},
   "source": [
    "<div class=\"alert alert-block alert-success\">\n",
    "    <b>Observations / Conclusions</b><br/><br/>\n",
    "    Building related to <b>Health</b> have a high <b>SiteEnergyUse(kBtu)</b> and <b>GHGEmissions(MetricTonsCO2e)</b>\n",
    "</div>"
   ]
  },
  {
   "cell_type": "markdown",
   "id": "e8b3a6fc-9614-443e-9748-95f25ae8b5cb",
   "metadata": {
    "tags": []
   },
   "source": [
    "<div style=\"background-color: #6D83C5;\" >\n",
    "    <h4 style=\"margin: auto; padding: 20px; color:#fff; \">5.2. Univariate analysis</h4>\n",
    "</div>\n",
    "<br>\n",
    "<div class=\"alert alert-block alert-info\">\n",
    "    We are are going to plot the <b>not missing-values</b> of the following target values\n",
    "    <ul style=\"list-style-type: square;\">\n",
    "        <li><b>SiteEnergyUse(kBtu)</b></li>\n",
    "        <li><b>GHGEmissions(MetricTonsCO2e)</b></li>\n",
    "    </ul>  \n",
    "</div>"
   ]
  },
  {
   "cell_type": "code",
   "execution_count": null,
   "id": "0c416c73-f891-451c-ae57-619a41fbe1a2",
   "metadata": {},
   "outputs": [],
   "source": [
    "# Filtering by non missing-values to can plot the QQplot\n",
    "df_temp = pd.DataFrame(df_without_outliers[df_without_outliers[[\"SiteEnergyUse(kBtu)\", \"GHGEmissions(MetricTonsCO2e)\"]].notnull().all(axis=1)])\n",
    "        \n",
    "for var in TARGET_VARIABLES:\n",
    "    \n",
    "    if var != \"ENERGYSTARScore\":\n",
    "\n",
    "        fig = plt.figure(constrained_layout=True, figsize=[15,7])\n",
    "        fig.suptitle(var, size=25, fontweight=\"bold\", y=1.05)\n",
    "        spec = fig.add_gridspec(nrows=2, ncols=2, width_ratios=[1, 1], height_ratios=[1, 5])\n",
    "\n",
    "        ax_box = fig.add_subplot(spec[0, 0])\n",
    "        ax_hist = fig.add_subplot(spec[1, 0])\n",
    "        ax_qqplot = fig.add_subplot(spec[:, 1])\n",
    "\n",
    "        # Boxplot\n",
    "        boxplot = sns.boxplot(data=df_temp, x=df_temp[var], showmeans=True, ax=ax_box,\n",
    "                              meanprops={\"markerfacecolor\":\"white\", \"markeredgecolor\":\"blue\"})\n",
    "        ax_box.set(xlabel=\"\", xticks=[])\n",
    "        ax_box.set(yticks=[])\n",
    "        boxplot.set_title(\"\")\n",
    "\n",
    "        # Histplot\n",
    "        sns.histplot(data=df_temp, x=df_temp[var], bins=75,  kde=True,  ax=ax_hist)\n",
    "        if var == \"SiteEnergyUse(kBtu)\":\n",
    "            ax_hist.set(xlabel=\"kBtu\")\n",
    "        else:\n",
    "            ax_hist.set(xlabel=\"MetricTonsCO2e\")\n",
    "\n",
    "        # QQplot\n",
    "        qqplot(df_temp[var], line='s', ax=ax_qqplot)\n",
    "\n",
    "        plt.savefig(\"img/qqplot-of-\" + var + \".png\")\n",
    "        plt.show()\n",
    "\n",
    "        print(\"\\nMaking the Normality Test\")\n",
    "        print(\"---------------------------------\")\n",
    "        normality_test(df_temp[[var]])\n",
    "        print(\"\\n\")"
   ]
  },
  {
   "cell_type": "code",
   "execution_count": null,
   "id": "e33eb1b8-be63-4dac-93e1-f9c7abefdb22",
   "metadata": {
    "tags": []
   },
   "outputs": [],
   "source": [
    "pd.reset_option(\"display.max_colwidth\") # reset width of showing cols"
   ]
  },
  {
   "cell_type": "markdown",
   "id": "d73a8046-558d-4817-acea-7b89a1718a3b",
   "metadata": {},
   "source": [
    "<div class=\"alert alert-block alert-success\">\n",
    "    <b>Observations / Conclusions</b>\n",
    "    <ul style=\"list-style-type: square;\">\n",
    "        <li><b>SiteEnergyUse(kBtu)</b> and <b>GHGEmissions(MetricTonsCO2e)</b> do not have a <b>Normal distribution</b></li>\n",
    "        <li>Based on the distribution plot, we notice that <b>all values are very close</b> what remains to be a problem</li>\n",
    "    </ul>  \n",
    "</div>"
   ]
  },
  {
   "cell_type": "markdown",
   "id": "0704a158-50a6-4b9d-9c9f-1fe8c9c938b1",
   "metadata": {
    "tags": []
   },
   "source": [
    "<div style=\"background-color: #6D83C5;\" >\n",
    "    <h5 style=\"margin: auto; padding: 20px; color:#fff; \">5.2.1 Log Normalization target variables</h5>\n",
    "</div>\n",
    "<br>\n",
    "<div class=\"alert alert-block alert-info\">\n",
    "    Based on the <b>Univariate analysis</b> where we note that <b>SiteEnergyUse(kBtu)</b> and <b>GHGEmissions(MetricTonsCO2e)</b> do not have a <b>Normal distribution</b>\n",
    "    and <b>all their values are very close</b> so, we are going to aplly the <b>Natural Logarithmic transformation</b> in these variables to get a <b>better Normal distribution</b> \n",
    "    of these values\n",
    "</div>"
   ]
  },
  {
   "cell_type": "code",
   "execution_count": null,
   "id": "d5cee8f3-8d84-4c85-8ea9-4b498f8e0cd2",
   "metadata": {},
   "outputs": [],
   "source": [
    "df_bebcs_log = df_without_outliers.copy()"
   ]
  },
  {
   "cell_type": "markdown",
   "id": "9c088270-5337-49b7-baa1-8381a765eec5",
   "metadata": {
    "tags": []
   },
   "source": [
    "<div class=\"alert alert-block alert-info\">\n",
    "    <b>To avoid missing-values</b>, we are going to apply <b>np.log(variable + 1)</b>\n",
    "</div>"
   ]
  },
  {
   "cell_type": "code",
   "execution_count": null,
   "id": "3a7c9ce0-224b-4c22-aef3-e469a4fe9eba",
   "metadata": {},
   "outputs": [],
   "source": [
    "df_bebcs_log[\"SiteEnergyUse(kBtu)_log\"] = np.log(df_bebcs_log[\"SiteEnergyUse(kBtu)\"] + 1)\n",
    "df_bebcs_log[\"GHGEmissions(MetricTonsCO2e)_log\"] = np.log(df_bebcs_log[\"GHGEmissions(MetricTonsCO2e)\"] + 1)"
   ]
  },
  {
   "cell_type": "code",
   "execution_count": null,
   "id": "453f2051-3087-4e91-b7ee-82154a32ba6c",
   "metadata": {},
   "outputs": [],
   "source": [
    "# Filtering by non missing-values to can plot the QQplot\n",
    "df_temp = pd.DataFrame(df_bebcs_log[df_bebcs_log[[\"SiteEnergyUse(kBtu)\", \"SiteEnergyUse(kBtu)_log\", \"GHGEmissions(MetricTonsCO2e)\", \"GHGEmissions(MetricTonsCO2e)_log\"]].notnull().all(axis=1)])\n",
    "        \n",
    "for var in [\"SiteEnergyUse(kBtu)\", \"SiteEnergyUse(kBtu)_log\", \"GHGEmissions(MetricTonsCO2e)\", \"GHGEmissions(MetricTonsCO2e)_log\"]:\n",
    "    \n",
    "    fig = plt.figure(constrained_layout=True, figsize=[14,7])\n",
    "    fig.suptitle(var, size=25, fontweight=\"bold\", y=1.05)\n",
    "    spec = fig.add_gridspec(nrows=2, ncols=2, width_ratios=[1, 1], height_ratios=[1, 5])\n",
    "\n",
    "    ax_box = fig.add_subplot(spec[0, 0])\n",
    "    ax_hist = fig.add_subplot(spec[1, 0])\n",
    "    ax_qqplot = fig.add_subplot(spec[:, 1])\n",
    "\n",
    "    # Boxplot\n",
    "    boxplot = sns.boxplot(data=df_temp, x=df_temp[var], showmeans=True, ax=ax_box,\n",
    "                          meanprops={\"markerfacecolor\":\"white\", \"markeredgecolor\":\"blue\"})\n",
    "    ax_box.set(xlabel=\"\", xticks=[])\n",
    "    ax_box.set(yticks=[])\n",
    "    boxplot.set_title(\"\")\n",
    "\n",
    "    # Histplot\n",
    "    sns.histplot(data=df_temp, x=df_temp[var], bins=75,  kde=True,  ax=ax_hist)\n",
    "    if \"SiteEnergyUse\" in var:\n",
    "        ax_hist.set(xlabel=\"kBtu\")\n",
    "    else:\n",
    "        ax_hist.set(xlabel=\"MetricTonsCO2e\")\n",
    "\n",
    "    # QQplot\n",
    "    qqplot(df_temp[var], line='s', ax=ax_qqplot)\n",
    "\n",
    "    plt.savefig(\"img/qqplot-of-\" + var + \".png\")\n",
    "    plt.show()\n",
    "\n",
    "    print(\"\\nMaking the Normality Test\")\n",
    "    print(\"---------------------------------\")\n",
    "    normality_test(df_temp[[var]])\n",
    "    print(\"\\n\")"
   ]
  },
  {
   "cell_type": "markdown",
   "id": "d0d68d5e-1742-487f-b7b7-de4421e1e2fd",
   "metadata": {
    "tags": []
   },
   "source": [
    "<div style=\"background-color: #6D83C5;\" >\n",
    "    <h4 style=\"margin: auto; padding: 20px; color:#fff; \">5.3 Multivariate Analysis</h4>\n",
    "</div>\n",
    "<br>\n",
    "<div style=\"background-color: #6D83C5;\" >\n",
    "    <h5 style=\"margin: auto; padding: 20px; color:#fff; \">5.3.1 Correlation Matrix</h5>\n",
    "</div>"
   ]
  },
  {
   "cell_type": "code",
   "execution_count": null,
   "id": "00ae1c20-a92a-4724-a557-31f51b07d90e",
   "metadata": {},
   "outputs": [],
   "source": []
  },
  {
   "cell_type": "code",
   "execution_count": null,
   "id": "182a0b06-0389-4358-be4f-133053495a3c",
   "metadata": {},
   "outputs": [],
   "source": [
    "df_analysis(df_bebcs_log, \"df_bebcs_log\", type_analysis=\"complete\")"
   ]
  },
  {
   "cell_type": "code",
   "execution_count": null,
   "id": "6ad6a712-5c9b-4e72-982c-8f1382845f19",
   "metadata": {},
   "outputs": [],
   "source": [
    "df_correlation_matrix = pd.DataFrame(df_bebcs_log.corr()).round(2)"
   ]
  },
  {
   "cell_type": "code",
   "execution_count": null,
   "id": "122c089e-4892-47b8-9e22-f31c0376df30",
   "metadata": {},
   "outputs": [],
   "source": [
    "mask = np.zeros_like(df_correlation_matrix, dtype=bool)\n",
    "mask[np.triu_indices_from(mask)] = True "
   ]
  },
  {
   "cell_type": "code",
   "execution_count": null,
   "id": "d76931a9-b018-4cd0-89dc-beea01d79e45",
   "metadata": {},
   "outputs": [],
   "source": [
    "plt.figure(figsize=(16,6))\n",
    "plt.title(\"Pearson correlation between all features\", size=20)\n",
    "\n",
    "ax = sns.heatmap(df_correlation_matrix, mask=mask, vmin=-1, cmap=\"mako_r\",\n",
    "                annot=True, annot_kws={\"size\": 14})\n",
    "\n",
    "plt.xticks(rotation=25, size=14, horizontalalignment=\"right\")\n",
    "plt.yticks(rotation=0, size=14)\n",
    "plt.tight_layout()\n",
    "plt.savefig(\"img/pearson-correlation-between-features.png\")\n",
    "plt.show()"
   ]
  },
  {
   "cell_type": "markdown",
   "id": "76e42a9a-774f-4d43-bcf9-f3e7295c4529",
   "metadata": {},
   "source": [
    "<div class=\"alert alert-block alert-success\">\n",
    "    <b>Observations / Conclusions</b>\n",
    "    \n",
    "        <ul style=\"list-style-type: square;\">\n",
    "            <li><b>Energy-kcal_100g</b> and <b>sugars_100g</b> have a strong direct relation with <b>nutriscore_score</b></li>\n",
    "        </ul>               \n",
    "</div>"
   ]
  },
  {
   "cell_type": "code",
   "execution_count": null,
   "id": "35d21bdf-f9f6-4227-9003-c944b01136e7",
   "metadata": {},
   "outputs": [],
   "source": []
  },
  {
   "cell_type": "code",
   "execution_count": null,
   "id": "08264e64-21e0-4f07-aabf-baa3bf6224fc",
   "metadata": {},
   "outputs": [],
   "source": []
  },
  {
   "cell_type": "code",
   "execution_count": null,
   "id": "4118726c-df80-49c2-b6d8-e3ce57d1b422",
   "metadata": {},
   "outputs": [],
   "source": []
  },
  {
   "cell_type": "code",
   "execution_count": null,
   "id": "542084ad-1100-4d6e-a43d-625eaff3b905",
   "metadata": {},
   "outputs": [],
   "source": []
  },
  {
   "cell_type": "code",
   "execution_count": null,
   "id": "7a69ab18-72c0-4bf1-b04b-d0199ba0ccaa",
   "metadata": {},
   "outputs": [],
   "source": []
  },
  {
   "cell_type": "markdown",
   "id": "d881606d-1a5a-444a-9811-d5f103f9e027",
   "metadata": {
    "tags": []
   },
   "source": [
    "<div style=\"background-color: #6D83C5;\" >\n",
    "    <h4 style=\"margin: auto; padding: 20px; color:#fff; \">5.4. Principal component analysis - PCA</h4>\n",
    "</div>\n",
    "<br>\n",
    "<div class=\"alert alert-block alert-info\">\n",
    "    To make the PCA, we are are only going to work with the following features:\n",
    "    <ul style=\"list-style-type: square;\">\n",
    "        <li>YearBuilt</li>\n",
    "        <li>PropertyGFATotal</li>\n",
    "        <li>NumberofFloors</li>\n",
    "        <li>NumberofBuildings</li>\n",
    "        <li>Electricity(kBtu)</li>\n",
    "        <li>NaturalGas(kBtu)</li>\n",
    "        <li>SiteEUI(kBtu/sf)</li>\n",
    "        <li>SourceEUI(kBtu/sf)</li>\n",
    "        <li>SteamUse(kBtu)</li>\n",
    "    </ul>  \n",
    "</div>"
   ]
  },
  {
   "cell_type": "code",
   "execution_count": null,
   "id": "b1e3f7b4-7d8e-4fee-a3bc-0eacd4be9cd6",
   "metadata": {},
   "outputs": [],
   "source": [
    "TARGET_VARIABLES_LOG = [\n",
    "    \"SiteEnergyUse(kBtu)_log\", \"GHGEmissions(MetricTonsCO2e)_log\"\n",
    "]"
   ]
  },
  {
   "cell_type": "code",
   "execution_count": null,
   "id": "632d47ca-5531-4a5e-b9c9-876c045007ee",
   "metadata": {},
   "outputs": [],
   "source": [
    "PCA_VARIABLES = [\n",
    "    \"YearBuilt\", \"PropertyGFATotal\", \"NumberofFloors\", \"NumberofBuildings\", \n",
    "    \"Electricity(kBtu)\", \"NaturalGas(kBtu)\", \"SiteEUI(kBtu/sf)\", \"SourceEUI(kBtu/sf)\", \n",
    "    \"SteamUse(kBtu)\"\n",
    "]"
   ]
  },
  {
   "cell_type": "code",
   "execution_count": null,
   "id": "50888e99-28b9-4e4b-9ef3-97365c0bd20a",
   "metadata": {},
   "outputs": [],
   "source": [
    "OTHERS_VARIABLES = [\n",
    "    \"OSEBuildingID\", \"DataYear\", \"PrimaryPropertyType\", \"renamed_PrimaryPropertyType\", \n",
    "    \"ZipCode\", \"Neighborhood\", \n",
    "]"
   ]
  },
  {
   "cell_type": "markdown",
   "id": "3aeec194-bf87-41c8-9af4-6b1ada6807ea",
   "metadata": {},
   "source": [
    "<div class=\"alert alert-block alert-info\">\n",
    "    Considering only non missing-values\n",
    "</div>"
   ]
  },
  {
   "cell_type": "code",
   "execution_count": null,
   "id": "9c2596a7-1eea-4e39-884e-b9384a5175e3",
   "metadata": {
    "tags": []
   },
   "outputs": [],
   "source": [
    "df_subset = df_bebcs_log[df_bebcs_log[PCA_VARIABLES + TARGET_VARIABLES_LOG].notnull().all(axis=1)].copy()"
   ]
  },
  {
   "cell_type": "code",
   "execution_count": null,
   "id": "221ffa9b-d81e-416f-becf-ad805c2bd5a7",
   "metadata": {},
   "outputs": [],
   "source": [
    "df_analysis(df_subset, \"df_subset\", type_analysis=\"complete\")"
   ]
  },
  {
   "cell_type": "markdown",
   "id": "01c1a3d3-1b12-4c12-a742-b1d92bc2708e",
   "metadata": {},
   "source": [
    "<div class=\"alert alert-block alert-info\">\n",
    "   Numbers of components to calculate to PCA            \n",
    "</div>"
   ]
  },
  {
   "cell_type": "code",
   "execution_count": null,
   "id": "89ba1418-5cda-44e7-842c-dd043d51056c",
   "metadata": {
    "tags": []
   },
   "outputs": [],
   "source": [
    "n_comp = 6"
   ]
  },
  {
   "cell_type": "markdown",
   "id": "1d76da2f-c719-4930-b3fc-484f4de24985",
   "metadata": {},
   "source": [
    "<div class=\"alert alert-block alert-info\">\n",
    "    Selecting the features to analyse with PCA\n",
    "</div>"
   ]
  },
  {
   "cell_type": "code",
   "execution_count": null,
   "id": "c480b7fe-a582-4624-844c-169f56162cb5",
   "metadata": {
    "tags": []
   },
   "outputs": [],
   "source": [
    "X = df_subset.loc[:, PCA_VARIABLES].values\n",
    "index_values = df_subset.loc[:, PCA_VARIABLES].index\n",
    "features = df_subset.loc[:, PCA_VARIABLES].columns"
   ]
  },
  {
   "cell_type": "markdown",
   "id": "661c98de-6527-4b29-8397-9487a39c7f25",
   "metadata": {
    "tags": []
   },
   "source": [
    "<div class=\"alert alert-block alert-info\">\n",
    "   Data standardization      \n",
    "</div>"
   ]
  },
  {
   "cell_type": "code",
   "execution_count": null,
   "id": "78ae69df-921e-4941-9d3c-54b2e7e84c89",
   "metadata": {},
   "outputs": [],
   "source": [
    "X_scaled = StandardScaler().fit_transform(X)"
   ]
  },
  {
   "cell_type": "markdown",
   "id": "02da6fbc-e640-45a2-bccf-15d1cd0641b9",
   "metadata": {},
   "source": [
    "<div class=\"alert alert-block alert-info\">\n",
    "   Principal components determination      \n",
    "</div>"
   ]
  },
  {
   "cell_type": "code",
   "execution_count": null,
   "id": "c316b93f-35dc-4140-b089-515203bb0f05",
   "metadata": {
    "tags": []
   },
   "outputs": [],
   "source": [
    "pca = PCA(n_components=n_comp).fit(X_scaled)"
   ]
  },
  {
   "cell_type": "code",
   "execution_count": null,
   "id": "0176c0a7-fa42-4cf2-b825-b5e1987215e3",
   "metadata": {
    "tags": []
   },
   "outputs": [],
   "source": [
    "df_pca = pd.DataFrame(pca.components_, \n",
    "                      index=[\"PC\" + str(i+1) for i in range(n_comp)],\n",
    "                      columns=features ).T"
   ]
  },
  {
   "cell_type": "code",
   "execution_count": null,
   "id": "22284f45-1e03-4eef-b04b-b7b6210bb0a8",
   "metadata": {},
   "outputs": [],
   "source": [
    "plt.figure(figsize=(10,5))\n",
    "plt.title(\"Principal components coefficients\", size=20)\n",
    "\n",
    "ax = sns.heatmap(df_pca, vmin=-1, vmax=1, center=0, cmap=\"mako_r\",\n",
    "                annot=True, annot_kws={\"size\": 14})\n",
    "\n",
    "plt.xticks(size=14)\n",
    "plt.yticks(size=14)\n",
    "plt.tight_layout()\n",
    "plt.savefig(\"img/principal-components-coefficients.png\")\n",
    "plt.show()"
   ]
  },
  {
   "cell_type": "markdown",
   "id": "f40b388b-516d-444b-9b7c-7108578ffc3e",
   "metadata": {},
   "source": [
    "<div class=\"alert alert-block alert-success\">\n",
    "    <b>Observations / Conclusions</b><br>\n",
    "    \n",
    "    In this graph we have the influence of each of the variables for each component\n",
    "    \n",
    "    <ul style=\"list-style-type: square;\">\n",
    "        <li><b>PC1</b> has a influence by <b>Electricity(kBtu)</b></li>\n",
    "        <li><b>PC2</b> has a strong influence by <b>SiteEUI(kBtu/sf)</b> and <b>SourceEUI(kBtu/sf)</b></li>\n",
    "        <li><b>PC3</b> has a strong influence by <b>NumberofBuildings</b></li>\n",
    "        <li><b>PC4</b> has a strong influence by <b>NumberofBuildings</b> and <b>YearBuilt</b></li>\n",
    "        <li><b>PC5</b> has a strong influence by <b>SteamUse(kBtu)</b> and <b>YearBuilt</b></li>\n",
    "        <li><b>PC6</b> has a strong influence by <b>NaturalGas(kBtu)</b></li>\n",
    "    </ul>     \n",
    "</div>"
   ]
  },
  {
   "cell_type": "markdown",
   "id": "b9fe3297-56be-4e64-81fd-866b1f06fed4",
   "metadata": {},
   "source": [
    "<div class=\"alert alert-block alert-info\">\n",
    "    Plotting the <b>Scree of eigenvalues</b>\n",
    "</div>"
   ]
  },
  {
   "cell_type": "code",
   "execution_count": null,
   "id": "eccbb02b-e80b-4987-aea6-18c582ae5019",
   "metadata": {},
   "outputs": [],
   "source": [
    "scree = pca.explained_variance_ratio_*100\n",
    "\n",
    "fig = plt.subplots(figsize=(10, 7))\n",
    "plot_bar = sns.barplot(x=df_pca.columns, y=scree)\n",
    "for p in plot_bar.patches:\n",
    "    plot_bar.annotate(format(p.get_height(), \".1f\"), (p.get_x() + p.get_width() / 2., p.get_height()), \n",
    "                    ha=\"center\", va=\"bottom\", xytext=(0, -15), textcoords=\"offset points\", color=\"white\")\n",
    "plot_line = sns.lineplot(x=df_pca.columns, y=scree.cumsum(), marker=\"o\", color=\"red\")\n",
    "\n",
    "for x, y in zip(df_pca.columns, scree.cumsum()):\n",
    "    plot_line.text(x, y, \"{:.2f}\".format(y), ha=\"right\", va=\"bottom\")\n",
    "\n",
    "plt.xlabel(\"Rank of the inertia axis\", size=14)\n",
    "plt.ylabel(\"% of inertia\", size=14)\n",
    "plt.title(\"Scree of eigenvalues\", size=20)\n",
    "plt.tight_layout()\n",
    "plt.savefig(\"img/scree-of-eigenvalues.png\")\n",
    "plt.show()"
   ]
  },
  {
   "cell_type": "markdown",
   "id": "b6dcc549-3ec6-4c3c-a308-08e07a8ecdd7",
   "metadata": {},
   "source": [
    "<div class=\"alert alert-block alert-success\">\n",
    "    <b>Observations / Conclusions</b>\n",
    "    \n",
    "    <ul style=\"list-style-type: square;\">\n",
    "        <li>Up to <b>PC6</b>, we describe <b>95%</b> of the variance of the data. So, in this case we are going to take <b>all components</b></li>\n",
    "    </ul>     \n",
    "</div>\n",
    "<div class=\"alert alert-block alert-info\">\n",
    "    <b>Keeping the 90% of the variance of the components</b>\n",
    "</div>"
   ]
  },
  {
   "cell_type": "code",
   "execution_count": null,
   "id": "5a651ae2-a0e4-480e-9968-6aed125b07cb",
   "metadata": {
    "tags": []
   },
   "outputs": [],
   "source": [
    "var_threshold=0.9\n",
    "\n",
    "# Processing the PCA\n",
    "pca = decomposition.PCA()\n",
    "pca.fit(X_scaled)\n",
    "\n",
    "# Getting the explained variance ratio for each principal component\n",
    "scree = pca.explained_variance_ratio_\n",
    "\n",
    "# Getting the number of principal components to reach variance thresholds\n",
    "mask = scree.cumsum() > var_threshold\n",
    "nb_selected_components = len(scree[~mask]) + 1\n",
    "print(\"Number of selected components:\", nb_selected_components)\n",
    "\n",
    "# Compute and displays the actual ratio of explained variance\n",
    "explained_variance_sum = scree.cumsum()[nb_selected_components-1]\n",
    "print(\"Cumulative explained variance:  {:.2f}%\".format(explained_variance_sum*100))\n",
    "\n",
    "# Getting the projection of the data on the first components\n",
    "X_PCA = pca.transform(X_scaled)[:,:nb_selected_components]"
   ]
  },
  {
   "cell_type": "code",
   "execution_count": null,
   "id": "eecde111-b0d9-44ad-af7d-94a3d176e25e",
   "metadata": {
    "tags": []
   },
   "outputs": [],
   "source": [
    "df_worked = pd.DataFrame(data=X_PCA, columns=[\"PC1\", \"PC2\", \"PC3\", \"PC4\", \"PC5\", \"PC6\"], index=index_values)"
   ]
  },
  {
   "cell_type": "code",
   "execution_count": null,
   "id": "175a57f5-d73f-4a37-8108-415a509257d9",
   "metadata": {},
   "outputs": [],
   "source": [
    "df_worked.head(5)"
   ]
  },
  {
   "cell_type": "code",
   "execution_count": null,
   "id": "5b2c5def-446c-4127-bfd1-f2f4efceff46",
   "metadata": {},
   "outputs": [],
   "source": [
    "df_worked = pd.concat([df_worked, df_subset[OTHERS_VARIABLES], df_subset[TARGET_VARIABLES_LOG]], axis=1)"
   ]
  },
  {
   "cell_type": "markdown",
   "id": "5b461bf7-a567-4879-893f-9e1036f815a7",
   "metadata": {},
   "source": [
    "<div class=\"alert alert-block alert-info\">\n",
    "    Ordering the columns\n",
    "</div>"
   ]
  },
  {
   "cell_type": "code",
   "execution_count": null,
   "id": "ed81b8ab-6a09-4206-96d2-d1b36c0b4d1e",
   "metadata": {},
   "outputs": [],
   "source": [
    "df_worked = df_worked[OTHERS_VARIABLES +\n",
    "                      list(set(df_worked.columns) - set(OTHERS_VARIABLES + TARGET_VARIABLES_LOG)) +\n",
    "                      TARGET_VARIABLES_LOG]"
   ]
  },
  {
   "cell_type": "code",
   "execution_count": null,
   "id": "090491a0-0652-42ab-a5ad-bc5a2cce9d7d",
   "metadata": {},
   "outputs": [],
   "source": [
    "df_worked.head(5)"
   ]
  },
  {
   "cell_type": "code",
   "execution_count": null,
   "id": "ec7e9ee9-00c6-44e1-adaf-36f42dea122f",
   "metadata": {},
   "outputs": [],
   "source": []
  },
  {
   "cell_type": "code",
   "execution_count": null,
   "id": "a3c0d439-c151-462d-919f-bcde86d766aa",
   "metadata": {},
   "outputs": [],
   "source": []
  }
 ],
 "metadata": {
  "kernelspec": {
   "display_name": "Python 3",
   "language": "python",
   "name": "python3"
  },
  "language_info": {
   "codemirror_mode": {
    "name": "ipython",
    "version": 3
   },
   "file_extension": ".py",
   "mimetype": "text/x-python",
   "name": "python",
   "nbconvert_exporter": "python",
   "pygments_lexer": "ipython3",
   "version": "3.8.5"
  }
 },
 "nbformat": 4,
 "nbformat_minor": 5
}
