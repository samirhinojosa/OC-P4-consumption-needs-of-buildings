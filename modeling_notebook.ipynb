{
 "cells": [
  {
   "cell_type": "markdown",
   "id": "ce468ca3-b790-4103-8261-1356811912a9",
   "metadata": {},
   "source": [
    "<div style=\"display: flex; background-color: #3F579F;\">\n",
    "    <h1 style=\"margin: auto; font-weight: bold; padding: 30px 30px 0px 30px;\" align=\"center\">Consumption needs of buildings - Project 4</h1>\n",
    "</div>\n",
    "<div style=\"display: flex; background-color: #3F579F; margin: auto; padding: 5px 30px 0px 30px;\" >\n",
    "    <h2 style=\"width: 100%; text-align: center; float: left;\" align=\"center\">| Modeling notebook |</h2>\n",
    "</div>\n",
    "<div style=\"display: flex; background-color: #3F579F; margin: auto; padding: 10px 30px 30px 30px;\">\n",
    "    <h3 style=\"width: 100%; text-align: center; font-size:26px; float: left;\" align=\"center\">Data Scientist course - OpenClassrooms</h3>\n",
    "</div>"
   ]
  },
  {
   "cell_type": "markdown",
   "id": "24f8fd9b-9c31-4b49-866b-0854e0201db2",
   "metadata": {
    "tags": []
   },
   "source": [
    "<div style=\"background-color: #506AB9;\" >\n",
    "    <h3 style=\"margin: auto; padding: 20px; color:#fff; \">1. Libraries and functions</h3>\n",
    "</div>"
   ]
  },
  {
   "cell_type": "markdown",
   "id": "136892e5-2f9c-4512-8693-c96d4b8cc38d",
   "metadata": {},
   "source": [
    "<div style=\"background-color: #6D83C5;\" >\n",
    "    <h4 style=\"margin: auto; padding: 20px; color:#fff; \">1.1. Libraries and functions</h3>\n",
    "</div>"
   ]
  },
  {
   "cell_type": "code",
   "execution_count": 48,
   "id": "53a341ca-1d3d-478d-a3ec-6319bfc0694e",
   "metadata": {},
   "outputs": [],
   "source": [
    "## df_analysis\n",
    "import io\n",
    "import gc\n",
    "import timeit\n",
    "from math import prod\n",
    "\n",
    "## General\n",
    "import pandas as pd\n",
    "import numpy as np\n",
    "import matplotlib.pyplot as plt\n",
    "import seaborn as sns\n",
    "\n",
    "\n",
    "from sklearn.model_selection import train_test_split\n",
    "from sklearn.compose import make_column_transformer\n",
    "from sklearn.pipeline import make_pipeline\n",
    "from sklearn.preprocessing import FunctionTransformer\n",
    "from sklearn.preprocessing import OneHotEncoder, StandardScaler\n",
    "from sklearn.metrics import accuracy_score, explained_variance_score, mean_squared_error, mean_absolute_error, r2_score\n",
    "from sklearn.neighbors import KNeighborsRegressor\n",
    "from sklearn.linear_model import LinearRegression, LogisticRegression, PoissonRegressor, ElasticNet, Ridge, Lasso\n",
    "from sklearn.ensemble import RandomForestRegressor, BaggingRegressor, AdaBoostRegressor, ExtraTreesRegressor, GradientBoostingRegressor\n",
    "from sklearn.svm import SVR\n",
    "\n",
    "%matplotlib inline\n",
    "\n",
    "sns.set_theme(style=\"darkgrid\")"
   ]
  },
  {
   "cell_type": "markdown",
   "id": "cb2533d3-cfa1-4697-875b-007f75b4c6a0",
   "metadata": {},
   "source": [
    "<div style=\"background-color: #6D83C5;\" >\n",
    "    <h4 style=\"margin: auto; padding: 20px; color:#fff; \">1.2. Functions declaration</h4>\n",
    "</div>"
   ]
  },
  {
   "cell_type": "code",
   "execution_count": 49,
   "id": "1fbda1fe-ff0e-47f5-9b0d-68e4ef09468a",
   "metadata": {
    "jupyter": {
     "source_hidden": true
    },
    "tags": []
   },
   "outputs": [],
   "source": [
    "def df_analysis(df, name_df, *args, **kwargs):\n",
    "    \"\"\"\n",
    "    Method used to analyze on the DataFrame.\n",
    "\n",
    "    Parameters:\n",
    "    -----------------\n",
    "        df (pandas.DataFrame): Dataset to analyze\n",
    "        name_df (str): Dataset name\n",
    "        \n",
    "        *args, **kwargs:\n",
    "        -----------------\n",
    "            columns (list): Dataframe keys in list format\n",
    "            flag (str): Flag to show complete information about the dataset to analyse\n",
    "                        \"complete\" shows all information about the dataset\n",
    "\n",
    "    Returns:\n",
    "    -----------------\n",
    "        None. \n",
    "        Print the analysis on the Dataset. \n",
    "    \"\"\"\n",
    "    \n",
    "    # Getting the variables\n",
    "    columns = kwargs.get(\"columns\", None)\n",
    "    type_analysis = kwargs.get(\"type_analysis\", None)\n",
    "    \n",
    "    ORDERING_COMPLETE = [\n",
    "        \"name\", \"type\", \"records\", \"unique\", \"# NaN\", \"% NaN\", \"mean\", \"min\", \"25%\", \"50%\", \"75%\", \"max\", \"std\"\n",
    "    ]\n",
    "    \n",
    "    # Calculating the memory usage based on dataframe.info()\n",
    "    buf = io.StringIO()\n",
    "    df.info(buf=buf)\n",
    "    memory_usage = buf.getvalue().split('\\n')[-2]\n",
    "    \n",
    "    if df.empty:\n",
    "        print(\"The\", name_df, \"dataset is empty. Please verify the file.\")\n",
    "    else:\n",
    "        empty_cols = [col for col in df.columns if df[col].isna().all()] # identifying empty columns\n",
    "        df_rows_duplicates = df[df.duplicated()] #identifying full duplicates rows\n",
    "        \n",
    "        # Creating a dataset based on Type object and records by columns\n",
    "        type_cols = df.dtypes.apply(lambda x: x.name).to_dict() \n",
    "        df_resume = pd.DataFrame(list(type_cols.items()), columns = [\"name\", \"type\"])\n",
    "        df_resume[\"records\"] = list(df.count())\n",
    "        df_resume[\"# NaN\"] = list(df.isnull().sum())\n",
    "        df_resume[\"% NaN\"] = list(((df.isnull().sum() / len(df.index))*100).round(2))\n",
    "        \n",
    "        print(\"\\nAnalysis of\", name_df, \"dataset\")\n",
    "        print(\"--------------------------------------------------------------------\")\n",
    "        print(\"- Dataset shape:                 \", df.shape[0], \"rows and\", df.shape[1], \"columns\")\n",
    "        print(\"- Total of NaN values:           \", df.isna().sum().sum())\n",
    "        print(\"- Percentage of NaN:             \", round((df.isna().sum().sum() / prod(df.shape)) * 100, 2), \"%\")\n",
    "        print(\"- Total of full duplicates rows: \", df_rows_duplicates.shape[0])\n",
    "        print(\"- Total of empty rows:           \", df.shape[0] - df.dropna(axis=\"rows\", how=\"all\").shape[0]) if df.dropna(axis=\"rows\", how=\"all\").shape[0] < df.shape[0] else \\\n",
    "                    print(\"- Total of empty rows:            0\")\n",
    "        print(\"- Total of empty columns:        \", len(empty_cols))\n",
    "        print(\"  + The empty column is:         \", empty_cols) if len(empty_cols) == 1 else \\\n",
    "                    print(\"  + The empty column are:         \", empty_cols) if len(empty_cols) >= 1 else None\n",
    "        print(\"- Unique indexes:                \", df.index.is_unique)\n",
    "        \n",
    "        if columns is not None:\n",
    "            print(\"\\n- The key(s):\", columns, \"is not present multiple times in the dataframe.\\n  It CAN be used as a primary key.\") if df.size == df.drop_duplicates(columns).size else \\\n",
    "                print(\"\\n- The key(s):\", columns, \"is present multiple times in the dataframe.\\n  It CANNOT be used as a primary key.\")\n",
    "        \n",
    "        if type_analysis == \"summarized\":\n",
    "            print(\"\\n\")\n",
    "        \n",
    "        if type_analysis is None or type_analysis != \"summarized\":\n",
    "            pd.set_option(\"display.max_rows\", None) # show full of showing rows\n",
    "            pd.set_option(\"display.max_columns\", None) # show full of showing cols\n",
    "            pd.set_option(\"display.max_colwidth\", None) # show full width of showing cols\n",
    "            pd.set_option(\"display.float_format\", lambda x: \"%.5f\" % x) # show full content in cell    \n",
    "            \n",
    "            if type_analysis is None or type_analysis != \"complete\":\n",
    "                print(\"\\n- Type object and records by columns      (\",memory_usage,\")\")\n",
    "                print(\"--------------------------------------------------------------------\")\n",
    "            elif type_analysis == \"complete\":\n",
    "                df_resume[\"unique\"] = list(df.nunique())\n",
    "                df_desc = pd.DataFrame(df.describe().T).reset_index()\n",
    "                df_desc = df_desc.rename(columns={\"index\": \"name\"})\n",
    "                df_resume = df_resume.merge(right=df_desc[[\"name\", \"mean\", \"min\", \"25%\", \"50%\", \"75%\", \"max\", \"std\"]], on=\"name\", how=\"left\")\n",
    "                df_resume = df_resume[ORDERING_COMPLETE]\n",
    "                print(\"\\n- Type object and records by columns      (\",memory_usage,\")\")\n",
    "                print(\"--------------------------------------------------------------------\")\n",
    "                \n",
    "            display(df_resume.sort_values(\"records\", ascending=False))\n",
    "            \n",
    "            pd.reset_option(\"display.max_rows\") # reset max of showing rows\n",
    "            pd.reset_option(\"display.max_columns\") # reset max of showing cols\n",
    "            pd.reset_option(\"display.max_colwidth\") # reset width of showing cols\n",
    "            pd.reset_option(\"display.float_format\") # reset show full content in cell\n",
    "            \n",
    "        # deleting dataframe to free memory\n",
    "        if type_analysis == \"complete\":\n",
    "            del [[df_resume, df_desc]]\n",
    "            gc.collect()\n",
    "            df_resume, df_desc = (pd.DataFrame() for i in range(2))\n",
    "        else:\n",
    "            del df_resume\n",
    "            gc.collect()\n",
    "            df_resume = pd.DataFrame()"
   ]
  },
  {
   "cell_type": "markdown",
   "id": "4a187b49-944f-4539-aea7-c88f883479f2",
   "metadata": {
    "tags": []
   },
   "source": [
    "<div style=\"background-color: #506AB9;\" >\n",
    "    <h3 style=\"margin: auto; padding: 20px; color:#fff; \">2. Importing files</h3>\n",
    "</div>"
   ]
  },
  {
   "cell_type": "markdown",
   "id": "d5220848-185a-4fb5-9d2d-b03a7ebbfbcc",
   "metadata": {},
   "source": [
    "<div style=\"background-color: #6D83C5;\" >\n",
    "    <h4 style=\"margin: auto; padding: 20px; color:#fff; \">2.1. Importing and preparing files</h4>\n",
    "</div>"
   ]
  },
  {
   "cell_type": "code",
   "execution_count": 50,
   "id": "0d36be08-1cf5-4bd1-b2e3-55026d6bf1a1",
   "metadata": {},
   "outputs": [],
   "source": [
    "data = pd.read_csv(r\"datasets\\df_cleaned_final.csv\")"
   ]
  },
  {
   "cell_type": "code",
   "execution_count": 51,
   "id": "b3037c28-e24a-4c8b-9b7c-f7876d9ba3f9",
   "metadata": {},
   "outputs": [
    {
     "data": {
      "text/html": [
       "<div>\n",
       "<style scoped>\n",
       "    .dataframe tbody tr th:only-of-type {\n",
       "        vertical-align: middle;\n",
       "    }\n",
       "\n",
       "    .dataframe tbody tr th {\n",
       "        vertical-align: top;\n",
       "    }\n",
       "\n",
       "    .dataframe thead th {\n",
       "        text-align: right;\n",
       "    }\n",
       "</style>\n",
       "<table border=\"1\" class=\"dataframe\">\n",
       "  <thead>\n",
       "    <tr style=\"text-align: right;\">\n",
       "      <th></th>\n",
       "      <th>NumberofFloors</th>\n",
       "      <th>NumberofBuildings</th>\n",
       "      <th>BuildingAge</th>\n",
       "      <th>PropertyGFATotal</th>\n",
       "      <th>PropertyGFAParking</th>\n",
       "      <th>PropertyGFABuilding(s)</th>\n",
       "      <th>Neighborhood</th>\n",
       "      <th>renamed_PropertyType</th>\n",
       "      <th>Electricity_ratio</th>\n",
       "      <th>SiteEnergyUse(kBtu)</th>\n",
       "      <th>GHGEmissions(MetricTonsCO2e)</th>\n",
       "    </tr>\n",
       "  </thead>\n",
       "  <tbody>\n",
       "    <tr>\n",
       "      <th>0</th>\n",
       "      <td>12</td>\n",
       "      <td>1</td>\n",
       "      <td>94</td>\n",
       "      <td>88434</td>\n",
       "      <td>0</td>\n",
       "      <td>88434</td>\n",
       "      <td>DOWNTOWN</td>\n",
       "      <td>Hotel</td>\n",
       "      <td>52.79951</td>\n",
       "      <td>6981428.0</td>\n",
       "      <td>249.43</td>\n",
       "    </tr>\n",
       "    <tr>\n",
       "      <th>1</th>\n",
       "      <td>11</td>\n",
       "      <td>1</td>\n",
       "      <td>25</td>\n",
       "      <td>103566</td>\n",
       "      <td>15064</td>\n",
       "      <td>88502</td>\n",
       "      <td>DOWNTOWN</td>\n",
       "      <td>Hotel</td>\n",
       "      <td>46.74768</td>\n",
       "      <td>8354235.0</td>\n",
       "      <td>263.51</td>\n",
       "    </tr>\n",
       "    <tr>\n",
       "      <th>2</th>\n",
       "      <td>41</td>\n",
       "      <td>1</td>\n",
       "      <td>52</td>\n",
       "      <td>956110</td>\n",
       "      <td>196718</td>\n",
       "      <td>759392</td>\n",
       "      <td>DOWNTOWN</td>\n",
       "      <td>Hotel</td>\n",
       "      <td>68.04593</td>\n",
       "      <td>73130656.0</td>\n",
       "      <td>2061.48</td>\n",
       "    </tr>\n",
       "    <tr>\n",
       "      <th>3</th>\n",
       "      <td>10</td>\n",
       "      <td>1</td>\n",
       "      <td>95</td>\n",
       "      <td>61320</td>\n",
       "      <td>0</td>\n",
       "      <td>61320</td>\n",
       "      <td>DOWNTOWN</td>\n",
       "      <td>Hotel</td>\n",
       "      <td>9.80903</td>\n",
       "      <td>28229320.0</td>\n",
       "      <td>1936.34</td>\n",
       "    </tr>\n",
       "    <tr>\n",
       "      <th>4</th>\n",
       "      <td>18</td>\n",
       "      <td>1</td>\n",
       "      <td>41</td>\n",
       "      <td>175580</td>\n",
       "      <td>62000</td>\n",
       "      <td>113580</td>\n",
       "      <td>DOWNTOWN</td>\n",
       "      <td>Hotel</td>\n",
       "      <td>40.90771</td>\n",
       "      <td>14829099.0</td>\n",
       "      <td>507.70</td>\n",
       "    </tr>\n",
       "  </tbody>\n",
       "</table>\n",
       "</div>"
      ],
      "text/plain": [
       "   NumberofFloors  NumberofBuildings  BuildingAge  PropertyGFATotal  \\\n",
       "0              12                  1           94             88434   \n",
       "1              11                  1           25            103566   \n",
       "2              41                  1           52            956110   \n",
       "3              10                  1           95             61320   \n",
       "4              18                  1           41            175580   \n",
       "\n",
       "   PropertyGFAParking  PropertyGFABuilding(s) Neighborhood  \\\n",
       "0                   0                   88434     DOWNTOWN   \n",
       "1               15064                   88502     DOWNTOWN   \n",
       "2              196718                  759392     DOWNTOWN   \n",
       "3                   0                   61320     DOWNTOWN   \n",
       "4               62000                  113580     DOWNTOWN   \n",
       "\n",
       "  renamed_PropertyType  Electricity_ratio  SiteEnergyUse(kBtu)  \\\n",
       "0                Hotel           52.79951            6981428.0   \n",
       "1                Hotel           46.74768            8354235.0   \n",
       "2                Hotel           68.04593           73130656.0   \n",
       "3                Hotel            9.80903           28229320.0   \n",
       "4                Hotel           40.90771           14829099.0   \n",
       "\n",
       "   GHGEmissions(MetricTonsCO2e)  \n",
       "0                        249.43  \n",
       "1                        263.51  \n",
       "2                       2061.48  \n",
       "3                       1936.34  \n",
       "4                        507.70  "
      ]
     },
     "execution_count": 51,
     "metadata": {},
     "output_type": "execute_result"
    }
   ],
   "source": [
    "data.head()"
   ]
  },
  {
   "cell_type": "code",
   "execution_count": 52,
   "id": "98575580-cc9a-45c8-b096-f9b3a83aa953",
   "metadata": {},
   "outputs": [
    {
     "name": "stdout",
     "output_type": "stream",
     "text": [
      "\n",
      "Analysis of data dataset\n",
      "--------------------------------------------------------------------\n",
      "- Dataset shape:                  1656 rows and 11 columns\n",
      "- Total of NaN values:            0\n",
      "- Percentage of NaN:              0.0 %\n",
      "- Total of full duplicates rows:  0\n",
      "- Total of empty rows:            0\n",
      "- Total of empty columns:         0\n",
      "- Unique indexes:                 True\n",
      "\n",
      "- Type object and records by columns      ( memory usage: 142.4+ KB )\n",
      "--------------------------------------------------------------------\n"
     ]
    },
    {
     "data": {
      "text/html": [
       "<div>\n",
       "<style scoped>\n",
       "    .dataframe tbody tr th:only-of-type {\n",
       "        vertical-align: middle;\n",
       "    }\n",
       "\n",
       "    .dataframe tbody tr th {\n",
       "        vertical-align: top;\n",
       "    }\n",
       "\n",
       "    .dataframe thead th {\n",
       "        text-align: right;\n",
       "    }\n",
       "</style>\n",
       "<table border=\"1\" class=\"dataframe\">\n",
       "  <thead>\n",
       "    <tr style=\"text-align: right;\">\n",
       "      <th></th>\n",
       "      <th>name</th>\n",
       "      <th>type</th>\n",
       "      <th>records</th>\n",
       "      <th>unique</th>\n",
       "      <th># NaN</th>\n",
       "      <th>% NaN</th>\n",
       "      <th>mean</th>\n",
       "      <th>min</th>\n",
       "      <th>25%</th>\n",
       "      <th>50%</th>\n",
       "      <th>75%</th>\n",
       "      <th>max</th>\n",
       "      <th>std</th>\n",
       "    </tr>\n",
       "  </thead>\n",
       "  <tbody>\n",
       "    <tr>\n",
       "      <th>0</th>\n",
       "      <td>NumberofFloors</td>\n",
       "      <td>int64</td>\n",
       "      <td>1656</td>\n",
       "      <td>42</td>\n",
       "      <td>0</td>\n",
       "      <td>0.00000</td>\n",
       "      <td>4.13285</td>\n",
       "      <td>1.00000</td>\n",
       "      <td>1.00000</td>\n",
       "      <td>2.00000</td>\n",
       "      <td>4.00000</td>\n",
       "      <td>99.00000</td>\n",
       "      <td>6.53546</td>\n",
       "    </tr>\n",
       "    <tr>\n",
       "      <th>1</th>\n",
       "      <td>NumberofBuildings</td>\n",
       "      <td>int64</td>\n",
       "      <td>1656</td>\n",
       "      <td>11</td>\n",
       "      <td>0</td>\n",
       "      <td>0.00000</td>\n",
       "      <td>1.13164</td>\n",
       "      <td>1.00000</td>\n",
       "      <td>1.00000</td>\n",
       "      <td>1.00000</td>\n",
       "      <td>1.00000</td>\n",
       "      <td>111.00000</td>\n",
       "      <td>2.91856</td>\n",
       "    </tr>\n",
       "    <tr>\n",
       "      <th>2</th>\n",
       "      <td>BuildingAge</td>\n",
       "      <td>int64</td>\n",
       "      <td>1656</td>\n",
       "      <td>113</td>\n",
       "      <td>0</td>\n",
       "      <td>0.00000</td>\n",
       "      <td>59.22645</td>\n",
       "      <td>6.00000</td>\n",
       "      <td>32.00000</td>\n",
       "      <td>56.00000</td>\n",
       "      <td>91.00000</td>\n",
       "      <td>121.00000</td>\n",
       "      <td>32.65619</td>\n",
       "    </tr>\n",
       "    <tr>\n",
       "      <th>3</th>\n",
       "      <td>PropertyGFATotal</td>\n",
       "      <td>int64</td>\n",
       "      <td>1656</td>\n",
       "      <td>1577</td>\n",
       "      <td>0</td>\n",
       "      <td>0.00000</td>\n",
       "      <td>119192.86171</td>\n",
       "      <td>11285.00000</td>\n",
       "      <td>29398.50000</td>\n",
       "      <td>49289.50000</td>\n",
       "      <td>105070.75000</td>\n",
       "      <td>9320156.00000</td>\n",
       "      <td>298038.52446</td>\n",
       "    </tr>\n",
       "    <tr>\n",
       "      <th>4</th>\n",
       "      <td>PropertyGFAParking</td>\n",
       "      <td>int64</td>\n",
       "      <td>1656</td>\n",
       "      <td>326</td>\n",
       "      <td>0</td>\n",
       "      <td>0.00000</td>\n",
       "      <td>13321.64251</td>\n",
       "      <td>0.00000</td>\n",
       "      <td>0.00000</td>\n",
       "      <td>0.00000</td>\n",
       "      <td>0.00000</td>\n",
       "      <td>512608.00000</td>\n",
       "      <td>43664.74773</td>\n",
       "    </tr>\n",
       "    <tr>\n",
       "      <th>5</th>\n",
       "      <td>PropertyGFABuilding(s)</td>\n",
       "      <td>int64</td>\n",
       "      <td>1656</td>\n",
       "      <td>1572</td>\n",
       "      <td>0</td>\n",
       "      <td>0.00000</td>\n",
       "      <td>105871.21920</td>\n",
       "      <td>3636.00000</td>\n",
       "      <td>28356.00000</td>\n",
       "      <td>47484.50000</td>\n",
       "      <td>94479.00000</td>\n",
       "      <td>9320156.00000</td>\n",
       "      <td>284529.39591</td>\n",
       "    </tr>\n",
       "    <tr>\n",
       "      <th>6</th>\n",
       "      <td>Neighborhood</td>\n",
       "      <td>object</td>\n",
       "      <td>1656</td>\n",
       "      <td>13</td>\n",
       "      <td>0</td>\n",
       "      <td>0.00000</td>\n",
       "      <td>NaN</td>\n",
       "      <td>NaN</td>\n",
       "      <td>NaN</td>\n",
       "      <td>NaN</td>\n",
       "      <td>NaN</td>\n",
       "      <td>NaN</td>\n",
       "      <td>NaN</td>\n",
       "    </tr>\n",
       "    <tr>\n",
       "      <th>7</th>\n",
       "      <td>renamed_PropertyType</td>\n",
       "      <td>object</td>\n",
       "      <td>1656</td>\n",
       "      <td>8</td>\n",
       "      <td>0</td>\n",
       "      <td>0.00000</td>\n",
       "      <td>NaN</td>\n",
       "      <td>NaN</td>\n",
       "      <td>NaN</td>\n",
       "      <td>NaN</td>\n",
       "      <td>NaN</td>\n",
       "      <td>NaN</td>\n",
       "      <td>NaN</td>\n",
       "    </tr>\n",
       "    <tr>\n",
       "      <th>8</th>\n",
       "      <td>Electricity_ratio</td>\n",
       "      <td>float64</td>\n",
       "      <td>1656</td>\n",
       "      <td>1297</td>\n",
       "      <td>0</td>\n",
       "      <td>0.00000</td>\n",
       "      <td>70.74668</td>\n",
       "      <td>0.00033</td>\n",
       "      <td>50.47055</td>\n",
       "      <td>72.26544</td>\n",
       "      <td>99.99938</td>\n",
       "      <td>100.00874</td>\n",
       "      <td>25.82563</td>\n",
       "    </tr>\n",
       "    <tr>\n",
       "      <th>9</th>\n",
       "      <td>SiteEnergyUse(kBtu)</td>\n",
       "      <td>float64</td>\n",
       "      <td>1656</td>\n",
       "      <td>1655</td>\n",
       "      <td>0</td>\n",
       "      <td>0.00000</td>\n",
       "      <td>8563131.38206</td>\n",
       "      <td>11441.00000</td>\n",
       "      <td>1222923.50000</td>\n",
       "      <td>2512737.00000</td>\n",
       "      <td>7009066.00000</td>\n",
       "      <td>873923712.00000</td>\n",
       "      <td>30439268.96365</td>\n",
       "    </tr>\n",
       "    <tr>\n",
       "      <th>10</th>\n",
       "      <td>GHGEmissions(MetricTonsCO2e)</td>\n",
       "      <td>float64</td>\n",
       "      <td>1656</td>\n",
       "      <td>1583</td>\n",
       "      <td>0</td>\n",
       "      <td>0.00000</td>\n",
       "      <td>186.12812</td>\n",
       "      <td>0.08000</td>\n",
       "      <td>19.52750</td>\n",
       "      <td>48.84000</td>\n",
       "      <td>139.35000</td>\n",
       "      <td>16870.98000</td>\n",
       "      <td>748.43963</td>\n",
       "    </tr>\n",
       "  </tbody>\n",
       "</table>\n",
       "</div>"
      ],
      "text/plain": [
       "                            name     type  records  unique  # NaN   % NaN  \\\n",
       "0                 NumberofFloors    int64     1656      42      0 0.00000   \n",
       "1              NumberofBuildings    int64     1656      11      0 0.00000   \n",
       "2                    BuildingAge    int64     1656     113      0 0.00000   \n",
       "3               PropertyGFATotal    int64     1656    1577      0 0.00000   \n",
       "4             PropertyGFAParking    int64     1656     326      0 0.00000   \n",
       "5         PropertyGFABuilding(s)    int64     1656    1572      0 0.00000   \n",
       "6                   Neighborhood   object     1656      13      0 0.00000   \n",
       "7           renamed_PropertyType   object     1656       8      0 0.00000   \n",
       "8              Electricity_ratio  float64     1656    1297      0 0.00000   \n",
       "9            SiteEnergyUse(kBtu)  float64     1656    1655      0 0.00000   \n",
       "10  GHGEmissions(MetricTonsCO2e)  float64     1656    1583      0 0.00000   \n",
       "\n",
       "            mean         min           25%           50%           75%  \\\n",
       "0        4.13285     1.00000       1.00000       2.00000       4.00000   \n",
       "1        1.13164     1.00000       1.00000       1.00000       1.00000   \n",
       "2       59.22645     6.00000      32.00000      56.00000      91.00000   \n",
       "3   119192.86171 11285.00000   29398.50000   49289.50000  105070.75000   \n",
       "4    13321.64251     0.00000       0.00000       0.00000       0.00000   \n",
       "5   105871.21920  3636.00000   28356.00000   47484.50000   94479.00000   \n",
       "6            NaN         NaN           NaN           NaN           NaN   \n",
       "7            NaN         NaN           NaN           NaN           NaN   \n",
       "8       70.74668     0.00033      50.47055      72.26544      99.99938   \n",
       "9  8563131.38206 11441.00000 1222923.50000 2512737.00000 7009066.00000   \n",
       "10     186.12812     0.08000      19.52750      48.84000     139.35000   \n",
       "\n",
       "               max            std  \n",
       "0         99.00000        6.53546  \n",
       "1        111.00000        2.91856  \n",
       "2        121.00000       32.65619  \n",
       "3    9320156.00000   298038.52446  \n",
       "4     512608.00000    43664.74773  \n",
       "5    9320156.00000   284529.39591  \n",
       "6              NaN            NaN  \n",
       "7              NaN            NaN  \n",
       "8        100.00874       25.82563  \n",
       "9  873923712.00000 30439268.96365  \n",
       "10     16870.98000      748.43963  "
      ]
     },
     "metadata": {},
     "output_type": "display_data"
    }
   ],
   "source": [
    "df_analysis(data, \"data\", type_analysis=\"complete\")"
   ]
  },
  {
   "cell_type": "markdown",
   "id": "10b8d6da-0849-4f8f-8722-d0898e7b623e",
   "metadata": {
    "tags": []
   },
   "source": [
    "<div style=\"background-color: #506AB9;\" >\n",
    "    <h3 style=\"margin: auto; padding: 20px; color:#fff; \">3. Splitting data (SiteEnergyUse(kBtu)</h3>\n",
    "</div>"
   ]
  },
  {
   "cell_type": "markdown",
   "id": "1b6a99ac-41c2-4778-8b9b-99779277935f",
   "metadata": {},
   "source": [
    "<div style=\"background-color: #6D83C5;\" >\n",
    "    <h4 style=\"margin: auto; padding: 20px; color:#fff; \">3.1. Splitting dataset based on the features and targets</h4>\n",
    "</div>"
   ]
  },
  {
   "cell_type": "code",
   "execution_count": 53,
   "id": "e351dddb-bf8c-4128-985e-702d4d05394a",
   "metadata": {},
   "outputs": [
    {
     "data": {
      "text/html": [
       "<div>\n",
       "<style scoped>\n",
       "    .dataframe tbody tr th:only-of-type {\n",
       "        vertical-align: middle;\n",
       "    }\n",
       "\n",
       "    .dataframe tbody tr th {\n",
       "        vertical-align: top;\n",
       "    }\n",
       "\n",
       "    .dataframe thead th {\n",
       "        text-align: right;\n",
       "    }\n",
       "</style>\n",
       "<table border=\"1\" class=\"dataframe\">\n",
       "  <thead>\n",
       "    <tr style=\"text-align: right;\">\n",
       "      <th></th>\n",
       "      <th>NumberofFloors</th>\n",
       "      <th>NumberofBuildings</th>\n",
       "      <th>BuildingAge</th>\n",
       "      <th>PropertyGFATotal</th>\n",
       "      <th>PropertyGFAParking</th>\n",
       "      <th>PropertyGFABuilding(s)</th>\n",
       "      <th>Neighborhood</th>\n",
       "      <th>renamed_PropertyType</th>\n",
       "      <th>Electricity_ratio</th>\n",
       "      <th>SiteEnergyUse(kBtu)</th>\n",
       "      <th>GHGEmissions(MetricTonsCO2e)</th>\n",
       "    </tr>\n",
       "  </thead>\n",
       "  <tbody>\n",
       "    <tr>\n",
       "      <th>0</th>\n",
       "      <td>12</td>\n",
       "      <td>1</td>\n",
       "      <td>94</td>\n",
       "      <td>88434</td>\n",
       "      <td>0</td>\n",
       "      <td>88434</td>\n",
       "      <td>DOWNTOWN</td>\n",
       "      <td>Hotel</td>\n",
       "      <td>52.79951</td>\n",
       "      <td>6981428.0</td>\n",
       "      <td>249.43</td>\n",
       "    </tr>\n",
       "    <tr>\n",
       "      <th>1</th>\n",
       "      <td>11</td>\n",
       "      <td>1</td>\n",
       "      <td>25</td>\n",
       "      <td>103566</td>\n",
       "      <td>15064</td>\n",
       "      <td>88502</td>\n",
       "      <td>DOWNTOWN</td>\n",
       "      <td>Hotel</td>\n",
       "      <td>46.74768</td>\n",
       "      <td>8354235.0</td>\n",
       "      <td>263.51</td>\n",
       "    </tr>\n",
       "    <tr>\n",
       "      <th>2</th>\n",
       "      <td>41</td>\n",
       "      <td>1</td>\n",
       "      <td>52</td>\n",
       "      <td>956110</td>\n",
       "      <td>196718</td>\n",
       "      <td>759392</td>\n",
       "      <td>DOWNTOWN</td>\n",
       "      <td>Hotel</td>\n",
       "      <td>68.04593</td>\n",
       "      <td>73130656.0</td>\n",
       "      <td>2061.48</td>\n",
       "    </tr>\n",
       "    <tr>\n",
       "      <th>3</th>\n",
       "      <td>10</td>\n",
       "      <td>1</td>\n",
       "      <td>95</td>\n",
       "      <td>61320</td>\n",
       "      <td>0</td>\n",
       "      <td>61320</td>\n",
       "      <td>DOWNTOWN</td>\n",
       "      <td>Hotel</td>\n",
       "      <td>9.80903</td>\n",
       "      <td>28229320.0</td>\n",
       "      <td>1936.34</td>\n",
       "    </tr>\n",
       "    <tr>\n",
       "      <th>4</th>\n",
       "      <td>18</td>\n",
       "      <td>1</td>\n",
       "      <td>41</td>\n",
       "      <td>175580</td>\n",
       "      <td>62000</td>\n",
       "      <td>113580</td>\n",
       "      <td>DOWNTOWN</td>\n",
       "      <td>Hotel</td>\n",
       "      <td>40.90771</td>\n",
       "      <td>14829099.0</td>\n",
       "      <td>507.70</td>\n",
       "    </tr>\n",
       "  </tbody>\n",
       "</table>\n",
       "</div>"
      ],
      "text/plain": [
       "   NumberofFloors  NumberofBuildings  BuildingAge  PropertyGFATotal  \\\n",
       "0              12                  1           94             88434   \n",
       "1              11                  1           25            103566   \n",
       "2              41                  1           52            956110   \n",
       "3              10                  1           95             61320   \n",
       "4              18                  1           41            175580   \n",
       "\n",
       "   PropertyGFAParking  PropertyGFABuilding(s) Neighborhood  \\\n",
       "0                   0                   88434     DOWNTOWN   \n",
       "1               15064                   88502     DOWNTOWN   \n",
       "2              196718                  759392     DOWNTOWN   \n",
       "3                   0                   61320     DOWNTOWN   \n",
       "4               62000                  113580     DOWNTOWN   \n",
       "\n",
       "  renamed_PropertyType  Electricity_ratio  SiteEnergyUse(kBtu)  \\\n",
       "0                Hotel           52.79951            6981428.0   \n",
       "1                Hotel           46.74768            8354235.0   \n",
       "2                Hotel           68.04593           73130656.0   \n",
       "3                Hotel            9.80903           28229320.0   \n",
       "4                Hotel           40.90771           14829099.0   \n",
       "\n",
       "   GHGEmissions(MetricTonsCO2e)  \n",
       "0                        249.43  \n",
       "1                        263.51  \n",
       "2                       2061.48  \n",
       "3                       1936.34  \n",
       "4                        507.70  "
      ]
     },
     "execution_count": 53,
     "metadata": {},
     "output_type": "execute_result"
    }
   ],
   "source": [
    "data.head()"
   ]
  },
  {
   "cell_type": "markdown",
   "id": "b7c00731-17d8-4d02-8519-2dc468c86feb",
   "metadata": {},
   "source": [
    "<div class=\"alert alert-block alert-info\">\n",
    "    Working with a copy\n",
    "</div>"
   ]
  },
  {
   "cell_type": "code",
   "execution_count": 54,
   "id": "14fc5986-9793-496e-abdd-9f35c6bf7b6d",
   "metadata": {},
   "outputs": [],
   "source": [
    "data_trans = data.copy()"
   ]
  },
  {
   "cell_type": "code",
   "execution_count": 55,
   "id": "00b98811-cb08-4e70-ac00-d65ea957ec8c",
   "metadata": {},
   "outputs": [
    {
     "data": {
      "text/html": [
       "<div>\n",
       "<style scoped>\n",
       "    .dataframe tbody tr th:only-of-type {\n",
       "        vertical-align: middle;\n",
       "    }\n",
       "\n",
       "    .dataframe tbody tr th {\n",
       "        vertical-align: top;\n",
       "    }\n",
       "\n",
       "    .dataframe thead th {\n",
       "        text-align: right;\n",
       "    }\n",
       "</style>\n",
       "<table border=\"1\" class=\"dataframe\">\n",
       "  <thead>\n",
       "    <tr style=\"text-align: right;\">\n",
       "      <th></th>\n",
       "      <th>NumberofFloors</th>\n",
       "      <th>NumberofBuildings</th>\n",
       "      <th>BuildingAge</th>\n",
       "      <th>PropertyGFATotal</th>\n",
       "      <th>PropertyGFAParking</th>\n",
       "      <th>PropertyGFABuilding(s)</th>\n",
       "      <th>Neighborhood</th>\n",
       "      <th>renamed_PropertyType</th>\n",
       "      <th>Electricity_ratio</th>\n",
       "      <th>SiteEnergyUse(kBtu)</th>\n",
       "      <th>GHGEmissions(MetricTonsCO2e)</th>\n",
       "    </tr>\n",
       "  </thead>\n",
       "  <tbody>\n",
       "    <tr>\n",
       "      <th>0</th>\n",
       "      <td>12</td>\n",
       "      <td>1</td>\n",
       "      <td>94</td>\n",
       "      <td>88434</td>\n",
       "      <td>0</td>\n",
       "      <td>88434</td>\n",
       "      <td>DOWNTOWN</td>\n",
       "      <td>Hotel</td>\n",
       "      <td>52.79951</td>\n",
       "      <td>6981428.0</td>\n",
       "      <td>249.43</td>\n",
       "    </tr>\n",
       "    <tr>\n",
       "      <th>1</th>\n",
       "      <td>11</td>\n",
       "      <td>1</td>\n",
       "      <td>25</td>\n",
       "      <td>103566</td>\n",
       "      <td>15064</td>\n",
       "      <td>88502</td>\n",
       "      <td>DOWNTOWN</td>\n",
       "      <td>Hotel</td>\n",
       "      <td>46.74768</td>\n",
       "      <td>8354235.0</td>\n",
       "      <td>263.51</td>\n",
       "    </tr>\n",
       "    <tr>\n",
       "      <th>2</th>\n",
       "      <td>41</td>\n",
       "      <td>1</td>\n",
       "      <td>52</td>\n",
       "      <td>956110</td>\n",
       "      <td>196718</td>\n",
       "      <td>759392</td>\n",
       "      <td>DOWNTOWN</td>\n",
       "      <td>Hotel</td>\n",
       "      <td>68.04593</td>\n",
       "      <td>73130656.0</td>\n",
       "      <td>2061.48</td>\n",
       "    </tr>\n",
       "    <tr>\n",
       "      <th>3</th>\n",
       "      <td>10</td>\n",
       "      <td>1</td>\n",
       "      <td>95</td>\n",
       "      <td>61320</td>\n",
       "      <td>0</td>\n",
       "      <td>61320</td>\n",
       "      <td>DOWNTOWN</td>\n",
       "      <td>Hotel</td>\n",
       "      <td>9.80903</td>\n",
       "      <td>28229320.0</td>\n",
       "      <td>1936.34</td>\n",
       "    </tr>\n",
       "    <tr>\n",
       "      <th>4</th>\n",
       "      <td>18</td>\n",
       "      <td>1</td>\n",
       "      <td>41</td>\n",
       "      <td>175580</td>\n",
       "      <td>62000</td>\n",
       "      <td>113580</td>\n",
       "      <td>DOWNTOWN</td>\n",
       "      <td>Hotel</td>\n",
       "      <td>40.90771</td>\n",
       "      <td>14829099.0</td>\n",
       "      <td>507.70</td>\n",
       "    </tr>\n",
       "  </tbody>\n",
       "</table>\n",
       "</div>"
      ],
      "text/plain": [
       "   NumberofFloors  NumberofBuildings  BuildingAge  PropertyGFATotal  \\\n",
       "0              12                  1           94             88434   \n",
       "1              11                  1           25            103566   \n",
       "2              41                  1           52            956110   \n",
       "3              10                  1           95             61320   \n",
       "4              18                  1           41            175580   \n",
       "\n",
       "   PropertyGFAParking  PropertyGFABuilding(s) Neighborhood  \\\n",
       "0                   0                   88434     DOWNTOWN   \n",
       "1               15064                   88502     DOWNTOWN   \n",
       "2              196718                  759392     DOWNTOWN   \n",
       "3                   0                   61320     DOWNTOWN   \n",
       "4               62000                  113580     DOWNTOWN   \n",
       "\n",
       "  renamed_PropertyType  Electricity_ratio  SiteEnergyUse(kBtu)  \\\n",
       "0                Hotel           52.79951            6981428.0   \n",
       "1                Hotel           46.74768            8354235.0   \n",
       "2                Hotel           68.04593           73130656.0   \n",
       "3                Hotel            9.80903           28229320.0   \n",
       "4                Hotel           40.90771           14829099.0   \n",
       "\n",
       "   GHGEmissions(MetricTonsCO2e)  \n",
       "0                        249.43  \n",
       "1                        263.51  \n",
       "2                       2061.48  \n",
       "3                       1936.34  \n",
       "4                        507.70  "
      ]
     },
     "execution_count": 55,
     "metadata": {},
     "output_type": "execute_result"
    }
   ],
   "source": [
    "data_trans.head()"
   ]
  },
  {
   "cell_type": "markdown",
   "id": "a8fd477b-806c-4c40-b17f-5ebf64502d94",
   "metadata": {},
   "source": [
    "<div class=\"alert alert-block alert-info\">\n",
    "    Making log transformation on specific columns based on the analysis conclusions done\n",
    "</div>"
   ]
  },
  {
   "cell_type": "code",
   "execution_count": 56,
   "id": "dca1933a-dc12-423f-bdea-47bb3786ca2c",
   "metadata": {},
   "outputs": [],
   "source": [
    "LOG_TRANS_FEATURES = [\"PropertyGFABuilding(s)\", \"PropertyGFATotal\", \"SiteEnergyUse(kBtu)\", \"GHGEmissions(MetricTonsCO2e)\"]"
   ]
  },
  {
   "cell_type": "code",
   "execution_count": 57,
   "id": "1527e16d-82f8-4bfb-b575-eae4b6c9acc9",
   "metadata": {},
   "outputs": [],
   "source": [
    "for col in LOG_TRANS_FEATURES:\n",
    "    data_trans[col] = np.log2(data_trans[col])"
   ]
  },
  {
   "cell_type": "code",
   "execution_count": 58,
   "id": "df703e56-68aa-41d7-848e-03abe5620329",
   "metadata": {},
   "outputs": [
    {
     "data": {
      "text/html": [
       "<div>\n",
       "<style scoped>\n",
       "    .dataframe tbody tr th:only-of-type {\n",
       "        vertical-align: middle;\n",
       "    }\n",
       "\n",
       "    .dataframe tbody tr th {\n",
       "        vertical-align: top;\n",
       "    }\n",
       "\n",
       "    .dataframe thead th {\n",
       "        text-align: right;\n",
       "    }\n",
       "</style>\n",
       "<table border=\"1\" class=\"dataframe\">\n",
       "  <thead>\n",
       "    <tr style=\"text-align: right;\">\n",
       "      <th></th>\n",
       "      <th>NumberofFloors</th>\n",
       "      <th>NumberofBuildings</th>\n",
       "      <th>BuildingAge</th>\n",
       "      <th>PropertyGFATotal</th>\n",
       "      <th>PropertyGFAParking</th>\n",
       "      <th>PropertyGFABuilding(s)</th>\n",
       "      <th>Neighborhood</th>\n",
       "      <th>renamed_PropertyType</th>\n",
       "      <th>Electricity_ratio</th>\n",
       "      <th>SiteEnergyUse(kBtu)</th>\n",
       "      <th>GHGEmissions(MetricTonsCO2e)</th>\n",
       "    </tr>\n",
       "  </thead>\n",
       "  <tbody>\n",
       "    <tr>\n",
       "      <th>0</th>\n",
       "      <td>12</td>\n",
       "      <td>1</td>\n",
       "      <td>94</td>\n",
       "      <td>16.432314</td>\n",
       "      <td>0</td>\n",
       "      <td>16.432314</td>\n",
       "      <td>DOWNTOWN</td>\n",
       "      <td>Hotel</td>\n",
       "      <td>52.79951</td>\n",
       "      <td>22.735091</td>\n",
       "      <td>7.962491</td>\n",
       "    </tr>\n",
       "    <tr>\n",
       "      <th>1</th>\n",
       "      <td>11</td>\n",
       "      <td>1</td>\n",
       "      <td>25</td>\n",
       "      <td>16.660191</td>\n",
       "      <td>15064</td>\n",
       "      <td>16.433422</td>\n",
       "      <td>DOWNTOWN</td>\n",
       "      <td>Hotel</td>\n",
       "      <td>46.74768</td>\n",
       "      <td>22.994076</td>\n",
       "      <td>8.041714</td>\n",
       "    </tr>\n",
       "    <tr>\n",
       "      <th>2</th>\n",
       "      <td>41</td>\n",
       "      <td>1</td>\n",
       "      <td>52</td>\n",
       "      <td>19.866817</td>\n",
       "      <td>196718</td>\n",
       "      <td>19.534485</td>\n",
       "      <td>DOWNTOWN</td>\n",
       "      <td>Hotel</td>\n",
       "      <td>68.04593</td>\n",
       "      <td>26.123973</td>\n",
       "      <td>11.009465</td>\n",
       "    </tr>\n",
       "    <tr>\n",
       "      <th>3</th>\n",
       "      <td>10</td>\n",
       "      <td>1</td>\n",
       "      <td>95</td>\n",
       "      <td>15.904070</td>\n",
       "      <td>0</td>\n",
       "      <td>15.904070</td>\n",
       "      <td>DOWNTOWN</td>\n",
       "      <td>Hotel</td>\n",
       "      <td>9.80903</td>\n",
       "      <td>24.750691</td>\n",
       "      <td>10.919117</td>\n",
       "    </tr>\n",
       "    <tr>\n",
       "      <th>4</th>\n",
       "      <td>18</td>\n",
       "      <td>1</td>\n",
       "      <td>41</td>\n",
       "      <td>17.421769</td>\n",
       "      <td>62000</td>\n",
       "      <td>16.793349</td>\n",
       "      <td>DOWNTOWN</td>\n",
       "      <td>Hotel</td>\n",
       "      <td>40.90771</td>\n",
       "      <td>23.821928</td>\n",
       "      <td>8.987832</td>\n",
       "    </tr>\n",
       "  </tbody>\n",
       "</table>\n",
       "</div>"
      ],
      "text/plain": [
       "   NumberofFloors  NumberofBuildings  BuildingAge  PropertyGFATotal  \\\n",
       "0              12                  1           94         16.432314   \n",
       "1              11                  1           25         16.660191   \n",
       "2              41                  1           52         19.866817   \n",
       "3              10                  1           95         15.904070   \n",
       "4              18                  1           41         17.421769   \n",
       "\n",
       "   PropertyGFAParking  PropertyGFABuilding(s) Neighborhood  \\\n",
       "0                   0               16.432314     DOWNTOWN   \n",
       "1               15064               16.433422     DOWNTOWN   \n",
       "2              196718               19.534485     DOWNTOWN   \n",
       "3                   0               15.904070     DOWNTOWN   \n",
       "4               62000               16.793349     DOWNTOWN   \n",
       "\n",
       "  renamed_PropertyType  Electricity_ratio  SiteEnergyUse(kBtu)  \\\n",
       "0                Hotel           52.79951            22.735091   \n",
       "1                Hotel           46.74768            22.994076   \n",
       "2                Hotel           68.04593            26.123973   \n",
       "3                Hotel            9.80903            24.750691   \n",
       "4                Hotel           40.90771            23.821928   \n",
       "\n",
       "   GHGEmissions(MetricTonsCO2e)  \n",
       "0                      7.962491  \n",
       "1                      8.041714  \n",
       "2                     11.009465  \n",
       "3                     10.919117  \n",
       "4                      8.987832  "
      ]
     },
     "execution_count": 58,
     "metadata": {},
     "output_type": "execute_result"
    }
   ],
   "source": [
    "data_trans.head()"
   ]
  },
  {
   "cell_type": "markdown",
   "id": "dd128828-489d-4fb4-a563-bbe760b21034",
   "metadata": {},
   "source": [
    "<div class=\"alert alert-block alert-info\">\n",
    "    Splitting dataset based on the features and targets\n",
    "</div>"
   ]
  },
  {
   "cell_type": "code",
   "execution_count": 59,
   "id": "c18e6dec-5602-4703-af96-444c2f651fed",
   "metadata": {},
   "outputs": [],
   "source": [
    "X = data_trans.drop(columns=[\"SiteEnergyUse(kBtu)\", \"GHGEmissions(MetricTonsCO2e)\"])"
   ]
  },
  {
   "cell_type": "code",
   "execution_count": 60,
   "id": "f72e0eb6-95af-4925-809b-48d2bc3b7d34",
   "metadata": {},
   "outputs": [],
   "source": [
    "y_energy = data_trans.iloc[:,-2]"
   ]
  },
  {
   "cell_type": "markdown",
   "id": "051a5a77-6752-4187-a81e-facfefe6608d",
   "metadata": {},
   "source": [
    "<div style=\"background-color: #6D83C5;\" >\n",
    "    <h4 style=\"margin: auto; padding: 20px; color:#fff; \">3.2. Train/Test split</h4>\n",
    "</div>"
   ]
  },
  {
   "cell_type": "markdown",
   "id": "4dfbaf08-c144-4988-9cd3-3b7c89e98e9b",
   "metadata": {},
   "source": [
    "<div class=\"alert alert-block alert-info\">\n",
    "    At this point, we are going to predict <b>SiteEnergyUse(kBtu)</b>\n",
    "</div>"
   ]
  },
  {
   "cell_type": "code",
   "execution_count": 61,
   "id": "40737922-f686-44c8-81f2-67292f11b906",
   "metadata": {},
   "outputs": [],
   "source": [
    "X_train, X_test, y_train, y_test = train_test_split(X, y_energy, test_size=0.3, random_state=0)"
   ]
  },
  {
   "cell_type": "code",
   "execution_count": 62,
   "id": "1ec5c9b5-2fe7-436d-8cd4-29578467bd12",
   "metadata": {},
   "outputs": [
    {
     "name": "stdout",
     "output_type": "stream",
     "text": [
      "X_train: (1159, 9)\n",
      "y_train: (1159,)\n"
     ]
    }
   ],
   "source": [
    "print(\"X_train: {}\".format(X_train.shape))\n",
    "print(\"y_train: {}\".format(y_train.shape))"
   ]
  },
  {
   "cell_type": "code",
   "execution_count": 63,
   "id": "24f50a50-6f6e-4f5b-a8a9-f47a85819a52",
   "metadata": {},
   "outputs": [
    {
     "data": {
      "text/html": [
       "<div>\n",
       "<style scoped>\n",
       "    .dataframe tbody tr th:only-of-type {\n",
       "        vertical-align: middle;\n",
       "    }\n",
       "\n",
       "    .dataframe tbody tr th {\n",
       "        vertical-align: top;\n",
       "    }\n",
       "\n",
       "    .dataframe thead th {\n",
       "        text-align: right;\n",
       "    }\n",
       "</style>\n",
       "<table border=\"1\" class=\"dataframe\">\n",
       "  <thead>\n",
       "    <tr style=\"text-align: right;\">\n",
       "      <th></th>\n",
       "      <th>NumberofFloors</th>\n",
       "      <th>NumberofBuildings</th>\n",
       "      <th>BuildingAge</th>\n",
       "      <th>PropertyGFATotal</th>\n",
       "      <th>PropertyGFAParking</th>\n",
       "      <th>PropertyGFABuilding(s)</th>\n",
       "      <th>Neighborhood</th>\n",
       "      <th>renamed_PropertyType</th>\n",
       "      <th>Electricity_ratio</th>\n",
       "    </tr>\n",
       "  </thead>\n",
       "  <tbody>\n",
       "    <tr>\n",
       "      <th>593</th>\n",
       "      <td>2</td>\n",
       "      <td>1</td>\n",
       "      <td>55</td>\n",
       "      <td>16.908299</td>\n",
       "      <td>0</td>\n",
       "      <td>16.908299</td>\n",
       "      <td>GREATER DUWAMISH</td>\n",
       "      <td>Warehouse</td>\n",
       "      <td>100.00416</td>\n",
       "    </tr>\n",
       "    <tr>\n",
       "      <th>930</th>\n",
       "      <td>1</td>\n",
       "      <td>1</td>\n",
       "      <td>46</td>\n",
       "      <td>14.779617</td>\n",
       "      <td>0</td>\n",
       "      <td>14.779617</td>\n",
       "      <td>GREATER DUWAMISH</td>\n",
       "      <td>Warehouse</td>\n",
       "      <td>68.93000</td>\n",
       "    </tr>\n",
       "    <tr>\n",
       "      <th>838</th>\n",
       "      <td>3</td>\n",
       "      <td>1</td>\n",
       "      <td>103</td>\n",
       "      <td>15.219320</td>\n",
       "      <td>0</td>\n",
       "      <td>15.219320</td>\n",
       "      <td>DOWNTOWN</td>\n",
       "      <td>Office</td>\n",
       "      <td>100.00415</td>\n",
       "    </tr>\n",
       "    <tr>\n",
       "      <th>649</th>\n",
       "      <td>3</td>\n",
       "      <td>1</td>\n",
       "      <td>79</td>\n",
       "      <td>15.979916</td>\n",
       "      <td>0</td>\n",
       "      <td>15.979916</td>\n",
       "      <td>DOWNTOWN</td>\n",
       "      <td>Office</td>\n",
       "      <td>56.61121</td>\n",
       "    </tr>\n",
       "    <tr>\n",
       "      <th>529</th>\n",
       "      <td>5</td>\n",
       "      <td>1</td>\n",
       "      <td>23</td>\n",
       "      <td>16.754000</td>\n",
       "      <td>0</td>\n",
       "      <td>16.754000</td>\n",
       "      <td>MAGNOLIA / QUEEN ANNE</td>\n",
       "      <td>Office</td>\n",
       "      <td>100.00414</td>\n",
       "    </tr>\n",
       "  </tbody>\n",
       "</table>\n",
       "</div>"
      ],
      "text/plain": [
       "     NumberofFloors  NumberofBuildings  BuildingAge  PropertyGFATotal  \\\n",
       "593               2                  1           55         16.908299   \n",
       "930               1                  1           46         14.779617   \n",
       "838               3                  1          103         15.219320   \n",
       "649               3                  1           79         15.979916   \n",
       "529               5                  1           23         16.754000   \n",
       "\n",
       "     PropertyGFAParking  PropertyGFABuilding(s)           Neighborhood  \\\n",
       "593                   0               16.908299       GREATER DUWAMISH   \n",
       "930                   0               14.779617       GREATER DUWAMISH   \n",
       "838                   0               15.219320               DOWNTOWN   \n",
       "649                   0               15.979916               DOWNTOWN   \n",
       "529                   0               16.754000  MAGNOLIA / QUEEN ANNE   \n",
       "\n",
       "    renamed_PropertyType  Electricity_ratio  \n",
       "593            Warehouse          100.00416  \n",
       "930            Warehouse           68.93000  \n",
       "838               Office          100.00415  \n",
       "649               Office           56.61121  \n",
       "529               Office          100.00414  "
      ]
     },
     "execution_count": 63,
     "metadata": {},
     "output_type": "execute_result"
    }
   ],
   "source": [
    "X_train.head()"
   ]
  },
  {
   "cell_type": "markdown",
   "id": "528a69e3-35b9-488d-94ce-0b4d051529a8",
   "metadata": {},
   "source": [
    "<div style=\"background-color: #6D83C5;\" >\n",
    "    <h4 style=\"margin: auto; padding: 20px; color:#fff; \">3.3. Identifying types of features</h4>\n",
    "</div>"
   ]
  },
  {
   "cell_type": "code",
   "execution_count": 64,
   "id": "ba0f376a-fbd9-485e-b093-8d40d18c6b54",
   "metadata": {},
   "outputs": [],
   "source": [
    "NUMERICAL_FEATURES = [\"NumberofFloors\", \"NumberofBuildings\", \"BuildingAge\", \"PropertyGFATotal\", \"PropertyGFAParking\", \"PropertyGFABuilding(s)\", \"Electricity_ratio\"]\n",
    "CATEGORICAL_FEATURES = [\"Neighborhood\", \"renamed_PropertyType\"]"
   ]
  },
  {
   "cell_type": "markdown",
   "id": "3de540e5-1261-496d-8050-216637998259",
   "metadata": {},
   "source": [
    "<div style=\"background-color: #6D83C5;\" >\n",
    "    <h3 style=\"margin: auto; padding: 20px; color:#fff; \">4. Data preprocessing</h3>\n",
    "</div>"
   ]
  },
  {
   "cell_type": "markdown",
   "id": "8a31d329-ea06-43d4-87be-54bd6e4d3c83",
   "metadata": {
    "tags": []
   },
   "source": [
    "<div class=\"alert alert-block alert-info\">\n",
    "     We are going to process the features as follows<br><br>\n",
    "    <b>Numerical features</b>\n",
    "    <ul style=\"list-style-type: square;\">\n",
    "        <li>Normalizing the features through StandardScaler due to all of them do not have a normal distribution</li>\n",
    "    </ul> \n",
    "    <b>Categorical features</b>\n",
    "    <ul style=\"list-style-type: square;\">\n",
    "        <li>Transforming all features through LabelEncoder</li>\n",
    "    </ul>  \n",
    "</div>"
   ]
  },
  {
   "cell_type": "code",
   "execution_count": 65,
   "id": "b50a14e6-0afe-4ce2-81fc-26b6b27d59cc",
   "metadata": {},
   "outputs": [],
   "source": [
    "numerical_pipeline = make_pipeline(StandardScaler())\n",
    "\n",
    "categorical_pipeline = make_pipeline(OneHotEncoder())"
   ]
  },
  {
   "cell_type": "code",
   "execution_count": 66,
   "id": "d3904fa0-ec57-4dce-bf06-f206a7712e5a",
   "metadata": {},
   "outputs": [],
   "source": [
    "preprocessor = make_column_transformer(\n",
    "                (numerical_pipeline, NUMERICAL_FEATURES), \n",
    "                (categorical_pipeline, CATEGORICAL_FEATURES))"
   ]
  },
  {
   "cell_type": "markdown",
   "id": "947ba407-6f15-49ed-9d71-e77c2038fbb9",
   "metadata": {},
   "source": [
    "<div style=\"background-color: #6D83C5;\" >\n",
    "    <h3 style=\"margin: auto; padding: 20px; color:#fff; \">5. Modelisation</h3>\n",
    "</div>"
   ]
  },
  {
   "cell_type": "markdown",
   "id": "f18635cf-be6e-4380-b077-55a2d94f7a5a",
   "metadata": {
    "tags": []
   },
   "source": [
    "<div class=\"alert alert-block alert-info\">\n",
    "    List of models to use in default mode\n",
    "</div>"
   ]
  },
  {
   "cell_type": "code",
   "execution_count": 71,
   "id": "1a599428-2197-4ac3-a458-759cf781ad5f",
   "metadata": {},
   "outputs": [],
   "source": [
    "regressors = {\n",
    "    \"KNeighbors\" : KNeighborsRegressor(n_neighbors=2),\n",
    "    \"Linear\" : LinearRegression(),\n",
    "    \"Lasso\" : Lasso(alpha=1e-4),\n",
    "    \"Random Forest\" : RandomForestRegressor(),\n",
    "    \"SVR\" : SVR(kernel=\"rbf\", gamma=\"auto\", C=8),\n",
    "    \"Elastic Net\" : ElasticNet(),\n",
    "    \"AdaBoostRegressor\" : BaggingRegressor(),\n",
    "    \"Gradient Boosting\" : GradientBoostingRegressor(n_estimators=100, random_state=0)\n",
    "}"
   ]
  },
  {
   "cell_type": "markdown",
   "id": "0d1d0ff1-158a-4641-ab11-541d54e6e312",
   "metadata": {
    "tags": []
   },
   "source": [
    "<div class=\"alert alert-block alert-info\">\n",
    "    Models metrics\n",
    "</div>"
   ]
  },
  {
   "cell_type": "code",
   "execution_count": 72,
   "id": "1f6e5c3d-391b-4c6c-b925-2b0e7d8f1c69",
   "metadata": {},
   "outputs": [],
   "source": [
    "# Dataframe with y_test_transformed to compared againts predictions\n",
    "df_y_pred = pd.DataFrame({\n",
    "        \"Model\" : \"Original\",\n",
    "        \"y_pred\" : y_test\n",
    "})\n",
    "\n",
    "# List of metrics results for each models \n",
    "LIST_MODEL, LIST_SCORE, LIST_EVS, LIST_MAE, LIST_RMSE, LIST_R2SCORE  = ([] for i in range(6))\n",
    "\n",
    "for k, v in regressors.items():.\n",
    "    \n",
    "    start_time_model = timeit.default_timer()\n",
    "    \n",
    "    # Data preprocessing based on the pipelines and the regressors setup\n",
    "    model = make_pipeline(preprocessor, v)\n",
    "    \n",
    "    # Fit the model using the training data and training target\n",
    "    model.fit(X_train, y_train)\n",
    "    \n",
    "    # Making the prediction using the testing data\n",
    "    y_pred = model.predict(X_test)\n",
    "    \n",
    "    end_time_model =  \n",
    "    \n",
    "    # Concatenating predictions to compare against y_test_transformed\n",
    "    df_temp = pd.DataFrame({\n",
    "        \"Model\" : k,\n",
    "        \"y_pred\" : y_pred\n",
    "    })\n",
    "    \n",
    "    # Concatenating predictions to compare against y_test_transformed\n",
    "    df_y_pred = pd.concat([df_y_pred, df_temp])\n",
    "    \n",
    "    # Use score method to get accuracy of model\n",
    "    score = round(model.score(X_test, y_test), 2)\n",
    "    \n",
    "    # Calculating Root Mean Square Error for each model\n",
    "    RMSE = round(mean_squared_error(y_test, y_pred, squared=False), 2)\n",
    "    \n",
    "    # Calculating Explained variance score for each model (Best possible score is 1.0, lower values are worse.)\n",
    "    EVS = round(explained_variance_score(y_test, y_pred), 2)\n",
    "    \n",
    "    # Calculating R2 Coefficient of determination for each model (Best possible score is 1.0, lower values are worse.)\n",
    "    R2SCORE = round(r2_score(y_test, y_pred), 2)\n",
    "    \n",
    "    # Calculating the Mean absolute error\n",
    "    MAE = round(mean_absolute_error(y_test, y_pred), 2)\n",
    "    \n",
    "    # Adding results into LIST\n",
    "    LIST_MODEL.append(k)\n",
    "    LIST_SCORE.append(score)\n",
    "    LIST_EVS.append(EVS)\n",
    "    LIST_MAE.append(MAE)\n",
    "    LIST_RMSE.append(RMSE)\n",
    "    LIST_R2SCORE.append(str(R2SCORE*100)+\"%\")"
   ]
  },
  {
   "cell_type": "markdown",
   "id": "635f4c98-65e8-4707-bcaf-59b8a66905ca",
   "metadata": {},
   "source": [
    "<div class=\"alert alert-block alert-info\">\n",
    "    Comparison of energy predictions against original data\n",
    "</div>"
   ]
  },
  {
   "cell_type": "code",
   "execution_count": 76,
   "id": "25a223ae-8b16-44ac-9f39-ee0b741a3412",
   "metadata": {
    "tags": []
   },
   "outputs": [
    {
     "data": {
      "image/png": "[encoded data removed]",
      "text/plain": [
       "<Figure size 1008x432 with 1 Axes>"
      ]
     },
     "metadata": {},
     "output_type": "display_data"
    }
   ],
   "source": [
    "plt.figure(figsize=[14,6])\n",
    "sns.boxplot(x=df_y_pred[\"Model\"], y=df_y_pred[\"y_pred\"], showmeans=True, \n",
    "            meanprops={\"markerfacecolor\":\"white\", \"markeredgecolor\":\"blue\"})\n",
    "plt.title(\"Comparison of energy predictions\", size=16)\n",
    "plt.xlabel(\"Original target and targets predicted\", size=12)\n",
    "plt.tight_layout()\n",
    "plt.savefig(\"img/Comparison-of-imputations.png\")\n",
    "plt.show()"
   ]
  },
  {
   "cell_type": "markdown",
   "id": "d0cc8513-210a-43b5-b844-8ceffd0deeee",
   "metadata": {
    "tags": []
   },
   "source": [
    "<div class=\"alert alert-block alert-info\">\n",
    "    Creating dataframe based on metrics results for each models\n",
    "</div>"
   ]
  },
  {
   "cell_type": "markdown",
   "id": "6f26a89e-83bd-4ddd-8b0d-9f178ddef63a",
   "metadata": {},
   "source": [
    "- grafica de error de training vs error test\n",
    "https://scikit-learn.org/stable/auto_examples/model_selection/plot_train_error_vs_test_error.html\n",
    "\n",
    "- plotting learning curves\n",
    "https://scikit-learn.org/stable/auto_examples/model_selection/plot_learning_curve.html"
   ]
  },
  {
   "cell_type": "code",
   "execution_count": 74,
   "id": "5766294b-496d-4ec0-9b98-bb8a6c444c2f",
   "metadata": {},
   "outputs": [
    {
     "data": {
      "text/html": [
       "<div>\n",
       "<style scoped>\n",
       "    .dataframe tbody tr th:only-of-type {\n",
       "        vertical-align: middle;\n",
       "    }\n",
       "\n",
       "    .dataframe tbody tr th {\n",
       "        vertical-align: top;\n",
       "    }\n",
       "\n",
       "    .dataframe thead th {\n",
       "        text-align: right;\n",
       "    }\n",
       "</style>\n",
       "<table border=\"1\" class=\"dataframe\">\n",
       "  <thead>\n",
       "    <tr style=\"text-align: right;\">\n",
       "      <th></th>\n",
       "      <th>Model</th>\n",
       "      <th>Score</th>\n",
       "      <th>EVS</th>\n",
       "      <th>RMSE</th>\n",
       "      <th>MAE</th>\n",
       "      <th>R2SCORE</th>\n",
       "    </tr>\n",
       "  </thead>\n",
       "  <tbody>\n",
       "    <tr>\n",
       "      <th>0</th>\n",
       "      <td>KNeighbors</td>\n",
       "      <td>0.53</td>\n",
       "      <td>0.53</td>\n",
       "      <td>1.33</td>\n",
       "      <td>0.95</td>\n",
       "      <td>53.0%</td>\n",
       "    </tr>\n",
       "    <tr>\n",
       "      <th>1</th>\n",
       "      <td>Linear</td>\n",
       "      <td>0.68</td>\n",
       "      <td>0.68</td>\n",
       "      <td>1.09</td>\n",
       "      <td>0.79</td>\n",
       "      <td>68.0%</td>\n",
       "    </tr>\n",
       "    <tr>\n",
       "      <th>2</th>\n",
       "      <td>Lasso</td>\n",
       "      <td>0.68</td>\n",
       "      <td>0.68</td>\n",
       "      <td>1.09</td>\n",
       "      <td>0.79</td>\n",
       "      <td>68.0%</td>\n",
       "    </tr>\n",
       "    <tr>\n",
       "      <th>3</th>\n",
       "      <td>Random Forest</td>\n",
       "      <td>0.70</td>\n",
       "      <td>0.70</td>\n",
       "      <td>1.06</td>\n",
       "      <td>0.80</td>\n",
       "      <td>70.0%</td>\n",
       "    </tr>\n",
       "    <tr>\n",
       "      <th>4</th>\n",
       "      <td>SVR</td>\n",
       "      <td>0.68</td>\n",
       "      <td>0.68</td>\n",
       "      <td>1.09</td>\n",
       "      <td>0.77</td>\n",
       "      <td>68.0%</td>\n",
       "    </tr>\n",
       "    <tr>\n",
       "      <th>5</th>\n",
       "      <td>Elastic Net</td>\n",
       "      <td>0.44</td>\n",
       "      <td>0.44</td>\n",
       "      <td>1.45</td>\n",
       "      <td>1.08</td>\n",
       "      <td>44.0%</td>\n",
       "    </tr>\n",
       "    <tr>\n",
       "      <th>6</th>\n",
       "      <td>AdaBoostRegressor</td>\n",
       "      <td>0.68</td>\n",
       "      <td>0.68</td>\n",
       "      <td>1.09</td>\n",
       "      <td>0.83</td>\n",
       "      <td>68.0%</td>\n",
       "    </tr>\n",
       "    <tr>\n",
       "      <th>7</th>\n",
       "      <td>Gradient Boosting</td>\n",
       "      <td>0.73</td>\n",
       "      <td>0.73</td>\n",
       "      <td>1.00</td>\n",
       "      <td>0.76</td>\n",
       "      <td>73.0%</td>\n",
       "    </tr>\n",
       "  </tbody>\n",
       "</table>\n",
       "</div>"
      ],
      "text/plain": [
       "               Model  Score   EVS  RMSE   MAE R2SCORE\n",
       "0         KNeighbors   0.53  0.53  1.33  0.95   53.0%\n",
       "1             Linear   0.68  0.68  1.09  0.79   68.0%\n",
       "2              Lasso   0.68  0.68  1.09  0.79   68.0%\n",
       "3      Random Forest   0.70  0.70  1.06  0.80   70.0%\n",
       "4                SVR   0.68  0.68  1.09  0.77   68.0%\n",
       "5        Elastic Net   0.44  0.44  1.45  1.08   44.0%\n",
       "6  AdaBoostRegressor   0.68  0.68  1.09  0.83   68.0%\n",
       "7  Gradient Boosting   0.73  0.73  1.00  0.76   73.0%"
      ]
     },
     "execution_count": 74,
     "metadata": {},
     "output_type": "execute_result"
    }
   ],
   "source": [
    "df_models_metrics = pd.DataFrame({\n",
    "    \"Model\" : LIST_MODEL,\n",
    "    \"Score\" : LIST_SCORE,\n",
    "    \"EVS\" : LIST_EVS,\n",
    "    \"RMSE\" : LIST_RMSE,\n",
    "    \"MAE\" : LIST_MAE,\n",
    "    \"R2SCORE\" : LIST_R2SCORE,\n",
    "})\n",
    "\n",
    "df_models_metrics"
   ]
  },
  {
   "cell_type": "markdown",
   "id": "01b27b12-f469-4703-b748-d5843dbf4026",
   "metadata": {},
   "source": [
    "<div style=\"background-color: #6D83C5;\" >\n",
    "    <h1 style=\"margin: auto; padding: 20px; color:#fff; \">XXXXXXXXXXXXXXXXXXXXXXXXXXXXX</h1>\n",
    "</div>"
   ]
  },
  {
   "cell_type": "markdown",
   "id": "8ac46002-eb53-4759-9a53-62b3fdf3b281",
   "metadata": {},
   "source": [
    "<div class=\"alert alert-block alert-danger\">\n",
    "    <b>Flago position</b>\n",
    "</div>"
   ]
  },
  {
   "cell_type": "code",
   "execution_count": 24,
   "id": "3cd3091c-cdcd-4604-8a5c-f583cd1cd3b5",
   "metadata": {},
   "outputs": [
    {
     "ename": "NameError",
     "evalue": "name 'XXXXXXXXX' is not defined",
     "output_type": "error",
     "traceback": [
      "\u001b[1;31m---------------------------------------------------------------------------\u001b[0m",
      "\u001b[1;31mNameError\u001b[0m                                 Traceback (most recent call last)",
      "\u001b[1;32m<ipython-input-24-0f028bb48c53>\u001b[0m in \u001b[0;36m<module>\u001b[1;34m\u001b[0m\n\u001b[1;32m----> 1\u001b[1;33m \u001b[0mXXXXXXXXX\u001b[0m\u001b[1;33m\u001b[0m\u001b[1;33m\u001b[0m\u001b[0m\n\u001b[0m",
      "\u001b[1;31mNameError\u001b[0m: name 'XXXXXXXXX' is not defined"
     ]
    }
   ],
   "source": [
    "XXXXXXXXX"
   ]
  },
  {
   "cell_type": "code",
   "execution_count": null,
   "id": "ec29355f-fb5d-4c1b-a0bb-d1ad96da9b8d",
   "metadata": {},
   "outputs": [],
   "source": []
  },
  {
   "cell_type": "code",
   "execution_count": null,
   "id": "3a4d6a1e-443e-470f-9309-13287a639363",
   "metadata": {},
   "outputs": [],
   "source": []
  },
  {
   "cell_type": "code",
   "execution_count": null,
   "id": "21d37a7a-c93f-4982-8071-5157605c1ae9",
   "metadata": {},
   "outputs": [],
   "source": []
  },
  {
   "cell_type": "code",
   "execution_count": null,
   "id": "bd2d2951-f173-47e4-bb31-a42bcdfd178c",
   "metadata": {},
   "outputs": [],
   "source": []
  },
  {
   "cell_type": "markdown",
   "id": "f8f712ba-b5d4-4247-a6d9-a9075066803d",
   "metadata": {
    "tags": []
   },
   "source": [
    "<div class=\"alert alert-block alert-info\">\n",
    "    Creating dataframe based on metrics results for each models\n",
    "</div>"
   ]
  },
  {
   "cell_type": "code",
   "execution_count": null,
   "id": "9da614e5-2a89-48d7-83c1-2ac807ba2db1",
   "metadata": {},
   "outputs": [],
   "source": []
  },
  {
   "cell_type": "code",
   "execution_count": null,
   "id": "8eb461fc-f218-48bf-b5fa-56260596a2bd",
   "metadata": {},
   "outputs": [],
   "source": []
  },
  {
   "cell_type": "code",
   "execution_count": null,
   "id": "1515cfa9-b5a0-463c-93ad-b24ce151fc7d",
   "metadata": {},
   "outputs": [],
   "source": []
  },
  {
   "cell_type": "code",
   "execution_count": null,
   "id": "c29874f2-7473-47f1-82b9-a837be928008",
   "metadata": {},
   "outputs": [],
   "source": []
  },
  {
   "cell_type": "code",
   "execution_count": null,
   "id": "23469917-6fe5-46f6-a6ea-005ff1ca2f35",
   "metadata": {},
   "outputs": [],
   "source": []
  },
  {
   "cell_type": "code",
   "execution_count": null,
   "id": "083fdd9c-d901-4699-b1bf-4f7fddbcc004",
   "metadata": {},
   "outputs": [],
   "source": []
  },
  {
   "cell_type": "code",
   "execution_count": null,
   "id": "bf16da8b-de71-4e77-bd33-7341b08659a8",
   "metadata": {},
   "outputs": [],
   "source": []
  },
  {
   "cell_type": "code",
   "execution_count": null,
   "id": "80c73759-23ca-494f-87b8-237e13b7565d",
   "metadata": {},
   "outputs": [],
   "source": []
  },
  {
   "cell_type": "markdown",
   "id": "e0f0a070-3170-441c-8b76-bc779646cc19",
   "metadata": {},
   "source": [
    "<div style=\"background-color: #6D83C5;\" >\n",
    "    <h4 style=\"margin: auto; padding: 20px; color:#fff; \">3.2. Train/Test split</h4>\n",
    "</div>"
   ]
  },
  {
   "cell_type": "markdown",
   "id": "ca95ef0f-ac12-48df-b897-e10d655f960b",
   "metadata": {},
   "source": [
    "<div class=\"alert alert-block alert-info\">\n",
    "    At this point, we are going to predict <b>SiteEnergyUse(kBtu)</b>\n",
    "</div>"
   ]
  },
  {
   "cell_type": "code",
   "execution_count": null,
   "id": "1b9258cc-0d53-4829-8ec3-e94428daa0df",
   "metadata": {},
   "outputs": [],
   "source": [
    "X_train, X_test, y_train, y_test = train_test_split(X, y_energy, test_size=0.3, random_state=0)"
   ]
  },
  {
   "cell_type": "code",
   "execution_count": null,
   "id": "d6715827-61b3-4058-92b8-d9b9b77e1901",
   "metadata": {},
   "outputs": [],
   "source": [
    "print(\"X_train: {}\".format(X_train.shape))\n",
    "print(\"y_train: {}\".format(y_train.shape))"
   ]
  },
  {
   "cell_type": "code",
   "execution_count": null,
   "id": "a7da0804-f54a-4172-ad71-8d86f2d9ecac",
   "metadata": {},
   "outputs": [],
   "source": [
    "X_train.head()"
   ]
  },
  {
   "cell_type": "markdown",
   "id": "e86e5031-2813-434b-b5c1-a2fd3c4be4ef",
   "metadata": {},
   "source": [
    "<div style=\"background-color: #6D83C5;\" >\n",
    "    <h4 style=\"margin: auto; padding: 20px; color:#fff; \">3.3. Identifying types of features</h4>\n",
    "</div>"
   ]
  },
  {
   "cell_type": "code",
   "execution_count": null,
   "id": "e259000e-ac0e-4ea0-9dad-93e7da00b72d",
   "metadata": {},
   "outputs": [],
   "source": [
    "NUMERICAL_FEATURES = [\"NumberofFloors\", \"NumberofBuildings\", \"BuildingAge\", \"PropertyGFATotal\", \"PropertyGFAParking\", \"PropertyGFABuilding(s)\"]\n",
    "CATEGORICAL_FEATURES = [\"Neighborhood\", \"renamed_PropertyType\"]"
   ]
  },
  {
   "cell_type": "markdown",
   "id": "ed7bd8b4-fcdb-4c73-a34a-88286409cb3c",
   "metadata": {},
   "source": [
    "<div style=\"background-color: #6D83C5;\" >\n",
    "    <h3 style=\"margin: auto; padding: 20px; color:#fff; \">4. Data preprocessing</h3>\n",
    "</div>"
   ]
  },
  {
   "cell_type": "markdown",
   "id": "1450e0eb-e776-4d65-bc25-0236605f9ea3",
   "metadata": {
    "tags": []
   },
   "source": [
    "<div class=\"alert alert-block alert-info\">\n",
    "     We are going to process the features as follows<br><br>\n",
    "    <b>Numerical features</b>\n",
    "    <ul style=\"list-style-type: square;\">\n",
    "        <li>Transforming all features to log due to all of them do not have a normal distribution</li>\n",
    "        <li>Normalizing the features through StandardScaler due to all of them do not have a normal distribution</li>\n",
    "    </ul> \n",
    "    <b>Categorical features</b>\n",
    "    <ul style=\"list-style-type: square;\">\n",
    "        <li>Transforming all features through OneHotEncoder</li>\n",
    "    </ul>  \n",
    "</div>"
   ]
  },
  {
   "cell_type": "code",
   "execution_count": null,
   "id": "0f27c66e-2057-4dd5-b283-7597dc280568",
   "metadata": {},
   "outputs": [],
   "source": [
    "log_trans_pipeline = make_pipeline(FunctionTransformer(np.log2))\n",
    "\n",
    "numerical_pipeline = make_pipeline(StandardScaler())\n",
    "\n",
    "categorical_pipeline = make_pipeline(LabelEncoder())"
   ]
  },
  {
   "cell_type": "code",
   "execution_count": null,
   "id": "83a97041-d5a2-4c16-baf6-babaf23430dc",
   "metadata": {},
   "outputs": [],
   "source": [
    "preprocessor = make_column_transformer(\n",
    "                (log_trans_pipeline, LOG_TRANS_FEATURES),\n",
    "                (numerical_pipeline, NUMERICAL_FEATURES), \n",
    "                (categorical_pipeline, CATEGORICAL_FEATURES))"
   ]
  },
  {
   "cell_type": "markdown",
   "id": "21069fa1-6dad-4c5c-b83c-bce7fafcbc6b",
   "metadata": {
    "tags": []
   },
   "source": [
    "<div class=\"alert alert-block alert-info\">\n",
    "    Log transformation of target variable based on the analysis done\n",
    "</div>"
   ]
  },
  {
   "cell_type": "code",
   "execution_count": null,
   "id": "2048efe5-87f7-49a5-a9e2-e62cb6f8c29f",
   "metadata": {},
   "outputs": [],
   "source": [
    "y_train_transformed = y_train.apply(np.log1p)"
   ]
  },
  {
   "cell_type": "code",
   "execution_count": null,
   "id": "3ef0dba7-0519-4b02-a747-9e3794e51ae7",
   "metadata": {},
   "outputs": [],
   "source": [
    "y_test_transformed = y_test.apply(np.log1p)"
   ]
  },
  {
   "cell_type": "code",
   "execution_count": null,
   "id": "c41ad5b9-0603-4465-b69a-78c6ec50ce25",
   "metadata": {},
   "outputs": [],
   "source": []
  },
  {
   "cell_type": "code",
   "execution_count": null,
   "id": "c8631595-e847-4e25-ace7-cabbd4223c1a",
   "metadata": {},
   "outputs": [],
   "source": []
  },
  {
   "cell_type": "markdown",
   "id": "5a2f862b-65f3-4850-acf9-2ed9efe1454f",
   "metadata": {},
   "source": [
    "<div style=\"background-color: #6D83C5;\" >\n",
    "    <h3 style=\"margin: auto; padding: 20px; color:#fff; \">5. Modelisation</h3>\n",
    "</div>"
   ]
  },
  {
   "cell_type": "markdown",
   "id": "35c34b1f-71e8-41fb-acf5-e3da028ae597",
   "metadata": {
    "tags": []
   },
   "source": [
    "<div class=\"alert alert-block alert-info\">\n",
    "    List of models to use\n",
    "</div>"
   ]
  },
  {
   "cell_type": "code",
   "execution_count": null,
   "id": "07e60c34-49c0-4040-91e4-d0a06729077a",
   "metadata": {},
   "outputs": [],
   "source": [
    "regressors = {\n",
    "    \"KNeighbors\" : KNeighborsRegressor(n_neighbors=2),\n",
    "    \"Linear\" : LinearRegression(),\n",
    "    \"Lasso\" : Lasso(alpha=1e-4),\n",
    "    \"Random Forest\" : RandomForestRegressor(),\n",
    "    \"AdaBoostRegressor\" : BaggingRegressor(),\n",
    "    \"Gradient Boosting\" : GradientBoostingRegressor(n_estimators=100, random_state=0)\n",
    "    \n",
    "    \"Poisson\" : PoissonRegressor(),\n",
    "    \"Ridge\" : Ridge(),\n",
    "    \n",
    "    \n",
    "    \"SVR\" : SVR(kernel=\"rbf\", gamma=\"auto\", C=8),\n",
    "    \"Elastic Net\" : ElasticNet(),\n",
    "    \"Bagging\" : BaggingRegressor(),\n",
    "    \"AdaBoostRegressor\" : BaggingRegressor(),\n",
    "    \"Extra Tree\" : ExtraTreesRegressor(n_estimators=100, n_jobs=-1),\n",
    "    \"Gradient Boosting\" : GradientBoostingRegressor(n_estimators=100, random_state=0)\n",
    "}"
   ]
  },
  {
   "cell_type": "markdown",
   "id": "69a6f420-989d-46b5-9565-41c5aef63899",
   "metadata": {
    "tags": []
   },
   "source": [
    "<div class=\"alert alert-block alert-info\">\n",
    "    Models metrics\n",
    "</div>"
   ]
  },
  {
   "cell_type": "code",
   "execution_count": null,
   "id": "0e8e6185-4463-4530-87b9-42a043ac7040",
   "metadata": {},
   "outputs": [],
   "source": [
    "# Dataframe with y_test_transformed to compared againts predictions\n",
    "df_y_pred = pd.DataFrame({\n",
    "        \"Model\" : \"Original\",\n",
    "        \"y_pred\" : y_test_transformed\n",
    "})\n",
    "\n",
    "# List of metrics results for each models \n",
    "LIST_MODEL, LIST_SCORE, LIST_EVS, LIST_MAE, LIST_RMSE, LIST_R2SCORE  = ([] for i in range(6))\n",
    "\n",
    "for k, v in regressors.items():\n",
    "    \n",
    "    # Data preprocessing based on the pipelines and the regressors setup\n",
    "    model = make_pipeline(preprocessor, v)\n",
    "    \n",
    "    # Fit the model using the training data and training target\n",
    "    model.fit(X_train, y_train_transformed)\n",
    "    \n",
    "    # Making the prediction using the testing data\n",
    "    y_pred = model.predict(X_test)\n",
    "    \n",
    "    # Concatenating predictions to compare against y_test_transformed\n",
    "    df_temp = pd.DataFrame({\n",
    "        \"Model\" : k,\n",
    "        \"y_pred\" : y_pred\n",
    "    })\n",
    "    \n",
    "    # Concatenating predictions to compare against y_test_transformed\n",
    "    df_y_pred = pd.concat([df_y_pred, df_temp])\n",
    "    \n",
    "    # Use score method to get accuracy of model\n",
    "    score = round(model.score(X_test, y_test_transformed), 2)\n",
    "    \n",
    "    # Calculating Root Mean Square Error for each model\n",
    "    RMSE = round(mean_squared_error(y_test_transformed, y_pred, squared=False), 2)\n",
    "    \n",
    "    # Calculating Explained variance score for each model (Best possible score is 1.0, lower values are worse.)\n",
    "    EVS = round(explained_variance_score(y_test_transformed, y_pred), 2)\n",
    "    \n",
    "    # Calculating R2 Coefficient of determination for each model (Best possible score is 1.0, lower values are worse.)\n",
    "    R2SCORE = round(r2_score(y_test_transformed, y_pred), 2)\n",
    "    \n",
    "    # Calculating the Mean absolute error\n",
    "    MAE = round(mean_absolute_error(y_test_transformed, y_pred), 2)\n",
    "    \n",
    "    # Adding results into LIST\n",
    "    LIST_MODEL.append(k)\n",
    "    LIST_SCORE.append(score)\n",
    "    LIST_EVS.append(EVS)\n",
    "    LIST_MAE.append(MAE)\n",
    "    LIST_RMSE.append(RMSE)\n",
    "    LIST_R2SCORE.append(str(R2SCORE*100)+\"%\")"
   ]
  },
  {
   "cell_type": "markdown",
   "id": "b57a6023-5bea-45f5-884f-09f759d9f44e",
   "metadata": {},
   "source": [
    "<div class=\"alert alert-block alert-info\">\n",
    "    Comparison of energy predictions against original data\n",
    "</div>"
   ]
  },
  {
   "cell_type": "code",
   "execution_count": null,
   "id": "4c01828f-447a-46c0-a388-aa243488ff59",
   "metadata": {},
   "outputs": [],
   "source": [
    "plt.figure(figsize=[10,6])\n",
    "sns.boxplot(x=df_y_pred[\"Model\"], y=df_y_pred[\"y_pred\"], showmeans=True, \n",
    "            meanprops={\"markerfacecolor\":\"white\", \"markeredgecolor\":\"blue\"})\n",
    "plt.title(\"Comparison of energy predictions\", size=16)\n",
    "plt.xlabel(\"Original target and targets predicted\", size=12)\n",
    "plt.tight_layout()\n",
    "plt.savefig(\"img/Comparison-of-imputations.png\")\n",
    "plt.show()"
   ]
  },
  {
   "cell_type": "markdown",
   "id": "feafa538-8133-4bc1-9fb5-fb85f446f725",
   "metadata": {
    "tags": []
   },
   "source": [
    "<div class=\"alert alert-block alert-info\">\n",
    "    Creating dataframe based on metrics results for each models\n",
    "</div>"
   ]
  },
  {
   "cell_type": "code",
   "execution_count": null,
   "id": "fc3837df-5306-434d-b22c-982a44fbfc23",
   "metadata": {},
   "outputs": [],
   "source": [
    "df_models_metrics = pd.DataFrame({\n",
    "    \"Model\" : LIST_MODEL,\n",
    "    \"Score\" : LIST_SCORE,\n",
    "    \"EVS\" : LIST_EVS,\n",
    "    \"RMSE\" : LIST_RMSE,\n",
    "    \"MAE\" : LIST_MAE,\n",
    "    \"R2SCORE\" : LIST_R2SCORE,\n",
    "})\n",
    "\n",
    "df_models_metrics"
   ]
  },
  {
   "cell_type": "markdown",
   "id": "fb5860e3-1364-460e-8b23-85cfd0ba3c57",
   "metadata": {},
   "source": [
    "<div style=\"background-color: #6D83C5;\" >\n",
    "    <h1 style=\"margin: auto; padding: 20px; color:#fff; \">XXXXXXXXXXXXXXXXXXXXXXXXXXXXX</h1>\n",
    "</div>"
   ]
  },
  {
   "cell_type": "markdown",
   "id": "b85f00ef-e510-4709-95a6-7a533f106e38",
   "metadata": {},
   "source": [
    "<div class=\"alert alert-block alert-danger\">\n",
    "    <b>Flago position</b>\n",
    "</div>"
   ]
  },
  {
   "cell_type": "code",
   "execution_count": null,
   "id": "06bcf610-89f7-4df5-8ede-db9364651148",
   "metadata": {},
   "outputs": [],
   "source": [
    "XXXXXXXXX"
   ]
  },
  {
   "cell_type": "code",
   "execution_count": null,
   "id": "16fea1c8-3387-43c3-b7f3-e3653c1c7d70",
   "metadata": {},
   "outputs": [],
   "source": []
  },
  {
   "cell_type": "code",
   "execution_count": null,
   "id": "bcd5f45a-7001-4ac2-b539-d96359eaa117",
   "metadata": {},
   "outputs": [],
   "source": []
  },
  {
   "cell_type": "markdown",
   "id": "23e85fca-cffe-4ed1-a482-22af78fcbffe",
   "metadata": {},
   "source": [
    "<div style=\"background-color: #6D83C5;\" >\n",
    "    <h4 style=\"margin: auto; padding: 20px; color:#fff; \">5.1. Cross Validation</h4>\n",
    "</div>"
   ]
  },
  {
   "cell_type": "code",
   "execution_count": null,
   "id": "97b6c217-4bb7-41c8-ae85-395eb3df41ce",
   "metadata": {
    "tags": []
   },
   "outputs": [],
   "source": [
    "from sklearn.model_selection import cross_val_score"
   ]
  },
  {
   "cell_type": "code",
   "execution_count": null,
   "id": "cda6c80d-c487-4802-bfd7-3cb95e9fa590",
   "metadata": {},
   "outputs": [],
   "source": [
    "regressors = {\n",
    "#     \"KNeighbors\" : KNeighborsRegressor(n_neighbors=2),\n",
    "    \"Linear\" : LinearRegression(),\n",
    "#     \"Poisson\" : PoissonRegressor(),\n",
    "#     \"Ridge\" : Ridge(),\n",
    "#     \"Lasso\" : Lasso(alpha=1e-4),\n",
    "#     \"Random Forest\" : RandomForestRegressor(),\n",
    "#     \"SVR\" : SVR(kernel=\"rbf\", gamma=\"auto\", C=8),\n",
    "#     \"Elastic Net\" : ElasticNet(),\n",
    "#     \"Bagging\" : BaggingRegressor(),\n",
    "#     \"AdaBoostRegressor\" : BaggingRegressor(),\n",
    "#     \"Extra Tree\" : ExtraTreesRegressor(n_estimators=100, n_jobs=-1),\n",
    "#     \"Gradient Boosting\" : GradientBoostingRegressor(n_estimators=100, random_state=0)\n",
    "}"
   ]
  },
  {
   "cell_type": "code",
   "execution_count": null,
   "id": "fcdc1314-131f-4cf3-8bf0-455b28bde77b",
   "metadata": {},
   "outputs": [],
   "source": [
    "# List of metrics results for each models \n",
    "LIST_MODEL, LIST_SCORE  = ([] for i in range(2))\n",
    "\n",
    "for k, v in regressors.items():\n",
    "    \n",
    "    # Data preprocessing based on the pipelines and the regressors setup\n",
    "    model = make_pipeline(preprocessor, v)\n",
    "    \n",
    "    # Use score method to get accuracy of model\n",
    "    score = cross_val_score(model, X_train, y_train_transformed, cv=5).mean()\n",
    "    \n",
    "    \n",
    "    # Adding results into LIST\n",
    "    LIST_MODEL.append(k)\n",
    "    LIST_SCORE.append(score)"
   ]
  },
  {
   "cell_type": "code",
   "execution_count": null,
   "id": "e5a0b755-e0e4-412e-bcfc-320065563595",
   "metadata": {},
   "outputs": [],
   "source": []
  },
  {
   "cell_type": "code",
   "execution_count": null,
   "id": "b0359704-2729-4760-ab3f-992154694a3a",
   "metadata": {},
   "outputs": [],
   "source": [
    "df_models_metrics = pd.DataFrame({\n",
    "    \"Model\" : LIST_MODEL,\n",
    "    \"Score\" : LIST_SCORE,\n",
    "\n",
    "})\n",
    "\n",
    "df_models_metrics"
   ]
  },
  {
   "cell_type": "code",
   "execution_count": null,
   "id": "cc620043-f3de-4ec0-ae63-f4e44aec0ee8",
   "metadata": {},
   "outputs": [],
   "source": []
  },
  {
   "cell_type": "code",
   "execution_count": null,
   "id": "9f64bfd4-9864-469f-ad7b-551ead76d669",
   "metadata": {},
   "outputs": [],
   "source": []
  },
  {
   "cell_type": "code",
   "execution_count": null,
   "id": "2b6f9f46-c1f6-426f-824d-a974fb42d170",
   "metadata": {},
   "outputs": [],
   "source": []
  },
  {
   "cell_type": "code",
   "execution_count": null,
   "id": "b00dc544-1436-4d2f-b8bd-1649297682fb",
   "metadata": {},
   "outputs": [],
   "source": []
  },
  {
   "cell_type": "code",
   "execution_count": null,
   "id": "2ce658b9-65ac-424a-83a2-62d3cdf23767",
   "metadata": {},
   "outputs": [],
   "source": []
  },
  {
   "cell_type": "code",
   "execution_count": null,
   "id": "bc0902b5-eccf-45e1-b5a2-375ad09cb684",
   "metadata": {},
   "outputs": [],
   "source": []
  },
  {
   "cell_type": "code",
   "execution_count": null,
   "id": "d313b7c7-df19-4187-9908-796ec0a6c766",
   "metadata": {},
   "outputs": [],
   "source": []
  },
  {
   "cell_type": "code",
   "execution_count": null,
   "id": "51438b3b-7ca0-4917-939a-ff10378aceb9",
   "metadata": {},
   "outputs": [],
   "source": [
    "cross_val_score(model, X_train, y_train_transformed, cv=5, score=\"accuracy\")"
   ]
  },
  {
   "cell_type": "markdown",
   "id": "bb317639-1f2b-4ac2-8216-ee5a4b1a9c7a",
   "metadata": {},
   "source": [
    "<div class=\"alert alert-block alert-success\">\n",
    "    <b>done</b>\n",
    "</div>"
   ]
  },
  {
   "cell_type": "code",
   "execution_count": null,
   "id": "9a449bba-a4af-441b-922e-9579b6cd9db7",
   "metadata": {},
   "outputs": [],
   "source": [
    "regressors = [\n",
    "    KNeighborsRegressor(n_neighbors=5), \n",
    "    LogisticRegression(),\n",
    "    \n",
    "#     LinearRegression(),\n",
    "#     Ridge(),\n",
    "#     Lasso(alpha=1e-4),\n",
    "#     RandomForestRegressor(),\n",
    "#     BaggingRegressor(),\n",
    "#     AdaBoostRegressor(),\n",
    "#     SVR(C=8, gamma='auto')    \n",
    "]"
   ]
  },
  {
   "cell_type": "code",
   "execution_count": null,
   "id": "d95004bf-831a-4032-bf96-2cf635c7a5f1",
   "metadata": {},
   "outputs": [],
   "source": [
    "for regressor in regressors:\n",
    "    \n",
    "    print(regressor)\n",
    "    model = make_pipeline(preprocessor, regressor)\n",
    "    model.fit(X_train, y_train_transformed)\n",
    "    y_pred = model.predict(X_test)\n",
    "    \n",
    "    print(\"Test set score : {:.2f}%\".format(np.mean(y_pred == y_test_transformed)))\n",
    "    print(\"Test set score : {:.2f}%\".format(model.score(X_test, y_test_transformed)))\n",
    "    print(\"\\n\")"
   ]
  },
  {
   "cell_type": "markdown",
   "id": "f0b353c0-ccdf-4bf0-b589-f86f2ef4ac6f",
   "metadata": {},
   "source": [
    "<div class=\"alert alert-block alert-success\">\n",
    "    <b>done</b>\n",
    "</div>"
   ]
  },
  {
   "cell_type": "code",
   "execution_count": null,
   "id": "293ce45a-c24c-4a5d-b667-a79a8e6adcac",
   "metadata": {},
   "outputs": [],
   "source": []
  },
  {
   "cell_type": "code",
   "execution_count": null,
   "id": "8000aca5-5f9f-4c76-bfe8-99585d18fc67",
   "metadata": {},
   "outputs": [],
   "source": []
  },
  {
   "cell_type": "code",
   "execution_count": null,
   "id": "cac44ad6-002a-4b04-8a40-de7cc05a96ba",
   "metadata": {},
   "outputs": [],
   "source": []
  },
  {
   "cell_type": "code",
   "execution_count": null,
   "id": "7dafa7cf-295b-48bb-a787-f54fa0319221",
   "metadata": {},
   "outputs": [],
   "source": []
  },
  {
   "cell_type": "code",
   "execution_count": null,
   "id": "0c437e39-de48-4d78-b726-983ed03d856a",
   "metadata": {},
   "outputs": [],
   "source": []
  },
  {
   "cell_type": "code",
   "execution_count": null,
   "id": "f6b8855e-2a40-45b6-9806-e28af41572aa",
   "metadata": {},
   "outputs": [],
   "source": []
  },
  {
   "cell_type": "code",
   "execution_count": null,
   "id": "9fece7bb-519b-4b35-98a8-b3526bb7d734",
   "metadata": {},
   "outputs": [],
   "source": []
  },
  {
   "cell_type": "code",
   "execution_count": null,
   "id": "1d9021ca-8aeb-40c0-b3b7-b35a65ec4776",
   "metadata": {},
   "outputs": [],
   "source": []
  },
  {
   "cell_type": "code",
   "execution_count": null,
   "id": "87b3cc5c-49b9-4217-86cf-91f1ed5c3e1d",
   "metadata": {},
   "outputs": [],
   "source": []
  },
  {
   "cell_type": "markdown",
   "id": "70740450-07d9-4a4a-b1cd-313e93deaf1d",
   "metadata": {},
   "source": [
    "<div class=\"alert alert-block alert-success\">\n",
    "    <b>done</b>\n",
    "</div>"
   ]
  },
  {
   "cell_type": "code",
   "execution_count": null,
   "id": "26a9c579-ea34-418b-836e-12f2178d8ca2",
   "metadata": {},
   "outputs": [],
   "source": [
    "knn = KNeighborsRegressor(n_neighbors=2)"
   ]
  },
  {
   "cell_type": "code",
   "execution_count": null,
   "id": "74d887c5-1e34-42a1-80c8-042301da736f",
   "metadata": {},
   "outputs": [],
   "source": [
    "model = make_pipeline(preprocessor, knn)"
   ]
  },
  {
   "cell_type": "code",
   "execution_count": null,
   "id": "2fcee722-cb49-4168-ad0d-301de8f28e57",
   "metadata": {},
   "outputs": [],
   "source": [
    "model.fit(X_train, y_train)"
   ]
  },
  {
   "cell_type": "code",
   "execution_count": null,
   "id": "438f879f-1156-43f7-a576-185cb75334b4",
   "metadata": {},
   "outputs": [],
   "source": [
    "y_pred = model.predict(X_test)"
   ]
  },
  {
   "cell_type": "code",
   "execution_count": null,
   "id": "f79858b2-9be6-4d7e-99af-fcb31bc86a6e",
   "metadata": {},
   "outputs": [],
   "source": [
    "print(\"Test set score : {:.2f}%\".format(np.mean(y_pred == y_test)))"
   ]
  },
  {
   "cell_type": "code",
   "execution_count": null,
   "id": "c0599df3-272d-495f-8298-edad712ff2f3",
   "metadata": {},
   "outputs": [],
   "source": [
    "print(\"Test set score : {:.2f}%\".format(model.score(X_test, y_test)))"
   ]
  },
  {
   "cell_type": "markdown",
   "id": "b39fec18-3e43-486b-be60-8b382fe219e8",
   "metadata": {},
   "source": [
    "<div class=\"alert alert-block alert-success\">\n",
    "    <b>done</b>\n",
    "</div>"
   ]
  },
  {
   "cell_type": "code",
   "execution_count": null,
   "id": "a6a0f7b8-bed6-4724-8713-7b1ff36b8f64",
   "metadata": {},
   "outputs": [],
   "source": []
  },
  {
   "cell_type": "code",
   "execution_count": null,
   "id": "a203d104-7d9f-4778-9a6f-70db3bcca6f4",
   "metadata": {},
   "outputs": [],
   "source": []
  },
  {
   "cell_type": "code",
   "execution_count": null,
   "id": "f62714b0-82be-49f1-9e7b-8d3ac70ffeb1",
   "metadata": {},
   "outputs": [],
   "source": []
  },
  {
   "cell_type": "code",
   "execution_count": null,
   "id": "2c859797-db8d-4752-87e7-232833015068",
   "metadata": {},
   "outputs": [],
   "source": []
  },
  {
   "cell_type": "code",
   "execution_count": null,
   "id": "fc93cc43-778e-4a3a-ada9-f0cc0e4b7291",
   "metadata": {},
   "outputs": [],
   "source": []
  },
  {
   "cell_type": "code",
   "execution_count": null,
   "id": "f5600a0b-1568-4d05-81e2-dd5553f28638",
   "metadata": {},
   "outputs": [],
   "source": []
  },
  {
   "cell_type": "code",
   "execution_count": null,
   "id": "b12554cb-3f0b-4187-a6f0-9a85bb13c2a7",
   "metadata": {},
   "outputs": [],
   "source": []
  },
  {
   "cell_type": "code",
   "execution_count": null,
   "id": "d4776fd5-2517-49c1-b22a-225cea137be9",
   "metadata": {},
   "outputs": [],
   "source": []
  },
  {
   "cell_type": "markdown",
   "id": "63dbc23d-d92d-4387-bef7-6ad784a15a62",
   "metadata": {},
   "source": [
    "<div class=\"alert alert-block alert-warning\">\n",
    "    <b>done</b>\n",
    "</div>"
   ]
  },
  {
   "cell_type": "code",
   "execution_count": null,
   "id": "d97fe16f-89ce-445c-abfd-874a97aef8e8",
   "metadata": {},
   "outputs": [],
   "source": [
    "# from sklearn.preprocessing import FunctionTransformer"
   ]
  },
  {
   "cell_type": "code",
   "execution_count": null,
   "id": "76158115-6a03-4f98-b05d-61fbde0b201b",
   "metadata": {},
   "outputs": [],
   "source": [
    "numerical_pipeline = make_pipeline(StandardScaler())\n",
    "categorical_pipeline = make_pipeline(OneHotEncoder())"
   ]
  },
  {
   "cell_type": "code",
   "execution_count": null,
   "id": "6992b5f6-92f6-4713-8beb-95ef5262b554",
   "metadata": {},
   "outputs": [],
   "source": [
    "preprocessor = make_column_transformer(\n",
    "                (numerical_pipeline, NUMERICAL_FEATURES), \n",
    "                (categorical_pipeline, CATEGORICAL_FEATURES))"
   ]
  },
  {
   "cell_type": "code",
   "execution_count": null,
   "id": "fcf15bca-875b-4410-8f9c-16430d43cf8d",
   "metadata": {},
   "outputs": [],
   "source": []
  },
  {
   "cell_type": "code",
   "execution_count": null,
   "id": "3087782d-ba2f-4aa5-9ada-b2653bda3c0c",
   "metadata": {},
   "outputs": [],
   "source": []
  },
  {
   "cell_type": "code",
   "execution_count": null,
   "id": "e0b8409a-4279-4363-8a44-ba0b7847f9ef",
   "metadata": {},
   "outputs": [],
   "source": [
    "from sklearn.neighbors import KNeighborsRegressor"
   ]
  },
  {
   "cell_type": "code",
   "execution_count": null,
   "id": "7deac88f-f11f-4fcc-a5e7-fd87453df686",
   "metadata": {},
   "outputs": [],
   "source": [
    "knn = KNeighborsRegressor(n_neighbors=2)"
   ]
  },
  {
   "cell_type": "code",
   "execution_count": null,
   "id": "728d5355-695c-4d80-a4cc-932f3685398f",
   "metadata": {},
   "outputs": [],
   "source": [
    "model = make_pipeline(preprocessor, knn)"
   ]
  },
  {
   "cell_type": "code",
   "execution_count": null,
   "id": "54be8fb5-5708-4871-9b51-bf99376d2d3d",
   "metadata": {},
   "outputs": [],
   "source": [
    "model.fit(X_train, y_train)"
   ]
  },
  {
   "cell_type": "code",
   "execution_count": null,
   "id": "b5f52e94-a69b-4630-95d8-e2c1a8340ade",
   "metadata": {},
   "outputs": [],
   "source": [
    "y_pred = model.predict(X_test)"
   ]
  },
  {
   "cell_type": "code",
   "execution_count": null,
   "id": "24a0dfe9-d44f-41c8-b3b6-2518e4d2b0c5",
   "metadata": {},
   "outputs": [],
   "source": [
    "print(\"Test set score : {:.2f}%\".format(np.mean(y_pred == y_test)))"
   ]
  },
  {
   "cell_type": "code",
   "execution_count": null,
   "id": "dd403dd0-e503-4910-9183-00e54aa50e41",
   "metadata": {},
   "outputs": [],
   "source": [
    "print(\"Test set score : {:.2f}%\".format(model.score(X_test, y_test)))"
   ]
  },
  {
   "cell_type": "markdown",
   "id": "abb1458e-8a99-4ec1-9660-6adb98f8ee00",
   "metadata": {},
   "source": [
    "<div class=\"alert alert-block alert-warning\">\n",
    "    <b>done</b>\n",
    "</div>"
   ]
  },
  {
   "cell_type": "code",
   "execution_count": null,
   "id": "65263eed-ede1-4e47-b2ac-4ce01edd715b",
   "metadata": {},
   "outputs": [],
   "source": []
  },
  {
   "cell_type": "code",
   "execution_count": null,
   "id": "cd634219-4ba1-4237-ae8f-22252e687c15",
   "metadata": {},
   "outputs": [],
   "source": []
  },
  {
   "cell_type": "code",
   "execution_count": null,
   "id": "f0764d57-ce61-458c-9c0c-3493b168b271",
   "metadata": {},
   "outputs": [],
   "source": []
  },
  {
   "cell_type": "code",
   "execution_count": null,
   "id": "4cf450f9-78b7-406c-89a5-827d14be27b8",
   "metadata": {},
   "outputs": [],
   "source": []
  },
  {
   "cell_type": "code",
   "execution_count": null,
   "id": "23154a98-b52c-4d35-9558-88627a3aeacd",
   "metadata": {},
   "outputs": [],
   "source": []
  },
  {
   "cell_type": "code",
   "execution_count": null,
   "id": "3ce0aff0-6527-4a25-9036-c6c7e35611ec",
   "metadata": {},
   "outputs": [],
   "source": []
  },
  {
   "cell_type": "code",
   "execution_count": null,
   "id": "425bd7a1-3a83-41a4-a8a0-974ea3bb0b81",
   "metadata": {},
   "outputs": [],
   "source": []
  },
  {
   "cell_type": "markdown",
   "id": "33682a18-d6cd-4c68-8f32-e78829f8d039",
   "metadata": {},
   "source": [
    "<div style=\"background-color: #6D83C5;\" >\n",
    "    <h3 style=\"margin: auto; padding: 20px; color:#fff; \">4. Energy prediction</h3>\n",
    "</div>"
   ]
  },
  {
   "cell_type": "markdown",
   "id": "76344594-bd35-440c-9517-1feff00c765d",
   "metadata": {},
   "source": [
    "<div style=\"background-color: #6D83C5;\" >\n",
    "    <h4 style=\"margin: auto; padding: 20px; color:#fff; \">4.1. Train/Test split</h4>\n",
    "</div>"
   ]
  },
  {
   "cell_type": "markdown",
   "id": "7c601d0e-4c5f-4a7d-a02d-a0a350ff1574",
   "metadata": {},
   "source": [
    "<div class=\"alert alert-block alert-info\">\n",
    "    At this point, we are going to predict <b>SiteEnergyUse(kBtu)</b>\n",
    "</div>"
   ]
  },
  {
   "cell_type": "code",
   "execution_count": null,
   "id": "ca876310-03a6-4293-a4ed-aa68f035ccf3",
   "metadata": {},
   "outputs": [],
   "source": [
    "X_train, X_test, y_train, y_test = train_test_split(X, y_energy, test_size=0.3, random_state=0)"
   ]
  },
  {
   "cell_type": "code",
   "execution_count": null,
   "id": "eab16208-1356-4352-a604-da01851169da",
   "metadata": {},
   "outputs": [],
   "source": [
    "print(\"X_train: {}\".format(X_train.shape))\n",
    "print(\"y_train: {}\".format(y_train.shape))"
   ]
  },
  {
   "cell_type": "code",
   "execution_count": null,
   "id": "d2d08481-eefc-49c6-952d-5d37ffc3651c",
   "metadata": {},
   "outputs": [],
   "source": [
    "X_train.head()"
   ]
  },
  {
   "cell_type": "code",
   "execution_count": null,
   "id": "0e4908c3-a8c1-4532-b15f-26cc3aaa34fa",
   "metadata": {},
   "outputs": [],
   "source": []
  },
  {
   "cell_type": "code",
   "execution_count": null,
   "id": "f1f0b21d-ca79-4119-8829-04b70e108428",
   "metadata": {},
   "outputs": [],
   "source": []
  },
  {
   "cell_type": "code",
   "execution_count": null,
   "id": "1a23d700-7ecd-44f2-8c8a-6c8ee654bc75",
   "metadata": {},
   "outputs": [],
   "source": []
  },
  {
   "cell_type": "code",
   "execution_count": null,
   "id": "e5380e0a-117c-44de-a286-b0dc4d712eb9",
   "metadata": {},
   "outputs": [],
   "source": []
  },
  {
   "cell_type": "code",
   "execution_count": null,
   "id": "62f9f78f-2bfc-4bbb-8a42-7abfe82cf743",
   "metadata": {},
   "outputs": [],
   "source": []
  },
  {
   "cell_type": "markdown",
   "id": "e62c0158-efab-4001-993d-0b98c4e8403d",
   "metadata": {},
   "source": [
    "<div class=\"alert alert-block alert-danger\">\n",
    "    <b>Flago position</b>\n",
    "</div>"
   ]
  },
  {
   "cell_type": "code",
   "execution_count": null,
   "id": "178cf62c-1ed1-47f6-b5ef-532f0d33aac3",
   "metadata": {},
   "outputs": [],
   "source": [
    "XXXXXXXXX"
   ]
  },
  {
   "cell_type": "code",
   "execution_count": null,
   "id": "3a47f51a-22cf-4534-a6b3-59199f21ed7b",
   "metadata": {},
   "outputs": [],
   "source": [
    "y_train"
   ]
  },
  {
   "cell_type": "code",
   "execution_count": null,
   "id": "a2829245-8b02-4c17-bd8f-6f159f1bbf1e",
   "metadata": {},
   "outputs": [],
   "source": []
  },
  {
   "cell_type": "code",
   "execution_count": null,
   "id": "cb5dfcf3-ca1b-4bea-922e-c1e5aca53772",
   "metadata": {},
   "outputs": [],
   "source": [
    "from sklearn.compose import make_column_transformer\n",
    "from sklearn.pipeline import make_pipeline\n",
    "from sklearn.preprocessing import OneHotEncoder, StandardScaler, LabelEncoder\n",
    "from sklearn.neighbors import KNeighborsClassifier\n",
    "# from sklearn.linear_model import LogisticRegression\n",
    "from sklearn.neighbors import KNeighborsRegressor"
   ]
  },
  {
   "cell_type": "code",
   "execution_count": null,
   "id": "24275ff6-2da4-40af-8ec1-79bdebe8236c",
   "metadata": {},
   "outputs": [],
   "source": []
  },
  {
   "cell_type": "code",
   "execution_count": null,
   "id": "009eb997-a5dc-4b7c-a135-555de4c8d48d",
   "metadata": {},
   "outputs": [],
   "source": [
    "# scaler = StandardScaler()"
   ]
  },
  {
   "cell_type": "code",
   "execution_count": null,
   "id": "0d83bdda-2de8-4100-90d1-505788e867ae",
   "metadata": {},
   "outputs": [],
   "source": [
    "# y_energy = scaler.fit_transform(data[[\"SiteEnergyUse(kBtu)\"]])"
   ]
  },
  {
   "cell_type": "code",
   "execution_count": null,
   "id": "27658e2c-ced9-4253-9dd6-f060aa7309d5",
   "metadata": {},
   "outputs": [],
   "source": []
  },
  {
   "cell_type": "code",
   "execution_count": null,
   "id": "617028be-885a-4afc-8cbd-2a73db6c097c",
   "metadata": {},
   "outputs": [],
   "source": []
  },
  {
   "cell_type": "code",
   "execution_count": null,
   "id": "39e71c25-3906-4b7d-8c2f-8438e9d28b00",
   "metadata": {},
   "outputs": [],
   "source": []
  },
  {
   "cell_type": "code",
   "execution_count": null,
   "id": "3cf72e40-d42c-4c3b-ba5b-6a7e3a71b9c4",
   "metadata": {},
   "outputs": [],
   "source": [
    "numerical_pipeline = make_pipeline(StandardScaler())\n",
    "categorical_pipeline = make_pipeline(OneHotEncoder())"
   ]
  },
  {
   "cell_type": "code",
   "execution_count": null,
   "id": "b17e7e90-1a41-4d9f-9b3a-a3f7a4409a01",
   "metadata": {},
   "outputs": [],
   "source": [
    "preprocessor = make_column_transformer(\n",
    "                (numerical_pipeline, NUMERICAL_FEATURES), \n",
    "                (categorical_pipeline, CATEGORICAL_FEATURES))"
   ]
  },
  {
   "cell_type": "code",
   "execution_count": null,
   "id": "0153193e-30df-45ad-bf85-8d9bb60b1d49",
   "metadata": {},
   "outputs": [],
   "source": [
    "knn = KNeighborsRegressor(n_neighbors=2)"
   ]
  },
  {
   "cell_type": "code",
   "execution_count": null,
   "id": "9afa217c-2dff-41be-ab5e-eb28841cc091",
   "metadata": {},
   "outputs": [],
   "source": [
    "model = make_pipeline(preprocessor, knn)"
   ]
  },
  {
   "cell_type": "code",
   "execution_count": null,
   "id": "e00ab1a2-06bf-4582-8ea6-f9fe43cfc067",
   "metadata": {},
   "outputs": [],
   "source": [
    "model.fit(X_train, y_train)"
   ]
  },
  {
   "cell_type": "code",
   "execution_count": null,
   "id": "e2a8c38a-32eb-4d27-bc37-a10fcd1e6191",
   "metadata": {},
   "outputs": [],
   "source": [
    "from sklearn.metrics import f1_score"
   ]
  },
  {
   "cell_type": "code",
   "execution_count": null,
   "id": "898f53c5-e67a-41f2-91b9-6433e47eb382",
   "metadata": {},
   "outputs": [],
   "source": [
    "y_pred = model.predict(X_test)"
   ]
  },
  {
   "cell_type": "code",
   "execution_count": null,
   "id": "428651e6-e3dc-4cb9-9d4e-158ef94e9efa",
   "metadata": {},
   "outputs": [],
   "source": [
    "print(\"Test set score : {:.2f}%\".format(np.mean(y_pred == y_test)))"
   ]
  },
  {
   "cell_type": "code",
   "execution_count": null,
   "id": "eb77c12c-1098-404d-a76b-90598c14003d",
   "metadata": {},
   "outputs": [],
   "source": [
    "print(\"Test set score : {:.2f}%\".format(knn.score(X_test, y_test)))"
   ]
  },
  {
   "cell_type": "code",
   "execution_count": null,
   "id": "5f1e6eeb-2752-4265-9552-a5839691b12b",
   "metadata": {},
   "outputs": [],
   "source": []
  }
 ],
 "metadata": {
  "kernelspec": {
   "display_name": "Python 3",
   "language": "python",
   "name": "python3"
  },
  "language_info": {
   "codemirror_mode": {
    "name": "ipython",
    "version": 3
   },
   "file_extension": ".py",
   "mimetype": "text/x-python",
   "name": "python",
   "nbconvert_exporter": "python",
   "pygments_lexer": "ipython3",
   "version": "3.8.5"
  }
 },
 "nbformat": 4,
 "nbformat_minor": 5
}
