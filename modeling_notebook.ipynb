{
 "cells": [
  {
   "cell_type": "markdown",
   "id": "ce468ca3-b790-4103-8261-1356811912a9",
   "metadata": {},
   "source": [
    "<div style=\"display: flex; background-color: #3F579F;\">\n",
    "    <h1 style=\"margin: auto; font-weight: bold; padding: 30px 30px 0px 30px;\" align=\"center\">Consumption needs of buildings - Project 4</h1>\n",
    "</div>\n",
    "<div style=\"display: flex; background-color: #3F579F; margin: auto; padding: 5px 30px 0px 30px;\" >\n",
    "    <h2 style=\"width: 100%; text-align: center; float: left;\" align=\"center\">| Modeling notebook |</h2>\n",
    "</div>\n",
    "<div style=\"display: flex; background-color: #3F579F; margin: auto; padding: 10px 30px 30px 30px;\">\n",
    "    <h3 style=\"width: 100%; text-align: center; font-size:26px; float: left;\" align=\"center\">Data Scientist course - OpenClassrooms</h3>\n",
    "</div>"
   ]
  },
  {
   "cell_type": "markdown",
   "id": "24f8fd9b-9c31-4b49-866b-0854e0201db2",
   "metadata": {
    "tags": []
   },
   "source": [
    "<div style=\"background-color: #506AB9;\" >\n",
    "    <h3 style=\"margin: auto; padding: 20px; color:#fff; \">1. Libraries and functions</h3>\n",
    "</div>"
   ]
  },
  {
   "cell_type": "markdown",
   "id": "136892e5-2f9c-4512-8693-c96d4b8cc38d",
   "metadata": {},
   "source": [
    "<div style=\"background-color: #6D83C5;\" >\n",
    "    <h4 style=\"margin: auto; padding: 20px; color:#fff; \">1.1. Libraries and functions</h3>\n",
    "</div>"
   ]
  },
  {
   "cell_type": "code",
   "execution_count": 1,
   "id": "53a341ca-1d3d-478d-a3ec-6319bfc0694e",
   "metadata": {},
   "outputs": [],
   "source": [
    "## df_analysis\n",
    "import io\n",
    "import gc\n",
    "import timeit\n",
    "import math\n",
    "from math import prod\n",
    "\n",
    "## General\n",
    "import pandas as pd\n",
    "import numpy as np\n",
    "import matplotlib.pyplot as plt\n",
    "import seaborn as sns\n",
    "\n",
    "## Scikit Learn library\n",
    "from sklearn.model_selection import train_test_split\n",
    "from sklearn.compose import make_column_transformer\n",
    "from sklearn.pipeline import make_pipeline\n",
    "from sklearn.preprocessing import FunctionTransformer, StandardScaler, OneHotEncoder\n",
    "from sklearn.metrics import mean_squared_error, mean_absolute_error, r2_score\n",
    "from sklearn.inspection import permutation_importance\n",
    "from sklearn.model_selection import cross_validate, KFold, GridSearchCV, validation_curve, learning_curve, cross_val_predict, cross_val_predict\n",
    "from sklearn.neighbors import KNeighborsRegressor\n",
    "from sklearn.linear_model import LinearRegression, Lasso\n",
    "from sklearn.ensemble import RandomForestRegressor, GradientBoostingRegressor\n",
    "from sklearn.svm import SVR\n",
    "\n",
    "\n",
    "%matplotlib inline\n",
    "\n",
    "sns.set_theme(style=\"darkgrid\")\n",
    "\n",
    "SUB = str.maketrans(\"0123456789\", \"₀₁₂₃₄₅₆₇₈₉\")\n",
    "SUP = str.maketrans(\"0123456789\", \"⁰¹²³⁴⁵⁶⁷⁸⁹\")"
   ]
  },
  {
   "cell_type": "markdown",
   "id": "cb2533d3-cfa1-4697-875b-007f75b4c6a0",
   "metadata": {},
   "source": [
    "<div style=\"background-color: #6D83C5;\" >\n",
    "    <h4 style=\"margin: auto; padding: 20px; color:#fff; \">1.2. Functions declaration</h4>\n",
    "</div>"
   ]
  },
  {
   "cell_type": "code",
   "execution_count": 2,
   "id": "1fbda1fe-ff0e-47f5-9b0d-68e4ef09468a",
   "metadata": {
    "tags": []
   },
   "outputs": [],
   "source": [
    "def df_analysis(df, name_df, *args, **kwargs):\n",
    "    \"\"\"\n",
    "    Method used to analyze on the DataFrame.\n",
    "\n",
    "    Parameters:\n",
    "    -----------------\n",
    "        df (pandas.DataFrame): Dataset to analyze\n",
    "        name_df (str): Dataset name\n",
    "        \n",
    "        *args, **kwargs:\n",
    "        -----------------\n",
    "            columns (list): Dataframe keys in list format\n",
    "            flag (str): Flag to show complete information about the dataset to analyse\n",
    "                        \"complete\" shows all information about the dataset\n",
    "\n",
    "    Returns:\n",
    "    -----------------\n",
    "        None. \n",
    "        Print the analysis on the Dataset. \n",
    "    \"\"\"\n",
    "    \n",
    "    # Getting the variables\n",
    "    columns = kwargs.get(\"columns\", None)\n",
    "    type_analysis = kwargs.get(\"type_analysis\", None)\n",
    "    \n",
    "    ORDERING_COMPLETE = [\n",
    "        \"name\", \"type\", \"records\", \"unique\", \"# NaN\", \"% NaN\", \"mean\", \"min\", \"25%\", \"50%\", \"75%\", \"max\", \"std\"\n",
    "    ]\n",
    "    \n",
    "    # Calculating the memory usage based on dataframe.info()\n",
    "    buf = io.StringIO()\n",
    "    df.info(buf=buf)\n",
    "    memory_usage = buf.getvalue().split('\\n')[-2]\n",
    "    \n",
    "    if df.empty:\n",
    "        print(\"The\", name_df, \"dataset is empty. Please verify the file.\")\n",
    "    else:\n",
    "        empty_cols = [col for col in df.columns if df[col].isna().all()] # identifying empty columns\n",
    "        df_rows_duplicates = df[df.duplicated()] #identifying full duplicates rows\n",
    "        \n",
    "        # Creating a dataset based on Type object and records by columns\n",
    "        type_cols = df.dtypes.apply(lambda x: x.name).to_dict() \n",
    "        df_resume = pd.DataFrame(list(type_cols.items()), columns = [\"name\", \"type\"])\n",
    "        df_resume[\"records\"] = list(df.count())\n",
    "        df_resume[\"# NaN\"] = list(df.isnull().sum())\n",
    "        df_resume[\"% NaN\"] = list(((df.isnull().sum() / len(df.index))*100).round(2))\n",
    "        \n",
    "        print(\"\\nAnalysis of\", name_df, \"dataset\")\n",
    "        print(\"--------------------------------------------------------------------\")\n",
    "        print(\"- Dataset shape:                 \", df.shape[0], \"rows and\", df.shape[1], \"columns\")\n",
    "        print(\"- Total of NaN values:           \", df.isna().sum().sum())\n",
    "        print(\"- Percentage of NaN:             \", round((df.isna().sum().sum() / prod(df.shape)) * 100, 2), \"%\")\n",
    "        print(\"- Total of full duplicates rows: \", df_rows_duplicates.shape[0])\n",
    "        print(\"- Total of empty rows:           \", df.shape[0] - df.dropna(axis=\"rows\", how=\"all\").shape[0]) if df.dropna(axis=\"rows\", how=\"all\").shape[0] < df.shape[0] else \\\n",
    "                    print(\"- Total of empty rows:            0\")\n",
    "        print(\"- Total of empty columns:        \", len(empty_cols))\n",
    "        print(\"  + The empty column is:         \", empty_cols) if len(empty_cols) == 1 else \\\n",
    "                    print(\"  + The empty column are:         \", empty_cols) if len(empty_cols) >= 1 else None\n",
    "        print(\"- Unique indexes:                \", df.index.is_unique)\n",
    "        \n",
    "        if columns is not None:\n",
    "            print(\"\\n- The key(s):\", columns, \"is not present multiple times in the dataframe.\\n  It CAN be used as a primary key.\") if df.size == df.drop_duplicates(columns).size else \\\n",
    "                print(\"\\n- The key(s):\", columns, \"is present multiple times in the dataframe.\\n  It CANNOT be used as a primary key.\")\n",
    "        \n",
    "        if type_analysis == \"summarized\":\n",
    "            print(\"\\n\")\n",
    "        \n",
    "        if type_analysis is None or type_analysis != \"summarized\":\n",
    "            pd.set_option(\"display.max_rows\", None) # show full of showing rows\n",
    "            pd.set_option(\"display.max_columns\", None) # show full of showing cols\n",
    "            pd.set_option(\"display.max_colwidth\", None) # show full width of showing cols\n",
    "            pd.set_option(\"display.float_format\", lambda x: \"%.5f\" % x) # show full content in cell    \n",
    "            \n",
    "            if type_analysis is None or type_analysis != \"complete\":\n",
    "                print(\"\\n- Type object and records by columns      (\",memory_usage,\")\")\n",
    "                print(\"--------------------------------------------------------------------\")\n",
    "            elif type_analysis == \"complete\":\n",
    "                df_resume[\"unique\"] = list(df.nunique())\n",
    "                df_desc = pd.DataFrame(df.describe().T).reset_index()\n",
    "                df_desc = df_desc.rename(columns={\"index\": \"name\"})\n",
    "                df_resume = df_resume.merge(right=df_desc[[\"name\", \"mean\", \"min\", \"25%\", \"50%\", \"75%\", \"max\", \"std\"]], on=\"name\", how=\"left\")\n",
    "                df_resume = df_resume[ORDERING_COMPLETE]\n",
    "                print(\"\\n- Type object and records by columns      (\",memory_usage,\")\")\n",
    "                print(\"--------------------------------------------------------------------\")\n",
    "                \n",
    "            display(df_resume.sort_values(\"records\", ascending=False))\n",
    "            \n",
    "            pd.reset_option(\"display.max_rows\") # reset max of showing rows\n",
    "            pd.reset_option(\"display.max_columns\") # reset max of showing cols\n",
    "            pd.reset_option(\"display.max_colwidth\") # reset width of showing cols\n",
    "            pd.reset_option(\"display.float_format\") # reset show full content in cell\n",
    "            \n",
    "        # deleting dataframe to free memory\n",
    "        if type_analysis == \"complete\":\n",
    "            del [[df_resume, df_desc]]\n",
    "            gc.collect()\n",
    "            df_resume, df_desc = (pd.DataFrame() for i in range(2))\n",
    "        else:\n",
    "            del df_resume\n",
    "            gc.collect()\n",
    "            df_resume = pd.DataFrame()"
   ]
  },
  {
   "cell_type": "markdown",
   "id": "4a187b49-944f-4539-aea7-c88f883479f2",
   "metadata": {
    "tags": []
   },
   "source": [
    "<div style=\"background-color: #506AB9;\" >\n",
    "    <h3 style=\"margin: auto; padding: 20px; color:#fff; \">2. Importing files</h3>\n",
    "</div>"
   ]
  },
  {
   "cell_type": "markdown",
   "id": "d5220848-185a-4fb5-9d2d-b03a7ebbfbcc",
   "metadata": {},
   "source": [
    "<div style=\"background-color: #6D83C5;\" >\n",
    "    <h4 style=\"margin: auto; padding: 20px; color:#fff; \">2.1. Importing and preparing files</h4>\n",
    "</div>"
   ]
  },
  {
   "cell_type": "code",
   "execution_count": 3,
   "id": "0d36be08-1cf5-4bd1-b2e3-55026d6bf1a1",
   "metadata": {},
   "outputs": [],
   "source": [
    "data = pd.read_csv(r\"datasets\\df_cleaned_final.csv\")"
   ]
  },
  {
   "cell_type": "code",
   "execution_count": 4,
   "id": "b3037c28-e24a-4c8b-9b7c-f7876d9ba3f9",
   "metadata": {},
   "outputs": [
    {
     "data": {
      "text/html": [
       "<div>\n",
       "<style scoped>\n",
       "    .dataframe tbody tr th:only-of-type {\n",
       "        vertical-align: middle;\n",
       "    }\n",
       "\n",
       "    .dataframe tbody tr th {\n",
       "        vertical-align: top;\n",
       "    }\n",
       "\n",
       "    .dataframe thead th {\n",
       "        text-align: right;\n",
       "    }\n",
       "</style>\n",
       "<table border=\"1\" class=\"dataframe\">\n",
       "  <thead>\n",
       "    <tr style=\"text-align: right;\">\n",
       "      <th></th>\n",
       "      <th>NumberofFloors</th>\n",
       "      <th>NumberofBuildings</th>\n",
       "      <th>BuildingAge</th>\n",
       "      <th>PropertyGFATotal</th>\n",
       "      <th>PropertyGFAParking</th>\n",
       "      <th>PropertyGFABuilding(s)</th>\n",
       "      <th>Neighborhood</th>\n",
       "      <th>renamed_PropertyType</th>\n",
       "      <th>Electricity_ratio</th>\n",
       "      <th>SiteEnergyUse(kBtu)</th>\n",
       "      <th>GHGEmissions(MetricTonsCO2e)</th>\n",
       "    </tr>\n",
       "  </thead>\n",
       "  <tbody>\n",
       "    <tr>\n",
       "      <th>0</th>\n",
       "      <td>12</td>\n",
       "      <td>1</td>\n",
       "      <td>94</td>\n",
       "      <td>88434</td>\n",
       "      <td>0</td>\n",
       "      <td>88434</td>\n",
       "      <td>DOWNTOWN</td>\n",
       "      <td>Hotel</td>\n",
       "      <td>52.79951</td>\n",
       "      <td>6981428.0</td>\n",
       "      <td>249.43</td>\n",
       "    </tr>\n",
       "    <tr>\n",
       "      <th>1</th>\n",
       "      <td>11</td>\n",
       "      <td>1</td>\n",
       "      <td>25</td>\n",
       "      <td>103566</td>\n",
       "      <td>15064</td>\n",
       "      <td>88502</td>\n",
       "      <td>DOWNTOWN</td>\n",
       "      <td>Hotel</td>\n",
       "      <td>46.74768</td>\n",
       "      <td>8354235.0</td>\n",
       "      <td>263.51</td>\n",
       "    </tr>\n",
       "    <tr>\n",
       "      <th>2</th>\n",
       "      <td>41</td>\n",
       "      <td>1</td>\n",
       "      <td>52</td>\n",
       "      <td>956110</td>\n",
       "      <td>196718</td>\n",
       "      <td>759392</td>\n",
       "      <td>DOWNTOWN</td>\n",
       "      <td>Hotel</td>\n",
       "      <td>68.04593</td>\n",
       "      <td>73130656.0</td>\n",
       "      <td>2061.48</td>\n",
       "    </tr>\n",
       "    <tr>\n",
       "      <th>3</th>\n",
       "      <td>10</td>\n",
       "      <td>1</td>\n",
       "      <td>95</td>\n",
       "      <td>61320</td>\n",
       "      <td>0</td>\n",
       "      <td>61320</td>\n",
       "      <td>DOWNTOWN</td>\n",
       "      <td>Hotel</td>\n",
       "      <td>9.80903</td>\n",
       "      <td>28229320.0</td>\n",
       "      <td>1936.34</td>\n",
       "    </tr>\n",
       "    <tr>\n",
       "      <th>4</th>\n",
       "      <td>18</td>\n",
       "      <td>1</td>\n",
       "      <td>41</td>\n",
       "      <td>175580</td>\n",
       "      <td>62000</td>\n",
       "      <td>113580</td>\n",
       "      <td>DOWNTOWN</td>\n",
       "      <td>Hotel</td>\n",
       "      <td>40.90771</td>\n",
       "      <td>14829099.0</td>\n",
       "      <td>507.70</td>\n",
       "    </tr>\n",
       "  </tbody>\n",
       "</table>\n",
       "</div>"
      ],
      "text/plain": [
       "   NumberofFloors  NumberofBuildings  BuildingAge  PropertyGFATotal  \\\n",
       "0              12                  1           94             88434   \n",
       "1              11                  1           25            103566   \n",
       "2              41                  1           52            956110   \n",
       "3              10                  1           95             61320   \n",
       "4              18                  1           41            175580   \n",
       "\n",
       "   PropertyGFAParking  PropertyGFABuilding(s) Neighborhood  \\\n",
       "0                   0                   88434     DOWNTOWN   \n",
       "1               15064                   88502     DOWNTOWN   \n",
       "2              196718                  759392     DOWNTOWN   \n",
       "3                   0                   61320     DOWNTOWN   \n",
       "4               62000                  113580     DOWNTOWN   \n",
       "\n",
       "  renamed_PropertyType  Electricity_ratio  SiteEnergyUse(kBtu)  \\\n",
       "0                Hotel           52.79951            6981428.0   \n",
       "1                Hotel           46.74768            8354235.0   \n",
       "2                Hotel           68.04593           73130656.0   \n",
       "3                Hotel            9.80903           28229320.0   \n",
       "4                Hotel           40.90771           14829099.0   \n",
       "\n",
       "   GHGEmissions(MetricTonsCO2e)  \n",
       "0                        249.43  \n",
       "1                        263.51  \n",
       "2                       2061.48  \n",
       "3                       1936.34  \n",
       "4                        507.70  "
      ]
     },
     "execution_count": 4,
     "metadata": {},
     "output_type": "execute_result"
    }
   ],
   "source": [
    "data.head()"
   ]
  },
  {
   "cell_type": "code",
   "execution_count": 5,
   "id": "98575580-cc9a-45c8-b096-f9b3a83aa953",
   "metadata": {},
   "outputs": [
    {
     "name": "stdout",
     "output_type": "stream",
     "text": [
      "\n",
      "Analysis of data dataset\n",
      "--------------------------------------------------------------------\n",
      "- Dataset shape:                  1656 rows and 11 columns\n",
      "- Total of NaN values:            0\n",
      "- Percentage of NaN:              0.0 %\n",
      "- Total of full duplicates rows:  0\n",
      "- Total of empty rows:            0\n",
      "- Total of empty columns:         0\n",
      "- Unique indexes:                 True\n",
      "\n",
      "- Type object and records by columns      ( memory usage: 142.4+ KB )\n",
      "--------------------------------------------------------------------\n"
     ]
    },
    {
     "data": {
      "text/html": [
       "<div>\n",
       "<style scoped>\n",
       "    .dataframe tbody tr th:only-of-type {\n",
       "        vertical-align: middle;\n",
       "    }\n",
       "\n",
       "    .dataframe tbody tr th {\n",
       "        vertical-align: top;\n",
       "    }\n",
       "\n",
       "    .dataframe thead th {\n",
       "        text-align: right;\n",
       "    }\n",
       "</style>\n",
       "<table border=\"1\" class=\"dataframe\">\n",
       "  <thead>\n",
       "    <tr style=\"text-align: right;\">\n",
       "      <th></th>\n",
       "      <th>name</th>\n",
       "      <th>type</th>\n",
       "      <th>records</th>\n",
       "      <th>unique</th>\n",
       "      <th># NaN</th>\n",
       "      <th>% NaN</th>\n",
       "      <th>mean</th>\n",
       "      <th>min</th>\n",
       "      <th>25%</th>\n",
       "      <th>50%</th>\n",
       "      <th>75%</th>\n",
       "      <th>max</th>\n",
       "      <th>std</th>\n",
       "    </tr>\n",
       "  </thead>\n",
       "  <tbody>\n",
       "    <tr>\n",
       "      <th>0</th>\n",
       "      <td>NumberofFloors</td>\n",
       "      <td>int64</td>\n",
       "      <td>1656</td>\n",
       "      <td>42</td>\n",
       "      <td>0</td>\n",
       "      <td>0.00000</td>\n",
       "      <td>4.13285</td>\n",
       "      <td>1.00000</td>\n",
       "      <td>1.00000</td>\n",
       "      <td>2.00000</td>\n",
       "      <td>4.00000</td>\n",
       "      <td>99.00000</td>\n",
       "      <td>6.53546</td>\n",
       "    </tr>\n",
       "    <tr>\n",
       "      <th>1</th>\n",
       "      <td>NumberofBuildings</td>\n",
       "      <td>int64</td>\n",
       "      <td>1656</td>\n",
       "      <td>11</td>\n",
       "      <td>0</td>\n",
       "      <td>0.00000</td>\n",
       "      <td>1.13164</td>\n",
       "      <td>1.00000</td>\n",
       "      <td>1.00000</td>\n",
       "      <td>1.00000</td>\n",
       "      <td>1.00000</td>\n",
       "      <td>111.00000</td>\n",
       "      <td>2.91856</td>\n",
       "    </tr>\n",
       "    <tr>\n",
       "      <th>2</th>\n",
       "      <td>BuildingAge</td>\n",
       "      <td>int64</td>\n",
       "      <td>1656</td>\n",
       "      <td>113</td>\n",
       "      <td>0</td>\n",
       "      <td>0.00000</td>\n",
       "      <td>59.22645</td>\n",
       "      <td>6.00000</td>\n",
       "      <td>32.00000</td>\n",
       "      <td>56.00000</td>\n",
       "      <td>91.00000</td>\n",
       "      <td>121.00000</td>\n",
       "      <td>32.65619</td>\n",
       "    </tr>\n",
       "    <tr>\n",
       "      <th>3</th>\n",
       "      <td>PropertyGFATotal</td>\n",
       "      <td>int64</td>\n",
       "      <td>1656</td>\n",
       "      <td>1577</td>\n",
       "      <td>0</td>\n",
       "      <td>0.00000</td>\n",
       "      <td>119192.86171</td>\n",
       "      <td>11285.00000</td>\n",
       "      <td>29398.50000</td>\n",
       "      <td>49289.50000</td>\n",
       "      <td>105070.75000</td>\n",
       "      <td>9320156.00000</td>\n",
       "      <td>298038.52446</td>\n",
       "    </tr>\n",
       "    <tr>\n",
       "      <th>4</th>\n",
       "      <td>PropertyGFAParking</td>\n",
       "      <td>int64</td>\n",
       "      <td>1656</td>\n",
       "      <td>326</td>\n",
       "      <td>0</td>\n",
       "      <td>0.00000</td>\n",
       "      <td>13321.64251</td>\n",
       "      <td>0.00000</td>\n",
       "      <td>0.00000</td>\n",
       "      <td>0.00000</td>\n",
       "      <td>0.00000</td>\n",
       "      <td>512608.00000</td>\n",
       "      <td>43664.74773</td>\n",
       "    </tr>\n",
       "    <tr>\n",
       "      <th>5</th>\n",
       "      <td>PropertyGFABuilding(s)</td>\n",
       "      <td>int64</td>\n",
       "      <td>1656</td>\n",
       "      <td>1572</td>\n",
       "      <td>0</td>\n",
       "      <td>0.00000</td>\n",
       "      <td>105871.21920</td>\n",
       "      <td>3636.00000</td>\n",
       "      <td>28356.00000</td>\n",
       "      <td>47484.50000</td>\n",
       "      <td>94479.00000</td>\n",
       "      <td>9320156.00000</td>\n",
       "      <td>284529.39591</td>\n",
       "    </tr>\n",
       "    <tr>\n",
       "      <th>6</th>\n",
       "      <td>Neighborhood</td>\n",
       "      <td>object</td>\n",
       "      <td>1656</td>\n",
       "      <td>13</td>\n",
       "      <td>0</td>\n",
       "      <td>0.00000</td>\n",
       "      <td>NaN</td>\n",
       "      <td>NaN</td>\n",
       "      <td>NaN</td>\n",
       "      <td>NaN</td>\n",
       "      <td>NaN</td>\n",
       "      <td>NaN</td>\n",
       "      <td>NaN</td>\n",
       "    </tr>\n",
       "    <tr>\n",
       "      <th>7</th>\n",
       "      <td>renamed_PropertyType</td>\n",
       "      <td>object</td>\n",
       "      <td>1656</td>\n",
       "      <td>8</td>\n",
       "      <td>0</td>\n",
       "      <td>0.00000</td>\n",
       "      <td>NaN</td>\n",
       "      <td>NaN</td>\n",
       "      <td>NaN</td>\n",
       "      <td>NaN</td>\n",
       "      <td>NaN</td>\n",
       "      <td>NaN</td>\n",
       "      <td>NaN</td>\n",
       "    </tr>\n",
       "    <tr>\n",
       "      <th>8</th>\n",
       "      <td>Electricity_ratio</td>\n",
       "      <td>float64</td>\n",
       "      <td>1656</td>\n",
       "      <td>1297</td>\n",
       "      <td>0</td>\n",
       "      <td>0.00000</td>\n",
       "      <td>70.74668</td>\n",
       "      <td>0.00033</td>\n",
       "      <td>50.47055</td>\n",
       "      <td>72.26544</td>\n",
       "      <td>99.99938</td>\n",
       "      <td>100.00874</td>\n",
       "      <td>25.82563</td>\n",
       "    </tr>\n",
       "    <tr>\n",
       "      <th>9</th>\n",
       "      <td>SiteEnergyUse(kBtu)</td>\n",
       "      <td>float64</td>\n",
       "      <td>1656</td>\n",
       "      <td>1655</td>\n",
       "      <td>0</td>\n",
       "      <td>0.00000</td>\n",
       "      <td>8563131.38206</td>\n",
       "      <td>11441.00000</td>\n",
       "      <td>1222923.50000</td>\n",
       "      <td>2512737.00000</td>\n",
       "      <td>7009066.00000</td>\n",
       "      <td>873923712.00000</td>\n",
       "      <td>30439268.96365</td>\n",
       "    </tr>\n",
       "    <tr>\n",
       "      <th>10</th>\n",
       "      <td>GHGEmissions(MetricTonsCO2e)</td>\n",
       "      <td>float64</td>\n",
       "      <td>1656</td>\n",
       "      <td>1583</td>\n",
       "      <td>0</td>\n",
       "      <td>0.00000</td>\n",
       "      <td>186.12812</td>\n",
       "      <td>0.08000</td>\n",
       "      <td>19.52750</td>\n",
       "      <td>48.84000</td>\n",
       "      <td>139.35000</td>\n",
       "      <td>16870.98000</td>\n",
       "      <td>748.43963</td>\n",
       "    </tr>\n",
       "  </tbody>\n",
       "</table>\n",
       "</div>"
      ],
      "text/plain": [
       "                            name     type  records  unique  # NaN   % NaN  \\\n",
       "0                 NumberofFloors    int64     1656      42      0 0.00000   \n",
       "1              NumberofBuildings    int64     1656      11      0 0.00000   \n",
       "2                    BuildingAge    int64     1656     113      0 0.00000   \n",
       "3               PropertyGFATotal    int64     1656    1577      0 0.00000   \n",
       "4             PropertyGFAParking    int64     1656     326      0 0.00000   \n",
       "5         PropertyGFABuilding(s)    int64     1656    1572      0 0.00000   \n",
       "6                   Neighborhood   object     1656      13      0 0.00000   \n",
       "7           renamed_PropertyType   object     1656       8      0 0.00000   \n",
       "8              Electricity_ratio  float64     1656    1297      0 0.00000   \n",
       "9            SiteEnergyUse(kBtu)  float64     1656    1655      0 0.00000   \n",
       "10  GHGEmissions(MetricTonsCO2e)  float64     1656    1583      0 0.00000   \n",
       "\n",
       "            mean         min           25%           50%           75%  \\\n",
       "0        4.13285     1.00000       1.00000       2.00000       4.00000   \n",
       "1        1.13164     1.00000       1.00000       1.00000       1.00000   \n",
       "2       59.22645     6.00000      32.00000      56.00000      91.00000   \n",
       "3   119192.86171 11285.00000   29398.50000   49289.50000  105070.75000   \n",
       "4    13321.64251     0.00000       0.00000       0.00000       0.00000   \n",
       "5   105871.21920  3636.00000   28356.00000   47484.50000   94479.00000   \n",
       "6            NaN         NaN           NaN           NaN           NaN   \n",
       "7            NaN         NaN           NaN           NaN           NaN   \n",
       "8       70.74668     0.00033      50.47055      72.26544      99.99938   \n",
       "9  8563131.38206 11441.00000 1222923.50000 2512737.00000 7009066.00000   \n",
       "10     186.12812     0.08000      19.52750      48.84000     139.35000   \n",
       "\n",
       "               max            std  \n",
       "0         99.00000        6.53546  \n",
       "1        111.00000        2.91856  \n",
       "2        121.00000       32.65619  \n",
       "3    9320156.00000   298038.52446  \n",
       "4     512608.00000    43664.74773  \n",
       "5    9320156.00000   284529.39591  \n",
       "6              NaN            NaN  \n",
       "7              NaN            NaN  \n",
       "8        100.00874       25.82563  \n",
       "9  873923712.00000 30439268.96365  \n",
       "10     16870.98000      748.43963  "
      ]
     },
     "metadata": {},
     "output_type": "display_data"
    }
   ],
   "source": [
    "df_analysis(data, \"data\", type_analysis=\"complete\")"
   ]
  },
  {
   "cell_type": "markdown",
   "id": "10b8d6da-0849-4f8f-8722-d0898e7b623e",
   "metadata": {
    "tags": []
   },
   "source": [
    "<div style=\"background-color: #506AB9;\" >\n",
    "    <h3 style=\"margin: auto; padding: 20px; color:#fff; \">3. Splitting data (SiteEnergyUse(kBtu)</h3>\n",
    "</div>"
   ]
  },
  {
   "cell_type": "markdown",
   "id": "1b6a99ac-41c2-4778-8b9b-99779277935f",
   "metadata": {},
   "source": [
    "<div style=\"background-color: #6D83C5;\" >\n",
    "    <h4 style=\"margin: auto; padding: 20px; color:#fff; \">3.1. Splitting dataset based on the features and targets</h4>\n",
    "</div>"
   ]
  },
  {
   "cell_type": "code",
   "execution_count": 6,
   "id": "e351dddb-bf8c-4128-985e-702d4d05394a",
   "metadata": {},
   "outputs": [
    {
     "data": {
      "text/html": [
       "<div>\n",
       "<style scoped>\n",
       "    .dataframe tbody tr th:only-of-type {\n",
       "        vertical-align: middle;\n",
       "    }\n",
       "\n",
       "    .dataframe tbody tr th {\n",
       "        vertical-align: top;\n",
       "    }\n",
       "\n",
       "    .dataframe thead th {\n",
       "        text-align: right;\n",
       "    }\n",
       "</style>\n",
       "<table border=\"1\" class=\"dataframe\">\n",
       "  <thead>\n",
       "    <tr style=\"text-align: right;\">\n",
       "      <th></th>\n",
       "      <th>NumberofFloors</th>\n",
       "      <th>NumberofBuildings</th>\n",
       "      <th>BuildingAge</th>\n",
       "      <th>PropertyGFATotal</th>\n",
       "      <th>PropertyGFAParking</th>\n",
       "      <th>PropertyGFABuilding(s)</th>\n",
       "      <th>Neighborhood</th>\n",
       "      <th>renamed_PropertyType</th>\n",
       "      <th>Electricity_ratio</th>\n",
       "      <th>SiteEnergyUse(kBtu)</th>\n",
       "      <th>GHGEmissions(MetricTonsCO2e)</th>\n",
       "    </tr>\n",
       "  </thead>\n",
       "  <tbody>\n",
       "    <tr>\n",
       "      <th>0</th>\n",
       "      <td>12</td>\n",
       "      <td>1</td>\n",
       "      <td>94</td>\n",
       "      <td>88434</td>\n",
       "      <td>0</td>\n",
       "      <td>88434</td>\n",
       "      <td>DOWNTOWN</td>\n",
       "      <td>Hotel</td>\n",
       "      <td>52.79951</td>\n",
       "      <td>6981428.0</td>\n",
       "      <td>249.43</td>\n",
       "    </tr>\n",
       "    <tr>\n",
       "      <th>1</th>\n",
       "      <td>11</td>\n",
       "      <td>1</td>\n",
       "      <td>25</td>\n",
       "      <td>103566</td>\n",
       "      <td>15064</td>\n",
       "      <td>88502</td>\n",
       "      <td>DOWNTOWN</td>\n",
       "      <td>Hotel</td>\n",
       "      <td>46.74768</td>\n",
       "      <td>8354235.0</td>\n",
       "      <td>263.51</td>\n",
       "    </tr>\n",
       "    <tr>\n",
       "      <th>2</th>\n",
       "      <td>41</td>\n",
       "      <td>1</td>\n",
       "      <td>52</td>\n",
       "      <td>956110</td>\n",
       "      <td>196718</td>\n",
       "      <td>759392</td>\n",
       "      <td>DOWNTOWN</td>\n",
       "      <td>Hotel</td>\n",
       "      <td>68.04593</td>\n",
       "      <td>73130656.0</td>\n",
       "      <td>2061.48</td>\n",
       "    </tr>\n",
       "    <tr>\n",
       "      <th>3</th>\n",
       "      <td>10</td>\n",
       "      <td>1</td>\n",
       "      <td>95</td>\n",
       "      <td>61320</td>\n",
       "      <td>0</td>\n",
       "      <td>61320</td>\n",
       "      <td>DOWNTOWN</td>\n",
       "      <td>Hotel</td>\n",
       "      <td>9.80903</td>\n",
       "      <td>28229320.0</td>\n",
       "      <td>1936.34</td>\n",
       "    </tr>\n",
       "    <tr>\n",
       "      <th>4</th>\n",
       "      <td>18</td>\n",
       "      <td>1</td>\n",
       "      <td>41</td>\n",
       "      <td>175580</td>\n",
       "      <td>62000</td>\n",
       "      <td>113580</td>\n",
       "      <td>DOWNTOWN</td>\n",
       "      <td>Hotel</td>\n",
       "      <td>40.90771</td>\n",
       "      <td>14829099.0</td>\n",
       "      <td>507.70</td>\n",
       "    </tr>\n",
       "  </tbody>\n",
       "</table>\n",
       "</div>"
      ],
      "text/plain": [
       "   NumberofFloors  NumberofBuildings  BuildingAge  PropertyGFATotal  \\\n",
       "0              12                  1           94             88434   \n",
       "1              11                  1           25            103566   \n",
       "2              41                  1           52            956110   \n",
       "3              10                  1           95             61320   \n",
       "4              18                  1           41            175580   \n",
       "\n",
       "   PropertyGFAParking  PropertyGFABuilding(s) Neighborhood  \\\n",
       "0                   0                   88434     DOWNTOWN   \n",
       "1               15064                   88502     DOWNTOWN   \n",
       "2              196718                  759392     DOWNTOWN   \n",
       "3                   0                   61320     DOWNTOWN   \n",
       "4               62000                  113580     DOWNTOWN   \n",
       "\n",
       "  renamed_PropertyType  Electricity_ratio  SiteEnergyUse(kBtu)  \\\n",
       "0                Hotel           52.79951            6981428.0   \n",
       "1                Hotel           46.74768            8354235.0   \n",
       "2                Hotel           68.04593           73130656.0   \n",
       "3                Hotel            9.80903           28229320.0   \n",
       "4                Hotel           40.90771           14829099.0   \n",
       "\n",
       "   GHGEmissions(MetricTonsCO2e)  \n",
       "0                        249.43  \n",
       "1                        263.51  \n",
       "2                       2061.48  \n",
       "3                       1936.34  \n",
       "4                        507.70  "
      ]
     },
     "execution_count": 6,
     "metadata": {},
     "output_type": "execute_result"
    }
   ],
   "source": [
    "data.head()"
   ]
  },
  {
   "cell_type": "markdown",
   "id": "b7c00731-17d8-4d02-8519-2dc468c86feb",
   "metadata": {},
   "source": [
    "<div class=\"alert alert-block alert-info\">\n",
    "    Working with a copy\n",
    "</div>"
   ]
  },
  {
   "cell_type": "code",
   "execution_count": 7,
   "id": "14fc5986-9793-496e-abdd-9f35c6bf7b6d",
   "metadata": {},
   "outputs": [],
   "source": [
    "data_trans = data.copy()"
   ]
  },
  {
   "cell_type": "code",
   "execution_count": 8,
   "id": "00b98811-cb08-4e70-ac00-d65ea957ec8c",
   "metadata": {},
   "outputs": [
    {
     "data": {
      "text/html": [
       "<div>\n",
       "<style scoped>\n",
       "    .dataframe tbody tr th:only-of-type {\n",
       "        vertical-align: middle;\n",
       "    }\n",
       "\n",
       "    .dataframe tbody tr th {\n",
       "        vertical-align: top;\n",
       "    }\n",
       "\n",
       "    .dataframe thead th {\n",
       "        text-align: right;\n",
       "    }\n",
       "</style>\n",
       "<table border=\"1\" class=\"dataframe\">\n",
       "  <thead>\n",
       "    <tr style=\"text-align: right;\">\n",
       "      <th></th>\n",
       "      <th>NumberofFloors</th>\n",
       "      <th>NumberofBuildings</th>\n",
       "      <th>BuildingAge</th>\n",
       "      <th>PropertyGFATotal</th>\n",
       "      <th>PropertyGFAParking</th>\n",
       "      <th>PropertyGFABuilding(s)</th>\n",
       "      <th>Neighborhood</th>\n",
       "      <th>renamed_PropertyType</th>\n",
       "      <th>Electricity_ratio</th>\n",
       "      <th>SiteEnergyUse(kBtu)</th>\n",
       "      <th>GHGEmissions(MetricTonsCO2e)</th>\n",
       "    </tr>\n",
       "  </thead>\n",
       "  <tbody>\n",
       "    <tr>\n",
       "      <th>0</th>\n",
       "      <td>12</td>\n",
       "      <td>1</td>\n",
       "      <td>94</td>\n",
       "      <td>88434</td>\n",
       "      <td>0</td>\n",
       "      <td>88434</td>\n",
       "      <td>DOWNTOWN</td>\n",
       "      <td>Hotel</td>\n",
       "      <td>52.79951</td>\n",
       "      <td>6981428.0</td>\n",
       "      <td>249.43</td>\n",
       "    </tr>\n",
       "    <tr>\n",
       "      <th>1</th>\n",
       "      <td>11</td>\n",
       "      <td>1</td>\n",
       "      <td>25</td>\n",
       "      <td>103566</td>\n",
       "      <td>15064</td>\n",
       "      <td>88502</td>\n",
       "      <td>DOWNTOWN</td>\n",
       "      <td>Hotel</td>\n",
       "      <td>46.74768</td>\n",
       "      <td>8354235.0</td>\n",
       "      <td>263.51</td>\n",
       "    </tr>\n",
       "    <tr>\n",
       "      <th>2</th>\n",
       "      <td>41</td>\n",
       "      <td>1</td>\n",
       "      <td>52</td>\n",
       "      <td>956110</td>\n",
       "      <td>196718</td>\n",
       "      <td>759392</td>\n",
       "      <td>DOWNTOWN</td>\n",
       "      <td>Hotel</td>\n",
       "      <td>68.04593</td>\n",
       "      <td>73130656.0</td>\n",
       "      <td>2061.48</td>\n",
       "    </tr>\n",
       "    <tr>\n",
       "      <th>3</th>\n",
       "      <td>10</td>\n",
       "      <td>1</td>\n",
       "      <td>95</td>\n",
       "      <td>61320</td>\n",
       "      <td>0</td>\n",
       "      <td>61320</td>\n",
       "      <td>DOWNTOWN</td>\n",
       "      <td>Hotel</td>\n",
       "      <td>9.80903</td>\n",
       "      <td>28229320.0</td>\n",
       "      <td>1936.34</td>\n",
       "    </tr>\n",
       "    <tr>\n",
       "      <th>4</th>\n",
       "      <td>18</td>\n",
       "      <td>1</td>\n",
       "      <td>41</td>\n",
       "      <td>175580</td>\n",
       "      <td>62000</td>\n",
       "      <td>113580</td>\n",
       "      <td>DOWNTOWN</td>\n",
       "      <td>Hotel</td>\n",
       "      <td>40.90771</td>\n",
       "      <td>14829099.0</td>\n",
       "      <td>507.70</td>\n",
       "    </tr>\n",
       "  </tbody>\n",
       "</table>\n",
       "</div>"
      ],
      "text/plain": [
       "   NumberofFloors  NumberofBuildings  BuildingAge  PropertyGFATotal  \\\n",
       "0              12                  1           94             88434   \n",
       "1              11                  1           25            103566   \n",
       "2              41                  1           52            956110   \n",
       "3              10                  1           95             61320   \n",
       "4              18                  1           41            175580   \n",
       "\n",
       "   PropertyGFAParking  PropertyGFABuilding(s) Neighborhood  \\\n",
       "0                   0                   88434     DOWNTOWN   \n",
       "1               15064                   88502     DOWNTOWN   \n",
       "2              196718                  759392     DOWNTOWN   \n",
       "3                   0                   61320     DOWNTOWN   \n",
       "4               62000                  113580     DOWNTOWN   \n",
       "\n",
       "  renamed_PropertyType  Electricity_ratio  SiteEnergyUse(kBtu)  \\\n",
       "0                Hotel           52.79951            6981428.0   \n",
       "1                Hotel           46.74768            8354235.0   \n",
       "2                Hotel           68.04593           73130656.0   \n",
       "3                Hotel            9.80903           28229320.0   \n",
       "4                Hotel           40.90771           14829099.0   \n",
       "\n",
       "   GHGEmissions(MetricTonsCO2e)  \n",
       "0                        249.43  \n",
       "1                        263.51  \n",
       "2                       2061.48  \n",
       "3                       1936.34  \n",
       "4                        507.70  "
      ]
     },
     "execution_count": 8,
     "metadata": {},
     "output_type": "execute_result"
    }
   ],
   "source": [
    "data_trans.head()"
   ]
  },
  {
   "cell_type": "markdown",
   "id": "a8fd477b-806c-4c40-b17f-5ebf64502d94",
   "metadata": {},
   "source": [
    "<div class=\"alert alert-block alert-info\">\n",
    "    Making log transformation on specific columns based on the analysis conclusions done\n",
    "</div>"
   ]
  },
  {
   "cell_type": "code",
   "execution_count": 9,
   "id": "dca1933a-dc12-423f-bdea-47bb3786ca2c",
   "metadata": {},
   "outputs": [],
   "source": [
    "LOG_TRANS_FEATURES = [\"PropertyGFABuilding(s)\", \"PropertyGFATotal\", \"SiteEnergyUse(kBtu)\", \"GHGEmissions(MetricTonsCO2e)\"]"
   ]
  },
  {
   "cell_type": "code",
   "execution_count": 10,
   "id": "1527e16d-82f8-4bfb-b575-eae4b6c9acc9",
   "metadata": {},
   "outputs": [],
   "source": [
    "for col in LOG_TRANS_FEATURES:\n",
    "    data_trans[col] = np.log2(data_trans[col])"
   ]
  },
  {
   "cell_type": "code",
   "execution_count": 11,
   "id": "df703e56-68aa-41d7-848e-03abe5620329",
   "metadata": {},
   "outputs": [
    {
     "data": {
      "text/html": [
       "<div>\n",
       "<style scoped>\n",
       "    .dataframe tbody tr th:only-of-type {\n",
       "        vertical-align: middle;\n",
       "    }\n",
       "\n",
       "    .dataframe tbody tr th {\n",
       "        vertical-align: top;\n",
       "    }\n",
       "\n",
       "    .dataframe thead th {\n",
       "        text-align: right;\n",
       "    }\n",
       "</style>\n",
       "<table border=\"1\" class=\"dataframe\">\n",
       "  <thead>\n",
       "    <tr style=\"text-align: right;\">\n",
       "      <th></th>\n",
       "      <th>NumberofFloors</th>\n",
       "      <th>NumberofBuildings</th>\n",
       "      <th>BuildingAge</th>\n",
       "      <th>PropertyGFATotal</th>\n",
       "      <th>PropertyGFAParking</th>\n",
       "      <th>PropertyGFABuilding(s)</th>\n",
       "      <th>Neighborhood</th>\n",
       "      <th>renamed_PropertyType</th>\n",
       "      <th>Electricity_ratio</th>\n",
       "      <th>SiteEnergyUse(kBtu)</th>\n",
       "      <th>GHGEmissions(MetricTonsCO2e)</th>\n",
       "    </tr>\n",
       "  </thead>\n",
       "  <tbody>\n",
       "    <tr>\n",
       "      <th>0</th>\n",
       "      <td>12</td>\n",
       "      <td>1</td>\n",
       "      <td>94</td>\n",
       "      <td>16.432314</td>\n",
       "      <td>0</td>\n",
       "      <td>16.432314</td>\n",
       "      <td>DOWNTOWN</td>\n",
       "      <td>Hotel</td>\n",
       "      <td>52.79951</td>\n",
       "      <td>22.735091</td>\n",
       "      <td>7.962491</td>\n",
       "    </tr>\n",
       "    <tr>\n",
       "      <th>1</th>\n",
       "      <td>11</td>\n",
       "      <td>1</td>\n",
       "      <td>25</td>\n",
       "      <td>16.660191</td>\n",
       "      <td>15064</td>\n",
       "      <td>16.433422</td>\n",
       "      <td>DOWNTOWN</td>\n",
       "      <td>Hotel</td>\n",
       "      <td>46.74768</td>\n",
       "      <td>22.994076</td>\n",
       "      <td>8.041714</td>\n",
       "    </tr>\n",
       "    <tr>\n",
       "      <th>2</th>\n",
       "      <td>41</td>\n",
       "      <td>1</td>\n",
       "      <td>52</td>\n",
       "      <td>19.866817</td>\n",
       "      <td>196718</td>\n",
       "      <td>19.534485</td>\n",
       "      <td>DOWNTOWN</td>\n",
       "      <td>Hotel</td>\n",
       "      <td>68.04593</td>\n",
       "      <td>26.123973</td>\n",
       "      <td>11.009465</td>\n",
       "    </tr>\n",
       "    <tr>\n",
       "      <th>3</th>\n",
       "      <td>10</td>\n",
       "      <td>1</td>\n",
       "      <td>95</td>\n",
       "      <td>15.904070</td>\n",
       "      <td>0</td>\n",
       "      <td>15.904070</td>\n",
       "      <td>DOWNTOWN</td>\n",
       "      <td>Hotel</td>\n",
       "      <td>9.80903</td>\n",
       "      <td>24.750691</td>\n",
       "      <td>10.919117</td>\n",
       "    </tr>\n",
       "    <tr>\n",
       "      <th>4</th>\n",
       "      <td>18</td>\n",
       "      <td>1</td>\n",
       "      <td>41</td>\n",
       "      <td>17.421769</td>\n",
       "      <td>62000</td>\n",
       "      <td>16.793349</td>\n",
       "      <td>DOWNTOWN</td>\n",
       "      <td>Hotel</td>\n",
       "      <td>40.90771</td>\n",
       "      <td>23.821928</td>\n",
       "      <td>8.987832</td>\n",
       "    </tr>\n",
       "  </tbody>\n",
       "</table>\n",
       "</div>"
      ],
      "text/plain": [
       "   NumberofFloors  NumberofBuildings  BuildingAge  PropertyGFATotal  \\\n",
       "0              12                  1           94         16.432314   \n",
       "1              11                  1           25         16.660191   \n",
       "2              41                  1           52         19.866817   \n",
       "3              10                  1           95         15.904070   \n",
       "4              18                  1           41         17.421769   \n",
       "\n",
       "   PropertyGFAParking  PropertyGFABuilding(s) Neighborhood  \\\n",
       "0                   0               16.432314     DOWNTOWN   \n",
       "1               15064               16.433422     DOWNTOWN   \n",
       "2              196718               19.534485     DOWNTOWN   \n",
       "3                   0               15.904070     DOWNTOWN   \n",
       "4               62000               16.793349     DOWNTOWN   \n",
       "\n",
       "  renamed_PropertyType  Electricity_ratio  SiteEnergyUse(kBtu)  \\\n",
       "0                Hotel           52.79951            22.735091   \n",
       "1                Hotel           46.74768            22.994076   \n",
       "2                Hotel           68.04593            26.123973   \n",
       "3                Hotel            9.80903            24.750691   \n",
       "4                Hotel           40.90771            23.821928   \n",
       "\n",
       "   GHGEmissions(MetricTonsCO2e)  \n",
       "0                      7.962491  \n",
       "1                      8.041714  \n",
       "2                     11.009465  \n",
       "3                     10.919117  \n",
       "4                      8.987832  "
      ]
     },
     "execution_count": 11,
     "metadata": {},
     "output_type": "execute_result"
    }
   ],
   "source": [
    "data_trans.head()"
   ]
  },
  {
   "cell_type": "markdown",
   "id": "dd128828-489d-4fb4-a563-bbe760b21034",
   "metadata": {},
   "source": [
    "<div class=\"alert alert-block alert-info\">\n",
    "    Splitting dataset based on the features and targets\n",
    "</div>"
   ]
  },
  {
   "cell_type": "code",
   "execution_count": 12,
   "id": "c18e6dec-5602-4703-af96-444c2f651fed",
   "metadata": {},
   "outputs": [],
   "source": [
    "X = data_trans.drop(columns=[\"SiteEnergyUse(kBtu)\", \"GHGEmissions(MetricTonsCO2e)\"])"
   ]
  },
  {
   "cell_type": "code",
   "execution_count": 13,
   "id": "f72e0eb6-95af-4925-809b-48d2bc3b7d34",
   "metadata": {},
   "outputs": [],
   "source": [
    "y_energy = data_trans.iloc[:,-2]"
   ]
  },
  {
   "cell_type": "markdown",
   "id": "051a5a77-6752-4187-a81e-facfefe6608d",
   "metadata": {},
   "source": [
    "<div style=\"background-color: #6D83C5;\" >\n",
    "    <h4 style=\"margin: auto; padding: 20px; color:#fff; \">3.2. Train/Test split</h4>\n",
    "</div>"
   ]
  },
  {
   "cell_type": "markdown",
   "id": "4dfbaf08-c144-4988-9cd3-3b7c89e98e9b",
   "metadata": {},
   "source": [
    "<div class=\"alert alert-block alert-info\">\n",
    "    At this point, we are going to predict <b>SiteEnergyUse(kBtu)</b>\n",
    "</div>"
   ]
  },
  {
   "cell_type": "code",
   "execution_count": 14,
   "id": "40737922-f686-44c8-81f2-67292f11b906",
   "metadata": {},
   "outputs": [],
   "source": [
    "X_train, X_test, y_train, y_test = train_test_split(X, y_energy, test_size=0.3, random_state=0)"
   ]
  },
  {
   "cell_type": "code",
   "execution_count": 15,
   "id": "1ec5c9b5-2fe7-436d-8cd4-29578467bd12",
   "metadata": {},
   "outputs": [
    {
     "name": "stdout",
     "output_type": "stream",
     "text": [
      "X_train: (1159, 9)\n",
      "y_train: (1159,)\n"
     ]
    }
   ],
   "source": [
    "print(\"X_train: {}\".format(X_train.shape))\n",
    "print(\"y_train: {}\".format(y_train.shape))"
   ]
  },
  {
   "cell_type": "code",
   "execution_count": 16,
   "id": "24f50a50-6f6e-4f5b-a8a9-f47a85819a52",
   "metadata": {},
   "outputs": [
    {
     "data": {
      "text/html": [
       "<div>\n",
       "<style scoped>\n",
       "    .dataframe tbody tr th:only-of-type {\n",
       "        vertical-align: middle;\n",
       "    }\n",
       "\n",
       "    .dataframe tbody tr th {\n",
       "        vertical-align: top;\n",
       "    }\n",
       "\n",
       "    .dataframe thead th {\n",
       "        text-align: right;\n",
       "    }\n",
       "</style>\n",
       "<table border=\"1\" class=\"dataframe\">\n",
       "  <thead>\n",
       "    <tr style=\"text-align: right;\">\n",
       "      <th></th>\n",
       "      <th>NumberofFloors</th>\n",
       "      <th>NumberofBuildings</th>\n",
       "      <th>BuildingAge</th>\n",
       "      <th>PropertyGFATotal</th>\n",
       "      <th>PropertyGFAParking</th>\n",
       "      <th>PropertyGFABuilding(s)</th>\n",
       "      <th>Neighborhood</th>\n",
       "      <th>renamed_PropertyType</th>\n",
       "      <th>Electricity_ratio</th>\n",
       "    </tr>\n",
       "  </thead>\n",
       "  <tbody>\n",
       "    <tr>\n",
       "      <th>593</th>\n",
       "      <td>2</td>\n",
       "      <td>1</td>\n",
       "      <td>55</td>\n",
       "      <td>16.908299</td>\n",
       "      <td>0</td>\n",
       "      <td>16.908299</td>\n",
       "      <td>GREATER DUWAMISH</td>\n",
       "      <td>Warehouse</td>\n",
       "      <td>100.00416</td>\n",
       "    </tr>\n",
       "    <tr>\n",
       "      <th>930</th>\n",
       "      <td>1</td>\n",
       "      <td>1</td>\n",
       "      <td>46</td>\n",
       "      <td>14.779617</td>\n",
       "      <td>0</td>\n",
       "      <td>14.779617</td>\n",
       "      <td>GREATER DUWAMISH</td>\n",
       "      <td>Warehouse</td>\n",
       "      <td>68.93000</td>\n",
       "    </tr>\n",
       "    <tr>\n",
       "      <th>838</th>\n",
       "      <td>3</td>\n",
       "      <td>1</td>\n",
       "      <td>103</td>\n",
       "      <td>15.219320</td>\n",
       "      <td>0</td>\n",
       "      <td>15.219320</td>\n",
       "      <td>DOWNTOWN</td>\n",
       "      <td>Office</td>\n",
       "      <td>100.00415</td>\n",
       "    </tr>\n",
       "    <tr>\n",
       "      <th>649</th>\n",
       "      <td>3</td>\n",
       "      <td>1</td>\n",
       "      <td>79</td>\n",
       "      <td>15.979916</td>\n",
       "      <td>0</td>\n",
       "      <td>15.979916</td>\n",
       "      <td>DOWNTOWN</td>\n",
       "      <td>Office</td>\n",
       "      <td>56.61121</td>\n",
       "    </tr>\n",
       "    <tr>\n",
       "      <th>529</th>\n",
       "      <td>5</td>\n",
       "      <td>1</td>\n",
       "      <td>23</td>\n",
       "      <td>16.754000</td>\n",
       "      <td>0</td>\n",
       "      <td>16.754000</td>\n",
       "      <td>MAGNOLIA / QUEEN ANNE</td>\n",
       "      <td>Office</td>\n",
       "      <td>100.00414</td>\n",
       "    </tr>\n",
       "  </tbody>\n",
       "</table>\n",
       "</div>"
      ],
      "text/plain": [
       "     NumberofFloors  NumberofBuildings  BuildingAge  PropertyGFATotal  \\\n",
       "593               2                  1           55         16.908299   \n",
       "930               1                  1           46         14.779617   \n",
       "838               3                  1          103         15.219320   \n",
       "649               3                  1           79         15.979916   \n",
       "529               5                  1           23         16.754000   \n",
       "\n",
       "     PropertyGFAParking  PropertyGFABuilding(s)           Neighborhood  \\\n",
       "593                   0               16.908299       GREATER DUWAMISH   \n",
       "930                   0               14.779617       GREATER DUWAMISH   \n",
       "838                   0               15.219320               DOWNTOWN   \n",
       "649                   0               15.979916               DOWNTOWN   \n",
       "529                   0               16.754000  MAGNOLIA / QUEEN ANNE   \n",
       "\n",
       "    renamed_PropertyType  Electricity_ratio  \n",
       "593            Warehouse          100.00416  \n",
       "930            Warehouse           68.93000  \n",
       "838               Office          100.00415  \n",
       "649               Office           56.61121  \n",
       "529               Office          100.00414  "
      ]
     },
     "execution_count": 16,
     "metadata": {},
     "output_type": "execute_result"
    }
   ],
   "source": [
    "X_train.head()"
   ]
  },
  {
   "cell_type": "markdown",
   "id": "528a69e3-35b9-488d-94ce-0b4d051529a8",
   "metadata": {},
   "source": [
    "<div style=\"background-color: #6D83C5;\" >\n",
    "    <h4 style=\"margin: auto; padding: 20px; color:#fff; \">3.3. Identifying types of features</h4>\n",
    "</div>"
   ]
  },
  {
   "cell_type": "code",
   "execution_count": 17,
   "id": "ba0f376a-fbd9-485e-b093-8d40d18c6b54",
   "metadata": {},
   "outputs": [],
   "source": [
    "NUMERICAL_FEATURES = [\"NumberofFloors\", \"NumberofBuildings\", \"BuildingAge\", \"PropertyGFATotal\", \"PropertyGFAParking\", \"PropertyGFABuilding(s)\", \"Electricity_ratio\"]\n",
    "CATEGORICAL_FEATURES = [\"Neighborhood\", \"renamed_PropertyType\"]"
   ]
  },
  {
   "cell_type": "markdown",
   "id": "3de540e5-1261-496d-8050-216637998259",
   "metadata": {},
   "source": [
    "<div style=\"background-color: #6D83C5;\" >\n",
    "    <h3 style=\"margin: auto; padding: 20px; color:#fff; \">4. Data preprocessing</h3>\n",
    "</div>"
   ]
  },
  {
   "cell_type": "markdown",
   "id": "8a31d329-ea06-43d4-87be-54bd6e4d3c83",
   "metadata": {
    "tags": []
   },
   "source": [
    "<div class=\"alert alert-block alert-info\">\n",
    "     We are going to process the features as follows<br><br>\n",
    "    <b>Numerical features</b>\n",
    "    <ul style=\"list-style-type: square;\">\n",
    "        <li>Normalizing the features through StandardScaler due to all of them do not have a normal distribution</li>\n",
    "    </ul> \n",
    "    <b>Categorical features</b>\n",
    "    <ul style=\"list-style-type: square;\">\n",
    "        <li>Transforming all features through LabelEncoder</li>\n",
    "    </ul>  \n",
    "</div>"
   ]
  },
  {
   "cell_type": "code",
   "execution_count": 18,
   "id": "b50a14e6-0afe-4ce2-81fc-26b6b27d59cc",
   "metadata": {},
   "outputs": [],
   "source": [
    "numerical_pipeline = make_pipeline(StandardScaler())\n",
    "\n",
    "categorical_pipeline = make_pipeline(OneHotEncoder())"
   ]
  },
  {
   "cell_type": "code",
   "execution_count": 19,
   "id": "d3904fa0-ec57-4dce-bf06-f206a7712e5a",
   "metadata": {},
   "outputs": [],
   "source": [
    "preprocessor = make_column_transformer(\n",
    "                (numerical_pipeline, NUMERICAL_FEATURES), \n",
    "                (categorical_pipeline, CATEGORICAL_FEATURES))"
   ]
  },
  {
   "cell_type": "markdown",
   "id": "947ba407-6f15-49ed-9d71-e77c2038fbb9",
   "metadata": {
    "tags": []
   },
   "source": [
    "<div style=\"background-color: #6D83C5;\" >\n",
    "    <h3 style=\"margin: auto; padding: 20px; color:#fff; \">5. Modelisation</h3>\n",
    "</div>"
   ]
  },
  {
   "cell_type": "markdown",
   "id": "fdd7ea7a-4f38-4c74-8070-6f236a0bbf11",
   "metadata": {},
   "source": [
    "<div style=\"background-color: #6D83C5;\" >\n",
    "    <h4 style=\"margin: auto; padding: 20px; color:#fff; \">5.1. Supervised models</h4>\n",
    "</div>"
   ]
  },
  {
   "cell_type": "markdown",
   "id": "f18635cf-be6e-4380-b077-55a2d94f7a5a",
   "metadata": {
    "tags": []
   },
   "source": [
    "<div class=\"alert alert-block alert-info\">\n",
    "    List of models to use. for now, in default mode\n",
    "</div>"
   ]
  },
  {
   "cell_type": "code",
   "execution_count": 20,
   "id": "1a599428-2197-4ac3-a458-759cf781ad5f",
   "metadata": {
    "tags": []
   },
   "outputs": [],
   "source": [
    "regressors = {\n",
    "    \"KNeighbors\" : KNeighborsRegressor(n_neighbors=2),\n",
    "    \"Linear\" : LinearRegression(),\n",
    "    \"Lasso\" : Lasso(),\n",
    "    \"Random Forest\" : RandomForestRegressor(),\n",
    "    \"SVR\" : SVR(),\n",
    "    \"Gradient Boosting\" : GradientBoostingRegressor()\n",
    "}"
   ]
  },
  {
   "cell_type": "markdown",
   "id": "0d1d0ff1-158a-4641-ab11-541d54e6e312",
   "metadata": {
    "tags": []
   },
   "source": [
    "<div class=\"alert alert-block alert-info\">\n",
    "    Models metrics\n",
    "</div>"
   ]
  },
  {
   "cell_type": "code",
   "execution_count": 21,
   "id": "1f6e5c3d-391b-4c6c-b925-2b0e7d8f1c69",
   "metadata": {},
   "outputs": [],
   "source": [
    "# Dataframe with y_test_transformed to compared againts predictions\n",
    "df_y_pred = pd.DataFrame({\n",
    "        \"Model\" : \"Original\",\n",
    "        \"y_pred\" : y_test\n",
    "})\n",
    "\n",
    "# List of metrics results for each models \n",
    "LIST_MODEL, LIST_R2SCORE, LIST_MAE, LIST_RMSE, LIST_DURATION  = ([] for i in range(5))\n",
    "\n",
    "for k, v in regressors.items():\n",
    "    \n",
    "    start_time_model = timeit.default_timer()\n",
    "    \n",
    "    # Data preprocessing based on the pipelines and the regressors setup\n",
    "    reg = make_pipeline(preprocessor, v)\n",
    "    \n",
    "    # Fit the model using the training data and training target\n",
    "    reg.fit(X_train, y_train)\n",
    "    \n",
    "    # Making the prediction using the testing data\n",
    "    y_pred = reg.predict(X_test)\n",
    "    \n",
    "    end_time_model =  round(timeit.default_timer() - start_time_model, 3)\n",
    "    \n",
    "    # Concatenating predictions to compare against y_test_transformed\n",
    "    df_temp = pd.DataFrame({\n",
    "        \"Model\" : k,\n",
    "        \"y_pred\" : y_pred\n",
    "    })\n",
    "    \n",
    "    # Concatenating predictions to compare against y_test_transformed\n",
    "    df_y_pred = pd.concat([df_y_pred, df_temp])\n",
    "    \n",
    "    # Calculating R2 Coefficient of determination for each model (Best possible score is 1.0, lower values are worse.)\n",
    "    R2SCORE = round(r2_score(y_test, y_pred), 3)\n",
    "    \n",
    "    # Calculating the Mean absolute error (The best value is 0.0)\n",
    "    MAE = round(mean_absolute_error(y_test, y_pred), 3)\n",
    "    \n",
    "    # Calculating Root Mean Square Error for each model (The best value is 0.0)\n",
    "    RMSE = round(mean_squared_error(y_test, y_pred, squared=False), 3)\n",
    "    \n",
    "    # Adding results into LIST\n",
    "    LIST_MODEL.append(k)\n",
    "    LIST_MAE.append(MAE)\n",
    "    LIST_RMSE.append(RMSE)\n",
    "    LIST_R2SCORE.append(R2SCORE)\n",
    "    LIST_DURATION.append(end_time_model)"
   ]
  },
  {
   "cell_type": "markdown",
   "id": "635f4c98-65e8-4707-bcaf-59b8a66905ca",
   "metadata": {},
   "source": [
    "<div class=\"alert alert-block alert-info\">\n",
    "    Comparison of energy predictions against original data\n",
    "</div>"
   ]
  },
  {
   "cell_type": "code",
   "execution_count": 22,
   "id": "25a223ae-8b16-44ac-9f39-ee0b741a3412",
   "metadata": {
    "tags": []
   },
   "outputs": [
    {
     "data": {
      "image/png": "[encoded data removed]",
      "text/plain": [
       "<Figure size 576x432 with 1 Axes>"
      ]
     },
     "metadata": {},
     "output_type": "display_data"
    }
   ],
   "source": [
    "plt.figure(figsize=[8,6])\n",
    "sns.boxplot(x=df_y_pred[\"Model\"], y=df_y_pred[\"y_pred\"], showmeans=True, \n",
    "            meanprops={\"markerfacecolor\":\"white\", \"markeredgecolor\":\"blue\"})\n",
    "plt.title(\"Comparison of energy predictions\", size=16)\n",
    "plt.xlabel(\"Original target and targets predicted\", size=12)\n",
    "plt.tight_layout()\n",
    "plt.savefig(\"img/Comparison-of-imputations.png\")\n",
    "plt.show()"
   ]
  },
  {
   "cell_type": "markdown",
   "id": "433faa96-c53f-43ec-8fbc-5674fbe0e669",
   "metadata": {},
   "source": [
    "<div style=\"background-color: #6D83C5;\" >\n",
    "    <h4 style=\"margin: auto; padding: 20px; color:#fff; \">5.2. Predictions metrics</h4>\n",
    "</div>"
   ]
  },
  {
   "cell_type": "markdown",
   "id": "d0cc8513-210a-43b5-b844-8ceffd0deeee",
   "metadata": {
    "tags": []
   },
   "source": [
    "<div class=\"alert alert-block alert-info\">\n",
    "    Creating dataframe based on metrics results for each models\n",
    "</div>"
   ]
  },
  {
   "cell_type": "code",
   "execution_count": 23,
   "id": "5766294b-496d-4ec0-9b98-bb8a6c444c2f",
   "metadata": {},
   "outputs": [
    {
     "data": {
      "text/html": [
       "<div>\n",
       "<style scoped>\n",
       "    .dataframe tbody tr th:only-of-type {\n",
       "        vertical-align: middle;\n",
       "    }\n",
       "\n",
       "    .dataframe tbody tr th {\n",
       "        vertical-align: top;\n",
       "    }\n",
       "\n",
       "    .dataframe thead th {\n",
       "        text-align: right;\n",
       "    }\n",
       "</style>\n",
       "<table border=\"1\" class=\"dataframe\">\n",
       "  <thead>\n",
       "    <tr style=\"text-align: right;\">\n",
       "      <th></th>\n",
       "      <th>Model</th>\n",
       "      <th>R²</th>\n",
       "      <th>MAE</th>\n",
       "      <th>RMSE</th>\n",
       "      <th>Duration</th>\n",
       "    </tr>\n",
       "  </thead>\n",
       "  <tbody>\n",
       "    <tr>\n",
       "      <th>0</th>\n",
       "      <td>KNeighbors</td>\n",
       "      <td>0.526</td>\n",
       "      <td>0.953</td>\n",
       "      <td>1.334</td>\n",
       "      <td>0.047</td>\n",
       "    </tr>\n",
       "    <tr>\n",
       "      <th>1</th>\n",
       "      <td>Linear</td>\n",
       "      <td>0.683</td>\n",
       "      <td>0.795</td>\n",
       "      <td>1.091</td>\n",
       "      <td>0.032</td>\n",
       "    </tr>\n",
       "    <tr>\n",
       "      <th>2</th>\n",
       "      <td>Lasso</td>\n",
       "      <td>0.312</td>\n",
       "      <td>1.232</td>\n",
       "      <td>1.606</td>\n",
       "      <td>0.013</td>\n",
       "    </tr>\n",
       "    <tr>\n",
       "      <th>3</th>\n",
       "      <td>Random Forest</td>\n",
       "      <td>0.709</td>\n",
       "      <td>0.778</td>\n",
       "      <td>1.045</td>\n",
       "      <td>0.630</td>\n",
       "    </tr>\n",
       "    <tr>\n",
       "      <th>4</th>\n",
       "      <td>SVR</td>\n",
       "      <td>0.679</td>\n",
       "      <td>0.778</td>\n",
       "      <td>1.097</td>\n",
       "      <td>0.116</td>\n",
       "    </tr>\n",
       "    <tr>\n",
       "      <th>5</th>\n",
       "      <td>Gradient Boosting</td>\n",
       "      <td>0.731</td>\n",
       "      <td>0.760</td>\n",
       "      <td>1.003</td>\n",
       "      <td>0.203</td>\n",
       "    </tr>\n",
       "  </tbody>\n",
       "</table>\n",
       "</div>"
      ],
      "text/plain": [
       "               Model     R²    MAE   RMSE  Duration\n",
       "0         KNeighbors  0.526  0.953  1.334     0.047\n",
       "1             Linear  0.683  0.795  1.091     0.032\n",
       "2              Lasso  0.312  1.232  1.606     0.013\n",
       "3      Random Forest  0.709  0.778  1.045     0.630\n",
       "4                SVR  0.679  0.778  1.097     0.116\n",
       "5  Gradient Boosting  0.731  0.760  1.003     0.203"
      ]
     },
     "execution_count": 23,
     "metadata": {},
     "output_type": "execute_result"
    }
   ],
   "source": [
    "df_models_metrics = pd.DataFrame({\n",
    "    \"Model\" : LIST_MODEL,\n",
    "    \"R2\".translate(SUP) : LIST_R2SCORE, \n",
    "    \"MAE\" : LIST_MAE,    \n",
    "    \"RMSE\" : LIST_RMSE,\n",
    "    \"Duration\" : LIST_DURATION,\n",
    "})\n",
    "\n",
    "df_models_metrics"
   ]
  },
  {
   "cell_type": "markdown",
   "id": "f989fe46-2106-4a0f-baa3-f5bd338cae69",
   "metadata": {
    "tags": []
   },
   "source": [
    "<div class=\"alert alert-block alert-success\">\n",
    "    <b>Best results</b> with default mode considering each model\n",
    "    <ul style=\"list-style-type: square;\">\n",
    "        <li><b>r2:</b> Gradient Boosting(0.732) </li>\n",
    "        <li><b>MAE:</b> Gradient Boosting(0.759) </li>\n",
    "        <li><b>RMSE:</b> Gradient Boosting(1.003) </li>\n",
    "        <li><b>Duration:</b> Lasso(0.018) </li>\n",
    "    </ul> \n",
    "</div>"
   ]
  },
  {
   "cell_type": "code",
   "execution_count": 24,
   "id": "7038f5ad-7bb2-453c-9c4a-958808c3b248",
   "metadata": {},
   "outputs": [
    {
     "data": {
      "text/html": [
       "<div>\n",
       "<style scoped>\n",
       "    .dataframe tbody tr th:only-of-type {\n",
       "        vertical-align: middle;\n",
       "    }\n",
       "\n",
       "    .dataframe tbody tr th {\n",
       "        vertical-align: top;\n",
       "    }\n",
       "\n",
       "    .dataframe thead th {\n",
       "        text-align: right;\n",
       "    }\n",
       "</style>\n",
       "<table border=\"1\" class=\"dataframe\">\n",
       "  <thead>\n",
       "    <tr style=\"text-align: right;\">\n",
       "      <th></th>\n",
       "      <th>Model</th>\n",
       "      <th>Metric</th>\n",
       "      <th>Value</th>\n",
       "    </tr>\n",
       "  </thead>\n",
       "  <tbody>\n",
       "    <tr>\n",
       "      <th>0</th>\n",
       "      <td>KNeighbors</td>\n",
       "      <td>R²</td>\n",
       "      <td>0.526</td>\n",
       "    </tr>\n",
       "    <tr>\n",
       "      <th>1</th>\n",
       "      <td>Linear</td>\n",
       "      <td>R²</td>\n",
       "      <td>0.683</td>\n",
       "    </tr>\n",
       "    <tr>\n",
       "      <th>2</th>\n",
       "      <td>Lasso</td>\n",
       "      <td>R²</td>\n",
       "      <td>0.312</td>\n",
       "    </tr>\n",
       "    <tr>\n",
       "      <th>3</th>\n",
       "      <td>Random Forest</td>\n",
       "      <td>R²</td>\n",
       "      <td>0.709</td>\n",
       "    </tr>\n",
       "    <tr>\n",
       "      <th>4</th>\n",
       "      <td>SVR</td>\n",
       "      <td>R²</td>\n",
       "      <td>0.679</td>\n",
       "    </tr>\n",
       "  </tbody>\n",
       "</table>\n",
       "</div>"
      ],
      "text/plain": [
       "           Model Metric  Value\n",
       "0     KNeighbors     R²  0.526\n",
       "1         Linear     R²  0.683\n",
       "2          Lasso     R²  0.312\n",
       "3  Random Forest     R²  0.709\n",
       "4            SVR     R²  0.679"
      ]
     },
     "execution_count": 24,
     "metadata": {},
     "output_type": "execute_result"
    }
   ],
   "source": [
    "df_models_metrics_melt = pd.melt(df_models_metrics, id_vars=\"Model\", var_name=\"Metric\", value_name=\"Value\")\n",
    "df_models_metrics_melt.head()"
   ]
  },
  {
   "cell_type": "code",
   "execution_count": 25,
   "id": "abcc4861-9f40-49b0-b214-2abcd0bb9c71",
   "metadata": {},
   "outputs": [
    {
     "data": {
      "image/png": "[encoded data removed]",
      "text/plain": [
       "<Figure size 1080x432 with 1 Axes>"
      ]
     },
     "metadata": {},
     "output_type": "display_data"
    }
   ],
   "source": [
    "fig, ax1 = plt.subplots(figsize=(15, 6))\n",
    "plot = sns.barplot(x=\"Model\", y=\"Value\", hue=\"Metric\", data=df_models_metrics_melt, ax=ax1)\n",
    "for p in plot.patches:\n",
    "    plot.annotate(format(p.get_height(), \".2f\"), (p.get_x() + p.get_width() / 2., p.get_height()), \n",
    "                    ha=\"center\", va=\"center\", xytext=(0, 8), textcoords=\"offset points\")\n",
    "plt.title(\"Comparison of Metrics by model\", size=20)\n",
    "plt.legend(bbox_to_anchor=(1.10, 1), borderaxespad=0, title=\"Metrics\")\n",
    "plt.tight_layout()\n",
    "plt.xlabel(\"Model\", size=12)\n",
    "plt.ylabel(\"Metric\", size=12)\n",
    "plt.savefig(\"img/comparisonMetricsByModel.png\")\n",
    "sns.despine(fig)"
   ]
  },
  {
   "cell_type": "markdown",
   "id": "b3c169fb-035f-4e89-94a0-e12b6c14158a",
   "metadata": {},
   "source": [
    "<div style=\"background-color: #6D83C5;\" >\n",
    "    <h4 style=\"margin: auto; padding: 20px; color:#fff; \">5.3. Cross Validation K-Fold</h4>\n",
    "</div>"
   ]
  },
  {
   "cell_type": "code",
   "execution_count": 26,
   "id": "11da1dfc-2c98-46a4-9470-bc84edb8e7ab",
   "metadata": {},
   "outputs": [],
   "source": [
    "# List of metrics results for each models \n",
    "LIST_MODEL, LIST_R2SCORE, LIST_MAE, LIST_RMSE, LIST_DURATION, LIST_SCORES  = ([] for i in range(6))\n",
    "\n",
    "for k, v in regressors.items():\n",
    "\n",
    "    # Data preprocessing based on the pipelines and the regressors setup\n",
    "    reg = make_pipeline(preprocessor, v)\n",
    "    \n",
    "    kfold = KFold(n_splits=5, shuffle=True, random_state=0)\n",
    "    \n",
    "    # Get the score for each validation score method to get accuracy of model\n",
    "    scores = cross_validate(reg, X_train, y_train, cv=kfold, scoring=(\"r2\", \"neg_mean_absolute_error\", \"neg_mean_squared_error\"), return_train_score=True)\n",
    "    \n",
    "    # Adding results into LIST\n",
    "    LIST_MODEL.append(k)\n",
    "    LIST_R2SCORE.append(round(scores.get(\"test_r2\").mean(), 3))\n",
    "    LIST_MAE.append(round(abs(scores.get(\"test_neg_mean_absolute_error\").mean()), 3))\n",
    "    LIST_RMSE.append(round(math.sqrt((abs(scores.get(\"test_neg_mean_squared_error\").mean()))), 3))\n",
    "    LIST_DURATION.append(round(scores.get(\"fit_time\").mean(), 3))\n",
    "    LIST_SCORES.append(scores.get(\"test_r2\"))"
   ]
  },
  {
   "cell_type": "markdown",
   "id": "ed4d446e-c258-4075-9a99-05ef48890d2b",
   "metadata": {
    "tags": []
   },
   "source": [
    "<div class=\"alert alert-block alert-info\">\n",
    "    Plotting the cross validation executions\n",
    "</div>"
   ]
  },
  {
   "cell_type": "code",
   "execution_count": 27,
   "id": "94c01a30-1a42-4935-a891-d098be61350c",
   "metadata": {},
   "outputs": [],
   "source": [
    "df_cross_val = pd.DataFrame(LIST_SCORES, columns=[1, 2, 3, 4, 5])\n",
    "df_cross_val[\"Model\"] = LIST_MODEL\n",
    "df_cross_val_melt = df_cross_val.melt(id_vars=\"Model\", var_name=\"Execution\", value_name=\"Score\")"
   ]
  },
  {
   "cell_type": "code",
   "execution_count": 28,
   "id": "1c6b4f9d-c6a8-4a8d-9397-9102b11dce14",
   "metadata": {},
   "outputs": [
    {
     "data": {
      "image/png": "[encoded data removed]",
      "text/plain": [
       "<Figure size 576x432 with 1 Axes>"
      ]
     },
     "metadata": {},
     "output_type": "display_data"
    }
   ],
   "source": [
    "plt.figure(figsize=(8, 6))\n",
    "plot = sns.lineplot(x=\"Execution\",\n",
    "                    y=\"Score\",\n",
    "                    hue=\"Model\",\n",
    "                    data=df_cross_val_melt\n",
    ")\n",
    "plt.legend(bbox_to_anchor=(0.85, 1), borderaxespad=0, title=\"Model\")\n",
    "plt.tight_layout()\n",
    "plt.title(\"Models cross validations\", size=20)\n",
    "plot.set(xlabel=\"Execution\", ylabel=\"Score\", xlim=(1, 6))\n",
    "\n",
    "plt.savefig(\"img/models-cross-validations-Scores.png\")\n",
    "sns.despine(fig)"
   ]
  },
  {
   "cell_type": "markdown",
   "id": "72b64133-19f0-4936-a8c5-5bfba8874f72",
   "metadata": {},
   "source": [
    "<div style=\"background-color: #6D83C5;\" >\n",
    "    <h5 style=\"margin: auto; padding: 20px; color:#fff; \">5.3.1 Predictions metrics</h5>\n",
    "</div>"
   ]
  },
  {
   "cell_type": "markdown",
   "id": "e56b0a39-b26f-4e31-93c3-3d7496c3232a",
   "metadata": {
    "tags": []
   },
   "source": [
    "<div class=\"alert alert-block alert-info\">\n",
    "    Creating dataframe based on metrics results for each models\n",
    "</div>"
   ]
  },
  {
   "cell_type": "code",
   "execution_count": 29,
   "id": "9856af73-bbff-40ca-8764-3de09dfc24b3",
   "metadata": {},
   "outputs": [
    {
     "data": {
      "text/html": [
       "<div>\n",
       "<style scoped>\n",
       "    .dataframe tbody tr th:only-of-type {\n",
       "        vertical-align: middle;\n",
       "    }\n",
       "\n",
       "    .dataframe tbody tr th {\n",
       "        vertical-align: top;\n",
       "    }\n",
       "\n",
       "    .dataframe thead th {\n",
       "        text-align: right;\n",
       "    }\n",
       "</style>\n",
       "<table border=\"1\" class=\"dataframe\">\n",
       "  <thead>\n",
       "    <tr style=\"text-align: right;\">\n",
       "      <th></th>\n",
       "      <th>Model</th>\n",
       "      <th>R²</th>\n",
       "      <th>MAE</th>\n",
       "      <th>RMSE</th>\n",
       "      <th>Duration</th>\n",
       "    </tr>\n",
       "  </thead>\n",
       "  <tbody>\n",
       "    <tr>\n",
       "      <th>0</th>\n",
       "      <td>KNeighbors</td>\n",
       "      <td>0.560</td>\n",
       "      <td>0.958</td>\n",
       "      <td>1.278</td>\n",
       "      <td>0.021</td>\n",
       "    </tr>\n",
       "    <tr>\n",
       "      <th>1</th>\n",
       "      <td>Linear</td>\n",
       "      <td>0.655</td>\n",
       "      <td>0.811</td>\n",
       "      <td>1.129</td>\n",
       "      <td>0.016</td>\n",
       "    </tr>\n",
       "    <tr>\n",
       "      <th>2</th>\n",
       "      <td>Lasso</td>\n",
       "      <td>0.322</td>\n",
       "      <td>1.237</td>\n",
       "      <td>1.587</td>\n",
       "      <td>0.019</td>\n",
       "    </tr>\n",
       "    <tr>\n",
       "      <th>3</th>\n",
       "      <td>Random Forest</td>\n",
       "      <td>0.686</td>\n",
       "      <td>0.796</td>\n",
       "      <td>1.080</td>\n",
       "      <td>0.564</td>\n",
       "    </tr>\n",
       "    <tr>\n",
       "      <th>4</th>\n",
       "      <td>SVR</td>\n",
       "      <td>0.681</td>\n",
       "      <td>0.788</td>\n",
       "      <td>1.089</td>\n",
       "      <td>0.061</td>\n",
       "    </tr>\n",
       "    <tr>\n",
       "      <th>5</th>\n",
       "      <td>Gradient Boosting</td>\n",
       "      <td>0.700</td>\n",
       "      <td>0.777</td>\n",
       "      <td>1.055</td>\n",
       "      <td>0.174</td>\n",
       "    </tr>\n",
       "  </tbody>\n",
       "</table>\n",
       "</div>"
      ],
      "text/plain": [
       "               Model     R²    MAE   RMSE  Duration\n",
       "0         KNeighbors  0.560  0.958  1.278     0.021\n",
       "1             Linear  0.655  0.811  1.129     0.016\n",
       "2              Lasso  0.322  1.237  1.587     0.019\n",
       "3      Random Forest  0.686  0.796  1.080     0.564\n",
       "4                SVR  0.681  0.788  1.089     0.061\n",
       "5  Gradient Boosting  0.700  0.777  1.055     0.174"
      ]
     },
     "execution_count": 29,
     "metadata": {},
     "output_type": "execute_result"
    }
   ],
   "source": [
    "df_models_metrics_cross = pd.DataFrame({\n",
    "    \"Model\" : LIST_MODEL,\n",
    "    \"R2\".translate(SUP) : LIST_R2SCORE, \n",
    "    \"MAE\" : LIST_MAE,    \n",
    "    \"RMSE\" : LIST_RMSE,\n",
    "    \"Duration\" : LIST_DURATION,\n",
    "})\n",
    "\n",
    "df_models_metrics_cross"
   ]
  },
  {
   "cell_type": "markdown",
   "id": "9aa20c28-2ea6-4ead-8330-a1543e8e1ea9",
   "metadata": {
    "tags": []
   },
   "source": [
    "<div class=\"alert alert-block alert-info\">\n",
    "    <b>Best results</b> with default mode considering each model\n",
    "    <ul style=\"list-style-type: square;\">\n",
    "        <li><b>r2:</b> Gradient Boosting(0.701) </li>\n",
    "        <li><b>MAE:</b> Gradient Boosting(0.777) </li>\n",
    "        <li><b>RMSE:</b> Gradient Boosting(1.054) </li>\n",
    "        <li><b>Duration:</b> Lasso(0.008) </li>\n",
    "    </ul> \n",
    "</div>"
   ]
  },
  {
   "cell_type": "code",
   "execution_count": 30,
   "id": "440f655e-05a3-4ac7-9578-fc2847403ee3",
   "metadata": {},
   "outputs": [
    {
     "data": {
      "text/html": [
       "<div>\n",
       "<style scoped>\n",
       "    .dataframe tbody tr th:only-of-type {\n",
       "        vertical-align: middle;\n",
       "    }\n",
       "\n",
       "    .dataframe tbody tr th {\n",
       "        vertical-align: top;\n",
       "    }\n",
       "\n",
       "    .dataframe thead th {\n",
       "        text-align: right;\n",
       "    }\n",
       "</style>\n",
       "<table border=\"1\" class=\"dataframe\">\n",
       "  <thead>\n",
       "    <tr style=\"text-align: right;\">\n",
       "      <th></th>\n",
       "      <th>Model</th>\n",
       "      <th>Metric</th>\n",
       "      <th>Value</th>\n",
       "    </tr>\n",
       "  </thead>\n",
       "  <tbody>\n",
       "    <tr>\n",
       "      <th>0</th>\n",
       "      <td>KNeighbors</td>\n",
       "      <td>R²</td>\n",
       "      <td>0.560</td>\n",
       "    </tr>\n",
       "    <tr>\n",
       "      <th>1</th>\n",
       "      <td>Linear</td>\n",
       "      <td>R²</td>\n",
       "      <td>0.655</td>\n",
       "    </tr>\n",
       "    <tr>\n",
       "      <th>2</th>\n",
       "      <td>Lasso</td>\n",
       "      <td>R²</td>\n",
       "      <td>0.322</td>\n",
       "    </tr>\n",
       "    <tr>\n",
       "      <th>3</th>\n",
       "      <td>Random Forest</td>\n",
       "      <td>R²</td>\n",
       "      <td>0.686</td>\n",
       "    </tr>\n",
       "    <tr>\n",
       "      <th>4</th>\n",
       "      <td>SVR</td>\n",
       "      <td>R²</td>\n",
       "      <td>0.681</td>\n",
       "    </tr>\n",
       "  </tbody>\n",
       "</table>\n",
       "</div>"
      ],
      "text/plain": [
       "           Model Metric  Value\n",
       "0     KNeighbors     R²  0.560\n",
       "1         Linear     R²  0.655\n",
       "2          Lasso     R²  0.322\n",
       "3  Random Forest     R²  0.686\n",
       "4            SVR     R²  0.681"
      ]
     },
     "execution_count": 30,
     "metadata": {},
     "output_type": "execute_result"
    }
   ],
   "source": [
    "df_models_metrics_melt_cross = pd.melt(df_models_metrics_cross, id_vars=\"Model\", var_name=\"Metric\", value_name=\"Value\")\n",
    "df_models_metrics_melt_cross.head()"
   ]
  },
  {
   "cell_type": "code",
   "execution_count": 31,
   "id": "0554dab7-2295-476d-8234-1a9e1c53e168",
   "metadata": {},
   "outputs": [
    {
     "data": {
      "image/png": "[encoded data removed]",
      "text/plain": [
       "<Figure size 1080x432 with 1 Axes>"
      ]
     },
     "metadata": {},
     "output_type": "display_data"
    }
   ],
   "source": [
    "fig, ax1 = plt.subplots(figsize=(15, 6))\n",
    "plot = sns.barplot(x=\"Model\", y=\"Value\", hue=\"Metric\", data=df_models_metrics_melt_cross, ax=ax1)\n",
    "for p in plot.patches:\n",
    "    plot.annotate(format(p.get_height(), \".2f\"), (p.get_x() + p.get_width() / 2., p.get_height()), \n",
    "                    ha=\"center\", va=\"center\", xytext=(0, 8), textcoords=\"offset points\")\n",
    "plt.title(\"Metrics with Cross validation by model\", size=20)\n",
    "plt.legend(bbox_to_anchor=(1.10, 1), borderaxespad=0, title=\"Metrics\")\n",
    "plt.tight_layout()\n",
    "plt.xlabel(\"Model\", size=12)\n",
    "plt.ylabel(\"Metric\", size=12)\n",
    "plt.savefig(\"img/comparisonMetrics_crossByModel.png\")\n",
    "sns.despine(fig)"
   ]
  },
  {
   "cell_type": "markdown",
   "id": "6e9a93f7-3b30-4e7f-a87f-ba9fd3c9c036",
   "metadata": {
    "tags": []
   },
   "source": [
    "<div class=\"alert alert-block alert-info\">\n",
    "    <b>In conclusion</b> the results are very similar to previous results\n",
    "</div>"
   ]
  },
  {
   "cell_type": "markdown",
   "id": "6b4da019-04c1-446d-97f3-f981e3a3741c",
   "metadata": {
    "tags": []
   },
   "source": [
    "<div style=\"background-color: #6D83C5;\" >\n",
    "    <h3 style=\"margin: auto; padding: 20px; color:#fff; \">6. Optimization</h3>\n",
    "</div>"
   ]
  },
  {
   "cell_type": "markdown",
   "id": "df9dcabf-f327-4f14-93d1-e078a553997c",
   "metadata": {
    "tags": []
   },
   "source": [
    "<div class=\"alert alert-block alert-info\">\n",
    "    We are going to optimize each model separately, to see the results more in detail.<br><br>\n",
    "    \n",
    "    At the same time, we are going to get the following metrics\n",
    "</div>"
   ]
  },
  {
   "cell_type": "code",
   "execution_count": 32,
   "id": "4df46400-7c5f-4ad7-9a48-75a2b51afa92",
   "metadata": {},
   "outputs": [],
   "source": [
    "SCORINGS = {\n",
    "    \"R2\" : \"r2\",\n",
    "    \"MSE\" : \"neg_mean_squared_error\", \n",
    "    \"MAE\" : \"neg_mean_absolute_error\"\n",
    "}"
   ]
  },
  {
   "cell_type": "markdown",
   "id": "38b4ce5a-824d-47e9-8f1a-42cb68ee996d",
   "metadata": {},
   "source": [
    "<div style=\"background-color: #6D83C5;\" >\n",
    "    <h4 style=\"margin: auto; padding: 20px; color:#fff; \">6.1. KNeighbors optimization</h4>\n",
    "</div>"
   ]
  },
  {
   "cell_type": "markdown",
   "id": "2a97c823-ca6e-42d4-a387-834fdf761bd5",
   "metadata": {
    "tags": []
   },
   "source": [
    "<div class=\"alert alert-block alert-info\">\n",
    "    Initializing model\n",
    "</div>"
   ]
  },
  {
   "cell_type": "code",
   "execution_count": 33,
   "id": "fcc3172a-20d8-4dca-be14-4e7f68ea79a5",
   "metadata": {},
   "outputs": [],
   "source": [
    "knn = KNeighborsRegressor()"
   ]
  },
  {
   "cell_type": "markdown",
   "id": "54743395-587c-4665-91a3-c88fab57fddb",
   "metadata": {
    "tags": []
   },
   "source": [
    "<div class=\"alert alert-block alert-info\">\n",
    "    Data preprocessing based on the pipelines and the regressors setup\n",
    "</div>"
   ]
  },
  {
   "cell_type": "code",
   "execution_count": 34,
   "id": "ac9480bb-33bc-443e-8d93-26734cb16b11",
   "metadata": {},
   "outputs": [],
   "source": [
    "reg = make_pipeline(preprocessor, knn)"
   ]
  },
  {
   "cell_type": "markdown",
   "id": "e84fe29d-d8c6-400c-89ac-b1fdb7c30d37",
   "metadata": {
    "tags": []
   },
   "source": [
    "<div class=\"alert alert-block alert-info\">\n",
    "    Identifying the names of each parameter\n",
    "</div>"
   ]
  },
  {
   "cell_type": "code",
   "execution_count": 35,
   "id": "3a47f690-db8c-4011-bf44-eae8a562b7a7",
   "metadata": {},
   "outputs": [
    {
     "data": {
      "text/plain": [
       "['columntransformer',\n",
       " 'columntransformer__n_jobs',\n",
       " 'columntransformer__pipeline-1',\n",
       " 'columntransformer__pipeline-1__memory',\n",
       " 'columntransformer__pipeline-1__standardscaler',\n",
       " 'columntransformer__pipeline-1__standardscaler__copy',\n",
       " 'columntransformer__pipeline-1__standardscaler__with_mean',\n",
       " 'columntransformer__pipeline-1__standardscaler__with_std',\n",
       " 'columntransformer__pipeline-1__steps',\n",
       " 'columntransformer__pipeline-1__verbose',\n",
       " 'columntransformer__pipeline-2',\n",
       " 'columntransformer__pipeline-2__memory',\n",
       " 'columntransformer__pipeline-2__onehotencoder',\n",
       " 'columntransformer__pipeline-2__onehotencoder__categories',\n",
       " 'columntransformer__pipeline-2__onehotencoder__drop',\n",
       " 'columntransformer__pipeline-2__onehotencoder__dtype',\n",
       " 'columntransformer__pipeline-2__onehotencoder__handle_unknown',\n",
       " 'columntransformer__pipeline-2__onehotencoder__sparse',\n",
       " 'columntransformer__pipeline-2__steps',\n",
       " 'columntransformer__pipeline-2__verbose',\n",
       " 'columntransformer__remainder',\n",
       " 'columntransformer__sparse_threshold',\n",
       " 'columntransformer__transformer_weights',\n",
       " 'columntransformer__transformers',\n",
       " 'columntransformer__verbose',\n",
       " 'kneighborsregressor',\n",
       " 'kneighborsregressor__algorithm',\n",
       " 'kneighborsregressor__leaf_size',\n",
       " 'kneighborsregressor__metric',\n",
       " 'kneighborsregressor__metric_params',\n",
       " 'kneighborsregressor__n_jobs',\n",
       " 'kneighborsregressor__n_neighbors',\n",
       " 'kneighborsregressor__p',\n",
       " 'kneighborsregressor__weights',\n",
       " 'memory',\n",
       " 'steps',\n",
       " 'verbose']"
      ]
     },
     "execution_count": 35,
     "metadata": {},
     "output_type": "execute_result"
    }
   ],
   "source": [
    "sorted(reg.get_params().keys())"
   ]
  },
  {
   "cell_type": "markdown",
   "id": "c0d54236-cfa2-4007-b595-dad2baff4e12",
   "metadata": {
    "tags": []
   },
   "source": [
    "<div class=\"alert alert-block alert-info\">\n",
    "    Parameters settings\n",
    "</div>"
   ]
  },
  {
   "cell_type": "code",
   "execution_count": 36,
   "id": "5596bf1e-ad97-4b4b-be04-373c3da76194",
   "metadata": {},
   "outputs": [],
   "source": [
    "param_grid = {\n",
    "    \"kneighborsregressor__n_neighbors\" : [3, 5, 7, 9, 11, 13, 15, 20, 50],\n",
    "    \"kneighborsregressor__weights\" : [\"uniform\", \"distance\"],\n",
    "    \"kneighborsregressor__metric\" : [\"euclidean\", \"manhattan\"]\n",
    "}"
   ]
  },
  {
   "cell_type": "markdown",
   "id": "1cd2ce95-1c08-4274-8478-c919d3dd81bc",
   "metadata": {
    "tags": []
   },
   "source": [
    "<div class=\"alert alert-block alert-info\">\n",
    "    Executing the model\n",
    "</div>"
   ]
  },
  {
   "cell_type": "code",
   "execution_count": 37,
   "id": "dcadd5a7-2795-4ae0-9c5a-e82896196553",
   "metadata": {},
   "outputs": [
    {
     "name": "stdout",
     "output_type": "stream",
     "text": [
      "Metrics based on the best R²\n",
      "- R²: 0.666\n",
      "- MAE: 0.822\n",
      "- RMSE: 1.115\n",
      "- Duration: 0.035\n",
      "- Parameters: {'kneighborsregressor__metric': 'euclidean', 'kneighborsregressor__n_neighbors': 11, 'kneighborsregressor__weights': 'distance'}\n"
     ]
    }
   ],
   "source": [
    "# K-Folds cross-validator\n",
    "kfold = KFold(n_splits=5, shuffle=True, random_state=0)\n",
    "\n",
    "search = GridSearchCV(reg, param_grid, n_jobs=-1, cv=kfold, scoring=SCORINGS, refit=\"R2\", return_train_score=True)\n",
    "\n",
    "search.fit(X_train, y_train)\n",
    "\n",
    "# Transforming the result to dataframe format\n",
    "df_results = pd.DataFrame(search.cv_results_)\n",
    "\n",
    "# Get the results\n",
    "print(\"Metrics based on the best R2\".translate(SUP))\n",
    "print(\"- R2:\".translate(SUP), round(search.best_score_, 3))\n",
    "print(\"- MAE:\", round(abs(df_results.iloc[search.best_index_][\"mean_test_MAE\"]), 3))\n",
    "print(\"- RMSE:\", round(math.sqrt(abs(df_results.iloc[search.best_index_][\"mean_test_MSE\"])), 3))\n",
    "print(\"- Duration:\", round(df_results.iloc[search.best_index_][\"mean_score_time\"], 3))\n",
    "print(\"- Parameters:\", search.best_params_)"
   ]
  },
  {
   "cell_type": "markdown",
   "id": "5454d274-fb6b-4866-a1bd-74d611957521",
   "metadata": {
    "tags": []
   },
   "source": [
    "<div class=\"alert alert-block alert-info\">\n",
    "    Now we are going to analyze more in details the best parameters\n",
    "</div>"
   ]
  },
  {
   "cell_type": "code",
   "execution_count": 38,
   "id": "332df373-ff0f-4171-8cc5-3b27ffd5a0da",
   "metadata": {},
   "outputs": [],
   "source": [
    "# K-Folds cross-validator\n",
    "kfold = KFold(n_splits=5, shuffle=True, random_state=0)\n",
    "\n",
    "n_neighbors = [3, 5, 7, 9, 11, 13, 15, 20, 50]\n",
    "\n",
    "reg = make_pipeline(preprocessor, KNeighborsRegressor(weights=\"distance\", metric=\"euclidean\"))"
   ]
  },
  {
   "cell_type": "markdown",
   "id": "5a589d11-c0e2-43ed-bf7e-71382a55d9f4",
   "metadata": {},
   "source": [
    "<div style=\"background-color: #6D83C5;\" >\n",
    "    <h5 style=\"margin: auto; padding: 20px; color:#fff; \">6.1.1 KNeighbors Validation curve</h5>\n",
    "</div>"
   ]
  },
  {
   "cell_type": "markdown",
   "id": "05455a89-61af-4566-83e9-1612ef96adc5",
   "metadata": {
    "tags": []
   },
   "source": [
    "<div class=\"alert alert-block alert-info\">\n",
    "    Plotting <b>the validacion curve</b> based on the best parameters\n",
    "</div>"
   ]
  },
  {
   "cell_type": "code",
   "execution_count": 39,
   "id": "c0922c15-8c06-48ca-a76a-cb32e14b0dc9",
   "metadata": {},
   "outputs": [],
   "source": [
    "train_scores, test_scores = validation_curve(reg, X_train, y_train, param_name=\"kneighborsregressor__n_neighbors\", param_range=n_neighbors, cv=kfold)\n",
    "\n",
    "train_scores_mean = np.mean(train_scores, axis=1)\n",
    "train_scores_std = np.std(train_scores, axis=1)\n",
    "test_scores_mean = np.mean(test_scores, axis=1)\n",
    "test_scores_std = np.std(test_scores, axis=1)"
   ]
  },
  {
   "cell_type": "code",
   "execution_count": 40,
   "id": "1fa08ab3-37b7-47dc-9685-a7afa869e548",
   "metadata": {},
   "outputs": [
    {
     "data": {
      "image/png": "[encoded data removed]",
      "text/plain": [
       "<Figure size 576x432 with 1 Axes>"
      ]
     },
     "metadata": {},
     "output_type": "display_data"
    }
   ],
   "source": [
    "plt.figure(figsize=(8, 6))\n",
    "\n",
    "plot = sns.lineplot(x=n_neighbors, y=train_scores_mean, label=\"Train\", marker=\"o\")\n",
    "plt.fill_between(n_neighbors, train_scores_mean - train_scores_std, train_scores_mean + train_scores_std, alpha=0.1, color=\"blue\")\n",
    "\n",
    "plot = sns.lineplot(x=n_neighbors, y=test_scores_mean, label=\"Validation\", marker=\"o\")\n",
    "plt.fill_between(n_neighbors, test_scores_mean - test_scores_std, test_scores_mean + test_scores_std, alpha=0.1, color=\"orange\")\n",
    "\n",
    "plt.legend(bbox_to_anchor=(1.01, 1), borderaxespad=0)\n",
    "plt.title(\"KNeighbors Validation curve\", size=20)\n",
    "plot.set(xlabel=\"Number of neighbors\", ylabel=\"R2-score\".translate(SUP), xlim=[0, 51])\n",
    "plt.savefig(\"img/kneighbors-validation-curve.png\")\n",
    "sns.despine(fig)"
   ]
  },
  {
   "cell_type": "markdown",
   "id": "935aafba-d485-439e-98ce-2f2c60c7d51f",
   "metadata": {},
   "source": [
    "<div style=\"background-color: #6D83C5;\" >\n",
    "    <h5 style=\"margin: auto; padding: 20px; color:#fff; \">6.1.2 KNeighbors Learning curve</h5>\n",
    "</div>"
   ]
  },
  {
   "cell_type": "markdown",
   "id": "681e3cf6-8a81-4458-9ed5-f1e980595e94",
   "metadata": {
    "tags": []
   },
   "source": [
    "<div class=\"alert alert-block alert-info\">\n",
    "    Plotting <b>the learning curve</b> based on the best parameters\n",
    "</div>"
   ]
  },
  {
   "cell_type": "code",
   "execution_count": 41,
   "id": "ac61ece7-4582-4cc1-ad35-39b8ad6d2b20",
   "metadata": {},
   "outputs": [],
   "source": [
    "train_sizes, train_scores, test_scores, fit_times, _ = learning_curve(reg, X_train, y_train, train_sizes=np.linspace(0.2, 1.0, 10), cv=kfold, return_times=True)\n",
    "\n",
    "train_scores_mean = np.mean(train_scores, axis=1)\n",
    "train_scores_std = np.std(train_scores, axis=1)\n",
    "test_scores_mean = np.mean(test_scores, axis=1)\n",
    "test_scores_std = np.std(test_scores, axis=1)\n",
    "fit_times_mean = np.mean(fit_times, axis=1)\n",
    "fit_times_std = np.std(fit_times, axis=1)"
   ]
  },
  {
   "cell_type": "code",
   "execution_count": 42,
   "id": "e930c2a1-15c4-4a15-bad2-d436138d5668",
   "metadata": {},
   "outputs": [
    {
     "data": {
      "image/png": "[encoded data removed]",
      "text/plain": [
       "<Figure size 576x432 with 1 Axes>"
      ]
     },
     "metadata": {},
     "output_type": "display_data"
    }
   ],
   "source": [
    "plt.figure(figsize=(8, 6))\n",
    "\n",
    "plot = sns.lineplot(x=train_sizes, y=train_scores_mean, label=\"Train\", marker=\"o\")\n",
    "plt.fill_between(train_sizes, train_scores_mean - train_scores_std, train_scores_mean + train_scores_std, alpha=0.1, color=\"blue\")\n",
    "\n",
    "plot = sns.lineplot(x=train_sizes, y=test_scores_mean, label=\"Validation\", marker=\"o\")\n",
    "plt.fill_between(train_sizes, test_scores_mean - test_scores_std, test_scores_mean + test_scores_std, alpha=0.1, color=\"orange\")\n",
    "\n",
    "plt.legend(bbox_to_anchor=(1.01, 1), borderaxespad=0)\n",
    "plt.title(\"KNeighbors Learning curve\", size=20)\n",
    "plot.set(xlabel=\"Training examples\", ylabel=\"R2-score\".translate(SUP))\n",
    "plt.savefig(\"img/kneighbors-learning-curve.png\")\n",
    "sns.despine(fig)"
   ]
  },
  {
   "cell_type": "code",
   "execution_count": 43,
   "id": "d1dd7778-839d-48eb-bff8-0bf0e7ec8c0e",
   "metadata": {},
   "outputs": [
    {
     "data": {
      "image/png": "[encoded data removed]",
      "text/plain": [
       "<Figure size 576x432 with 1 Axes>"
      ]
     },
     "metadata": {},
     "output_type": "display_data"
    }
   ],
   "source": [
    "plt.figure(figsize=(8, 6))\n",
    "\n",
    "plot = sns.lineplot(x=train_sizes, y=fit_times_mean, marker=\"o\")\n",
    "plt.fill_between(train_sizes, fit_times_mean - fit_times_std, fit_times_mean + fit_times_std, alpha=0.1, color=\"blue\")\n",
    "\n",
    "plt.title(\"Scalability of the model\", size=20)\n",
    "plot.set(xlabel=\"Training examples\", ylabel=\"Fit times\")\n",
    "plt.savefig(\"img/kneighbors-scalability-model.png\")\n",
    "sns.despine(fig)"
   ]
  },
  {
   "cell_type": "code",
   "execution_count": 44,
   "id": "54f6271a-7bef-4ab5-bb89-4102c55a8ac4",
   "metadata": {},
   "outputs": [
    {
     "data": {
      "image/png": "[encoded data removed]",
      "text/plain": [
       "<Figure size 576x432 with 1 Axes>"
      ]
     },
     "metadata": {},
     "output_type": "display_data"
    }
   ],
   "source": [
    "plt.figure(figsize=(8, 6))\n",
    "\n",
    "plot = sns.lineplot(x=fit_times_mean, y=test_scores_mean, marker=\"o\")\n",
    "plt.fill_between(fit_times_mean, test_scores_mean - test_scores_std, test_scores_mean + test_scores_std, alpha=0.1)\n",
    "\n",
    "plt.title(\"Performance of the model\", size=20)\n",
    "plot.set(xlabel=\"Fit times\", ylabel=\"R2-score\".translate(SUP))\n",
    "plt.savefig(\"img/kneighbors-performance-model.png\")\n",
    "sns.despine(fig)"
   ]
  },
  {
   "cell_type": "markdown",
   "id": "691381e4-2b1d-4c16-a0a0-0f6bf5423068",
   "metadata": {},
   "source": [
    "<div style=\"background-color: #6D83C5;\" >\n",
    "    <h5 style=\"margin: auto; padding: 20px; color:#fff; \">6.1.3 KNeighbors predictions validations</h5>\n",
    "</div>"
   ]
  },
  {
   "cell_type": "markdown",
   "id": "b46b577f-baee-4a4d-8070-bb81a8fc4942",
   "metadata": {
    "tags": []
   },
   "source": [
    "<div class=\"alert alert-block alert-info\">\n",
    "    Plotting <b>the Cross-Validated Predictions</b> based on the best parameters\n",
    "</div>"
   ]
  },
  {
   "cell_type": "code",
   "execution_count": 45,
   "id": "82524ee5-29fe-4d97-b1d5-ede582619b91",
   "metadata": {},
   "outputs": [
    {
     "data": {
      "image/png": "[encoded data removed]",
      "text/plain": [
       "<Figure size 720x432 with 1 Axes>"
      ]
     },
     "metadata": {},
     "output_type": "display_data"
    }
   ],
   "source": [
    "predicted = cross_val_predict(reg, X_train, y_train, cv=kfold)\n",
    "\n",
    "fig, ax = plt.subplots(figsize=(10, 6))\n",
    "ax.scatter(y_train, predicted, edgecolors=(0, 0, 0))\n",
    "ax.plot([y_train.min(), y_train.max()], [y_train.min(), y_train.max()], \"--k\", lw=4)\n",
    "\n",
    "ax.text(0.47*max(y_train), 0.95*max(y_train), r'$R^2$=%.2f, RMSE=%.2f' % (\n",
    "            round(search.best_score_, 3),\n",
    "            round(math.sqrt(abs(df_results.iloc[search.best_index_][\"mean_test_MSE\"])), 3)))\n",
    "        \n",
    "ax.set_title(\"KNN Cross-Validated Predictions\", fontsize=20)\n",
    "ax.set_xlabel(\"Real values\")\n",
    "ax.set_ylabel(\"Predicted values\")\n",
    "plt.show()"
   ]
  },
  {
   "cell_type": "markdown",
   "id": "2ac1d0df-48dc-4e96-8b3b-326bf4541a3e",
   "metadata": {},
   "source": [
    "<div style=\"background-color: #6D83C5;\" >\n",
    "    <h5 style=\"margin: auto; padding: 20px; color:#fff; \">6.1.4 KNeighbors Features Importance</h5>\n",
    "</div>"
   ]
  },
  {
   "cell_type": "markdown",
   "id": "2829fb0a-9764-415c-be4f-6a459430031c",
   "metadata": {
    "tags": []
   },
   "source": [
    "<div class=\"alert alert-block alert-info\">\n",
    "    Plotting <b>the Features Importance</b> based on the best parameters\n",
    "</div>"
   ]
  },
  {
   "cell_type": "code",
   "execution_count": 46,
   "id": "e877f1ee-dd0a-4f9e-a323-e9b2bfcd2851",
   "metadata": {},
   "outputs": [],
   "source": [
    "# K-Folds cross-validator\n",
    "kfold = KFold(n_splits=5, shuffle=True, random_state=0)\n",
    "\n",
    "reg = make_pipeline(preprocessor, KNeighborsRegressor(n_neighbors=11, weights=\"distance\", metric=\"euclidean\"))"
   ]
  },
  {
   "cell_type": "code",
   "execution_count": 47,
   "id": "27f8a9a3-b2d2-4df7-9cf9-f70fbe7109c0",
   "metadata": {},
   "outputs": [],
   "source": [
    "reg.fit(X_train, y_train)\n",
    "results = permutation_importance(reg, X_train, y_train, scoring=\"neg_mean_squared_error\")"
   ]
  },
  {
   "cell_type": "code",
   "execution_count": 48,
   "id": "01ebe068-2304-42d7-b0dd-04bb18d1ee8c",
   "metadata": {},
   "outputs": [],
   "source": [
    "df_importance = pd.DataFrame({\n",
    "    \"Feature\" : X_train.columns,\n",
    "    \"Importance\" : results.importances_mean\n",
    "})\n",
    "df_importance = df_importance.sort_values(\"Importance\")"
   ]
  },
  {
   "cell_type": "code",
   "execution_count": 49,
   "id": "c2779b01-eeed-46c6-ab8f-2abddbce4cc7",
   "metadata": {},
   "outputs": [
    {
     "data": {
      "image/png": "[encoded data removed]",
      "text/plain": [
       "<Figure size 720x576 with 1 Axes>"
      ]
     },
     "metadata": {},
     "output_type": "display_data"
    }
   ],
   "source": [
    "fig = plt.subplots(figsize=(10, 8))\n",
    "plot = sns.barplot(data=df_importance, y=df_importance[\"Feature\"], x=df_importance[\"Importance\"])\n",
    "plt.xlabel(\"Importance\", size=12)\n",
    "plt.ylabel(\"Features\", size=12)\n",
    "plt.title(\"KNeighbors Features Importance\", size=20)\n",
    "plt.tight_layout()\n",
    "plt.savefig(\"img/knn-feature-importance.png\")\n",
    "plt.show()"
   ]
  },
  {
   "cell_type": "markdown",
   "id": "2d8985ba-d980-4482-9be0-da4ee0d4149f",
   "metadata": {},
   "source": [
    "- Learning curves\n",
    "- metrics R2, MSE, MAE, etc....\n",
    "- gráfica comparación de predicción con regresión\n",
    "    - arreglar metrica R2 y RMSE\n",
    "- importancia de features "
   ]
  },
  {
   "cell_type": "code",
   "execution_count": null,
   "id": "820e7395-eb7a-4ba4-9bc5-b1a64e441f03",
   "metadata": {},
   "outputs": [],
   "source": []
  },
  {
   "cell_type": "markdown",
   "id": "46551799-f2a7-4da4-9037-2536b4957548",
   "metadata": {},
   "source": [
    "<div class=\"alert alert-block alert-danger\">\n",
    "    <b>Flag position</b>\n",
    "</div>"
   ]
  },
  {
   "cell_type": "code",
   "execution_count": null,
   "id": "9aa5c0cd-4433-4caf-abd6-08f274f8f188",
   "metadata": {},
   "outputs": [],
   "source": [
    "XXXXXXXXX"
   ]
  },
  {
   "cell_type": "markdown",
   "id": "01b27b12-f469-4703-b748-d5843dbf4026",
   "metadata": {},
   "source": [
    "<div style=\"background-color: #6D83C5;\" >\n",
    "    <h1 style=\"margin: auto; padding: 20px; color:#fff; \">XXXXXXXXXXXXXXXXXXXXXXXXXXXXX</h1>\n",
    "</div>"
   ]
  },
  {
   "cell_type": "markdown",
   "id": "6f26a89e-83bd-4ddd-8b0d-9f178ddef63a",
   "metadata": {},
   "source": [
    "- grafica de error de training vs error test <br>\n",
    "https://scikit-learn.org/stable/auto_examples/model_selection/plot_train_error_vs_test_error.html\n",
    "\n",
    "- plotting learning curves <br>\n",
    "https://scikit-learn.org/stable/auto_examples/model_selection/plot_learning_curve.html <br>\n",
    "https://scikit-learn.org/stable/modules/learning_curve.html <br>\n",
    "https://www.dataquest.io/blog/learning-curves-machine-learning/\n",
    "\n",
    "- Visualizaciones <br>\n",
    "https://scikit-learn.org/stable/visualizations.html <br>\n",
    "https://medium.datadriveninvestor.com/visualizing-scikit-model-performance-fb26ff16f7c6\n",
    "\n",
    "\n",
    "- lsitado de metricas <br>\n",
    "https://scikit-learn.org/stable/modules/model_evaluation.html <br>\n",
    "https://scikit-learn.org/stable/modules/generated/sklearn.metrics.r2_score.html#sklearn.metrics.r2_score <br>\n",
    "https://scikit-learn.org/stable/modules/generated/sklearn.linear_model.LinearRegression.html\n",
    "\n",
    "- Receiver Operating Characteristic (ROC) with cross validation <br>\n",
    "https://scikit-learn.org/stable/auto_examples/model_selection/plot_roc_crossval.html#sphx-glr-auto-examples-model-selection-plot-roc-crossval-py\n",
    "\n",
    "- Underfitting vs. Overfitting <br>\n",
    "https://scikit-learn.org/stable/auto_examples/model_selection/plot_underfitting_overfitting.html#sphx-glr-auto-examples-model-selection-plot-underfitting-overfitting-py\n",
    "\n",
    "- Plotting Cross-Validated Predictions <br>\n",
    "https://scikit-learn.org/stable/auto_examples/model_selection/plot_cv_predict.htmlPlotting"
   ]
  },
  {
   "cell_type": "markdown",
   "id": "e364b311-43f8-4c6e-9b74-a6ccefdcc56a",
   "metadata": {},
   "source": [
    "<div style=\"background-color: #6D83C5;\" >\n",
    "    <h4 style=\"margin: auto; padding: 20px; color:#fff; \">6.2. Linear optimization</h4>\n",
    "</div>"
   ]
  },
  {
   "cell_type": "markdown",
   "id": "fd43a05b-88ce-45eb-87ce-c6c258d04086",
   "metadata": {},
   "source": [
    "<div style=\"background-color: #6D83C5;\" >\n",
    "    <h4 style=\"margin: auto; padding: 20px; color:#fff; \">6.3. Lasso optimization</h4>\n",
    "</div>"
   ]
  },
  {
   "cell_type": "markdown",
   "id": "d0e8dadb-a552-49a7-b365-a0cf75e54cf9",
   "metadata": {},
   "source": [
    "<div style=\"background-color: #6D83C5;\" >\n",
    "    <h4 style=\"margin: auto; padding: 20px; color:#fff; \">6.4. Random Forest optimization</h4>\n",
    "</div>"
   ]
  },
  {
   "cell_type": "markdown",
   "id": "73a42df5-f571-4dfe-b641-7435b40ab684",
   "metadata": {},
   "source": [
    "<div style=\"background-color: #6D83C5;\" >\n",
    "    <h4 style=\"margin: auto; padding: 20px; color:#fff; \">6.5. SVR optimization</h4>\n",
    "</div>"
   ]
  },
  {
   "cell_type": "markdown",
   "id": "32f096d3-347a-47bc-be22-8c3b78174c13",
   "metadata": {},
   "source": [
    "<div style=\"background-color: #6D83C5;\" >\n",
    "    <h4 style=\"margin: auto; padding: 20px; color:#fff; \">6.6. Gradient Boosting optimization</h4>\n",
    "</div>"
   ]
  },
  {
   "cell_type": "code",
   "execution_count": null,
   "id": "cba4af00-05a9-4c9a-984c-f327a2c4ec1d",
   "metadata": {},
   "outputs": [],
   "source": []
  },
  {
   "cell_type": "code",
   "execution_count": null,
   "id": "82726129-7f38-4be3-b3e5-4bb6073b9f73",
   "metadata": {},
   "outputs": [],
   "source": []
  },
  {
   "cell_type": "code",
   "execution_count": null,
   "id": "4e5aa570-2e5e-47b1-b92f-e6545f830e9a",
   "metadata": {},
   "outputs": [],
   "source": []
  },
  {
   "cell_type": "code",
   "execution_count": null,
   "id": "9cfada77-f36c-4789-8da6-146e45f6db45",
   "metadata": {},
   "outputs": [],
   "source": []
  },
  {
   "cell_type": "code",
   "execution_count": null,
   "id": "a6b8527b-dd58-426c-941f-284aa879747c",
   "metadata": {},
   "outputs": [],
   "source": []
  },
  {
   "cell_type": "code",
   "execution_count": null,
   "id": "21d37a7a-c93f-4982-8071-5157605c1ae9",
   "metadata": {},
   "outputs": [],
   "source": []
  },
  {
   "cell_type": "code",
   "execution_count": null,
   "id": "bd2d2951-f173-47e4-bb31-a42bcdfd178c",
   "metadata": {},
   "outputs": [],
   "source": []
  },
  {
   "cell_type": "code",
   "execution_count": null,
   "id": "5f1e6eeb-2752-4265-9552-a5839691b12b",
   "metadata": {},
   "outputs": [],
   "source": []
  }
 ],
 "metadata": {
  "kernelspec": {
   "display_name": "Python 3",
   "language": "python",
   "name": "python3"
  },
  "language_info": {
   "codemirror_mode": {
    "name": "ipython",
    "version": 3
   },
   "file_extension": ".py",
   "mimetype": "text/x-python",
   "name": "python",
   "nbconvert_exporter": "python",
   "pygments_lexer": "ipython3",
   "version": "3.8.5"
  }
 },
 "nbformat": 4,
 "nbformat_minor": 5
}
