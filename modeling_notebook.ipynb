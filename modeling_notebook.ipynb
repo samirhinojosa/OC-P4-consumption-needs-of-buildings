{
 "cells": [
  {
   "cell_type": "markdown",
   "id": "ce468ca3-b790-4103-8261-1356811912a9",
   "metadata": {},
   "source": [
    "<div style=\"display: flex; background-color: #3F579F;\">\n",
    "    <h1 style=\"margin: auto; font-weight: bold; padding: 30px 30px 0px 30px;\" align=\"center\">Consumption needs of buildings - Project 4</h1>\n",
    "</div>\n",
    "<div style=\"display: flex; background-color: #3F579F; margin: auto; padding: 5px 30px 0px 30px;\" >\n",
    "    <h2 style=\"width: 100%; text-align: center; float: left;\" align=\"center\">| Modeling notebook |</h2>\n",
    "</div>\n",
    "<div style=\"display: flex; background-color: #3F579F; margin: auto; padding: 10px 30px 30px 30px;\">\n",
    "    <h3 style=\"width: 100%; text-align: center; font-size:26px; float: left;\" align=\"center\">Data Scientist course - OpenClassrooms</h3>\n",
    "</div>"
   ]
  },
  {
   "cell_type": "markdown",
   "id": "24f8fd9b-9c31-4b49-866b-0854e0201db2",
   "metadata": {
    "tags": []
   },
   "source": [
    "<div style=\"background-color: #506AB9;\" >\n",
    "    <h3 style=\"margin: auto; padding: 20px; color:#fff; \">1. Libraries and functions</h3>\n",
    "</div>"
   ]
  },
  {
   "cell_type": "markdown",
   "id": "136892e5-2f9c-4512-8693-c96d4b8cc38d",
   "metadata": {},
   "source": [
    "<div style=\"background-color: #6D83C5;\" >\n",
    "    <h4 style=\"margin: auto; padding: 20px; color:#fff; \">1.1. Libraries and functions</h3>\n",
    "</div>"
   ]
  },
  {
   "cell_type": "code",
   "execution_count": 1,
   "id": "53a341ca-1d3d-478d-a3ec-6319bfc0694e",
   "metadata": {},
   "outputs": [],
   "source": [
    "## df_analysis\n",
    "import io\n",
    "import gc\n",
    "import timeit\n",
    "import math\n",
    "from math import prod\n",
    "\n",
    "## General\n",
    "import pandas as pd\n",
    "import numpy as np\n",
    "from numpy.random import seed, randint\n",
    "import matplotlib.pyplot as plt\n",
    "import seaborn as sns\n",
    "\n",
    "## Scikit Learn library\n",
    "from sklearn.model_selection import train_test_split\n",
    "from sklearn.compose import make_column_transformer\n",
    "from sklearn.pipeline import make_pipeline\n",
    "from sklearn.preprocessing import FunctionTransformer, StandardScaler, OneHotEncoder\n",
    "from sklearn.metrics import mean_squared_error, mean_absolute_error, r2_score\n",
    "from sklearn.inspection import permutation_importance\n",
    "from sklearn.model_selection import cross_validate, KFold, GridSearchCV, validation_curve, learning_curve, cross_val_predict, cross_val_predict\n",
    "from sklearn.neighbors import KNeighborsRegressor, NearestNeighbors\n",
    "from sklearn.linear_model import LinearRegression, Lasso\n",
    "from sklearn.ensemble import RandomForestRegressor, GradientBoostingRegressor\n",
    "from sklearn.svm import SVR\n",
    "\n",
    "\n",
    "%matplotlib inline\n",
    "\n",
    "sns.set_theme(style=\"darkgrid\")\n",
    "\n",
    "SUB = str.maketrans(\"0123456789\", \"₀₁₂₃₄₅₆₇₈₉\")\n",
    "SUP = str.maketrans(\"0123456789\", \"⁰¹²³⁴⁵⁶⁷⁸⁹\")"
   ]
  },
  {
   "cell_type": "markdown",
   "id": "cb2533d3-cfa1-4697-875b-007f75b4c6a0",
   "metadata": {},
   "source": [
    "<div style=\"background-color: #6D83C5;\" >\n",
    "    <h4 style=\"margin: auto; padding: 20px; color:#fff; \">1.2. Functions declaration</h4>\n",
    "</div>"
   ]
  },
  {
   "cell_type": "code",
   "execution_count": 2,
   "id": "1fbda1fe-ff0e-47f5-9b0d-68e4ef09468a",
   "metadata": {
    "tags": []
   },
   "outputs": [],
   "source": [
    "def df_analysis(df, name_df, *args, **kwargs):\n",
    "    \"\"\"\n",
    "    Method used to analyze on the DataFrame.\n",
    "\n",
    "    Parameters:\n",
    "    -----------------\n",
    "        df : pandas.DataFrame\n",
    "        Dataset to analyze.\n",
    "        \n",
    "        name_df : str\n",
    "        Dataset name.\n",
    "        \n",
    "        *args, **kwargs:\n",
    "        -----------------\n",
    "            columns : list\n",
    "            Dataframe keys in list format.\n",
    "            \n",
    "            flag : str\n",
    "            Flag to show complete information about the dataset to analyse\n",
    "            \"complete\" shows all information about the dataset.\n",
    "\n",
    "    Returns:\n",
    "    -----------------\n",
    "        None. \n",
    "        Print the analysis on the Dataset. \n",
    "        \n",
    "    \"\"\"\n",
    "    \n",
    "    # Getting the variables\n",
    "    columns = kwargs.get(\"columns\", None)\n",
    "    type_analysis = kwargs.get(\"type_analysis\", None)\n",
    "    \n",
    "    ORDERING_COMPLETE = [\n",
    "        \"name\", \"type\", \"records\", \"unique\", \"# NaN\", \"% NaN\", \"mean\", \"min\", \"25%\", \"50%\", \"75%\", \"max\", \"std\"\n",
    "    ]\n",
    "    \n",
    "    # Calculating the memory usage based on dataframe.info()\n",
    "    buf = io.StringIO()\n",
    "    df.info(buf=buf)\n",
    "    memory_usage = buf.getvalue().split('\\n')[-2]\n",
    "    \n",
    "    if df.empty:\n",
    "        print(\"The\", name_df, \"dataset is empty. Please verify the file.\")\n",
    "    else:\n",
    "        empty_cols = [col for col in df.columns if df[col].isna().all()] # identifying empty columns\n",
    "        df_rows_duplicates = df[df.duplicated()] #identifying full duplicates rows\n",
    "        \n",
    "        # Creating a dataset based on Type object and records by columns\n",
    "        type_cols = df.dtypes.apply(lambda x: x.name).to_dict() \n",
    "        df_resume = pd.DataFrame(list(type_cols.items()), columns = [\"name\", \"type\"])\n",
    "        df_resume[\"records\"] = list(df.count())\n",
    "        df_resume[\"# NaN\"] = list(df.isnull().sum())\n",
    "        df_resume[\"% NaN\"] = list(((df.isnull().sum() / len(df.index))*100).round(2))\n",
    "        \n",
    "        print(\"\\nAnalysis of\", name_df, \"dataset\")\n",
    "        print(\"--------------------------------------------------------------------\")\n",
    "        print(\"- Dataset shape:                 \", df.shape[0], \"rows and\", df.shape[1], \"columns\")\n",
    "        print(\"- Total of NaN values:           \", df.isna().sum().sum())\n",
    "        print(\"- Percentage of NaN:             \", round((df.isna().sum().sum() / prod(df.shape)) * 100, 2), \"%\")\n",
    "        print(\"- Total of full duplicates rows: \", df_rows_duplicates.shape[0])\n",
    "        print(\"- Total of empty rows:           \", df.shape[0] - df.dropna(axis=\"rows\", how=\"all\").shape[0]) if df.dropna(axis=\"rows\", how=\"all\").shape[0] < df.shape[0] else \\\n",
    "                    print(\"- Total of empty rows:            0\")\n",
    "        print(\"- Total of empty columns:        \", len(empty_cols))\n",
    "        print(\"  + The empty column is:         \", empty_cols) if len(empty_cols) == 1 else \\\n",
    "                    print(\"  + The empty column are:         \", empty_cols) if len(empty_cols) >= 1 else None\n",
    "        print(\"- Unique indexes:                \", df.index.is_unique)\n",
    "        \n",
    "        if columns is not None:\n",
    "            print(\"\\n- The key(s):\", columns, \"is not present multiple times in the dataframe.\\n  It CAN be used as a primary key.\") if df.size == df.drop_duplicates(columns).size else \\\n",
    "                print(\"\\n- The key(s):\", columns, \"is present multiple times in the dataframe.\\n  It CANNOT be used as a primary key.\")\n",
    "        \n",
    "        if type_analysis == \"summarized\":\n",
    "            print(\"\\n\")\n",
    "        \n",
    "        if type_analysis is None or type_analysis != \"summarized\":\n",
    "            pd.set_option(\"display.max_rows\", None) # show full of showing rows\n",
    "            pd.set_option(\"display.max_columns\", None) # show full of showing cols\n",
    "            pd.set_option(\"display.max_colwidth\", None) # show full width of showing cols\n",
    "            pd.set_option(\"display.float_format\", lambda x: \"%.5f\" % x) # show full content in cell    \n",
    "            \n",
    "            if type_analysis is None or type_analysis != \"complete\":\n",
    "                print(\"\\n- Type object and records by columns      (\",memory_usage,\")\")\n",
    "                print(\"--------------------------------------------------------------------\")\n",
    "            elif type_analysis == \"complete\":\n",
    "                df_resume[\"unique\"] = list(df.nunique())\n",
    "                df_desc = pd.DataFrame(df.describe().T).reset_index()\n",
    "                df_desc = df_desc.rename(columns={\"index\": \"name\"})\n",
    "                df_resume = df_resume.merge(right=df_desc[[\"name\", \"mean\", \"min\", \"25%\", \"50%\", \"75%\", \"max\", \"std\"]], on=\"name\", how=\"left\")\n",
    "                df_resume = df_resume[ORDERING_COMPLETE]\n",
    "                print(\"\\n- Type object and records by columns      (\",memory_usage,\")\")\n",
    "                print(\"--------------------------------------------------------------------\")\n",
    "                \n",
    "            display(df_resume.sort_values(\"records\", ascending=False))\n",
    "            \n",
    "            pd.reset_option(\"display.max_rows\") # reset max of showing rows\n",
    "            pd.reset_option(\"display.max_columns\") # reset max of showing cols\n",
    "            pd.reset_option(\"display.max_colwidth\") # reset width of showing cols\n",
    "            pd.reset_option(\"display.float_format\") # reset show full content in cell\n",
    "            \n",
    "        # deleting dataframe to free memory\n",
    "        if type_analysis == \"complete\":\n",
    "            del [[df_resume, df_desc]]\n",
    "            gc.collect()\n",
    "            df_resume, df_desc = (pd.DataFrame() for i in range(2))\n",
    "        else:\n",
    "            del df_resume\n",
    "            gc.collect()\n",
    "            df_resume = pd.DataFrame()\n",
    "            \n",
    "            \n",
    "def plot_learning_curve(estimator, name_model, X_train, y_train, cv=None, train_sizes=np.linspace(0.2, 1.0, 10)):\n",
    "    \"\"\"\n",
    "    Generate 3 plots: \n",
    "        1. The test and training learning curve\n",
    "        2. The training samples vs fit times curve\n",
    "        3. The fit times vs score curve\n",
    "    \n",
    "    Parameters\n",
    "    -----------------\n",
    "    estimator : estimator instance\n",
    "        An estimator instance implementing `fit` and `predict` methods which\n",
    "        will be cloned for each validation.\n",
    "        \n",
    "    name_model : str\n",
    "        Name of the model as title for the chart.        \n",
    "        \n",
    "    X_train : array-like of shape (n_samples, n_features)\n",
    "        Training vector, where ``n_samples`` is the number of samples and\n",
    "        ``n_features`` is the number of features.\n",
    "\n",
    "    y_train : array-like of shape (n_samples) or (n_samples, n_features)\n",
    "        Target relative to ``X`` for classification or regression;\n",
    "        None for unsupervised learning.        \n",
    "        \n",
    "    cv : int, cross-validation generator or an iterable, default=None\n",
    "        Determines the cross-validation splitting strategy.\n",
    "        Possible inputs for cv are:\n",
    "\n",
    "          - None, to use the default 5-fold cross-validation,\n",
    "          - integer, to specify the number of folds.\n",
    "          - :term:`CV splitter`,\n",
    "          - An iterable yielding (train, test) splits as arrays of indices.\n",
    "\n",
    "        For integer/None inputs, if ``y`` is binary or multiclass,\n",
    "        :class:`StratifiedKFold` used. If the estimator is not a classifier\n",
    "        or if ``y`` is neither binary nor multiclass, :class:`KFold` is used.\n",
    "\n",
    "        Refer :ref:`User Guide <cross_validation>` for the various\n",
    "        cross-validators that can be used here.\n",
    "\n",
    "    train_sizes : array-like of shape (n_ticks,)\n",
    "        Relative or absolute numbers of training examples that will be used to\n",
    "        generate the learning curve. If the ``dtype`` is float, it is regarded\n",
    "        as a fraction of the maximum size of the training set (that is\n",
    "        determined by the selected validation method), i.e. it has to be within\n",
    "        (0, 1]. Otherwise it is interpreted as absolute sizes of the training\n",
    "        sets. Note that for classification the number of samples usually have\n",
    "        to be big enough to contain at least one sample from each class.\n",
    "        (default: np.linspace(0.1, 1.0, 5) or (0.2, 1.0, 10))\n",
    "        \n",
    "    Returns:\n",
    "    -----------------\n",
    "        None. \n",
    "        Plot the graphs. \n",
    "        \n",
    "    \"\"\"\n",
    "    \n",
    "    # Get the learning_curves results\n",
    "    train_sizes, train_scores, test_scores, fit_times, _ = learning_curve(estimator, X_train, y_train, cv=cv, \\\n",
    "                                                                           train_sizes=train_sizes, n_jobs=-1, return_times=True)\n",
    "    \n",
    "    train_scores_mean = np.mean(train_scores, axis=1)\n",
    "    train_scores_std = np.std(train_scores, axis=1)\n",
    "    test_scores_mean = np.mean(test_scores, axis=1)\n",
    "    test_scores_std = np.std(test_scores, axis=1)\n",
    "    fit_times_mean = np.mean(fit_times, axis=1)\n",
    "    fit_times_std = np.std(fit_times, axis=1)\n",
    "    \n",
    "    # Initializing figure\n",
    "    fig, (ax1, ax2, ax3) = plt.subplots(3, figsize=(8, 18))\n",
    "\n",
    "    # Plot learning curve\n",
    "    plot = sns.lineplot(x=train_sizes, y=train_scores_mean, label=\"Train\", marker=\"o\", ax=ax1)\n",
    "    ax1.fill_between(train_sizes, train_scores_mean - train_scores_std, train_scores_mean + train_scores_std, alpha=0.1, color=\"blue\")\n",
    "\n",
    "    plot = sns.lineplot(x=train_sizes, y=test_scores_mean, label=\"Validation\", marker=\"o\", ax=ax1)\n",
    "    ax1.fill_between(train_sizes, test_scores_mean - test_scores_std, test_scores_mean + test_scores_std, alpha=0.1, color=\"orange\")\n",
    "    \n",
    "    ax1.legend(loc=\"best\")\n",
    "    ax1.set_title(\" Learning curve (\" + name_model + \")\", fontdict={ \"fontsize\": 16, \"fontweight\": \"normal\" })\n",
    "    plot.set(xlabel=\"Training examples\", ylabel=\"R2-score\".translate(SUP))\n",
    "    \n",
    "    # Plot Scalability of the model\n",
    "    plot = sns.lineplot(x=train_sizes, y=fit_times_mean, marker=\"o\", ax=ax2)\n",
    "    ax2.fill_between(train_sizes, fit_times_mean - fit_times_std, fit_times_mean + fit_times_std, alpha=0.1, color=\"blue\")\n",
    "    \n",
    "    ax2.set_title(\"Scalability of the model\", fontdict={ \"fontsize\": 16, \"fontweight\": \"normal\" })\n",
    "    plot.set(xlabel=\"Training examples\", ylabel=\"Fit times\")\n",
    "\n",
    "    # Performance of the model\n",
    "    plot = sns.lineplot(x=fit_times_mean, y=test_scores_mean, marker=\"o\", ax=ax3)\n",
    "    ax3.fill_between(fit_times_mean, test_scores_mean - test_scores_std, test_scores_mean + test_scores_std, alpha=0.1)\n",
    "    \n",
    "    ax3.set_title(\"Performance of the model\", fontdict={ \"fontsize\": 16, \"fontweight\": \"normal\" })\n",
    "    plot.set(xlabel=\"Fit times examples\", ylabel=\"R2-score\".translate(SUP))\n",
    "    \n",
    "    plt.savefig(\"img/\" + name_model + \"-performance-model.png\")\n",
    "    sns.despine(fig)\n",
    "    plt.show()\n",
    "    \n",
    "    \n",
    "def plot_validation_curve(estimator, name_model, X_train, y_train, param_name, param_range, param_name_short, scoring=None, cv=None):\n",
    "    \"\"\"\n",
    "    Generate 1 plots: \n",
    "        1. The test and training validation curve\n",
    "    \n",
    "    Parameters\n",
    "    -----------------\n",
    "    estimator : estimator instance\n",
    "        An estimator instance implementing `fit` and `predict` methods which\n",
    "        will be cloned for each validation.\n",
    "        \n",
    "    name_model : str\n",
    "        Name of the model as title for the chart.     \n",
    "        \n",
    "    X_train : array-like of shape (n_samples, n_features)\n",
    "        Training vector, where ``n_samples`` is the number of samples and\n",
    "        ``n_features`` is the number of features.\n",
    "\n",
    "    y_train : array-like of shape (n_samples) or (n_samples, n_features)\n",
    "        Target relative to ``X`` for classification or regression;\n",
    "        None for unsupervised learning.      \n",
    "        \n",
    "    param_name : str\n",
    "        Name of the parameter that will be varied.\n",
    "    \n",
    "    param_range : array-like of shape (n_values,)\n",
    "        The values of the parameter that will be evaluated.\n",
    "    \n",
    "    param_name_short : str\n",
    "        Short name for param_name\n",
    "        \n",
    "    cv : int, cross-validation generator or an iterable, default=None\n",
    "        Determines the cross-validation splitting strategy.\n",
    "        Possible inputs for cv are:\n",
    "\n",
    "          - None, to use the default 5-fold cross-validation,\n",
    "          - integer, to specify the number of folds.\n",
    "          - :term:`CV splitter`,\n",
    "          - An iterable yielding (train, test) splits as arrays of indices.\n",
    "\n",
    "        For integer/None inputs, if ``y`` is binary or multiclass,\n",
    "        :class:`StratifiedKFold` used. If the estimator is not a classifier\n",
    "        or if ``y`` is neither binary nor multiclass, :class:`KFold` is used.\n",
    "\n",
    "        Refer :ref:`User Guide <cross_validation>` for the various\n",
    "        cross-validators that can be used here.\n",
    "        \n",
    "    Returns:\n",
    "    -----------------\n",
    "        None. \n",
    "        Plot the graph. \n",
    "        \n",
    "    \"\"\"    \n",
    "    # Initializing figure\n",
    "    fig = plt.figure(figsize=(8, 6))\n",
    "    \n",
    "    if name_model in [\"KNeighbors\", \"RandomForestRegressor\"]:\n",
    "        \n",
    "        # Get the validation_curves results\n",
    "        train_scores, test_scores = validation_curve(estimator, X_train, y_train, param_name=param_name, param_range=param_range, cv=kfold)\n",
    "\n",
    "        train_scores_mean = np.mean(train_scores, axis=1)\n",
    "        train_scores_std = np.std(train_scores, axis=1)\n",
    "        test_scores_mean = np.mean(test_scores, axis=1)\n",
    "        test_scores_std = np.std(test_scores, axis=1)\n",
    "\n",
    "        plot = sns.lineplot(x=param_range, y=train_scores_mean, label=\"Train\", marker=\"o\")\n",
    "        plt.fill_between(param_range, train_scores_mean - train_scores_std, train_scores_mean + train_scores_std, alpha=0.1, color=\"blue\")\n",
    "\n",
    "        plot = sns.lineplot(x=param_range, y=test_scores_mean, label=\"Validation\", marker=\"o\")\n",
    "        plt.fill_between(param_range, test_scores_mean - test_scores_std, test_scores_mean + test_scores_std, alpha=0.1, color=\"orange\")\n",
    "\n",
    "        plt.legend(bbox_to_anchor=(1.01, 1), borderaxespad=0)\n",
    "        plt.title(name_model + \" Validation curve\", fontdict={ \"fontsize\": 16, \"fontweight\": \"normal\" })\n",
    "        plot.set(xlabel=param_name_short, ylabel=\"R2-score\".translate(SUP), xlim=[0, 51])\n",
    "        \n",
    "    elif name_model == \"GradientBoostingRegressor\":\n",
    "    \n",
    "       # Get the validation_curves results\n",
    "        train_scores, test_scores = validation_curve(estimator, X_train, y_train, param_name=param_name, param_range=param_range, scoring=scoring, cv=kfold)\n",
    "        \n",
    "        train_errors, test_errors = -train_scores, -test_scores\n",
    "        \n",
    "        plt.errorbar(param_range, train_errors.mean(axis=1), yerr=train_errors.std(axis=1), label=\"Training score\")\n",
    "        plt.errorbar(param_range, test_errors.mean(axis=1), yerr=test_errors.std(axis=1), label=\"Cross-validation score\")\n",
    "\n",
    "        plt.legend()\n",
    "        \n",
    "        # Mean absolute error in k$\\n(smaller is better)\n",
    "        plt.ylabel(\"MAE\")\n",
    "        plt.xlabel(\"Estimators\")\n",
    "        _ = plt.title(name_model + \" Validation curve\", fontdict={ \"fontsize\": 16, \"fontweight\": \"normal\" })\n",
    "        \n",
    "    plt.savefig(\"img/\" + name_model + \"-validation-curve.png\")\n",
    "    sns.despine(fig)\n",
    "    plt.show()\n",
    "\n",
    "\n",
    "def plot_cross_val_predi(estimator, name_model, X_train, y_train, cv=None):\n",
    "    \"\"\"\n",
    "    Generate 1 plots: \n",
    "        1. The validation between real values vs predicted values\n",
    "    \n",
    "    Parameters\n",
    "    -----------------\n",
    "    estimator : estimator instance\n",
    "        An estimator instance implementing `fit` and `predict` methods which\n",
    "        will be cloned for each validation.\n",
    "        \n",
    "    name_model : str\n",
    "        Name of the model as title for the chart.     \n",
    "        \n",
    "    X_train : array-like of shape (n_samples, n_features)\n",
    "        Training vector, where ``n_samples`` is the number of samples and\n",
    "        ``n_features`` is the number of features.\n",
    "\n",
    "    y_train : array-like of shape (n_samples) or (n_samples, n_features)\n",
    "        Target relative to ``X`` for classification or regression;\n",
    "        None for unsupervised learning.      \n",
    "        \n",
    "    cv : int, cross-validation generator or an iterable, default=None\n",
    "        Determines the cross-validation splitting strategy.\n",
    "        Possible inputs for cv are:\n",
    "\n",
    "          - None, to use the default 5-fold cross-validation,\n",
    "          - integer, to specify the number of folds.\n",
    "          - :term:`CV splitter`,\n",
    "          - An iterable yielding (train, test) splits as arrays of indices.\n",
    "\n",
    "        For integer/None inputs, if ``y`` is binary or multiclass,\n",
    "        :class:`StratifiedKFold` used. If the estimator is not a classifier\n",
    "        or if ``y`` is neither binary nor multiclass, :class:`KFold` is used.\n",
    "\n",
    "        Refer :ref:`User Guide <cross_validation>` for the various\n",
    "        cross-validators that can be used here.\n",
    "        \n",
    "    Returns:\n",
    "    -----------------\n",
    "        None. \n",
    "        Plot the graph. \n",
    "        \n",
    "    \"\"\"   \n",
    "    \n",
    "    # Get the predicted values\n",
    "    predicted = cross_val_predict(estimator, X_train, y_train, cv=kfold)\n",
    "    \n",
    "    # Initializing figure\n",
    "    fig, ax = plt.subplots(figsize=(8, 6))\n",
    "    \n",
    "    ax.scatter(y_train, predicted, edgecolors=(0, 0, 0))\n",
    "    ax.plot([y_train.min(), y_train.max()], [y_train.min(), y_train.max()], \"--k\", lw=4)\n",
    "    \n",
    "    ax.text(min(y_train)+0.2, 0.98*max(y_train), r'$R^2$=%.2f, RMSE=%.2f' % (\n",
    "            round(r2_score(y_train, predicted), 3),\n",
    "            round(math.sqrt(mean_squared_error(y_train, predicted)), 3)), \n",
    "            style=\"italic\", fontsize=12,\n",
    "            bbox={\"facecolor\": \"grey\", \"alpha\": 0.4, \"pad\": 5})\n",
    "            \n",
    "    ax.set_title(name_model + \" Cross-Values Predictions\", fontdict={ \"fontsize\": 16, \"fontweight\": \"normal\" })\n",
    "    ax.set_xlabel(\"Real values\")\n",
    "    ax.set_ylabel(\"Predicted values\")\n",
    "    plt.savefig(\"img/\" + name_model + \"-cross-val-predict.png\")\n",
    "    plt.show()\n",
    "    \n",
    "\n",
    "def plot_features_importance(estimator, name_model, X_train, y_train, scoring=None):\n",
    "    \"\"\"\n",
    "    Generate 1 plots: \n",
    "        1. The importance by feature\n",
    "    \n",
    "    Parameters\n",
    "    -----------------\n",
    "    estimator : estimator instance\n",
    "        An estimator instance implementing `fit` and `predict` methods which\n",
    "        will be cloned for each validation.\n",
    "        \n",
    "    name_model : str\n",
    "        Name of the model as title for the chart.     \n",
    "        \n",
    "    X_train : array-like of shape (n_samples, n_features)\n",
    "        Training vector, where ``n_samples`` is the number of samples and\n",
    "        ``n_features`` is the number of features.\n",
    "\n",
    "    y_train : array-like of shape (n_samples) or (n_samples, n_features)\n",
    "        Target relative to ``X`` for classification or regression;\n",
    "        None for unsupervised learning. \n",
    "        \n",
    "    scoring : string, callable or None, default=None\n",
    "        Scorer to use. It can be a single string or a callable. \n",
    "        If None, the estimator’s default scorer is used. \n",
    "        \n",
    "    Returns:\n",
    "    -----------------\n",
    "        None. \n",
    "        Plot the graph. \n",
    "        \n",
    "    \"\"\"     \n",
    "    # Get the importance by feature\n",
    "    results = permutation_importance(reg, X_train, y_train, scoring=\"neg_mean_squared_error\")\n",
    "    \n",
    "    # Making a dataframe to work easily\n",
    "    df_importance = pd.DataFrame({\n",
    "                        \"Feature\" : X_train.columns,\n",
    "                        \"Importance\" : results.importances_mean\n",
    "                    })\n",
    "    \n",
    "    # Sorting by importance before plotting\n",
    "    df_importance = df_importance.sort_values(\"Importance\")\n",
    "    \n",
    "    # Initializing figure    \n",
    "    fig = plt.subplots(figsize=(10, 8))\n",
    "    \n",
    "    plot = sns.barplot(data=df_importance, y=df_importance[\"Feature\"], x=df_importance[\"Importance\"])\n",
    "    \n",
    "    plt.title(name_model + \" Features Importance\", fontdict={ \"fontsize\": 16, \"fontweight\": \"normal\" })\n",
    "    plt.xlabel(\"Importance\")\n",
    "    plt.ylabel(\"Features\")\n",
    "    plt.tight_layout()\n",
    "    plt.savefig(\"img/\" + name_model + \"-feature-importance.png\")\n",
    "    plt.show()"
   ]
  },
  {
   "cell_type": "markdown",
   "id": "4a187b49-944f-4539-aea7-c88f883479f2",
   "metadata": {
    "tags": []
   },
   "source": [
    "<div style=\"background-color: #506AB9;\" >\n",
    "    <h3 style=\"margin: auto; padding: 20px; color:#fff; \">2. Importing files</h3>\n",
    "</div>"
   ]
  },
  {
   "cell_type": "markdown",
   "id": "d5220848-185a-4fb5-9d2d-b03a7ebbfbcc",
   "metadata": {},
   "source": [
    "<div style=\"background-color: #6D83C5;\" >\n",
    "    <h4 style=\"margin: auto; padding: 20px; color:#fff; \">2.1. Importing and preparing files</h4>\n",
    "</div>"
   ]
  },
  {
   "cell_type": "code",
   "execution_count": 3,
   "id": "0d36be08-1cf5-4bd1-b2e3-55026d6bf1a1",
   "metadata": {},
   "outputs": [],
   "source": [
    "data = pd.read_csv(r\"datasets\\df_cleaned_final.csv\")"
   ]
  },
  {
   "cell_type": "code",
   "execution_count": 4,
   "id": "b3037c28-e24a-4c8b-9b7c-f7876d9ba3f9",
   "metadata": {},
   "outputs": [
    {
     "data": {
      "text/html": [
       "<div>\n",
       "<style scoped>\n",
       "    .dataframe tbody tr th:only-of-type {\n",
       "        vertical-align: middle;\n",
       "    }\n",
       "\n",
       "    .dataframe tbody tr th {\n",
       "        vertical-align: top;\n",
       "    }\n",
       "\n",
       "    .dataframe thead th {\n",
       "        text-align: right;\n",
       "    }\n",
       "</style>\n",
       "<table border=\"1\" class=\"dataframe\">\n",
       "  <thead>\n",
       "    <tr style=\"text-align: right;\">\n",
       "      <th></th>\n",
       "      <th>NumberofFloors</th>\n",
       "      <th>NumberofBuildings</th>\n",
       "      <th>BuildingAge</th>\n",
       "      <th>PropertyGFATotal</th>\n",
       "      <th>PropertyGFAParking</th>\n",
       "      <th>PropertyGFABuilding(s)</th>\n",
       "      <th>Neighborhood</th>\n",
       "      <th>renamed_PropertyType</th>\n",
       "      <th>Electricity_ratio</th>\n",
       "      <th>SiteEnergyUse(kBtu)</th>\n",
       "      <th>GHGEmissions(MetricTonsCO2e)</th>\n",
       "    </tr>\n",
       "  </thead>\n",
       "  <tbody>\n",
       "    <tr>\n",
       "      <th>0</th>\n",
       "      <td>12.0</td>\n",
       "      <td>1.0</td>\n",
       "      <td>94.0</td>\n",
       "      <td>88434.0</td>\n",
       "      <td>0.0</td>\n",
       "      <td>88434.0</td>\n",
       "      <td>DOWNTOWN</td>\n",
       "      <td>Hotel</td>\n",
       "      <td>52.79951</td>\n",
       "      <td>6981428.0</td>\n",
       "      <td>249.43</td>\n",
       "    </tr>\n",
       "    <tr>\n",
       "      <th>1</th>\n",
       "      <td>11.0</td>\n",
       "      <td>1.0</td>\n",
       "      <td>25.0</td>\n",
       "      <td>103566.0</td>\n",
       "      <td>15064.0</td>\n",
       "      <td>88502.0</td>\n",
       "      <td>DOWNTOWN</td>\n",
       "      <td>Hotel</td>\n",
       "      <td>46.74768</td>\n",
       "      <td>8354235.0</td>\n",
       "      <td>263.51</td>\n",
       "    </tr>\n",
       "    <tr>\n",
       "      <th>2</th>\n",
       "      <td>10.0</td>\n",
       "      <td>1.0</td>\n",
       "      <td>95.0</td>\n",
       "      <td>61320.0</td>\n",
       "      <td>0.0</td>\n",
       "      <td>61320.0</td>\n",
       "      <td>DOWNTOWN</td>\n",
       "      <td>Hotel</td>\n",
       "      <td>9.80903</td>\n",
       "      <td>28229320.0</td>\n",
       "      <td>1936.34</td>\n",
       "    </tr>\n",
       "    <tr>\n",
       "      <th>3</th>\n",
       "      <td>18.0</td>\n",
       "      <td>1.0</td>\n",
       "      <td>41.0</td>\n",
       "      <td>175580.0</td>\n",
       "      <td>62000.0</td>\n",
       "      <td>113580.0</td>\n",
       "      <td>DOWNTOWN</td>\n",
       "      <td>Hotel</td>\n",
       "      <td>40.90771</td>\n",
       "      <td>14829099.0</td>\n",
       "      <td>507.70</td>\n",
       "    </tr>\n",
       "    <tr>\n",
       "      <th>4</th>\n",
       "      <td>11.0</td>\n",
       "      <td>1.0</td>\n",
       "      <td>95.0</td>\n",
       "      <td>83008.0</td>\n",
       "      <td>0.0</td>\n",
       "      <td>83008.0</td>\n",
       "      <td>DOWNTOWN</td>\n",
       "      <td>Hotel</td>\n",
       "      <td>42.85568</td>\n",
       "      <td>6252842.0</td>\n",
       "      <td>208.46</td>\n",
       "    </tr>\n",
       "  </tbody>\n",
       "</table>\n",
       "</div>"
      ],
      "text/plain": [
       "   NumberofFloors  NumberofBuildings  BuildingAge  PropertyGFATotal  \\\n",
       "0            12.0                1.0         94.0           88434.0   \n",
       "1            11.0                1.0         25.0          103566.0   \n",
       "2            10.0                1.0         95.0           61320.0   \n",
       "3            18.0                1.0         41.0          175580.0   \n",
       "4            11.0                1.0         95.0           83008.0   \n",
       "\n",
       "   PropertyGFAParking  PropertyGFABuilding(s) Neighborhood  \\\n",
       "0                 0.0                 88434.0     DOWNTOWN   \n",
       "1             15064.0                 88502.0     DOWNTOWN   \n",
       "2                 0.0                 61320.0     DOWNTOWN   \n",
       "3             62000.0                113580.0     DOWNTOWN   \n",
       "4                 0.0                 83008.0     DOWNTOWN   \n",
       "\n",
       "  renamed_PropertyType  Electricity_ratio  SiteEnergyUse(kBtu)  \\\n",
       "0                Hotel           52.79951            6981428.0   \n",
       "1                Hotel           46.74768            8354235.0   \n",
       "2                Hotel            9.80903           28229320.0   \n",
       "3                Hotel           40.90771           14829099.0   \n",
       "4                Hotel           42.85568            6252842.0   \n",
       "\n",
       "   GHGEmissions(MetricTonsCO2e)  \n",
       "0                        249.43  \n",
       "1                        263.51  \n",
       "2                       1936.34  \n",
       "3                        507.70  \n",
       "4                        208.46  "
      ]
     },
     "execution_count": 4,
     "metadata": {},
     "output_type": "execute_result"
    }
   ],
   "source": [
    "data.head()"
   ]
  },
  {
   "cell_type": "code",
   "execution_count": 5,
   "id": "98575580-cc9a-45c8-b096-f9b3a83aa953",
   "metadata": {},
   "outputs": [
    {
     "name": "stdout",
     "output_type": "stream",
     "text": [
      "\n",
      "Analysis of data dataset\n",
      "--------------------------------------------------------------------\n",
      "- Dataset shape:                  1551 rows and 11 columns\n",
      "- Total of NaN values:            0\n",
      "- Percentage of NaN:              0.0 %\n",
      "- Total of full duplicates rows:  0\n",
      "- Total of empty rows:            0\n",
      "- Total of empty columns:         0\n",
      "- Unique indexes:                 True\n",
      "\n",
      "- Type object and records by columns      ( memory usage: 133.4+ KB )\n",
      "--------------------------------------------------------------------\n"
     ]
    },
    {
     "data": {
      "text/html": [
       "<div>\n",
       "<style scoped>\n",
       "    .dataframe tbody tr th:only-of-type {\n",
       "        vertical-align: middle;\n",
       "    }\n",
       "\n",
       "    .dataframe tbody tr th {\n",
       "        vertical-align: top;\n",
       "    }\n",
       "\n",
       "    .dataframe thead th {\n",
       "        text-align: right;\n",
       "    }\n",
       "</style>\n",
       "<table border=\"1\" class=\"dataframe\">\n",
       "  <thead>\n",
       "    <tr style=\"text-align: right;\">\n",
       "      <th></th>\n",
       "      <th>name</th>\n",
       "      <th>type</th>\n",
       "      <th>records</th>\n",
       "      <th>unique</th>\n",
       "      <th># NaN</th>\n",
       "      <th>% NaN</th>\n",
       "      <th>mean</th>\n",
       "      <th>min</th>\n",
       "      <th>25%</th>\n",
       "      <th>50%</th>\n",
       "      <th>75%</th>\n",
       "      <th>max</th>\n",
       "      <th>std</th>\n",
       "    </tr>\n",
       "  </thead>\n",
       "  <tbody>\n",
       "    <tr>\n",
       "      <th>0</th>\n",
       "      <td>NumberofFloors</td>\n",
       "      <td>float64</td>\n",
       "      <td>1551</td>\n",
       "      <td>28</td>\n",
       "      <td>0</td>\n",
       "      <td>0.00000</td>\n",
       "      <td>3.36944</td>\n",
       "      <td>1.00000</td>\n",
       "      <td>1.00000</td>\n",
       "      <td>2.00000</td>\n",
       "      <td>4.00000</td>\n",
       "      <td>33.00000</td>\n",
       "      <td>3.64942</td>\n",
       "    </tr>\n",
       "    <tr>\n",
       "      <th>1</th>\n",
       "      <td>NumberofBuildings</td>\n",
       "      <td>float64</td>\n",
       "      <td>1551</td>\n",
       "      <td>4</td>\n",
       "      <td>0</td>\n",
       "      <td>0.00000</td>\n",
       "      <td>1.00516</td>\n",
       "      <td>1.00000</td>\n",
       "      <td>1.00000</td>\n",
       "      <td>1.00000</td>\n",
       "      <td>1.00000</td>\n",
       "      <td>6.00000</td>\n",
       "      <td>0.13903</td>\n",
       "    </tr>\n",
       "    <tr>\n",
       "      <th>2</th>\n",
       "      <td>BuildingAge</td>\n",
       "      <td>float64</td>\n",
       "      <td>1551</td>\n",
       "      <td>113</td>\n",
       "      <td>0</td>\n",
       "      <td>0.00000</td>\n",
       "      <td>59.89297</td>\n",
       "      <td>6.00000</td>\n",
       "      <td>33.00000</td>\n",
       "      <td>57.00000</td>\n",
       "      <td>91.00000</td>\n",
       "      <td>121.00000</td>\n",
       "      <td>32.56694</td>\n",
       "    </tr>\n",
       "    <tr>\n",
       "      <th>3</th>\n",
       "      <td>PropertyGFATotal</td>\n",
       "      <td>float64</td>\n",
       "      <td>1551</td>\n",
       "      <td>1475</td>\n",
       "      <td>0</td>\n",
       "      <td>0.00000</td>\n",
       "      <td>84241.68730</td>\n",
       "      <td>11285.00000</td>\n",
       "      <td>28800.00000</td>\n",
       "      <td>46485.00000</td>\n",
       "      <td>93148.50000</td>\n",
       "      <td>1158691.00000</td>\n",
       "      <td>101723.00044</td>\n",
       "    </tr>\n",
       "    <tr>\n",
       "      <th>4</th>\n",
       "      <td>PropertyGFAParking</td>\n",
       "      <td>float64</td>\n",
       "      <td>1551</td>\n",
       "      <td>280</td>\n",
       "      <td>0</td>\n",
       "      <td>0.00000</td>\n",
       "      <td>8472.80916</td>\n",
       "      <td>0.00000</td>\n",
       "      <td>0.00000</td>\n",
       "      <td>0.00000</td>\n",
       "      <td>0.00000</td>\n",
       "      <td>206597.00000</td>\n",
       "      <td>25823.59232</td>\n",
       "    </tr>\n",
       "    <tr>\n",
       "      <th>5</th>\n",
       "      <td>PropertyGFABuilding(s)</td>\n",
       "      <td>float64</td>\n",
       "      <td>1551</td>\n",
       "      <td>1469</td>\n",
       "      <td>0</td>\n",
       "      <td>0.00000</td>\n",
       "      <td>75768.87814</td>\n",
       "      <td>3636.00000</td>\n",
       "      <td>27710.00000</td>\n",
       "      <td>45000.00000</td>\n",
       "      <td>82543.00000</td>\n",
       "      <td>1158691.00000</td>\n",
       "      <td>90312.92302</td>\n",
       "    </tr>\n",
       "    <tr>\n",
       "      <th>6</th>\n",
       "      <td>Neighborhood</td>\n",
       "      <td>object</td>\n",
       "      <td>1551</td>\n",
       "      <td>13</td>\n",
       "      <td>0</td>\n",
       "      <td>0.00000</td>\n",
       "      <td>NaN</td>\n",
       "      <td>NaN</td>\n",
       "      <td>NaN</td>\n",
       "      <td>NaN</td>\n",
       "      <td>NaN</td>\n",
       "      <td>NaN</td>\n",
       "      <td>NaN</td>\n",
       "    </tr>\n",
       "    <tr>\n",
       "      <th>7</th>\n",
       "      <td>renamed_PropertyType</td>\n",
       "      <td>object</td>\n",
       "      <td>1551</td>\n",
       "      <td>8</td>\n",
       "      <td>0</td>\n",
       "      <td>0.00000</td>\n",
       "      <td>NaN</td>\n",
       "      <td>NaN</td>\n",
       "      <td>NaN</td>\n",
       "      <td>NaN</td>\n",
       "      <td>NaN</td>\n",
       "      <td>NaN</td>\n",
       "      <td>NaN</td>\n",
       "    </tr>\n",
       "    <tr>\n",
       "      <th>8</th>\n",
       "      <td>Electricity_ratio</td>\n",
       "      <td>float64</td>\n",
       "      <td>1551</td>\n",
       "      <td>1209</td>\n",
       "      <td>0</td>\n",
       "      <td>0.00000</td>\n",
       "      <td>70.57165</td>\n",
       "      <td>0.00033</td>\n",
       "      <td>50.30382</td>\n",
       "      <td>71.44200</td>\n",
       "      <td>100.00101</td>\n",
       "      <td>100.00874</td>\n",
       "      <td>25.87075</td>\n",
       "    </tr>\n",
       "    <tr>\n",
       "      <th>9</th>\n",
       "      <td>SiteEnergyUse(kBtu)</td>\n",
       "      <td>float64</td>\n",
       "      <td>1551</td>\n",
       "      <td>1550</td>\n",
       "      <td>0</td>\n",
       "      <td>0.00000</td>\n",
       "      <td>5777559.01140</td>\n",
       "      <td>11441.00000</td>\n",
       "      <td>1182991.50000</td>\n",
       "      <td>2316441.00000</td>\n",
       "      <td>6157736.50000</td>\n",
       "      <td>295812640.00000</td>\n",
       "      <td>13228100.09894</td>\n",
       "    </tr>\n",
       "    <tr>\n",
       "      <th>10</th>\n",
       "      <td>GHGEmissions(MetricTonsCO2e)</td>\n",
       "      <td>float64</td>\n",
       "      <td>1551</td>\n",
       "      <td>1481</td>\n",
       "      <td>0</td>\n",
       "      <td>0.00000</td>\n",
       "      <td>127.80329</td>\n",
       "      <td>0.08000</td>\n",
       "      <td>18.86500</td>\n",
       "      <td>45.90000</td>\n",
       "      <td>120.12000</td>\n",
       "      <td>10780.64000</td>\n",
       "      <td>423.95305</td>\n",
       "    </tr>\n",
       "  </tbody>\n",
       "</table>\n",
       "</div>"
      ],
      "text/plain": [
       "                            name     type  records  unique  # NaN   % NaN  \\\n",
       "0                 NumberofFloors  float64     1551      28      0 0.00000   \n",
       "1              NumberofBuildings  float64     1551       4      0 0.00000   \n",
       "2                    BuildingAge  float64     1551     113      0 0.00000   \n",
       "3               PropertyGFATotal  float64     1551    1475      0 0.00000   \n",
       "4             PropertyGFAParking  float64     1551     280      0 0.00000   \n",
       "5         PropertyGFABuilding(s)  float64     1551    1469      0 0.00000   \n",
       "6                   Neighborhood   object     1551      13      0 0.00000   \n",
       "7           renamed_PropertyType   object     1551       8      0 0.00000   \n",
       "8              Electricity_ratio  float64     1551    1209      0 0.00000   \n",
       "9            SiteEnergyUse(kBtu)  float64     1551    1550      0 0.00000   \n",
       "10  GHGEmissions(MetricTonsCO2e)  float64     1551    1481      0 0.00000   \n",
       "\n",
       "            mean         min           25%           50%           75%  \\\n",
       "0        3.36944     1.00000       1.00000       2.00000       4.00000   \n",
       "1        1.00516     1.00000       1.00000       1.00000       1.00000   \n",
       "2       59.89297     6.00000      33.00000      57.00000      91.00000   \n",
       "3    84241.68730 11285.00000   28800.00000   46485.00000   93148.50000   \n",
       "4     8472.80916     0.00000       0.00000       0.00000       0.00000   \n",
       "5    75768.87814  3636.00000   27710.00000   45000.00000   82543.00000   \n",
       "6            NaN         NaN           NaN           NaN           NaN   \n",
       "7            NaN         NaN           NaN           NaN           NaN   \n",
       "8       70.57165     0.00033      50.30382      71.44200     100.00101   \n",
       "9  5777559.01140 11441.00000 1182991.50000 2316441.00000 6157736.50000   \n",
       "10     127.80329     0.08000      18.86500      45.90000     120.12000   \n",
       "\n",
       "               max            std  \n",
       "0         33.00000        3.64942  \n",
       "1          6.00000        0.13903  \n",
       "2        121.00000       32.56694  \n",
       "3    1158691.00000   101723.00044  \n",
       "4     206597.00000    25823.59232  \n",
       "5    1158691.00000    90312.92302  \n",
       "6              NaN            NaN  \n",
       "7              NaN            NaN  \n",
       "8        100.00874       25.87075  \n",
       "9  295812640.00000 13228100.09894  \n",
       "10     10780.64000      423.95305  "
      ]
     },
     "metadata": {},
     "output_type": "display_data"
    }
   ],
   "source": [
    "df_analysis(data, \"data\", type_analysis=\"complete\")"
   ]
  },
  {
   "cell_type": "markdown",
   "id": "10b8d6da-0849-4f8f-8722-d0898e7b623e",
   "metadata": {
    "tags": []
   },
   "source": [
    "<div style=\"background-color: #506AB9;\" >\n",
    "    <h3 style=\"margin: auto; padding: 20px; color:#fff; \">3. Splitting data (SiteEnergyUse(kBtu)</h3>\n",
    "</div>"
   ]
  },
  {
   "cell_type": "markdown",
   "id": "1b6a99ac-41c2-4778-8b9b-99779277935f",
   "metadata": {},
   "source": [
    "<div style=\"background-color: #6D83C5;\" >\n",
    "    <h4 style=\"margin: auto; padding: 20px; color:#fff; \">3.1. Splitting dataset based on the features and targets</h4>\n",
    "</div>"
   ]
  },
  {
   "cell_type": "code",
   "execution_count": 6,
   "id": "e351dddb-bf8c-4128-985e-702d4d05394a",
   "metadata": {},
   "outputs": [
    {
     "data": {
      "text/html": [
       "<div>\n",
       "<style scoped>\n",
       "    .dataframe tbody tr th:only-of-type {\n",
       "        vertical-align: middle;\n",
       "    }\n",
       "\n",
       "    .dataframe tbody tr th {\n",
       "        vertical-align: top;\n",
       "    }\n",
       "\n",
       "    .dataframe thead th {\n",
       "        text-align: right;\n",
       "    }\n",
       "</style>\n",
       "<table border=\"1\" class=\"dataframe\">\n",
       "  <thead>\n",
       "    <tr style=\"text-align: right;\">\n",
       "      <th></th>\n",
       "      <th>NumberofFloors</th>\n",
       "      <th>NumberofBuildings</th>\n",
       "      <th>BuildingAge</th>\n",
       "      <th>PropertyGFATotal</th>\n",
       "      <th>PropertyGFAParking</th>\n",
       "      <th>PropertyGFABuilding(s)</th>\n",
       "      <th>Neighborhood</th>\n",
       "      <th>renamed_PropertyType</th>\n",
       "      <th>Electricity_ratio</th>\n",
       "      <th>SiteEnergyUse(kBtu)</th>\n",
       "      <th>GHGEmissions(MetricTonsCO2e)</th>\n",
       "    </tr>\n",
       "  </thead>\n",
       "  <tbody>\n",
       "    <tr>\n",
       "      <th>0</th>\n",
       "      <td>12.0</td>\n",
       "      <td>1.0</td>\n",
       "      <td>94.0</td>\n",
       "      <td>88434.0</td>\n",
       "      <td>0.0</td>\n",
       "      <td>88434.0</td>\n",
       "      <td>DOWNTOWN</td>\n",
       "      <td>Hotel</td>\n",
       "      <td>52.79951</td>\n",
       "      <td>6981428.0</td>\n",
       "      <td>249.43</td>\n",
       "    </tr>\n",
       "    <tr>\n",
       "      <th>1</th>\n",
       "      <td>11.0</td>\n",
       "      <td>1.0</td>\n",
       "      <td>25.0</td>\n",
       "      <td>103566.0</td>\n",
       "      <td>15064.0</td>\n",
       "      <td>88502.0</td>\n",
       "      <td>DOWNTOWN</td>\n",
       "      <td>Hotel</td>\n",
       "      <td>46.74768</td>\n",
       "      <td>8354235.0</td>\n",
       "      <td>263.51</td>\n",
       "    </tr>\n",
       "    <tr>\n",
       "      <th>2</th>\n",
       "      <td>10.0</td>\n",
       "      <td>1.0</td>\n",
       "      <td>95.0</td>\n",
       "      <td>61320.0</td>\n",
       "      <td>0.0</td>\n",
       "      <td>61320.0</td>\n",
       "      <td>DOWNTOWN</td>\n",
       "      <td>Hotel</td>\n",
       "      <td>9.80903</td>\n",
       "      <td>28229320.0</td>\n",
       "      <td>1936.34</td>\n",
       "    </tr>\n",
       "    <tr>\n",
       "      <th>3</th>\n",
       "      <td>18.0</td>\n",
       "      <td>1.0</td>\n",
       "      <td>41.0</td>\n",
       "      <td>175580.0</td>\n",
       "      <td>62000.0</td>\n",
       "      <td>113580.0</td>\n",
       "      <td>DOWNTOWN</td>\n",
       "      <td>Hotel</td>\n",
       "      <td>40.90771</td>\n",
       "      <td>14829099.0</td>\n",
       "      <td>507.70</td>\n",
       "    </tr>\n",
       "    <tr>\n",
       "      <th>4</th>\n",
       "      <td>11.0</td>\n",
       "      <td>1.0</td>\n",
       "      <td>95.0</td>\n",
       "      <td>83008.0</td>\n",
       "      <td>0.0</td>\n",
       "      <td>83008.0</td>\n",
       "      <td>DOWNTOWN</td>\n",
       "      <td>Hotel</td>\n",
       "      <td>42.85568</td>\n",
       "      <td>6252842.0</td>\n",
       "      <td>208.46</td>\n",
       "    </tr>\n",
       "  </tbody>\n",
       "</table>\n",
       "</div>"
      ],
      "text/plain": [
       "   NumberofFloors  NumberofBuildings  BuildingAge  PropertyGFATotal  \\\n",
       "0            12.0                1.0         94.0           88434.0   \n",
       "1            11.0                1.0         25.0          103566.0   \n",
       "2            10.0                1.0         95.0           61320.0   \n",
       "3            18.0                1.0         41.0          175580.0   \n",
       "4            11.0                1.0         95.0           83008.0   \n",
       "\n",
       "   PropertyGFAParking  PropertyGFABuilding(s) Neighborhood  \\\n",
       "0                 0.0                 88434.0     DOWNTOWN   \n",
       "1             15064.0                 88502.0     DOWNTOWN   \n",
       "2                 0.0                 61320.0     DOWNTOWN   \n",
       "3             62000.0                113580.0     DOWNTOWN   \n",
       "4                 0.0                 83008.0     DOWNTOWN   \n",
       "\n",
       "  renamed_PropertyType  Electricity_ratio  SiteEnergyUse(kBtu)  \\\n",
       "0                Hotel           52.79951            6981428.0   \n",
       "1                Hotel           46.74768            8354235.0   \n",
       "2                Hotel            9.80903           28229320.0   \n",
       "3                Hotel           40.90771           14829099.0   \n",
       "4                Hotel           42.85568            6252842.0   \n",
       "\n",
       "   GHGEmissions(MetricTonsCO2e)  \n",
       "0                        249.43  \n",
       "1                        263.51  \n",
       "2                       1936.34  \n",
       "3                        507.70  \n",
       "4                        208.46  "
      ]
     },
     "execution_count": 6,
     "metadata": {},
     "output_type": "execute_result"
    }
   ],
   "source": [
    "data.head()"
   ]
  },
  {
   "cell_type": "markdown",
   "id": "b7c00731-17d8-4d02-8519-2dc468c86feb",
   "metadata": {},
   "source": [
    "<div class=\"alert alert-block alert-info\">\n",
    "    Working with a copy\n",
    "</div>"
   ]
  },
  {
   "cell_type": "code",
   "execution_count": 7,
   "id": "14fc5986-9793-496e-abdd-9f35c6bf7b6d",
   "metadata": {},
   "outputs": [],
   "source": [
    "data_trans = data.copy()"
   ]
  },
  {
   "cell_type": "code",
   "execution_count": 8,
   "id": "00b98811-cb08-4e70-ac00-d65ea957ec8c",
   "metadata": {},
   "outputs": [
    {
     "data": {
      "text/html": [
       "<div>\n",
       "<style scoped>\n",
       "    .dataframe tbody tr th:only-of-type {\n",
       "        vertical-align: middle;\n",
       "    }\n",
       "\n",
       "    .dataframe tbody tr th {\n",
       "        vertical-align: top;\n",
       "    }\n",
       "\n",
       "    .dataframe thead th {\n",
       "        text-align: right;\n",
       "    }\n",
       "</style>\n",
       "<table border=\"1\" class=\"dataframe\">\n",
       "  <thead>\n",
       "    <tr style=\"text-align: right;\">\n",
       "      <th></th>\n",
       "      <th>NumberofFloors</th>\n",
       "      <th>NumberofBuildings</th>\n",
       "      <th>BuildingAge</th>\n",
       "      <th>PropertyGFATotal</th>\n",
       "      <th>PropertyGFAParking</th>\n",
       "      <th>PropertyGFABuilding(s)</th>\n",
       "      <th>Neighborhood</th>\n",
       "      <th>renamed_PropertyType</th>\n",
       "      <th>Electricity_ratio</th>\n",
       "      <th>SiteEnergyUse(kBtu)</th>\n",
       "      <th>GHGEmissions(MetricTonsCO2e)</th>\n",
       "    </tr>\n",
       "  </thead>\n",
       "  <tbody>\n",
       "    <tr>\n",
       "      <th>0</th>\n",
       "      <td>12.0</td>\n",
       "      <td>1.0</td>\n",
       "      <td>94.0</td>\n",
       "      <td>88434.0</td>\n",
       "      <td>0.0</td>\n",
       "      <td>88434.0</td>\n",
       "      <td>DOWNTOWN</td>\n",
       "      <td>Hotel</td>\n",
       "      <td>52.79951</td>\n",
       "      <td>6981428.0</td>\n",
       "      <td>249.43</td>\n",
       "    </tr>\n",
       "    <tr>\n",
       "      <th>1</th>\n",
       "      <td>11.0</td>\n",
       "      <td>1.0</td>\n",
       "      <td>25.0</td>\n",
       "      <td>103566.0</td>\n",
       "      <td>15064.0</td>\n",
       "      <td>88502.0</td>\n",
       "      <td>DOWNTOWN</td>\n",
       "      <td>Hotel</td>\n",
       "      <td>46.74768</td>\n",
       "      <td>8354235.0</td>\n",
       "      <td>263.51</td>\n",
       "    </tr>\n",
       "    <tr>\n",
       "      <th>2</th>\n",
       "      <td>10.0</td>\n",
       "      <td>1.0</td>\n",
       "      <td>95.0</td>\n",
       "      <td>61320.0</td>\n",
       "      <td>0.0</td>\n",
       "      <td>61320.0</td>\n",
       "      <td>DOWNTOWN</td>\n",
       "      <td>Hotel</td>\n",
       "      <td>9.80903</td>\n",
       "      <td>28229320.0</td>\n",
       "      <td>1936.34</td>\n",
       "    </tr>\n",
       "    <tr>\n",
       "      <th>3</th>\n",
       "      <td>18.0</td>\n",
       "      <td>1.0</td>\n",
       "      <td>41.0</td>\n",
       "      <td>175580.0</td>\n",
       "      <td>62000.0</td>\n",
       "      <td>113580.0</td>\n",
       "      <td>DOWNTOWN</td>\n",
       "      <td>Hotel</td>\n",
       "      <td>40.90771</td>\n",
       "      <td>14829099.0</td>\n",
       "      <td>507.70</td>\n",
       "    </tr>\n",
       "    <tr>\n",
       "      <th>4</th>\n",
       "      <td>11.0</td>\n",
       "      <td>1.0</td>\n",
       "      <td>95.0</td>\n",
       "      <td>83008.0</td>\n",
       "      <td>0.0</td>\n",
       "      <td>83008.0</td>\n",
       "      <td>DOWNTOWN</td>\n",
       "      <td>Hotel</td>\n",
       "      <td>42.85568</td>\n",
       "      <td>6252842.0</td>\n",
       "      <td>208.46</td>\n",
       "    </tr>\n",
       "  </tbody>\n",
       "</table>\n",
       "</div>"
      ],
      "text/plain": [
       "   NumberofFloors  NumberofBuildings  BuildingAge  PropertyGFATotal  \\\n",
       "0            12.0                1.0         94.0           88434.0   \n",
       "1            11.0                1.0         25.0          103566.0   \n",
       "2            10.0                1.0         95.0           61320.0   \n",
       "3            18.0                1.0         41.0          175580.0   \n",
       "4            11.0                1.0         95.0           83008.0   \n",
       "\n",
       "   PropertyGFAParking  PropertyGFABuilding(s) Neighborhood  \\\n",
       "0                 0.0                 88434.0     DOWNTOWN   \n",
       "1             15064.0                 88502.0     DOWNTOWN   \n",
       "2                 0.0                 61320.0     DOWNTOWN   \n",
       "3             62000.0                113580.0     DOWNTOWN   \n",
       "4                 0.0                 83008.0     DOWNTOWN   \n",
       "\n",
       "  renamed_PropertyType  Electricity_ratio  SiteEnergyUse(kBtu)  \\\n",
       "0                Hotel           52.79951            6981428.0   \n",
       "1                Hotel           46.74768            8354235.0   \n",
       "2                Hotel            9.80903           28229320.0   \n",
       "3                Hotel           40.90771           14829099.0   \n",
       "4                Hotel           42.85568            6252842.0   \n",
       "\n",
       "   GHGEmissions(MetricTonsCO2e)  \n",
       "0                        249.43  \n",
       "1                        263.51  \n",
       "2                       1936.34  \n",
       "3                        507.70  \n",
       "4                        208.46  "
      ]
     },
     "execution_count": 8,
     "metadata": {},
     "output_type": "execute_result"
    }
   ],
   "source": [
    "data_trans.head()"
   ]
  },
  {
   "cell_type": "markdown",
   "id": "a8fd477b-806c-4c40-b17f-5ebf64502d94",
   "metadata": {},
   "source": [
    "<div class=\"alert alert-block alert-info\">\n",
    "    Making log transformation on specific columns based on the analysis conclusions done\n",
    "</div>"
   ]
  },
  {
   "cell_type": "code",
   "execution_count": 9,
   "id": "dca1933a-dc12-423f-bdea-47bb3786ca2c",
   "metadata": {},
   "outputs": [],
   "source": [
    "LOG_TRANS_FEATURES = [\"PropertyGFABuilding(s)\", \"PropertyGFATotal\", \"SiteEnergyUse(kBtu)\", \"GHGEmissions(MetricTonsCO2e)\"]"
   ]
  },
  {
   "cell_type": "code",
   "execution_count": 10,
   "id": "1527e16d-82f8-4bfb-b575-eae4b6c9acc9",
   "metadata": {},
   "outputs": [],
   "source": [
    "for col in LOG_TRANS_FEATURES:\n",
    "    data_trans[col] = np.log2(data_trans[col])"
   ]
  },
  {
   "cell_type": "code",
   "execution_count": 11,
   "id": "df703e56-68aa-41d7-848e-03abe5620329",
   "metadata": {},
   "outputs": [
    {
     "data": {
      "text/html": [
       "<div>\n",
       "<style scoped>\n",
       "    .dataframe tbody tr th:only-of-type {\n",
       "        vertical-align: middle;\n",
       "    }\n",
       "\n",
       "    .dataframe tbody tr th {\n",
       "        vertical-align: top;\n",
       "    }\n",
       "\n",
       "    .dataframe thead th {\n",
       "        text-align: right;\n",
       "    }\n",
       "</style>\n",
       "<table border=\"1\" class=\"dataframe\">\n",
       "  <thead>\n",
       "    <tr style=\"text-align: right;\">\n",
       "      <th></th>\n",
       "      <th>NumberofFloors</th>\n",
       "      <th>NumberofBuildings</th>\n",
       "      <th>BuildingAge</th>\n",
       "      <th>PropertyGFATotal</th>\n",
       "      <th>PropertyGFAParking</th>\n",
       "      <th>PropertyGFABuilding(s)</th>\n",
       "      <th>Neighborhood</th>\n",
       "      <th>renamed_PropertyType</th>\n",
       "      <th>Electricity_ratio</th>\n",
       "      <th>SiteEnergyUse(kBtu)</th>\n",
       "      <th>GHGEmissions(MetricTonsCO2e)</th>\n",
       "    </tr>\n",
       "  </thead>\n",
       "  <tbody>\n",
       "    <tr>\n",
       "      <th>0</th>\n",
       "      <td>12.0</td>\n",
       "      <td>1.0</td>\n",
       "      <td>94.0</td>\n",
       "      <td>16.432314</td>\n",
       "      <td>0.0</td>\n",
       "      <td>16.432314</td>\n",
       "      <td>DOWNTOWN</td>\n",
       "      <td>Hotel</td>\n",
       "      <td>52.79951</td>\n",
       "      <td>22.735091</td>\n",
       "      <td>7.962491</td>\n",
       "    </tr>\n",
       "    <tr>\n",
       "      <th>1</th>\n",
       "      <td>11.0</td>\n",
       "      <td>1.0</td>\n",
       "      <td>25.0</td>\n",
       "      <td>16.660191</td>\n",
       "      <td>15064.0</td>\n",
       "      <td>16.433422</td>\n",
       "      <td>DOWNTOWN</td>\n",
       "      <td>Hotel</td>\n",
       "      <td>46.74768</td>\n",
       "      <td>22.994076</td>\n",
       "      <td>8.041714</td>\n",
       "    </tr>\n",
       "    <tr>\n",
       "      <th>2</th>\n",
       "      <td>10.0</td>\n",
       "      <td>1.0</td>\n",
       "      <td>95.0</td>\n",
       "      <td>15.904070</td>\n",
       "      <td>0.0</td>\n",
       "      <td>15.904070</td>\n",
       "      <td>DOWNTOWN</td>\n",
       "      <td>Hotel</td>\n",
       "      <td>9.80903</td>\n",
       "      <td>24.750691</td>\n",
       "      <td>10.919117</td>\n",
       "    </tr>\n",
       "    <tr>\n",
       "      <th>3</th>\n",
       "      <td>18.0</td>\n",
       "      <td>1.0</td>\n",
       "      <td>41.0</td>\n",
       "      <td>17.421769</td>\n",
       "      <td>62000.0</td>\n",
       "      <td>16.793349</td>\n",
       "      <td>DOWNTOWN</td>\n",
       "      <td>Hotel</td>\n",
       "      <td>40.90771</td>\n",
       "      <td>23.821928</td>\n",
       "      <td>8.987832</td>\n",
       "    </tr>\n",
       "    <tr>\n",
       "      <th>4</th>\n",
       "      <td>11.0</td>\n",
       "      <td>1.0</td>\n",
       "      <td>95.0</td>\n",
       "      <td>16.340963</td>\n",
       "      <td>0.0</td>\n",
       "      <td>16.340963</td>\n",
       "      <td>DOWNTOWN</td>\n",
       "      <td>Hotel</td>\n",
       "      <td>42.85568</td>\n",
       "      <td>22.576081</td>\n",
       "      <td>7.703627</td>\n",
       "    </tr>\n",
       "  </tbody>\n",
       "</table>\n",
       "</div>"
      ],
      "text/plain": [
       "   NumberofFloors  NumberofBuildings  BuildingAge  PropertyGFATotal  \\\n",
       "0            12.0                1.0         94.0         16.432314   \n",
       "1            11.0                1.0         25.0         16.660191   \n",
       "2            10.0                1.0         95.0         15.904070   \n",
       "3            18.0                1.0         41.0         17.421769   \n",
       "4            11.0                1.0         95.0         16.340963   \n",
       "\n",
       "   PropertyGFAParking  PropertyGFABuilding(s) Neighborhood  \\\n",
       "0                 0.0               16.432314     DOWNTOWN   \n",
       "1             15064.0               16.433422     DOWNTOWN   \n",
       "2                 0.0               15.904070     DOWNTOWN   \n",
       "3             62000.0               16.793349     DOWNTOWN   \n",
       "4                 0.0               16.340963     DOWNTOWN   \n",
       "\n",
       "  renamed_PropertyType  Electricity_ratio  SiteEnergyUse(kBtu)  \\\n",
       "0                Hotel           52.79951            22.735091   \n",
       "1                Hotel           46.74768            22.994076   \n",
       "2                Hotel            9.80903            24.750691   \n",
       "3                Hotel           40.90771            23.821928   \n",
       "4                Hotel           42.85568            22.576081   \n",
       "\n",
       "   GHGEmissions(MetricTonsCO2e)  \n",
       "0                      7.962491  \n",
       "1                      8.041714  \n",
       "2                     10.919117  \n",
       "3                      8.987832  \n",
       "4                      7.703627  "
      ]
     },
     "execution_count": 11,
     "metadata": {},
     "output_type": "execute_result"
    }
   ],
   "source": [
    "data_trans.head()"
   ]
  },
  {
   "cell_type": "markdown",
   "id": "dd128828-489d-4fb4-a563-bbe760b21034",
   "metadata": {},
   "source": [
    "<div class=\"alert alert-block alert-info\">\n",
    "    Splitting dataset based on the features and targets\n",
    "</div>"
   ]
  },
  {
   "cell_type": "code",
   "execution_count": 12,
   "id": "c18e6dec-5602-4703-af96-444c2f651fed",
   "metadata": {},
   "outputs": [],
   "source": [
    "X = data_trans.drop(columns=[\"SiteEnergyUse(kBtu)\", \"GHGEmissions(MetricTonsCO2e)\"])"
   ]
  },
  {
   "cell_type": "code",
   "execution_count": 13,
   "id": "f72e0eb6-95af-4925-809b-48d2bc3b7d34",
   "metadata": {},
   "outputs": [],
   "source": [
    "y_energy = data_trans.iloc[:,-2]"
   ]
  },
  {
   "cell_type": "markdown",
   "id": "051a5a77-6752-4187-a81e-facfefe6608d",
   "metadata": {},
   "source": [
    "<div style=\"background-color: #6D83C5;\" >\n",
    "    <h4 style=\"margin: auto; padding: 20px; color:#fff; \">3.2. Train/Test split</h4>\n",
    "</div>"
   ]
  },
  {
   "cell_type": "markdown",
   "id": "4dfbaf08-c144-4988-9cd3-3b7c89e98e9b",
   "metadata": {},
   "source": [
    "<div class=\"alert alert-block alert-info\">\n",
    "    At this point, we are going to predict <b>SiteEnergyUse(kBtu)</b>\n",
    "</div>"
   ]
  },
  {
   "cell_type": "code",
   "execution_count": 14,
   "id": "40737922-f686-44c8-81f2-67292f11b906",
   "metadata": {},
   "outputs": [],
   "source": [
    "X_train, X_test, y_train, y_test = train_test_split(X, y_energy, test_size=0.3, random_state=0)"
   ]
  },
  {
   "cell_type": "code",
   "execution_count": 15,
   "id": "1ec5c9b5-2fe7-436d-8cd4-29578467bd12",
   "metadata": {},
   "outputs": [
    {
     "name": "stdout",
     "output_type": "stream",
     "text": [
      "X_train: (1085, 9)\n",
      "y_train: (1085,)\n"
     ]
    }
   ],
   "source": [
    "print(\"X_train: {}\".format(X_train.shape))\n",
    "print(\"y_train: {}\".format(y_train.shape))"
   ]
  },
  {
   "cell_type": "code",
   "execution_count": 16,
   "id": "24f50a50-6f6e-4f5b-a8a9-f47a85819a52",
   "metadata": {},
   "outputs": [
    {
     "data": {
      "text/html": [
       "<div>\n",
       "<style scoped>\n",
       "    .dataframe tbody tr th:only-of-type {\n",
       "        vertical-align: middle;\n",
       "    }\n",
       "\n",
       "    .dataframe tbody tr th {\n",
       "        vertical-align: top;\n",
       "    }\n",
       "\n",
       "    .dataframe thead th {\n",
       "        text-align: right;\n",
       "    }\n",
       "</style>\n",
       "<table border=\"1\" class=\"dataframe\">\n",
       "  <thead>\n",
       "    <tr style=\"text-align: right;\">\n",
       "      <th></th>\n",
       "      <th>NumberofFloors</th>\n",
       "      <th>NumberofBuildings</th>\n",
       "      <th>BuildingAge</th>\n",
       "      <th>PropertyGFATotal</th>\n",
       "      <th>PropertyGFAParking</th>\n",
       "      <th>PropertyGFABuilding(s)</th>\n",
       "      <th>Neighborhood</th>\n",
       "      <th>renamed_PropertyType</th>\n",
       "      <th>Electricity_ratio</th>\n",
       "    </tr>\n",
       "  </thead>\n",
       "  <tbody>\n",
       "    <tr>\n",
       "      <th>649</th>\n",
       "      <td>3.0</td>\n",
       "      <td>1.0</td>\n",
       "      <td>6.0</td>\n",
       "      <td>15.457637</td>\n",
       "      <td>0.0</td>\n",
       "      <td>15.457637</td>\n",
       "      <td>GREATER DUWAMISH</td>\n",
       "      <td>Education</td>\n",
       "      <td>100.00002</td>\n",
       "    </tr>\n",
       "    <tr>\n",
       "      <th>1300</th>\n",
       "      <td>1.0</td>\n",
       "      <td>1.0</td>\n",
       "      <td>76.0</td>\n",
       "      <td>14.487589</td>\n",
       "      <td>0.0</td>\n",
       "      <td>14.487589</td>\n",
       "      <td>GREATER DUWAMISH</td>\n",
       "      <td>Warehouse</td>\n",
       "      <td>100.00400</td>\n",
       "    </tr>\n",
       "    <tr>\n",
       "      <th>1392</th>\n",
       "      <td>1.0</td>\n",
       "      <td>1.0</td>\n",
       "      <td>71.0</td>\n",
       "      <td>14.339015</td>\n",
       "      <td>0.0</td>\n",
       "      <td>14.339015</td>\n",
       "      <td>GREATER DUWAMISH</td>\n",
       "      <td>Warehouse</td>\n",
       "      <td>16.56582</td>\n",
       "    </tr>\n",
       "    <tr>\n",
       "      <th>1214</th>\n",
       "      <td>1.0</td>\n",
       "      <td>1.0</td>\n",
       "      <td>52.0</td>\n",
       "      <td>15.188859</td>\n",
       "      <td>0.0</td>\n",
       "      <td>15.188859</td>\n",
       "      <td>GREATER DUWAMISH</td>\n",
       "      <td>Warehouse</td>\n",
       "      <td>53.42718</td>\n",
       "    </tr>\n",
       "    <tr>\n",
       "      <th>1239</th>\n",
       "      <td>1.0</td>\n",
       "      <td>1.0</td>\n",
       "      <td>49.0</td>\n",
       "      <td>15.554109</td>\n",
       "      <td>0.0</td>\n",
       "      <td>15.554109</td>\n",
       "      <td>NORTHWEST</td>\n",
       "      <td>Warehouse</td>\n",
       "      <td>100.00417</td>\n",
       "    </tr>\n",
       "  </tbody>\n",
       "</table>\n",
       "</div>"
      ],
      "text/plain": [
       "      NumberofFloors  NumberofBuildings  BuildingAge  PropertyGFATotal  \\\n",
       "649              3.0                1.0          6.0         15.457637   \n",
       "1300             1.0                1.0         76.0         14.487589   \n",
       "1392             1.0                1.0         71.0         14.339015   \n",
       "1214             1.0                1.0         52.0         15.188859   \n",
       "1239             1.0                1.0         49.0         15.554109   \n",
       "\n",
       "      PropertyGFAParking  PropertyGFABuilding(s)      Neighborhood  \\\n",
       "649                  0.0               15.457637  GREATER DUWAMISH   \n",
       "1300                 0.0               14.487589  GREATER DUWAMISH   \n",
       "1392                 0.0               14.339015  GREATER DUWAMISH   \n",
       "1214                 0.0               15.188859  GREATER DUWAMISH   \n",
       "1239                 0.0               15.554109         NORTHWEST   \n",
       "\n",
       "     renamed_PropertyType  Electricity_ratio  \n",
       "649             Education          100.00002  \n",
       "1300            Warehouse          100.00400  \n",
       "1392            Warehouse           16.56582  \n",
       "1214            Warehouse           53.42718  \n",
       "1239            Warehouse          100.00417  "
      ]
     },
     "execution_count": 16,
     "metadata": {},
     "output_type": "execute_result"
    }
   ],
   "source": [
    "X_train.head()"
   ]
  },
  {
   "cell_type": "markdown",
   "id": "528a69e3-35b9-488d-94ce-0b4d051529a8",
   "metadata": {},
   "source": [
    "<div style=\"background-color: #6D83C5;\" >\n",
    "    <h4 style=\"margin: auto; padding: 20px; color:#fff; \">3.3. Identifying types of features</h4>\n",
    "</div>"
   ]
  },
  {
   "cell_type": "code",
   "execution_count": 17,
   "id": "ba0f376a-fbd9-485e-b093-8d40d18c6b54",
   "metadata": {},
   "outputs": [],
   "source": [
    "NUMERICAL_FEATURES = [\"NumberofFloors\", \"NumberofBuildings\", \"BuildingAge\", \"PropertyGFATotal\", \"PropertyGFAParking\", \"PropertyGFABuilding(s)\", \"Electricity_ratio\"]\n",
    "CATEGORICAL_FEATURES = [\"Neighborhood\", \"renamed_PropertyType\"]"
   ]
  },
  {
   "cell_type": "markdown",
   "id": "3de540e5-1261-496d-8050-216637998259",
   "metadata": {},
   "source": [
    "<div style=\"background-color: #6D83C5;\" >\n",
    "    <h3 style=\"margin: auto; padding: 20px; color:#fff; \">4. Data preprocessing</h3>\n",
    "</div>"
   ]
  },
  {
   "cell_type": "markdown",
   "id": "8a31d329-ea06-43d4-87be-54bd6e4d3c83",
   "metadata": {
    "tags": []
   },
   "source": [
    "<div class=\"alert alert-block alert-info\">\n",
    "     We are going to process the features as follows<br><br>\n",
    "    <b>Numerical features</b>\n",
    "    <ul style=\"list-style-type: square;\">\n",
    "        <li>Normalizing the features through StandardScaler due to all of them do not have a normal distribution</li>\n",
    "    </ul> \n",
    "    <b>Categorical features</b>\n",
    "    <ul style=\"list-style-type: square;\">\n",
    "        <li>Transforming all features through LabelEncoder</li>\n",
    "    </ul>  \n",
    "</div>"
   ]
  },
  {
   "cell_type": "code",
   "execution_count": 18,
   "id": "b50a14e6-0afe-4ce2-81fc-26b6b27d59cc",
   "metadata": {},
   "outputs": [],
   "source": [
    "numerical_pipeline = make_pipeline(StandardScaler())\n",
    "\n",
    "categorical_pipeline = make_pipeline(OneHotEncoder())"
   ]
  },
  {
   "cell_type": "code",
   "execution_count": 19,
   "id": "d3904fa0-ec57-4dce-bf06-f206a7712e5a",
   "metadata": {},
   "outputs": [],
   "source": [
    "preprocessor = make_column_transformer(\n",
    "                (numerical_pipeline, NUMERICAL_FEATURES), \n",
    "                (categorical_pipeline, CATEGORICAL_FEATURES))"
   ]
  },
  {
   "cell_type": "markdown",
   "id": "947ba407-6f15-49ed-9d71-e77c2038fbb9",
   "metadata": {
    "tags": []
   },
   "source": [
    "<div style=\"background-color: #6D83C5;\" >\n",
    "    <h3 style=\"margin: auto; padding: 20px; color:#fff; \">5. Modelisation</h3>\n",
    "</div>"
   ]
  },
  {
   "cell_type": "markdown",
   "id": "fdd7ea7a-4f38-4c74-8070-6f236a0bbf11",
   "metadata": {},
   "source": [
    "<div style=\"background-color: #6D83C5;\" >\n",
    "    <h4 style=\"margin: auto; padding: 20px; color:#fff; \">5.1. Supervised models</h4>\n",
    "</div>"
   ]
  },
  {
   "cell_type": "markdown",
   "id": "f18635cf-be6e-4380-b077-55a2d94f7a5a",
   "metadata": {
    "tags": []
   },
   "source": [
    "<div class=\"alert alert-block alert-info\">\n",
    "    List of models to use. for now, in default mode\n",
    "</div>"
   ]
  },
  {
   "cell_type": "code",
   "execution_count": 20,
   "id": "1a599428-2197-4ac3-a458-759cf781ad5f",
   "metadata": {
    "tags": []
   },
   "outputs": [],
   "source": [
    "regressors = {\n",
    "    \"Linear\" : LinearRegression(),\n",
    "    \"KNeighbors\" : KNeighborsRegressor(n_neighbors=2),\n",
    "    \"Lasso\" : Lasso(),\n",
    "    \"SVR\" : SVR(),\n",
    "    \"Random Forest\" : RandomForestRegressor(),\n",
    "    \"Gradient Boosting\" : GradientBoostingRegressor()\n",
    "}"
   ]
  },
  {
   "cell_type": "markdown",
   "id": "0d1d0ff1-158a-4641-ab11-541d54e6e312",
   "metadata": {
    "tags": []
   },
   "source": [
    "<div class=\"alert alert-block alert-info\">\n",
    "    Models metrics\n",
    "</div>"
   ]
  },
  {
   "cell_type": "code",
   "execution_count": 21,
   "id": "1f6e5c3d-391b-4c6c-b925-2b0e7d8f1c69",
   "metadata": {},
   "outputs": [],
   "source": [
    "# Dataframe with y_test_transformed to compared againts predictions\n",
    "df_y_pred = pd.DataFrame({\n",
    "        \"Model\" : \"Original\",\n",
    "        \"y_pred\" : y_test\n",
    "})\n",
    "\n",
    "# List of metrics results for each models \n",
    "LIST_MODEL, LIST_R2SCORE, LIST_MAE, LIST_RMSE, LIST_DURATION  = ([] for i in range(5))\n",
    "\n",
    "for k, v in regressors.items():\n",
    "    \n",
    "    start_time_model = timeit.default_timer()\n",
    "    \n",
    "    # Data preprocessing based on the pipelines and the regressors setup\n",
    "    reg = make_pipeline(preprocessor, v)\n",
    "    \n",
    "    # Fit the model using the training data and training target\n",
    "    reg.fit(X_train, y_train)\n",
    "    \n",
    "    # Making the prediction using the testing data\n",
    "    y_pred = reg.predict(X_test)\n",
    "    \n",
    "    end_time_model =  round(timeit.default_timer() - start_time_model, 3)\n",
    "    \n",
    "    # Concatenating predictions to compare against y_test_transformed\n",
    "    df_temp = pd.DataFrame({\n",
    "        \"Model\" : k,\n",
    "        \"y_pred\" : y_pred\n",
    "    })\n",
    "    \n",
    "    # Concatenating predictions to compare against y_test_transformed\n",
    "    df_y_pred = pd.concat([df_y_pred, df_temp])\n",
    "    \n",
    "    # Calculating R2 Coefficient of determination for each model (Best possible score is 1.0, lower values are worse.)\n",
    "    R2SCORE = round(r2_score(y_test, y_pred), 3)\n",
    "    \n",
    "    # Calculating the Mean absolute error (The best value is 0.0)\n",
    "    MAE = round(mean_absolute_error(y_test, y_pred), 3)\n",
    "    \n",
    "    # Calculating Root Mean Square Error for each model (The best value is 0.0)\n",
    "    RMSE = round(mean_squared_error(y_test, y_pred, squared=False), 3)\n",
    "    \n",
    "    # Adding results into LIST\n",
    "    LIST_MODEL.append(k)\n",
    "    LIST_MAE.append(MAE)\n",
    "    LIST_RMSE.append(RMSE)\n",
    "    LIST_R2SCORE.append(R2SCORE)\n",
    "    LIST_DURATION.append(end_time_model)"
   ]
  },
  {
   "cell_type": "markdown",
   "id": "635f4c98-65e8-4707-bcaf-59b8a66905ca",
   "metadata": {},
   "source": [
    "<div class=\"alert alert-block alert-info\">\n",
    "    Comparison of energy predictions against original data\n",
    "</div>"
   ]
  },
  {
   "cell_type": "code",
   "execution_count": 22,
   "id": "25a223ae-8b16-44ac-9f39-ee0b741a3412",
   "metadata": {
    "tags": []
   },
   "outputs": [
    {
     "data": {
      "image/png": "[encoded data removed]",
      "text/plain": [
       "<Figure size 720x432 with 1 Axes>"
      ]
     },
     "metadata": {},
     "output_type": "display_data"
    }
   ],
   "source": [
    "plt.figure(figsize=[10,6])\n",
    "sns.boxplot(x=df_y_pred[\"Model\"], y=df_y_pred[\"y_pred\"], showmeans=True, \n",
    "            meanprops={\"markerfacecolor\":\"white\", \"markeredgecolor\":\"blue\"})\n",
    "plt.title(\"Comparison of energy predictions (default mode)\", size=16)\n",
    "plt.xlabel(\"Original target and targets predicted\", size=12)\n",
    "plt.tight_layout()\n",
    "plt.savefig(\"img/Comparison-of-imputations.png\")\n",
    "plt.show()"
   ]
  },
  {
   "cell_type": "markdown",
   "id": "a68e78c1-de0a-4b44-9385-9e0d7c43497c",
   "metadata": {
    "tags": []
   },
   "source": [
    "<div class=\"alert alert-block alert-success\">\n",
    "    At this point, we can see that <b>Kneighbors</b>, <b>Random Forest</b> and <b>Gradient Boosting</b> are the most <b>similar to Original data</b>\n",
    "</div>"
   ]
  },
  {
   "cell_type": "markdown",
   "id": "433faa96-c53f-43ec-8fbc-5674fbe0e669",
   "metadata": {},
   "source": [
    "<div style=\"background-color: #6D83C5;\" >\n",
    "    <h4 style=\"margin: auto; padding: 20px; color:#fff; \">5.2. Predictions metrics</h4>\n",
    "</div>"
   ]
  },
  {
   "cell_type": "markdown",
   "id": "d0cc8513-210a-43b5-b844-8ceffd0deeee",
   "metadata": {
    "tags": []
   },
   "source": [
    "<div class=\"alert alert-block alert-info\">\n",
    "    Creating dataframe based on metrics results for each models\n",
    "</div>"
   ]
  },
  {
   "cell_type": "code",
   "execution_count": 23,
   "id": "5766294b-496d-4ec0-9b98-bb8a6c444c2f",
   "metadata": {},
   "outputs": [
    {
     "data": {
      "text/html": [
       "<div>\n",
       "<style scoped>\n",
       "    .dataframe tbody tr th:only-of-type {\n",
       "        vertical-align: middle;\n",
       "    }\n",
       "\n",
       "    .dataframe tbody tr th {\n",
       "        vertical-align: top;\n",
       "    }\n",
       "\n",
       "    .dataframe thead th {\n",
       "        text-align: right;\n",
       "    }\n",
       "</style>\n",
       "<table border=\"1\" class=\"dataframe\">\n",
       "  <thead>\n",
       "    <tr style=\"text-align: right;\">\n",
       "      <th></th>\n",
       "      <th>Model</th>\n",
       "      <th>R²</th>\n",
       "      <th>MAE</th>\n",
       "      <th>RMSE</th>\n",
       "      <th>Duration</th>\n",
       "    </tr>\n",
       "  </thead>\n",
       "  <tbody>\n",
       "    <tr>\n",
       "      <th>0</th>\n",
       "      <td>Linear</td>\n",
       "      <td>0.592</td>\n",
       "      <td>0.829</td>\n",
       "      <td>1.090</td>\n",
       "      <td>0.136</td>\n",
       "    </tr>\n",
       "    <tr>\n",
       "      <th>1</th>\n",
       "      <td>KNeighbors</td>\n",
       "      <td>0.453</td>\n",
       "      <td>0.945</td>\n",
       "      <td>1.261</td>\n",
       "      <td>0.106</td>\n",
       "    </tr>\n",
       "    <tr>\n",
       "      <th>2</th>\n",
       "      <td>Lasso</td>\n",
       "      <td>0.206</td>\n",
       "      <td>1.193</td>\n",
       "      <td>1.520</td>\n",
       "      <td>0.043</td>\n",
       "    </tr>\n",
       "    <tr>\n",
       "      <th>3</th>\n",
       "      <td>SVR</td>\n",
       "      <td>0.612</td>\n",
       "      <td>0.791</td>\n",
       "      <td>1.063</td>\n",
       "      <td>0.162</td>\n",
       "    </tr>\n",
       "    <tr>\n",
       "      <th>4</th>\n",
       "      <td>Random Forest</td>\n",
       "      <td>0.614</td>\n",
       "      <td>0.797</td>\n",
       "      <td>1.060</td>\n",
       "      <td>0.804</td>\n",
       "    </tr>\n",
       "    <tr>\n",
       "      <th>5</th>\n",
       "      <td>Gradient Boosting</td>\n",
       "      <td>0.638</td>\n",
       "      <td>0.778</td>\n",
       "      <td>1.026</td>\n",
       "      <td>0.287</td>\n",
       "    </tr>\n",
       "  </tbody>\n",
       "</table>\n",
       "</div>"
      ],
      "text/plain": [
       "               Model     R²    MAE   RMSE  Duration\n",
       "0             Linear  0.592  0.829  1.090     0.136\n",
       "1         KNeighbors  0.453  0.945  1.261     0.106\n",
       "2              Lasso  0.206  1.193  1.520     0.043\n",
       "3                SVR  0.612  0.791  1.063     0.162\n",
       "4      Random Forest  0.614  0.797  1.060     0.804\n",
       "5  Gradient Boosting  0.638  0.778  1.026     0.287"
      ]
     },
     "execution_count": 23,
     "metadata": {},
     "output_type": "execute_result"
    }
   ],
   "source": [
    "df_models_metrics = pd.DataFrame({\n",
    "    \"Model\" : LIST_MODEL,\n",
    "    \"R2\".translate(SUP) : LIST_R2SCORE, \n",
    "    \"MAE\" : LIST_MAE,    \n",
    "    \"RMSE\" : LIST_RMSE,\n",
    "    \"Duration\" : LIST_DURATION,\n",
    "})\n",
    "\n",
    "df_models_metrics"
   ]
  },
  {
   "cell_type": "markdown",
   "id": "f989fe46-2106-4a0f-baa3-f5bd338cae69",
   "metadata": {
    "tags": []
   },
   "source": [
    "<div class=\"alert alert-block alert-success\">\n",
    "    <b>Best results</b> with default mode considering each model\n",
    "    <ul style=\"list-style-type: square;\">\n",
    "        <li><b>r2:</b> Gradient Boosting(0.637) </li>\n",
    "        <li><b>MAE:</b> Gradient Boosting(0.779) </li>\n",
    "        <li><b>RMSE:</b> Gradient Boosting(1.028) </li>\n",
    "        <li><b>Duration:</b> Lasso(0.028) </li>\n",
    "    </ul> \n",
    "</div>"
   ]
  },
  {
   "cell_type": "code",
   "execution_count": 24,
   "id": "7038f5ad-7bb2-453c-9c4a-958808c3b248",
   "metadata": {},
   "outputs": [
    {
     "data": {
      "text/html": [
       "<div>\n",
       "<style scoped>\n",
       "    .dataframe tbody tr th:only-of-type {\n",
       "        vertical-align: middle;\n",
       "    }\n",
       "\n",
       "    .dataframe tbody tr th {\n",
       "        vertical-align: top;\n",
       "    }\n",
       "\n",
       "    .dataframe thead th {\n",
       "        text-align: right;\n",
       "    }\n",
       "</style>\n",
       "<table border=\"1\" class=\"dataframe\">\n",
       "  <thead>\n",
       "    <tr style=\"text-align: right;\">\n",
       "      <th></th>\n",
       "      <th>Model</th>\n",
       "      <th>Metric</th>\n",
       "      <th>Value</th>\n",
       "    </tr>\n",
       "  </thead>\n",
       "  <tbody>\n",
       "    <tr>\n",
       "      <th>0</th>\n",
       "      <td>Linear</td>\n",
       "      <td>R²</td>\n",
       "      <td>0.592</td>\n",
       "    </tr>\n",
       "    <tr>\n",
       "      <th>1</th>\n",
       "      <td>KNeighbors</td>\n",
       "      <td>R²</td>\n",
       "      <td>0.453</td>\n",
       "    </tr>\n",
       "    <tr>\n",
       "      <th>2</th>\n",
       "      <td>Lasso</td>\n",
       "      <td>R²</td>\n",
       "      <td>0.206</td>\n",
       "    </tr>\n",
       "    <tr>\n",
       "      <th>3</th>\n",
       "      <td>SVR</td>\n",
       "      <td>R²</td>\n",
       "      <td>0.612</td>\n",
       "    </tr>\n",
       "    <tr>\n",
       "      <th>4</th>\n",
       "      <td>Random Forest</td>\n",
       "      <td>R²</td>\n",
       "      <td>0.614</td>\n",
       "    </tr>\n",
       "    <tr>\n",
       "      <th>5</th>\n",
       "      <td>Gradient Boosting</td>\n",
       "      <td>R²</td>\n",
       "      <td>0.638</td>\n",
       "    </tr>\n",
       "    <tr>\n",
       "      <th>6</th>\n",
       "      <td>Linear</td>\n",
       "      <td>MAE</td>\n",
       "      <td>0.829</td>\n",
       "    </tr>\n",
       "    <tr>\n",
       "      <th>7</th>\n",
       "      <td>KNeighbors</td>\n",
       "      <td>MAE</td>\n",
       "      <td>0.945</td>\n",
       "    </tr>\n",
       "  </tbody>\n",
       "</table>\n",
       "</div>"
      ],
      "text/plain": [
       "               Model Metric  Value\n",
       "0             Linear     R²  0.592\n",
       "1         KNeighbors     R²  0.453\n",
       "2              Lasso     R²  0.206\n",
       "3                SVR     R²  0.612\n",
       "4      Random Forest     R²  0.614\n",
       "5  Gradient Boosting     R²  0.638\n",
       "6             Linear    MAE  0.829\n",
       "7         KNeighbors    MAE  0.945"
      ]
     },
     "execution_count": 24,
     "metadata": {},
     "output_type": "execute_result"
    }
   ],
   "source": [
    "df_models_metrics_melt = pd.melt(df_models_metrics, id_vars=\"Model\", var_name=\"Metric\", value_name=\"Value\")\n",
    "df_models_metrics_melt.head(8)"
   ]
  },
  {
   "cell_type": "code",
   "execution_count": 25,
   "id": "abcc4861-9f40-49b0-b214-2abcd0bb9c71",
   "metadata": {},
   "outputs": [
    {
     "data": {
      "image/png": "[encoded data removed]",
      "text/plain": [
       "<Figure size 1080x432 with 1 Axes>"
      ]
     },
     "metadata": {},
     "output_type": "display_data"
    }
   ],
   "source": [
    "fig, ax1 = plt.subplots(figsize=(15, 6))\n",
    "plot = sns.barplot(x=\"Model\", y=\"Value\", hue=\"Metric\", data=df_models_metrics_melt, ax=ax1)\n",
    "for p in plot.patches:\n",
    "    plot.annotate(format(p.get_height(), \".2f\"), (p.get_x() + p.get_width() / 2., p.get_height()), \n",
    "                    ha=\"center\", va=\"center\", xytext=(0, 8), textcoords=\"offset points\")\n",
    "plt.title(\"Comparison of Metrics by model (default mode)\", size=20)\n",
    "plt.legend(bbox_to_anchor=(1.10, 1), borderaxespad=0, title=\"Metrics\")\n",
    "plt.tight_layout()\n",
    "plt.xlabel(\"Model\", size=12)\n",
    "plt.ylabel(\"Metric\", size=12)\n",
    "plt.savefig(\"img/comparisonMetricsByModel.png\")\n",
    "sns.despine(fig)"
   ]
  },
  {
   "cell_type": "markdown",
   "id": "b3c169fb-035f-4e89-94a0-e12b6c14158a",
   "metadata": {},
   "source": [
    "<div style=\"background-color: #6D83C5;\" >\n",
    "    <h4 style=\"margin: auto; padding: 20px; color:#fff; \">5.3. Cross Validation K-Fold</h4>\n",
    "</div>"
   ]
  },
  {
   "cell_type": "code",
   "execution_count": 26,
   "id": "11da1dfc-2c98-46a4-9470-bc84edb8e7ab",
   "metadata": {},
   "outputs": [],
   "source": [
    "# List of metrics results for each models \n",
    "LIST_MODEL, LIST_R2SCORE, LIST_MAE, LIST_RMSE, LIST_DURATION, LIST_SCORES  = ([] for i in range(6))\n",
    "\n",
    "for k, v in regressors.items():\n",
    "\n",
    "    # Data preprocessing based on the pipelines and the regressors setup\n",
    "    reg = make_pipeline(preprocessor, v)\n",
    "    \n",
    "    kfold = KFold(n_splits=5, shuffle=False, random_state=None)\n",
    "    \n",
    "    # Get the score for each validation score method to get accuracy of model\n",
    "    scores = cross_validate(reg, X_train, y_train, cv=kfold, scoring=(\"r2\", \"neg_mean_absolute_error\", \"neg_mean_squared_error\"), return_train_score=True)\n",
    "    \n",
    "    # Adding results into LIST\n",
    "    LIST_MODEL.append(k)\n",
    "    LIST_R2SCORE.append(round(scores.get(\"test_r2\").mean(), 3))\n",
    "    LIST_MAE.append(round(abs(scores.get(\"test_neg_mean_absolute_error\").mean()), 3))\n",
    "    LIST_RMSE.append(round(math.sqrt((abs(scores.get(\"test_neg_mean_squared_error\").mean()))), 3))\n",
    "    LIST_DURATION.append(round(scores.get(\"fit_time\").mean(), 3))\n",
    "    LIST_SCORES.append(scores.get(\"test_r2\"))"
   ]
  },
  {
   "cell_type": "markdown",
   "id": "ed4d446e-c258-4075-9a99-05ef48890d2b",
   "metadata": {
    "tags": []
   },
   "source": [
    "<div class=\"alert alert-block alert-info\">\n",
    "    Plotting the cross validation executions\n",
    "</div>"
   ]
  },
  {
   "cell_type": "code",
   "execution_count": 27,
   "id": "94c01a30-1a42-4935-a891-d098be61350c",
   "metadata": {},
   "outputs": [],
   "source": [
    "df_cross_val = pd.DataFrame(LIST_SCORES, columns=[1, 2, 3, 4, 5])\n",
    "df_cross_val[\"Model\"] = LIST_MODEL\n",
    "df_cross_val_melt = df_cross_val.melt(id_vars=\"Model\", var_name=\"Execution\", value_name=\"Score\")"
   ]
  },
  {
   "cell_type": "code",
   "execution_count": 28,
   "id": "34b30599-af35-4367-9ff5-57f2efeb3f45",
   "metadata": {},
   "outputs": [
    {
     "data": {
      "text/html": [
       "<div>\n",
       "<style scoped>\n",
       "    .dataframe tbody tr th:only-of-type {\n",
       "        vertical-align: middle;\n",
       "    }\n",
       "\n",
       "    .dataframe tbody tr th {\n",
       "        vertical-align: top;\n",
       "    }\n",
       "\n",
       "    .dataframe thead th {\n",
       "        text-align: right;\n",
       "    }\n",
       "</style>\n",
       "<table border=\"1\" class=\"dataframe\">\n",
       "  <thead>\n",
       "    <tr style=\"text-align: right;\">\n",
       "      <th></th>\n",
       "      <th>1</th>\n",
       "      <th>2</th>\n",
       "      <th>3</th>\n",
       "      <th>4</th>\n",
       "      <th>5</th>\n",
       "      <th>Model</th>\n",
       "    </tr>\n",
       "  </thead>\n",
       "  <tbody>\n",
       "    <tr>\n",
       "      <th>0</th>\n",
       "      <td>0.652824</td>\n",
       "      <td>0.631431</td>\n",
       "      <td>0.661052</td>\n",
       "      <td>0.634241</td>\n",
       "      <td>0.625793</td>\n",
       "      <td>Linear</td>\n",
       "    </tr>\n",
       "    <tr>\n",
       "      <th>1</th>\n",
       "      <td>0.455585</td>\n",
       "      <td>0.517381</td>\n",
       "      <td>0.553763</td>\n",
       "      <td>0.421368</td>\n",
       "      <td>0.545072</td>\n",
       "      <td>KNeighbors</td>\n",
       "    </tr>\n",
       "    <tr>\n",
       "      <th>2</th>\n",
       "      <td>0.234148</td>\n",
       "      <td>0.209414</td>\n",
       "      <td>0.239997</td>\n",
       "      <td>0.182953</td>\n",
       "      <td>0.222727</td>\n",
       "      <td>Lasso</td>\n",
       "    </tr>\n",
       "    <tr>\n",
       "      <th>3</th>\n",
       "      <td>0.654806</td>\n",
       "      <td>0.633615</td>\n",
       "      <td>0.687030</td>\n",
       "      <td>0.636143</td>\n",
       "      <td>0.631986</td>\n",
       "      <td>SVR</td>\n",
       "    </tr>\n",
       "    <tr>\n",
       "      <th>4</th>\n",
       "      <td>0.668171</td>\n",
       "      <td>0.660413</td>\n",
       "      <td>0.668167</td>\n",
       "      <td>0.652470</td>\n",
       "      <td>0.655972</td>\n",
       "      <td>Random Forest</td>\n",
       "    </tr>\n",
       "    <tr>\n",
       "      <th>5</th>\n",
       "      <td>0.684634</td>\n",
       "      <td>0.672806</td>\n",
       "      <td>0.689627</td>\n",
       "      <td>0.668709</td>\n",
       "      <td>0.661379</td>\n",
       "      <td>Gradient Boosting</td>\n",
       "    </tr>\n",
       "  </tbody>\n",
       "</table>\n",
       "</div>"
      ],
      "text/plain": [
       "          1         2         3         4         5              Model\n",
       "0  0.652824  0.631431  0.661052  0.634241  0.625793             Linear\n",
       "1  0.455585  0.517381  0.553763  0.421368  0.545072         KNeighbors\n",
       "2  0.234148  0.209414  0.239997  0.182953  0.222727              Lasso\n",
       "3  0.654806  0.633615  0.687030  0.636143  0.631986                SVR\n",
       "4  0.668171  0.660413  0.668167  0.652470  0.655972      Random Forest\n",
       "5  0.684634  0.672806  0.689627  0.668709  0.661379  Gradient Boosting"
      ]
     },
     "execution_count": 28,
     "metadata": {},
     "output_type": "execute_result"
    }
   ],
   "source": [
    "df_cross_val"
   ]
  },
  {
   "cell_type": "code",
   "execution_count": 29,
   "id": "1c6b4f9d-c6a8-4a8d-9397-9102b11dce14",
   "metadata": {},
   "outputs": [
    {
     "data": {
      "image/png": "[encoded data removed]",
      "text/plain": [
       "<Figure size 576x432 with 1 Axes>"
      ]
     },
     "metadata": {},
     "output_type": "display_data"
    }
   ],
   "source": [
    "plt.figure(figsize=(8, 6))\n",
    "plot = sns.lineplot(x=\"Execution\",\n",
    "                    y=\"Score\",\n",
    "                    hue=\"Model\",\n",
    "                    data=df_cross_val_melt\n",
    ")\n",
    "plt.legend(bbox_to_anchor=(0.85, 1), borderaxespad=0, title=\"Model\")\n",
    "plt.tight_layout()\n",
    "plt.title(\"Models cross validations\", size=20)\n",
    "plot.set(xlabel=\"Execution\", ylabel=\"Score\", xlim=(1, 6))\n",
    "\n",
    "plt.savefig(\"img/models-cross-validations-Scores.png\")\n",
    "sns.despine(fig)"
   ]
  },
  {
   "cell_type": "markdown",
   "id": "72b64133-19f0-4936-a8c5-5bfba8874f72",
   "metadata": {},
   "source": [
    "<div style=\"background-color: #6D83C5;\" >\n",
    "    <h5 style=\"margin: auto; padding: 20px; color:#fff; \">5.3.1 Predictions metrics</h5>\n",
    "</div>"
   ]
  },
  {
   "cell_type": "markdown",
   "id": "e56b0a39-b26f-4e31-93c3-3d7496c3232a",
   "metadata": {
    "tags": []
   },
   "source": [
    "<div class=\"alert alert-block alert-info\">\n",
    "    Creating dataframe based on metrics results for each models\n",
    "</div>"
   ]
  },
  {
   "cell_type": "code",
   "execution_count": 30,
   "id": "9856af73-bbff-40ca-8764-3de09dfc24b3",
   "metadata": {},
   "outputs": [
    {
     "data": {
      "text/html": [
       "<div>\n",
       "<style scoped>\n",
       "    .dataframe tbody tr th:only-of-type {\n",
       "        vertical-align: middle;\n",
       "    }\n",
       "\n",
       "    .dataframe tbody tr th {\n",
       "        vertical-align: top;\n",
       "    }\n",
       "\n",
       "    .dataframe thead th {\n",
       "        text-align: right;\n",
       "    }\n",
       "</style>\n",
       "<table border=\"1\" class=\"dataframe\">\n",
       "  <thead>\n",
       "    <tr style=\"text-align: right;\">\n",
       "      <th></th>\n",
       "      <th>Model</th>\n",
       "      <th>R²</th>\n",
       "      <th>MAE</th>\n",
       "      <th>RMSE</th>\n",
       "      <th>Duration</th>\n",
       "    </tr>\n",
       "  </thead>\n",
       "  <tbody>\n",
       "    <tr>\n",
       "      <th>0</th>\n",
       "      <td>Linear</td>\n",
       "      <td>0.641</td>\n",
       "      <td>0.784</td>\n",
       "      <td>1.071</td>\n",
       "      <td>0.016</td>\n",
       "    </tr>\n",
       "    <tr>\n",
       "      <th>1</th>\n",
       "      <td>KNeighbors</td>\n",
       "      <td>0.499</td>\n",
       "      <td>0.906</td>\n",
       "      <td>1.268</td>\n",
       "      <td>0.015</td>\n",
       "    </tr>\n",
       "    <tr>\n",
       "      <th>2</th>\n",
       "      <td>Lasso</td>\n",
       "      <td>0.218</td>\n",
       "      <td>1.224</td>\n",
       "      <td>1.581</td>\n",
       "      <td>0.010</td>\n",
       "    </tr>\n",
       "    <tr>\n",
       "      <th>3</th>\n",
       "      <td>SVR</td>\n",
       "      <td>0.649</td>\n",
       "      <td>0.759</td>\n",
       "      <td>1.061</td>\n",
       "      <td>0.080</td>\n",
       "    </tr>\n",
       "    <tr>\n",
       "      <th>4</th>\n",
       "      <td>Random Forest</td>\n",
       "      <td>0.661</td>\n",
       "      <td>0.749</td>\n",
       "      <td>1.040</td>\n",
       "      <td>0.534</td>\n",
       "    </tr>\n",
       "    <tr>\n",
       "      <th>5</th>\n",
       "      <td>Gradient Boosting</td>\n",
       "      <td>0.675</td>\n",
       "      <td>0.741</td>\n",
       "      <td>1.018</td>\n",
       "      <td>0.237</td>\n",
       "    </tr>\n",
       "  </tbody>\n",
       "</table>\n",
       "</div>"
      ],
      "text/plain": [
       "               Model     R²    MAE   RMSE  Duration\n",
       "0             Linear  0.641  0.784  1.071     0.016\n",
       "1         KNeighbors  0.499  0.906  1.268     0.015\n",
       "2              Lasso  0.218  1.224  1.581     0.010\n",
       "3                SVR  0.649  0.759  1.061     0.080\n",
       "4      Random Forest  0.661  0.749  1.040     0.534\n",
       "5  Gradient Boosting  0.675  0.741  1.018     0.237"
      ]
     },
     "execution_count": 30,
     "metadata": {},
     "output_type": "execute_result"
    }
   ],
   "source": [
    "df_models_metrics_cross = pd.DataFrame({\n",
    "    \"Model\" : LIST_MODEL,\n",
    "    \"R2\".translate(SUP) : LIST_R2SCORE, \n",
    "    \"MAE\" : LIST_MAE,    \n",
    "    \"RMSE\" : LIST_RMSE,\n",
    "    \"Duration\" : LIST_DURATION,\n",
    "})\n",
    "\n",
    "df_models_metrics_cross"
   ]
  },
  {
   "cell_type": "markdown",
   "id": "9aa20c28-2ea6-4ead-8330-a1543e8e1ea9",
   "metadata": {
    "tags": []
   },
   "source": [
    "<div class=\"alert alert-block alert-info\">\n",
    "    <b>Best results</b> with default mode considering each model\n",
    "    <ul style=\"list-style-type: square;\">\n",
    "        <li><b>r2:</b> Gradient Boosting(0.701) </li>\n",
    "        <li><b>MAE:</b> Gradient Boosting(0.777) </li>\n",
    "        <li><b>RMSE:</b> Gradient Boosting(1.054) </li>\n",
    "        <li><b>Duration:</b> Lasso(0.008) </li>\n",
    "    </ul> \n",
    "</div>"
   ]
  },
  {
   "cell_type": "code",
   "execution_count": 31,
   "id": "440f655e-05a3-4ac7-9578-fc2847403ee3",
   "metadata": {},
   "outputs": [
    {
     "data": {
      "text/html": [
       "<div>\n",
       "<style scoped>\n",
       "    .dataframe tbody tr th:only-of-type {\n",
       "        vertical-align: middle;\n",
       "    }\n",
       "\n",
       "    .dataframe tbody tr th {\n",
       "        vertical-align: top;\n",
       "    }\n",
       "\n",
       "    .dataframe thead th {\n",
       "        text-align: right;\n",
       "    }\n",
       "</style>\n",
       "<table border=\"1\" class=\"dataframe\">\n",
       "  <thead>\n",
       "    <tr style=\"text-align: right;\">\n",
       "      <th></th>\n",
       "      <th>Model</th>\n",
       "      <th>Metric</th>\n",
       "      <th>Value</th>\n",
       "    </tr>\n",
       "  </thead>\n",
       "  <tbody>\n",
       "    <tr>\n",
       "      <th>0</th>\n",
       "      <td>Linear</td>\n",
       "      <td>R²</td>\n",
       "      <td>0.641</td>\n",
       "    </tr>\n",
       "    <tr>\n",
       "      <th>1</th>\n",
       "      <td>KNeighbors</td>\n",
       "      <td>R²</td>\n",
       "      <td>0.499</td>\n",
       "    </tr>\n",
       "    <tr>\n",
       "      <th>2</th>\n",
       "      <td>Lasso</td>\n",
       "      <td>R²</td>\n",
       "      <td>0.218</td>\n",
       "    </tr>\n",
       "    <tr>\n",
       "      <th>3</th>\n",
       "      <td>SVR</td>\n",
       "      <td>R²</td>\n",
       "      <td>0.649</td>\n",
       "    </tr>\n",
       "    <tr>\n",
       "      <th>4</th>\n",
       "      <td>Random Forest</td>\n",
       "      <td>R²</td>\n",
       "      <td>0.661</td>\n",
       "    </tr>\n",
       "  </tbody>\n",
       "</table>\n",
       "</div>"
      ],
      "text/plain": [
       "           Model Metric  Value\n",
       "0         Linear     R²  0.641\n",
       "1     KNeighbors     R²  0.499\n",
       "2          Lasso     R²  0.218\n",
       "3            SVR     R²  0.649\n",
       "4  Random Forest     R²  0.661"
      ]
     },
     "execution_count": 31,
     "metadata": {},
     "output_type": "execute_result"
    }
   ],
   "source": [
    "df_models_metrics_melt_cross = pd.melt(df_models_metrics_cross, id_vars=\"Model\", var_name=\"Metric\", value_name=\"Value\")\n",
    "df_models_metrics_melt_cross.head()"
   ]
  },
  {
   "cell_type": "code",
   "execution_count": 32,
   "id": "0554dab7-2295-476d-8234-1a9e1c53e168",
   "metadata": {},
   "outputs": [
    {
     "data": {
      "image/png": "[encoded data removed]",
      "text/plain": [
       "<Figure size 1080x432 with 1 Axes>"
      ]
     },
     "metadata": {},
     "output_type": "display_data"
    }
   ],
   "source": [
    "fig, ax1 = plt.subplots(figsize=(15, 6))\n",
    "plot = sns.barplot(x=\"Model\", y=\"Value\", hue=\"Metric\", data=df_models_metrics_melt_cross, ax=ax1)\n",
    "for p in plot.patches:\n",
    "    plot.annotate(format(p.get_height(), \".2f\"), (p.get_x() + p.get_width() / 2., p.get_height()), \n",
    "                    ha=\"center\", va=\"center\", xytext=(0, 8), textcoords=\"offset points\")\n",
    "plt.title(\"Comparison of Metrics by model (cross-validation)\", size=20)\n",
    "plt.legend(bbox_to_anchor=(1.10, 1), borderaxespad=0, title=\"Metrics\")\n",
    "plt.tight_layout()\n",
    "plt.xlabel(\"Model\", size=12)\n",
    "plt.ylabel(\"Metric\", size=12)\n",
    "plt.savefig(\"img/comparisonMetrics_crossByModel.png\")\n",
    "sns.despine(fig)"
   ]
  },
  {
   "cell_type": "markdown",
   "id": "6e9a93f7-3b30-4e7f-a87f-ba9fd3c9c036",
   "metadata": {
    "tags": []
   },
   "source": [
    "<div class=\"alert alert-block alert-info\">\n",
    "    <b>In conclusion</b> the results are very similar to previous results\n",
    "</div>"
   ]
  },
  {
   "cell_type": "markdown",
   "id": "6b4da019-04c1-446d-97f3-f981e3a3741c",
   "metadata": {
    "tags": []
   },
   "source": [
    "<div style=\"background-color: #6D83C5;\" >\n",
    "    <h3 style=\"margin: auto; padding: 20px; color:#fff; \">6. Optimization</h3>\n",
    "</div>"
   ]
  },
  {
   "cell_type": "markdown",
   "id": "df9dcabf-f327-4f14-93d1-e078a553997c",
   "metadata": {
    "tags": []
   },
   "source": [
    "<div class=\"alert alert-block alert-info\">\n",
    "    We are going to optimize each model separately, to see the results more in detail<br><br>\n",
    "    \n",
    "    Also, we are going to add all predictions and metrics base on parameters optimization to compare the results\n",
    "</div>"
   ]
  },
  {
   "cell_type": "code",
   "execution_count": 97,
   "id": "c624f716-0c05-4c1e-8d0a-5e1748909ee5",
   "metadata": {},
   "outputs": [],
   "source": [
    "# Dataframe with y_test_transformed to compared againts predictions\n",
    "df_y_pred_gsc = pd.DataFrame({\n",
    "        \"Model\" : \"Original\",\n",
    "        \"y_pred\" : y_test\n",
    "})\n",
    "\n",
    "# List of metrics results for each models \n",
    "LIST_MODEL_GSC, LIST_R2SCORE_GSC, LIST_MAE_GSC, LIST_RMSE_GSC, LIST_DURATION_GSC, LIST_SCORES_GSC  = ([] for i in range(6))"
   ]
  },
  {
   "cell_type": "markdown",
   "id": "c11d39f2-fb4e-4afe-81b1-0841e04194ab",
   "metadata": {
    "tags": []
   },
   "source": [
    "<div class=\"alert alert-block alert-info\">\n",
    "    At the same time, we are going to get the following metrics\n",
    "</div>"
   ]
  },
  {
   "cell_type": "code",
   "execution_count": 98,
   "id": "4df46400-7c5f-4ad7-9a48-75a2b51afa92",
   "metadata": {},
   "outputs": [],
   "source": [
    "SCORINGS = {\n",
    "    \"R2\" : \"r2\",\n",
    "    \"MSE\" : \"neg_mean_squared_error\", \n",
    "    \"MAE\" : \"neg_mean_absolute_error\"\n",
    "}"
   ]
  },
  {
   "cell_type": "markdown",
   "id": "38b4ce5a-824d-47e9-8f1a-42cb68ee996d",
   "metadata": {},
   "source": [
    "<div style=\"background-color: #6D83C5;\" >\n",
    "    <h4 style=\"margin: auto; padding: 20px; color:#fff; \">6.2. KNeighbors optimization</h4>\n",
    "</div>"
   ]
  },
  {
   "cell_type": "markdown",
   "id": "2a97c823-ca6e-42d4-a387-834fdf761bd5",
   "metadata": {
    "tags": []
   },
   "source": [
    "<div class=\"alert alert-block alert-info\">\n",
    "    Initializing model\n",
    "</div>"
   ]
  },
  {
   "cell_type": "code",
   "execution_count": 99,
   "id": "fcc3172a-20d8-4dca-be14-4e7f68ea79a5",
   "metadata": {
    "tags": []
   },
   "outputs": [],
   "source": [
    "knn = KNeighborsRegressor()"
   ]
  },
  {
   "cell_type": "markdown",
   "id": "54743395-587c-4665-91a3-c88fab57fddb",
   "metadata": {
    "tags": []
   },
   "source": [
    "<div class=\"alert alert-block alert-info\">\n",
    "    Data preprocessing based on the pipelines and the regressors setup\n",
    "</div>"
   ]
  },
  {
   "cell_type": "code",
   "execution_count": 100,
   "id": "ac9480bb-33bc-443e-8d93-26734cb16b11",
   "metadata": {},
   "outputs": [],
   "source": [
    "reg = make_pipeline(preprocessor, knn)"
   ]
  },
  {
   "cell_type": "markdown",
   "id": "e84fe29d-d8c6-400c-89ac-b1fdb7c30d37",
   "metadata": {
    "tags": []
   },
   "source": [
    "<div class=\"alert alert-block alert-info\">\n",
    "    Identifying the names of each parameter\n",
    "</div>"
   ]
  },
  {
   "cell_type": "code",
   "execution_count": 101,
   "id": "3a47f690-db8c-4011-bf44-eae8a562b7a7",
   "metadata": {},
   "outputs": [
    {
     "data": {
      "text/plain": [
       "['columntransformer',\n",
       " 'columntransformer__n_jobs',\n",
       " 'columntransformer__pipeline-1',\n",
       " 'columntransformer__pipeline-1__memory',\n",
       " 'columntransformer__pipeline-1__standardscaler',\n",
       " 'columntransformer__pipeline-1__standardscaler__copy',\n",
       " 'columntransformer__pipeline-1__standardscaler__with_mean',\n",
       " 'columntransformer__pipeline-1__standardscaler__with_std',\n",
       " 'columntransformer__pipeline-1__steps',\n",
       " 'columntransformer__pipeline-1__verbose',\n",
       " 'columntransformer__pipeline-2',\n",
       " 'columntransformer__pipeline-2__memory',\n",
       " 'columntransformer__pipeline-2__onehotencoder',\n",
       " 'columntransformer__pipeline-2__onehotencoder__categories',\n",
       " 'columntransformer__pipeline-2__onehotencoder__drop',\n",
       " 'columntransformer__pipeline-2__onehotencoder__dtype',\n",
       " 'columntransformer__pipeline-2__onehotencoder__handle_unknown',\n",
       " 'columntransformer__pipeline-2__onehotencoder__sparse',\n",
       " 'columntransformer__pipeline-2__steps',\n",
       " 'columntransformer__pipeline-2__verbose',\n",
       " 'columntransformer__remainder',\n",
       " 'columntransformer__sparse_threshold',\n",
       " 'columntransformer__transformer_weights',\n",
       " 'columntransformer__transformers',\n",
       " 'columntransformer__verbose',\n",
       " 'kneighborsregressor',\n",
       " 'kneighborsregressor__algorithm',\n",
       " 'kneighborsregressor__leaf_size',\n",
       " 'kneighborsregressor__metric',\n",
       " 'kneighborsregressor__metric_params',\n",
       " 'kneighborsregressor__n_jobs',\n",
       " 'kneighborsregressor__n_neighbors',\n",
       " 'kneighborsregressor__p',\n",
       " 'kneighborsregressor__weights',\n",
       " 'memory',\n",
       " 'steps',\n",
       " 'verbose']"
      ]
     },
     "execution_count": 101,
     "metadata": {},
     "output_type": "execute_result"
    }
   ],
   "source": [
    "sorted(reg.get_params().keys())"
   ]
  },
  {
   "cell_type": "markdown",
   "id": "c0d54236-cfa2-4007-b595-dad2baff4e12",
   "metadata": {
    "tags": []
   },
   "source": [
    "<div class=\"alert alert-block alert-info\">\n",
    "    Parameters settings\n",
    "</div>"
   ]
  },
  {
   "cell_type": "code",
   "execution_count": 102,
   "id": "5596bf1e-ad97-4b4b-be04-373c3da76194",
   "metadata": {},
   "outputs": [],
   "source": [
    "param_grid = {\n",
    "    \"kneighborsregressor__n_neighbors\" : [3, 5, 7, 9, 11, 13, 15, 20, 50],\n",
    "    \"kneighborsregressor__metric\" : [\"euclidean\", \"manhattan\"]\n",
    "}"
   ]
  },
  {
   "cell_type": "markdown",
   "id": "1cd2ce95-1c08-4274-8478-c919d3dd81bc",
   "metadata": {
    "tags": []
   },
   "source": [
    "<div class=\"alert alert-block alert-info\">\n",
    "    Executing the model\n",
    "</div>"
   ]
  },
  {
   "cell_type": "code",
   "execution_count": 103,
   "id": "b1f4e859-7303-4595-9604-929e59837faa",
   "metadata": {},
   "outputs": [
    {
     "name": "stdout",
     "output_type": "stream",
     "text": [
      "Metrics based on the best R²\n",
      "- R²: 0.622\n",
      "- MAE: 0.796\n",
      "- RMSE: 1.098\n",
      "- Duration: 0.029\n",
      "- Parameters: {'kneighborsregressor__metric': 'manhattan', 'kneighborsregressor__n_neighbors': 11}\n"
     ]
    }
   ],
   "source": [
    "# K-Folds cross-validator\n",
    "kfold = KFold(n_splits=5, shuffle=False, random_state=None)\n",
    "\n",
    "search = GridSearchCV(reg, param_grid, n_jobs=-1, cv=kfold, scoring=SCORINGS, refit=\"R2\", return_train_score=True)\n",
    "\n",
    "search.fit(X_train, y_train)\n",
    "\n",
    "# Transforming the result to dataframe format\n",
    "df_results = pd.DataFrame(search.cv_results_)\n",
    "\n",
    "# Get the results\n",
    "print(\"Metrics based on the best R2\".translate(SUP))\n",
    "print(\"- R2:\".translate(SUP), round(search.best_score_, 3))\n",
    "print(\"- MAE:\", round(abs(df_results.iloc[search.best_index_][\"mean_test_MAE\"]), 3))\n",
    "print(\"- RMSE:\", round(math.sqrt(abs(df_results.iloc[search.best_index_][\"mean_test_MSE\"])), 3))\n",
    "print(\"- Duration:\", round(df_results.iloc[search.best_index_][\"mean_score_time\"], 3))\n",
    "print(\"- Parameters:\", search.best_params_)"
   ]
  },
  {
   "cell_type": "markdown",
   "id": "5454d274-fb6b-4866-a1bd-74d611957521",
   "metadata": {
    "tags": []
   },
   "source": [
    "<div class=\"alert alert-block alert-info\">\n",
    "    We got the <b>best parameters</b> so, we are going to <b>analyze</b> them more in details \n",
    "</div>"
   ]
  },
  {
   "cell_type": "markdown",
   "id": "5a589d11-c0e2-43ed-bf7e-71382a55d9f4",
   "metadata": {},
   "source": [
    "<div style=\"background-color: #6D83C5;\" >\n",
    "    <h5 style=\"margin: auto; padding: 20px; color:#fff; \">6.2.1 KNeighbors Validation curve</h5>\n",
    "</div>"
   ]
  },
  {
   "cell_type": "markdown",
   "id": "db0abf71-42c2-4381-b93d-be6a6a45c6fa",
   "metadata": {
    "tags": []
   },
   "source": [
    "<div class=\"alert alert-block alert-info\">\n",
    "    To plot the <b>Validation curve</b>, we are going to use a <b>range of neighbors</b> to analyze the model through them\n",
    "</div>"
   ]
  },
  {
   "cell_type": "code",
   "execution_count": 104,
   "id": "332df373-ff0f-4171-8cc5-3b27ffd5a0da",
   "metadata": {},
   "outputs": [],
   "source": [
    "kfold = KFold(n_splits=5, shuffle=False, random_state=None)\n",
    "\n",
    "n_neighbors = [3, 5, 7, 9, 11, 13, 15, 20, 50]\n",
    "\n",
    "reg = make_pipeline(preprocessor, KNeighborsRegressor(metric=\"manhattan\"))"
   ]
  },
  {
   "cell_type": "markdown",
   "id": "05455a89-61af-4566-83e9-1612ef96adc5",
   "metadata": {
    "tags": []
   },
   "source": [
    "<div class=\"alert alert-block alert-info\">\n",
    "    Plotting <b>the validacion curve</b> based on the best parameters\n",
    "</div>"
   ]
  },
  {
   "cell_type": "code",
   "execution_count": 105,
   "id": "943eaef5-7522-40a0-929c-2a01382ce337",
   "metadata": {},
   "outputs": [
    {
     "data": {
      "image/png": "[encoded data removed]",
      "text/plain": [
       "<Figure size 576x432 with 1 Axes>"
      ]
     },
     "metadata": {},
     "output_type": "display_data"
    }
   ],
   "source": [
    "plot_validation_curve(reg, \"KNeighbors\", X_train, y_train, param_name=\"kneighborsregressor__n_neighbors\", param_range=n_neighbors, param_name_short=\"Neighbors\", cv=kfold)"
   ]
  },
  {
   "cell_type": "markdown",
   "id": "935aafba-d485-439e-98ce-2f2c60c7d51f",
   "metadata": {},
   "source": [
    "<div style=\"background-color: #6D83C5;\" >\n",
    "    <h5 style=\"margin: auto; padding: 20px; color:#fff; \">6.2.2 KNeighbors Learning curve</h5>\n",
    "</div>"
   ]
  },
  {
   "cell_type": "markdown",
   "id": "f61aa7fe-6758-4772-adfd-a472869c16a2",
   "metadata": {
    "tags": []
   },
   "source": [
    "<div class=\"alert alert-block alert-info\">\n",
    "    To plot the <b>Learning curve</b>, we are going to use the <b>best  parameters</b> to analyze the model\n",
    "</div>"
   ]
  },
  {
   "cell_type": "code",
   "execution_count": 106,
   "id": "eed97748-d058-40c1-8568-8286d78a6471",
   "metadata": {},
   "outputs": [],
   "source": [
    "kfold = KFold(n_splits=5, shuffle=False, random_state=None)\n",
    "\n",
    "reg = make_pipeline(preprocessor, KNeighborsRegressor(n_neighbors=11, metric=\"manhattan\"))"
   ]
  },
  {
   "cell_type": "markdown",
   "id": "681e3cf6-8a81-4458-9ed5-f1e980595e94",
   "metadata": {
    "tags": []
   },
   "source": [
    "<div class=\"alert alert-block alert-info\">\n",
    "    Plotting <b>the learning curve</b> based on the best parameters\n",
    "</div>"
   ]
  },
  {
   "cell_type": "code",
   "execution_count": 107,
   "id": "741d9448-608f-4a2b-8b69-d0b263e6205e",
   "metadata": {},
   "outputs": [
    {
     "data": {
      "image/png": "[encoded data removed]",
      "text/plain": [
       "<Figure size 576x1296 with 3 Axes>"
      ]
     },
     "metadata": {},
     "output_type": "display_data"
    }
   ],
   "source": [
    "plot_learning_curve(reg, \"kneighbors\", X_train, y_train, cv=kfold)"
   ]
  },
  {
   "cell_type": "markdown",
   "id": "691381e4-2b1d-4c16-a0a0-0f6bf5423068",
   "metadata": {},
   "source": [
    "<div style=\"background-color: #6D83C5;\" >\n",
    "    <h5 style=\"margin: auto; padding: 20px; color:#fff; \">6.2.3 KNeighbors predictions validations</h5>\n",
    "</div>"
   ]
  },
  {
   "cell_type": "markdown",
   "id": "9c62543b-78e5-4e08-9a86-5151344bf04e",
   "metadata": {
    "tags": []
   },
   "source": [
    "<div class=\"alert alert-block alert-info\">\n",
    "    To plot the <b>predictions validations</b>, we are going to use the <b>best  parameters</b> to analyze the model after <b>fitting</b> and <b>predicting</b> values</b>\n",
    "</div>"
   ]
  },
  {
   "cell_type": "code",
   "execution_count": 108,
   "id": "e959f685-29df-4c30-a17d-0f7196e31be3",
   "metadata": {},
   "outputs": [],
   "source": [
    "kfold = KFold(n_splits=5, shuffle=True, random_state=0)\n",
    "\n",
    "reg = make_pipeline(preprocessor, KNeighborsRegressor(n_neighbors=15, metric=\"manhattan\"))\n",
    "\n",
    "reg.fit(X_train, y_train)\n",
    "\n",
    "# Making the prediction using the testing data\n",
    "y_pred = reg.predict(X_test)"
   ]
  },
  {
   "cell_type": "markdown",
   "id": "b46b577f-baee-4a4d-8070-bb81a8fc4942",
   "metadata": {
    "tags": []
   },
   "source": [
    "<div class=\"alert alert-block alert-info\">\n",
    "    Plotting <b>the Cross-Validated Predictions</b> based on the best parameters for <b>training data</b>\n",
    "</div>"
   ]
  },
  {
   "cell_type": "code",
   "execution_count": 109,
   "id": "de6055f7-520f-4979-8753-89d059bca539",
   "metadata": {},
   "outputs": [
    {
     "data": {
      "image/png": "[encoded data removed]",
      "text/plain": [
       "<Figure size 576x432 with 1 Axes>"
      ]
     },
     "metadata": {},
     "output_type": "display_data"
    }
   ],
   "source": [
    "# Making the prediction using the testing data\n",
    "plot_cross_val_predi(reg, \"KNeighbors\", X_train, y_train, cv=kfold)"
   ]
  },
  {
   "cell_type": "markdown",
   "id": "2ac1d0df-48dc-4e96-8b3b-326bf4541a3e",
   "metadata": {},
   "source": [
    "<div style=\"background-color: #6D83C5;\" >\n",
    "    <h5 style=\"margin: auto; padding: 20px; color:#fff; \">6.2.4 KNeighbors Features Importance</h5>\n",
    "</div>"
   ]
  },
  {
   "cell_type": "markdown",
   "id": "393fa939-a749-432a-abb2-3ba2f4f22580",
   "metadata": {
    "tags": []
   },
   "source": [
    "<div class=\"alert alert-block alert-info\">\n",
    "    To plot the <b>Features Importance</b>, we are going to use the <b>best  parameters</b> to analyze the model after <b>fitting</b> values</b>\n",
    "</div>"
   ]
  },
  {
   "cell_type": "code",
   "execution_count": 110,
   "id": "908a5162-01c3-465c-9b11-6aa279497bb2",
   "metadata": {},
   "outputs": [
    {
     "data": {
      "text/plain": [
       "Pipeline(steps=[('columntransformer',\n",
       "                 ColumnTransformer(transformers=[('pipeline-1',\n",
       "                                                  Pipeline(steps=[('standardscaler',\n",
       "                                                                   StandardScaler())]),\n",
       "                                                  ['NumberofFloors',\n",
       "                                                   'NumberofBuildings',\n",
       "                                                   'BuildingAge',\n",
       "                                                   'PropertyGFATotal',\n",
       "                                                   'PropertyGFAParking',\n",
       "                                                   'PropertyGFABuilding(s)',\n",
       "                                                   'Electricity_ratio']),\n",
       "                                                 ('pipeline-2',\n",
       "                                                  Pipeline(steps=[('onehotencoder',\n",
       "                                                                   OneHotEncoder())]),\n",
       "                                                  ['Neighborhood',\n",
       "                                                   'renamed_PropertyType'])])),\n",
       "                ('kneighborsregressor',\n",
       "                 KNeighborsRegressor(metric='manhattan', n_neighbors=11))])"
      ]
     },
     "execution_count": 110,
     "metadata": {},
     "output_type": "execute_result"
    }
   ],
   "source": [
    "reg = make_pipeline(preprocessor, KNeighborsRegressor(n_neighbors=11, metric=\"manhattan\"))\n",
    "\n",
    "reg.fit(X_train, y_train)"
   ]
  },
  {
   "cell_type": "markdown",
   "id": "2829fb0a-9764-415c-be4f-6a459430031c",
   "metadata": {
    "tags": []
   },
   "source": [
    "<div class=\"alert alert-block alert-info\">\n",
    "    Plotting <b>the Features Importance</b> based on the best parameters\n",
    "</div>"
   ]
  },
  {
   "cell_type": "code",
   "execution_count": 111,
   "id": "9c013739-58ea-4947-adac-5e20faf1994d",
   "metadata": {},
   "outputs": [
    {
     "data": {
      "image/png": "[encoded data removed]",
      "text/plain": [
       "<Figure size 720x576 with 1 Axes>"
      ]
     },
     "metadata": {},
     "output_type": "display_data"
    }
   ],
   "source": [
    "plot_features_importance(reg, \"KNeighbors\", X_train, y_train, scoring=\"neg_mean_squared_error\")"
   ]
  },
  {
   "cell_type": "markdown",
   "id": "e99094c5-74fd-4bd1-9896-32d71a2bd5a5",
   "metadata": {},
   "source": [
    "<div style=\"background-color: #6D83C5;\" >\n",
    "    <h5 style=\"margin: auto; padding: 20px; color:#fff; \">6.2.5 Find the k Nearest Neighbors</h5>\n",
    "</div>"
   ]
  },
  {
   "cell_type": "markdown",
   "id": "fa8e153e-5bd1-4771-ba52-b24e32de6acf",
   "metadata": {
    "tags": []
   },
   "source": [
    "<div class=\"alert alert-block alert-info\">\n",
    "    We are going to <b>process data</b> directly with <b>make_column_transformer</b> already defined\n",
    "</div>"
   ]
  },
  {
   "cell_type": "code",
   "execution_count": 112,
   "id": "4a512f69-7eb6-47ba-8dd0-b1866800a5fa",
   "metadata": {},
   "outputs": [],
   "source": [
    "X_train_transformed = preprocessor.fit_transform(X_train)"
   ]
  },
  {
   "cell_type": "code",
   "execution_count": 113,
   "id": "e62c917e-099a-4509-b868-963eff0bb122",
   "metadata": {},
   "outputs": [
    {
     "data": {
      "text/plain": [
       "(1085, 28)"
      ]
     },
     "execution_count": 113,
     "metadata": {},
     "output_type": "execute_result"
    }
   ],
   "source": [
    "X_train_transformed.shape"
   ]
  },
  {
   "cell_type": "code",
   "execution_count": 114,
   "id": "acbb5623-d807-4f2a-8e0e-41c984e4d5d5",
   "metadata": {},
   "outputs": [],
   "source": [
    "X_test_transformed = preprocessor.fit_transform(X_test)"
   ]
  },
  {
   "cell_type": "code",
   "execution_count": 115,
   "id": "2a615d7a-7491-415b-b0eb-8bac88df6e71",
   "metadata": {},
   "outputs": [
    {
     "data": {
      "text/plain": [
       "(466, 28)"
      ]
     },
     "execution_count": 115,
     "metadata": {},
     "output_type": "execute_result"
    }
   ],
   "source": [
    "X_test_transformed.shape"
   ]
  },
  {
   "cell_type": "markdown",
   "id": "977935fd-3706-49f2-95c5-38e58c74469b",
   "metadata": {
    "tags": []
   },
   "source": [
    "<div class=\"alert alert-block alert-info\">\n",
    "    Now, we are going to select <b>one random sample</b> of X_test to find its Neighbors\n",
    "</div>"
   ]
  },
  {
   "cell_type": "code",
   "execution_count": 116,
   "id": "20d266ac-ca73-4394-8448-48363adfe762",
   "metadata": {
    "tags": []
   },
   "outputs": [
    {
     "data": {
      "text/plain": [
       "array([172])"
      ]
     },
     "execution_count": 116,
     "metadata": {},
     "output_type": "execute_result"
    }
   ],
   "source": [
    "seed(0)\n",
    "\n",
    "# considering the X_test shape\n",
    "indice = randint(0, 496, 1)\n",
    "indice"
   ]
  },
  {
   "cell_type": "code",
   "execution_count": 117,
   "id": "d256ee46-43b7-4524-b6ac-1c31911019a6",
   "metadata": {},
   "outputs": [],
   "source": [
    "X_test_sample_transformed = X_test_transformed[indice]"
   ]
  },
  {
   "cell_type": "markdown",
   "id": "6d79e9f2-6c93-4096-9931-c7e0617aba1c",
   "metadata": {
    "tags": []
   },
   "source": [
    "<div class=\"alert alert-block alert-info\">\n",
    "    Initializing model\n",
    "</div>"
   ]
  },
  {
   "cell_type": "code",
   "execution_count": 118,
   "id": "ef04fb04-c644-4e50-a2fd-2f11adbebbb1",
   "metadata": {},
   "outputs": [],
   "source": [
    "nbrs = NearestNeighbors(n_neighbors=11, algorithm=\"ball_tree\")"
   ]
  },
  {
   "cell_type": "markdown",
   "id": "4b8ce240-e5d3-401d-aca6-2c225bf352aa",
   "metadata": {
    "tags": []
   },
   "source": [
    "<div class=\"alert alert-block alert-info\">\n",
    "    Fitting the NearestNeighbors\n",
    "</div>"
   ]
  },
  {
   "cell_type": "code",
   "execution_count": 119,
   "id": "b51317c7-b29e-46b4-8598-498af6311a42",
   "metadata": {},
   "outputs": [
    {
     "data": {
      "text/plain": [
       "NearestNeighbors(algorithm='ball_tree', n_neighbors=11)"
      ]
     },
     "execution_count": 119,
     "metadata": {},
     "output_type": "execute_result"
    }
   ],
   "source": [
    "nbrs.fit(X_train_transformed)"
   ]
  },
  {
   "cell_type": "markdown",
   "id": "895976ad-7030-4947-b4ab-84c64f1432af",
   "metadata": {
    "tags": []
   },
   "source": [
    "<div class=\"alert alert-block alert-info\">\n",
    "    Finding the neighbors\n",
    "</div>"
   ]
  },
  {
   "cell_type": "code",
   "execution_count": 120,
   "id": "0794b862-2658-451c-be64-411b92211404",
   "metadata": {},
   "outputs": [],
   "source": [
    "distances, indices = nbrs.kneighbors(X_test_sample_transformed)"
   ]
  },
  {
   "cell_type": "markdown",
   "id": "556cbae6-0a0b-4c3f-8c9a-8a6fff6bf646",
   "metadata": {
    "tags": []
   },
   "source": [
    "<div class=\"alert alert-block alert-info\">\n",
    "    Sample selected\n",
    "</div>"
   ]
  },
  {
   "cell_type": "code",
   "execution_count": 121,
   "id": "2893a366-1fba-40bc-a6a0-9ab32e09a202",
   "metadata": {},
   "outputs": [
    {
     "data": {
      "text/html": [
       "<div>\n",
       "<style scoped>\n",
       "    .dataframe tbody tr th:only-of-type {\n",
       "        vertical-align: middle;\n",
       "    }\n",
       "\n",
       "    .dataframe tbody tr th {\n",
       "        vertical-align: top;\n",
       "    }\n",
       "\n",
       "    .dataframe thead th {\n",
       "        text-align: right;\n",
       "    }\n",
       "</style>\n",
       "<table border=\"1\" class=\"dataframe\">\n",
       "  <thead>\n",
       "    <tr style=\"text-align: right;\">\n",
       "      <th></th>\n",
       "      <th>NumberofFloors</th>\n",
       "      <th>NumberofBuildings</th>\n",
       "      <th>BuildingAge</th>\n",
       "      <th>PropertyGFATotal</th>\n",
       "      <th>PropertyGFAParking</th>\n",
       "      <th>PropertyGFABuilding(s)</th>\n",
       "      <th>Neighborhood</th>\n",
       "      <th>renamed_PropertyType</th>\n",
       "      <th>Electricity_ratio</th>\n",
       "    </tr>\n",
       "  </thead>\n",
       "  <tbody>\n",
       "    <tr>\n",
       "      <th>1194</th>\n",
       "      <td>1.0</td>\n",
       "      <td>1.0</td>\n",
       "      <td>61.0</td>\n",
       "      <td>16.161447</td>\n",
       "      <td>0.0</td>\n",
       "      <td>16.161447</td>\n",
       "      <td>GREATER DUWAMISH</td>\n",
       "      <td>Warehouse</td>\n",
       "      <td>51.23561</td>\n",
       "    </tr>\n",
       "  </tbody>\n",
       "</table>\n",
       "</div>"
      ],
      "text/plain": [
       "      NumberofFloors  NumberofBuildings  BuildingAge  PropertyGFATotal  \\\n",
       "1194             1.0                1.0         61.0         16.161447   \n",
       "\n",
       "      PropertyGFAParking  PropertyGFABuilding(s)      Neighborhood  \\\n",
       "1194                 0.0               16.161447  GREATER DUWAMISH   \n",
       "\n",
       "     renamed_PropertyType  Electricity_ratio  \n",
       "1194            Warehouse           51.23561  "
      ]
     },
     "execution_count": 121,
     "metadata": {},
     "output_type": "execute_result"
    }
   ],
   "source": [
    "X_test.iloc[indice]"
   ]
  },
  {
   "cell_type": "markdown",
   "id": "2c0487dc-2973-48a0-956e-f80d2b6ee177",
   "metadata": {
    "tags": []
   },
   "source": [
    "<div class=\"alert alert-block alert-info\">\n",
    "    Sample selected neighbors\n",
    "</div>"
   ]
  },
  {
   "cell_type": "code",
   "execution_count": 122,
   "id": "d6179345-e036-48c5-836c-7789aaa64f5a",
   "metadata": {},
   "outputs": [
    {
     "data": {
      "text/html": [
       "<div>\n",
       "<style scoped>\n",
       "    .dataframe tbody tr th:only-of-type {\n",
       "        vertical-align: middle;\n",
       "    }\n",
       "\n",
       "    .dataframe tbody tr th {\n",
       "        vertical-align: top;\n",
       "    }\n",
       "\n",
       "    .dataframe thead th {\n",
       "        text-align: right;\n",
       "    }\n",
       "</style>\n",
       "<table border=\"1\" class=\"dataframe\">\n",
       "  <thead>\n",
       "    <tr style=\"text-align: right;\">\n",
       "      <th></th>\n",
       "      <th>NumberofFloors</th>\n",
       "      <th>NumberofBuildings</th>\n",
       "      <th>BuildingAge</th>\n",
       "      <th>PropertyGFATotal</th>\n",
       "      <th>PropertyGFAParking</th>\n",
       "      <th>PropertyGFABuilding(s)</th>\n",
       "      <th>Neighborhood</th>\n",
       "      <th>renamed_PropertyType</th>\n",
       "      <th>Electricity_ratio</th>\n",
       "    </tr>\n",
       "  </thead>\n",
       "  <tbody>\n",
       "    <tr>\n",
       "      <th>1198</th>\n",
       "      <td>1.0</td>\n",
       "      <td>1.0</td>\n",
       "      <td>52.0</td>\n",
       "      <td>15.758900</td>\n",
       "      <td>0.0</td>\n",
       "      <td>15.758900</td>\n",
       "      <td>GREATER DUWAMISH</td>\n",
       "      <td>Warehouse</td>\n",
       "      <td>55.02730</td>\n",
       "    </tr>\n",
       "    <tr>\n",
       "      <th>1179</th>\n",
       "      <td>2.0</td>\n",
       "      <td>1.0</td>\n",
       "      <td>59.0</td>\n",
       "      <td>16.501713</td>\n",
       "      <td>0.0</td>\n",
       "      <td>16.501713</td>\n",
       "      <td>GREATER DUWAMISH</td>\n",
       "      <td>Warehouse</td>\n",
       "      <td>66.07499</td>\n",
       "    </tr>\n",
       "    <tr>\n",
       "      <th>1161</th>\n",
       "      <td>1.0</td>\n",
       "      <td>1.0</td>\n",
       "      <td>54.0</td>\n",
       "      <td>15.611515</td>\n",
       "      <td>0.0</td>\n",
       "      <td>15.611515</td>\n",
       "      <td>GREATER DUWAMISH</td>\n",
       "      <td>Warehouse</td>\n",
       "      <td>56.91532</td>\n",
       "    </tr>\n",
       "    <tr>\n",
       "      <th>1286</th>\n",
       "      <td>1.0</td>\n",
       "      <td>1.0</td>\n",
       "      <td>61.0</td>\n",
       "      <td>15.708599</td>\n",
       "      <td>0.0</td>\n",
       "      <td>15.708599</td>\n",
       "      <td>GREATER DUWAMISH</td>\n",
       "      <td>Warehouse</td>\n",
       "      <td>38.28613</td>\n",
       "    </tr>\n",
       "    <tr>\n",
       "      <th>1204</th>\n",
       "      <td>1.0</td>\n",
       "      <td>1.0</td>\n",
       "      <td>43.0</td>\n",
       "      <td>15.883407</td>\n",
       "      <td>0.0</td>\n",
       "      <td>15.883407</td>\n",
       "      <td>GREATER DUWAMISH</td>\n",
       "      <td>Warehouse</td>\n",
       "      <td>63.29032</td>\n",
       "    </tr>\n",
       "    <tr>\n",
       "      <th>1195</th>\n",
       "      <td>2.0</td>\n",
       "      <td>1.0</td>\n",
       "      <td>69.0</td>\n",
       "      <td>16.819630</td>\n",
       "      <td>0.0</td>\n",
       "      <td>16.819630</td>\n",
       "      <td>GREATER DUWAMISH</td>\n",
       "      <td>Warehouse</td>\n",
       "      <td>57.04262</td>\n",
       "    </tr>\n",
       "    <tr>\n",
       "      <th>1167</th>\n",
       "      <td>1.0</td>\n",
       "      <td>1.0</td>\n",
       "      <td>41.0</td>\n",
       "      <td>15.683132</td>\n",
       "      <td>0.0</td>\n",
       "      <td>15.683132</td>\n",
       "      <td>GREATER DUWAMISH</td>\n",
       "      <td>Warehouse</td>\n",
       "      <td>51.76079</td>\n",
       "    </tr>\n",
       "    <tr>\n",
       "      <th>1350</th>\n",
       "      <td>1.0</td>\n",
       "      <td>1.0</td>\n",
       "      <td>59.0</td>\n",
       "      <td>15.458791</td>\n",
       "      <td>0.0</td>\n",
       "      <td>15.458791</td>\n",
       "      <td>GREATER DUWAMISH</td>\n",
       "      <td>Warehouse</td>\n",
       "      <td>50.25414</td>\n",
       "    </tr>\n",
       "    <tr>\n",
       "      <th>1318</th>\n",
       "      <td>1.0</td>\n",
       "      <td>1.0</td>\n",
       "      <td>53.0</td>\n",
       "      <td>15.559138</td>\n",
       "      <td>0.0</td>\n",
       "      <td>15.559138</td>\n",
       "      <td>GREATER DUWAMISH</td>\n",
       "      <td>Warehouse</td>\n",
       "      <td>62.11921</td>\n",
       "    </tr>\n",
       "    <tr>\n",
       "      <th>1333</th>\n",
       "      <td>1.0</td>\n",
       "      <td>1.0</td>\n",
       "      <td>80.0</td>\n",
       "      <td>15.577252</td>\n",
       "      <td>0.0</td>\n",
       "      <td>15.577252</td>\n",
       "      <td>GREATER DUWAMISH</td>\n",
       "      <td>Warehouse</td>\n",
       "      <td>53.12373</td>\n",
       "    </tr>\n",
       "    <tr>\n",
       "      <th>1174</th>\n",
       "      <td>1.0</td>\n",
       "      <td>1.0</td>\n",
       "      <td>64.0</td>\n",
       "      <td>15.633449</td>\n",
       "      <td>0.0</td>\n",
       "      <td>15.633449</td>\n",
       "      <td>GREATER DUWAMISH</td>\n",
       "      <td>Warehouse</td>\n",
       "      <td>29.50885</td>\n",
       "    </tr>\n",
       "  </tbody>\n",
       "</table>\n",
       "</div>"
      ],
      "text/plain": [
       "      NumberofFloors  NumberofBuildings  BuildingAge  PropertyGFATotal  \\\n",
       "1198             1.0                1.0         52.0         15.758900   \n",
       "1179             2.0                1.0         59.0         16.501713   \n",
       "1161             1.0                1.0         54.0         15.611515   \n",
       "1286             1.0                1.0         61.0         15.708599   \n",
       "1204             1.0                1.0         43.0         15.883407   \n",
       "1195             2.0                1.0         69.0         16.819630   \n",
       "1167             1.0                1.0         41.0         15.683132   \n",
       "1350             1.0                1.0         59.0         15.458791   \n",
       "1318             1.0                1.0         53.0         15.559138   \n",
       "1333             1.0                1.0         80.0         15.577252   \n",
       "1174             1.0                1.0         64.0         15.633449   \n",
       "\n",
       "      PropertyGFAParking  PropertyGFABuilding(s)      Neighborhood  \\\n",
       "1198                 0.0               15.758900  GREATER DUWAMISH   \n",
       "1179                 0.0               16.501713  GREATER DUWAMISH   \n",
       "1161                 0.0               15.611515  GREATER DUWAMISH   \n",
       "1286                 0.0               15.708599  GREATER DUWAMISH   \n",
       "1204                 0.0               15.883407  GREATER DUWAMISH   \n",
       "1195                 0.0               16.819630  GREATER DUWAMISH   \n",
       "1167                 0.0               15.683132  GREATER DUWAMISH   \n",
       "1350                 0.0               15.458791  GREATER DUWAMISH   \n",
       "1318                 0.0               15.559138  GREATER DUWAMISH   \n",
       "1333                 0.0               15.577252  GREATER DUWAMISH   \n",
       "1174                 0.0               15.633449  GREATER DUWAMISH   \n",
       "\n",
       "     renamed_PropertyType  Electricity_ratio  \n",
       "1198            Warehouse           55.02730  \n",
       "1179            Warehouse           66.07499  \n",
       "1161            Warehouse           56.91532  \n",
       "1286            Warehouse           38.28613  \n",
       "1204            Warehouse           63.29032  \n",
       "1195            Warehouse           57.04262  \n",
       "1167            Warehouse           51.76079  \n",
       "1350            Warehouse           50.25414  \n",
       "1318            Warehouse           62.11921  \n",
       "1333            Warehouse           53.12373  \n",
       "1174            Warehouse           29.50885  "
      ]
     },
     "execution_count": 122,
     "metadata": {},
     "output_type": "execute_result"
    }
   ],
   "source": [
    "X_train.iloc[indices[0].tolist()]"
   ]
  },
  {
   "cell_type": "markdown",
   "id": "90c7e5ea-a226-4940-b733-d4c700be473e",
   "metadata": {
    "tags": []
   },
   "source": [
    "<div class=\"alert alert-block alert-info\">\n",
    "    Mean values for features and target based on neighbors\n",
    "</div>"
   ]
  },
  {
   "cell_type": "code",
   "execution_count": 123,
   "id": "1b00ec24-fbff-4d18-964d-1263b48a0dda",
   "metadata": {},
   "outputs": [
    {
     "data": {
      "text/plain": [
       "NumberofFloors             1.181818\n",
       "NumberofBuildings          1.000000\n",
       "BuildingAge               57.727273\n",
       "PropertyGFATotal          15.835957\n",
       "PropertyGFAParking         0.000000\n",
       "PropertyGFABuilding(s)    15.835957\n",
       "Electricity_ratio         53.036673\n",
       "dtype: float64"
      ]
     },
     "execution_count": 123,
     "metadata": {},
     "output_type": "execute_result"
    }
   ],
   "source": [
    "X_train.iloc[indices[0].tolist()].mean()"
   ]
  },
  {
   "cell_type": "code",
   "execution_count": 124,
   "id": "4e642ca8-a5f8-40fd-bb99-6e954286fb03",
   "metadata": {
    "tags": []
   },
   "outputs": [
    {
     "data": {
      "text/plain": [
       "21.038346637900716"
      ]
     },
     "execution_count": 124,
     "metadata": {},
     "output_type": "execute_result"
    }
   ],
   "source": [
    "y_train.iloc[indices[0].tolist()].mean()"
   ]
  },
  {
   "cell_type": "markdown",
   "id": "b9c3b4f1-c126-4469-a77a-42e03c191817",
   "metadata": {
    "tags": []
   },
   "source": [
    "<div class=\"alert alert-block alert-info\">\n",
    "    Real values for test\n",
    "</div>"
   ]
  },
  {
   "cell_type": "code",
   "execution_count": 125,
   "id": "c9382108-37b5-4f2d-8d94-a31b3511d672",
   "metadata": {
    "tags": []
   },
   "outputs": [
    {
     "data": {
      "text/plain": [
       "1194    21.11139\n",
       "Name: SiteEnergyUse(kBtu), dtype: float64"
      ]
     },
     "execution_count": 125,
     "metadata": {},
     "output_type": "execute_result"
    }
   ],
   "source": [
    "y_test.iloc[indice]"
   ]
  },
  {
   "cell_type": "markdown",
   "id": "5df696a4-8160-4ede-81b6-5910c1b953c8",
   "metadata": {
    "tags": []
   },
   "source": [
    "<div class=\"alert alert-block alert-success\">\n",
    "    At this point, we can see that the prediction is very close to real value\n",
    "</div>"
   ]
  },
  {
   "cell_type": "markdown",
   "id": "3d1f6e64-5213-4a51-aa2b-b081069343c8",
   "metadata": {},
   "source": [
    "<div style=\"background-color: #6D83C5;\" >\n",
    "    <h5 style=\"margin: auto; padding: 20px; color:#fff; \">6.2.6 Concatenating the results to compare</h5>\n",
    "</div>"
   ]
  },
  {
   "cell_type": "code",
   "execution_count": 126,
   "id": "fd1133b0-5ad0-4ac1-a6cd-5903c8df393c",
   "metadata": {},
   "outputs": [],
   "source": [
    "reg = make_pipeline(preprocessor, KNeighborsRegressor(n_neighbors=11, metric=\"manhattan\"))\n",
    "\n",
    "reg.fit(X_train, y_train)\n",
    "\n",
    "# Making the prediction using the testing data\n",
    "y_pred = reg.predict(X_test)"
   ]
  },
  {
   "cell_type": "markdown",
   "id": "2c2cc0c7-4c8f-4112-8ba8-161342643f65",
   "metadata": {
    "tags": []
   },
   "source": [
    "<div class=\"alert alert-block alert-info\">\n",
    "    Adding the prediction to compare at the end\n",
    "</div>"
   ]
  },
  {
   "cell_type": "code",
   "execution_count": 127,
   "id": "ea71b748-8adb-4d69-994f-d241c144de02",
   "metadata": {},
   "outputs": [],
   "source": [
    "# Concatenating predictions to compare against y_test_transformed\n",
    "df_temp = pd.DataFrame({\n",
    "    \"Model\" : \"KNeighbors\",\n",
    "    \"y_pred\" : y_pred\n",
    "})"
   ]
  },
  {
   "cell_type": "code",
   "execution_count": 128,
   "id": "9a70fb24-1c02-49a1-b255-0ae2ddfe9fb2",
   "metadata": {},
   "outputs": [],
   "source": [
    "# Concatenating predictions to compare against y_test_transformed\n",
    "df_y_pred_gsc = pd.concat([df_y_pred_gsc, df_temp])"
   ]
  },
  {
   "cell_type": "markdown",
   "id": "5ee505c1-dec1-458f-95cf-7431588ac8fe",
   "metadata": {
    "tags": []
   },
   "source": [
    "<div class=\"alert alert-block alert-info\">\n",
    "    Adding metrics to compare at the end\n",
    "</div>"
   ]
  },
  {
   "cell_type": "code",
   "execution_count": 129,
   "id": "29d9de95-ba9c-4c9a-99c4-e8cc5a435feb",
   "metadata": {},
   "outputs": [],
   "source": [
    "# Adding results into LIST\n",
    "LIST_MODEL_GSC.append(\"KNeighbors\")\n",
    "LIST_MAE_GSC.append(round(abs(df_results.iloc[search.best_index_][\"mean_test_MAE\"]), 3))\n",
    "LIST_RMSE_GSC.append(round(math.sqrt(abs(df_results.iloc[search.best_index_][\"mean_test_MSE\"])), 3))\n",
    "LIST_R2SCORE_GSC.append(round(search.best_score_, 3))\n",
    "LIST_DURATION_GSC.append(round(df_results.iloc[search.best_index_][\"mean_score_time\"], 3))"
   ]
  },
  {
   "cell_type": "markdown",
   "id": "d0e8dadb-a552-49a7-b365-a0cf75e54cf9",
   "metadata": {},
   "source": [
    "<div style=\"background-color: #6D83C5;\" >\n",
    "    <h4 style=\"margin: auto; padding: 20px; color:#fff; \">6.5. Random Forest optimization</h4>\n",
    "</div>"
   ]
  },
  {
   "cell_type": "markdown",
   "id": "7b35cf7f-a06c-4bdd-ae57-9d7a0173c20a",
   "metadata": {
    "tags": []
   },
   "source": [
    "<div class=\"alert alert-block alert-info\">\n",
    "    Initializing model\n",
    "</div>"
   ]
  },
  {
   "cell_type": "code",
   "execution_count": 147,
   "id": "5c6ab499-ffff-4391-9e2b-6d9d10c61715",
   "metadata": {},
   "outputs": [],
   "source": [
    "regr = RandomForestRegressor()"
   ]
  },
  {
   "cell_type": "markdown",
   "id": "e920a3ec-c08e-4bf7-b0c8-d40b44a2628d",
   "metadata": {
    "tags": []
   },
   "source": [
    "<div class=\"alert alert-block alert-info\">\n",
    "    Data preprocessing based on the pipelines and the regressors setup\n",
    "</div>"
   ]
  },
  {
   "cell_type": "code",
   "execution_count": 148,
   "id": "e53d8482-4e37-40aa-ab46-27fb2a7a5a48",
   "metadata": {},
   "outputs": [],
   "source": [
    "reg = make_pipeline(preprocessor, regr)"
   ]
  },
  {
   "cell_type": "markdown",
   "id": "b5e074ba-e9aa-4fa2-ba12-4f01da72de59",
   "metadata": {
    "tags": []
   },
   "source": [
    "<div class=\"alert alert-block alert-info\">\n",
    "    Identifying the names of each parameter\n",
    "</div>"
   ]
  },
  {
   "cell_type": "code",
   "execution_count": 149,
   "id": "100b2ca6-b942-4ce6-9f2c-a1efd066cf40",
   "metadata": {},
   "outputs": [
    {
     "data": {
      "text/plain": [
       "['columntransformer',\n",
       " 'columntransformer__n_jobs',\n",
       " 'columntransformer__pipeline-1',\n",
       " 'columntransformer__pipeline-1__memory',\n",
       " 'columntransformer__pipeline-1__standardscaler',\n",
       " 'columntransformer__pipeline-1__standardscaler__copy',\n",
       " 'columntransformer__pipeline-1__standardscaler__with_mean',\n",
       " 'columntransformer__pipeline-1__standardscaler__with_std',\n",
       " 'columntransformer__pipeline-1__steps',\n",
       " 'columntransformer__pipeline-1__verbose',\n",
       " 'columntransformer__pipeline-2',\n",
       " 'columntransformer__pipeline-2__memory',\n",
       " 'columntransformer__pipeline-2__onehotencoder',\n",
       " 'columntransformer__pipeline-2__onehotencoder__categories',\n",
       " 'columntransformer__pipeline-2__onehotencoder__drop',\n",
       " 'columntransformer__pipeline-2__onehotencoder__dtype',\n",
       " 'columntransformer__pipeline-2__onehotencoder__handle_unknown',\n",
       " 'columntransformer__pipeline-2__onehotencoder__sparse',\n",
       " 'columntransformer__pipeline-2__steps',\n",
       " 'columntransformer__pipeline-2__verbose',\n",
       " 'columntransformer__remainder',\n",
       " 'columntransformer__sparse_threshold',\n",
       " 'columntransformer__transformer_weights',\n",
       " 'columntransformer__transformers',\n",
       " 'columntransformer__verbose',\n",
       " 'memory',\n",
       " 'randomforestregressor',\n",
       " 'randomforestregressor__bootstrap',\n",
       " 'randomforestregressor__ccp_alpha',\n",
       " 'randomforestregressor__criterion',\n",
       " 'randomforestregressor__max_depth',\n",
       " 'randomforestregressor__max_features',\n",
       " 'randomforestregressor__max_leaf_nodes',\n",
       " 'randomforestregressor__max_samples',\n",
       " 'randomforestregressor__min_impurity_decrease',\n",
       " 'randomforestregressor__min_impurity_split',\n",
       " 'randomforestregressor__min_samples_leaf',\n",
       " 'randomforestregressor__min_samples_split',\n",
       " 'randomforestregressor__min_weight_fraction_leaf',\n",
       " 'randomforestregressor__n_estimators',\n",
       " 'randomforestregressor__n_jobs',\n",
       " 'randomforestregressor__oob_score',\n",
       " 'randomforestregressor__random_state',\n",
       " 'randomforestregressor__verbose',\n",
       " 'randomforestregressor__warm_start',\n",
       " 'steps',\n",
       " 'verbose']"
      ]
     },
     "execution_count": 149,
     "metadata": {},
     "output_type": "execute_result"
    }
   ],
   "source": [
    "sorted(reg.get_params().keys())"
   ]
  },
  {
   "cell_type": "markdown",
   "id": "de986adf-436d-40ad-bbff-2fe369ccbad5",
   "metadata": {
    "tags": []
   },
   "source": [
    "<div class=\"alert alert-block alert-info\">\n",
    "    Parameters settings\n",
    "</div>"
   ]
  },
  {
   "cell_type": "code",
   "execution_count": 150,
   "id": "6276a381-8c56-459b-a868-9b918d0ed1f4",
   "metadata": {},
   "outputs": [],
   "source": [
    "param_grid = {\n",
    "    \"randomforestregressor__bootstrap\" : [True, False],\n",
    "    \"randomforestregressor__max_depth\" : [60, 70, 80, 90, 100, 110],\n",
    "    \"randomforestregressor__max_features\" : [\"auto\", \"log2\", \"sqrt\"],\n",
    "    \"randomforestregressor__min_samples_leaf\" : [1, 2, 3, 4, 5],\n",
    "    \"randomforestregressor__min_samples_split\" : [4, 6, 8, 10, 12],\n",
    "    \"randomforestregressor__n_estimators\" : [100, 200, 300, 1000]\n",
    "}"
   ]
  },
  {
   "cell_type": "markdown",
   "id": "0c7fc995-fe6c-4dfd-b20a-1fe767a768b5",
   "metadata": {
    "tags": []
   },
   "source": [
    "<div class=\"alert alert-block alert-info\">\n",
    "    Executing the model\n",
    "</div>"
   ]
  },
  {
   "cell_type": "code",
   "execution_count": 85,
   "id": "948dfeea-a794-48d6-bdcb-433310b647f0",
   "metadata": {},
   "outputs": [
    {
     "name": "stdout",
     "output_type": "stream",
     "text": [
      "TIEMPO TOTAL:  1954.265\n",
      "Metrics based on the best R²\n",
      "- R²: 0.655\n",
      "- MAE: 0.757\n",
      "- RMSE: 1.049\n",
      "- Duration: 0.1\n",
      "- Parameters: {'randomforestregressor__bootstrap': False, 'randomforestregressor__max_depth': 80, 'randomforestregressor__max_features': 'sqrt', 'randomforestregressor__min_samples_leaf': 3, 'randomforestregressor__min_samples_split': 8, 'randomforestregressor__n_estimators': 300}\n"
     ]
    }
   ],
   "source": [
    "## K-Folds cross-validator\n",
    "kfold = KFold(n_splits=5, shuffle=True, random_state=0)\n",
    "\n",
    "start_time_model = timeit.default_timer()\n",
    "\n",
    "search = GridSearchCV(reg, param_grid, n_jobs=-1, cv=kfold, scoring=SCORINGS, refit=\"R2\", return_train_score=True)\n",
    "\n",
    "search.fit(X_train, y_train)\n",
    "\n",
    "end_time_model =  round(timeit.default_timer() - start_time_model, 3)\n",
    "print(\"TIEMPO TOTAL: \", end_time_model)\n",
    "\n",
    "# Transforming the result to dataframe format\n",
    "df_results = pd.DataFrame(search.cv_results_)\n",
    "\n",
    "# Get the results\n",
    "print(\"Metrics based on the best R2\".translate(SUP))\n",
    "print(\"- R2:\".translate(SUP), round(search.best_score_, 3))\n",
    "print(\"- MAE:\", round(abs(df_results.iloc[search.best_index_][\"mean_test_MAE\"]), 3))\n",
    "print(\"- RMSE:\", round(math.sqrt(abs(df_results.iloc[search.best_index_][\"mean_test_MSE\"])), 3))\n",
    "print(\"- Duration:\", round(df_results.iloc[search.best_index_][\"mean_score_time\"], 3))\n",
    "print(\"- Parameters:\", search.best_params_)"
   ]
  },
  {
   "cell_type": "code",
   "execution_count": null,
   "id": "1b205e9f-ecc1-4743-aa42-4a9f6a55d9b6",
   "metadata": {},
   "outputs": [],
   "source": [
    "## K-Folds cross-validator\n",
    "kfold = KFold(n_splits=5, shuffle=True, random_state=0)\n",
    "\n",
    "start_time_model = timeit.default_timer()\n",
    "\n",
    "search = GridSearchCV(reg, param_grid, n_jobs=-1, cv=kfold, scoring=SCORINGS, refit=\"R2\", return_train_score=True)\n",
    "\n",
    "search.fit(X_train, y_train)\n",
    "\n",
    "end_time_model =  round(timeit.default_timer() - start_time_model, 3)\n",
    "print(\"TIEMPO TOTAL: \", end_time_model)\n",
    "\n",
    "# Transforming the result to dataframe format\n",
    "df_results = pd.DataFrame(search.cv_results_)\n",
    "\n",
    "# Get the results\n",
    "print(\"Metrics based on the best R2\".translate(SUP))\n",
    "print(\"- R2:\".translate(SUP), round(search.best_score_, 3))\n",
    "print(\"- MAE:\", round(abs(df_results.iloc[search.best_index_][\"mean_test_MAE\"]), 3))\n",
    "print(\"- RMSE:\", round(math.sqrt(abs(df_results.iloc[search.best_index_][\"mean_test_MSE\"])), 3))\n",
    "print(\"- Duration:\", round(df_results.iloc[search.best_index_][\"mean_score_time\"], 3))\n",
    "print(\"- Parameters:\", search.best_params_)"
   ]
  },
  {
   "cell_type": "markdown",
   "id": "b09d1538-d8a1-48fa-99b4-1e97de238844",
   "metadata": {
    "tags": []
   },
   "source": [
    "<div class=\"alert alert-block alert-info\">\n",
    "    We got the <b>best parameters</b> so, we are going to <b>analyze</b> them more in details \n",
    "</div>"
   ]
  },
  {
   "cell_type": "markdown",
   "id": "19408ca5-353b-4e52-9712-430c65f6d67a",
   "metadata": {},
   "source": [
    "<div style=\"background-color: #6D83C5;\" >\n",
    "    <h5 style=\"margin: auto; padding: 20px; color:#fff; \">6.5.1 Random Forest Validation curve</h5>\n",
    "</div>"
   ]
  },
  {
   "cell_type": "markdown",
   "id": "1403ba5c-abf4-4519-bacc-2ab770b9ed62",
   "metadata": {
    "tags": []
   },
   "source": [
    "<div class=\"alert alert-block alert-info\">\n",
    "    To plot the <b>Validation curve</b>, we are going to use a <b>range of neighbors</b> to analyze the model through them\n",
    "</div>"
   ]
  },
  {
   "cell_type": "code",
   "execution_count": 145,
   "id": "144474aa-115f-4328-8828-15f2c44e0d3f",
   "metadata": {},
   "outputs": [],
   "source": [
    "kfold = KFold(n_splits=5, shuffle=True, random_state=0)\n",
    "\n",
    "n_estimators = np.unique(np.logspace(0, 1.8, num=30).astype(int))\n",
    "\n",
    "reg = make_pipeline(preprocessor, RandomForestRegressor(bootstrap=False, max_depth=80, max_features=\"sqrt\", min_samples_leaf=3, min_samples_split=8))"
   ]
  },
  {
   "cell_type": "markdown",
   "id": "21464c29-dc77-4f70-a1a6-a3bba0605df8",
   "metadata": {
    "tags": []
   },
   "source": [
    "<div class=\"alert alert-block alert-info\">\n",
    "    Plotting <b>the validacion curve</b> based on the best parameters\n",
    "</div>"
   ]
  },
  {
   "cell_type": "code",
   "execution_count": 146,
   "id": "10de23d5-53f7-4c70-8d93-08a4064eb924",
   "metadata": {},
   "outputs": [
    {
     "data": {
      "image/png": "[encoded data removed]",
      "text/plain": [
       "<Figure size 576x432 with 1 Axes>"
      ]
     },
     "metadata": {},
     "output_type": "display_data"
    }
   ],
   "source": [
    "plot_validation_curve(reg, \"RandomForestRegressor\", X_train, y_train, param_name=\"randomforestregressor__n_estimators\", param_range=n_estimators, param_name_short=\"Estimators\", cv=kfold)"
   ]
  },
  {
   "cell_type": "markdown",
   "id": "c074f651-40b7-449b-8c49-bccc9c1558fb",
   "metadata": {},
   "source": [
    "<div style=\"background-color: #6D83C5;\" >\n",
    "    <h5 style=\"margin: auto; padding: 20px; color:#fff; \">6.5.2 Random Forest Learning curve</h5>\n",
    "</div>"
   ]
  },
  {
   "cell_type": "markdown",
   "id": "17d35d5b-3e84-4c79-86ba-6e75e313cde7",
   "metadata": {
    "tags": []
   },
   "source": [
    "<div class=\"alert alert-block alert-info\">\n",
    "    To plot the <b>Learning curve</b>, we are going to use the <b>best  parameters</b> to analyze the model\n",
    "</div>"
   ]
  },
  {
   "cell_type": "code",
   "execution_count": 74,
   "id": "cf0e6013-a3cb-4da5-920d-471d3c828e1b",
   "metadata": {},
   "outputs": [],
   "source": [
    "kfold = KFold(n_splits=5, shuffle=True, random_state=0)\n",
    "\n",
    "reg = make_pipeline(preprocessor, RandomForestRegressor(bootstrap=True, max_depth=100, max_features=\"auto\", min_samples_leaf=3, min_samples_split=10, n_estimators=100))"
   ]
  },
  {
   "cell_type": "markdown",
   "id": "200e50ab-8317-4313-b27b-dcdd67734ee1",
   "metadata": {
    "tags": []
   },
   "source": [
    "<div class=\"alert alert-block alert-info\">\n",
    "    Plotting <b>the learning curve</b> based on the best parameters\n",
    "</div>"
   ]
  },
  {
   "cell_type": "code",
   "execution_count": 75,
   "id": "26ef3d9c-43f8-4a56-9130-8a41be73a4e1",
   "metadata": {},
   "outputs": [
    {
     "data": {
      "image/png": "[encoded data removed]",
      "text/plain": [
       "<Figure size 576x1296 with 3 Axes>"
      ]
     },
     "metadata": {},
     "output_type": "display_data"
    }
   ],
   "source": [
    "plot_learning_curve(reg, \"RandomForestRegressor\", X_train, y_train, cv=kfold)"
   ]
  },
  {
   "cell_type": "markdown",
   "id": "91f0968b-e633-45eb-87ff-b7ed18bae237",
   "metadata": {},
   "source": [
    "<div style=\"background-color: #6D83C5;\" >\n",
    "    <h5 style=\"margin: auto; padding: 20px; color:#fff; \">6.5.3 Random Forest predictions validations</h5>\n",
    "</div>"
   ]
  },
  {
   "cell_type": "markdown",
   "id": "5d71c2f5-1346-465b-8b21-ce1236ebd6c4",
   "metadata": {
    "tags": []
   },
   "source": [
    "<div class=\"alert alert-block alert-info\">\n",
    "    To plot the <b>predictions validations</b>, we are going to use the <b>best  parameters</b> to analyze the model after <b>fitting</b> and <b>predicting</b> values</b>\n",
    "</div>"
   ]
  },
  {
   "cell_type": "code",
   "execution_count": 76,
   "id": "4c0f5caa-1a2c-447e-a37a-a6326740166f",
   "metadata": {},
   "outputs": [],
   "source": [
    "kfold = KFold(n_splits=5, shuffle=True, random_state=0)\n",
    "\n",
    "reg = make_pipeline(preprocessor, RandomForestRegressor(bootstrap=True, max_depth=100, max_features=\"auto\", min_samples_leaf=3, min_samples_split=10, n_estimators=100))\n",
    "\n",
    "reg.fit(X_train, y_train)\n",
    "\n",
    "# Making the prediction using the testing data\n",
    "y_pred = reg.predict(X_test)"
   ]
  },
  {
   "cell_type": "markdown",
   "id": "4c5e0454-fcbd-4af1-9609-7cd09e0d3e1e",
   "metadata": {
    "tags": []
   },
   "source": [
    "<div class=\"alert alert-block alert-info\">\n",
    "    Plotting <b>the Cross-Validated Predictions</b> based on the best parameters for <b>training data</b>\n",
    "</div>"
   ]
  },
  {
   "cell_type": "code",
   "execution_count": 77,
   "id": "d283afb1-37cf-4a0e-93d0-dec50c76b6d4",
   "metadata": {},
   "outputs": [
    {
     "data": {
      "image/png": "[encoded data removed]",
      "text/plain": [
       "<Figure size 576x432 with 1 Axes>"
      ]
     },
     "metadata": {},
     "output_type": "display_data"
    }
   ],
   "source": [
    "# Making the prediction using the testing data\n",
    "plot_cross_val_predi(reg, \"RandomForestRegressor\", X_train, y_train, cv=kfold)"
   ]
  },
  {
   "cell_type": "markdown",
   "id": "db034aef-a261-4e7a-a441-88e60b8d3d61",
   "metadata": {},
   "source": [
    "<div style=\"background-color: #6D83C5;\" >\n",
    "    <h5 style=\"margin: auto; padding: 20px; color:#fff; \">6.5.4 Random Forest  Features Importance</h5>\n",
    "</div>"
   ]
  },
  {
   "cell_type": "markdown",
   "id": "09d1fbf9-8b85-4232-814d-d28d5176d263",
   "metadata": {
    "tags": []
   },
   "source": [
    "<div class=\"alert alert-block alert-info\">\n",
    "    To plot the <b>Features Importance</b>, we are going to use the <b>best  parameters</b> to analyze the model after <b>fitting</b> values</b>\n",
    "</div>"
   ]
  },
  {
   "cell_type": "code",
   "execution_count": 78,
   "id": "9fa33a2c-b7af-4ebd-8ca2-28776c308876",
   "metadata": {},
   "outputs": [
    {
     "data": {
      "text/plain": [
       "Pipeline(steps=[('columntransformer',\n",
       "                 ColumnTransformer(transformers=[('pipeline-1',\n",
       "                                                  Pipeline(steps=[('standardscaler',\n",
       "                                                                   StandardScaler())]),\n",
       "                                                  ['NumberofFloors',\n",
       "                                                   'NumberofBuildings',\n",
       "                                                   'BuildingAge',\n",
       "                                                   'PropertyGFATotal',\n",
       "                                                   'PropertyGFAParking',\n",
       "                                                   'PropertyGFABuilding(s)',\n",
       "                                                   'Electricity_ratio']),\n",
       "                                                 ('pipeline-2',\n",
       "                                                  Pipeline(steps=[('onehotencoder',\n",
       "                                                                   OneHotEncoder())]),\n",
       "                                                  ['Neighborhood',\n",
       "                                                   'renamed_PropertyType'])])),\n",
       "                ('randomforestregressor',\n",
       "                 RandomForestRegressor(max_depth=100, min_samples_leaf=3,\n",
       "                                       min_samples_split=10))])"
      ]
     },
     "execution_count": 78,
     "metadata": {},
     "output_type": "execute_result"
    }
   ],
   "source": [
    "reg = make_pipeline(preprocessor, RandomForestRegressor(bootstrap=True, max_depth=100, max_features=\"auto\", min_samples_leaf=3, min_samples_split=10, n_estimators=100))\n",
    "\n",
    "reg.fit(X_train, y_train)"
   ]
  },
  {
   "cell_type": "markdown",
   "id": "c2a30d3e-8e89-4f1d-9247-d694cf1a81ba",
   "metadata": {
    "tags": []
   },
   "source": [
    "<div class=\"alert alert-block alert-info\">\n",
    "    Plotting <b>the Features Importance</b> based on the best parameters\n",
    "</div>"
   ]
  },
  {
   "cell_type": "code",
   "execution_count": 79,
   "id": "218e6eb4-c30b-496f-a66f-bda4ccbe8529",
   "metadata": {},
   "outputs": [
    {
     "data": {
      "image/png": "[encoded data removed]",
      "text/plain": [
       "<Figure size 720x576 with 1 Axes>"
      ]
     },
     "metadata": {},
     "output_type": "display_data"
    }
   ],
   "source": [
    "plot_features_importance(reg, \"RandomForestRegressor\", X_train, y_train, scoring=\"neg_mean_squared_error\")"
   ]
  },
  {
   "cell_type": "markdown",
   "id": "acae279c-c20b-4f27-b44c-5571fb0cb992",
   "metadata": {},
   "source": [
    "<div style=\"background-color: #6D83C5;\" >\n",
    "    <h5 style=\"margin: auto; padding: 20px; color:#fff; \">6.5.6 Concatenating the results to compare</h5>\n",
    "</div>"
   ]
  },
  {
   "cell_type": "code",
   "execution_count": 80,
   "id": "bbfb302b-a9da-4924-8864-4f1a6b59ce58",
   "metadata": {},
   "outputs": [],
   "source": [
    "reg = make_pipeline(preprocessor, RandomForestRegressor(bootstrap=True, max_depth=100, max_features=\"auto\", min_samples_leaf=3, min_samples_split=10, n_estimators=100))\n",
    "\n",
    "reg.fit(X_train, y_train)\n",
    "\n",
    "# Making the prediction using the testing data\n",
    "y_pred = reg.predict(X_test)"
   ]
  },
  {
   "cell_type": "markdown",
   "id": "818803ce-7520-4e34-a542-bdd7b9da10a5",
   "metadata": {
    "tags": []
   },
   "source": [
    "<div class=\"alert alert-block alert-info\">\n",
    "    Adding the prediction to compare at the end\n",
    "</div>"
   ]
  },
  {
   "cell_type": "code",
   "execution_count": 81,
   "id": "ef844223-e65f-4a9f-8861-83fd33231082",
   "metadata": {},
   "outputs": [],
   "source": [
    "# Concatenating predictions to compare against y_test_transformed\n",
    "df_temp = pd.DataFrame({\n",
    "    \"Model\" : \"RandomForestRegressor\",\n",
    "    \"y_pred\" : y_pred\n",
    "})"
   ]
  },
  {
   "cell_type": "code",
   "execution_count": 82,
   "id": "d81fc57b-c822-43b0-9a47-b6514ecd6520",
   "metadata": {},
   "outputs": [],
   "source": [
    "# Concatenating predictions to compare against y_test_transformed\n",
    "df_y_pred_gsc = pd.concat([df_y_pred_gsc, df_temp])"
   ]
  },
  {
   "cell_type": "markdown",
   "id": "7e7113e6-d159-4345-a3d8-075f9ba5c579",
   "metadata": {
    "tags": []
   },
   "source": [
    "<div class=\"alert alert-block alert-info\">\n",
    "    Adding metrics to compare at the end\n",
    "</div>"
   ]
  },
  {
   "cell_type": "code",
   "execution_count": 83,
   "id": "0c9fa445-81fb-4da8-92c3-7944aef7a56e",
   "metadata": {},
   "outputs": [],
   "source": [
    "# Adding results into LIST\n",
    "LIST_MODEL_GSC.append(\"KNeighbors\")\n",
    "LIST_MAE_GSC.append(round(abs(df_results.iloc[search.best_index_][\"mean_test_MAE\"]), 3))\n",
    "LIST_RMSE_GSC.append(round(math.sqrt(abs(df_results.iloc[search.best_index_][\"mean_test_MSE\"])), 3))\n",
    "LIST_R2SCORE_GSC.append(round(search.best_score_, 3))\n",
    "LIST_DURATION_GSC.append(round(df_results.iloc[search.best_index_][\"mean_score_time\"], 3))"
   ]
  },
  {
   "cell_type": "markdown",
   "id": "26882e93-efc1-4dde-8f17-b85233f484b1",
   "metadata": {
    "tags": []
   },
   "source": [
    "<div class=\"alert alert-block alert-danger\">\n",
    "    <b>Flag position</b>\n",
    "</div>"
   ]
  },
  {
   "cell_type": "code",
   "execution_count": 84,
   "id": "d84ae911-8bd9-401e-b282-fd2433209844",
   "metadata": {},
   "outputs": [
    {
     "ename": "NameError",
     "evalue": "name 'XXX' is not defined",
     "output_type": "error",
     "traceback": [
      "\u001b[1;31m---------------------------------------------------------------------------\u001b[0m",
      "\u001b[1;31mNameError\u001b[0m                                 Traceback (most recent call last)",
      "\u001b[1;32m<ipython-input-84-e9829dade586>\u001b[0m in \u001b[0;36m<module>\u001b[1;34m\u001b[0m\n\u001b[1;32m----> 1\u001b[1;33m \u001b[0mXXX\u001b[0m\u001b[1;33m\u001b[0m\u001b[1;33m\u001b[0m\u001b[0m\n\u001b[0m",
      "\u001b[1;31mNameError\u001b[0m: name 'XXX' is not defined"
     ]
    }
   ],
   "source": [
    "XXX"
   ]
  },
  {
   "cell_type": "markdown",
   "id": "8c2b7d11-76ed-47ed-85f1-cfa322a509de",
   "metadata": {},
   "source": [
    "<div style=\"background-color: #6D83C5;\" >\n",
    "    <h1 style=\"margin: auto; padding: 20px; color:#fff; \">XXXXXXXXXXXXXXXXXXXXXXXXXXXXX</h1>\n",
    "</div>"
   ]
  },
  {
   "cell_type": "markdown",
   "id": "e364b311-43f8-4c6e-9b74-a6ccefdcc56a",
   "metadata": {},
   "source": [
    "<div style=\"background-color: #6D83C5;\" >\n",
    "    <h4 style=\"margin: auto; padding: 20px; color:#fff; \">6.2. Linear Regression optimization</h4>\n",
    "</div>"
   ]
  },
  {
   "cell_type": "code",
   "execution_count": null,
   "id": "a2b96c1b-4772-4dc9-8720-76237539e68e",
   "metadata": {},
   "outputs": [],
   "source": [
    "from sklearn.preprocessing import PolynomialFeatures"
   ]
  },
  {
   "cell_type": "code",
   "execution_count": null,
   "id": "309276cd-3827-462b-996e-6a46584a37a7",
   "metadata": {},
   "outputs": [],
   "source": []
  },
  {
   "cell_type": "markdown",
   "id": "a0700252-a65b-497e-b9ab-d9ad2dd28f94",
   "metadata": {
    "tags": []
   },
   "source": [
    "<div class=\"alert alert-block alert-info\">\n",
    "    Initializing model\n",
    "</div>"
   ]
  },
  {
   "cell_type": "code",
   "execution_count": null,
   "id": "16a58515-ab2e-442f-b394-930ba8128fe1",
   "metadata": {
    "tags": []
   },
   "outputs": [],
   "source": [
    "poly = PolynomialFeatures()"
   ]
  },
  {
   "cell_type": "markdown",
   "id": "ef846528-8d5b-46ba-a1e3-02ce394526e5",
   "metadata": {
    "tags": []
   },
   "source": [
    "<div class=\"alert alert-block alert-info\">\n",
    "    Data preprocessing based on the pipelines and the regressors setup\n",
    "</div>"
   ]
  },
  {
   "cell_type": "code",
   "execution_count": null,
   "id": "daac7941-cb0c-433e-b040-dac6dc7f013b",
   "metadata": {},
   "outputs": [],
   "source": [
    "poly_reg = make_pipeline(preprocessor, poly)"
   ]
  },
  {
   "cell_type": "markdown",
   "id": "adcc2465-3615-45ca-86d4-3aacb87863e0",
   "metadata": {
    "tags": []
   },
   "source": [
    "<div class=\"alert alert-block alert-info\">\n",
    "    Identifying the names of each parameter\n",
    "</div>"
   ]
  },
  {
   "cell_type": "code",
   "execution_count": null,
   "id": "9a765320-6879-4ef6-bf4e-d27a6cd1c29d",
   "metadata": {},
   "outputs": [],
   "source": [
    "sorted(poly_reg.get_params().keys())"
   ]
  },
  {
   "cell_type": "markdown",
   "id": "59207ef5-a8a6-4ef5-9953-2fa3350f7276",
   "metadata": {
    "tags": []
   },
   "source": [
    "<div class=\"alert alert-block alert-info\">\n",
    "    Parameters settings\n",
    "</div>"
   ]
  },
  {
   "cell_type": "code",
   "execution_count": null,
   "id": "490b5de5-c3e1-4ed4-bf58-f49571a84c30",
   "metadata": {},
   "outputs": [],
   "source": [
    "param_grid = {\n",
    "    \"polynomialfeatures__degree\" : [2, 3, 4, 5],\n",
    "}"
   ]
  },
  {
   "cell_type": "markdown",
   "id": "5f93417f-79cb-40a1-91db-3a435d0c99d2",
   "metadata": {
    "tags": []
   },
   "source": [
    "<div class=\"alert alert-block alert-info\">\n",
    "    Executing the model\n",
    "</div>"
   ]
  },
  {
   "cell_type": "code",
   "execution_count": null,
   "id": "35f7c54c-29e9-4c3d-b69b-53d9f484e8ff",
   "metadata": {},
   "outputs": [],
   "source": [
    "# K-Folds cross-validator\n",
    "kfold = KFold(n_splits=5, shuffle=True, random_state=0)\n",
    "\n",
    "search = GridSearchCV(poly_reg, param_grid, n_jobs=-1, cv=kfold, scoring=SCORINGS, refit=\"R2\", return_train_score=True)\n",
    "\n",
    "search.fit(X_train, y_train)\n",
    "\n",
    "# Transforming the result to dataframe format\n",
    "df_results = pd.DataFrame(search.cv_results_)\n",
    "\n",
    "# Get the results\n",
    "print(\"Metrics based on the best R2\".translate(SUP))\n",
    "print(\"- R2:\".translate(SUP), round(search.best_score_, 3))\n",
    "print(\"- MAE:\", round(abs(df_results.iloc[search.best_index_][\"mean_test_MAE\"]), 3))\n",
    "print(\"- RMSE:\", round(math.sqrt(abs(df_results.iloc[search.best_index_][\"mean_test_MSE\"])), 3))\n",
    "print(\"- Duration:\", round(df_results.iloc[search.best_index_][\"mean_score_time\"], 3))\n",
    "print(\"- Parameters:\", search.best_params_)"
   ]
  },
  {
   "cell_type": "code",
   "execution_count": null,
   "id": "04bb8cd4-5f4e-4908-ae5a-9ab0df32096e",
   "metadata": {},
   "outputs": [],
   "source": []
  },
  {
   "cell_type": "code",
   "execution_count": null,
   "id": "ec61d8f4-eb88-4de4-acc2-1f52e15589bd",
   "metadata": {},
   "outputs": [],
   "source": []
  },
  {
   "cell_type": "code",
   "execution_count": null,
   "id": "ea198fbb-959b-422f-ac84-4b61744cb3a2",
   "metadata": {},
   "outputs": [],
   "source": []
  },
  {
   "cell_type": "code",
   "execution_count": null,
   "id": "e4bc0bcb-ee3c-4af3-beb1-0e6d5060887e",
   "metadata": {},
   "outputs": [],
   "source": []
  },
  {
   "cell_type": "code",
   "execution_count": null,
   "id": "7ef72029-7fe7-4b28-bf85-65bebc5a4b8a",
   "metadata": {},
   "outputs": [],
   "source": []
  },
  {
   "cell_type": "code",
   "execution_count": null,
   "id": "15057cdf-c1c4-41b4-b520-05a200b2c611",
   "metadata": {},
   "outputs": [],
   "source": []
  },
  {
   "cell_type": "code",
   "execution_count": null,
   "id": "e726fd21-adda-4276-93a6-6c8126766e68",
   "metadata": {},
   "outputs": [],
   "source": []
  },
  {
   "cell_type": "markdown",
   "id": "0404e094-0583-4981-a05b-363d76f6b2db",
   "metadata": {
    "tags": []
   },
   "source": [
    "<div class=\"alert alert-block alert-danger\">\n",
    "    <b>Flag position</b>\n",
    "</div>"
   ]
  },
  {
   "cell_type": "code",
   "execution_count": null,
   "id": "2eb37292-6bb7-4156-84ae-1b2dd3f1610f",
   "metadata": {},
   "outputs": [],
   "source": [
    "from sklearn.preprocessing import PolynomialFeatures"
   ]
  },
  {
   "cell_type": "code",
   "execution_count": null,
   "id": "3ccd36c6-b339-4209-a8cc-0b0deb6a0ddb",
   "metadata": {},
   "outputs": [],
   "source": [
    "poly = PolynomialFeatures(degree=2)"
   ]
  },
  {
   "cell_type": "code",
   "execution_count": null,
   "id": "7b91cd5b-050a-4063-a996-79429f215907",
   "metadata": {},
   "outputs": [],
   "source": [
    "poly_reg = make_pipeline(preprocessor, poly)"
   ]
  },
  {
   "cell_type": "code",
   "execution_count": null,
   "id": "8a577341-b9fd-4a3e-9306-86b6bae6ac7c",
   "metadata": {},
   "outputs": [],
   "source": [
    "X_train_poly = poly_reg.fit_transform(X_train)"
   ]
  },
  {
   "cell_type": "code",
   "execution_count": null,
   "id": "c6e97f5d-e3d5-4df2-9562-3a44923fde81",
   "metadata": {},
   "outputs": [],
   "source": [
    "poly_reg.fit(X_train, y_train)"
   ]
  },
  {
   "cell_type": "code",
   "execution_count": null,
   "id": "9ff2bad4-7da4-45a2-be58-3e1946cd73ca",
   "metadata": {},
   "outputs": [],
   "source": []
  },
  {
   "cell_type": "code",
   "execution_count": null,
   "id": "aa0352fd-1f41-4a05-93a0-b23bdb37b097",
   "metadata": {},
   "outputs": [],
   "source": [
    "linreg = LinearRegression()"
   ]
  },
  {
   "cell_type": "code",
   "execution_count": null,
   "id": "552a7ec8-9376-4eea-8608-fbf42be4f8ec",
   "metadata": {},
   "outputs": [],
   "source": [
    "linreg.fit(X_train_poly, y_train)"
   ]
  },
  {
   "cell_type": "code",
   "execution_count": null,
   "id": "4f88f413-8bfe-45d8-84c0-671f6e275dd9",
   "metadata": {},
   "outputs": [],
   "source": [
    "y_pred = linreg.predict(poly_reg.fit_transform(X_test))"
   ]
  },
  {
   "cell_type": "code",
   "execution_count": null,
   "id": "c9474f1b-2a9c-480a-a6af-87da73ba96d4",
   "metadata": {},
   "outputs": [],
   "source": [
    "y_pred.shape"
   ]
  },
  {
   "cell_type": "code",
   "execution_count": null,
   "id": "604120da-d320-43c1-8db7-c4277b23f8fd",
   "metadata": {},
   "outputs": [],
   "source": [
    "R2SCORE = round(r2_score(y_test, y_pred), 3)\n",
    "R2SCORE"
   ]
  },
  {
   "cell_type": "code",
   "execution_count": null,
   "id": "fc160ba2-bfb1-4a4b-a620-7c3d8e9e9686",
   "metadata": {},
   "outputs": [],
   "source": [
    "sorted(poly_reg.get_params().keys())"
   ]
  },
  {
   "cell_type": "code",
   "execution_count": null,
   "id": "3a6f3271-824c-45ab-99a9-a8219e98bed2",
   "metadata": {},
   "outputs": [],
   "source": []
  },
  {
   "cell_type": "code",
   "execution_count": null,
   "id": "96b6fa75-adfb-455b-9044-af9c97b01346",
   "metadata": {},
   "outputs": [],
   "source": [
    "degrees = np.arange(1, 21)\n",
    "# param_range = np.logspace(-6, -1, 5)\n",
    "train_scores, test_scores = validation_curve(poly_reg, X_train, y_train, param_name=\"polynomialfeatures__degree\", param_range=degrees, cv=kfold)\n",
    "\n",
    "train_scores_mean = np.mean(train_scores, axis=1)\n",
    "train_scores_std = np.std(train_scores, axis=1)\n",
    "test_scores_mean = np.mean(test_scores, axis=1)\n",
    "test_scores_std = np.std(test_scores, axis=1)"
   ]
  },
  {
   "cell_type": "code",
   "execution_count": null,
   "id": "cbeadf9e-eb95-4e26-a77a-5d482579ae02",
   "metadata": {},
   "outputs": [],
   "source": [
    "plt.figure(figsize=(8, 6))\n",
    "\n",
    "plot = sns.lineplot(x=n_neighbors, y=train_scores_mean, label=\"Train\", marker=\"o\")\n",
    "plt.fill_between(n_neighbors, train_scores_mean - train_scores_std, train_scores_mean + train_scores_std, alpha=0.1, color=\"blue\")\n",
    "\n",
    "plot = sns.lineplot(x=n_neighbors, y=test_scores_mean, label=\"Validation\", marker=\"o\")\n",
    "plt.fill_between(n_neighbors, test_scores_mean - test_scores_std, test_scores_mean + test_scores_std, alpha=0.1, color=\"orange\")\n",
    "\n",
    "plt.legend(bbox_to_anchor=(1.01, 1), borderaxespad=0)\n",
    "plt.title(\"KNeighbors Validation curve\", size=20)\n",
    "plot.set(xlabel=\"Number of neighbors\", ylabel=\"R2-score\".translate(SUP), xlim=[0, 51])\n",
    "plt.savefig(\"img/kneighbors-validation-curve.png\")\n",
    "sns.despine(fig)"
   ]
  },
  {
   "cell_type": "code",
   "execution_count": null,
   "id": "da5c4ffa-1b8e-4941-ba3b-dbcb334dff3b",
   "metadata": {},
   "outputs": [],
   "source": []
  },
  {
   "cell_type": "code",
   "execution_count": null,
   "id": "fc138dda-c73c-49c0-a813-5d1e5bc5f45f",
   "metadata": {},
   "outputs": [],
   "source": []
  },
  {
   "cell_type": "code",
   "execution_count": null,
   "id": "d720e094-53df-4cd9-9547-65b2ad19fb20",
   "metadata": {},
   "outputs": [],
   "source": []
  },
  {
   "cell_type": "markdown",
   "id": "9dac2fcc-3011-450b-bce8-dde09f10e8d2",
   "metadata": {
    "tags": []
   },
   "source": [
    "<div class=\"alert alert-block alert-danger\">\n",
    "    <b>Flag position</b>\n",
    "</div>"
   ]
  },
  {
   "cell_type": "code",
   "execution_count": null,
   "id": "efc6828c-1387-4f67-97f2-be1c96d33998",
   "metadata": {},
   "outputs": [],
   "source": []
  },
  {
   "cell_type": "markdown",
   "id": "4dfc0b1a-3159-44db-9e0e-21356245c24a",
   "metadata": {
    "tags": []
   },
   "source": [
    "<div class=\"alert alert-block alert-info\">\n",
    "    Initializing model\n",
    "</div>"
   ]
  },
  {
   "cell_type": "code",
   "execution_count": null,
   "id": "a977cb66-0937-4dcd-82f7-2526f50ea3e7",
   "metadata": {},
   "outputs": [],
   "source": [
    "linreg = LinearRegression()"
   ]
  },
  {
   "cell_type": "markdown",
   "id": "109489f3-2ff2-4a27-8c45-b3ff2120ee90",
   "metadata": {
    "tags": []
   },
   "source": [
    "<div class=\"alert alert-block alert-info\">\n",
    "    Data preprocessing based on the pipelines and the regressors setup\n",
    "</div>"
   ]
  },
  {
   "cell_type": "code",
   "execution_count": null,
   "id": "8206eb28-226e-4f2f-9ae6-8c6aefce0be6",
   "metadata": {},
   "outputs": [],
   "source": [
    "reg = make_pipeline(preprocessor, linreg)"
   ]
  },
  {
   "cell_type": "markdown",
   "id": "61b5f9e5-b15e-4cc9-84aa-fc4c14cab6fc",
   "metadata": {
    "tags": []
   },
   "source": [
    "<div class=\"alert alert-block alert-info\">\n",
    "    Identifying the names of each parameter\n",
    "</div>"
   ]
  },
  {
   "cell_type": "code",
   "execution_count": null,
   "id": "bdfd6402-ca6b-4c00-bd0e-3cd408d42fd0",
   "metadata": {},
   "outputs": [],
   "source": [
    "sorted(reg.get_params().keys())"
   ]
  },
  {
   "cell_type": "markdown",
   "id": "f12bfa0e-ac19-4428-8378-f29157593406",
   "metadata": {
    "tags": []
   },
   "source": [
    "<div class=\"alert alert-block alert-info\">\n",
    "    Parameters settings\n",
    "</div>"
   ]
  },
  {
   "cell_type": "code",
   "execution_count": null,
   "id": "c4c51b34-622d-44cf-8dd9-17de9dac74b1",
   "metadata": {},
   "outputs": [],
   "source": [
    "param_grid = {\n",
    "    \"linearregression__copy_X\" : [True, False],\n",
    "    \"linearregression__fit_intercept\" : [True, False]\n",
    "}"
   ]
  },
  {
   "cell_type": "markdown",
   "id": "5bc41cb4-b0b7-4317-b2b0-4166fac17ce3",
   "metadata": {
    "tags": []
   },
   "source": [
    "<div class=\"alert alert-block alert-info\">\n",
    "    Executing the model\n",
    "</div>"
   ]
  },
  {
   "cell_type": "code",
   "execution_count": null,
   "id": "e39b6084-3185-4937-925f-3e24c702398c",
   "metadata": {},
   "outputs": [],
   "source": [
    "# K-Folds cross-validator\n",
    "kfold = KFold(n_splits=5, shuffle=True, random_state=0)\n",
    "\n",
    "search = GridSearchCV(reg, param_grid, n_jobs=-1, cv=kfold, scoring=SCORINGS, refit=\"R2\", return_train_score=True)\n",
    "\n",
    "search.fit(X_train, y_train)\n",
    "\n",
    "# Transforming the result to dataframe format\n",
    "df_results = pd.DataFrame(search.cv_results_)\n",
    "\n",
    "# Get the results\n",
    "print(\"Metrics based on the best R2\".translate(SUP))\n",
    "print(\"- R2:\".translate(SUP), round(search.best_score_, 3))\n",
    "print(\"- MAE:\", round(abs(df_results.iloc[search.best_index_][\"mean_test_MAE\"]), 3))\n",
    "print(\"- RMSE:\", round(math.sqrt(abs(df_results.iloc[search.best_index_][\"mean_test_MSE\"])), 3))\n",
    "print(\"- Duration:\", round(df_results.iloc[search.best_index_][\"mean_score_time\"], 3))\n",
    "print(\"- Parameters:\", search.best_params_)"
   ]
  },
  {
   "cell_type": "markdown",
   "id": "e6a97da8-7f9e-4e07-9aed-abce37a44f11",
   "metadata": {
    "tags": []
   },
   "source": [
    "<div class=\"alert alert-block alert-info\">\n",
    "    Now we are going to analyze more in details the best parameters\n",
    "</div>"
   ]
  },
  {
   "cell_type": "code",
   "execution_count": null,
   "id": "2feae7e8-ee49-4a5f-b310-e0b575261974",
   "metadata": {},
   "outputs": [],
   "source": [
    "# K-Folds cross-validator\n",
    "kfold = KFold(n_splits=5, shuffle=True, random_state=0)\n",
    "\n",
    "reg = make_pipeline(preprocessor, LinearRegression(copy_X=True, fit_intercept=True))"
   ]
  },
  {
   "cell_type": "markdown",
   "id": "ad3241a9-41bd-4995-a5e0-fb7b48d8ee41",
   "metadata": {},
   "source": [
    "<div style=\"background-color: #6D83C5;\" >\n",
    "    <h5 style=\"margin: auto; padding: 20px; color:#fff; \">6.2.1 Linear Validation curve</h5>\n",
    "</div>"
   ]
  },
  {
   "cell_type": "markdown",
   "id": "559db32e-fc0c-4d53-98e7-bac022b0ccf2",
   "metadata": {
    "tags": []
   },
   "source": [
    "<div class=\"alert alert-block alert-info\">\n",
    "    Plotting <b>the validacion curve</b> based on the best parameters\n",
    "</div>"
   ]
  },
  {
   "cell_type": "markdown",
   "id": "23d7ecce-9af6-44e5-b251-17565b476ce5",
   "metadata": {},
   "source": [
    "<div class=\"alert alert-block alert-danger\">\n",
    "    <b>Flag position</b>\n",
    "</div>"
   ]
  },
  {
   "cell_type": "code",
   "execution_count": null,
   "id": "6bf236f5-2be4-4d06-aebd-409d7eb55d0c",
   "metadata": {},
   "outputs": [],
   "source": [
    "CCCCCCCC"
   ]
  },
  {
   "cell_type": "markdown",
   "id": "4390860d-b69d-40b9-87dd-4272ec6dcf2c",
   "metadata": {},
   "source": [
    "train_scores, test_scores = validation_curve(reg, X_train, y_train, param_name=\"steps\", param_range=np.logspace(-6, -1, 5), cv=kfold)\n",
    "\n",
    "train_scores_mean = np.mean(train_scores, axis=1)\n",
    "train_scores_std = np.std(train_scores, axis=1)\n",
    "test_scores_mean = np.mean(test_scores, axis=1)\n",
    "test_scores_std = np.std(test_scores, axis=1)"
   ]
  },
  {
   "cell_type": "markdown",
   "id": "1421952c-19d6-4bd3-bd75-ea4b857c5bb1",
   "metadata": {},
   "source": [
    "plt.figure(figsize=(8, 6))\n",
    "\n",
    "plot = sns.lineplot(x=n_neighbors, y=train_scores_mean, label=\"Train\", marker=\"o\")\n",
    "plt.fill_between(n_neighbors, train_scores_mean - train_scores_std, train_scores_mean + train_scores_std, alpha=0.1, color=\"blue\")\n",
    "\n",
    "plot = sns.lineplot(x=n_neighbors, y=test_scores_mean, label=\"Validation\", marker=\"o\")\n",
    "plt.fill_between(n_neighbors, test_scores_mean - test_scores_std, test_scores_mean + test_scores_std, alpha=0.1, color=\"orange\")\n",
    "\n",
    "plt.legend(bbox_to_anchor=(1.01, 1), borderaxespad=0)\n",
    "plt.title(\"KNeighbors Validation curve\", size=20)\n",
    "plot.set(xlabel=\"Number of neighbors\", ylabel=\"R2-score\".translate(SUP), xlim=[0, 51])\n",
    "plt.savefig(\"img/kneighbors-validation-curve.png\")\n",
    "sns.despine(fig)"
   ]
  },
  {
   "cell_type": "markdown",
   "id": "bca67501-65d1-44e0-b64d-396bbf934cab",
   "metadata": {},
   "source": [
    "<div style=\"background-color: #6D83C5;\" >\n",
    "    <h5 style=\"margin: auto; padding: 20px; color:#fff; \">6.2.1 Linear Learning curve</h5>\n",
    "</div>"
   ]
  },
  {
   "cell_type": "markdown",
   "id": "acb9f17c-b1e9-4d14-8558-118b8da15692",
   "metadata": {
    "tags": []
   },
   "source": [
    "<div class=\"alert alert-block alert-info\">\n",
    "    Plotting <b>the learning curve</b> based on the best parameters\n",
    "</div>"
   ]
  },
  {
   "cell_type": "code",
   "execution_count": null,
   "id": "10ff643c-6d71-46ae-9651-b9fcf356cd9e",
   "metadata": {},
   "outputs": [],
   "source": [
    "plot_learning_curve(reg, \"Linear\", X_train, y_train, cv=kfold)"
   ]
  },
  {
   "cell_type": "markdown",
   "id": "3a1ae091-b794-4c7c-ac41-820d574bb206",
   "metadata": {},
   "source": [
    "<div style=\"background-color: #6D83C5;\" >\n",
    "    <h5 style=\"margin: auto; padding: 20px; color:#fff; \">6.2.3 Linear predictions validations</h5>\n",
    "</div>"
   ]
  },
  {
   "cell_type": "markdown",
   "id": "24ef6765-726e-40f6-9181-1532c6e383cc",
   "metadata": {
    "tags": []
   },
   "source": [
    "<div class=\"alert alert-block alert-info\">\n",
    "    Plotting <b>the Cross-Validated Predictions</b> based on the best parameters\n",
    "</div>"
   ]
  },
  {
   "cell_type": "code",
   "execution_count": null,
   "id": "9db4e1c6-0add-41b1-bf57-438878dbb727",
   "metadata": {},
   "outputs": [],
   "source": [
    "predicted = cross_val_predict(reg, X_train, y_train, cv=kfold)\n",
    "\n",
    "fig, ax = plt.subplots(figsize=(10, 6))\n",
    "ax.scatter(y_train, predicted, edgecolors=(0, 0, 0))\n",
    "ax.plot([y_train.min(), y_train.max()], [y_train.min(), y_train.max()], \"--k\", lw=4)\n",
    "\n",
    "ax.text(0.48*max(y_train), 1.2*max(y_train), r'$R^2$=%.2f, RMSE=%.2f' % (\n",
    "            round(search.best_score_, 3),\n",
    "            round(math.sqrt(abs(df_results.iloc[search.best_index_][\"mean_test_MSE\"])), 3)))\n",
    "        \n",
    "ax.set_title(\"KNN Cross-Validated Predictions\", fontsize=20)\n",
    "ax.set_xlabel(\"Real values\")\n",
    "ax.set_ylabel(\"Predicted values\")\n",
    "plt.show()"
   ]
  },
  {
   "cell_type": "markdown",
   "id": "763e13a8-bee9-40a2-8bab-fca1db15a1e2",
   "metadata": {},
   "source": [
    "<div style=\"background-color: #6D83C5;\" >\n",
    "    <h5 style=\"margin: auto; padding: 20px; color:#fff; \">6.1.4 Linear Features Importance</h5>\n",
    "</div>"
   ]
  },
  {
   "cell_type": "markdown",
   "id": "574c9697-5220-4e7a-8b0b-45731e6c72c7",
   "metadata": {
    "tags": []
   },
   "source": [
    "<div class=\"alert alert-block alert-info\">\n",
    "    Plotting <b>the Features Importance</b> based on the best parameters\n",
    "</div>"
   ]
  },
  {
   "cell_type": "code",
   "execution_count": null,
   "id": "dbb49c4a-bd52-4891-98cd-1cfc069d20ad",
   "metadata": {},
   "outputs": [],
   "source": [
    "# K-Folds cross-validator\n",
    "kfold = KFold(n_splits=5, shuffle=True, random_state=0)\n",
    "\n",
    "reg = make_pipeline(preprocessor, LinearRegression(copy_X=True, fit_intercept=True))"
   ]
  },
  {
   "cell_type": "code",
   "execution_count": null,
   "id": "519298d6-b2ff-47c3-9fe5-7ef1bc88cb28",
   "metadata": {},
   "outputs": [],
   "source": [
    "reg.fit(X_train, y_train)\n",
    "results = permutation_importance(reg, X_train, y_train, scoring=\"neg_mean_squared_error\")"
   ]
  },
  {
   "cell_type": "code",
   "execution_count": null,
   "id": "c3032be8-127d-47c2-bc20-28f209c89560",
   "metadata": {},
   "outputs": [],
   "source": [
    "df_importance = pd.DataFrame({\n",
    "    \"Feature\" : X_train.columns,\n",
    "    \"Importance\" : results.importances_mean\n",
    "})\n",
    "df_importance = df_importance.sort_values(\"Importance\")"
   ]
  },
  {
   "cell_type": "code",
   "execution_count": null,
   "id": "40f798c8-11bf-4c14-8d5c-c7bf458a2468",
   "metadata": {},
   "outputs": [],
   "source": [
    "fig = plt.subplots(figsize=(10, 8))\n",
    "plot = sns.barplot(data=df_importance, y=df_importance[\"Feature\"], x=df_importance[\"Importance\"])\n",
    "plt.xlabel(\"Importance\", size=12)\n",
    "plt.ylabel(\"Features\", size=12)\n",
    "plt.title(\"KNeighbors Features Importance\", size=20)\n",
    "plt.tight_layout()\n",
    "plt.savefig(\"img/knn-feature-importance.png\")\n",
    "plt.show()"
   ]
  },
  {
   "cell_type": "code",
   "execution_count": null,
   "id": "40a28be1-3af8-49c9-ac3c-b262879633c6",
   "metadata": {},
   "outputs": [],
   "source": []
  },
  {
   "cell_type": "code",
   "execution_count": null,
   "id": "7d8b3b20-63f3-4f50-96b2-00ef4d383c68",
   "metadata": {},
   "outputs": [],
   "source": []
  },
  {
   "cell_type": "code",
   "execution_count": null,
   "id": "c5e4c050-174d-49b6-a8f9-61e299c3db13",
   "metadata": {},
   "outputs": [],
   "source": []
  },
  {
   "cell_type": "code",
   "execution_count": null,
   "id": "92b65cf8-1bf8-459d-8a38-b45d72140edd",
   "metadata": {},
   "outputs": [],
   "source": []
  },
  {
   "cell_type": "code",
   "execution_count": null,
   "id": "58d99d99-0c77-4b97-a113-1db386349300",
   "metadata": {},
   "outputs": [],
   "source": []
  },
  {
   "cell_type": "code",
   "execution_count": null,
   "id": "74f88a22-0646-463f-bd38-8e5c3a6d87e4",
   "metadata": {},
   "outputs": [],
   "source": []
  },
  {
   "cell_type": "code",
   "execution_count": null,
   "id": "603d1440-8955-424c-983a-7973cb86af81",
   "metadata": {},
   "outputs": [],
   "source": []
  },
  {
   "cell_type": "code",
   "execution_count": null,
   "id": "820e7395-eb7a-4ba4-9bc5-b1a64e441f03",
   "metadata": {},
   "outputs": [],
   "source": []
  },
  {
   "cell_type": "markdown",
   "id": "a7732cc6-b5f4-41ee-964f-b5fcaa3eda22",
   "metadata": {},
   "source": [
    "<div style=\"background-color: #6D83C5;\" >\n",
    "    <h1 style=\"margin: auto; padding: 20px; color:#fff; \">XXXXXXXXXXXXXXXXXXXXXXXXXXXXX</h1>\n",
    "</div>"
   ]
  },
  {
   "cell_type": "markdown",
   "id": "fd43a05b-88ce-45eb-87ce-c6c258d04086",
   "metadata": {},
   "source": [
    "<div style=\"background-color: #6D83C5;\" >\n",
    "    <h4 style=\"margin: auto; padding: 20px; color:#fff; \">6.3. Lasso optimization</h4>\n",
    "</div>"
   ]
  },
  {
   "cell_type": "markdown",
   "id": "483e8ae9-e952-4c26-8d7d-d15bb5e9ebfe",
   "metadata": {},
   "source": [
    "<div style=\"background-color: #6D83C5;\" >\n",
    "    <h1 style=\"margin: auto; padding: 20px; color:#fff; \">XXXXXXXXXXXXXXXXXXXXXXXXXXXXX</h1>\n",
    "</div>"
   ]
  },
  {
   "cell_type": "markdown",
   "id": "43724f98-9fbe-4df4-a497-7ba95d8d119c",
   "metadata": {},
   "source": [
    "<div style=\"background-color: #6D83C5;\" >\n",
    "    <h1 style=\"margin: auto; padding: 20px; color:#fff; \">XXXXXXXXXXXXXXXXXXXXXXXXXXXXX</h1>\n",
    "</div>"
   ]
  },
  {
   "cell_type": "markdown",
   "id": "73a42df5-f571-4dfe-b641-7435b40ab684",
   "metadata": {},
   "source": [
    "<div style=\"background-color: #6D83C5;\" >\n",
    "    <h4 style=\"margin: auto; padding: 20px; color:#fff; \">6.5. SVR optimization</h4>\n",
    "</div>"
   ]
  },
  {
   "cell_type": "markdown",
   "id": "86323b2b-a336-4a5c-9741-4f8c4af6a981",
   "metadata": {},
   "source": [
    "<div style=\"background-color: #6D83C5;\" >\n",
    "    <h1 style=\"margin: auto; padding: 20px; color:#fff; \">XXXXXXXXXXXXXXXXXXXXXXXXXXXXX</h1>\n",
    "</div>"
   ]
  },
  {
   "cell_type": "markdown",
   "id": "32f096d3-347a-47bc-be22-8c3b78174c13",
   "metadata": {},
   "source": [
    "<div style=\"background-color: #6D83C5;\" >\n",
    "    <h4 style=\"margin: auto; padding: 20px; color:#fff; \">6.6. Gradient Boosting optimization</h4>\n",
    "</div>"
   ]
  },
  {
   "cell_type": "markdown",
   "id": "6393b188-72bc-4520-b06d-5db51afd2189",
   "metadata": {
    "tags": []
   },
   "source": [
    "<div class=\"alert alert-block alert-info\">\n",
    "    Initializing model\n",
    "</div>"
   ]
  },
  {
   "cell_type": "code",
   "execution_count": null,
   "id": "bc246068-6606-4d22-924b-ad9ac6fb2f59",
   "metadata": {},
   "outputs": [],
   "source": [
    "gbr = GradientBoostingRegressor()"
   ]
  },
  {
   "cell_type": "markdown",
   "id": "2ca2d7f2-1d75-4750-8e48-b8add83d342f",
   "metadata": {
    "tags": []
   },
   "source": [
    "<div class=\"alert alert-block alert-info\">\n",
    "    Data preprocessing based on the pipelines and the regressors setup\n",
    "</div>"
   ]
  },
  {
   "cell_type": "code",
   "execution_count": null,
   "id": "be2ed424-e5b1-4769-bc5e-e93ac3c3b293",
   "metadata": {},
   "outputs": [],
   "source": [
    "reg = make_pipeline(preprocessor, gbr)"
   ]
  },
  {
   "cell_type": "markdown",
   "id": "db85894f-ba9f-45ef-b0a4-535d2d834dae",
   "metadata": {
    "tags": []
   },
   "source": [
    "<div class=\"alert alert-block alert-info\">\n",
    "    Identifying the names of each parameter\n",
    "</div>"
   ]
  },
  {
   "cell_type": "code",
   "execution_count": null,
   "id": "9bb67013-5558-4ec7-9bd8-adbfa3d0bacf",
   "metadata": {},
   "outputs": [],
   "source": [
    "sorted(reg.get_params().keys())"
   ]
  },
  {
   "cell_type": "markdown",
   "id": "7aed9971-a179-4fc9-aa19-abee3e257b86",
   "metadata": {
    "tags": []
   },
   "source": [
    "<div class=\"alert alert-block alert-info\">\n",
    "    Parameters settings\n",
    "</div>"
   ]
  },
  {
   "cell_type": "code",
   "execution_count": null,
   "id": "b5c01b4f-17f0-4d77-98f7-d90692847034",
   "metadata": {},
   "outputs": [],
   "source": [
    "param_grid = {\n",
    "    \"gradientboostingregressor__learning_rate\" : [0.01, 0.02, 0.03, 0.04],\n",
    "    \"gradientboostingregressor__max_depth\" : [4, 6, 8, 10],\n",
    "    \"gradientboostingregressor__n_estimators\" : [100, 500, 1000, 1500],\n",
    "    \"gradientboostingregressor__subsample\" : [0.9, 0.5, 0.2, 0.1]\n",
    "}"
   ]
  },
  {
   "cell_type": "markdown",
   "id": "32f218dc-29f0-4674-9e89-7d328143edfd",
   "metadata": {
    "tags": []
   },
   "source": [
    "<div class=\"alert alert-block alert-info\">\n",
    "    Executing the model\n",
    "</div>"
   ]
  },
  {
   "cell_type": "code",
   "execution_count": null,
   "id": "ff42f99c-600f-4b3a-a53e-dc1c8030874a",
   "metadata": {},
   "outputs": [],
   "source": [
    "## K-Folds cross-validator\n",
    "kfold = KFold(n_splits=5, shuffle=True, random_state=0)\n",
    "\n",
    "search = GridSearchCV(reg, param_grid, n_jobs=-1, cv=kfold, scoring=SCORINGS, refit=\"R2\", return_train_score=True)\n",
    "\n",
    "search.fit(X_train, y_train)\n",
    "\n",
    "# Transforming the result to dataframe format\n",
    "df_results = pd.DataFrame(search.cv_results_)\n",
    "\n",
    "# Get the results\n",
    "print(\"Metrics based on the best R2\".translate(SUP))\n",
    "print(\"- R2:\".translate(SUP), round(search.best_score_, 3))\n",
    "print(\"- MAE:\", round(abs(df_results.iloc[search.best_index_][\"mean_test_MAE\"]), 3))\n",
    "print(\"- RMSE:\", round(math.sqrt(abs(df_results.iloc[search.best_index_][\"mean_test_MSE\"])), 3))\n",
    "print(\"- Duration:\", round(df_results.iloc[search.best_index_][\"mean_score_time\"], 3))\n",
    "print(\"- Parameters:\", search.best_params_)"
   ]
  },
  {
   "cell_type": "markdown",
   "id": "c831b355-b899-4fff-a258-9e1a36c53d1c",
   "metadata": {
    "tags": []
   },
   "source": [
    "<div class=\"alert alert-block alert-info\">\n",
    "    We got the <b>best parameters</b> so, we are going to <b>analyze</b> them more in details \n",
    "</div>"
   ]
  },
  {
   "cell_type": "markdown",
   "id": "c2400176-5280-446b-8ddd-4e9ad0fc1669",
   "metadata": {},
   "source": [
    "<div style=\"background-color: #6D83C5;\" >\n",
    "    <h5 style=\"margin: auto; padding: 20px; color:#fff; \">6.6.1 Gradient Boosting Validation curve</h5>\n",
    "</div>"
   ]
  },
  {
   "cell_type": "markdown",
   "id": "36aeaac1-39b2-4e0d-bef0-3a48b8acf5aa",
   "metadata": {
    "tags": []
   },
   "source": [
    "<div class=\"alert alert-block alert-info\">\n",
    "    To plot the <b>Validation curve</b>, we are going to use a <b>range of estimators</b> to analyze the model through them\n",
    "</div>"
   ]
  },
  {
   "cell_type": "code",
   "execution_count": null,
   "id": "85ab7cee-61f9-4bab-8d39-b60815bf991c",
   "metadata": {},
   "outputs": [],
   "source": [
    "kfold = KFold(n_splits=5, shuffle=True, random_state=0)\n",
    "\n",
    "n_estimators = np.unique(np.logspace(0, 1.8, num=30).astype(int))\n",
    "\n",
    "reg = make_pipeline(preprocessor, GradientBoostingRegressor(learning_rate=0.01, max_depth=4, subsample=0.2))"
   ]
  },
  {
   "cell_type": "markdown",
   "id": "29281308-d06c-4a69-9061-89b6b4acc266",
   "metadata": {
    "tags": []
   },
   "source": [
    "<div class=\"alert alert-block alert-info\">\n",
    "    Plotting <b>the validacion curve</b> based on the best parameters\n",
    "</div>"
   ]
  },
  {
   "cell_type": "code",
   "execution_count": null,
   "id": "7a5e05e7-8620-4c11-b2b0-e9fdd02a7f86",
   "metadata": {},
   "outputs": [],
   "source": [
    "plot_validation_curve(reg, \"GradientBoostingRegressor\", X_train, y_train, param_name=\"gradientboostingregressor__n_estimators\", param_range=n_estimators, param_name_short=\"Estimators\", \\\n",
    "                      scoring=\"neg_mean_absolute_error\", cv=kfold)"
   ]
  },
  {
   "cell_type": "markdown",
   "id": "bdd6caf3-1785-4c75-aacf-6611e7e46ccd",
   "metadata": {},
   "source": [
    "<div style=\"background-color: #6D83C5;\" >\n",
    "    <h5 style=\"margin: auto; padding: 20px; color:#fff; \">6.6.2 Gradient Boosting Learning curve</h5>\n",
    "</div>"
   ]
  },
  {
   "cell_type": "markdown",
   "id": "66030d42-964d-4569-8ef4-fa6ec329f018",
   "metadata": {
    "tags": []
   },
   "source": [
    "<div class=\"alert alert-block alert-info\">\n",
    "    To plot the <b>Learning curve</b>, we are going to use the <b>best  parameters</b> to analyze the model\n",
    "</div>"
   ]
  },
  {
   "cell_type": "code",
   "execution_count": null,
   "id": "84d5aecb-2a6d-44f0-8806-a507532a46c8",
   "metadata": {},
   "outputs": [],
   "source": [
    "kfold = KFold(n_splits=5, shuffle=True, random_state=0)\n",
    "\n",
    "reg = make_pipeline(preprocessor, GradientBoostingRegressor(learning_rate=0.01, max_depth=4, n_estimators=1000, subsample=0.2))"
   ]
  },
  {
   "cell_type": "markdown",
   "id": "eef74d4e-0c9f-4bc9-9622-394aff81ad42",
   "metadata": {
    "tags": []
   },
   "source": [
    "<div class=\"alert alert-block alert-info\">\n",
    "    Plotting <b>the learning curve</b> based on the best parameters\n",
    "</div>"
   ]
  },
  {
   "cell_type": "code",
   "execution_count": null,
   "id": "f2cfa301-cf5a-4bb1-b34e-4e0daeabe884",
   "metadata": {},
   "outputs": [],
   "source": [
    "plot_learning_curve(reg, \"GradientBoostingRegressor\", X_train, y_train, cv=kfold)"
   ]
  },
  {
   "cell_type": "markdown",
   "id": "47033259-0715-4b8c-947f-4486d1f6faef",
   "metadata": {},
   "source": [
    "<div style=\"background-color: #6D83C5;\" >\n",
    "    <h5 style=\"margin: auto; padding: 20px; color:#fff; \">6.6.3 Gradient Boosting predictions validations</h5>\n",
    "</div>"
   ]
  },
  {
   "cell_type": "markdown",
   "id": "b6af9378-7074-4568-9cf1-7896d66c7684",
   "metadata": {
    "tags": []
   },
   "source": [
    "<div class=\"alert alert-block alert-info\">\n",
    "    To plot the <b>predictions validations</b>, we are going to use the <b>best  parameters</b> to analyze the model after <b>fitting</b> and <b>predicting</b> values</b>\n",
    "</div>"
   ]
  },
  {
   "cell_type": "code",
   "execution_count": null,
   "id": "5137846f-8df7-4264-b04a-598c3277e762",
   "metadata": {},
   "outputs": [],
   "source": [
    "kfold = KFold(n_splits=5, shuffle=True, random_state=0)\n",
    "\n",
    "reg = make_pipeline(preprocessor, GradientBoostingRegressor(learning_rate=0.01, max_depth=4, n_estimators=1000, subsample=0.2))\n",
    "\n",
    "reg.fit(X_train, y_train)\n",
    "\n",
    "# Making the prediction using the testing data\n",
    "y_pred = reg.predict(X_test)"
   ]
  },
  {
   "cell_type": "markdown",
   "id": "3aec3758-dc3b-4010-a024-d5f867c4f65b",
   "metadata": {
    "tags": []
   },
   "source": [
    "<div class=\"alert alert-block alert-info\">\n",
    "    Plotting <b>the Cross-Validated Predictions</b> based on the best parameters for <b>training data</b>\n",
    "</div>"
   ]
  },
  {
   "cell_type": "code",
   "execution_count": null,
   "id": "54204961-88c0-4e9d-82ab-b7ed5b5ea46d",
   "metadata": {},
   "outputs": [],
   "source": [
    "# Making the prediction using the testing data\n",
    "plot_cross_val_predi(reg, \"KNeighbors\", X_train, y_train, cv=kfold)"
   ]
  },
  {
   "cell_type": "markdown",
   "id": "0c15c918-93b3-4212-948c-08e400777465",
   "metadata": {},
   "source": [
    "<div style=\"background-color: #6D83C5;\" >\n",
    "    <h5 style=\"margin: auto; padding: 20px; color:#fff; \">6.6.4 Gradient Boosting Features Importance</h5>\n",
    "</div>"
   ]
  },
  {
   "cell_type": "markdown",
   "id": "e9937068-308e-47fe-991c-9332b19f4f3e",
   "metadata": {
    "tags": []
   },
   "source": [
    "<div class=\"alert alert-block alert-info\">\n",
    "    To plot the <b>Features Importance</b>, we are going to use the <b>best  parameters</b> to analyze the model after <b>fitting</b> values</b>\n",
    "</div>"
   ]
  },
  {
   "cell_type": "code",
   "execution_count": null,
   "id": "b23cd49d-de29-4403-982a-c3b4d1ba0138",
   "metadata": {},
   "outputs": [],
   "source": [
    "kfold = KFold(n_splits=5, shuffle=True, random_state=0)\n",
    "\n",
    "reg = make_pipeline(preprocessor, GradientBoostingRegressor(learning_rate=0.01, max_depth=4, n_estimators=1000, subsample=0.2))\n",
    "\n",
    "reg.fit(X_train, y_train)"
   ]
  },
  {
   "cell_type": "markdown",
   "id": "0840465b-e846-48f3-b7e0-e0f21b789683",
   "metadata": {
    "tags": []
   },
   "source": [
    "<div class=\"alert alert-block alert-info\">\n",
    "    Plotting <b>the Features Importance</b> based on the best parameters\n",
    "</div>"
   ]
  },
  {
   "cell_type": "code",
   "execution_count": null,
   "id": "558f93d6-6b89-461e-9189-71556f574447",
   "metadata": {},
   "outputs": [],
   "source": [
    "plot_features_importance(reg, \"GradientBoostingRegressor\", X_train, y_train, scoring=\"neg_mean_squared_error\")"
   ]
  },
  {
   "cell_type": "code",
   "execution_count": null,
   "id": "cba4af00-05a9-4c9a-984c-f327a2c4ec1d",
   "metadata": {},
   "outputs": [],
   "source": []
  },
  {
   "cell_type": "code",
   "execution_count": null,
   "id": "82726129-7f38-4be3-b3e5-4bb6073b9f73",
   "metadata": {},
   "outputs": [],
   "source": []
  },
  {
   "cell_type": "code",
   "execution_count": null,
   "id": "4e5aa570-2e5e-47b1-b92f-e6545f830e9a",
   "metadata": {},
   "outputs": [],
   "source": []
  },
  {
   "cell_type": "code",
   "execution_count": null,
   "id": "9cfada77-f36c-4789-8da6-146e45f6db45",
   "metadata": {},
   "outputs": [],
   "source": []
  },
  {
   "cell_type": "code",
   "execution_count": null,
   "id": "a6b8527b-dd58-426c-941f-284aa879747c",
   "metadata": {},
   "outputs": [],
   "source": []
  },
  {
   "cell_type": "code",
   "execution_count": null,
   "id": "21d37a7a-c93f-4982-8071-5157605c1ae9",
   "metadata": {},
   "outputs": [],
   "source": []
  },
  {
   "cell_type": "markdown",
   "id": "46551799-f2a7-4da4-9037-2536b4957548",
   "metadata": {},
   "source": [
    "<div class=\"alert alert-block alert-danger\">\n",
    "    <b>Flag position</b>\n",
    "</div>"
   ]
  },
  {
   "cell_type": "markdown",
   "id": "2d8985ba-d980-4482-9be0-da4ee0d4149f",
   "metadata": {},
   "source": [
    "- Learning curves\n",
    "- metrics R2, MSE, MAE, etc....\n",
    "- gráfica comparación de predicción con regresión\n",
    "    - arreglar metrica R2 y RMSE\n",
    "- importancia de features "
   ]
  },
  {
   "cell_type": "code",
   "execution_count": null,
   "id": "9aa5c0cd-4433-4caf-abd6-08f274f8f188",
   "metadata": {},
   "outputs": [],
   "source": [
    "XXXXXXXXX"
   ]
  },
  {
   "cell_type": "markdown",
   "id": "01b27b12-f469-4703-b748-d5843dbf4026",
   "metadata": {},
   "source": [
    "<div style=\"background-color: #6D83C5;\" >\n",
    "    <h1 style=\"margin: auto; padding: 20px; color:#fff; \">XXXXXXXXXXXXXXXXXXXXXXXXXXXXX</h1>\n",
    "</div>"
   ]
  },
  {
   "cell_type": "code",
   "execution_count": null,
   "id": "5f7eb4a9-e0aa-48b5-b018-c7dd12b34bba",
   "metadata": {},
   "outputs": [],
   "source": []
  },
  {
   "cell_type": "markdown",
   "id": "6f26a89e-83bd-4ddd-8b0d-9f178ddef63a",
   "metadata": {},
   "source": [
    "import io\n",
    "import pandas as pd\n",
    "df = pd.read_csv(io.StringIO(\"\"\"column1 | column2 | column3  |column4  | column5 \n",
    "A       |    B    |    5     |   4234  |   123   \n",
    "A       |    B    |    2     |   432   |   3243  \n",
    "A       |    B    |    10    |   123   |   43    \n",
    "A       |    B    |    1     |   123   |   45    \n",
    "A       |    B    |    1     |   124   |   23243 \n",
    "A       |    B    |    1     |   125   |   234   \n",
    "A       |    B    |    1     |   126   |   23   \"\"\"), sep=\"|\").pipe(lambda d: d.rename(columns={c:c.strip() for c in d.columns}))\n",
    "- cursos a mirar <br>\n",
    "https://openclassrooms.com/fr/courses/6401081-improve-the-performance-of-a-machine-learning-model/6559796-tune-your-hyperparameters <br>\n",
    "https://openclassrooms.com/fr/courses/6389626-train-a-supervised-machine-learning-model/6389633-think-through-a-classification-task <br>\n",
    "https://lms.fun-mooc.fr/courses/course-v1:inria+41026+session01/courseware/cb3cfcaf0cae4cf7801c4e8d5dab9087/96ae0a5c701c4463a60cb975f75baa07/ <br>\n",
    "https://www.youtube.com/watch?v=w_bLGK4Pteo\n",
    "\n",
    "- grafica de error de training vs error test <br>\n",
    "https://scikit-learn.org/stable/auto_examples/model_selection/plot_train_error_vs_test_error.html\n",
    "\n",
    "- plotting learning curves <br>\n",
    "https://scikit-learn.org/stable/auto_examples/model_selection/plot_learning_curve.html <br>\n",
    "https://scikit-learn.org/stable/modules/learning_curve.html <br>\n",
    "https://www.dataquest.io/blog/learning-curves-machine-learning/ <br>\n",
    "https://utkuufuk.com/2018/05/04/learning-curves/ <br>\n",
    "https://vitalflux.com/validation-curves-explained-python-sklearn-example/\n",
    "\n",
    "- Validation curve <br>\n",
    "https://sdsawtelle.github.io/blog/output/week6-andrew-ng-machine-learning-with-python.html\n",
    "\n",
    "- Visualizaciones <br>\n",
    "https://scikit-learn.org/stable/visualizations.html <br>\n",
    "https://medium.datadriveninvestor.com/visualizing-scikit-model-performance-fb26ff16f7c6\n",
    "\n",
    "\n",
    "- lsitado de metricas <br>\n",
    "https://scikit-learn.org/stable/modules/model_evaluation.html <br>\n",
    "https://scikit-learn.org/stable/modules/generated/sklearn.metrics.r2_score.html#sklearn.metrics.r2_score <br>\n",
    "https://scikit-learn.org/stable/modules/generated/sklearn.linear_model.LinearRegression.html\n",
    "\n",
    "- Receiver Operating Characteristic (ROC) with cross validation <br>\n",
    "https://scikit-learn.org/stable/auto_examples/model_selection/plot_roc_crossval.html#sphx-glr-auto-examples-model-selection-plot-roc-crossval-py\n",
    "\n",
    "- Underfitting vs. Overfitting <br>\n",
    "https://scikit-learn.org/stable/auto_examples/model_selection/plot_underfitting_overfitting.html#sphx-glr-auto-examples-model-selection-plot-underfitting-overfitting-py\n",
    "\n",
    "- Plotting Cross-Validated Predictions <br>\n",
    "https://scikit-learn.org/stable/auto_examples/model_selection/plot_cv_predict.htmlPlotting\n",
    "\n",
    "- Bias Variance Trade off <br>\n",
    "https://towardsdatascience.com/bias-variance-tradeoff-7ca56ba182a\n",
    "\n",
    "- SkLearn course <br>\n",
    "https://inria.github.io/scikit-learn-mooc/index.html\n",
    "\n",
    "- Evaluate model\n",
    "https://towardsdatascience.com/hyperparameter-tuning-the-random-forest-in-python-using-scikit-learn-28d2aa77dd74"
   ]
  },
  {
   "cell_type": "code",
   "execution_count": null,
   "id": "bd2d2951-f173-47e4-bb31-a42bcdfd178c",
   "metadata": {},
   "outputs": [],
   "source": []
  },
  {
   "cell_type": "code",
   "execution_count": null,
   "id": "5f1e6eeb-2752-4265-9552-a5839691b12b",
   "metadata": {},
   "outputs": [],
   "source": []
  },
  {
   "cell_type": "code",
   "execution_count": null,
   "id": "eda232c5-ece6-49e8-84fa-6d49e874bdc9",
   "metadata": {},
   "outputs": [],
   "source": []
  },
  {
   "cell_type": "code",
   "execution_count": null,
   "id": "8144759c-754b-4bb0-8aed-9497d7e6b998",
   "metadata": {},
   "outputs": [],
   "source": []
  },
  {
   "cell_type": "code",
   "execution_count": null,
   "id": "5cc6bd5e-98fc-40f7-bdb5-b5fae22381a6",
   "metadata": {},
   "outputs": [],
   "source": []
  }
 ],
 "metadata": {
  "kernelspec": {
   "display_name": "Python 3",
   "language": "python",
   "name": "python3"
  },
  "language_info": {
   "codemirror_mode": {
    "name": "ipython",
    "version": 3
   },
   "file_extension": ".py",
   "mimetype": "text/x-python",
   "name": "python",
   "nbconvert_exporter": "python",
   "pygments_lexer": "ipython3",
   "version": "3.8.5"
  }
 },
 "nbformat": 4,
 "nbformat_minor": 5
}
