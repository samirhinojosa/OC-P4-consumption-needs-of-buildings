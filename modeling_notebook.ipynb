{
 "cells": [
  {
   "cell_type": "markdown",
   "id": "ce468ca3-b790-4103-8261-1356811912a9",
   "metadata": {},
   "source": [
    "<div style=\"display: flex; background-color: #3F579F;\">\n",
    "    <h1 style=\"margin: auto; font-weight: bold; padding: 30px 30px 0px 30px;\" align=\"center\">Consumption needs of buildings - P4</h1>\n",
    "</div>\n",
    "<div style=\"display: flex; background-color: #3F579F; margin: auto; padding: 5px 30px 0px 30px;\" >\n",
    "    <span style=\"width: 100%; text-align: center; float: left; font-size: 24px;\" align=\"center\">| Modeling notebook |</span>\n",
    "</div>\n",
    "<div style=\"display: flex; background-color: #3F579F; margin: auto; padding: 10px 30px 30px 30px;\">\n",
    "    <span style=\"width: 100%; text-align: center; float: left; font-size: 24px;\" align=\"center\">Data Scientist course - OpenClassrooms</span>\n",
    "</div>"
   ]
  },
  {
   "cell_type": "markdown",
   "id": "24f8fd9b-9c31-4b49-866b-0854e0201db2",
   "metadata": {
    "tags": []
   },
   "source": [
    "<div style=\"background-color: #506AB9;\" >\n",
    "    <h2 style=\"margin: auto; padding: 20px; color:#fff; \">1. Libraries and functions</h2>\n",
    "</div>"
   ]
  },
  {
   "cell_type": "markdown",
   "id": "136892e5-2f9c-4512-8693-c96d4b8cc38d",
   "metadata": {},
   "source": [
    "<div style=\"background-color: #6D83C5;\" >\n",
    "    <h3 style=\"margin: auto; padding: 20px; color:#fff; \">1.1. Libraries and functions</h3>\n",
    "</div>"
   ]
  },
  {
   "cell_type": "code",
   "execution_count": 1,
   "id": "53a341ca-1d3d-478d-a3ec-6319bfc0694e",
   "metadata": {
    "tags": []
   },
   "outputs": [],
   "source": [
    "## df_analysis\n",
    "import io\n",
    "import gc\n",
    "import timeit\n",
    "import math\n",
    "from math import prod\n",
    "\n",
    "## General\n",
    "import pandas as pd\n",
    "import numpy as np\n",
    "from numpy.random import seed, randint\n",
    "import matplotlib.pyplot as plt\n",
    "import seaborn as sns\n",
    "\n",
    "## Scikit Learn library\n",
    "from sklearn.model_selection import train_test_split\n",
    "from sklearn.compose import make_column_transformer\n",
    "from sklearn.pipeline import make_pipeline\n",
    "from sklearn.preprocessing import FunctionTransformer, StandardScaler, OneHotEncoder, PolynomialFeatures\n",
    "from sklearn.metrics import mean_squared_error, mean_absolute_error, r2_score\n",
    "from sklearn.inspection import permutation_importance\n",
    "from sklearn.model_selection import cross_validate, KFold, GridSearchCV, validation_curve, learning_curve, cross_val_predict, cross_val_predict\n",
    "from sklearn.neighbors import KNeighborsRegressor, NearestNeighbors\n",
    "from sklearn.linear_model import LinearRegression, Lasso\n",
    "from sklearn.ensemble import RandomForestRegressor, GradientBoostingRegressor\n",
    "from sklearn.svm import SVR\n",
    "\n",
    "\n",
    "%matplotlib inline\n",
    "\n",
    "sns.set_theme(style=\"darkgrid\")\n",
    "\n",
    "SUB = str.maketrans(\"0123456789\", \"₀₁₂₃₄₅₆₇₈₉\")\n",
    "SUP = str.maketrans(\"0123456789\", \"⁰¹²³⁴⁵⁶⁷⁸⁹\")"
   ]
  },
  {
   "cell_type": "markdown",
   "id": "cb2533d3-cfa1-4697-875b-007f75b4c6a0",
   "metadata": {},
   "source": [
    "<div style=\"background-color: #6D83C5;\" >\n",
    "    <h3 style=\"margin: auto; padding: 20px; color:#fff; \">1.2. Functions declaration</h3>\n",
    "</div>"
   ]
  },
  {
   "cell_type": "code",
   "execution_count": 2,
   "id": "1fbda1fe-ff0e-47f5-9b0d-68e4ef09468a",
   "metadata": {
    "tags": []
   },
   "outputs": [],
   "source": [
    "def df_analysis(df, name_df, *args, **kwargs):\n",
    "    \"\"\"\n",
    "    Method used to analyze on the DataFrame.\n",
    "\n",
    "    Parameters:\n",
    "    -----------------\n",
    "        df : pandas.DataFrame\n",
    "        Dataset to analyze.\n",
    "        \n",
    "        name_df : str\n",
    "        Dataset name.\n",
    "        \n",
    "        *args, **kwargs:\n",
    "        -----------------\n",
    "            columns : list\n",
    "            Dataframe keys in list format.\n",
    "            \n",
    "            flag : str\n",
    "            Flag to show complete information about the dataset to analyse\n",
    "            \"complete\" shows all information about the dataset.\n",
    "\n",
    "    Returns:\n",
    "    -----------------\n",
    "        None. \n",
    "        Print the analysis on the Dataset. \n",
    "        \n",
    "    \"\"\"\n",
    "    \n",
    "    # Getting the variables\n",
    "    columns = kwargs.get(\"columns\", None)\n",
    "    type_analysis = kwargs.get(\"type_analysis\", None)\n",
    "    \n",
    "    ORDERING_COMPLETE = [\n",
    "        \"name\", \"type\", \"records\", \"unique\", \"# NaN\", \"% NaN\", \"mean\", \"min\", \"25%\", \"50%\", \"75%\", \"max\", \"std\"\n",
    "    ]\n",
    "    \n",
    "    # Calculating the memory usage based on dataframe.info()\n",
    "    buf = io.StringIO()\n",
    "    df.info(buf=buf)\n",
    "    memory_usage = buf.getvalue().split('\\n')[-2]\n",
    "    \n",
    "    if df.empty:\n",
    "        print(\"The\", name_df, \"dataset is empty. Please verify the file.\")\n",
    "    else:\n",
    "        empty_cols = [col for col in df.columns if df[col].isna().all()] # identifying empty columns\n",
    "        df_rows_duplicates = df[df.duplicated()] #identifying full duplicates rows\n",
    "        \n",
    "        # Creating a dataset based on Type object and records by columns\n",
    "        type_cols = df.dtypes.apply(lambda x: x.name).to_dict() \n",
    "        df_resume = pd.DataFrame(list(type_cols.items()), columns = [\"name\", \"type\"])\n",
    "        df_resume[\"records\"] = list(df.count())\n",
    "        df_resume[\"# NaN\"] = list(df.isnull().sum())\n",
    "        df_resume[\"% NaN\"] = list(((df.isnull().sum() / len(df.index))*100).round(2))\n",
    "        \n",
    "        print(\"\\nAnalysis of\", name_df, \"dataset\")\n",
    "        print(\"--------------------------------------------------------------------\")\n",
    "        print(\"- Dataset shape:                 \", df.shape[0], \"rows and\", df.shape[1], \"columns\")\n",
    "        print(\"- Total of NaN values:           \", df.isna().sum().sum())\n",
    "        print(\"- Percentage of NaN:             \", round((df.isna().sum().sum() / prod(df.shape)) * 100, 2), \"%\")\n",
    "        print(\"- Total of full duplicates rows: \", df_rows_duplicates.shape[0])\n",
    "        print(\"- Total of empty rows:           \", df.shape[0] - df.dropna(axis=\"rows\", how=\"all\").shape[0]) if df.dropna(axis=\"rows\", how=\"all\").shape[0] < df.shape[0] else \\\n",
    "                    print(\"- Total of empty rows:            0\")\n",
    "        print(\"- Total of empty columns:        \", len(empty_cols))\n",
    "        print(\"  + The empty column is:         \", empty_cols) if len(empty_cols) == 1 else \\\n",
    "                    print(\"  + The empty column are:         \", empty_cols) if len(empty_cols) >= 1 else None\n",
    "        print(\"- Unique indexes:                \", df.index.is_unique)\n",
    "        \n",
    "        if columns is not None:\n",
    "            print(\"\\n- The key(s):\", columns, \"is not present multiple times in the dataframe.\\n  It CAN be used as a primary key.\") if df.size == df.drop_duplicates(columns).size else \\\n",
    "                print(\"\\n- The key(s):\", columns, \"is present multiple times in the dataframe.\\n  It CANNOT be used as a primary key.\")\n",
    "        \n",
    "        if type_analysis == \"summarized\":\n",
    "            print(\"\\n\")\n",
    "        \n",
    "        if type_analysis is None or type_analysis != \"summarized\":\n",
    "            pd.set_option(\"display.max_rows\", None) # show full of showing rows\n",
    "            pd.set_option(\"display.max_columns\", None) # show full of showing cols\n",
    "            pd.set_option(\"display.max_colwidth\", None) # show full width of showing cols\n",
    "            pd.set_option(\"display.float_format\", lambda x: \"%.5f\" % x) # show full content in cell    \n",
    "            \n",
    "            if type_analysis is None or type_analysis != \"complete\":\n",
    "                print(\"\\n- Type object and records by columns      (\",memory_usage,\")\")\n",
    "                print(\"--------------------------------------------------------------------\")\n",
    "            elif type_analysis == \"complete\":\n",
    "                df_resume[\"unique\"] = list(df.nunique())\n",
    "                df_desc = pd.DataFrame(df.describe().T).reset_index()\n",
    "                df_desc = df_desc.rename(columns={\"index\": \"name\"})\n",
    "                df_resume = df_resume.merge(right=df_desc[[\"name\", \"mean\", \"min\", \"25%\", \"50%\", \"75%\", \"max\", \"std\"]], on=\"name\", how=\"left\")\n",
    "                df_resume = df_resume[ORDERING_COMPLETE]\n",
    "                print(\"\\n- Type object and records by columns      (\",memory_usage,\")\")\n",
    "                print(\"--------------------------------------------------------------------\")\n",
    "                \n",
    "            display(df_resume.sort_values(\"records\", ascending=False))\n",
    "            \n",
    "            pd.reset_option(\"display.max_rows\") # reset max of showing rows\n",
    "            pd.reset_option(\"display.max_columns\") # reset max of showing cols\n",
    "            pd.reset_option(\"display.max_colwidth\") # reset width of showing cols\n",
    "            pd.reset_option(\"display.float_format\") # reset show full content in cell\n",
    "            \n",
    "        # deleting dataframe to free memory\n",
    "        if type_analysis == \"complete\":\n",
    "            del [[df_resume, df_desc]]\n",
    "            gc.collect()\n",
    "            df_resume, df_desc = (pd.DataFrame() for i in range(2))\n",
    "        else:\n",
    "            del df_resume\n",
    "            gc.collect()\n",
    "            df_resume = pd.DataFrame()\n",
    "\n",
    "\n",
    "def plot_validation_curve(estimator, name_model, X_train, y_train, param_name, param_range, param_name_short, scoring=None, cv=None):\n",
    "    \"\"\"\n",
    "    Generate 1 plots: \n",
    "        1. The test and training validation curve\n",
    "    \n",
    "    Parameters\n",
    "    -----------------\n",
    "    estimator : estimator instance\n",
    "        An estimator instance implementing `fit` and `predict` methods which\n",
    "        will be cloned for each validation.\n",
    "        \n",
    "    name_model : str\n",
    "        Name of the model as title for the chart.     \n",
    "        \n",
    "    X_train : array-like of shape (n_samples, n_features)\n",
    "        Training vector, where ``n_samples`` is the number of samples and\n",
    "        ``n_features`` is the number of features.\n",
    "\n",
    "    y_train : array-like of shape (n_samples) or (n_samples, n_features)\n",
    "        Target relative to ``X`` for classification or regression;\n",
    "        None for unsupervised learning.      \n",
    "        \n",
    "    param_name : str\n",
    "        Name of the parameter that will be varied.\n",
    "    \n",
    "    param_range : array-like of shape (n_values,)\n",
    "        The values of the parameter that will be evaluated.\n",
    "    \n",
    "    param_name_short : str\n",
    "        Short name for param_name\n",
    "        \n",
    "    cv : int, cross-validation generator or an iterable, default=None\n",
    "        Determines the cross-validation splitting strategy.\n",
    "        Possible inputs for cv are:\n",
    "\n",
    "          - None, to use the default 5-fold cross-validation,\n",
    "          - integer, to specify the number of folds.\n",
    "          - :term:`CV splitter`,\n",
    "          - An iterable yielding (train, test) splits as arrays of indices.\n",
    "\n",
    "        For integer/None inputs, if ``y`` is binary or multiclass,\n",
    "        :class:`StratifiedKFold` used. If the estimator is not a classifier\n",
    "        or if ``y`` is neither binary nor multiclass, :class:`KFold` is used.\n",
    "\n",
    "        Refer :ref:`User Guide <cross_validation>` for the various\n",
    "        cross-validators that can be used here.\n",
    "        \n",
    "    Returns:\n",
    "    -----------------\n",
    "        None. \n",
    "        Plot the graph. \n",
    "        \n",
    "    \"\"\"    \n",
    "    # Initializing figure\n",
    "    fig = plt.figure(figsize=(8, 6))\n",
    "    \n",
    "    if name_model in [\"LinearRegression\", \"KNeighbors\", \"Lasso\", \"RandomForestRegressor\"]:\n",
    "        \n",
    "        # Get the validation_curves results\n",
    "        train_scores, test_scores = validation_curve(estimator, X_train, y_train, param_name=param_name, param_range=param_range, cv=kfold)\n",
    "\n",
    "        train_scores_mean = np.mean(train_scores, axis=1)\n",
    "        train_scores_std = np.std(train_scores, axis=1)\n",
    "        test_scores_mean = np.mean(test_scores, axis=1)\n",
    "        test_scores_std = np.std(test_scores, axis=1)\n",
    "\n",
    "        plot = sns.lineplot(x=param_range, y=train_scores_mean, label=\"Train\", marker=\"o\")\n",
    "        plt.fill_between(param_range, train_scores_mean - train_scores_std, train_scores_mean + train_scores_std, alpha=0.1, color=\"blue\")\n",
    "\n",
    "        plot = sns.lineplot(x=param_range, y=test_scores_mean, label=\"Validation\", marker=\"o\")\n",
    "        plt.fill_between(param_range, test_scores_mean - test_scores_std, test_scores_mean + test_scores_std, alpha=0.1, color=\"orange\")\n",
    "\n",
    "        plt.legend(bbox_to_anchor=(1.01, 1), borderaxespad=0)\n",
    "        plt.title(name_model + \" Validation curve\", fontdict={ \"fontsize\": 16, \"fontweight\": \"normal\" })\n",
    "        plot.set(xlabel=param_name_short, ylabel=\"R2-score\".translate(SUP), xlim=[0, max(param_range)])\n",
    "        \n",
    "    elif name_model == \"GradientBoostingRegressor\":\n",
    "    \n",
    "       # Get the validation_curves results\n",
    "        train_scores, test_scores = validation_curve(estimator, X_train, y_train, param_name=param_name, param_range=param_range, scoring=scoring, cv=kfold)\n",
    "        \n",
    "        train_errors, test_errors = -train_scores, -test_scores\n",
    "        \n",
    "        plt.errorbar(param_range, train_errors.mean(axis=1), yerr=train_errors.std(axis=1), label=\"Training score\")\n",
    "        plt.errorbar(param_range, test_errors.mean(axis=1), yerr=test_errors.std(axis=1), label=\"Cross-validation score\")\n",
    "\n",
    "        plt.legend()\n",
    "        \n",
    "        # Mean absolute error in k$\\n(smaller is better)\n",
    "        plt.ylabel(\"MAE\")\n",
    "        plt.xlabel(\"Estimators\")\n",
    "        _ = plt.title(name_model + \" Validation curve\", fontdict={ \"fontsize\": 16, \"fontweight\": \"normal\" })\n",
    "        \n",
    "    plt.savefig(\"img/\" + name_model + \"-validation-curve.png\")\n",
    "    sns.despine(fig)\n",
    "    plt.show()\n",
    "\n",
    "            \n",
    "def plot_learning_curve(estimator, name_model, X_train, y_train, cv=None, train_sizes=np.linspace(0.2, 1.0, 10)):\n",
    "    \"\"\"\n",
    "    Generate 3 plots: \n",
    "        1. The test and training learning curve\n",
    "        2. The training samples vs fit times curve\n",
    "        3. The fit times vs score curve\n",
    "    \n",
    "    Parameters\n",
    "    -----------------\n",
    "    estimator : estimator instance\n",
    "        An estimator instance implementing `fit` and `predict` methods which\n",
    "        will be cloned for each validation.\n",
    "        \n",
    "    name_model : str\n",
    "        Name of the model as title for the chart.        \n",
    "        \n",
    "    X_train : array-like of shape (n_samples, n_features)\n",
    "        Training vector, where ``n_samples`` is the number of samples and\n",
    "        ``n_features`` is the number of features.\n",
    "\n",
    "    y_train : array-like of shape (n_samples) or (n_samples, n_features)\n",
    "        Target relative to ``X`` for classification or regression;\n",
    "        None for unsupervised learning.        \n",
    "        \n",
    "    cv : int, cross-validation generator or an iterable, default=None\n",
    "        Determines the cross-validation splitting strategy.\n",
    "        Possible inputs for cv are:\n",
    "\n",
    "          - None, to use the default 5-fold cross-validation,\n",
    "          - integer, to specify the number of folds.\n",
    "          - :term:`CV splitter`,\n",
    "          - An iterable yielding (train, test) splits as arrays of indices.\n",
    "\n",
    "        For integer/None inputs, if ``y`` is binary or multiclass,\n",
    "        :class:`StratifiedKFold` used. If the estimator is not a classifier\n",
    "        or if ``y`` is neither binary nor multiclass, :class:`KFold` is used.\n",
    "\n",
    "        Refer :ref:`User Guide <cross_validation>` for the various\n",
    "        cross-validators that can be used here.\n",
    "\n",
    "    train_sizes : array-like of shape (n_ticks,)\n",
    "        Relative or absolute numbers of training examples that will be used to\n",
    "        generate the learning curve. If the ``dtype`` is float, it is regarded\n",
    "        as a fraction of the maximum size of the training set (that is\n",
    "        determined by the selected validation method), i.e. it has to be within\n",
    "        (0, 1]. Otherwise it is interpreted as absolute sizes of the training\n",
    "        sets. Note that for classification the number of samples usually have\n",
    "        to be big enough to contain at least one sample from each class.\n",
    "        (default: np.linspace(0.1, 1.0, 5) or (0.2, 1.0, 10))\n",
    "        \n",
    "    Returns:\n",
    "    -----------------\n",
    "        None. \n",
    "        Plot the graphs. \n",
    "        \n",
    "    \"\"\"\n",
    "    \n",
    "    # Get the learning_curves results\n",
    "    train_sizes, train_scores, test_scores, fit_times, _ = learning_curve(estimator, X_train, y_train, cv=cv, \\\n",
    "                                                                           train_sizes=train_sizes, n_jobs=-1, return_times=True)\n",
    "    \n",
    "    train_scores_mean = np.mean(train_scores, axis=1)\n",
    "    train_scores_std = np.std(train_scores, axis=1)\n",
    "    test_scores_mean = np.mean(test_scores, axis=1)\n",
    "    test_scores_std = np.std(test_scores, axis=1)\n",
    "    fit_times_mean = np.mean(fit_times, axis=1)\n",
    "    fit_times_std = np.std(fit_times, axis=1)\n",
    "    \n",
    "    # Initializing figure\n",
    "    fig, (ax1, ax2, ax3) = plt.subplots(nrows=1, ncols=3, figsize=(24, 6))\n",
    "    \n",
    "    # Plot learning curve\n",
    "    plot = sns.lineplot(x=train_sizes, y=train_scores_mean, label=\"Train\", marker=\"o\", ax=ax1)\n",
    "    ax1.fill_between(train_sizes, train_scores_mean - train_scores_std, train_scores_mean + train_scores_std, alpha=0.1, color=\"blue\")\n",
    "\n",
    "    plot = sns.lineplot(x=train_sizes, y=test_scores_mean, label=\"Validation\", marker=\"o\", ax=ax1)\n",
    "    ax1.fill_between(train_sizes, test_scores_mean - test_scores_std, test_scores_mean + test_scores_std, alpha=0.1, color=\"orange\")\n",
    "    \n",
    "    ax1.legend(loc=\"best\")\n",
    "    ax1.set_title(\" Learning curve (\" + name_model + \")\", fontdict={ \"fontsize\": 16, \"fontweight\": \"normal\" })\n",
    "    plot.set(xlabel=\"Training examples\", ylabel=\"R2-score\".translate(SUP))\n",
    "    \n",
    "    # Plot Scalability of the model\n",
    "    plot = sns.lineplot(x=train_sizes, y=fit_times_mean, marker=\"o\", ax=ax2)\n",
    "    ax2.fill_between(train_sizes, fit_times_mean - fit_times_std, fit_times_mean + fit_times_std, alpha=0.1, color=\"blue\")\n",
    "    \n",
    "    ax2.set_title(\"Scalability of the model\", fontdict={ \"fontsize\": 16, \"fontweight\": \"normal\" })\n",
    "    plot.set(xlabel=\"Training examples\", ylabel=\"Fit times\")\n",
    "\n",
    "    # Performance of the model\n",
    "    plot = sns.lineplot(x=fit_times_mean, y=test_scores_mean, marker=\"o\", ax=ax3)\n",
    "    ax3.fill_between(fit_times_mean, test_scores_mean - test_scores_std, test_scores_mean + test_scores_std, alpha=0.1)\n",
    "    \n",
    "    ax3.set_title(\"Performance of the model\", fontdict={ \"fontsize\": 16, \"fontweight\": \"normal\" })\n",
    "    plot.set(xlabel=\"Fit times examples\", ylabel=\"R2-score\".translate(SUP))\n",
    "    \n",
    "    plt.savefig(\"img/\" + name_model + \"-performance-model.png\")\n",
    "    sns.despine(fig)\n",
    "    plt.show()\n",
    "\n",
    "\n",
    "def plot_cross_val_predi(estimator, name_model, target_variable, X_train, y_train, cv=None):\n",
    "    \"\"\"\n",
    "    Generate 1 plots: \n",
    "        1. The validation between real values vs predicted values\n",
    "    \n",
    "    Parameters\n",
    "    -----------------\n",
    "    estimator : estimator instance\n",
    "        An estimator instance implementing `fit` and `predict` methods which\n",
    "        will be cloned for each validation.\n",
    "        \n",
    "    name_model : str\n",
    "        Name of the model as title for the chart.   \n",
    "\n",
    "    target_variable : str\n",
    "        Name of the target variable.    \n",
    "        \n",
    "    X_train : array-like of shape (n_samples, n_features)\n",
    "        Training vector, where ``n_samples`` is the number of samples and\n",
    "        ``n_features`` is the number of features.\n",
    "\n",
    "    y_train : array-like of shape (n_samples) or (n_samples, n_features)\n",
    "        Target relative to ``X`` for classification or regression;\n",
    "        None for unsupervised learning.      \n",
    "        \n",
    "    cv : int, cross-validation generator or an iterable, default=None\n",
    "        Determines the cross-validation splitting strategy.\n",
    "        Possible inputs for cv are:\n",
    "\n",
    "          - None, to use the default 5-fold cross-validation,\n",
    "          - integer, to specify the number of folds.\n",
    "          - :term:`CV splitter`,\n",
    "          - An iterable yielding (train, test) splits as arrays of indices.\n",
    "\n",
    "        For integer/None inputs, if ``y`` is binary or multiclass,\n",
    "        :class:`StratifiedKFold` used. If the estimator is not a classifier\n",
    "        or if ``y`` is neither binary nor multiclass, :class:`KFold` is used.\n",
    "\n",
    "        Refer :ref:`User Guide <cross_validation>` for the various\n",
    "        cross-validators that can be used here.\n",
    "        \n",
    "    Returns:\n",
    "    -----------------\n",
    "        None. \n",
    "        Plot the graph. \n",
    "        \n",
    "    \"\"\"   \n",
    "    \n",
    "    # Get the predicted values\n",
    "    predicted = cross_val_predict(estimator, X_train, y_train, cv=kfold)\n",
    "    \n",
    "    # Initializing figure\n",
    "    fig, (ax1, ax2) = plt.subplots(nrows=1, ncols=2, figsize=(18, 8))\n",
    "    \n",
    "    # Main title\n",
    "    plt.suptitle(\"Real values vs Predicted values\", size=24)\n",
    "    \n",
    "    ax1.scatter(y_train, predicted, edgecolors=(0, 0, 0))\n",
    "    ax1.plot([y_train.min(), y_train.max()], [y_train.min(), y_train.max()], \"--k\", lw=4)\n",
    "    \n",
    "    ax1.text(min(y_train)+0.2, 0.98*max(y_train), r'$R^2$=%.2f, RMSE=%.2f' % (\n",
    "            round(r2_score(y_train, predicted), 3),\n",
    "            round(math.sqrt(mean_squared_error(y_train, predicted)), 3)), \n",
    "            style=\"italic\", fontsize=12,\n",
    "            bbox={\"facecolor\": \"grey\", \"alpha\": 0.4, \"pad\": 5})\n",
    "    \n",
    "    sns.kdeplot(y_train, color=\"r\", label=\"Real values\", ax=ax2)\n",
    "    sns.kdeplot(predicted, color=\"b\", label=\"Predicted values\", ax=ax2)\n",
    "    \n",
    "    ax1.set_title(name_model + \" Cross-Values Predictions\", fontdict={ \"fontsize\": 16, \"fontweight\": \"normal\" })\n",
    "    ax1.set_xlabel(\"Real values\")\n",
    "    ax1.set_ylabel(\"Predicted values\")\n",
    "    \n",
    "    ax2.set_title(\"Distribution plot based on density\", fontdict={ \"fontsize\": 16, \"fontweight\": \"normal\" })\n",
    "    ax2.set_xlabel(\"SiteEnergyUse(kBtu)\")\n",
    "    ax2.set_ylabel(\"Density\")\n",
    "    plt.legend(bbox_to_anchor=(0.99, 0.99), borderaxespad=0)\n",
    "    \n",
    "    plt.savefig(\"img/\" + name_model + \"-cross-val-predict.png\")\n",
    "    plt.show()\n",
    "    \n",
    "\n",
    "def plot_features_importance(estimator, name_model, X_train, y_train, scoring=None):\n",
    "    \"\"\"\n",
    "    Generate 1 plots: \n",
    "        1. The importance by feature\n",
    "    \n",
    "    Parameters\n",
    "    -----------------\n",
    "    estimator : estimator instance\n",
    "        An estimator instance implementing `fit` and `predict` methods which\n",
    "        will be cloned for each validation.\n",
    "        \n",
    "    name_model : str\n",
    "        Name of the model as title for the chart.     \n",
    "        \n",
    "    X_train : array-like of shape (n_samples, n_features)\n",
    "        Training vector, where ``n_samples`` is the number of samples and\n",
    "        ``n_features`` is the number of features.\n",
    "\n",
    "    y_train : array-like of shape (n_samples) or (n_samples, n_features)\n",
    "        Target relative to ``X`` for classification or regression;\n",
    "        None for unsupervised learning. \n",
    "        \n",
    "    scoring : string, callable or None, default=None\n",
    "        Scorer to use. It can be a single string or a callable. \n",
    "        If None, the estimator’s default scorer is used. \n",
    "        \n",
    "    Returns:\n",
    "    -----------------\n",
    "        None. \n",
    "        Plot the graph. \n",
    "        \n",
    "    \"\"\"     \n",
    "    # Get the importance by feature\n",
    "    results = permutation_importance(estimator, X_train, y_train, scoring=\"neg_mean_squared_error\")\n",
    "    \n",
    "    # Making a dataframe to work easily\n",
    "    df_importance = pd.DataFrame({\n",
    "                        \"Feature\" : X_train.columns,\n",
    "                        \"Importance\" : results.importances_mean\n",
    "                    })\n",
    "    \n",
    "    # Sorting by importance before plotting\n",
    "    df_importance = df_importance.sort_values(\"Importance\")\n",
    "    \n",
    "    # Initializing figure    \n",
    "    fig = plt.subplots(figsize=(10, 8))\n",
    "    \n",
    "    plot = sns.barplot(data=df_importance, y=df_importance[\"Feature\"], x=df_importance[\"Importance\"])\n",
    "    \n",
    "    plt.title(name_model + \" Features Importance\", fontdict={ \"fontsize\": 16, \"fontweight\": \"normal\" })\n",
    "    plt.xlabel(\"Importance\")\n",
    "    plt.ylabel(\"Features\")\n",
    "    plt.tight_layout()\n",
    "    plt.savefig(\"img/\" + name_model + \"-feature-importance.png\")\n",
    "    plt.show()"
   ]
  },
  {
   "cell_type": "markdown",
   "id": "4a187b49-944f-4539-aea7-c88f883479f2",
   "metadata": {
    "tags": []
   },
   "source": [
    "<div style=\"background-color: #506AB9;\" >\n",
    "    <h2 style=\"margin: auto; padding: 20px; color:#fff; \">2. Importing files</h2>\n",
    "</div>"
   ]
  },
  {
   "cell_type": "markdown",
   "id": "d5220848-185a-4fb5-9d2d-b03a7ebbfbcc",
   "metadata": {},
   "source": [
    "<div style=\"background-color: #6D83C5;\" >\n",
    "    <h3 style=\"margin: auto; padding: 20px; color:#fff; \">2.1. Importing and preparing files</h3>\n",
    "</div>"
   ]
  },
  {
   "cell_type": "code",
   "execution_count": 3,
   "id": "0d36be08-1cf5-4bd1-b2e3-55026d6bf1a1",
   "metadata": {},
   "outputs": [],
   "source": [
    "data = pd.read_csv(r\"datasets\\df_cleaned_final.csv\")"
   ]
  },
  {
   "cell_type": "code",
   "execution_count": 4,
   "id": "b3037c28-e24a-4c8b-9b7c-f7876d9ba3f9",
   "metadata": {},
   "outputs": [
    {
     "data": {
      "text/html": [
       "<div>\n",
       "<style scoped>\n",
       "    .dataframe tbody tr th:only-of-type {\n",
       "        vertical-align: middle;\n",
       "    }\n",
       "\n",
       "    .dataframe tbody tr th {\n",
       "        vertical-align: top;\n",
       "    }\n",
       "\n",
       "    .dataframe thead th {\n",
       "        text-align: right;\n",
       "    }\n",
       "</style>\n",
       "<table border=\"1\" class=\"dataframe\">\n",
       "  <thead>\n",
       "    <tr style=\"text-align: right;\">\n",
       "      <th></th>\n",
       "      <th>NumberofFloors</th>\n",
       "      <th>NumberofBuildings</th>\n",
       "      <th>BuildingAge</th>\n",
       "      <th>PropertyGFAParking</th>\n",
       "      <th>PropertyGFABuilding(s)</th>\n",
       "      <th>Neighborhood</th>\n",
       "      <th>renamed_PropertyType</th>\n",
       "      <th>Electricity_ratio</th>\n",
       "      <th>SiteEnergyUse(kBtu)</th>\n",
       "      <th>GHGEmissions(MetricTonsCO2e)</th>\n",
       "    </tr>\n",
       "  </thead>\n",
       "  <tbody>\n",
       "    <tr>\n",
       "      <th>0</th>\n",
       "      <td>12.0</td>\n",
       "      <td>1.0</td>\n",
       "      <td>94.0</td>\n",
       "      <td>0.0</td>\n",
       "      <td>88434.0</td>\n",
       "      <td>DOWNTOWN</td>\n",
       "      <td>Hotel</td>\n",
       "      <td>52.79951</td>\n",
       "      <td>6981428.0</td>\n",
       "      <td>249.43</td>\n",
       "    </tr>\n",
       "    <tr>\n",
       "      <th>1</th>\n",
       "      <td>11.0</td>\n",
       "      <td>1.0</td>\n",
       "      <td>25.0</td>\n",
       "      <td>15064.0</td>\n",
       "      <td>88502.0</td>\n",
       "      <td>DOWNTOWN</td>\n",
       "      <td>Hotel</td>\n",
       "      <td>46.74768</td>\n",
       "      <td>8354235.0</td>\n",
       "      <td>263.51</td>\n",
       "    </tr>\n",
       "    <tr>\n",
       "      <th>2</th>\n",
       "      <td>10.0</td>\n",
       "      <td>1.0</td>\n",
       "      <td>95.0</td>\n",
       "      <td>0.0</td>\n",
       "      <td>61320.0</td>\n",
       "      <td>DOWNTOWN</td>\n",
       "      <td>Hotel</td>\n",
       "      <td>9.80903</td>\n",
       "      <td>28229320.0</td>\n",
       "      <td>1936.34</td>\n",
       "    </tr>\n",
       "    <tr>\n",
       "      <th>3</th>\n",
       "      <td>18.0</td>\n",
       "      <td>1.0</td>\n",
       "      <td>41.0</td>\n",
       "      <td>62000.0</td>\n",
       "      <td>113580.0</td>\n",
       "      <td>DOWNTOWN</td>\n",
       "      <td>Hotel</td>\n",
       "      <td>40.90771</td>\n",
       "      <td>14829099.0</td>\n",
       "      <td>507.70</td>\n",
       "    </tr>\n",
       "    <tr>\n",
       "      <th>4</th>\n",
       "      <td>11.0</td>\n",
       "      <td>1.0</td>\n",
       "      <td>95.0</td>\n",
       "      <td>0.0</td>\n",
       "      <td>83008.0</td>\n",
       "      <td>DOWNTOWN</td>\n",
       "      <td>Hotel</td>\n",
       "      <td>42.85568</td>\n",
       "      <td>6252842.0</td>\n",
       "      <td>208.46</td>\n",
       "    </tr>\n",
       "  </tbody>\n",
       "</table>\n",
       "</div>"
      ],
      "text/plain": [
       "   NumberofFloors  NumberofBuildings  BuildingAge  PropertyGFAParking  \\\n",
       "0            12.0                1.0         94.0                 0.0   \n",
       "1            11.0                1.0         25.0             15064.0   \n",
       "2            10.0                1.0         95.0                 0.0   \n",
       "3            18.0                1.0         41.0             62000.0   \n",
       "4            11.0                1.0         95.0                 0.0   \n",
       "\n",
       "   PropertyGFABuilding(s) Neighborhood renamed_PropertyType  \\\n",
       "0                 88434.0     DOWNTOWN                Hotel   \n",
       "1                 88502.0     DOWNTOWN                Hotel   \n",
       "2                 61320.0     DOWNTOWN                Hotel   \n",
       "3                113580.0     DOWNTOWN                Hotel   \n",
       "4                 83008.0     DOWNTOWN                Hotel   \n",
       "\n",
       "   Electricity_ratio  SiteEnergyUse(kBtu)  GHGEmissions(MetricTonsCO2e)  \n",
       "0           52.79951            6981428.0                        249.43  \n",
       "1           46.74768            8354235.0                        263.51  \n",
       "2            9.80903           28229320.0                       1936.34  \n",
       "3           40.90771           14829099.0                        507.70  \n",
       "4           42.85568            6252842.0                        208.46  "
      ]
     },
     "execution_count": 4,
     "metadata": {},
     "output_type": "execute_result"
    }
   ],
   "source": [
    "data.head()"
   ]
  },
  {
   "cell_type": "code",
   "execution_count": 5,
   "id": "98575580-cc9a-45c8-b096-f9b3a83aa953",
   "metadata": {},
   "outputs": [
    {
     "name": "stdout",
     "output_type": "stream",
     "text": [
      "\n",
      "Analysis of data dataset\n",
      "--------------------------------------------------------------------\n",
      "- Dataset shape:                  1551 rows and 10 columns\n",
      "- Total of NaN values:            0\n",
      "- Percentage of NaN:              0.0 %\n",
      "- Total of full duplicates rows:  0\n",
      "- Total of empty rows:            0\n",
      "- Total of empty columns:         0\n",
      "- Unique indexes:                 True\n",
      "\n",
      "- Type object and records by columns      ( memory usage: 121.3+ KB )\n",
      "--------------------------------------------------------------------\n"
     ]
    },
    {
     "data": {
      "text/html": [
       "<div>\n",
       "<style scoped>\n",
       "    .dataframe tbody tr th:only-of-type {\n",
       "        vertical-align: middle;\n",
       "    }\n",
       "\n",
       "    .dataframe tbody tr th {\n",
       "        vertical-align: top;\n",
       "    }\n",
       "\n",
       "    .dataframe thead th {\n",
       "        text-align: right;\n",
       "    }\n",
       "</style>\n",
       "<table border=\"1\" class=\"dataframe\">\n",
       "  <thead>\n",
       "    <tr style=\"text-align: right;\">\n",
       "      <th></th>\n",
       "      <th>name</th>\n",
       "      <th>type</th>\n",
       "      <th>records</th>\n",
       "      <th>unique</th>\n",
       "      <th># NaN</th>\n",
       "      <th>% NaN</th>\n",
       "      <th>mean</th>\n",
       "      <th>min</th>\n",
       "      <th>25%</th>\n",
       "      <th>50%</th>\n",
       "      <th>75%</th>\n",
       "      <th>max</th>\n",
       "      <th>std</th>\n",
       "    </tr>\n",
       "  </thead>\n",
       "  <tbody>\n",
       "    <tr>\n",
       "      <th>0</th>\n",
       "      <td>NumberofFloors</td>\n",
       "      <td>float64</td>\n",
       "      <td>1551</td>\n",
       "      <td>28</td>\n",
       "      <td>0</td>\n",
       "      <td>0.00000</td>\n",
       "      <td>3.36944</td>\n",
       "      <td>1.00000</td>\n",
       "      <td>1.00000</td>\n",
       "      <td>2.00000</td>\n",
       "      <td>4.00000</td>\n",
       "      <td>33.00000</td>\n",
       "      <td>3.64942</td>\n",
       "    </tr>\n",
       "    <tr>\n",
       "      <th>1</th>\n",
       "      <td>NumberofBuildings</td>\n",
       "      <td>float64</td>\n",
       "      <td>1551</td>\n",
       "      <td>4</td>\n",
       "      <td>0</td>\n",
       "      <td>0.00000</td>\n",
       "      <td>1.00516</td>\n",
       "      <td>1.00000</td>\n",
       "      <td>1.00000</td>\n",
       "      <td>1.00000</td>\n",
       "      <td>1.00000</td>\n",
       "      <td>6.00000</td>\n",
       "      <td>0.13903</td>\n",
       "    </tr>\n",
       "    <tr>\n",
       "      <th>2</th>\n",
       "      <td>BuildingAge</td>\n",
       "      <td>float64</td>\n",
       "      <td>1551</td>\n",
       "      <td>113</td>\n",
       "      <td>0</td>\n",
       "      <td>0.00000</td>\n",
       "      <td>59.89297</td>\n",
       "      <td>6.00000</td>\n",
       "      <td>33.00000</td>\n",
       "      <td>57.00000</td>\n",
       "      <td>91.00000</td>\n",
       "      <td>121.00000</td>\n",
       "      <td>32.56694</td>\n",
       "    </tr>\n",
       "    <tr>\n",
       "      <th>3</th>\n",
       "      <td>PropertyGFAParking</td>\n",
       "      <td>float64</td>\n",
       "      <td>1551</td>\n",
       "      <td>280</td>\n",
       "      <td>0</td>\n",
       "      <td>0.00000</td>\n",
       "      <td>8472.80916</td>\n",
       "      <td>0.00000</td>\n",
       "      <td>0.00000</td>\n",
       "      <td>0.00000</td>\n",
       "      <td>0.00000</td>\n",
       "      <td>206597.00000</td>\n",
       "      <td>25823.59232</td>\n",
       "    </tr>\n",
       "    <tr>\n",
       "      <th>4</th>\n",
       "      <td>PropertyGFABuilding(s)</td>\n",
       "      <td>float64</td>\n",
       "      <td>1551</td>\n",
       "      <td>1469</td>\n",
       "      <td>0</td>\n",
       "      <td>0.00000</td>\n",
       "      <td>75768.87814</td>\n",
       "      <td>3636.00000</td>\n",
       "      <td>27710.00000</td>\n",
       "      <td>45000.00000</td>\n",
       "      <td>82543.00000</td>\n",
       "      <td>1158691.00000</td>\n",
       "      <td>90312.92302</td>\n",
       "    </tr>\n",
       "    <tr>\n",
       "      <th>5</th>\n",
       "      <td>Neighborhood</td>\n",
       "      <td>object</td>\n",
       "      <td>1551</td>\n",
       "      <td>13</td>\n",
       "      <td>0</td>\n",
       "      <td>0.00000</td>\n",
       "      <td>NaN</td>\n",
       "      <td>NaN</td>\n",
       "      <td>NaN</td>\n",
       "      <td>NaN</td>\n",
       "      <td>NaN</td>\n",
       "      <td>NaN</td>\n",
       "      <td>NaN</td>\n",
       "    </tr>\n",
       "    <tr>\n",
       "      <th>6</th>\n",
       "      <td>renamed_PropertyType</td>\n",
       "      <td>object</td>\n",
       "      <td>1551</td>\n",
       "      <td>8</td>\n",
       "      <td>0</td>\n",
       "      <td>0.00000</td>\n",
       "      <td>NaN</td>\n",
       "      <td>NaN</td>\n",
       "      <td>NaN</td>\n",
       "      <td>NaN</td>\n",
       "      <td>NaN</td>\n",
       "      <td>NaN</td>\n",
       "      <td>NaN</td>\n",
       "    </tr>\n",
       "    <tr>\n",
       "      <th>7</th>\n",
       "      <td>Electricity_ratio</td>\n",
       "      <td>float64</td>\n",
       "      <td>1551</td>\n",
       "      <td>1209</td>\n",
       "      <td>0</td>\n",
       "      <td>0.00000</td>\n",
       "      <td>70.57165</td>\n",
       "      <td>0.00033</td>\n",
       "      <td>50.30382</td>\n",
       "      <td>71.44200</td>\n",
       "      <td>100.00101</td>\n",
       "      <td>100.00874</td>\n",
       "      <td>25.87075</td>\n",
       "    </tr>\n",
       "    <tr>\n",
       "      <th>8</th>\n",
       "      <td>SiteEnergyUse(kBtu)</td>\n",
       "      <td>float64</td>\n",
       "      <td>1551</td>\n",
       "      <td>1550</td>\n",
       "      <td>0</td>\n",
       "      <td>0.00000</td>\n",
       "      <td>5777559.01140</td>\n",
       "      <td>11441.00000</td>\n",
       "      <td>1182991.50000</td>\n",
       "      <td>2316441.00000</td>\n",
       "      <td>6157736.50000</td>\n",
       "      <td>295812640.00000</td>\n",
       "      <td>13228100.09894</td>\n",
       "    </tr>\n",
       "    <tr>\n",
       "      <th>9</th>\n",
       "      <td>GHGEmissions(MetricTonsCO2e)</td>\n",
       "      <td>float64</td>\n",
       "      <td>1551</td>\n",
       "      <td>1481</td>\n",
       "      <td>0</td>\n",
       "      <td>0.00000</td>\n",
       "      <td>127.80329</td>\n",
       "      <td>0.08000</td>\n",
       "      <td>18.86500</td>\n",
       "      <td>45.90000</td>\n",
       "      <td>120.12000</td>\n",
       "      <td>10780.64000</td>\n",
       "      <td>423.95305</td>\n",
       "    </tr>\n",
       "  </tbody>\n",
       "</table>\n",
       "</div>"
      ],
      "text/plain": [
       "                           name     type  records  unique  # NaN   % NaN  \\\n",
       "0                NumberofFloors  float64     1551      28      0 0.00000   \n",
       "1             NumberofBuildings  float64     1551       4      0 0.00000   \n",
       "2                   BuildingAge  float64     1551     113      0 0.00000   \n",
       "3            PropertyGFAParking  float64     1551     280      0 0.00000   \n",
       "4        PropertyGFABuilding(s)  float64     1551    1469      0 0.00000   \n",
       "5                  Neighborhood   object     1551      13      0 0.00000   \n",
       "6          renamed_PropertyType   object     1551       8      0 0.00000   \n",
       "7             Electricity_ratio  float64     1551    1209      0 0.00000   \n",
       "8           SiteEnergyUse(kBtu)  float64     1551    1550      0 0.00000   \n",
       "9  GHGEmissions(MetricTonsCO2e)  float64     1551    1481      0 0.00000   \n",
       "\n",
       "           mean         min           25%           50%           75%  \\\n",
       "0       3.36944     1.00000       1.00000       2.00000       4.00000   \n",
       "1       1.00516     1.00000       1.00000       1.00000       1.00000   \n",
       "2      59.89297     6.00000      33.00000      57.00000      91.00000   \n",
       "3    8472.80916     0.00000       0.00000       0.00000       0.00000   \n",
       "4   75768.87814  3636.00000   27710.00000   45000.00000   82543.00000   \n",
       "5           NaN         NaN           NaN           NaN           NaN   \n",
       "6           NaN         NaN           NaN           NaN           NaN   \n",
       "7      70.57165     0.00033      50.30382      71.44200     100.00101   \n",
       "8 5777559.01140 11441.00000 1182991.50000 2316441.00000 6157736.50000   \n",
       "9     127.80329     0.08000      18.86500      45.90000     120.12000   \n",
       "\n",
       "              max            std  \n",
       "0        33.00000        3.64942  \n",
       "1         6.00000        0.13903  \n",
       "2       121.00000       32.56694  \n",
       "3    206597.00000    25823.59232  \n",
       "4   1158691.00000    90312.92302  \n",
       "5             NaN            NaN  \n",
       "6             NaN            NaN  \n",
       "7       100.00874       25.87075  \n",
       "8 295812640.00000 13228100.09894  \n",
       "9     10780.64000      423.95305  "
      ]
     },
     "metadata": {},
     "output_type": "display_data"
    }
   ],
   "source": [
    "df_analysis(data, \"data\", type_analysis=\"complete\")"
   ]
  },
  {
   "cell_type": "markdown",
   "id": "10b8d6da-0849-4f8f-8722-d0898e7b623e",
   "metadata": {
    "tags": []
   },
   "source": [
    "<div style=\"background-color: #506AB9;\" >\n",
    "    <h2 style=\"margin: auto; padding: 20px; color:#fff; \">3. Splitting data (SiteEnergyUse(kBtu)</h2>\n",
    "</div>"
   ]
  },
  {
   "cell_type": "markdown",
   "id": "1b6a99ac-41c2-4778-8b9b-99779277935f",
   "metadata": {},
   "source": [
    "<div style=\"background-color: #6D83C5;\" >\n",
    "    <h3 style=\"margin: auto; padding: 20px; color:#fff; \">3.1. Splitting dataset based on the features and targets</h3>\n",
    "</div>"
   ]
  },
  {
   "cell_type": "code",
   "execution_count": 6,
   "id": "e351dddb-bf8c-4128-985e-702d4d05394a",
   "metadata": {},
   "outputs": [
    {
     "data": {
      "text/html": [
       "<div>\n",
       "<style scoped>\n",
       "    .dataframe tbody tr th:only-of-type {\n",
       "        vertical-align: middle;\n",
       "    }\n",
       "\n",
       "    .dataframe tbody tr th {\n",
       "        vertical-align: top;\n",
       "    }\n",
       "\n",
       "    .dataframe thead th {\n",
       "        text-align: right;\n",
       "    }\n",
       "</style>\n",
       "<table border=\"1\" class=\"dataframe\">\n",
       "  <thead>\n",
       "    <tr style=\"text-align: right;\">\n",
       "      <th></th>\n",
       "      <th>NumberofFloors</th>\n",
       "      <th>NumberofBuildings</th>\n",
       "      <th>BuildingAge</th>\n",
       "      <th>PropertyGFAParking</th>\n",
       "      <th>PropertyGFABuilding(s)</th>\n",
       "      <th>Neighborhood</th>\n",
       "      <th>renamed_PropertyType</th>\n",
       "      <th>Electricity_ratio</th>\n",
       "      <th>SiteEnergyUse(kBtu)</th>\n",
       "      <th>GHGEmissions(MetricTonsCO2e)</th>\n",
       "    </tr>\n",
       "  </thead>\n",
       "  <tbody>\n",
       "    <tr>\n",
       "      <th>0</th>\n",
       "      <td>12.0</td>\n",
       "      <td>1.0</td>\n",
       "      <td>94.0</td>\n",
       "      <td>0.0</td>\n",
       "      <td>88434.0</td>\n",
       "      <td>DOWNTOWN</td>\n",
       "      <td>Hotel</td>\n",
       "      <td>52.79951</td>\n",
       "      <td>6981428.0</td>\n",
       "      <td>249.43</td>\n",
       "    </tr>\n",
       "    <tr>\n",
       "      <th>1</th>\n",
       "      <td>11.0</td>\n",
       "      <td>1.0</td>\n",
       "      <td>25.0</td>\n",
       "      <td>15064.0</td>\n",
       "      <td>88502.0</td>\n",
       "      <td>DOWNTOWN</td>\n",
       "      <td>Hotel</td>\n",
       "      <td>46.74768</td>\n",
       "      <td>8354235.0</td>\n",
       "      <td>263.51</td>\n",
       "    </tr>\n",
       "    <tr>\n",
       "      <th>2</th>\n",
       "      <td>10.0</td>\n",
       "      <td>1.0</td>\n",
       "      <td>95.0</td>\n",
       "      <td>0.0</td>\n",
       "      <td>61320.0</td>\n",
       "      <td>DOWNTOWN</td>\n",
       "      <td>Hotel</td>\n",
       "      <td>9.80903</td>\n",
       "      <td>28229320.0</td>\n",
       "      <td>1936.34</td>\n",
       "    </tr>\n",
       "    <tr>\n",
       "      <th>3</th>\n",
       "      <td>18.0</td>\n",
       "      <td>1.0</td>\n",
       "      <td>41.0</td>\n",
       "      <td>62000.0</td>\n",
       "      <td>113580.0</td>\n",
       "      <td>DOWNTOWN</td>\n",
       "      <td>Hotel</td>\n",
       "      <td>40.90771</td>\n",
       "      <td>14829099.0</td>\n",
       "      <td>507.70</td>\n",
       "    </tr>\n",
       "    <tr>\n",
       "      <th>4</th>\n",
       "      <td>11.0</td>\n",
       "      <td>1.0</td>\n",
       "      <td>95.0</td>\n",
       "      <td>0.0</td>\n",
       "      <td>83008.0</td>\n",
       "      <td>DOWNTOWN</td>\n",
       "      <td>Hotel</td>\n",
       "      <td>42.85568</td>\n",
       "      <td>6252842.0</td>\n",
       "      <td>208.46</td>\n",
       "    </tr>\n",
       "  </tbody>\n",
       "</table>\n",
       "</div>"
      ],
      "text/plain": [
       "   NumberofFloors  NumberofBuildings  BuildingAge  PropertyGFAParking  \\\n",
       "0            12.0                1.0         94.0                 0.0   \n",
       "1            11.0                1.0         25.0             15064.0   \n",
       "2            10.0                1.0         95.0                 0.0   \n",
       "3            18.0                1.0         41.0             62000.0   \n",
       "4            11.0                1.0         95.0                 0.0   \n",
       "\n",
       "   PropertyGFABuilding(s) Neighborhood renamed_PropertyType  \\\n",
       "0                 88434.0     DOWNTOWN                Hotel   \n",
       "1                 88502.0     DOWNTOWN                Hotel   \n",
       "2                 61320.0     DOWNTOWN                Hotel   \n",
       "3                113580.0     DOWNTOWN                Hotel   \n",
       "4                 83008.0     DOWNTOWN                Hotel   \n",
       "\n",
       "   Electricity_ratio  SiteEnergyUse(kBtu)  GHGEmissions(MetricTonsCO2e)  \n",
       "0           52.79951            6981428.0                        249.43  \n",
       "1           46.74768            8354235.0                        263.51  \n",
       "2            9.80903           28229320.0                       1936.34  \n",
       "3           40.90771           14829099.0                        507.70  \n",
       "4           42.85568            6252842.0                        208.46  "
      ]
     },
     "execution_count": 6,
     "metadata": {},
     "output_type": "execute_result"
    }
   ],
   "source": [
    "data.head()"
   ]
  },
  {
   "cell_type": "markdown",
   "id": "b7c00731-17d8-4d02-8519-2dc468c86feb",
   "metadata": {},
   "source": [
    "<div class=\"alert alert-block alert-info\">\n",
    "    Working with a copy\n",
    "</div>"
   ]
  },
  {
   "cell_type": "code",
   "execution_count": 7,
   "id": "14fc5986-9793-496e-abdd-9f35c6bf7b6d",
   "metadata": {},
   "outputs": [],
   "source": [
    "data_trans = data.copy()"
   ]
  },
  {
   "cell_type": "code",
   "execution_count": 8,
   "id": "00b98811-cb08-4e70-ac00-d65ea957ec8c",
   "metadata": {},
   "outputs": [
    {
     "data": {
      "text/html": [
       "<div>\n",
       "<style scoped>\n",
       "    .dataframe tbody tr th:only-of-type {\n",
       "        vertical-align: middle;\n",
       "    }\n",
       "\n",
       "    .dataframe tbody tr th {\n",
       "        vertical-align: top;\n",
       "    }\n",
       "\n",
       "    .dataframe thead th {\n",
       "        text-align: right;\n",
       "    }\n",
       "</style>\n",
       "<table border=\"1\" class=\"dataframe\">\n",
       "  <thead>\n",
       "    <tr style=\"text-align: right;\">\n",
       "      <th></th>\n",
       "      <th>NumberofFloors</th>\n",
       "      <th>NumberofBuildings</th>\n",
       "      <th>BuildingAge</th>\n",
       "      <th>PropertyGFAParking</th>\n",
       "      <th>PropertyGFABuilding(s)</th>\n",
       "      <th>Neighborhood</th>\n",
       "      <th>renamed_PropertyType</th>\n",
       "      <th>Electricity_ratio</th>\n",
       "      <th>SiteEnergyUse(kBtu)</th>\n",
       "      <th>GHGEmissions(MetricTonsCO2e)</th>\n",
       "    </tr>\n",
       "  </thead>\n",
       "  <tbody>\n",
       "    <tr>\n",
       "      <th>0</th>\n",
       "      <td>12.0</td>\n",
       "      <td>1.0</td>\n",
       "      <td>94.0</td>\n",
       "      <td>0.0</td>\n",
       "      <td>88434.0</td>\n",
       "      <td>DOWNTOWN</td>\n",
       "      <td>Hotel</td>\n",
       "      <td>52.79951</td>\n",
       "      <td>6981428.0</td>\n",
       "      <td>249.43</td>\n",
       "    </tr>\n",
       "    <tr>\n",
       "      <th>1</th>\n",
       "      <td>11.0</td>\n",
       "      <td>1.0</td>\n",
       "      <td>25.0</td>\n",
       "      <td>15064.0</td>\n",
       "      <td>88502.0</td>\n",
       "      <td>DOWNTOWN</td>\n",
       "      <td>Hotel</td>\n",
       "      <td>46.74768</td>\n",
       "      <td>8354235.0</td>\n",
       "      <td>263.51</td>\n",
       "    </tr>\n",
       "    <tr>\n",
       "      <th>2</th>\n",
       "      <td>10.0</td>\n",
       "      <td>1.0</td>\n",
       "      <td>95.0</td>\n",
       "      <td>0.0</td>\n",
       "      <td>61320.0</td>\n",
       "      <td>DOWNTOWN</td>\n",
       "      <td>Hotel</td>\n",
       "      <td>9.80903</td>\n",
       "      <td>28229320.0</td>\n",
       "      <td>1936.34</td>\n",
       "    </tr>\n",
       "    <tr>\n",
       "      <th>3</th>\n",
       "      <td>18.0</td>\n",
       "      <td>1.0</td>\n",
       "      <td>41.0</td>\n",
       "      <td>62000.0</td>\n",
       "      <td>113580.0</td>\n",
       "      <td>DOWNTOWN</td>\n",
       "      <td>Hotel</td>\n",
       "      <td>40.90771</td>\n",
       "      <td>14829099.0</td>\n",
       "      <td>507.70</td>\n",
       "    </tr>\n",
       "    <tr>\n",
       "      <th>4</th>\n",
       "      <td>11.0</td>\n",
       "      <td>1.0</td>\n",
       "      <td>95.0</td>\n",
       "      <td>0.0</td>\n",
       "      <td>83008.0</td>\n",
       "      <td>DOWNTOWN</td>\n",
       "      <td>Hotel</td>\n",
       "      <td>42.85568</td>\n",
       "      <td>6252842.0</td>\n",
       "      <td>208.46</td>\n",
       "    </tr>\n",
       "  </tbody>\n",
       "</table>\n",
       "</div>"
      ],
      "text/plain": [
       "   NumberofFloors  NumberofBuildings  BuildingAge  PropertyGFAParking  \\\n",
       "0            12.0                1.0         94.0                 0.0   \n",
       "1            11.0                1.0         25.0             15064.0   \n",
       "2            10.0                1.0         95.0                 0.0   \n",
       "3            18.0                1.0         41.0             62000.0   \n",
       "4            11.0                1.0         95.0                 0.0   \n",
       "\n",
       "   PropertyGFABuilding(s) Neighborhood renamed_PropertyType  \\\n",
       "0                 88434.0     DOWNTOWN                Hotel   \n",
       "1                 88502.0     DOWNTOWN                Hotel   \n",
       "2                 61320.0     DOWNTOWN                Hotel   \n",
       "3                113580.0     DOWNTOWN                Hotel   \n",
       "4                 83008.0     DOWNTOWN                Hotel   \n",
       "\n",
       "   Electricity_ratio  SiteEnergyUse(kBtu)  GHGEmissions(MetricTonsCO2e)  \n",
       "0           52.79951            6981428.0                        249.43  \n",
       "1           46.74768            8354235.0                        263.51  \n",
       "2            9.80903           28229320.0                       1936.34  \n",
       "3           40.90771           14829099.0                        507.70  \n",
       "4           42.85568            6252842.0                        208.46  "
      ]
     },
     "execution_count": 8,
     "metadata": {},
     "output_type": "execute_result"
    }
   ],
   "source": [
    "data_trans.head()"
   ]
  },
  {
   "cell_type": "markdown",
   "id": "a8fd477b-806c-4c40-b17f-5ebf64502d94",
   "metadata": {},
   "source": [
    "<div class=\"alert alert-block alert-info\">\n",
    "    Making log transformation on specific columns based on the analysis conclusions done\n",
    "</div>"
   ]
  },
  {
   "cell_type": "code",
   "execution_count": 9,
   "id": "dca1933a-dc12-423f-bdea-47bb3786ca2c",
   "metadata": {},
   "outputs": [],
   "source": [
    "LOG_TRANS_FEATURES = [\"PropertyGFABuilding(s)\", \"SiteEnergyUse(kBtu)\", \"GHGEmissions(MetricTonsCO2e)\"]"
   ]
  },
  {
   "cell_type": "code",
   "execution_count": 10,
   "id": "1527e16d-82f8-4bfb-b575-eae4b6c9acc9",
   "metadata": {},
   "outputs": [],
   "source": [
    "for col in LOG_TRANS_FEATURES:\n",
    "    data_trans[col] = np.log2(data_trans[col])"
   ]
  },
  {
   "cell_type": "code",
   "execution_count": 11,
   "id": "df703e56-68aa-41d7-848e-03abe5620329",
   "metadata": {},
   "outputs": [
    {
     "data": {
      "text/html": [
       "<div>\n",
       "<style scoped>\n",
       "    .dataframe tbody tr th:only-of-type {\n",
       "        vertical-align: middle;\n",
       "    }\n",
       "\n",
       "    .dataframe tbody tr th {\n",
       "        vertical-align: top;\n",
       "    }\n",
       "\n",
       "    .dataframe thead th {\n",
       "        text-align: right;\n",
       "    }\n",
       "</style>\n",
       "<table border=\"1\" class=\"dataframe\">\n",
       "  <thead>\n",
       "    <tr style=\"text-align: right;\">\n",
       "      <th></th>\n",
       "      <th>NumberofFloors</th>\n",
       "      <th>NumberofBuildings</th>\n",
       "      <th>BuildingAge</th>\n",
       "      <th>PropertyGFAParking</th>\n",
       "      <th>PropertyGFABuilding(s)</th>\n",
       "      <th>Neighborhood</th>\n",
       "      <th>renamed_PropertyType</th>\n",
       "      <th>Electricity_ratio</th>\n",
       "      <th>SiteEnergyUse(kBtu)</th>\n",
       "      <th>GHGEmissions(MetricTonsCO2e)</th>\n",
       "    </tr>\n",
       "  </thead>\n",
       "  <tbody>\n",
       "    <tr>\n",
       "      <th>0</th>\n",
       "      <td>12.0</td>\n",
       "      <td>1.0</td>\n",
       "      <td>94.0</td>\n",
       "      <td>0.0</td>\n",
       "      <td>16.432314</td>\n",
       "      <td>DOWNTOWN</td>\n",
       "      <td>Hotel</td>\n",
       "      <td>52.79951</td>\n",
       "      <td>22.735091</td>\n",
       "      <td>7.962491</td>\n",
       "    </tr>\n",
       "    <tr>\n",
       "      <th>1</th>\n",
       "      <td>11.0</td>\n",
       "      <td>1.0</td>\n",
       "      <td>25.0</td>\n",
       "      <td>15064.0</td>\n",
       "      <td>16.433422</td>\n",
       "      <td>DOWNTOWN</td>\n",
       "      <td>Hotel</td>\n",
       "      <td>46.74768</td>\n",
       "      <td>22.994076</td>\n",
       "      <td>8.041714</td>\n",
       "    </tr>\n",
       "    <tr>\n",
       "      <th>2</th>\n",
       "      <td>10.0</td>\n",
       "      <td>1.0</td>\n",
       "      <td>95.0</td>\n",
       "      <td>0.0</td>\n",
       "      <td>15.904070</td>\n",
       "      <td>DOWNTOWN</td>\n",
       "      <td>Hotel</td>\n",
       "      <td>9.80903</td>\n",
       "      <td>24.750691</td>\n",
       "      <td>10.919117</td>\n",
       "    </tr>\n",
       "    <tr>\n",
       "      <th>3</th>\n",
       "      <td>18.0</td>\n",
       "      <td>1.0</td>\n",
       "      <td>41.0</td>\n",
       "      <td>62000.0</td>\n",
       "      <td>16.793349</td>\n",
       "      <td>DOWNTOWN</td>\n",
       "      <td>Hotel</td>\n",
       "      <td>40.90771</td>\n",
       "      <td>23.821928</td>\n",
       "      <td>8.987832</td>\n",
       "    </tr>\n",
       "    <tr>\n",
       "      <th>4</th>\n",
       "      <td>11.0</td>\n",
       "      <td>1.0</td>\n",
       "      <td>95.0</td>\n",
       "      <td>0.0</td>\n",
       "      <td>16.340963</td>\n",
       "      <td>DOWNTOWN</td>\n",
       "      <td>Hotel</td>\n",
       "      <td>42.85568</td>\n",
       "      <td>22.576081</td>\n",
       "      <td>7.703627</td>\n",
       "    </tr>\n",
       "  </tbody>\n",
       "</table>\n",
       "</div>"
      ],
      "text/plain": [
       "   NumberofFloors  NumberofBuildings  BuildingAge  PropertyGFAParking  \\\n",
       "0            12.0                1.0         94.0                 0.0   \n",
       "1            11.0                1.0         25.0             15064.0   \n",
       "2            10.0                1.0         95.0                 0.0   \n",
       "3            18.0                1.0         41.0             62000.0   \n",
       "4            11.0                1.0         95.0                 0.0   \n",
       "\n",
       "   PropertyGFABuilding(s) Neighborhood renamed_PropertyType  \\\n",
       "0               16.432314     DOWNTOWN                Hotel   \n",
       "1               16.433422     DOWNTOWN                Hotel   \n",
       "2               15.904070     DOWNTOWN                Hotel   \n",
       "3               16.793349     DOWNTOWN                Hotel   \n",
       "4               16.340963     DOWNTOWN                Hotel   \n",
       "\n",
       "   Electricity_ratio  SiteEnergyUse(kBtu)  GHGEmissions(MetricTonsCO2e)  \n",
       "0           52.79951            22.735091                      7.962491  \n",
       "1           46.74768            22.994076                      8.041714  \n",
       "2            9.80903            24.750691                     10.919117  \n",
       "3           40.90771            23.821928                      8.987832  \n",
       "4           42.85568            22.576081                      7.703627  "
      ]
     },
     "execution_count": 11,
     "metadata": {},
     "output_type": "execute_result"
    }
   ],
   "source": [
    "data_trans.head()"
   ]
  },
  {
   "cell_type": "markdown",
   "id": "dd128828-489d-4fb4-a563-bbe760b21034",
   "metadata": {},
   "source": [
    "<div class=\"alert alert-block alert-info\">\n",
    "    Splitting dataset based on the features and targets\n",
    "</div>"
   ]
  },
  {
   "cell_type": "code",
   "execution_count": 12,
   "id": "c18e6dec-5602-4703-af96-444c2f651fed",
   "metadata": {},
   "outputs": [],
   "source": [
    "X = data_trans.drop(columns=[\"SiteEnergyUse(kBtu)\", \"GHGEmissions(MetricTonsCO2e)\"])"
   ]
  },
  {
   "cell_type": "code",
   "execution_count": 13,
   "id": "f72e0eb6-95af-4925-809b-48d2bc3b7d34",
   "metadata": {},
   "outputs": [],
   "source": [
    "y_energy = data_trans.iloc[:,-2]"
   ]
  },
  {
   "cell_type": "markdown",
   "id": "051a5a77-6752-4187-a81e-facfefe6608d",
   "metadata": {},
   "source": [
    "<div style=\"background-color: #6D83C5;\" >\n",
    "    <h3 style=\"margin: auto; padding: 20px; color:#fff; \">3.2. Train/Test split</h3>\n",
    "</div>"
   ]
  },
  {
   "cell_type": "markdown",
   "id": "4dfbaf08-c144-4988-9cd3-3b7c89e98e9b",
   "metadata": {},
   "source": [
    "<div class=\"alert alert-block alert-info\">\n",
    "    At this point, we are going to predict <b>SiteEnergyUse(kBtu)</b>\n",
    "</div>"
   ]
  },
  {
   "cell_type": "code",
   "execution_count": 14,
   "id": "40737922-f686-44c8-81f2-67292f11b906",
   "metadata": {},
   "outputs": [],
   "source": [
    "X_train, X_test, y_train, y_test = train_test_split(X, y_energy, test_size=0.3, random_state=0)"
   ]
  },
  {
   "cell_type": "code",
   "execution_count": 15,
   "id": "1ec5c9b5-2fe7-436d-8cd4-29578467bd12",
   "metadata": {},
   "outputs": [
    {
     "name": "stdout",
     "output_type": "stream",
     "text": [
      "X_train: (1085, 8)\n",
      "y_train: (1085,)\n"
     ]
    }
   ],
   "source": [
    "print(\"X_train: {}\".format(X_train.shape))\n",
    "print(\"y_train: {}\".format(y_train.shape))"
   ]
  },
  {
   "cell_type": "code",
   "execution_count": 16,
   "id": "24f50a50-6f6e-4f5b-a8a9-f47a85819a52",
   "metadata": {},
   "outputs": [
    {
     "data": {
      "text/html": [
       "<div>\n",
       "<style scoped>\n",
       "    .dataframe tbody tr th:only-of-type {\n",
       "        vertical-align: middle;\n",
       "    }\n",
       "\n",
       "    .dataframe tbody tr th {\n",
       "        vertical-align: top;\n",
       "    }\n",
       "\n",
       "    .dataframe thead th {\n",
       "        text-align: right;\n",
       "    }\n",
       "</style>\n",
       "<table border=\"1\" class=\"dataframe\">\n",
       "  <thead>\n",
       "    <tr style=\"text-align: right;\">\n",
       "      <th></th>\n",
       "      <th>NumberofFloors</th>\n",
       "      <th>NumberofBuildings</th>\n",
       "      <th>BuildingAge</th>\n",
       "      <th>PropertyGFAParking</th>\n",
       "      <th>PropertyGFABuilding(s)</th>\n",
       "      <th>Neighborhood</th>\n",
       "      <th>renamed_PropertyType</th>\n",
       "      <th>Electricity_ratio</th>\n",
       "    </tr>\n",
       "  </thead>\n",
       "  <tbody>\n",
       "    <tr>\n",
       "      <th>649</th>\n",
       "      <td>3.0</td>\n",
       "      <td>1.0</td>\n",
       "      <td>6.0</td>\n",
       "      <td>0.0</td>\n",
       "      <td>15.457637</td>\n",
       "      <td>GREATER DUWAMISH</td>\n",
       "      <td>Education</td>\n",
       "      <td>100.00002</td>\n",
       "    </tr>\n",
       "    <tr>\n",
       "      <th>1300</th>\n",
       "      <td>1.0</td>\n",
       "      <td>1.0</td>\n",
       "      <td>76.0</td>\n",
       "      <td>0.0</td>\n",
       "      <td>14.487589</td>\n",
       "      <td>GREATER DUWAMISH</td>\n",
       "      <td>Warehouse</td>\n",
       "      <td>100.00400</td>\n",
       "    </tr>\n",
       "    <tr>\n",
       "      <th>1392</th>\n",
       "      <td>1.0</td>\n",
       "      <td>1.0</td>\n",
       "      <td>71.0</td>\n",
       "      <td>0.0</td>\n",
       "      <td>14.339015</td>\n",
       "      <td>GREATER DUWAMISH</td>\n",
       "      <td>Warehouse</td>\n",
       "      <td>16.56582</td>\n",
       "    </tr>\n",
       "    <tr>\n",
       "      <th>1214</th>\n",
       "      <td>1.0</td>\n",
       "      <td>1.0</td>\n",
       "      <td>52.0</td>\n",
       "      <td>0.0</td>\n",
       "      <td>15.188859</td>\n",
       "      <td>GREATER DUWAMISH</td>\n",
       "      <td>Warehouse</td>\n",
       "      <td>53.42718</td>\n",
       "    </tr>\n",
       "    <tr>\n",
       "      <th>1239</th>\n",
       "      <td>1.0</td>\n",
       "      <td>1.0</td>\n",
       "      <td>49.0</td>\n",
       "      <td>0.0</td>\n",
       "      <td>15.554109</td>\n",
       "      <td>NORTHWEST</td>\n",
       "      <td>Warehouse</td>\n",
       "      <td>100.00417</td>\n",
       "    </tr>\n",
       "  </tbody>\n",
       "</table>\n",
       "</div>"
      ],
      "text/plain": [
       "      NumberofFloors  NumberofBuildings  BuildingAge  PropertyGFAParking  \\\n",
       "649              3.0                1.0          6.0                 0.0   \n",
       "1300             1.0                1.0         76.0                 0.0   \n",
       "1392             1.0                1.0         71.0                 0.0   \n",
       "1214             1.0                1.0         52.0                 0.0   \n",
       "1239             1.0                1.0         49.0                 0.0   \n",
       "\n",
       "      PropertyGFABuilding(s)      Neighborhood renamed_PropertyType  \\\n",
       "649                15.457637  GREATER DUWAMISH            Education   \n",
       "1300               14.487589  GREATER DUWAMISH            Warehouse   \n",
       "1392               14.339015  GREATER DUWAMISH            Warehouse   \n",
       "1214               15.188859  GREATER DUWAMISH            Warehouse   \n",
       "1239               15.554109         NORTHWEST            Warehouse   \n",
       "\n",
       "      Electricity_ratio  \n",
       "649           100.00002  \n",
       "1300          100.00400  \n",
       "1392           16.56582  \n",
       "1214           53.42718  \n",
       "1239          100.00417  "
      ]
     },
     "execution_count": 16,
     "metadata": {},
     "output_type": "execute_result"
    }
   ],
   "source": [
    "X_train.head()"
   ]
  },
  {
   "cell_type": "markdown",
   "id": "528a69e3-35b9-488d-94ce-0b4d051529a8",
   "metadata": {},
   "source": [
    "<div style=\"background-color: #6D83C5;\" >\n",
    "    <h3 style=\"margin: auto; padding: 20px; color:#fff; \">3.3. Identifying types of features</h3>\n",
    "</div>"
   ]
  },
  {
   "cell_type": "code",
   "execution_count": 17,
   "id": "ba0f376a-fbd9-485e-b093-8d40d18c6b54",
   "metadata": {},
   "outputs": [],
   "source": [
    "NUMERICAL_FEATURES = [\"NumberofFloors\", \"NumberofBuildings\", \"BuildingAge\", \"PropertyGFAParking\", \"PropertyGFABuilding(s)\", \"Electricity_ratio\"]\n",
    "CATEGORICAL_FEATURES = [\"Neighborhood\", \"renamed_PropertyType\"]"
   ]
  },
  {
   "cell_type": "markdown",
   "id": "3de540e5-1261-496d-8050-216637998259",
   "metadata": {},
   "source": [
    "<div style=\"background-color: #6D83C5;\" >\n",
    "    <h2 style=\"margin: auto; padding: 20px; color:#fff; \">4. Data preprocessing</h2>\n",
    "</div>"
   ]
  },
  {
   "cell_type": "markdown",
   "id": "8a31d329-ea06-43d4-87be-54bd6e4d3c83",
   "metadata": {
    "tags": []
   },
   "source": [
    "<div class=\"alert alert-block alert-info\">\n",
    "     We are going to process the features as follows<br><br>\n",
    "    <b>Numerical features</b>\n",
    "    <ul style=\"list-style-type: square;\">\n",
    "        <li>Normalizing the features through StandardScaler due to all of them do not have a normal distribution</li>\n",
    "    </ul> \n",
    "    <b>Categorical features</b>\n",
    "    <ul style=\"list-style-type: square;\">\n",
    "        <li>Transforming all features through LabelEncoder</li>\n",
    "    </ul>  \n",
    "</div>"
   ]
  },
  {
   "cell_type": "code",
   "execution_count": 18,
   "id": "b50a14e6-0afe-4ce2-81fc-26b6b27d59cc",
   "metadata": {},
   "outputs": [],
   "source": [
    "numerical_pipeline = make_pipeline(StandardScaler())\n",
    "\n",
    "categorical_pipeline = make_pipeline(OneHotEncoder())"
   ]
  },
  {
   "cell_type": "code",
   "execution_count": 19,
   "id": "d3904fa0-ec57-4dce-bf06-f206a7712e5a",
   "metadata": {},
   "outputs": [],
   "source": [
    "preprocessor = make_column_transformer(\n",
    "                (numerical_pipeline, NUMERICAL_FEATURES), \n",
    "                (categorical_pipeline, CATEGORICAL_FEATURES))"
   ]
  },
  {
   "cell_type": "markdown",
   "id": "947ba407-6f15-49ed-9d71-e77c2038fbb9",
   "metadata": {
    "tags": []
   },
   "source": [
    "<div style=\"background-color: #6D83C5;\" >\n",
    "    <h2 style=\"margin: auto; padding: 20px; color:#fff; \">5. Modelisation</h2>\n",
    "</div>"
   ]
  },
  {
   "cell_type": "markdown",
   "id": "fdd7ea7a-4f38-4c74-8070-6f236a0bbf11",
   "metadata": {},
   "source": [
    "<div style=\"background-color: #6D83C5;\" >\n",
    "    <h3 style=\"margin: auto; padding: 20px; color:#fff; \">5.1. Supervised models</h3>\n",
    "</div>"
   ]
  },
  {
   "cell_type": "markdown",
   "id": "f18635cf-be6e-4380-b077-55a2d94f7a5a",
   "metadata": {
    "tags": []
   },
   "source": [
    "<div class=\"alert alert-block alert-info\">\n",
    "    List of models to use. for now, in default mode\n",
    "</div>"
   ]
  },
  {
   "cell_type": "code",
   "execution_count": 20,
   "id": "1a599428-2197-4ac3-a458-759cf781ad5f",
   "metadata": {
    "tags": []
   },
   "outputs": [],
   "source": [
    "regressors = {\n",
    "    \"Linear\" : LinearRegression(),\n",
    "    \"KNeighbors\" : KNeighborsRegressor(n_neighbors=2),\n",
    "    \"Lasso\" : Lasso(),\n",
    "    \"SVR\" : SVR(),\n",
    "    \"Random Forest\" : RandomForestRegressor(),\n",
    "    \"Gradient Boosting\" : GradientBoostingRegressor()\n",
    "}"
   ]
  },
  {
   "cell_type": "markdown",
   "id": "0d1d0ff1-158a-4641-ab11-541d54e6e312",
   "metadata": {
    "tags": []
   },
   "source": [
    "<div class=\"alert alert-block alert-info\">\n",
    "    Models metrics\n",
    "</div>"
   ]
  },
  {
   "cell_type": "code",
   "execution_count": 21,
   "id": "1f6e5c3d-391b-4c6c-b925-2b0e7d8f1c69",
   "metadata": {},
   "outputs": [],
   "source": [
    "# Dataframe with y_test_transformed to compared againts predictions\n",
    "df_y_pred = pd.DataFrame({\n",
    "        \"Model\" : \"Original\",\n",
    "        \"y_pred\" : y_test\n",
    "})\n",
    "\n",
    "# List of metrics results for each models \n",
    "LIST_MODEL, LIST_R2SCORE, LIST_MAE, LIST_RMSE, LIST_DURATION  = ([] for i in range(5))\n",
    "\n",
    "for k, v in regressors.items():\n",
    "    \n",
    "    start_time_model = timeit.default_timer()\n",
    "    \n",
    "    # Data preprocessing based on the pipelines and the regressors setup\n",
    "    reg = make_pipeline(preprocessor, v)\n",
    "    \n",
    "    # Fit the model using the training data and training target\n",
    "    reg.fit(X_train, y_train)\n",
    "    \n",
    "    # Making the prediction using the testing data\n",
    "    y_pred = reg.predict(X_test)\n",
    "    \n",
    "    end_time_model =  round(timeit.default_timer() - start_time_model, 3)\n",
    "    \n",
    "    # Concatenating predictions to compare against y_test_transformed\n",
    "    df_temp = pd.DataFrame({\n",
    "        \"Model\" : k,\n",
    "        \"y_pred\" : y_pred\n",
    "    })\n",
    "    \n",
    "    # Concatenating predictions to compare against y_test_transformed\n",
    "    df_y_pred = pd.concat([df_y_pred, df_temp])\n",
    "    \n",
    "    # Calculating R2 Coefficient of determination for each model (Best possible score is 1.0, lower values are worse.)\n",
    "    R2SCORE = round(r2_score(y_test, y_pred), 3)\n",
    "    \n",
    "    # Calculating the Mean absolute error (The best value is 0.0)\n",
    "    MAE = round(mean_absolute_error(y_test, y_pred), 3)\n",
    "    \n",
    "    # Calculating Root Mean Square Error for each model (The best value is 0.0)\n",
    "    RMSE = round(mean_squared_error(y_test, y_pred, squared=False), 3)\n",
    "    \n",
    "    # Adding results into LIST\n",
    "    LIST_MODEL.append(k)\n",
    "    LIST_R2SCORE.append(R2SCORE)\n",
    "    LIST_MAE.append(MAE)\n",
    "    LIST_RMSE.append(RMSE)\n",
    "    LIST_DURATION.append(end_time_model)"
   ]
  },
  {
   "cell_type": "markdown",
   "id": "635f4c98-65e8-4707-bcaf-59b8a66905ca",
   "metadata": {},
   "source": [
    "<div class=\"alert alert-block alert-info\">\n",
    "    Comparison of energy predictions against original data\n",
    "</div>"
   ]
  },
  {
   "cell_type": "code",
   "execution_count": 22,
   "id": "25a223ae-8b16-44ac-9f39-ee0b741a3412",
   "metadata": {
    "tags": []
   },
   "outputs": [
    {
     "data": {
      "image/png": "[encoded data removed]",
      "text/plain": [
       "<Figure size 720x432 with 1 Axes>"
      ]
     },
     "metadata": {},
     "output_type": "display_data"
    }
   ],
   "source": [
    "plt.figure(figsize=[10,6])\n",
    "sns.boxplot(x=df_y_pred[\"Model\"], y=df_y_pred[\"y_pred\"], showmeans=True, \n",
    "            meanprops={\"markerfacecolor\":\"white\", \"markeredgecolor\":\"blue\"})\n",
    "plt.title(\"Comparison of energy predictions (default mode)\", size=16)\n",
    "plt.xlabel(\"Original target and targets predicted\", size=12)\n",
    "plt.tight_layout()\n",
    "plt.savefig(\"img/Comparison-of-imputations.png\")\n",
    "plt.show()"
   ]
  },
  {
   "cell_type": "markdown",
   "id": "f82c588b-42ef-4740-9c78-99cbebd41919",
   "metadata": {
    "tags": []
   },
   "source": [
    "<div class=\"alert alert-block alert-success\">\n",
    "    <p><b>Observations / Conclusions</b></p>\n",
    "    \n",
    "    <p>At this point, we can see that <b>Kneighbors</b>, <b>Random Forest</b> and <b>Gradient Boosting</b> are the most <b>similar to Original data</b></p>\n",
    "</div>"
   ]
  },
  {
   "cell_type": "markdown",
   "id": "433faa96-c53f-43ec-8fbc-5674fbe0e669",
   "metadata": {},
   "source": [
    "<div style=\"background-color: #6D83C5;\" >\n",
    "    <h3 style=\"margin: auto; padding: 20px; color:#fff; \">5.2. Predictions metrics</h3>\n",
    "</div>"
   ]
  },
  {
   "cell_type": "markdown",
   "id": "d0cc8513-210a-43b5-b844-8ceffd0deeee",
   "metadata": {
    "tags": []
   },
   "source": [
    "<div class=\"alert alert-block alert-info\">\n",
    "    Creating dataframe based on metrics results for each models\n",
    "</div>"
   ]
  },
  {
   "cell_type": "code",
   "execution_count": 23,
   "id": "5766294b-496d-4ec0-9b98-bb8a6c444c2f",
   "metadata": {},
   "outputs": [
    {
     "data": {
      "text/html": [
       "<div>\n",
       "<style scoped>\n",
       "    .dataframe tbody tr th:only-of-type {\n",
       "        vertical-align: middle;\n",
       "    }\n",
       "\n",
       "    .dataframe tbody tr th {\n",
       "        vertical-align: top;\n",
       "    }\n",
       "\n",
       "    .dataframe thead th {\n",
       "        text-align: right;\n",
       "    }\n",
       "</style>\n",
       "<table border=\"1\" class=\"dataframe\">\n",
       "  <thead>\n",
       "    <tr style=\"text-align: right;\">\n",
       "      <th></th>\n",
       "      <th>Model</th>\n",
       "      <th>R²</th>\n",
       "      <th>MAE</th>\n",
       "      <th>RMSE</th>\n",
       "      <th>Duration</th>\n",
       "    </tr>\n",
       "  </thead>\n",
       "  <tbody>\n",
       "    <tr>\n",
       "      <th>0</th>\n",
       "      <td>Linear</td>\n",
       "      <td>0.584</td>\n",
       "      <td>0.840</td>\n",
       "      <td>1.100</td>\n",
       "      <td>0.033</td>\n",
       "    </tr>\n",
       "    <tr>\n",
       "      <th>1</th>\n",
       "      <td>KNeighbors</td>\n",
       "      <td>0.416</td>\n",
       "      <td>0.990</td>\n",
       "      <td>1.304</td>\n",
       "      <td>0.040</td>\n",
       "    </tr>\n",
       "    <tr>\n",
       "      <th>2</th>\n",
       "      <td>Lasso</td>\n",
       "      <td>0.176</td>\n",
       "      <td>1.218</td>\n",
       "      <td>1.548</td>\n",
       "      <td>0.015</td>\n",
       "    </tr>\n",
       "    <tr>\n",
       "      <th>3</th>\n",
       "      <td>SVR</td>\n",
       "      <td>0.612</td>\n",
       "      <td>0.794</td>\n",
       "      <td>1.062</td>\n",
       "      <td>0.081</td>\n",
       "    </tr>\n",
       "    <tr>\n",
       "      <th>4</th>\n",
       "      <td>Random Forest</td>\n",
       "      <td>0.613</td>\n",
       "      <td>0.813</td>\n",
       "      <td>1.062</td>\n",
       "      <td>1.493</td>\n",
       "    </tr>\n",
       "    <tr>\n",
       "      <th>5</th>\n",
       "      <td>Gradient Boosting</td>\n",
       "      <td>0.639</td>\n",
       "      <td>0.781</td>\n",
       "      <td>1.025</td>\n",
       "      <td>0.222</td>\n",
       "    </tr>\n",
       "  </tbody>\n",
       "</table>\n",
       "</div>"
      ],
      "text/plain": [
       "               Model     R²    MAE   RMSE  Duration\n",
       "0             Linear  0.584  0.840  1.100     0.033\n",
       "1         KNeighbors  0.416  0.990  1.304     0.040\n",
       "2              Lasso  0.176  1.218  1.548     0.015\n",
       "3                SVR  0.612  0.794  1.062     0.081\n",
       "4      Random Forest  0.613  0.813  1.062     1.493\n",
       "5  Gradient Boosting  0.639  0.781  1.025     0.222"
      ]
     },
     "execution_count": 23,
     "metadata": {},
     "output_type": "execute_result"
    }
   ],
   "source": [
    "df_models_metrics = pd.DataFrame({\n",
    "    \"Model\" : LIST_MODEL,\n",
    "    \"R2\".translate(SUP) : LIST_R2SCORE, \n",
    "    \"MAE\" : LIST_MAE,    \n",
    "    \"RMSE\" : LIST_RMSE,\n",
    "    \"Duration\" : LIST_DURATION,\n",
    "})\n",
    "\n",
    "df_models_metrics"
   ]
  },
  {
   "cell_type": "markdown",
   "id": "7be8febd-1731-477b-abbd-169f72b5c202",
   "metadata": {
    "tags": []
   },
   "source": [
    "<div class=\"alert alert-block alert-success\">\n",
    "    <p><b>Observations / Conclusions</b></p>\n",
    "    \n",
    "    <b>Best results</b> with default mode considering each model\n",
    "    <ul style=\"list-style-type: square;\">\n",
    "        <li><b>r2:</b> Gradient Boosting(0.639) </li>\n",
    "        <li><b>MAE:</b> Gradient Boosting(0.778) </li>\n",
    "        <li><b>RMSE:</b> Gradient Boosting(1.025) </li>\n",
    "        <li><b>Duration:</b> Lasso(0.186) </li>\n",
    "    </ul>\n",
    "</div>"
   ]
  },
  {
   "cell_type": "code",
   "execution_count": 24,
   "id": "7038f5ad-7bb2-453c-9c4a-958808c3b248",
   "metadata": {},
   "outputs": [
    {
     "data": {
      "text/html": [
       "<div>\n",
       "<style scoped>\n",
       "    .dataframe tbody tr th:only-of-type {\n",
       "        vertical-align: middle;\n",
       "    }\n",
       "\n",
       "    .dataframe tbody tr th {\n",
       "        vertical-align: top;\n",
       "    }\n",
       "\n",
       "    .dataframe thead th {\n",
       "        text-align: right;\n",
       "    }\n",
       "</style>\n",
       "<table border=\"1\" class=\"dataframe\">\n",
       "  <thead>\n",
       "    <tr style=\"text-align: right;\">\n",
       "      <th></th>\n",
       "      <th>Model</th>\n",
       "      <th>Metric</th>\n",
       "      <th>Value</th>\n",
       "    </tr>\n",
       "  </thead>\n",
       "  <tbody>\n",
       "    <tr>\n",
       "      <th>0</th>\n",
       "      <td>Linear</td>\n",
       "      <td>R²</td>\n",
       "      <td>0.584</td>\n",
       "    </tr>\n",
       "    <tr>\n",
       "      <th>1</th>\n",
       "      <td>KNeighbors</td>\n",
       "      <td>R²</td>\n",
       "      <td>0.416</td>\n",
       "    </tr>\n",
       "    <tr>\n",
       "      <th>2</th>\n",
       "      <td>Lasso</td>\n",
       "      <td>R²</td>\n",
       "      <td>0.176</td>\n",
       "    </tr>\n",
       "    <tr>\n",
       "      <th>3</th>\n",
       "      <td>SVR</td>\n",
       "      <td>R²</td>\n",
       "      <td>0.612</td>\n",
       "    </tr>\n",
       "    <tr>\n",
       "      <th>4</th>\n",
       "      <td>Random Forest</td>\n",
       "      <td>R²</td>\n",
       "      <td>0.613</td>\n",
       "    </tr>\n",
       "    <tr>\n",
       "      <th>5</th>\n",
       "      <td>Gradient Boosting</td>\n",
       "      <td>R²</td>\n",
       "      <td>0.639</td>\n",
       "    </tr>\n",
       "    <tr>\n",
       "      <th>6</th>\n",
       "      <td>Linear</td>\n",
       "      <td>MAE</td>\n",
       "      <td>0.840</td>\n",
       "    </tr>\n",
       "    <tr>\n",
       "      <th>7</th>\n",
       "      <td>KNeighbors</td>\n",
       "      <td>MAE</td>\n",
       "      <td>0.990</td>\n",
       "    </tr>\n",
       "  </tbody>\n",
       "</table>\n",
       "</div>"
      ],
      "text/plain": [
       "               Model Metric  Value\n",
       "0             Linear     R²  0.584\n",
       "1         KNeighbors     R²  0.416\n",
       "2              Lasso     R²  0.176\n",
       "3                SVR     R²  0.612\n",
       "4      Random Forest     R²  0.613\n",
       "5  Gradient Boosting     R²  0.639\n",
       "6             Linear    MAE  0.840\n",
       "7         KNeighbors    MAE  0.990"
      ]
     },
     "execution_count": 24,
     "metadata": {},
     "output_type": "execute_result"
    }
   ],
   "source": [
    "df_models_metrics_melt = pd.melt(df_models_metrics, id_vars=\"Model\", var_name=\"Metric\", value_name=\"Value\")\n",
    "df_models_metrics_melt.head(8)"
   ]
  },
  {
   "cell_type": "code",
   "execution_count": 25,
   "id": "abcc4861-9f40-49b0-b214-2abcd0bb9c71",
   "metadata": {},
   "outputs": [
    {
     "data": {
      "image/png": "[encoded data removed]",
      "text/plain": [
       "<Figure size 1080x432 with 1 Axes>"
      ]
     },
     "metadata": {},
     "output_type": "display_data"
    }
   ],
   "source": [
    "fig, ax1 = plt.subplots(figsize=(15, 6))\n",
    "plot = sns.barplot(x=\"Model\", y=\"Value\", hue=\"Metric\", data=df_models_metrics_melt, ax=ax1)\n",
    "for p in plot.patches:\n",
    "    plot.annotate(format(p.get_height(), \".2f\"), (p.get_x() + p.get_width() / 2., p.get_height()), \n",
    "                    ha=\"center\", va=\"center\", xytext=(0, 8), textcoords=\"offset points\")\n",
    "plt.title(\"Comparison of Metrics by model (default mode)\", size=20)\n",
    "plt.legend(bbox_to_anchor=(1.10, 1), borderaxespad=0, title=\"Metrics\")\n",
    "plt.tight_layout()\n",
    "plt.xlabel(\"Model\", size=12)\n",
    "plt.ylabel(\"Metric\", size=12)\n",
    "plt.savefig(\"img/comparisonMetricsByModel.png\")\n",
    "sns.despine(fig)"
   ]
  },
  {
   "cell_type": "markdown",
   "id": "10d639ea-13f3-41b4-a5c6-6547bcf68f64",
   "metadata": {
    "tags": []
   },
   "source": [
    "<div class=\"alert alert-block alert-success\">\n",
    "    <p><b>Observations / Conclusions</b></p>\n",
    "    \n",
    "    So far, <b>Gradient Boosting</b> is giving the best result with <b>default parameters</b>\n",
    "</div>"
   ]
  },
  {
   "cell_type": "markdown",
   "id": "b3c169fb-035f-4e89-94a0-e12b6c14158a",
   "metadata": {},
   "source": [
    "<div style=\"background-color: #6D83C5;\" >\n",
    "    <h3 style=\"margin: auto; padding: 20px; color:#fff; \">5.3. Cross Validation K-Fold</h3>\n",
    "</div>"
   ]
  },
  {
   "cell_type": "code",
   "execution_count": 26,
   "id": "11da1dfc-2c98-46a4-9470-bc84edb8e7ab",
   "metadata": {},
   "outputs": [],
   "source": [
    "# List of metrics results for each models \n",
    "LIST_MODEL, LIST_R2SCORE, LIST_MAE, LIST_RMSE, LIST_DURATION, LIST_SCORES  = ([] for i in range(6))\n",
    "\n",
    "for k, v in regressors.items():\n",
    "\n",
    "    # Data preprocessing based on the pipelines and the regressors setup\n",
    "    reg = make_pipeline(preprocessor, v)\n",
    "    \n",
    "    kfold = KFold(n_splits=5, shuffle=False, random_state=None)\n",
    "    \n",
    "    # Get the score for each validation score method to get accuracy of model\n",
    "    scores = cross_validate(reg, X_train, y_train, cv=kfold, scoring=(\"r2\", \"neg_mean_absolute_error\", \"neg_mean_squared_error\"), return_train_score=True)\n",
    "    \n",
    "    # Adding results into LIST\n",
    "    LIST_MODEL.append(k)\n",
    "    LIST_R2SCORE.append(round(scores.get(\"test_r2\").mean(), 3))\n",
    "    LIST_MAE.append(round(abs(scores.get(\"test_neg_mean_absolute_error\").mean()), 3))\n",
    "    LIST_RMSE.append(round(math.sqrt((abs(scores.get(\"test_neg_mean_squared_error\").mean()))), 3))\n",
    "    LIST_DURATION.append(round(scores.get(\"fit_time\").mean(), 3))\n",
    "    LIST_SCORES.append(scores.get(\"test_r2\"))"
   ]
  },
  {
   "cell_type": "markdown",
   "id": "ed4d446e-c258-4075-9a99-05ef48890d2b",
   "metadata": {
    "tags": []
   },
   "source": [
    "<div class=\"alert alert-block alert-info\">\n",
    "    Plotting the cross validation executions\n",
    "</div>"
   ]
  },
  {
   "cell_type": "code",
   "execution_count": 27,
   "id": "94c01a30-1a42-4935-a891-d098be61350c",
   "metadata": {},
   "outputs": [],
   "source": [
    "df_cross_val = pd.DataFrame(LIST_SCORES, columns=[1, 2, 3, 4, 5])\n",
    "df_cross_val[\"Model\"] = LIST_MODEL\n",
    "df_cross_val_melt = df_cross_val.melt(id_vars=\"Model\", var_name=\"Execution\", value_name=\"Score\")"
   ]
  },
  {
   "cell_type": "code",
   "execution_count": 28,
   "id": "34b30599-af35-4367-9ff5-57f2efeb3f45",
   "metadata": {},
   "outputs": [
    {
     "data": {
      "text/html": [
       "<div>\n",
       "<style scoped>\n",
       "    .dataframe tbody tr th:only-of-type {\n",
       "        vertical-align: middle;\n",
       "    }\n",
       "\n",
       "    .dataframe tbody tr th {\n",
       "        vertical-align: top;\n",
       "    }\n",
       "\n",
       "    .dataframe thead th {\n",
       "        text-align: right;\n",
       "    }\n",
       "</style>\n",
       "<table border=\"1\" class=\"dataframe\">\n",
       "  <thead>\n",
       "    <tr style=\"text-align: right;\">\n",
       "      <th></th>\n",
       "      <th>1</th>\n",
       "      <th>2</th>\n",
       "      <th>3</th>\n",
       "      <th>4</th>\n",
       "      <th>5</th>\n",
       "      <th>Model</th>\n",
       "    </tr>\n",
       "  </thead>\n",
       "  <tbody>\n",
       "    <tr>\n",
       "      <th>0</th>\n",
       "      <td>0.637887</td>\n",
       "      <td>0.618943</td>\n",
       "      <td>0.638783</td>\n",
       "      <td>0.610068</td>\n",
       "      <td>0.631712</td>\n",
       "      <td>Linear</td>\n",
       "    </tr>\n",
       "    <tr>\n",
       "      <th>1</th>\n",
       "      <td>0.424300</td>\n",
       "      <td>0.503938</td>\n",
       "      <td>0.503281</td>\n",
       "      <td>0.371916</td>\n",
       "      <td>0.493936</td>\n",
       "      <td>KNeighbors</td>\n",
       "    </tr>\n",
       "    <tr>\n",
       "      <th>2</th>\n",
       "      <td>0.191927</td>\n",
       "      <td>0.169527</td>\n",
       "      <td>0.190145</td>\n",
       "      <td>0.152504</td>\n",
       "      <td>0.185527</td>\n",
       "      <td>Lasso</td>\n",
       "    </tr>\n",
       "    <tr>\n",
       "      <th>3</th>\n",
       "      <td>0.656038</td>\n",
       "      <td>0.625821</td>\n",
       "      <td>0.684525</td>\n",
       "      <td>0.634142</td>\n",
       "      <td>0.626455</td>\n",
       "      <td>SVR</td>\n",
       "    </tr>\n",
       "    <tr>\n",
       "      <th>4</th>\n",
       "      <td>0.672530</td>\n",
       "      <td>0.635494</td>\n",
       "      <td>0.660916</td>\n",
       "      <td>0.665664</td>\n",
       "      <td>0.650720</td>\n",
       "      <td>Random Forest</td>\n",
       "    </tr>\n",
       "    <tr>\n",
       "      <th>5</th>\n",
       "      <td>0.663861</td>\n",
       "      <td>0.673517</td>\n",
       "      <td>0.681363</td>\n",
       "      <td>0.667311</td>\n",
       "      <td>0.656613</td>\n",
       "      <td>Gradient Boosting</td>\n",
       "    </tr>\n",
       "  </tbody>\n",
       "</table>\n",
       "</div>"
      ],
      "text/plain": [
       "          1         2         3         4         5              Model\n",
       "0  0.637887  0.618943  0.638783  0.610068  0.631712             Linear\n",
       "1  0.424300  0.503938  0.503281  0.371916  0.493936         KNeighbors\n",
       "2  0.191927  0.169527  0.190145  0.152504  0.185527              Lasso\n",
       "3  0.656038  0.625821  0.684525  0.634142  0.626455                SVR\n",
       "4  0.672530  0.635494  0.660916  0.665664  0.650720      Random Forest\n",
       "5  0.663861  0.673517  0.681363  0.667311  0.656613  Gradient Boosting"
      ]
     },
     "execution_count": 28,
     "metadata": {},
     "output_type": "execute_result"
    }
   ],
   "source": [
    "df_cross_val"
   ]
  },
  {
   "cell_type": "code",
   "execution_count": 29,
   "id": "1c6b4f9d-c6a8-4a8d-9397-9102b11dce14",
   "metadata": {},
   "outputs": [
    {
     "data": {
      "image/png": "[encoded data removed]",
      "text/plain": [
       "<Figure size 576x432 with 1 Axes>"
      ]
     },
     "metadata": {},
     "output_type": "display_data"
    }
   ],
   "source": [
    "plt.figure(figsize=(8, 6))\n",
    "plot = sns.lineplot(x=\"Execution\",\n",
    "                    y=\"Score\",\n",
    "                    hue=\"Model\",\n",
    "                    data=df_cross_val_melt\n",
    ")\n",
    "plt.legend(bbox_to_anchor=(0.85, 1), borderaxespad=0, title=\"Model\")\n",
    "plt.tight_layout()\n",
    "plt.title(\"Models cross validations\", size=20)\n",
    "plot.set(xlabel=\"Execution\", ylabel=\"Score\", xlim=(1, 6))\n",
    "\n",
    "plt.savefig(\"img/models-cross-validations-Scores.png\")\n",
    "sns.despine(fig)"
   ]
  },
  {
   "cell_type": "markdown",
   "id": "9f1bd6f8-9e61-4905-a32c-09d0039c878b",
   "metadata": {
    "tags": []
   },
   "source": [
    "<div class=\"alert alert-block alert-success\">\n",
    "    <p><b>Observations / Conclusions</b></p>\n",
    "    \n",
    "    At this point, we can see\n",
    "    <ul style=\"list-style-type: square;\">\n",
    "        <li><b>Gradient Boosting</b> is the best result </li>\n",
    "        <li><b>Lasso</b> is the worst result </li>\n",
    "    </ul>\n",
    "</div>"
   ]
  },
  {
   "cell_type": "markdown",
   "id": "72b64133-19f0-4936-a8c5-5bfba8874f72",
   "metadata": {},
   "source": [
    "<div style=\"background-color: #6D83C5;\" >\n",
    "    <h4 style=\"margin: auto; padding: 20px; color:#fff; \">5.3.1 Predictions metrics</h4>\n",
    "</div>"
   ]
  },
  {
   "cell_type": "markdown",
   "id": "e56b0a39-b26f-4e31-93c3-3d7496c3232a",
   "metadata": {
    "tags": []
   },
   "source": [
    "<div class=\"alert alert-block alert-info\">\n",
    "    Creating dataframe based on metrics results for each models\n",
    "</div>"
   ]
  },
  {
   "cell_type": "code",
   "execution_count": 30,
   "id": "9856af73-bbff-40ca-8764-3de09dfc24b3",
   "metadata": {},
   "outputs": [
    {
     "data": {
      "text/html": [
       "<div>\n",
       "<style scoped>\n",
       "    .dataframe tbody tr th:only-of-type {\n",
       "        vertical-align: middle;\n",
       "    }\n",
       "\n",
       "    .dataframe tbody tr th {\n",
       "        vertical-align: top;\n",
       "    }\n",
       "\n",
       "    .dataframe thead th {\n",
       "        text-align: right;\n",
       "    }\n",
       "</style>\n",
       "<table border=\"1\" class=\"dataframe\">\n",
       "  <thead>\n",
       "    <tr style=\"text-align: right;\">\n",
       "      <th></th>\n",
       "      <th>Model</th>\n",
       "      <th>R²</th>\n",
       "      <th>MAE</th>\n",
       "      <th>RMSE</th>\n",
       "      <th>Duration</th>\n",
       "    </tr>\n",
       "  </thead>\n",
       "  <tbody>\n",
       "    <tr>\n",
       "      <th>0</th>\n",
       "      <td>Linear</td>\n",
       "      <td>0.627</td>\n",
       "      <td>0.804</td>\n",
       "      <td>1.091</td>\n",
       "      <td>0.016</td>\n",
       "    </tr>\n",
       "    <tr>\n",
       "      <th>1</th>\n",
       "      <td>KNeighbors</td>\n",
       "      <td>0.459</td>\n",
       "      <td>0.943</td>\n",
       "      <td>1.317</td>\n",
       "      <td>0.012</td>\n",
       "    </tr>\n",
       "    <tr>\n",
       "      <th>2</th>\n",
       "      <td>Lasso</td>\n",
       "      <td>0.178</td>\n",
       "      <td>1.260</td>\n",
       "      <td>1.620</td>\n",
       "      <td>0.009</td>\n",
       "    </tr>\n",
       "    <tr>\n",
       "      <th>3</th>\n",
       "      <td>SVR</td>\n",
       "      <td>0.645</td>\n",
       "      <td>0.766</td>\n",
       "      <td>1.066</td>\n",
       "      <td>0.054</td>\n",
       "    </tr>\n",
       "    <tr>\n",
       "      <th>4</th>\n",
       "      <td>Random Forest</td>\n",
       "      <td>0.657</td>\n",
       "      <td>0.753</td>\n",
       "      <td>1.045</td>\n",
       "      <td>0.890</td>\n",
       "    </tr>\n",
       "    <tr>\n",
       "      <th>5</th>\n",
       "      <td>Gradient Boosting</td>\n",
       "      <td>0.669</td>\n",
       "      <td>0.752</td>\n",
       "      <td>1.028</td>\n",
       "      <td>0.163</td>\n",
       "    </tr>\n",
       "  </tbody>\n",
       "</table>\n",
       "</div>"
      ],
      "text/plain": [
       "               Model     R²    MAE   RMSE  Duration\n",
       "0             Linear  0.627  0.804  1.091     0.016\n",
       "1         KNeighbors  0.459  0.943  1.317     0.012\n",
       "2              Lasso  0.178  1.260  1.620     0.009\n",
       "3                SVR  0.645  0.766  1.066     0.054\n",
       "4      Random Forest  0.657  0.753  1.045     0.890\n",
       "5  Gradient Boosting  0.669  0.752  1.028     0.163"
      ]
     },
     "execution_count": 30,
     "metadata": {},
     "output_type": "execute_result"
    }
   ],
   "source": [
    "df_models_metrics_cross = pd.DataFrame({\n",
    "    \"Model\" : LIST_MODEL,\n",
    "    \"R2\".translate(SUP) : LIST_R2SCORE, \n",
    "    \"MAE\" : LIST_MAE,    \n",
    "    \"RMSE\" : LIST_RMSE,\n",
    "    \"Duration\" : LIST_DURATION,\n",
    "})\n",
    "\n",
    "df_models_metrics_cross"
   ]
  },
  {
   "cell_type": "markdown",
   "id": "9aa20c28-2ea6-4ead-8330-a1543e8e1ea9",
   "metadata": {
    "tags": []
   },
   "source": [
    "<div class=\"alert alert-block alert-success\">\n",
    "    <b>Best results</b> with default mode considering each model\n",
    "    <ul style=\"list-style-type: square;\">\n",
    "        <li><b>r2:</b> Gradient Boosting(0.701) </li>\n",
    "        <li><b>MAE:</b> Gradient Boosting(0.777) </li>\n",
    "        <li><b>RMSE:</b> Gradient Boosting(1.054) </li>\n",
    "        <li><b>Duration:</b> Lasso(0.008) </li>\n",
    "    </ul> \n",
    "</div>"
   ]
  },
  {
   "cell_type": "code",
   "execution_count": 31,
   "id": "440f655e-05a3-4ac7-9578-fc2847403ee3",
   "metadata": {},
   "outputs": [
    {
     "data": {
      "text/html": [
       "<div>\n",
       "<style scoped>\n",
       "    .dataframe tbody tr th:only-of-type {\n",
       "        vertical-align: middle;\n",
       "    }\n",
       "\n",
       "    .dataframe tbody tr th {\n",
       "        vertical-align: top;\n",
       "    }\n",
       "\n",
       "    .dataframe thead th {\n",
       "        text-align: right;\n",
       "    }\n",
       "</style>\n",
       "<table border=\"1\" class=\"dataframe\">\n",
       "  <thead>\n",
       "    <tr style=\"text-align: right;\">\n",
       "      <th></th>\n",
       "      <th>Model</th>\n",
       "      <th>Metric</th>\n",
       "      <th>Value</th>\n",
       "    </tr>\n",
       "  </thead>\n",
       "  <tbody>\n",
       "    <tr>\n",
       "      <th>0</th>\n",
       "      <td>Linear</td>\n",
       "      <td>R²</td>\n",
       "      <td>0.627</td>\n",
       "    </tr>\n",
       "    <tr>\n",
       "      <th>1</th>\n",
       "      <td>KNeighbors</td>\n",
       "      <td>R²</td>\n",
       "      <td>0.459</td>\n",
       "    </tr>\n",
       "    <tr>\n",
       "      <th>2</th>\n",
       "      <td>Lasso</td>\n",
       "      <td>R²</td>\n",
       "      <td>0.178</td>\n",
       "    </tr>\n",
       "    <tr>\n",
       "      <th>3</th>\n",
       "      <td>SVR</td>\n",
       "      <td>R²</td>\n",
       "      <td>0.645</td>\n",
       "    </tr>\n",
       "    <tr>\n",
       "      <th>4</th>\n",
       "      <td>Random Forest</td>\n",
       "      <td>R²</td>\n",
       "      <td>0.657</td>\n",
       "    </tr>\n",
       "  </tbody>\n",
       "</table>\n",
       "</div>"
      ],
      "text/plain": [
       "           Model Metric  Value\n",
       "0         Linear     R²  0.627\n",
       "1     KNeighbors     R²  0.459\n",
       "2          Lasso     R²  0.178\n",
       "3            SVR     R²  0.645\n",
       "4  Random Forest     R²  0.657"
      ]
     },
     "execution_count": 31,
     "metadata": {},
     "output_type": "execute_result"
    }
   ],
   "source": [
    "df_models_metrics_melt_cross = pd.melt(df_models_metrics_cross, id_vars=\"Model\", var_name=\"Metric\", value_name=\"Value\")\n",
    "df_models_metrics_melt_cross.head()"
   ]
  },
  {
   "cell_type": "code",
   "execution_count": 32,
   "id": "0554dab7-2295-476d-8234-1a9e1c53e168",
   "metadata": {},
   "outputs": [
    {
     "data": {
      "image/png": "[encoded data removed]",
      "text/plain": [
       "<Figure size 1080x432 with 1 Axes>"
      ]
     },
     "metadata": {},
     "output_type": "display_data"
    }
   ],
   "source": [
    "fig, ax1 = plt.subplots(figsize=(15, 6))\n",
    "plot = sns.barplot(x=\"Model\", y=\"Value\", hue=\"Metric\", data=df_models_metrics_melt_cross, ax=ax1)\n",
    "for p in plot.patches:\n",
    "    plot.annotate(format(p.get_height(), \".2f\"), (p.get_x() + p.get_width() / 2., p.get_height()), \n",
    "                    ha=\"center\", va=\"center\", xytext=(0, 8), textcoords=\"offset points\")\n",
    "plt.title(\"Comparison of Metrics by model (cross-validation)\", size=20)\n",
    "plt.legend(bbox_to_anchor=(1.10, 1), borderaxespad=0, title=\"Metrics\")\n",
    "plt.tight_layout()\n",
    "plt.xlabel(\"Model\", size=12)\n",
    "plt.ylabel(\"Metric\", size=12)\n",
    "plt.savefig(\"img/comparisonMetrics_crossByModel.png\")\n",
    "sns.despine(fig)"
   ]
  },
  {
   "cell_type": "markdown",
   "id": "6e9a93f7-3b30-4e7f-a87f-ba9fd3c9c036",
   "metadata": {
    "tags": []
   },
   "source": [
    "<div class=\"alert alert-block alert-success\">\n",
    "    <p><b>Observations / Conclusions</b></p>\n",
    "    <ul style=\"list-style-type: square;\">\n",
    "        <li>All models are improved their results but, despite that, results are very similar to previous ones</li>\n",
    "        <li><b>Gradient Boosting</b> is still giving the best result with <b>default parameters</b> and <b>cross-validation</b></li>\n",
    "    </ul>\n",
    "</div>"
   ]
  },
  {
   "cell_type": "markdown",
   "id": "6b4da019-04c1-446d-97f3-f981e3a3741c",
   "metadata": {
    "tags": []
   },
   "source": [
    "<div style=\"background-color: #6D83C5;\" >\n",
    "    <h2 style=\"margin: auto; padding: 20px; color:#fff; \">6. Optimization</h2>\n",
    "</div>"
   ]
  },
  {
   "cell_type": "markdown",
   "id": "df9dcabf-f327-4f14-93d1-e078a553997c",
   "metadata": {
    "tags": []
   },
   "source": [
    "<div class=\"alert alert-block alert-info\">\n",
    "    We are going to optimize each model separately, to see the results more in detail<br><br>\n",
    "    \n",
    "    Also, we are going to add all predictions and metrics base on parameters optimization to compare the results\n",
    "</div>"
   ]
  },
  {
   "cell_type": "code",
   "execution_count": 33,
   "id": "c624f716-0c05-4c1e-8d0a-5e1748909ee5",
   "metadata": {},
   "outputs": [],
   "source": [
    "# Dataframe with y_test_transformed to compared againts predictions\n",
    "df_y_pred_gsc = pd.DataFrame({\n",
    "        \"Model\" : \"Original\",\n",
    "        \"y_pred\" : y_test\n",
    "})\n",
    "\n",
    "# Dataframe for metrics to compare\n",
    "df_models_metrics_gsc = pd.DataFrame({})\n",
    "\n",
    "# List of metrics results for each models \n",
    "LIST_MODEL_GSC, LIST_R2SCORE_GSC, LIST_MAE_GSC, LIST_RMSE_GSC, LIST_DURATION_GSC, LIST_SCORES_GSC  = ([] for i in range(6))"
   ]
  },
  {
   "cell_type": "markdown",
   "id": "c11d39f2-fb4e-4afe-81b1-0841e04194ab",
   "metadata": {
    "tags": []
   },
   "source": [
    "<div class=\"alert alert-block alert-info\">\n",
    "    At the same time, we are going to get the following metrics\n",
    "</div>"
   ]
  },
  {
   "cell_type": "code",
   "execution_count": 34,
   "id": "4df46400-7c5f-4ad7-9a48-75a2b51afa92",
   "metadata": {},
   "outputs": [],
   "source": [
    "SCORINGS = {\n",
    "    \"R2\" : \"r2\",\n",
    "    \"MSE\" : \"neg_mean_squared_error\", \n",
    "    \"MAE\" : \"neg_mean_absolute_error\"\n",
    "}"
   ]
  },
  {
   "cell_type": "markdown",
   "id": "e364b311-43f8-4c6e-9b74-a6ccefdcc56a",
   "metadata": {},
   "source": [
    "<div style=\"background-color: #6D83C5;\" >\n",
    "    <h3 style=\"margin: auto; padding: 20px; color:#fff; \">6.1. Linear Regression optimization</h3>\n",
    "</div>"
   ]
  },
  {
   "cell_type": "markdown",
   "id": "b6e687ec-c005-4494-a6e2-ee16e6276064",
   "metadata": {
    "tags": []
   },
   "source": [
    "<div class=\"alert alert-block alert-info\">\n",
    "    <p>It is necessary to take in account that we are treating with <b>Non-linear Dataset</b> based on EDA done</p>\n",
    "    \n",
    "    <p>Initializing model</p>\n",
    "</div>"
   ]
  },
  {
   "cell_type": "code",
   "execution_count": 35,
   "id": "8fe9cf60-78ce-428c-8d84-7b2491ca2fec",
   "metadata": {
    "tags": []
   },
   "outputs": [],
   "source": [
    "lr = LinearRegression()"
   ]
  },
  {
   "cell_type": "markdown",
   "id": "ebb4a15e-fb2e-4e6c-8860-3c4c32e6b620",
   "metadata": {
    "tags": []
   },
   "source": [
    "<div class=\"alert alert-block alert-info\">\n",
    "    Data preprocessing based on the pipelines and the regressors setup\n",
    "</div>"
   ]
  },
  {
   "cell_type": "code",
   "execution_count": 36,
   "id": "b91f8e30-9fe7-4147-acdc-e1d4d98fe4e0",
   "metadata": {},
   "outputs": [],
   "source": [
    "reg = make_pipeline(preprocessor, lr)"
   ]
  },
  {
   "cell_type": "markdown",
   "id": "0c2a8343-3ec3-43a2-a35b-4e91d146d41b",
   "metadata": {
    "tags": []
   },
   "source": [
    "<div class=\"alert alert-block alert-info\">\n",
    "    Identifying the names of each parameter\n",
    "</div>"
   ]
  },
  {
   "cell_type": "code",
   "execution_count": 37,
   "id": "02083b88-7cfb-4a58-a9c8-162ce7604fbe",
   "metadata": {},
   "outputs": [
    {
     "data": {
      "text/plain": [
       "['columntransformer',\n",
       " 'columntransformer__n_jobs',\n",
       " 'columntransformer__pipeline-1',\n",
       " 'columntransformer__pipeline-1__memory',\n",
       " 'columntransformer__pipeline-1__standardscaler',\n",
       " 'columntransformer__pipeline-1__standardscaler__copy',\n",
       " 'columntransformer__pipeline-1__standardscaler__with_mean',\n",
       " 'columntransformer__pipeline-1__standardscaler__with_std',\n",
       " 'columntransformer__pipeline-1__steps',\n",
       " 'columntransformer__pipeline-1__verbose',\n",
       " 'columntransformer__pipeline-2',\n",
       " 'columntransformer__pipeline-2__memory',\n",
       " 'columntransformer__pipeline-2__onehotencoder',\n",
       " 'columntransformer__pipeline-2__onehotencoder__categories',\n",
       " 'columntransformer__pipeline-2__onehotencoder__drop',\n",
       " 'columntransformer__pipeline-2__onehotencoder__dtype',\n",
       " 'columntransformer__pipeline-2__onehotencoder__handle_unknown',\n",
       " 'columntransformer__pipeline-2__onehotencoder__sparse',\n",
       " 'columntransformer__pipeline-2__steps',\n",
       " 'columntransformer__pipeline-2__verbose',\n",
       " 'columntransformer__remainder',\n",
       " 'columntransformer__sparse_threshold',\n",
       " 'columntransformer__transformer_weights',\n",
       " 'columntransformer__transformers',\n",
       " 'columntransformer__verbose',\n",
       " 'linearregression',\n",
       " 'linearregression__copy_X',\n",
       " 'linearregression__fit_intercept',\n",
       " 'linearregression__n_jobs',\n",
       " 'linearregression__normalize',\n",
       " 'memory',\n",
       " 'steps',\n",
       " 'verbose']"
      ]
     },
     "execution_count": 37,
     "metadata": {},
     "output_type": "execute_result"
    }
   ],
   "source": [
    "sorted(reg.get_params().keys())"
   ]
  },
  {
   "cell_type": "markdown",
   "id": "f3e6b07f-2182-4a73-9d88-50131953a78e",
   "metadata": {
    "tags": []
   },
   "source": [
    "<div class=\"alert alert-block alert-info\">\n",
    "    Parameters settings \n",
    "</div>"
   ]
  },
  {
   "cell_type": "code",
   "execution_count": 38,
   "id": "5caad3ee-5d10-4e6e-b503-862c34f91c39",
   "metadata": {},
   "outputs": [],
   "source": [
    "param_grid = {\n",
    "    \"linearregression__copy_X\" : [True, False], # If True, X will be copied; else, it may be overwritten.\n",
    "    \"linearregression__fit_intercept\" : [True, False] # Whether to calculate the intercept for this model. \n",
    "}"
   ]
  },
  {
   "cell_type": "markdown",
   "id": "96315355-06b5-40f2-8f33-db95357af190",
   "metadata": {
    "tags": []
   },
   "source": [
    "<div class=\"alert alert-block alert-info\">\n",
    "    Executing the model\n",
    "</div>"
   ]
  },
  {
   "cell_type": "code",
   "execution_count": 39,
   "id": "25e5fd78-499b-41ac-8869-df7c68050adf",
   "metadata": {},
   "outputs": [
    {
     "name": "stdout",
     "output_type": "stream",
     "text": [
      "Metrics based on the best R²\n",
      "- R²: 0.625\n",
      "- MAE: 0.801\n",
      "- RMSE: 1.093\n",
      "- Duration: 0.015\n",
      "- Parameters: {'linearregression__copy_X': True, 'linearregression__fit_intercept': False}\n"
     ]
    }
   ],
   "source": [
    "# K-Folds cross-validator\n",
    "kfold = KFold(n_splits=5, shuffle=True, random_state=0)\n",
    "\n",
    "search = GridSearchCV(reg, param_grid, n_jobs=-1, cv=kfold, scoring=SCORINGS, refit=\"R2\", return_train_score=True)\n",
    "\n",
    "search.fit(X_train, y_train)\n",
    "\n",
    "# Transforming the result to dataframe format\n",
    "df_results = pd.DataFrame(search.cv_results_)\n",
    "\n",
    "# Get the results\n",
    "print(\"Metrics based on the best R2\".translate(SUP))\n",
    "print(\"- R2:\".translate(SUP), round(search.best_score_, 3))\n",
    "print(\"- MAE:\", round(abs(df_results.iloc[search.best_index_][\"mean_test_MAE\"]), 3))\n",
    "print(\"- RMSE:\", round(math.sqrt(abs(df_results.iloc[search.best_index_][\"mean_test_MSE\"])), 3))\n",
    "print(\"- Duration:\", round(df_results.iloc[search.best_index_][\"mean_score_time\"], 3))\n",
    "print(\"- Parameters:\", search.best_params_)"
   ]
  },
  {
   "cell_type": "markdown",
   "id": "51cdc04c-8aba-47c6-b9c9-a37332d7cfc4",
   "metadata": {
    "tags": []
   },
   "source": [
    "<div class=\"alert alert-block alert-info\">\n",
    "    We got the <b>best parameters</b> so, we are going to <b>analyze</b> them more in details \n",
    "</div>"
   ]
  },
  {
   "cell_type": "markdown",
   "id": "a13119ad-d63d-4abc-88c2-1a5dd22ffe7e",
   "metadata": {},
   "source": [
    "<div style=\"background-color: #6D83C5;\" >\n",
    "    <h4 style=\"margin: auto; padding: 20px; color:#fff; \">6.1.1. Linear Regression Learning curve</h4>\n",
    "</div>"
   ]
  },
  {
   "cell_type": "markdown",
   "id": "ed431a2e-f819-4703-b5fa-2cc00398ad47",
   "metadata": {
    "tags": []
   },
   "source": [
    "<div class=\"alert alert-block alert-info\">\n",
    "    To plot the <b>Learning curve</b>, we are going to use the <b>best  parameters</b> to analyze the model\n",
    "</div>"
   ]
  },
  {
   "cell_type": "code",
   "execution_count": 40,
   "id": "280de317-5ea9-4557-a7c7-f491ae4711c0",
   "metadata": {},
   "outputs": [],
   "source": [
    "kfold = KFold(n_splits=5, shuffle=False, random_state=None)\n",
    "\n",
    "reg = make_pipeline(preprocessor, LinearRegression(copy_X=True, fit_intercept=False))"
   ]
  },
  {
   "cell_type": "markdown",
   "id": "21ef7972-2232-4fd8-92d3-7c0718859f33",
   "metadata": {
    "tags": []
   },
   "source": [
    "<div class=\"alert alert-block alert-info\">\n",
    "    Plotting <b>the learning curve</b> based on the best parameters\n",
    "</div>"
   ]
  },
  {
   "cell_type": "code",
   "execution_count": 41,
   "id": "28fca623-4c22-438c-9ea3-1be97315c6d9",
   "metadata": {},
   "outputs": [
    {
     "data": {
      "image/png": "[encoded data removed]",
      "text/plain": [
       "<Figure size 1728x432 with 3 Axes>"
      ]
     },
     "metadata": {},
     "output_type": "display_data"
    }
   ],
   "source": [
    "plot_learning_curve(reg, \"LinearRegression\", X_train, y_train, cv=kfold)"
   ]
  },
  {
   "cell_type": "markdown",
   "id": "4e7d596e-d449-4434-b36a-e48fa1eb7d08",
   "metadata": {},
   "source": [
    "<div style=\"background-color: #6D83C5;\" >\n",
    "    <h4 style=\"margin: auto; padding: 20px; color:#fff; \">6.1.2. Linear Regression predictions validations</h4>\n",
    "</div>"
   ]
  },
  {
   "cell_type": "markdown",
   "id": "cd3c7c48-cfcf-42e3-b3ce-859ed4173b33",
   "metadata": {
    "tags": []
   },
   "source": [
    "<div class=\"alert alert-block alert-info\">\n",
    "    To plot the <b>predictions validations</b>, we are going to use the <b>best  parameters</b> to analyze the model after <b>fitting</b> and <b>predicting</b> values</b>\n",
    "</div>"
   ]
  },
  {
   "cell_type": "code",
   "execution_count": 42,
   "id": "1806f71d-9744-4de6-af7d-d404cbed7d64",
   "metadata": {},
   "outputs": [],
   "source": [
    "kfold = KFold(n_splits=5, shuffle=True, random_state=0)\n",
    "\n",
    "reg = make_pipeline(preprocessor, LinearRegression(copy_X=True, fit_intercept=False))\n",
    "\n",
    "reg.fit(X_train, y_train)\n",
    "\n",
    "# Making the prediction using the testing data\n",
    "y_pred = reg.predict(X_test)"
   ]
  },
  {
   "cell_type": "markdown",
   "id": "f104e612-662e-493e-a5ea-8b25ff3c2a0a",
   "metadata": {
    "tags": []
   },
   "source": [
    "<div class=\"alert alert-block alert-info\">\n",
    "    Plotting <b>the Cross-Validated Predictions</b> based on the best parameters for <b>training data</b>\n",
    "</div>"
   ]
  },
  {
   "cell_type": "code",
   "execution_count": 43,
   "id": "73b553c3-1f83-4219-97a8-b8c983d6d7d5",
   "metadata": {},
   "outputs": [
    {
     "data": {
      "image/png": "[encoded data removed]",
      "text/plain": [
       "<Figure size 1296x576 with 2 Axes>"
      ]
     },
     "metadata": {},
     "output_type": "display_data"
    }
   ],
   "source": [
    "# Making the prediction using the testing data\n",
    "plot_cross_val_predi(reg, \"LinearRegresion\", \"SiteEnergyUse(kBtu)\", X_train, y_train, cv=kfold)"
   ]
  },
  {
   "cell_type": "markdown",
   "id": "79f063c1-9837-4094-9ed2-e3f9a6392297",
   "metadata": {},
   "source": [
    "<div style=\"background-color: #6D83C5;\" >\n",
    "    <h4 style=\"margin: auto; padding: 20px; color:#fff; \">6.1.3. Linear Regression Features Importance</h4>\n",
    "</div>"
   ]
  },
  {
   "cell_type": "markdown",
   "id": "e0ef4e39-f106-4d99-ada5-47d1f4541bc7",
   "metadata": {
    "tags": []
   },
   "source": [
    "<div class=\"alert alert-block alert-info\">\n",
    "    To plot the <b>Features Importance</b>, we are going to use the <b>best  parameters</b> to analyze the model after <b>fitting</b> values</b>\n",
    "</div>"
   ]
  },
  {
   "cell_type": "code",
   "execution_count": 44,
   "id": "165414d1-daa2-4f32-a80e-67af45972e57",
   "metadata": {},
   "outputs": [
    {
     "data": {
      "text/plain": [
       "Pipeline(steps=[('columntransformer',\n",
       "                 ColumnTransformer(transformers=[('pipeline-1',\n",
       "                                                  Pipeline(steps=[('standardscaler',\n",
       "                                                                   StandardScaler())]),\n",
       "                                                  ['NumberofFloors',\n",
       "                                                   'NumberofBuildings',\n",
       "                                                   'BuildingAge',\n",
       "                                                   'PropertyGFAParking',\n",
       "                                                   'PropertyGFABuilding(s)',\n",
       "                                                   'Electricity_ratio']),\n",
       "                                                 ('pipeline-2',\n",
       "                                                  Pipeline(steps=[('onehotencoder',\n",
       "                                                                   OneHotEncoder())]),\n",
       "                                                  ['Neighborhood',\n",
       "                                                   'renamed_PropertyType'])])),\n",
       "                ('linearregression', LinearRegression(fit_intercept=False))])"
      ]
     },
     "execution_count": 44,
     "metadata": {},
     "output_type": "execute_result"
    }
   ],
   "source": [
    "reg = make_pipeline(preprocessor, LinearRegression(copy_X=True, fit_intercept=False))\n",
    "\n",
    "reg.fit(X_train, y_train)"
   ]
  },
  {
   "cell_type": "markdown",
   "id": "08b90ce5-3fd7-4cf7-80ff-ca2fcbbba678",
   "metadata": {
    "tags": []
   },
   "source": [
    "<div class=\"alert alert-block alert-info\">\n",
    "    Plotting <b>the Features Importance</b> based on the best parameters\n",
    "</div>"
   ]
  },
  {
   "cell_type": "code",
   "execution_count": 45,
   "id": "0fd55d22-9703-467e-aed6-6509bc20f352",
   "metadata": {},
   "outputs": [
    {
     "data": {
      "image/png": "[encoded data removed]",
      "text/plain": [
       "<Figure size 720x576 with 1 Axes>"
      ]
     },
     "metadata": {},
     "output_type": "display_data"
    }
   ],
   "source": [
    "plot_features_importance(reg, \"LinearRegresion\", X_train, y_train, scoring=\"neg_mean_squared_error\")"
   ]
  },
  {
   "cell_type": "code",
   "execution_count": 46,
   "id": "f334e315-2c1a-413a-b82b-cfae198c7d96",
   "metadata": {},
   "outputs": [
    {
     "ename": "NameError",
     "evalue": "name 'xxx' is not defined",
     "output_type": "error",
     "traceback": [
      "\u001b[1;31m---------------------------------------------------------------------------\u001b[0m",
      "\u001b[1;31mNameError\u001b[0m                                 Traceback (most recent call last)",
      "\u001b[1;32m<ipython-input-46-38170c08cb45>\u001b[0m in \u001b[0;36m<module>\u001b[1;34m\u001b[0m\n\u001b[1;32m----> 1\u001b[1;33m \u001b[0mxxx\u001b[0m\u001b[1;33m\u001b[0m\u001b[1;33m\u001b[0m\u001b[0m\n\u001b[0m",
      "\u001b[1;31mNameError\u001b[0m: name 'xxx' is not defined"
     ]
    }
   ],
   "source": [
    "xxx"
   ]
  },
  {
   "cell_type": "markdown",
   "id": "36db378f-3ee8-4cd3-ab9a-fc13a796afc8",
   "metadata": {},
   "source": [
    "<div style=\"background-color: #6D83C5;\" >\n",
    "    <h1 style=\"margin: auto; padding: 20px; color:#fff; \">XXXXXXXXXXXXXXXXXXXXXXXXXXXXX</h1>\n",
    "</div>"
   ]
  },
  {
   "cell_type": "markdown",
   "id": "bcfe8aab-f8c1-4121-8bbd-28b052e54fdf",
   "metadata": {},
   "source": [
    "<div style=\"background-color: #6D83C5;\" >\n",
    "    <h4 style=\"margin: auto; padding: 20px; color:#fff; \">6.1.4. Polynomial Features</h4>\n",
    "</div>"
   ]
  },
  {
   "cell_type": "markdown",
   "id": "a0700252-a65b-497e-b9ab-d9ad2dd28f94",
   "metadata": {
    "tags": []
   },
   "source": [
    "<div class=\"alert alert-block alert-info\">\n",
    "    <p>we are going to work with a <b>Polynomial Features</b> to make a model more complex</p>\n",
    "    \n",
    "    <p>Initializing model</p>\n",
    "</div>"
   ]
  },
  {
   "cell_type": "code",
   "execution_count": null,
   "id": "16a58515-ab2e-442f-b394-930ba8128fe1",
   "metadata": {
    "tags": []
   },
   "outputs": [],
   "source": [
    "poly = PolynomialFeatures()\n",
    "\n",
    "lr = LinearRegression()"
   ]
  },
  {
   "cell_type": "markdown",
   "id": "ef846528-8d5b-46ba-a1e3-02ce394526e5",
   "metadata": {
    "tags": []
   },
   "source": [
    "<div class=\"alert alert-block alert-info\">\n",
    "    Data preprocessing based on the pipelines and the regressors setup\n",
    "</div>"
   ]
  },
  {
   "cell_type": "code",
   "execution_count": null,
   "id": "daac7941-cb0c-433e-b040-dac6dc7f013b",
   "metadata": {},
   "outputs": [],
   "source": [
    "poly_reg = make_pipeline(preprocessor, poly, lr)"
   ]
  },
  {
   "cell_type": "markdown",
   "id": "ca9f546c-7506-45dd-a757-5252f14b2c9b",
   "metadata": {
    "tags": []
   },
   "source": [
    "<div class=\"alert alert-block alert-info\">\n",
    "    Identifying the names of each parameter\n",
    "</div>"
   ]
  },
  {
   "cell_type": "code",
   "execution_count": null,
   "id": "8ca88fce-6b6e-4665-b88a-2bd0b95d4cf7",
   "metadata": {},
   "outputs": [],
   "source": [
    "sorted(poly_reg.get_params().keys())"
   ]
  },
  {
   "cell_type": "markdown",
   "id": "59207ef5-a8a6-4ef5-9953-2fa3350f7276",
   "metadata": {
    "tags": []
   },
   "source": [
    "<div class=\"alert alert-block alert-info\">\n",
    "    Parameters settings \n",
    "</div>"
   ]
  },
  {
   "cell_type": "code",
   "execution_count": null,
   "id": "490b5de5-c3e1-4ed4-bf58-f49571a84c30",
   "metadata": {},
   "outputs": [],
   "source": [
    "param_grid = {\n",
    "    \"polynomialfeatures__degree\" : [2, 3, 4, 5, 6],\n",
    "    \"linearregression__copy_X\" : [True, False],\n",
    "    \"linearregression__fit_intercept\" : [True, False]\n",
    "}"
   ]
  },
  {
   "cell_type": "code",
   "execution_count": null,
   "id": "e72223d3-c8b5-4510-b155-0c3c79b440e7",
   "metadata": {},
   "outputs": [],
   "source": [
    "XX"
   ]
  },
  {
   "cell_type": "markdown",
   "id": "5f93417f-79cb-40a1-91db-3a435d0c99d2",
   "metadata": {
    "tags": []
   },
   "source": [
    "<div class=\"alert alert-block alert-info\">\n",
    "    Executing the model\n",
    "</div>"
   ]
  },
  {
   "cell_type": "code",
   "execution_count": null,
   "id": "35f7c54c-29e9-4c3d-b69b-53d9f484e8ff",
   "metadata": {},
   "outputs": [],
   "source": [
    "# K-Folds cross-validator\n",
    "kfold = KFold(n_splits=5, shuffle=True, random_state=0)\n",
    "\n",
    "search = GridSearchCV(poly_reg, param_grid, n_jobs=-1, cv=kfold, scoring=SCORINGS, refit=\"R2\", return_train_score=True)\n",
    "\n",
    "search.fit(X_train, y_train)\n",
    "\n",
    "# Transforming the result to dataframe format\n",
    "df_results = pd.DataFrame(search.cv_results_)\n",
    "\n",
    "# Get the results\n",
    "print(\"Metrics based on the best R2\".translate(SUP))\n",
    "print(\"- R2:\".translate(SUP), round(search.best_score_, 3))\n",
    "print(\"- MAE:\", round(abs(df_results.iloc[search.best_index_][\"mean_test_MAE\"]), 3))\n",
    "print(\"- RMSE:\", round(math.sqrt(abs(df_results.iloc[search.best_index_][\"mean_test_MSE\"])), 3))\n",
    "print(\"- Duration:\", round(df_results.iloc[search.best_index_][\"mean_score_time\"], 3))\n",
    "print(\"- Parameters:\", search.best_params_)"
   ]
  },
  {
   "cell_type": "markdown",
   "id": "842874b9-ecf6-468c-8929-0603207210ac",
   "metadata": {
    "tags": []
   },
   "source": [
    "<div class=\"alert alert-block alert-info\">\n",
    "    We got the <b>best parameters</b> so, we are going to <b>analyze</b> them more in details \n",
    "</div>"
   ]
  },
  {
   "cell_type": "markdown",
   "id": "bca67501-65d1-44e0-b64d-396bbf934cab",
   "metadata": {},
   "source": [
    "<div style=\"background-color: #6D83C5;\" >\n",
    "    <h5 style=\"margin: auto; padding: 20px; color:#fff; \">6.1.4.1. Linear Regression and Polynomial Features Validation curve</h5>\n",
    "</div>"
   ]
  },
  {
   "cell_type": "markdown",
   "id": "e7e5dc33-7e1f-4e10-aee3-9273e8df54b2",
   "metadata": {
    "tags": []
   },
   "source": [
    "<div class=\"alert alert-block alert-info\">\n",
    "    To plot the <b>Validation curve</b>, we are going to use a <b>range of neighbors</b> to analyze the model through them\n",
    "</div>"
   ]
  },
  {
   "cell_type": "code",
   "execution_count": null,
   "id": "6deb0bb2-e2f6-43f8-ac5e-a017a7786139",
   "metadata": {},
   "outputs": [],
   "source": [
    "kfold = KFold(n_splits=5, shuffle=False, random_state=None)\n",
    "\n",
    "degree = [1, 2, 3, 4, 5]\n",
    "\n",
    "reg = make_pipeline(preprocessor, PolynomialFeatures(), LinearRegression(copy_X=True, fit_intercept=False))"
   ]
  },
  {
   "cell_type": "markdown",
   "id": "ee61ec9d-349f-46cd-807b-e2ed42014e42",
   "metadata": {
    "tags": []
   },
   "source": [
    "<div class=\"alert alert-block alert-info\">\n",
    "    Plotting <b>the validacion curve</b> based on the best parameters\n",
    "</div>"
   ]
  },
  {
   "cell_type": "code",
   "execution_count": null,
   "id": "cda534d5-1837-4907-a217-1a06cc78503b",
   "metadata": {},
   "outputs": [],
   "source": [
    "plot_validation_curve(reg, \"LinearRegression\", X_train, y_train, param_name=\"polynomialfeatures__degree\", param_range=degree, param_name_short=\"Degree\", cv=kfold)"
   ]
  },
  {
   "cell_type": "markdown",
   "id": "030d8b1d-a0fb-43f2-aca2-da82a583a2d2",
   "metadata": {
    "tags": []
   },
   "source": [
    "<div class=\"alert alert-block alert-warning\">\n",
    "    It is necessary to remenber that we are treating with Non-linear Dataset. \n",
    "</div>"
   ]
  },
  {
   "cell_type": "markdown",
   "id": "2e011480-65d4-4b48-8332-c33426a0248d",
   "metadata": {},
   "source": [
    "<div style=\"background-color: #6D83C5;\" >\n",
    "    <h5 style=\"margin: auto; padding: 20px; color:#fff; \">6.1.4.2. Linear Regression and Polynomial Features Learning curve</h5>\n",
    "</div>"
   ]
  },
  {
   "cell_type": "markdown",
   "id": "ec7b4c89-b7fe-4780-ba72-4651a21b7bc3",
   "metadata": {
    "tags": []
   },
   "source": [
    "<div class=\"alert alert-block alert-info\">\n",
    "    To plot the <b>Learning curve</b>, we are going to use the <b>best  parameters</b> to analyze the model\n",
    "</div>"
   ]
  },
  {
   "cell_type": "code",
   "execution_count": null,
   "id": "5fe8733c-e919-41db-9d2e-32587b976475",
   "metadata": {},
   "outputs": [],
   "source": [
    "kfold = KFold(n_splits=5, shuffle=False, random_state=None)\n",
    "\n",
    "reg = make_pipeline(preprocessor, PolynomialFeatures(degree=2), LinearRegression(copy_X=True, fit_intercept=False))"
   ]
  },
  {
   "cell_type": "markdown",
   "id": "c693884c-74a9-4b29-963f-fc357649a43f",
   "metadata": {
    "tags": []
   },
   "source": [
    "<div class=\"alert alert-block alert-info\">\n",
    "    Plotting <b>the learning curve</b> based on the best parameters\n",
    "</div>"
   ]
  },
  {
   "cell_type": "code",
   "execution_count": null,
   "id": "f248bfee-42da-49ba-a8ac-865963e040b9",
   "metadata": {},
   "outputs": [],
   "source": [
    "plot_learning_curve(reg, \"LinearRegression\", X_train, y_train, cv=kfold)"
   ]
  },
  {
   "cell_type": "markdown",
   "id": "3a1ae091-b794-4c7c-ac41-820d574bb206",
   "metadata": {},
   "source": [
    "<div style=\"background-color: #6D83C5;\" >\n",
    "    <h5 style=\"margin: auto; padding: 20px; color:#fff; \">6.1.4.3. Linear Regression and Polynomial Features predictions validations</h5>\n",
    "</div>"
   ]
  },
  {
   "cell_type": "markdown",
   "id": "3818b8ef-d4b6-4349-b883-da4e50a4cf9c",
   "metadata": {
    "tags": []
   },
   "source": [
    "<div class=\"alert alert-block alert-info\">\n",
    "    To plot the <b>predictions validations</b>, we are going to use the <b>best  parameters</b> to analyze the model after <b>fitting</b> and <b>predicting</b> values</b>\n",
    "</div>"
   ]
  },
  {
   "cell_type": "code",
   "execution_count": null,
   "id": "4dd134c8-1a39-46ce-abe8-66b8907b02bd",
   "metadata": {},
   "outputs": [],
   "source": [
    "kfold = KFold(n_splits=5, shuffle=True, random_state=0)\n",
    "\n",
    "reg = make_pipeline(preprocessor, PolynomialFeatures(degree=2), LinearRegression(copy_X=True, fit_intercept=False))\n",
    "\n",
    "reg.fit(X_train, y_train)\n",
    "\n",
    "# Making the prediction using the testing data\n",
    "y_pred = reg.predict(X_test)"
   ]
  },
  {
   "cell_type": "markdown",
   "id": "4161fc13-0b0e-4abd-afbb-a02bf3efaa42",
   "metadata": {
    "tags": []
   },
   "source": [
    "<div class=\"alert alert-block alert-info\">\n",
    "    Plotting <b>the Cross-Validated Predictions</b> based on the best parameters for <b>training data</b>\n",
    "</div>"
   ]
  },
  {
   "cell_type": "code",
   "execution_count": null,
   "id": "dd62616a-72ad-4170-9037-7f84bc725743",
   "metadata": {},
   "outputs": [],
   "source": [
    "# Making the prediction using the testing data\n",
    "plot_cross_val_predi(reg, \"LinearRegresion\", \"SiteEnergyUse(kBtu)\", X_train, y_train, cv=kfold)"
   ]
  },
  {
   "cell_type": "markdown",
   "id": "763e13a8-bee9-40a2-8bab-fca1db15a1e2",
   "metadata": {},
   "source": [
    "<div style=\"background-color: #6D83C5;\" >\n",
    "    <h5 style=\"margin: auto; padding: 20px; color:#fff; \">6.1.4.4. Linear Regression and Polynomial Features Features Importance</h5>\n",
    "</div>"
   ]
  },
  {
   "cell_type": "markdown",
   "id": "697563e5-e2d4-460d-8a4e-318d5c944d29",
   "metadata": {
    "tags": []
   },
   "source": [
    "<div class=\"alert alert-block alert-info\">\n",
    "    To plot the <b>Features Importance</b>, we are going to use the <b>best  parameters</b> to analyze the model after <b>fitting</b> values</b>\n",
    "</div>"
   ]
  },
  {
   "cell_type": "code",
   "execution_count": null,
   "id": "fe9ba3d7-2d6d-4362-826e-ffed770ea7f7",
   "metadata": {},
   "outputs": [],
   "source": [
    "reg = make_pipeline(preprocessor, PolynomialFeatures(degree=2), LinearRegression(copy_X=True, fit_intercept=False))\n",
    "\n",
    "reg.fit(X_train, y_train)"
   ]
  },
  {
   "cell_type": "markdown",
   "id": "1990ff83-2a6d-4e66-90d5-8bfc1f74831a",
   "metadata": {
    "tags": []
   },
   "source": [
    "<div class=\"alert alert-block alert-info\">\n",
    "    Plotting <b>the Features Importance</b> based on the best parameters\n",
    "</div>"
   ]
  },
  {
   "cell_type": "code",
   "execution_count": null,
   "id": "85832eb8-770b-4245-96d7-e367d4023d51",
   "metadata": {},
   "outputs": [],
   "source": [
    "plot_features_importance(reg, \"LinearRegression\", X_train, y_train, scoring=\"neg_mean_squared_error\")"
   ]
  },
  {
   "cell_type": "markdown",
   "id": "48130748-f274-441f-b9e9-e0199c43cb7b",
   "metadata": {},
   "source": [
    "<div style=\"background-color: #6D83C5;\" >\n",
    "    <h1 style=\"margin: auto; padding: 20px; color:#fff; \">XXXXXXXXXXXXXXXXXXXXXXXXXXXXX</h1>\n",
    "</div>"
   ]
  },
  {
   "cell_type": "markdown",
   "id": "badcdc16-e192-44d4-a3f8-01de19949a84",
   "metadata": {},
   "source": [
    "<div style=\"background-color: #6D83C5;\" >\n",
    "    <h4 style=\"margin: auto; padding: 20px; color:#fff; \">6.1.5 Predictions metrics</h4>\n",
    "</div>"
   ]
  },
  {
   "cell_type": "markdown",
   "id": "2b309111-f905-4b57-9bd9-02768cf6f80d",
   "metadata": {
    "tags": []
   },
   "source": [
    "<div class=\"alert alert-block alert-info\">\n",
    "    <p>To make the comparison among predictions metrics, we are going to select the Linear Regresion without the transformation through Polynomial Features.</p>\n",
    "    \n",
    "    <p>At the same time, we are going to make the prediction with the testing set to compare the result with the model in default mode</p>\n",
    "</div>"
   ]
  },
  {
   "cell_type": "code",
   "execution_count": 47,
   "id": "aafad174-074b-487b-b181-ef416a40e9ba",
   "metadata": {},
   "outputs": [],
   "source": [
    "start_time_model = timeit.default_timer()\n",
    "\n",
    "reg = make_pipeline(preprocessor, LinearRegression(copy_X=True, fit_intercept=False))\n",
    "\n",
    "reg.fit(X_train, y_train)\n",
    "\n",
    "# Making the prediction using the testing data\n",
    "y_pred = reg.predict(X_test)\n",
    "\n",
    "end_time_model =  round(timeit.default_timer() - start_time_model, 3)\n",
    "\n",
    "# Calculating R2 Coefficient of determination for each model (Best possible score is 1.0, lower values are worse.)\n",
    "R2SCORE = round(r2_score(y_test, y_pred), 5)\n",
    "    \n",
    "# Calculating the Mean absolute error (The best value is 0.0)\n",
    "MAE = round(mean_absolute_error(y_test, y_pred), 3)\n",
    "    \n",
    "# Calculating Root Mean Square Error for each model (The best value is 0.0)\n",
    "RMSE = round(mean_squared_error(y_test, y_pred, squared=False), 3)"
   ]
  },
  {
   "cell_type": "markdown",
   "id": "3702193c-2100-4704-a936-5fff27df92ec",
   "metadata": {
    "tags": []
   },
   "source": [
    "<div class=\"alert alert-block alert-info\">\n",
    "    Adding the prediction to compare at the end\n",
    "</div>"
   ]
  },
  {
   "cell_type": "code",
   "execution_count": 48,
   "id": "17ebdc37-7cba-4b94-b4c7-57bdf2136608",
   "metadata": {
    "tags": []
   },
   "outputs": [],
   "source": [
    "# Concatenating predictions to compare against y_test_transformed\n",
    "df_temp = pd.DataFrame({\n",
    "    \"Model\" : \"LinearRegression\",\n",
    "    \"y_pred\" : y_pred\n",
    "})"
   ]
  },
  {
   "cell_type": "code",
   "execution_count": 49,
   "id": "7168b1b9-3cec-4983-b5f8-35fa20444452",
   "metadata": {},
   "outputs": [],
   "source": [
    "# Concatenating predictions to compare against y_test_transformed\n",
    "df_y_pred_gsc = pd.concat([df_y_pred_gsc, df_temp])"
   ]
  },
  {
   "cell_type": "markdown",
   "id": "8cdd0f22-ae2d-421e-8abe-d128a4e35a45",
   "metadata": {
    "tags": []
   },
   "source": [
    "<div class=\"alert alert-block alert-info\">\n",
    "    Verifying the prediction model into the dataset\n",
    "</div>"
   ]
  },
  {
   "cell_type": "code",
   "execution_count": 50,
   "id": "0dfd2d0f-ef8c-4798-b603-dea303fdee34",
   "metadata": {},
   "outputs": [
    {
     "data": {
      "text/plain": [
       "array(['Original', 'LinearRegression'], dtype=object)"
      ]
     },
     "execution_count": 50,
     "metadata": {},
     "output_type": "execute_result"
    }
   ],
   "source": [
    "df_y_pred_gsc[\"Model\"].unique()"
   ]
  },
  {
   "cell_type": "markdown",
   "id": "e6935621-8d21-492e-9fb8-edff781518e7",
   "metadata": {
    "tags": []
   },
   "source": [
    "<div class=\"alert alert-block alert-info\">\n",
    "    Adding metrics to compare at the end\n",
    "</div>"
   ]
  },
  {
   "cell_type": "code",
   "execution_count": 51,
   "id": "e6a2be48-f924-4ad6-921d-539196abbc83",
   "metadata": {},
   "outputs": [],
   "source": [
    "df_temp = pd.DataFrame({\n",
    "    \"Model\" : [\"LinearRegression\"],\n",
    "    \"R2\".translate(SUP) : [R2SCORE], \n",
    "    \"MAE\" : [MAE],    \n",
    "    \"RMSE\" : [RMSE],\n",
    "    \"Duration\" : [end_time_model]\n",
    "})"
   ]
  },
  {
   "cell_type": "code",
   "execution_count": 52,
   "id": "f4121b2b-fd9c-4810-b3c1-5c51add0563a",
   "metadata": {},
   "outputs": [],
   "source": [
    "# Concatenating metrics to compare against model with default parameters\n",
    "df_models_metrics_gsc = pd.concat([df_models_metrics_gsc, df_temp])"
   ]
  },
  {
   "cell_type": "code",
   "execution_count": 53,
   "id": "a12e1a4d-369b-47db-a14c-472e3d862a0b",
   "metadata": {},
   "outputs": [
    {
     "data": {
      "text/html": [
       "<div>\n",
       "<style scoped>\n",
       "    .dataframe tbody tr th:only-of-type {\n",
       "        vertical-align: middle;\n",
       "    }\n",
       "\n",
       "    .dataframe tbody tr th {\n",
       "        vertical-align: top;\n",
       "    }\n",
       "\n",
       "    .dataframe thead th {\n",
       "        text-align: right;\n",
       "    }\n",
       "</style>\n",
       "<table border=\"1\" class=\"dataframe\">\n",
       "  <thead>\n",
       "    <tr style=\"text-align: right;\">\n",
       "      <th></th>\n",
       "      <th>Model</th>\n",
       "      <th>R²</th>\n",
       "      <th>MAE</th>\n",
       "      <th>RMSE</th>\n",
       "      <th>Duration</th>\n",
       "    </tr>\n",
       "  </thead>\n",
       "  <tbody>\n",
       "    <tr>\n",
       "      <th>0</th>\n",
       "      <td>LinearRegression</td>\n",
       "      <td>0.58396</td>\n",
       "      <td>0.84</td>\n",
       "      <td>1.1</td>\n",
       "      <td>0.025</td>\n",
       "    </tr>\n",
       "  </tbody>\n",
       "</table>\n",
       "</div>"
      ],
      "text/plain": [
       "              Model       R²   MAE  RMSE  Duration\n",
       "0  LinearRegression  0.58396  0.84   1.1     0.025"
      ]
     },
     "execution_count": 53,
     "metadata": {},
     "output_type": "execute_result"
    }
   ],
   "source": [
    "df_models_metrics_gsc"
   ]
  },
  {
   "cell_type": "code",
   "execution_count": 54,
   "id": "3cdbde53-9231-4b05-b796-0366dae54dd4",
   "metadata": {},
   "outputs": [
    {
     "data": {
      "text/html": [
       "<div>\n",
       "<style scoped>\n",
       "    .dataframe tbody tr th:only-of-type {\n",
       "        vertical-align: middle;\n",
       "    }\n",
       "\n",
       "    .dataframe tbody tr th {\n",
       "        vertical-align: top;\n",
       "    }\n",
       "\n",
       "    .dataframe thead th {\n",
       "        text-align: right;\n",
       "    }\n",
       "</style>\n",
       "<table border=\"1\" class=\"dataframe\">\n",
       "  <thead>\n",
       "    <tr style=\"text-align: right;\">\n",
       "      <th></th>\n",
       "      <th>Model</th>\n",
       "      <th>R²</th>\n",
       "      <th>MAE</th>\n",
       "      <th>RMSE</th>\n",
       "      <th>Duration</th>\n",
       "    </tr>\n",
       "  </thead>\n",
       "  <tbody>\n",
       "    <tr>\n",
       "      <th>0</th>\n",
       "      <td>Linear</td>\n",
       "      <td>0.584</td>\n",
       "      <td>0.840</td>\n",
       "      <td>1.100</td>\n",
       "      <td>0.033</td>\n",
       "    </tr>\n",
       "    <tr>\n",
       "      <th>1</th>\n",
       "      <td>KNeighbors</td>\n",
       "      <td>0.416</td>\n",
       "      <td>0.990</td>\n",
       "      <td>1.304</td>\n",
       "      <td>0.040</td>\n",
       "    </tr>\n",
       "    <tr>\n",
       "      <th>2</th>\n",
       "      <td>Lasso</td>\n",
       "      <td>0.176</td>\n",
       "      <td>1.218</td>\n",
       "      <td>1.548</td>\n",
       "      <td>0.015</td>\n",
       "    </tr>\n",
       "    <tr>\n",
       "      <th>3</th>\n",
       "      <td>SVR</td>\n",
       "      <td>0.612</td>\n",
       "      <td>0.794</td>\n",
       "      <td>1.062</td>\n",
       "      <td>0.081</td>\n",
       "    </tr>\n",
       "    <tr>\n",
       "      <th>4</th>\n",
       "      <td>Random Forest</td>\n",
       "      <td>0.613</td>\n",
       "      <td>0.813</td>\n",
       "      <td>1.062</td>\n",
       "      <td>1.493</td>\n",
       "    </tr>\n",
       "    <tr>\n",
       "      <th>5</th>\n",
       "      <td>Gradient Boosting</td>\n",
       "      <td>0.639</td>\n",
       "      <td>0.781</td>\n",
       "      <td>1.025</td>\n",
       "      <td>0.222</td>\n",
       "    </tr>\n",
       "  </tbody>\n",
       "</table>\n",
       "</div>"
      ],
      "text/plain": [
       "               Model     R²    MAE   RMSE  Duration\n",
       "0             Linear  0.584  0.840  1.100     0.033\n",
       "1         KNeighbors  0.416  0.990  1.304     0.040\n",
       "2              Lasso  0.176  1.218  1.548     0.015\n",
       "3                SVR  0.612  0.794  1.062     0.081\n",
       "4      Random Forest  0.613  0.813  1.062     1.493\n",
       "5  Gradient Boosting  0.639  0.781  1.025     0.222"
      ]
     },
     "execution_count": 54,
     "metadata": {},
     "output_type": "execute_result"
    }
   ],
   "source": [
    "df_models_metrics"
   ]
  },
  {
   "cell_type": "markdown",
   "id": "05860e64-fd21-4bb1-bd91-bf8253e34d54",
   "metadata": {
    "tags": []
   },
   "source": [
    "<div class=\"alert alert-block alert-success\">\n",
    "    Compared to the model with default parameters, we can see that the result (for Linear Regression) is the same\n",
    "</div>"
   ]
  },
  {
   "cell_type": "markdown",
   "id": "38b4ce5a-824d-47e9-8f1a-42cb68ee996d",
   "metadata": {},
   "source": [
    "<div style=\"background-color: #6D83C5;\" >\n",
    "    <h3 style=\"margin: auto; padding: 20px; color:#fff; \">6.2. KNeighbors optimization</h3>\n",
    "</div>"
   ]
  },
  {
   "cell_type": "markdown",
   "id": "2a97c823-ca6e-42d4-a387-834fdf761bd5",
   "metadata": {
    "tags": []
   },
   "source": [
    "<div class=\"alert alert-block alert-info\">\n",
    "    Initializing model\n",
    "</div>"
   ]
  },
  {
   "cell_type": "code",
   "execution_count": 55,
   "id": "fcc3172a-20d8-4dca-be14-4e7f68ea79a5",
   "metadata": {
    "tags": []
   },
   "outputs": [],
   "source": [
    "knn = KNeighborsRegressor()"
   ]
  },
  {
   "cell_type": "markdown",
   "id": "54743395-587c-4665-91a3-c88fab57fddb",
   "metadata": {
    "tags": []
   },
   "source": [
    "<div class=\"alert alert-block alert-info\">\n",
    "    Data preprocessing based on the pipelines and the regressors setup\n",
    "</div>"
   ]
  },
  {
   "cell_type": "code",
   "execution_count": 56,
   "id": "ac9480bb-33bc-443e-8d93-26734cb16b11",
   "metadata": {},
   "outputs": [],
   "source": [
    "reg = make_pipeline(preprocessor, knn)"
   ]
  },
  {
   "cell_type": "markdown",
   "id": "e84fe29d-d8c6-400c-89ac-b1fdb7c30d37",
   "metadata": {
    "tags": []
   },
   "source": [
    "<div class=\"alert alert-block alert-info\">\n",
    "    Identifying the names of each parameter\n",
    "</div>"
   ]
  },
  {
   "cell_type": "code",
   "execution_count": 57,
   "id": "3a47f690-db8c-4011-bf44-eae8a562b7a7",
   "metadata": {},
   "outputs": [
    {
     "data": {
      "text/plain": [
       "['columntransformer',\n",
       " 'columntransformer__n_jobs',\n",
       " 'columntransformer__pipeline-1',\n",
       " 'columntransformer__pipeline-1__memory',\n",
       " 'columntransformer__pipeline-1__standardscaler',\n",
       " 'columntransformer__pipeline-1__standardscaler__copy',\n",
       " 'columntransformer__pipeline-1__standardscaler__with_mean',\n",
       " 'columntransformer__pipeline-1__standardscaler__with_std',\n",
       " 'columntransformer__pipeline-1__steps',\n",
       " 'columntransformer__pipeline-1__verbose',\n",
       " 'columntransformer__pipeline-2',\n",
       " 'columntransformer__pipeline-2__memory',\n",
       " 'columntransformer__pipeline-2__onehotencoder',\n",
       " 'columntransformer__pipeline-2__onehotencoder__categories',\n",
       " 'columntransformer__pipeline-2__onehotencoder__drop',\n",
       " 'columntransformer__pipeline-2__onehotencoder__dtype',\n",
       " 'columntransformer__pipeline-2__onehotencoder__handle_unknown',\n",
       " 'columntransformer__pipeline-2__onehotencoder__sparse',\n",
       " 'columntransformer__pipeline-2__steps',\n",
       " 'columntransformer__pipeline-2__verbose',\n",
       " 'columntransformer__remainder',\n",
       " 'columntransformer__sparse_threshold',\n",
       " 'columntransformer__transformer_weights',\n",
       " 'columntransformer__transformers',\n",
       " 'columntransformer__verbose',\n",
       " 'kneighborsregressor',\n",
       " 'kneighborsregressor__algorithm',\n",
       " 'kneighborsregressor__leaf_size',\n",
       " 'kneighborsregressor__metric',\n",
       " 'kneighborsregressor__metric_params',\n",
       " 'kneighborsregressor__n_jobs',\n",
       " 'kneighborsregressor__n_neighbors',\n",
       " 'kneighborsregressor__p',\n",
       " 'kneighborsregressor__weights',\n",
       " 'memory',\n",
       " 'steps',\n",
       " 'verbose']"
      ]
     },
     "execution_count": 57,
     "metadata": {},
     "output_type": "execute_result"
    }
   ],
   "source": [
    "sorted(reg.get_params().keys())"
   ]
  },
  {
   "cell_type": "markdown",
   "id": "c0d54236-cfa2-4007-b595-dad2baff4e12",
   "metadata": {
    "tags": []
   },
   "source": [
    "<div class=\"alert alert-block alert-info\">\n",
    "    Parameters settings\n",
    "</div>"
   ]
  },
  {
   "cell_type": "code",
   "execution_count": 58,
   "id": "5596bf1e-ad97-4b4b-be04-373c3da76194",
   "metadata": {},
   "outputs": [],
   "source": [
    "param_grid = {\n",
    "    \"kneighborsregressor__n_neighbors\" : [3, 5, 7, 9, 11, 13, 15, 20, 50], # Number of neighbors to use by default for kneighbors queries.\n",
    "    \"kneighborsregressor__algorithm\" : [\"ball_tree\", \"kd_tree\", \"brute\"], # Algorithm used to compute the nearest neighbors\n",
    "    \"kneighborsregressor__metric\" : [\"euclidean\", \"manhattan\", \"chebyshev\"] # The distance metric to use for the tree.\n",
    "}"
   ]
  },
  {
   "cell_type": "markdown",
   "id": "1cd2ce95-1c08-4274-8478-c919d3dd81bc",
   "metadata": {
    "tags": []
   },
   "source": [
    "<div class=\"alert alert-block alert-info\">\n",
    "    Executing the model\n",
    "</div>"
   ]
  },
  {
   "cell_type": "code",
   "execution_count": 59,
   "id": "b1f4e859-7303-4595-9604-929e59837faa",
   "metadata": {},
   "outputs": [
    {
     "name": "stdout",
     "output_type": "stream",
     "text": [
      "Metrics based on the best R²\n",
      "- R²: 0.603\n",
      "- MAE: 0.831\n",
      "- RMSE: 1.127\n",
      "- Duration: 0.021\n",
      "- Parameters: {'kneighborsregressor__algorithm': 'ball_tree', 'kneighborsregressor__metric': 'euclidean', 'kneighborsregressor__n_neighbors': 13}\n"
     ]
    },
    {
     "name": "stderr",
     "output_type": "stream",
     "text": [
      "C:\\Users\\Samir\\anaconda3\\lib\\site-packages\\sklearn\\neighbors\\_base.py:415: UserWarning: cannot use tree with sparse input: using brute force\n",
      "  warnings.warn(\"cannot use tree with sparse input: \"\n"
     ]
    }
   ],
   "source": [
    "# K-Folds cross-validator\n",
    "kfold = KFold(n_splits=5, shuffle=False, random_state=None)\n",
    "\n",
    "search = GridSearchCV(reg, param_grid, n_jobs=-1, cv=kfold, scoring=SCORINGS, refit=\"R2\", return_train_score=True)\n",
    "\n",
    "search.fit(X_train, y_train)\n",
    "\n",
    "# Transforming the result to dataframe format\n",
    "df_results = pd.DataFrame(search.cv_results_)\n",
    "\n",
    "# Get the results\n",
    "print(\"Metrics based on the best R2\".translate(SUP))\n",
    "print(\"- R2:\".translate(SUP), round(search.best_score_, 3))\n",
    "print(\"- MAE:\", round(abs(df_results.iloc[search.best_index_][\"mean_test_MAE\"]), 3))\n",
    "print(\"- RMSE:\", round(math.sqrt(abs(df_results.iloc[search.best_index_][\"mean_test_MSE\"])), 3))\n",
    "print(\"- Duration:\", round(df_results.iloc[search.best_index_][\"mean_score_time\"], 3))\n",
    "print(\"- Parameters:\", search.best_params_)"
   ]
  },
  {
   "cell_type": "markdown",
   "id": "5454d274-fb6b-4866-a1bd-74d611957521",
   "metadata": {
    "tags": []
   },
   "source": [
    "<div class=\"alert alert-block alert-info\">\n",
    "    We got the <b>best parameters</b> so, we are going to <b>analyze</b> them more in details \n",
    "</div>"
   ]
  },
  {
   "cell_type": "markdown",
   "id": "5a589d11-c0e2-43ed-bf7e-71382a55d9f4",
   "metadata": {},
   "source": [
    "<div style=\"background-color: #6D83C5;\" >\n",
    "    <h4 style=\"margin: auto; padding: 20px; color:#fff; \">6.2.1 KNeighbors Validation curve</h4>\n",
    "</div>"
   ]
  },
  {
   "cell_type": "markdown",
   "id": "db0abf71-42c2-4381-b93d-be6a6a45c6fa",
   "metadata": {
    "tags": []
   },
   "source": [
    "<div class=\"alert alert-block alert-info\">\n",
    "    To plot the <b>Validation curve</b>, we are going to use a <b>range of neighbors</b> to analyze the model through them\n",
    "</div>"
   ]
  },
  {
   "cell_type": "code",
   "execution_count": 60,
   "id": "332df373-ff0f-4171-8cc5-3b27ffd5a0da",
   "metadata": {},
   "outputs": [],
   "source": [
    "kfold = KFold(n_splits=5, shuffle=False, random_state=None)\n",
    "\n",
    "n_neighbors = [3, 5, 7, 9, 11, 13, 15, 20, 50]\n",
    "\n",
    "reg = make_pipeline(preprocessor, KNeighborsRegressor(algorithm=\"ball_tree\", metric=\"euclidean\"))"
   ]
  },
  {
   "cell_type": "markdown",
   "id": "05455a89-61af-4566-83e9-1612ef96adc5",
   "metadata": {
    "tags": []
   },
   "source": [
    "<div class=\"alert alert-block alert-info\">\n",
    "    Plotting <b>the validacion curve</b> based on the best parameters\n",
    "</div>"
   ]
  },
  {
   "cell_type": "code",
   "execution_count": 61,
   "id": "943eaef5-7522-40a0-929c-2a01382ce337",
   "metadata": {},
   "outputs": [
    {
     "name": "stderr",
     "output_type": "stream",
     "text": [
      "C:\\Users\\Samir\\anaconda3\\lib\\site-packages\\sklearn\\neighbors\\_base.py:415: UserWarning: cannot use tree with sparse input: using brute force\n",
      "  warnings.warn(\"cannot use tree with sparse input: \"\n",
      "C:\\Users\\Samir\\anaconda3\\lib\\site-packages\\sklearn\\neighbors\\_base.py:415: UserWarning: cannot use tree with sparse input: using brute force\n",
      "  warnings.warn(\"cannot use tree with sparse input: \"\n",
      "C:\\Users\\Samir\\anaconda3\\lib\\site-packages\\sklearn\\neighbors\\_base.py:415: UserWarning: cannot use tree with sparse input: using brute force\n",
      "  warnings.warn(\"cannot use tree with sparse input: \"\n",
      "C:\\Users\\Samir\\anaconda3\\lib\\site-packages\\sklearn\\neighbors\\_base.py:415: UserWarning: cannot use tree with sparse input: using brute force\n",
      "  warnings.warn(\"cannot use tree with sparse input: \"\n",
      "C:\\Users\\Samir\\anaconda3\\lib\\site-packages\\sklearn\\neighbors\\_base.py:415: UserWarning: cannot use tree with sparse input: using brute force\n",
      "  warnings.warn(\"cannot use tree with sparse input: \"\n",
      "C:\\Users\\Samir\\anaconda3\\lib\\site-packages\\sklearn\\neighbors\\_base.py:415: UserWarning: cannot use tree with sparse input: using brute force\n",
      "  warnings.warn(\"cannot use tree with sparse input: \"\n",
      "C:\\Users\\Samir\\anaconda3\\lib\\site-packages\\sklearn\\neighbors\\_base.py:415: UserWarning: cannot use tree with sparse input: using brute force\n",
      "  warnings.warn(\"cannot use tree with sparse input: \"\n",
      "C:\\Users\\Samir\\anaconda3\\lib\\site-packages\\sklearn\\neighbors\\_base.py:415: UserWarning: cannot use tree with sparse input: using brute force\n",
      "  warnings.warn(\"cannot use tree with sparse input: \"\n",
      "C:\\Users\\Samir\\anaconda3\\lib\\site-packages\\sklearn\\neighbors\\_base.py:415: UserWarning: cannot use tree with sparse input: using brute force\n",
      "  warnings.warn(\"cannot use tree with sparse input: \"\n",
      "C:\\Users\\Samir\\anaconda3\\lib\\site-packages\\sklearn\\neighbors\\_base.py:415: UserWarning: cannot use tree with sparse input: using brute force\n",
      "  warnings.warn(\"cannot use tree with sparse input: \"\n",
      "C:\\Users\\Samir\\anaconda3\\lib\\site-packages\\sklearn\\neighbors\\_base.py:415: UserWarning: cannot use tree with sparse input: using brute force\n",
      "  warnings.warn(\"cannot use tree with sparse input: \"\n",
      "C:\\Users\\Samir\\anaconda3\\lib\\site-packages\\sklearn\\neighbors\\_base.py:415: UserWarning: cannot use tree with sparse input: using brute force\n",
      "  warnings.warn(\"cannot use tree with sparse input: \"\n",
      "C:\\Users\\Samir\\anaconda3\\lib\\site-packages\\sklearn\\neighbors\\_base.py:415: UserWarning: cannot use tree with sparse input: using brute force\n",
      "  warnings.warn(\"cannot use tree with sparse input: \"\n",
      "C:\\Users\\Samir\\anaconda3\\lib\\site-packages\\sklearn\\neighbors\\_base.py:415: UserWarning: cannot use tree with sparse input: using brute force\n",
      "  warnings.warn(\"cannot use tree with sparse input: \"\n",
      "C:\\Users\\Samir\\anaconda3\\lib\\site-packages\\sklearn\\neighbors\\_base.py:415: UserWarning: cannot use tree with sparse input: using brute force\n",
      "  warnings.warn(\"cannot use tree with sparse input: \"\n",
      "C:\\Users\\Samir\\anaconda3\\lib\\site-packages\\sklearn\\neighbors\\_base.py:415: UserWarning: cannot use tree with sparse input: using brute force\n",
      "  warnings.warn(\"cannot use tree with sparse input: \"\n",
      "C:\\Users\\Samir\\anaconda3\\lib\\site-packages\\sklearn\\neighbors\\_base.py:415: UserWarning: cannot use tree with sparse input: using brute force\n",
      "  warnings.warn(\"cannot use tree with sparse input: \"\n",
      "C:\\Users\\Samir\\anaconda3\\lib\\site-packages\\sklearn\\neighbors\\_base.py:415: UserWarning: cannot use tree with sparse input: using brute force\n",
      "  warnings.warn(\"cannot use tree with sparse input: \"\n",
      "C:\\Users\\Samir\\anaconda3\\lib\\site-packages\\sklearn\\neighbors\\_base.py:415: UserWarning: cannot use tree with sparse input: using brute force\n",
      "  warnings.warn(\"cannot use tree with sparse input: \"\n",
      "C:\\Users\\Samir\\anaconda3\\lib\\site-packages\\sklearn\\neighbors\\_base.py:415: UserWarning: cannot use tree with sparse input: using brute force\n",
      "  warnings.warn(\"cannot use tree with sparse input: \"\n",
      "C:\\Users\\Samir\\anaconda3\\lib\\site-packages\\sklearn\\neighbors\\_base.py:415: UserWarning: cannot use tree with sparse input: using brute force\n",
      "  warnings.warn(\"cannot use tree with sparse input: \"\n",
      "C:\\Users\\Samir\\anaconda3\\lib\\site-packages\\sklearn\\neighbors\\_base.py:415: UserWarning: cannot use tree with sparse input: using brute force\n",
      "  warnings.warn(\"cannot use tree with sparse input: \"\n",
      "C:\\Users\\Samir\\anaconda3\\lib\\site-packages\\sklearn\\neighbors\\_base.py:415: UserWarning: cannot use tree with sparse input: using brute force\n",
      "  warnings.warn(\"cannot use tree with sparse input: \"\n",
      "C:\\Users\\Samir\\anaconda3\\lib\\site-packages\\sklearn\\neighbors\\_base.py:415: UserWarning: cannot use tree with sparse input: using brute force\n",
      "  warnings.warn(\"cannot use tree with sparse input: \"\n",
      "C:\\Users\\Samir\\anaconda3\\lib\\site-packages\\sklearn\\neighbors\\_base.py:415: UserWarning: cannot use tree with sparse input: using brute force\n",
      "  warnings.warn(\"cannot use tree with sparse input: \"\n",
      "C:\\Users\\Samir\\anaconda3\\lib\\site-packages\\sklearn\\neighbors\\_base.py:415: UserWarning: cannot use tree with sparse input: using brute force\n",
      "  warnings.warn(\"cannot use tree with sparse input: \"\n",
      "C:\\Users\\Samir\\anaconda3\\lib\\site-packages\\sklearn\\neighbors\\_base.py:415: UserWarning: cannot use tree with sparse input: using brute force\n",
      "  warnings.warn(\"cannot use tree with sparse input: \"\n",
      "C:\\Users\\Samir\\anaconda3\\lib\\site-packages\\sklearn\\neighbors\\_base.py:415: UserWarning: cannot use tree with sparse input: using brute force\n",
      "  warnings.warn(\"cannot use tree with sparse input: \"\n",
      "C:\\Users\\Samir\\anaconda3\\lib\\site-packages\\sklearn\\neighbors\\_base.py:415: UserWarning: cannot use tree with sparse input: using brute force\n",
      "  warnings.warn(\"cannot use tree with sparse input: \"\n",
      "C:\\Users\\Samir\\anaconda3\\lib\\site-packages\\sklearn\\neighbors\\_base.py:415: UserWarning: cannot use tree with sparse input: using brute force\n",
      "  warnings.warn(\"cannot use tree with sparse input: \"\n",
      "C:\\Users\\Samir\\anaconda3\\lib\\site-packages\\sklearn\\neighbors\\_base.py:415: UserWarning: cannot use tree with sparse input: using brute force\n",
      "  warnings.warn(\"cannot use tree with sparse input: \"\n",
      "C:\\Users\\Samir\\anaconda3\\lib\\site-packages\\sklearn\\neighbors\\_base.py:415: UserWarning: cannot use tree with sparse input: using brute force\n",
      "  warnings.warn(\"cannot use tree with sparse input: \"\n",
      "C:\\Users\\Samir\\anaconda3\\lib\\site-packages\\sklearn\\neighbors\\_base.py:415: UserWarning: cannot use tree with sparse input: using brute force\n",
      "  warnings.warn(\"cannot use tree with sparse input: \"\n",
      "C:\\Users\\Samir\\anaconda3\\lib\\site-packages\\sklearn\\neighbors\\_base.py:415: UserWarning: cannot use tree with sparse input: using brute force\n",
      "  warnings.warn(\"cannot use tree with sparse input: \"\n",
      "C:\\Users\\Samir\\anaconda3\\lib\\site-packages\\sklearn\\neighbors\\_base.py:415: UserWarning: cannot use tree with sparse input: using brute force\n",
      "  warnings.warn(\"cannot use tree with sparse input: \"\n",
      "C:\\Users\\Samir\\anaconda3\\lib\\site-packages\\sklearn\\neighbors\\_base.py:415: UserWarning: cannot use tree with sparse input: using brute force\n",
      "  warnings.warn(\"cannot use tree with sparse input: \"\n",
      "C:\\Users\\Samir\\anaconda3\\lib\\site-packages\\sklearn\\neighbors\\_base.py:415: UserWarning: cannot use tree with sparse input: using brute force\n",
      "  warnings.warn(\"cannot use tree with sparse input: \"\n",
      "C:\\Users\\Samir\\anaconda3\\lib\\site-packages\\sklearn\\neighbors\\_base.py:415: UserWarning: cannot use tree with sparse input: using brute force\n",
      "  warnings.warn(\"cannot use tree with sparse input: \"\n",
      "C:\\Users\\Samir\\anaconda3\\lib\\site-packages\\sklearn\\neighbors\\_base.py:415: UserWarning: cannot use tree with sparse input: using brute force\n",
      "  warnings.warn(\"cannot use tree with sparse input: \"\n",
      "C:\\Users\\Samir\\anaconda3\\lib\\site-packages\\sklearn\\neighbors\\_base.py:415: UserWarning: cannot use tree with sparse input: using brute force\n",
      "  warnings.warn(\"cannot use tree with sparse input: \"\n",
      "C:\\Users\\Samir\\anaconda3\\lib\\site-packages\\sklearn\\neighbors\\_base.py:415: UserWarning: cannot use tree with sparse input: using brute force\n",
      "  warnings.warn(\"cannot use tree with sparse input: \"\n",
      "C:\\Users\\Samir\\anaconda3\\lib\\site-packages\\sklearn\\neighbors\\_base.py:415: UserWarning: cannot use tree with sparse input: using brute force\n",
      "  warnings.warn(\"cannot use tree with sparse input: \"\n",
      "C:\\Users\\Samir\\anaconda3\\lib\\site-packages\\sklearn\\neighbors\\_base.py:415: UserWarning: cannot use tree with sparse input: using brute force\n",
      "  warnings.warn(\"cannot use tree with sparse input: \"\n",
      "C:\\Users\\Samir\\anaconda3\\lib\\site-packages\\sklearn\\neighbors\\_base.py:415: UserWarning: cannot use tree with sparse input: using brute force\n",
      "  warnings.warn(\"cannot use tree with sparse input: \"\n",
      "C:\\Users\\Samir\\anaconda3\\lib\\site-packages\\sklearn\\neighbors\\_base.py:415: UserWarning: cannot use tree with sparse input: using brute force\n",
      "  warnings.warn(\"cannot use tree with sparse input: \"\n"
     ]
    },
    {
     "data": {
      "image/png": "[encoded data removed]",
      "text/plain": [
       "<Figure size 576x432 with 1 Axes>"
      ]
     },
     "metadata": {},
     "output_type": "display_data"
    }
   ],
   "source": [
    "plot_validation_curve(reg, \"KNeighbors\", X_train, y_train, param_name=\"kneighborsregressor__n_neighbors\", param_range=n_neighbors, param_name_short=\"Neighbors\", cv=kfold)"
   ]
  },
  {
   "cell_type": "markdown",
   "id": "1c0e43f1-f068-4986-a029-6e4617ada5e1",
   "metadata": {
    "tags": []
   },
   "source": [
    "<div class=\"alert alert-block alert-success\">\n",
    "    <p><b>Observations / Conclusions</b></p>\n",
    "    \n",
    "    \n",
    "    <ul style=\"list-style-type: square;\">\n",
    "        <li>For <b>Neighbors values of 15 to 50</b>, we can see a <b>High Bias</b> and <b>Low Variance</b> so, for this parameters the model is <b>Underfitting</b> maybe due to have a poor feature set <br>or the relationships in the data are inherently</li>\n",
    "        <li>For <b>Neighbors values of 3 to 11</b>, we have a poorly performs for train and validation set so, for this parameters the model is <b>Underfitting</b> as well</li>\n",
    "        <li>The best result if for <b>Neighbors value of 13</b>but, like the previous point we have a poorly performs for both sets. So, in general the model is <b>Underfitting</b></li>\n",
    "    </ul>\n",
    "    \n",
    "</div>"
   ]
  },
  {
   "cell_type": "markdown",
   "id": "935aafba-d485-439e-98ce-2f2c60c7d51f",
   "metadata": {},
   "source": [
    "<div style=\"background-color: #6D83C5;\" >\n",
    "    <h4 style=\"margin: auto; padding: 20px; color:#fff; \">6.2.2 KNeighbors Learning curve</h4>\n",
    "</div>"
   ]
  },
  {
   "cell_type": "markdown",
   "id": "f61aa7fe-6758-4772-adfd-a472869c16a2",
   "metadata": {
    "tags": []
   },
   "source": [
    "<div class=\"alert alert-block alert-info\">\n",
    "    To plot the <b>Learning curve</b>, we are going to use the <b>best  parameters</b> to analyze the model\n",
    "</div>"
   ]
  },
  {
   "cell_type": "code",
   "execution_count": 63,
   "id": "eed97748-d058-40c1-8568-8286d78a6471",
   "metadata": {},
   "outputs": [],
   "source": [
    "kfold = KFold(n_splits=5, shuffle=False, random_state=None)\n",
    "\n",
    "reg = make_pipeline(preprocessor, KNeighborsRegressor(algorithm=\"ball_tree\", metric=\"euclidean\"))"
   ]
  },
  {
   "cell_type": "markdown",
   "id": "681e3cf6-8a81-4458-9ed5-f1e980595e94",
   "metadata": {
    "tags": []
   },
   "source": [
    "<div class=\"alert alert-block alert-info\">\n",
    "    Plotting <b>the learning curve</b> based on the best parameters\n",
    "</div>"
   ]
  },
  {
   "cell_type": "code",
   "execution_count": 64,
   "id": "741d9448-608f-4a2b-8b69-d0b263e6205e",
   "metadata": {},
   "outputs": [
    {
     "data": {
      "image/png": "[encoded data removed]",
      "text/plain": [
       "<Figure size 1728x432 with 3 Axes>"
      ]
     },
     "metadata": {},
     "output_type": "display_data"
    }
   ],
   "source": [
    "plot_learning_curve(reg, \"kneighbors\", X_train, y_train, cv=kfold)"
   ]
  },
  {
   "cell_type": "markdown",
   "id": "691381e4-2b1d-4c16-a0a0-0f6bf5423068",
   "metadata": {},
   "source": [
    "<div style=\"background-color: #6D83C5;\" >\n",
    "    <h4 style=\"margin: auto; padding: 20px; color:#fff; \">6.2.3 KNeighbors predictions validations</h4>\n",
    "</div>"
   ]
  },
  {
   "cell_type": "markdown",
   "id": "9c62543b-78e5-4e08-9a86-5151344bf04e",
   "metadata": {
    "tags": []
   },
   "source": [
    "<div class=\"alert alert-block alert-info\">\n",
    "    To plot the <b>predictions validations</b>, we are going to use the <b>best  parameters</b> to analyze the model after <b>fitting</b> and <b>predicting</b> values</b>\n",
    "</div>"
   ]
  },
  {
   "cell_type": "code",
   "execution_count": 65,
   "id": "e959f685-29df-4c30-a17d-0f7196e31be3",
   "metadata": {},
   "outputs": [
    {
     "name": "stderr",
     "output_type": "stream",
     "text": [
      "C:\\Users\\Samir\\anaconda3\\lib\\site-packages\\sklearn\\neighbors\\_base.py:415: UserWarning: cannot use tree with sparse input: using brute force\n",
      "  warnings.warn(\"cannot use tree with sparse input: \"\n"
     ]
    }
   ],
   "source": [
    "kfold = KFold(n_splits=5, shuffle=True, random_state=0)\n",
    "\n",
    "reg = make_pipeline(preprocessor, KNeighborsRegressor(n_neighbors=15, algorithm=\"ball_tree\", metric=\"manhattan\"))\n",
    "\n",
    "reg.fit(X_train, y_train)\n",
    "\n",
    "# Making the prediction using the testing data\n",
    "y_pred = reg.predict(X_test)"
   ]
  },
  {
   "cell_type": "markdown",
   "id": "b46b577f-baee-4a4d-8070-bb81a8fc4942",
   "metadata": {
    "tags": []
   },
   "source": [
    "<div class=\"alert alert-block alert-info\">\n",
    "    Plotting <b>the Cross-Validated Predictions</b> based on the best parameters for <b>training data</b>\n",
    "</div>"
   ]
  },
  {
   "cell_type": "code",
   "execution_count": 66,
   "id": "de6055f7-520f-4979-8753-89d059bca539",
   "metadata": {},
   "outputs": [
    {
     "name": "stderr",
     "output_type": "stream",
     "text": [
      "C:\\Users\\Samir\\anaconda3\\lib\\site-packages\\sklearn\\neighbors\\_base.py:415: UserWarning: cannot use tree with sparse input: using brute force\n",
      "  warnings.warn(\"cannot use tree with sparse input: \"\n",
      "C:\\Users\\Samir\\anaconda3\\lib\\site-packages\\sklearn\\neighbors\\_base.py:415: UserWarning: cannot use tree with sparse input: using brute force\n",
      "  warnings.warn(\"cannot use tree with sparse input: \"\n",
      "C:\\Users\\Samir\\anaconda3\\lib\\site-packages\\sklearn\\neighbors\\_base.py:415: UserWarning: cannot use tree with sparse input: using brute force\n",
      "  warnings.warn(\"cannot use tree with sparse input: \"\n",
      "C:\\Users\\Samir\\anaconda3\\lib\\site-packages\\sklearn\\neighbors\\_base.py:415: UserWarning: cannot use tree with sparse input: using brute force\n",
      "  warnings.warn(\"cannot use tree with sparse input: \"\n",
      "C:\\Users\\Samir\\anaconda3\\lib\\site-packages\\sklearn\\neighbors\\_base.py:415: UserWarning: cannot use tree with sparse input: using brute force\n",
      "  warnings.warn(\"cannot use tree with sparse input: \"\n"
     ]
    },
    {
     "data": {
      "image/png": "[encoded data removed]",
      "text/plain": [
       "<Figure size 1296x576 with 2 Axes>"
      ]
     },
     "metadata": {},
     "output_type": "display_data"
    }
   ],
   "source": [
    "# Making the prediction using the testing data\n",
    "plot_cross_val_predi(reg, \"KNeighbors\", \"SiteEnergyUse(kBtu)\", X_train, y_train, cv=kfold)"
   ]
  },
  {
   "cell_type": "markdown",
   "id": "2ac1d0df-48dc-4e96-8b3b-326bf4541a3e",
   "metadata": {},
   "source": [
    "<div style=\"background-color: #6D83C5;\" >\n",
    "    <h4 style=\"margin: auto; padding: 20px; color:#fff; \">6.2.4 KNeighbors Features Importance</h4>\n",
    "</div>"
   ]
  },
  {
   "cell_type": "markdown",
   "id": "393fa939-a749-432a-abb2-3ba2f4f22580",
   "metadata": {
    "tags": []
   },
   "source": [
    "<div class=\"alert alert-block alert-info\">\n",
    "    To plot the <b>Features Importance</b>, we are going to use the <b>best  parameters</b> to analyze the model after <b>fitting</b> values</b>\n",
    "</div>"
   ]
  },
  {
   "cell_type": "code",
   "execution_count": 67,
   "id": "908a5162-01c3-465c-9b11-6aa279497bb2",
   "metadata": {},
   "outputs": [
    {
     "name": "stderr",
     "output_type": "stream",
     "text": [
      "C:\\Users\\Samir\\anaconda3\\lib\\site-packages\\sklearn\\neighbors\\_base.py:415: UserWarning: cannot use tree with sparse input: using brute force\n",
      "  warnings.warn(\"cannot use tree with sparse input: \"\n"
     ]
    },
    {
     "data": {
      "text/plain": [
       "Pipeline(steps=[('columntransformer',\n",
       "                 ColumnTransformer(transformers=[('pipeline-1',\n",
       "                                                  Pipeline(steps=[('standardscaler',\n",
       "                                                                   StandardScaler())]),\n",
       "                                                  ['NumberofFloors',\n",
       "                                                   'NumberofBuildings',\n",
       "                                                   'BuildingAge',\n",
       "                                                   'PropertyGFAParking',\n",
       "                                                   'PropertyGFABuilding(s)',\n",
       "                                                   'Electricity_ratio']),\n",
       "                                                 ('pipeline-2',\n",
       "                                                  Pipeline(steps=[('onehotencoder',\n",
       "                                                                   OneHotEncoder())]),\n",
       "                                                  ['Neighborhood',\n",
       "                                                   'renamed_PropertyType'])])),\n",
       "                ('kneighborsregressor',\n",
       "                 KNeighborsRegressor(algorithm='ball_tree', metric='manhattan',\n",
       "                                     n_neighbors=11))])"
      ]
     },
     "execution_count": 67,
     "metadata": {},
     "output_type": "execute_result"
    }
   ],
   "source": [
    "reg = make_pipeline(preprocessor, KNeighborsRegressor(n_neighbors=11, algorithm=\"ball_tree\", metric=\"manhattan\"))\n",
    "\n",
    "reg.fit(X_train, y_train)"
   ]
  },
  {
   "cell_type": "markdown",
   "id": "2829fb0a-9764-415c-be4f-6a459430031c",
   "metadata": {
    "tags": []
   },
   "source": [
    "<div class=\"alert alert-block alert-info\">\n",
    "    Plotting <b>the Features Importance</b> based on the best parameters\n",
    "</div>"
   ]
  },
  {
   "cell_type": "code",
   "execution_count": 68,
   "id": "9c013739-58ea-4947-adac-5e20faf1994d",
   "metadata": {},
   "outputs": [
    {
     "data": {
      "image/png": "[encoded data removed]",
      "text/plain": [
       "<Figure size 720x576 with 1 Axes>"
      ]
     },
     "metadata": {},
     "output_type": "display_data"
    }
   ],
   "source": [
    "plot_features_importance(reg, \"KNeighbors\", X_train, y_train, scoring=\"neg_mean_squared_error\")"
   ]
  },
  {
   "cell_type": "markdown",
   "id": "e99094c5-74fd-4bd1-9896-32d71a2bd5a5",
   "metadata": {},
   "source": [
    "<div style=\"background-color: #6D83C5;\" >\n",
    "    <h4 style=\"margin: auto; padding: 20px; color:#fff; \">6.2.5 Find the k Nearest Neighbors</h4>\n",
    "</div>"
   ]
  },
  {
   "cell_type": "markdown",
   "id": "fa8e153e-5bd1-4771-ba52-b24e32de6acf",
   "metadata": {
    "tags": []
   },
   "source": [
    "<div class=\"alert alert-block alert-info\">\n",
    "    We are going to <b>process data</b> directly with <b>make_column_transformer</b> already defined\n",
    "</div>"
   ]
  },
  {
   "cell_type": "code",
   "execution_count": 69,
   "id": "4a512f69-7eb6-47ba-8dd0-b1866800a5fa",
   "metadata": {},
   "outputs": [],
   "source": [
    "X_train_transformed = preprocessor.fit_transform(X_train)"
   ]
  },
  {
   "cell_type": "code",
   "execution_count": 70,
   "id": "e62c917e-099a-4509-b868-963eff0bb122",
   "metadata": {},
   "outputs": [
    {
     "data": {
      "text/plain": [
       "(1085, 27)"
      ]
     },
     "execution_count": 70,
     "metadata": {},
     "output_type": "execute_result"
    }
   ],
   "source": [
    "X_train_transformed.shape"
   ]
  },
  {
   "cell_type": "code",
   "execution_count": 71,
   "id": "acbb5623-d807-4f2a-8e0e-41c984e4d5d5",
   "metadata": {},
   "outputs": [],
   "source": [
    "X_test_transformed = preprocessor.fit_transform(X_test)"
   ]
  },
  {
   "cell_type": "code",
   "execution_count": 72,
   "id": "2a615d7a-7491-415b-b0eb-8bac88df6e71",
   "metadata": {},
   "outputs": [
    {
     "data": {
      "text/plain": [
       "(466, 27)"
      ]
     },
     "execution_count": 72,
     "metadata": {},
     "output_type": "execute_result"
    }
   ],
   "source": [
    "X_test_transformed.shape"
   ]
  },
  {
   "cell_type": "markdown",
   "id": "977935fd-3706-49f2-95c5-38e58c74469b",
   "metadata": {
    "tags": []
   },
   "source": [
    "<div class=\"alert alert-block alert-info\">\n",
    "    Now, we are going to select <b>one random sample</b> of X_test to find its Neighbors\n",
    "</div>"
   ]
  },
  {
   "cell_type": "code",
   "execution_count": 73,
   "id": "20d266ac-ca73-4394-8448-48363adfe762",
   "metadata": {
    "tags": []
   },
   "outputs": [
    {
     "data": {
      "text/plain": [
       "array([172])"
      ]
     },
     "execution_count": 73,
     "metadata": {},
     "output_type": "execute_result"
    }
   ],
   "source": [
    "seed(0)\n",
    "\n",
    "# considering the X_test shape\n",
    "indice = randint(0, 496, 1)\n",
    "indice"
   ]
  },
  {
   "cell_type": "code",
   "execution_count": 74,
   "id": "d256ee46-43b7-4524-b6ac-1c31911019a6",
   "metadata": {},
   "outputs": [],
   "source": [
    "X_test_sample_transformed = X_test_transformed[indice]"
   ]
  },
  {
   "cell_type": "markdown",
   "id": "6d79e9f2-6c93-4096-9931-c7e0617aba1c",
   "metadata": {
    "tags": []
   },
   "source": [
    "<div class=\"alert alert-block alert-info\">\n",
    "    Initializing model\n",
    "</div>"
   ]
  },
  {
   "cell_type": "code",
   "execution_count": null,
   "id": "ef04fb04-c644-4e50-a2fd-2f11adbebbb1",
   "metadata": {},
   "outputs": [],
   "source": [
    "nbrs = NearestNeighbors(n_neighbors=11, algorithm=\"ball_tree\", metric=\"manhattan\")"
   ]
  },
  {
   "cell_type": "markdown",
   "id": "4b8ce240-e5d3-401d-aca6-2c225bf352aa",
   "metadata": {
    "tags": []
   },
   "source": [
    "<div class=\"alert alert-block alert-info\">\n",
    "    Fitting the NearestNeighbors\n",
    "</div>"
   ]
  },
  {
   "cell_type": "code",
   "execution_count": null,
   "id": "b51317c7-b29e-46b4-8598-498af6311a42",
   "metadata": {},
   "outputs": [],
   "source": [
    "nbrs.fit(X_train_transformed)"
   ]
  },
  {
   "cell_type": "markdown",
   "id": "895976ad-7030-4947-b4ab-84c64f1432af",
   "metadata": {
    "tags": []
   },
   "source": [
    "<div class=\"alert alert-block alert-info\">\n",
    "    Finding the neighbors\n",
    "</div>"
   ]
  },
  {
   "cell_type": "code",
   "execution_count": null,
   "id": "0794b862-2658-451c-be64-411b92211404",
   "metadata": {},
   "outputs": [],
   "source": [
    "distances, indices = nbrs.kneighbors(X_test_sample_transformed)"
   ]
  },
  {
   "cell_type": "markdown",
   "id": "556cbae6-0a0b-4c3f-8c9a-8a6fff6bf646",
   "metadata": {
    "tags": []
   },
   "source": [
    "<div class=\"alert alert-block alert-info\">\n",
    "    Sample selected\n",
    "</div>"
   ]
  },
  {
   "cell_type": "code",
   "execution_count": null,
   "id": "2893a366-1fba-40bc-a6a0-9ab32e09a202",
   "metadata": {},
   "outputs": [],
   "source": [
    "X_test.iloc[indice]"
   ]
  },
  {
   "cell_type": "markdown",
   "id": "2c0487dc-2973-48a0-956e-f80d2b6ee177",
   "metadata": {
    "tags": []
   },
   "source": [
    "<div class=\"alert alert-block alert-info\">\n",
    "    Sample selected neighbors\n",
    "</div>"
   ]
  },
  {
   "cell_type": "code",
   "execution_count": null,
   "id": "d6179345-e036-48c5-836c-7789aaa64f5a",
   "metadata": {},
   "outputs": [],
   "source": [
    "X_train.iloc[indices[0].tolist()]"
   ]
  },
  {
   "cell_type": "markdown",
   "id": "90c7e5ea-a226-4940-b733-d4c700be473e",
   "metadata": {
    "tags": []
   },
   "source": [
    "<div class=\"alert alert-block alert-info\">\n",
    "    Mean values for features and target based on neighbors\n",
    "</div>"
   ]
  },
  {
   "cell_type": "code",
   "execution_count": null,
   "id": "1b00ec24-fbff-4d18-964d-1263b48a0dda",
   "metadata": {},
   "outputs": [],
   "source": [
    "X_train.iloc[indices[0].tolist()].mean()"
   ]
  },
  {
   "cell_type": "code",
   "execution_count": null,
   "id": "4e642ca8-a5f8-40fd-bb99-6e954286fb03",
   "metadata": {
    "tags": []
   },
   "outputs": [],
   "source": [
    "y_train.iloc[indices[0].tolist()].mean()"
   ]
  },
  {
   "cell_type": "markdown",
   "id": "b9c3b4f1-c126-4469-a77a-42e03c191817",
   "metadata": {
    "tags": []
   },
   "source": [
    "<div class=\"alert alert-block alert-info\">\n",
    "    Real values for test\n",
    "</div>"
   ]
  },
  {
   "cell_type": "code",
   "execution_count": null,
   "id": "c9382108-37b5-4f2d-8d94-a31b3511d672",
   "metadata": {
    "tags": []
   },
   "outputs": [],
   "source": [
    "y_test.iloc[indice]"
   ]
  },
  {
   "cell_type": "markdown",
   "id": "5df696a4-8160-4ede-81b6-5910c1b953c8",
   "metadata": {
    "tags": []
   },
   "source": [
    "<div class=\"alert alert-block alert-success\">\n",
    "    At this point, we can see that the prediction is very close to real value\n",
    "</div>"
   ]
  },
  {
   "cell_type": "markdown",
   "id": "3d1f6e64-5213-4a51-aa2b-b081069343c8",
   "metadata": {},
   "source": [
    "<div style=\"background-color: #6D83C5;\" >\n",
    "    <h4 style=\"margin: auto; padding: 20px; color:#fff; \">6.2.6 Predictions metrics</h4>\n",
    "</div>"
   ]
  },
  {
   "cell_type": "markdown",
   "id": "03988d2c-d901-4d80-af9b-49b8e101c52c",
   "metadata": {
    "tags": []
   },
   "source": [
    "<div class=\"alert alert-block alert-info\">\n",
    "    We are going to make the prediction with the testing set to compare the result with the model in default mode\n",
    "</div>"
   ]
  },
  {
   "cell_type": "code",
   "execution_count": null,
   "id": "c33bc900-c71c-4d78-88bd-02fc6ad48979",
   "metadata": {},
   "outputs": [],
   "source": [
    "start_time_model = timeit.default_timer()\n",
    "\n",
    "reg = make_pipeline(preprocessor, KNeighborsRegressor(n_neighbors=11, algorithm=\"ball_tree\", metric=\"manhattan\"))\n",
    "\n",
    "reg.fit(X_train, y_train)\n",
    "\n",
    "# Making the prediction using the testing data\n",
    "y_pred = reg.predict(X_test)\n",
    "\n",
    "end_time_model =  round(timeit.default_timer() - start_time_model, 3)\n",
    "\n",
    "# Calculating R2 Coefficient of determination for each model (Best possible score is 1.0, lower values are worse.)\n",
    "R2SCORE = round(r2_score(y_test, y_pred), 5)\n",
    "    \n",
    "# Calculating the Mean absolute error (The best value is 0.0)\n",
    "MAE = round(mean_absolute_error(y_test, y_pred), 3)\n",
    "    \n",
    "# Calculating Root Mean Square Error for each model (The best value is 0.0)\n",
    "RMSE = round(mean_squared_error(y_test, y_pred, squared=False), 3)"
   ]
  },
  {
   "cell_type": "markdown",
   "id": "51c92b22-2c7f-4f44-9f12-131e091a98e4",
   "metadata": {
    "tags": []
   },
   "source": [
    "<div class=\"alert alert-block alert-info\">\n",
    "    Adding the prediction to compare at the end\n",
    "</div>"
   ]
  },
  {
   "cell_type": "code",
   "execution_count": null,
   "id": "f2f5266c-1d9a-439b-82ef-c8516210b479",
   "metadata": {
    "tags": []
   },
   "outputs": [],
   "source": [
    "# Concatenating predictions to compare against y_test_transformed\n",
    "df_temp = pd.DataFrame({\n",
    "    \"Model\" : \"KNeighbors\",\n",
    "    \"y_pred\" : y_pred\n",
    "})"
   ]
  },
  {
   "cell_type": "code",
   "execution_count": null,
   "id": "15bff863-bd16-41b9-bc95-ce4dfeff3c3f",
   "metadata": {},
   "outputs": [],
   "source": [
    "# Concatenating predictions to compare against y_test_transformed\n",
    "df_y_pred_gsc = pd.concat([df_y_pred_gsc, df_temp])"
   ]
  },
  {
   "cell_type": "markdown",
   "id": "900ba07a-427d-4bf4-8672-7758d5d17f0e",
   "metadata": {
    "tags": []
   },
   "source": [
    "<div class=\"alert alert-block alert-info\">\n",
    "    Verifying the prediction model into the dataset\n",
    "</div>"
   ]
  },
  {
   "cell_type": "code",
   "execution_count": null,
   "id": "36f68f3e-4ffe-4b2c-9385-9c355d04d381",
   "metadata": {},
   "outputs": [],
   "source": [
    "df_y_pred_gsc[\"Model\"].unique()"
   ]
  },
  {
   "cell_type": "markdown",
   "id": "c56b4a70-3574-4f6e-a147-1f0c70349394",
   "metadata": {
    "tags": []
   },
   "source": [
    "<div class=\"alert alert-block alert-info\">\n",
    "    Adding metrics to compare at the end\n",
    "</div>"
   ]
  },
  {
   "cell_type": "code",
   "execution_count": null,
   "id": "26c08552-be9d-4f6f-86aa-38f61c501e44",
   "metadata": {},
   "outputs": [],
   "source": [
    "df_temp = pd.DataFrame({\n",
    "    \"Model\" : [\"KNeighbors\"],\n",
    "    \"R2\".translate(SUP) : [R2SCORE], \n",
    "    \"MAE\" : [MAE],    \n",
    "    \"RMSE\" : [RMSE],\n",
    "    \"Duration\" : [end_time_model]\n",
    "})"
   ]
  },
  {
   "cell_type": "code",
   "execution_count": null,
   "id": "6f025d4d-5f99-4abb-8715-16850070d090",
   "metadata": {},
   "outputs": [],
   "source": [
    "# Concatenating metrics to compare against model with default parameters\n",
    "df_models_metrics_gsc = pd.concat([df_models_metrics_gsc, df_temp])"
   ]
  },
  {
   "cell_type": "code",
   "execution_count": null,
   "id": "d8fddf47-a58d-4dbb-9056-4920f8d08f2d",
   "metadata": {},
   "outputs": [],
   "source": [
    "df_models_metrics_gsc"
   ]
  },
  {
   "cell_type": "code",
   "execution_count": null,
   "id": "9ca36b33-4b9e-480f-a4d4-5b0eae7433be",
   "metadata": {},
   "outputs": [],
   "source": [
    "df_models_metrics"
   ]
  },
  {
   "cell_type": "markdown",
   "id": "a0e4fe84-7d12-46f1-83c0-41c9656251c6",
   "metadata": {
    "tags": []
   },
   "source": [
    "<div class=\"alert alert-block alert-success\">\n",
    "    Compared to the model with default parameters, we can see that the result (for Linear Regression) has improved\n",
    "</div>"
   ]
  },
  {
   "cell_type": "markdown",
   "id": "fd43a05b-88ce-45eb-87ce-c6c258d04086",
   "metadata": {},
   "source": [
    "<div style=\"background-color: #6D83C5;\" >\n",
    "    <h3 style=\"margin: auto; padding: 20px; color:#fff; \">6.3. Lasso optimization</h3>\n",
    "</div>"
   ]
  },
  {
   "cell_type": "markdown",
   "id": "75c0769f-a407-4fc2-b77a-21bc9e26efc2",
   "metadata": {
    "tags": []
   },
   "source": [
    "<div class=\"alert alert-block alert-info\">\n",
    "    Initializing model\n",
    "</div>"
   ]
  },
  {
   "cell_type": "code",
   "execution_count": null,
   "id": "cb01d778-0620-4110-b24c-40907f0f9713",
   "metadata": {},
   "outputs": [],
   "source": [
    "ls = Lasso()"
   ]
  },
  {
   "cell_type": "markdown",
   "id": "2962ace3-79a7-44f5-ade1-7770af99501e",
   "metadata": {
    "tags": []
   },
   "source": [
    "<div class=\"alert alert-block alert-info\">\n",
    "    Data preprocessing based on the pipelines and the regressors setup\n",
    "</div>"
   ]
  },
  {
   "cell_type": "code",
   "execution_count": null,
   "id": "3b7b58ea-a0ef-43f2-9467-705ef6f58fbf",
   "metadata": {},
   "outputs": [],
   "source": [
    "reg = make_pipeline(preprocessor, ls)"
   ]
  },
  {
   "cell_type": "markdown",
   "id": "e903a4b2-480c-4119-8a5e-9938b8b967c3",
   "metadata": {
    "tags": []
   },
   "source": [
    "<div class=\"alert alert-block alert-info\">\n",
    "    Identifying the names of each parameter\n",
    "</div>"
   ]
  },
  {
   "cell_type": "code",
   "execution_count": null,
   "id": "d2d16121-b308-4d70-9b97-aeec68aed6e8",
   "metadata": {},
   "outputs": [],
   "source": [
    "sorted(reg.get_params().keys())"
   ]
  },
  {
   "cell_type": "markdown",
   "id": "ce5a632b-e760-4ec5-9217-11feb2728cee",
   "metadata": {
    "tags": []
   },
   "source": [
    "<div class=\"alert alert-block alert-info\">\n",
    "    Parameters settings\n",
    "</div>"
   ]
  },
  {
   "cell_type": "code",
   "execution_count": null,
   "id": "eda5427e-0b63-47c4-99d6-6557b452130c",
   "metadata": {},
   "outputs": [],
   "source": [
    "param_grid = {\n",
    "    \"lasso__alpha\" : np.arange(0.01, 1, 0.01), # Constant that multiplies the L1 term.\n",
    "    \"lasso__copy_X\" : [True, False], # If True, X will be copied; else, it may be overwritten.\n",
    "    \"lasso__fit_intercept\" : [True, False] # Whether to calculate the intercept for this model.\n",
    "}"
   ]
  },
  {
   "cell_type": "markdown",
   "id": "0e4b4594-94e2-4dd9-9ff9-8a28f6c0cd2c",
   "metadata": {
    "tags": []
   },
   "source": [
    "<div class=\"alert alert-block alert-info\">\n",
    "    Executing the model\n",
    "</div>"
   ]
  },
  {
   "cell_type": "code",
   "execution_count": null,
   "id": "0cb8e7e5-fcca-408d-b457-a8584b5dc3c8",
   "metadata": {},
   "outputs": [],
   "source": [
    "# K-Folds cross-validator\n",
    "kfold = KFold(n_splits=5, shuffle=False, random_state=None)\n",
    "\n",
    "search = GridSearchCV(reg, param_grid, n_jobs=-1, cv=kfold, scoring=SCORINGS, refit=\"R2\", return_train_score=True)\n",
    "\n",
    "search.fit(X_train, y_train)\n",
    "\n",
    "# Transforming the result to dataframe format\n",
    "df_results = pd.DataFrame(search.cv_results_)\n",
    "\n",
    "# Get the results\n",
    "print(\"Metrics based on the best R2\".translate(SUP))\n",
    "print(\"- R2:\".translate(SUP), round(search.best_score_, 3))\n",
    "print(\"- MAE:\", round(abs(df_results.iloc[search.best_index_][\"mean_test_MAE\"]), 3))\n",
    "print(\"- RMSE:\", round(math.sqrt(abs(df_results.iloc[search.best_index_][\"mean_test_MSE\"])), 3))\n",
    "print(\"- Duration:\", round(df_results.iloc[search.best_index_][\"mean_score_time\"], 3))\n",
    "print(\"- Parameters:\", search.best_params_)"
   ]
  },
  {
   "cell_type": "markdown",
   "id": "e55c356d-05e7-4eff-9a1c-d4018faa76e9",
   "metadata": {
    "tags": []
   },
   "source": [
    "<div class=\"alert alert-block alert-info\">\n",
    "    We got the <b>best parameters</b> so, we are going to <b>analyze</b> them more in details \n",
    "</div>"
   ]
  },
  {
   "cell_type": "markdown",
   "id": "b056fb99-75a1-4f03-b7a2-4889e1de4e8e",
   "metadata": {},
   "source": [
    "<div style=\"background-color: #6D83C5;\" >\n",
    "    <h4 style=\"margin: auto; padding: 20px; color:#fff; \">6.3.1 Lasso Validation curve</h4>\n",
    "</div>"
   ]
  },
  {
   "cell_type": "markdown",
   "id": "37e39d8b-2cd0-4146-a753-eb27e63f4633",
   "metadata": {
    "tags": []
   },
   "source": [
    "<div class=\"alert alert-block alert-info\">\n",
    "    To plot the <b>Validation curve</b>, we are going to use a <b>range of alpha</b> to analyze the model through them\n",
    "</div>"
   ]
  },
  {
   "cell_type": "code",
   "execution_count": null,
   "id": "996d9cf7-28d3-4bd3-a17b-495537f92a39",
   "metadata": {},
   "outputs": [],
   "source": [
    "kfold = KFold(n_splits=5, shuffle=False, random_state=None)\n",
    "\n",
    "alpha = np.arange(0.01, 1, 0.01).tolist()\n",
    "\n",
    "reg = make_pipeline(preprocessor, Lasso(copy_X=True, fit_intercept=True))"
   ]
  },
  {
   "cell_type": "markdown",
   "id": "4da7cacf-5f40-4110-b5b4-d6f69b1aaa57",
   "metadata": {
    "tags": []
   },
   "source": [
    "<div class=\"alert alert-block alert-info\">\n",
    "    Plotting <b>the validacion curve</b> based on the best parameters\n",
    "</div>"
   ]
  },
  {
   "cell_type": "code",
   "execution_count": null,
   "id": "94599d0d-e078-4f03-b786-253e0b0fbe9c",
   "metadata": {},
   "outputs": [],
   "source": [
    "plot_validation_curve(reg, \"Lasso\", X_train, y_train, param_name=\"lasso__alpha\", param_range=alpha, param_name_short=\"alpha\", cv=kfold)"
   ]
  },
  {
   "cell_type": "markdown",
   "id": "2f3538db-b4f5-4108-8aa0-b307db771f2a",
   "metadata": {
    "tags": []
   },
   "source": [
    "<div class=\"alert alert-block alert-success\">\n",
    "    <p><b>Observations / Conclusions</b></p>\n",
    "    \n",
    "    <p>As you go through <b>alpha</b> you can see how the score decrease. We can say that the model is <b>Underfitting</b> maybe due to have a poor feature set <br>or the relationships in the data are inherently</p>\n",
    "    <p>We have have to consider that <b>Lasso</b> is a type of regularized linear regression that includes an L1 penalsy so, it considers a Linear regresion among the features and the targed. On the other hand, we are working with a Non-linear dataset.</p>\n",
    "\n",
    "</div>"
   ]
  },
  {
   "cell_type": "markdown",
   "id": "674dc5da-0a21-4ec2-89e3-b65c3e0a3f05",
   "metadata": {},
   "source": [
    "<div style=\"background-color: #6D83C5;\" >\n",
    "    <h4 style=\"margin: auto; padding: 20px; color:#fff; \">6.3.2 Lasso Learning curve</h4>\n",
    "</div>"
   ]
  },
  {
   "cell_type": "markdown",
   "id": "db280ecb-ef1e-4d44-b2d0-c429b089c02f",
   "metadata": {
    "tags": []
   },
   "source": [
    "<div class=\"alert alert-block alert-info\">\n",
    "    To plot the <b>Learning curve</b>, we are going to use the <b>best  parameters</b> to analyze the model\n",
    "</div>"
   ]
  },
  {
   "cell_type": "code",
   "execution_count": null,
   "id": "eb76bc90-bd4c-400f-9b14-a78d6d042526",
   "metadata": {},
   "outputs": [],
   "source": [
    "kfold = KFold(n_splits=5, shuffle=False, random_state=None)\n",
    "\n",
    "reg = make_pipeline(preprocessor, Lasso(alpha=0.01, copy_X=True, fit_intercept=True))"
   ]
  },
  {
   "cell_type": "markdown",
   "id": "78271b59-644a-4ac4-8fa8-9fa4203617e0",
   "metadata": {
    "tags": []
   },
   "source": [
    "<div class=\"alert alert-block alert-info\">\n",
    "    Plotting <b>the learning curve</b> based on the best parameters\n",
    "</div>"
   ]
  },
  {
   "cell_type": "code",
   "execution_count": null,
   "id": "754a54d0-edb2-4ee6-9daf-e611421edf1a",
   "metadata": {},
   "outputs": [],
   "source": [
    "plot_learning_curve(reg, \"Lasso\", X_train, y_train, cv=kfold)"
   ]
  },
  {
   "cell_type": "markdown",
   "id": "ac7c5d13-38de-45b9-ba63-76e3ae2e3a13",
   "metadata": {},
   "source": [
    "<div style=\"background-color: #6D83C5;\" >\n",
    "    <h4 style=\"margin: auto; padding: 20px; color:#fff; \">6.3.3 Lasso predictions validations</h4>\n",
    "</div>"
   ]
  },
  {
   "cell_type": "markdown",
   "id": "751d1ebd-9a30-44c6-ba06-d609d19c0906",
   "metadata": {
    "tags": []
   },
   "source": [
    "<div class=\"alert alert-block alert-info\">\n",
    "    To plot the <b>predictions validations</b>, we are going to use the <b>best  parameters</b> to analyze the model after <b>fitting</b> and <b>predicting</b> values</b>\n",
    "</div>"
   ]
  },
  {
   "cell_type": "code",
   "execution_count": null,
   "id": "14231b29-63e0-4f32-870a-6b1212c795a8",
   "metadata": {},
   "outputs": [],
   "source": [
    "kfold = KFold(n_splits=5, shuffle=True, random_state=0)\n",
    "\n",
    "reg = make_pipeline(preprocessor, Lasso(alpha=0.01, copy_X=True, fit_intercept=True))\n",
    "\n",
    "reg.fit(X_train, y_train)\n",
    "\n",
    "# Making the prediction using the testing data\n",
    "y_pred = reg.predict(X_test)"
   ]
  },
  {
   "cell_type": "markdown",
   "id": "f2744e62-188c-4c35-8da0-2c3e5fc00097",
   "metadata": {
    "tags": []
   },
   "source": [
    "<div class=\"alert alert-block alert-info\">\n",
    "    Plotting <b>the Cross-Validated Predictions</b> based on the best parameters for <b>training data</b>\n",
    "</div>"
   ]
  },
  {
   "cell_type": "code",
   "execution_count": null,
   "id": "f16fb709-e3c2-4559-aceb-c54f39d177c4",
   "metadata": {},
   "outputs": [],
   "source": [
    "# Making the prediction using the testing data\n",
    "plot_cross_val_predi(reg, \"Lasso\", \"SiteEnergyUse(kBtu)\", X_train, y_train, cv=kfold)"
   ]
  },
  {
   "cell_type": "markdown",
   "id": "cdd8818c-272e-4501-b942-cb8b55b64738",
   "metadata": {},
   "source": [
    "<div style=\"background-color: #6D83C5;\" >\n",
    "    <h4 style=\"margin: auto; padding: 20px; color:#fff; \">6.3.4 Lasso Features Importance</h4>\n",
    "</div>"
   ]
  },
  {
   "cell_type": "markdown",
   "id": "ce83f9e7-087d-43e7-9f65-73e03dd1cbf9",
   "metadata": {
    "tags": []
   },
   "source": [
    "<div class=\"alert alert-block alert-info\">\n",
    "    To plot the <b>Features Importance</b>, we are going to use the <b>best  parameters</b> to analyze the model after <b>fitting</b> values</b>\n",
    "</div>"
   ]
  },
  {
   "cell_type": "code",
   "execution_count": null,
   "id": "a165cd51-7867-430f-9c3c-1719b14fdfe4",
   "metadata": {},
   "outputs": [],
   "source": [
    "reg = make_pipeline(preprocessor, Lasso(alpha=0.01, copy_X=True, fit_intercept=True))\n",
    "\n",
    "reg.fit(X_train, y_train)"
   ]
  },
  {
   "cell_type": "markdown",
   "id": "36f6d408-da8b-40ea-85c4-c6b780676176",
   "metadata": {
    "tags": []
   },
   "source": [
    "<div class=\"alert alert-block alert-info\">\n",
    "    Plotting <b>the Features Importance</b> based on the best parameters\n",
    "</div>"
   ]
  },
  {
   "cell_type": "code",
   "execution_count": null,
   "id": "9e642041-ec3f-4ed4-9e6d-a6d5aff4fee8",
   "metadata": {},
   "outputs": [],
   "source": [
    "plot_features_importance(reg, \"Lasso\", X_train, y_train, scoring=\"neg_mean_squared_error\")"
   ]
  },
  {
   "cell_type": "markdown",
   "id": "c102f391-2fb4-4cd8-a075-9348d12f1920",
   "metadata": {},
   "source": [
    "<div style=\"background-color: #6D83C5;\" >\n",
    "    <h4 style=\"margin: auto; padding: 20px; color:#fff; \">6.3.5 Predictions metrics</h4>\n",
    "</div>"
   ]
  },
  {
   "cell_type": "markdown",
   "id": "418f2fd9-6a8f-40b2-b9c4-713c1da0aae3",
   "metadata": {
    "tags": []
   },
   "source": [
    "<div class=\"alert alert-block alert-info\">\n",
    "    We are going to make the prediction with the testing set to compare the result with the model in default mode\n",
    "</div>"
   ]
  },
  {
   "cell_type": "code",
   "execution_count": null,
   "id": "18ad80bb-e24c-4b2a-bb8e-0bf233161323",
   "metadata": {},
   "outputs": [],
   "source": [
    "start_time_model = timeit.default_timer()\n",
    "\n",
    "reg = make_pipeline(preprocessor, Lasso(alpha=0.01, copy_X=True, fit_intercept=True))\n",
    "\n",
    "reg.fit(X_train, y_train)\n",
    "\n",
    "# Making the prediction using the testing data\n",
    "y_pred = reg.predict(X_test)\n",
    "\n",
    "end_time_model =  round(timeit.default_timer() - start_time_model, 3)\n",
    "\n",
    "# Calculating R2 Coefficient of determination for each model (Best possible score is 1.0, lower values are worse.)\n",
    "R2SCORE = round(r2_score(y_test, y_pred), 5)\n",
    "    \n",
    "# Calculating the Mean absolute error (The best value is 0.0)\n",
    "MAE = round(mean_absolute_error(y_test, y_pred), 3)\n",
    "    \n",
    "# Calculating Root Mean Square Error for each model (The best value is 0.0)\n",
    "RMSE = round(mean_squared_error(y_test, y_pred, squared=False), 3)"
   ]
  },
  {
   "cell_type": "markdown",
   "id": "65de4bad-aa31-4a7f-a1d5-e282b81cfb0f",
   "metadata": {
    "tags": []
   },
   "source": [
    "<div class=\"alert alert-block alert-info\">\n",
    "    Adding the prediction to compare at the end\n",
    "</div>"
   ]
  },
  {
   "cell_type": "code",
   "execution_count": null,
   "id": "d4f15512-cf5a-4424-b64b-c0624e461155",
   "metadata": {
    "tags": []
   },
   "outputs": [],
   "source": [
    "# Concatenating predictions to compare against y_test_transformed\n",
    "df_temp = pd.DataFrame({\n",
    "    \"Model\" : \"Lasso\",\n",
    "    \"y_pred\" : y_pred\n",
    "})"
   ]
  },
  {
   "cell_type": "code",
   "execution_count": null,
   "id": "54eee4ee-6f01-4522-81bc-ea1ca99f7dd4",
   "metadata": {},
   "outputs": [],
   "source": [
    "# Concatenating predictions to compare against y_test_transformed\n",
    "df_y_pred_gsc = pd.concat([df_y_pred_gsc, df_temp])"
   ]
  },
  {
   "cell_type": "markdown",
   "id": "a92c00bf-333a-4400-9229-b8ac4f27a836",
   "metadata": {
    "tags": []
   },
   "source": [
    "<div class=\"alert alert-block alert-info\">\n",
    "    Verifying the prediction model into the dataset\n",
    "</div>"
   ]
  },
  {
   "cell_type": "code",
   "execution_count": null,
   "id": "1c4b4af5-cb55-4874-a962-8a30792cba64",
   "metadata": {},
   "outputs": [],
   "source": [
    "df_y_pred_gsc[\"Model\"].unique()"
   ]
  },
  {
   "cell_type": "markdown",
   "id": "5ab930e7-7b7f-4576-9f98-050c0b35ce7f",
   "metadata": {
    "tags": []
   },
   "source": [
    "<div class=\"alert alert-block alert-info\">\n",
    "    Adding metrics to compare at the end\n",
    "</div>"
   ]
  },
  {
   "cell_type": "code",
   "execution_count": null,
   "id": "5e31d490-72ee-47cc-837c-a859cd144ca0",
   "metadata": {},
   "outputs": [],
   "source": [
    "df_temp = pd.DataFrame({\n",
    "    \"Model\" : [\"Lasso\"],\n",
    "    \"R2\".translate(SUP) : [R2SCORE], \n",
    "    \"MAE\" : [MAE],    \n",
    "    \"RMSE\" : [RMSE],\n",
    "    \"Duration\" : [end_time_model]\n",
    "})"
   ]
  },
  {
   "cell_type": "code",
   "execution_count": null,
   "id": "01c004eb-a29c-48f0-98db-0da1a4985c93",
   "metadata": {},
   "outputs": [],
   "source": [
    "# Concatenating metrics to compare against model with default parameters\n",
    "df_models_metrics_gsc = pd.concat([df_models_metrics_gsc, df_temp])"
   ]
  },
  {
   "cell_type": "code",
   "execution_count": null,
   "id": "b79ed82b-805a-4647-a896-6513efff328d",
   "metadata": {},
   "outputs": [],
   "source": [
    "df_models_metrics_gsc"
   ]
  },
  {
   "cell_type": "code",
   "execution_count": null,
   "id": "e36d0d55-35b3-4b2d-ba43-57957e63566c",
   "metadata": {},
   "outputs": [],
   "source": [
    "df_models_metrics"
   ]
  },
  {
   "cell_type": "markdown",
   "id": "1d0e69f5-5399-4659-89a6-f85e6993e190",
   "metadata": {
    "tags": []
   },
   "source": [
    "<div class=\"alert alert-block alert-success\">\n",
    "    Compared to the model with default parameters, we can see how the result improved for Lasso\n",
    "</div>"
   ]
  },
  {
   "cell_type": "markdown",
   "id": "73a42df5-f571-4dfe-b641-7435b40ab684",
   "metadata": {},
   "source": [
    "<div style=\"background-color: #6D83C5;\" >\n",
    "    <h3 style=\"margin: auto; padding: 20px; color:#fff; \">6.4. SVR optimization</h3>\n",
    "</div>"
   ]
  },
  {
   "cell_type": "code",
   "execution_count": null,
   "id": "45435524-e3f4-4c3a-81af-2f0a9808860e",
   "metadata": {},
   "outputs": [],
   "source": []
  },
  {
   "cell_type": "code",
   "execution_count": null,
   "id": "5b15b204-c0f6-497a-a180-5b4835efe0c4",
   "metadata": {},
   "outputs": [],
   "source": []
  },
  {
   "cell_type": "code",
   "execution_count": null,
   "id": "dc44bf8e-a0c2-43ee-b5e2-db1050af688c",
   "metadata": {},
   "outputs": [],
   "source": []
  },
  {
   "cell_type": "code",
   "execution_count": null,
   "id": "6c51ff6b-2c70-41d7-8514-041719a103fd",
   "metadata": {},
   "outputs": [],
   "source": []
  },
  {
   "cell_type": "code",
   "execution_count": null,
   "id": "9308cd56-29ef-4be2-b40b-fafdff4b5d77",
   "metadata": {},
   "outputs": [],
   "source": [
    "xxxxxxxx"
   ]
  },
  {
   "cell_type": "markdown",
   "id": "4ce6b87e-69bb-4f93-afd4-6ba2d2390a46",
   "metadata": {},
   "source": [
    "<div style=\"background-color: #6D83C5;\" >\n",
    "    <h1 style=\"margin: auto; padding: 20px; color:#fff; \">XXXXXXXXXXXXXXXXXXXXXXXXXXXXX</h1>\n",
    "</div>"
   ]
  },
  {
   "cell_type": "markdown",
   "id": "d0e8dadb-a552-49a7-b365-a0cf75e54cf9",
   "metadata": {},
   "source": [
    "<div style=\"background-color: #6D83C5;\" >\n",
    "    <h4 style=\"margin: auto; padding: 20px; color:#fff; \">6.5. Random Forest optimization</h4>\n",
    "</div>"
   ]
  },
  {
   "cell_type": "markdown",
   "id": "7b35cf7f-a06c-4bdd-ae57-9d7a0173c20a",
   "metadata": {
    "tags": []
   },
   "source": [
    "<div class=\"alert alert-block alert-info\">\n",
    "    Initializing model\n",
    "</div>"
   ]
  },
  {
   "cell_type": "code",
   "execution_count": null,
   "id": "5c6ab499-ffff-4391-9e2b-6d9d10c61715",
   "metadata": {},
   "outputs": [],
   "source": [
    "regr = RandomForestRegressor()"
   ]
  },
  {
   "cell_type": "markdown",
   "id": "e920a3ec-c08e-4bf7-b0c8-d40b44a2628d",
   "metadata": {
    "tags": []
   },
   "source": [
    "<div class=\"alert alert-block alert-info\">\n",
    "    Data preprocessing based on the pipelines and the regressors setup\n",
    "</div>"
   ]
  },
  {
   "cell_type": "code",
   "execution_count": null,
   "id": "e53d8482-4e37-40aa-ab46-27fb2a7a5a48",
   "metadata": {},
   "outputs": [],
   "source": [
    "reg = make_pipeline(preprocessor, regr)"
   ]
  },
  {
   "cell_type": "markdown",
   "id": "b5e074ba-e9aa-4fa2-ba12-4f01da72de59",
   "metadata": {
    "tags": []
   },
   "source": [
    "<div class=\"alert alert-block alert-info\">\n",
    "    Identifying the names of each parameter\n",
    "</div>"
   ]
  },
  {
   "cell_type": "code",
   "execution_count": null,
   "id": "100b2ca6-b942-4ce6-9f2c-a1efd066cf40",
   "metadata": {},
   "outputs": [],
   "source": [
    "sorted(reg.get_params().keys())"
   ]
  },
  {
   "cell_type": "markdown",
   "id": "de986adf-436d-40ad-bbff-2fe369ccbad5",
   "metadata": {
    "tags": []
   },
   "source": [
    "<div class=\"alert alert-block alert-info\">\n",
    "    Parameters settings\n",
    "</div>"
   ]
  },
  {
   "cell_type": "code",
   "execution_count": null,
   "id": "6276a381-8c56-459b-a868-9b918d0ed1f4",
   "metadata": {},
   "outputs": [],
   "source": [
    "param_grid = {\n",
    "    \"randomforestregressor__bootstrap\" : [True, False],\n",
    "    \"randomforestregressor__max_depth\" : [60, 70, 80, 90, 100, 110],\n",
    "    \"randomforestregressor__max_features\" : [\"auto\", \"log2\", \"sqrt\"],\n",
    "    \"randomforestregressor__min_samples_leaf\" : [1, 2, 3, 4, 5],\n",
    "    \"randomforestregressor__min_samples_split\" : [4, 6, 8, 10, 12],\n",
    "    \"randomforestregressor__n_estimators\" : [100, 200, 300, 1000]\n",
    "}"
   ]
  },
  {
   "cell_type": "markdown",
   "id": "0c7fc995-fe6c-4dfd-b20a-1fe767a768b5",
   "metadata": {
    "tags": []
   },
   "source": [
    "<div class=\"alert alert-block alert-info\">\n",
    "    Executing the model\n",
    "</div>"
   ]
  },
  {
   "cell_type": "code",
   "execution_count": null,
   "id": "948dfeea-a794-48d6-bdcb-433310b647f0",
   "metadata": {},
   "outputs": [],
   "source": [
    "## K-Folds cross-validator\n",
    "kfold = KFold(n_splits=5, shuffle=True, random_state=0)\n",
    "\n",
    "start_time_model = timeit.default_timer()\n",
    "\n",
    "search = GridSearchCV(reg, param_grid, n_jobs=-1, cv=kfold, scoring=SCORINGS, refit=\"R2\", return_train_score=True)\n",
    "\n",
    "search.fit(X_train, y_train)\n",
    "\n",
    "end_time_model =  round(timeit.default_timer() - start_time_model, 3)\n",
    "print(\"TIEMPO TOTAL: \", end_time_model)\n",
    "\n",
    "# Transforming the result to dataframe format\n",
    "df_results = pd.DataFrame(search.cv_results_)\n",
    "\n",
    "# Get the results\n",
    "print(\"Metrics based on the best R2\".translate(SUP))\n",
    "print(\"- R2:\".translate(SUP), round(search.best_score_, 3))\n",
    "print(\"- MAE:\", round(abs(df_results.iloc[search.best_index_][\"mean_test_MAE\"]), 3))\n",
    "print(\"- RMSE:\", round(math.sqrt(abs(df_results.iloc[search.best_index_][\"mean_test_MSE\"])), 3))\n",
    "print(\"- Duration:\", round(df_results.iloc[search.best_index_][\"mean_score_time\"], 3))\n",
    "print(\"- Parameters:\", search.best_params_)"
   ]
  },
  {
   "cell_type": "code",
   "execution_count": null,
   "id": "1b205e9f-ecc1-4743-aa42-4a9f6a55d9b6",
   "metadata": {},
   "outputs": [],
   "source": [
    "## K-Folds cross-validator\n",
    "kfold = KFold(n_splits=5, shuffle=True, random_state=0)\n",
    "\n",
    "start_time_model = timeit.default_timer()\n",
    "\n",
    "search = GridSearchCV(reg, param_grid, n_jobs=-1, cv=kfold, scoring=SCORINGS, refit=\"R2\", return_train_score=True)\n",
    "\n",
    "search.fit(X_train, y_train)\n",
    "\n",
    "end_time_model =  round(timeit.default_timer() - start_time_model, 3)\n",
    "print(\"TIEMPO TOTAL: \", end_time_model)\n",
    "\n",
    "# Transforming the result to dataframe format\n",
    "df_results = pd.DataFrame(search.cv_results_)\n",
    "\n",
    "# Get the results\n",
    "print(\"Metrics based on the best R2\".translate(SUP))\n",
    "print(\"- R2:\".translate(SUP), round(search.best_score_, 3))\n",
    "print(\"- MAE:\", round(abs(df_results.iloc[search.best_index_][\"mean_test_MAE\"]), 3))\n",
    "print(\"- RMSE:\", round(math.sqrt(abs(df_results.iloc[search.best_index_][\"mean_test_MSE\"])), 3))\n",
    "print(\"- Duration:\", round(df_results.iloc[search.best_index_][\"mean_score_time\"], 3))\n",
    "print(\"- Parameters:\", search.best_params_)"
   ]
  },
  {
   "cell_type": "markdown",
   "id": "b09d1538-d8a1-48fa-99b4-1e97de238844",
   "metadata": {
    "tags": []
   },
   "source": [
    "<div class=\"alert alert-block alert-info\">\n",
    "    We got the <b>best parameters</b> so, we are going to <b>analyze</b> them more in details \n",
    "</div>"
   ]
  },
  {
   "cell_type": "markdown",
   "id": "19408ca5-353b-4e52-9712-430c65f6d67a",
   "metadata": {},
   "source": [
    "<div style=\"background-color: #6D83C5;\" >\n",
    "    <h5 style=\"margin: auto; padding: 20px; color:#fff; \">6.5.1 Random Forest Validation curve</h5>\n",
    "</div>"
   ]
  },
  {
   "cell_type": "markdown",
   "id": "1403ba5c-abf4-4519-bacc-2ab770b9ed62",
   "metadata": {
    "tags": []
   },
   "source": [
    "<div class=\"alert alert-block alert-info\">\n",
    "    To plot the <b>Validation curve</b>, we are going to use a <b>range of neighbors</b> to analyze the model through them\n",
    "</div>"
   ]
  },
  {
   "cell_type": "code",
   "execution_count": null,
   "id": "144474aa-115f-4328-8828-15f2c44e0d3f",
   "metadata": {},
   "outputs": [],
   "source": [
    "kfold = KFold(n_splits=5, shuffle=True, random_state=0)\n",
    "\n",
    "n_estimators = np.unique(np.logspace(0, 1.8, num=30).astype(int))\n",
    "\n",
    "reg = make_pipeline(preprocessor, RandomForestRegressor(bootstrap=False, max_depth=80, max_features=\"sqrt\", min_samples_leaf=3, min_samples_split=8))"
   ]
  },
  {
   "cell_type": "markdown",
   "id": "21464c29-dc77-4f70-a1a6-a3bba0605df8",
   "metadata": {
    "tags": []
   },
   "source": [
    "<div class=\"alert alert-block alert-info\">\n",
    "    Plotting <b>the validacion curve</b> based on the best parameters\n",
    "</div>"
   ]
  },
  {
   "cell_type": "code",
   "execution_count": null,
   "id": "10de23d5-53f7-4c70-8d93-08a4064eb924",
   "metadata": {},
   "outputs": [],
   "source": [
    "plot_validation_curve(reg, \"RandomForestRegressor\", X_train, y_train, param_name=\"randomforestregressor__n_estimators\", param_range=n_estimators, param_name_short=\"Estimators\", cv=kfold)"
   ]
  },
  {
   "cell_type": "markdown",
   "id": "c074f651-40b7-449b-8c49-bccc9c1558fb",
   "metadata": {},
   "source": [
    "<div style=\"background-color: #6D83C5;\" >\n",
    "    <h5 style=\"margin: auto; padding: 20px; color:#fff; \">6.5.2 Random Forest Learning curve</h5>\n",
    "</div>"
   ]
  },
  {
   "cell_type": "markdown",
   "id": "17d35d5b-3e84-4c79-86ba-6e75e313cde7",
   "metadata": {
    "tags": []
   },
   "source": [
    "<div class=\"alert alert-block alert-info\">\n",
    "    To plot the <b>Learning curve</b>, we are going to use the <b>best  parameters</b> to analyze the model\n",
    "</div>"
   ]
  },
  {
   "cell_type": "code",
   "execution_count": null,
   "id": "cf0e6013-a3cb-4da5-920d-471d3c828e1b",
   "metadata": {},
   "outputs": [],
   "source": [
    "kfold = KFold(n_splits=5, shuffle=True, random_state=0)\n",
    "\n",
    "reg = make_pipeline(preprocessor, RandomForestRegressor(bootstrap=True, max_depth=100, max_features=\"auto\", min_samples_leaf=3, min_samples_split=10, n_estimators=100))"
   ]
  },
  {
   "cell_type": "markdown",
   "id": "200e50ab-8317-4313-b27b-dcdd67734ee1",
   "metadata": {
    "tags": []
   },
   "source": [
    "<div class=\"alert alert-block alert-info\">\n",
    "    Plotting <b>the learning curve</b> based on the best parameters\n",
    "</div>"
   ]
  },
  {
   "cell_type": "code",
   "execution_count": null,
   "id": "26ef3d9c-43f8-4a56-9130-8a41be73a4e1",
   "metadata": {},
   "outputs": [],
   "source": [
    "plot_learning_curve(reg, \"RandomForestRegressor\", X_train, y_train, cv=kfold)"
   ]
  },
  {
   "cell_type": "markdown",
   "id": "91f0968b-e633-45eb-87ff-b7ed18bae237",
   "metadata": {},
   "source": [
    "<div style=\"background-color: #6D83C5;\" >\n",
    "    <h5 style=\"margin: auto; padding: 20px; color:#fff; \">6.5.3 Random Forest predictions validations</h5>\n",
    "</div>"
   ]
  },
  {
   "cell_type": "markdown",
   "id": "5d71c2f5-1346-465b-8b21-ce1236ebd6c4",
   "metadata": {
    "tags": []
   },
   "source": [
    "<div class=\"alert alert-block alert-info\">\n",
    "    To plot the <b>predictions validations</b>, we are going to use the <b>best  parameters</b> to analyze the model after <b>fitting</b> and <b>predicting</b> values</b>\n",
    "</div>"
   ]
  },
  {
   "cell_type": "code",
   "execution_count": null,
   "id": "4c0f5caa-1a2c-447e-a37a-a6326740166f",
   "metadata": {},
   "outputs": [],
   "source": [
    "kfold = KFold(n_splits=5, shuffle=True, random_state=0)\n",
    "\n",
    "reg = make_pipeline(preprocessor, RandomForestRegressor(bootstrap=True, max_depth=100, max_features=\"auto\", min_samples_leaf=3, min_samples_split=10, n_estimators=100))\n",
    "\n",
    "reg.fit(X_train, y_train)\n",
    "\n",
    "# Making the prediction using the testing data\n",
    "y_pred = reg.predict(X_test)"
   ]
  },
  {
   "cell_type": "markdown",
   "id": "4c5e0454-fcbd-4af1-9609-7cd09e0d3e1e",
   "metadata": {
    "tags": []
   },
   "source": [
    "<div class=\"alert alert-block alert-info\">\n",
    "    Plotting <b>the Cross-Validated Predictions</b> based on the best parameters for <b>training data</b>\n",
    "</div>"
   ]
  },
  {
   "cell_type": "code",
   "execution_count": null,
   "id": "d283afb1-37cf-4a0e-93d0-dec50c76b6d4",
   "metadata": {},
   "outputs": [],
   "source": [
    "# Making the prediction using the testing data\n",
    "plot_cross_val_predi(reg, \"RandomForestRegressor\", X_train, y_train, cv=kfold)"
   ]
  },
  {
   "cell_type": "markdown",
   "id": "db034aef-a261-4e7a-a441-88e60b8d3d61",
   "metadata": {},
   "source": [
    "<div style=\"background-color: #6D83C5;\" >\n",
    "    <h5 style=\"margin: auto; padding: 20px; color:#fff; \">6.5.4 Random Forest  Features Importance</h5>\n",
    "</div>"
   ]
  },
  {
   "cell_type": "markdown",
   "id": "09d1fbf9-8b85-4232-814d-d28d5176d263",
   "metadata": {
    "tags": []
   },
   "source": [
    "<div class=\"alert alert-block alert-info\">\n",
    "    To plot the <b>Features Importance</b>, we are going to use the <b>best  parameters</b> to analyze the model after <b>fitting</b> values</b>\n",
    "</div>"
   ]
  },
  {
   "cell_type": "code",
   "execution_count": null,
   "id": "9fa33a2c-b7af-4ebd-8ca2-28776c308876",
   "metadata": {},
   "outputs": [],
   "source": [
    "reg = make_pipeline(preprocessor, RandomForestRegressor(bootstrap=True, max_depth=100, max_features=\"auto\", min_samples_leaf=3, min_samples_split=10, n_estimators=100))\n",
    "\n",
    "reg.fit(X_train, y_train)"
   ]
  },
  {
   "cell_type": "markdown",
   "id": "c2a30d3e-8e89-4f1d-9247-d694cf1a81ba",
   "metadata": {
    "tags": []
   },
   "source": [
    "<div class=\"alert alert-block alert-info\">\n",
    "    Plotting <b>the Features Importance</b> based on the best parameters\n",
    "</div>"
   ]
  },
  {
   "cell_type": "code",
   "execution_count": null,
   "id": "218e6eb4-c30b-496f-a66f-bda4ccbe8529",
   "metadata": {},
   "outputs": [],
   "source": [
    "plot_features_importance(reg, \"RandomForestRegressor\", X_train, y_train, scoring=\"neg_mean_squared_error\")"
   ]
  },
  {
   "cell_type": "markdown",
   "id": "acae279c-c20b-4f27-b44c-5571fb0cb992",
   "metadata": {},
   "source": [
    "<div style=\"background-color: #6D83C5;\" >\n",
    "    <h5 style=\"margin: auto; padding: 20px; color:#fff; \">6.5.6 Concatenating the results to compare</h5>\n",
    "</div>"
   ]
  },
  {
   "cell_type": "code",
   "execution_count": null,
   "id": "bbfb302b-a9da-4924-8864-4f1a6b59ce58",
   "metadata": {},
   "outputs": [],
   "source": [
    "reg = make_pipeline(preprocessor, RandomForestRegressor(bootstrap=True, max_depth=100, max_features=\"auto\", min_samples_leaf=3, min_samples_split=10, n_estimators=100))\n",
    "\n",
    "reg.fit(X_train, y_train)\n",
    "\n",
    "# Making the prediction using the testing data\n",
    "y_pred = reg.predict(X_test)"
   ]
  },
  {
   "cell_type": "markdown",
   "id": "818803ce-7520-4e34-a542-bdd7b9da10a5",
   "metadata": {
    "tags": []
   },
   "source": [
    "<div class=\"alert alert-block alert-info\">\n",
    "    Adding the prediction to compare at the end\n",
    "</div>"
   ]
  },
  {
   "cell_type": "code",
   "execution_count": null,
   "id": "ef844223-e65f-4a9f-8861-83fd33231082",
   "metadata": {},
   "outputs": [],
   "source": [
    "# Concatenating predictions to compare against y_test_transformed\n",
    "df_temp = pd.DataFrame({\n",
    "    \"Model\" : \"RandomForestRegressor\",\n",
    "    \"y_pred\" : y_pred\n",
    "})"
   ]
  },
  {
   "cell_type": "code",
   "execution_count": null,
   "id": "d81fc57b-c822-43b0-9a47-b6514ecd6520",
   "metadata": {},
   "outputs": [],
   "source": [
    "# Concatenating predictions to compare against y_test_transformed\n",
    "df_y_pred_gsc = pd.concat([df_y_pred_gsc, df_temp])"
   ]
  },
  {
   "cell_type": "markdown",
   "id": "7e7113e6-d159-4345-a3d8-075f9ba5c579",
   "metadata": {
    "tags": []
   },
   "source": [
    "<div class=\"alert alert-block alert-info\">\n",
    "    Adding metrics to compare at the end\n",
    "</div>"
   ]
  },
  {
   "cell_type": "code",
   "execution_count": null,
   "id": "0c9fa445-81fb-4da8-92c3-7944aef7a56e",
   "metadata": {},
   "outputs": [],
   "source": [
    "# Adding results into LIST\n",
    "LIST_MODEL_GSC.append(\"KNeighbors\")\n",
    "LIST_MAE_GSC.append(round(abs(df_results.iloc[search.best_index_][\"mean_test_MAE\"]), 3))\n",
    "LIST_RMSE_GSC.append(round(math.sqrt(abs(df_results.iloc[search.best_index_][\"mean_test_MSE\"])), 3))\n",
    "LIST_R2SCORE_GSC.append(round(search.best_score_, 3))\n",
    "LIST_DURATION_GSC.append(round(df_results.iloc[search.best_index_][\"mean_score_time\"], 3))"
   ]
  },
  {
   "cell_type": "markdown",
   "id": "26882e93-efc1-4dde-8f17-b85233f484b1",
   "metadata": {
    "tags": []
   },
   "source": [
    "<div class=\"alert alert-block alert-danger\">\n",
    "    <b>Flag position</b>\n",
    "</div>"
   ]
  },
  {
   "cell_type": "code",
   "execution_count": null,
   "id": "d84ae911-8bd9-401e-b282-fd2433209844",
   "metadata": {},
   "outputs": [],
   "source": [
    "XXX"
   ]
  },
  {
   "cell_type": "code",
   "execution_count": null,
   "id": "40a28be1-3af8-49c9-ac3c-b262879633c6",
   "metadata": {},
   "outputs": [],
   "source": []
  },
  {
   "cell_type": "code",
   "execution_count": null,
   "id": "7d8b3b20-63f3-4f50-96b2-00ef4d383c68",
   "metadata": {},
   "outputs": [],
   "source": []
  },
  {
   "cell_type": "code",
   "execution_count": null,
   "id": "c5e4c050-174d-49b6-a8f9-61e299c3db13",
   "metadata": {},
   "outputs": [],
   "source": []
  },
  {
   "cell_type": "code",
   "execution_count": null,
   "id": "92b65cf8-1bf8-459d-8a38-b45d72140edd",
   "metadata": {},
   "outputs": [],
   "source": []
  },
  {
   "cell_type": "code",
   "execution_count": null,
   "id": "58d99d99-0c77-4b97-a113-1db386349300",
   "metadata": {},
   "outputs": [],
   "source": []
  },
  {
   "cell_type": "code",
   "execution_count": null,
   "id": "74f88a22-0646-463f-bd38-8e5c3a6d87e4",
   "metadata": {},
   "outputs": [],
   "source": []
  },
  {
   "cell_type": "code",
   "execution_count": null,
   "id": "603d1440-8955-424c-983a-7973cb86af81",
   "metadata": {},
   "outputs": [],
   "source": []
  },
  {
   "cell_type": "code",
   "execution_count": null,
   "id": "820e7395-eb7a-4ba4-9bc5-b1a64e441f03",
   "metadata": {},
   "outputs": [],
   "source": []
  },
  {
   "cell_type": "markdown",
   "id": "a7732cc6-b5f4-41ee-964f-b5fcaa3eda22",
   "metadata": {},
   "source": [
    "<div style=\"background-color: #6D83C5;\" >\n",
    "    <h1 style=\"margin: auto; padding: 20px; color:#fff; \">XXXXXXXXXXXXXXXXXXXXXXXXXXXXX</h1>\n",
    "</div>"
   ]
  },
  {
   "cell_type": "markdown",
   "id": "483e8ae9-e952-4c26-8d7d-d15bb5e9ebfe",
   "metadata": {},
   "source": [
    "<div style=\"background-color: #6D83C5;\" >\n",
    "    <h1 style=\"margin: auto; padding: 20px; color:#fff; \">XXXXXXXXXXXXXXXXXXXXXXXXXXXXX</h1>\n",
    "</div>"
   ]
  },
  {
   "cell_type": "markdown",
   "id": "43724f98-9fbe-4df4-a497-7ba95d8d119c",
   "metadata": {},
   "source": [
    "<div style=\"background-color: #6D83C5;\" >\n",
    "    <h1 style=\"margin: auto; padding: 20px; color:#fff; \">XXXXXXXXXXXXXXXXXXXXXXXXXXXXX</h1>\n",
    "</div>"
   ]
  },
  {
   "cell_type": "markdown",
   "id": "86323b2b-a336-4a5c-9741-4f8c4af6a981",
   "metadata": {},
   "source": [
    "<div style=\"background-color: #6D83C5;\" >\n",
    "    <h1 style=\"margin: auto; padding: 20px; color:#fff; \">XXXXXXXXXXXXXXXXXXXXXXXXXXXXX</h1>\n",
    "</div>"
   ]
  },
  {
   "cell_type": "markdown",
   "id": "32f096d3-347a-47bc-be22-8c3b78174c13",
   "metadata": {},
   "source": [
    "<div style=\"background-color: #6D83C5;\" >\n",
    "    <h4 style=\"margin: auto; padding: 20px; color:#fff; \">6.6. Gradient Boosting optimization</h4>\n",
    "</div>"
   ]
  },
  {
   "cell_type": "markdown",
   "id": "6393b188-72bc-4520-b06d-5db51afd2189",
   "metadata": {
    "tags": []
   },
   "source": [
    "<div class=\"alert alert-block alert-info\">\n",
    "    Initializing model\n",
    "</div>"
   ]
  },
  {
   "cell_type": "code",
   "execution_count": null,
   "id": "bc246068-6606-4d22-924b-ad9ac6fb2f59",
   "metadata": {},
   "outputs": [],
   "source": [
    "gbr = GradientBoostingRegressor()"
   ]
  },
  {
   "cell_type": "markdown",
   "id": "2ca2d7f2-1d75-4750-8e48-b8add83d342f",
   "metadata": {
    "tags": []
   },
   "source": [
    "<div class=\"alert alert-block alert-info\">\n",
    "    Data preprocessing based on the pipelines and the regressors setup\n",
    "</div>"
   ]
  },
  {
   "cell_type": "code",
   "execution_count": null,
   "id": "be2ed424-e5b1-4769-bc5e-e93ac3c3b293",
   "metadata": {},
   "outputs": [],
   "source": [
    "reg = make_pipeline(preprocessor, gbr)"
   ]
  },
  {
   "cell_type": "markdown",
   "id": "db85894f-ba9f-45ef-b0a4-535d2d834dae",
   "metadata": {
    "tags": []
   },
   "source": [
    "<div class=\"alert alert-block alert-info\">\n",
    "    Identifying the names of each parameter\n",
    "</div>"
   ]
  },
  {
   "cell_type": "code",
   "execution_count": null,
   "id": "9bb67013-5558-4ec7-9bd8-adbfa3d0bacf",
   "metadata": {},
   "outputs": [],
   "source": [
    "sorted(reg.get_params().keys())"
   ]
  },
  {
   "cell_type": "markdown",
   "id": "7aed9971-a179-4fc9-aa19-abee3e257b86",
   "metadata": {
    "tags": []
   },
   "source": [
    "<div class=\"alert alert-block alert-info\">\n",
    "    Parameters settings\n",
    "</div>"
   ]
  },
  {
   "cell_type": "code",
   "execution_count": null,
   "id": "b5c01b4f-17f0-4d77-98f7-d90692847034",
   "metadata": {},
   "outputs": [],
   "source": [
    "param_grid = {\n",
    "    \"gradientboostingregressor__learning_rate\" : [0.01, 0.02, 0.03, 0.04],\n",
    "    \"gradientboostingregressor__max_depth\" : [4, 6, 8, 10],\n",
    "    \"gradientboostingregressor__n_estimators\" : [100, 500, 1000, 1500],\n",
    "    \"gradientboostingregressor__subsample\" : [0.9, 0.5, 0.2, 0.1]\n",
    "}"
   ]
  },
  {
   "cell_type": "markdown",
   "id": "32f218dc-29f0-4674-9e89-7d328143edfd",
   "metadata": {
    "tags": []
   },
   "source": [
    "<div class=\"alert alert-block alert-info\">\n",
    "    Executing the model\n",
    "</div>"
   ]
  },
  {
   "cell_type": "code",
   "execution_count": null,
   "id": "ff42f99c-600f-4b3a-a53e-dc1c8030874a",
   "metadata": {},
   "outputs": [],
   "source": [
    "## K-Folds cross-validator\n",
    "kfold = KFold(n_splits=5, shuffle=True, random_state=0)\n",
    "\n",
    "search = GridSearchCV(reg, param_grid, n_jobs=-1, cv=kfold, scoring=SCORINGS, refit=\"R2\", return_train_score=True)\n",
    "\n",
    "search.fit(X_train, y_train)\n",
    "\n",
    "# Transforming the result to dataframe format\n",
    "df_results = pd.DataFrame(search.cv_results_)\n",
    "\n",
    "# Get the results\n",
    "print(\"Metrics based on the best R2\".translate(SUP))\n",
    "print(\"- R2:\".translate(SUP), round(search.best_score_, 3))\n",
    "print(\"- MAE:\", round(abs(df_results.iloc[search.best_index_][\"mean_test_MAE\"]), 3))\n",
    "print(\"- RMSE:\", round(math.sqrt(abs(df_results.iloc[search.best_index_][\"mean_test_MSE\"])), 3))\n",
    "print(\"- Duration:\", round(df_results.iloc[search.best_index_][\"mean_score_time\"], 3))\n",
    "print(\"- Parameters:\", search.best_params_)"
   ]
  },
  {
   "cell_type": "markdown",
   "id": "c831b355-b899-4fff-a258-9e1a36c53d1c",
   "metadata": {
    "tags": []
   },
   "source": [
    "<div class=\"alert alert-block alert-info\">\n",
    "    We got the <b>best parameters</b> so, we are going to <b>analyze</b> them more in details \n",
    "</div>"
   ]
  },
  {
   "cell_type": "markdown",
   "id": "c2400176-5280-446b-8ddd-4e9ad0fc1669",
   "metadata": {},
   "source": [
    "<div style=\"background-color: #6D83C5;\" >\n",
    "    <h5 style=\"margin: auto; padding: 20px; color:#fff; \">6.6.1 Gradient Boosting Validation curve</h5>\n",
    "</div>"
   ]
  },
  {
   "cell_type": "markdown",
   "id": "36aeaac1-39b2-4e0d-bef0-3a48b8acf5aa",
   "metadata": {
    "tags": []
   },
   "source": [
    "<div class=\"alert alert-block alert-info\">\n",
    "    To plot the <b>Validation curve</b>, we are going to use a <b>range of estimators</b> to analyze the model through them\n",
    "</div>"
   ]
  },
  {
   "cell_type": "code",
   "execution_count": null,
   "id": "85ab7cee-61f9-4bab-8d39-b60815bf991c",
   "metadata": {},
   "outputs": [],
   "source": [
    "kfold = KFold(n_splits=5, shuffle=True, random_state=0)\n",
    "\n",
    "n_estimators = np.unique(np.logspace(0, 1.8, num=30).astype(int))\n",
    "\n",
    "reg = make_pipeline(preprocessor, GradientBoostingRegressor(learning_rate=0.01, max_depth=4, subsample=0.2))"
   ]
  },
  {
   "cell_type": "markdown",
   "id": "29281308-d06c-4a69-9061-89b6b4acc266",
   "metadata": {
    "tags": []
   },
   "source": [
    "<div class=\"alert alert-block alert-info\">\n",
    "    Plotting <b>the validacion curve</b> based on the best parameters\n",
    "</div>"
   ]
  },
  {
   "cell_type": "code",
   "execution_count": null,
   "id": "7a5e05e7-8620-4c11-b2b0-e9fdd02a7f86",
   "metadata": {},
   "outputs": [],
   "source": [
    "plot_validation_curve(reg, \"GradientBoostingRegressor\", X_train, y_train, param_name=\"gradientboostingregressor__n_estimators\", param_range=n_estimators, param_name_short=\"Estimators\", \\\n",
    "                      scoring=\"neg_mean_absolute_error\", cv=kfold)"
   ]
  },
  {
   "cell_type": "markdown",
   "id": "bdd6caf3-1785-4c75-aacf-6611e7e46ccd",
   "metadata": {},
   "source": [
    "<div style=\"background-color: #6D83C5;\" >\n",
    "    <h5 style=\"margin: auto; padding: 20px; color:#fff; \">6.6.2 Gradient Boosting Learning curve</h5>\n",
    "</div>"
   ]
  },
  {
   "cell_type": "markdown",
   "id": "66030d42-964d-4569-8ef4-fa6ec329f018",
   "metadata": {
    "tags": []
   },
   "source": [
    "<div class=\"alert alert-block alert-info\">\n",
    "    To plot the <b>Learning curve</b>, we are going to use the <b>best  parameters</b> to analyze the model\n",
    "</div>"
   ]
  },
  {
   "cell_type": "code",
   "execution_count": null,
   "id": "84d5aecb-2a6d-44f0-8806-a507532a46c8",
   "metadata": {},
   "outputs": [],
   "source": [
    "kfold = KFold(n_splits=5, shuffle=True, random_state=0)\n",
    "\n",
    "reg = make_pipeline(preprocessor, GradientBoostingRegressor(learning_rate=0.01, max_depth=4, n_estimators=1000, subsample=0.2))"
   ]
  },
  {
   "cell_type": "markdown",
   "id": "eef74d4e-0c9f-4bc9-9622-394aff81ad42",
   "metadata": {
    "tags": []
   },
   "source": [
    "<div class=\"alert alert-block alert-info\">\n",
    "    Plotting <b>the learning curve</b> based on the best parameters\n",
    "</div>"
   ]
  },
  {
   "cell_type": "code",
   "execution_count": null,
   "id": "f2cfa301-cf5a-4bb1-b34e-4e0daeabe884",
   "metadata": {},
   "outputs": [],
   "source": [
    "plot_learning_curve(reg, \"GradientBoostingRegressor\", X_train, y_train, cv=kfold)"
   ]
  },
  {
   "cell_type": "markdown",
   "id": "47033259-0715-4b8c-947f-4486d1f6faef",
   "metadata": {},
   "source": [
    "<div style=\"background-color: #6D83C5;\" >\n",
    "    <h5 style=\"margin: auto; padding: 20px; color:#fff; \">6.6.3 Gradient Boosting predictions validations</h5>\n",
    "</div>"
   ]
  },
  {
   "cell_type": "markdown",
   "id": "b6af9378-7074-4568-9cf1-7896d66c7684",
   "metadata": {
    "tags": []
   },
   "source": [
    "<div class=\"alert alert-block alert-info\">\n",
    "    To plot the <b>predictions validations</b>, we are going to use the <b>best  parameters</b> to analyze the model after <b>fitting</b> and <b>predicting</b> values</b>\n",
    "</div>"
   ]
  },
  {
   "cell_type": "code",
   "execution_count": null,
   "id": "5137846f-8df7-4264-b04a-598c3277e762",
   "metadata": {},
   "outputs": [],
   "source": [
    "kfold = KFold(n_splits=5, shuffle=True, random_state=0)\n",
    "\n",
    "reg = make_pipeline(preprocessor, GradientBoostingRegressor(learning_rate=0.01, max_depth=4, n_estimators=1000, subsample=0.2))\n",
    "\n",
    "reg.fit(X_train, y_train)\n",
    "\n",
    "# Making the prediction using the testing data\n",
    "y_pred = reg.predict(X_test)"
   ]
  },
  {
   "cell_type": "markdown",
   "id": "3aec3758-dc3b-4010-a024-d5f867c4f65b",
   "metadata": {
    "tags": []
   },
   "source": [
    "<div class=\"alert alert-block alert-info\">\n",
    "    Plotting <b>the Cross-Validated Predictions</b> based on the best parameters for <b>training data</b>\n",
    "</div>"
   ]
  },
  {
   "cell_type": "code",
   "execution_count": null,
   "id": "54204961-88c0-4e9d-82ab-b7ed5b5ea46d",
   "metadata": {},
   "outputs": [],
   "source": [
    "# Making the prediction using the testing data\n",
    "plot_cross_val_predi(reg, \"KNeighbors\", X_train, y_train, cv=kfold)"
   ]
  },
  {
   "cell_type": "markdown",
   "id": "0c15c918-93b3-4212-948c-08e400777465",
   "metadata": {},
   "source": [
    "<div style=\"background-color: #6D83C5;\" >\n",
    "    <h5 style=\"margin: auto; padding: 20px; color:#fff; \">6.6.4 Gradient Boosting Features Importance</h5>\n",
    "</div>"
   ]
  },
  {
   "cell_type": "markdown",
   "id": "e9937068-308e-47fe-991c-9332b19f4f3e",
   "metadata": {
    "tags": []
   },
   "source": [
    "<div class=\"alert alert-block alert-info\">\n",
    "    To plot the <b>Features Importance</b>, we are going to use the <b>best  parameters</b> to analyze the model after <b>fitting</b> values</b>\n",
    "</div>"
   ]
  },
  {
   "cell_type": "code",
   "execution_count": null,
   "id": "b23cd49d-de29-4403-982a-c3b4d1ba0138",
   "metadata": {},
   "outputs": [],
   "source": [
    "kfold = KFold(n_splits=5, shuffle=True, random_state=0)\n",
    "\n",
    "reg = make_pipeline(preprocessor, GradientBoostingRegressor(learning_rate=0.01, max_depth=4, n_estimators=1000, subsample=0.2))\n",
    "\n",
    "reg.fit(X_train, y_train)"
   ]
  },
  {
   "cell_type": "markdown",
   "id": "0840465b-e846-48f3-b7e0-e0f21b789683",
   "metadata": {
    "tags": []
   },
   "source": [
    "<div class=\"alert alert-block alert-info\">\n",
    "    Plotting <b>the Features Importance</b> based on the best parameters\n",
    "</div>"
   ]
  },
  {
   "cell_type": "code",
   "execution_count": null,
   "id": "558f93d6-6b89-461e-9189-71556f574447",
   "metadata": {},
   "outputs": [],
   "source": [
    "plot_features_importance(reg, \"GradientBoostingRegressor\", X_train, y_train, scoring=\"neg_mean_squared_error\")"
   ]
  },
  {
   "cell_type": "code",
   "execution_count": null,
   "id": "cba4af00-05a9-4c9a-984c-f327a2c4ec1d",
   "metadata": {},
   "outputs": [],
   "source": []
  },
  {
   "cell_type": "code",
   "execution_count": null,
   "id": "82726129-7f38-4be3-b3e5-4bb6073b9f73",
   "metadata": {},
   "outputs": [],
   "source": []
  },
  {
   "cell_type": "code",
   "execution_count": null,
   "id": "4e5aa570-2e5e-47b1-b92f-e6545f830e9a",
   "metadata": {},
   "outputs": [],
   "source": []
  },
  {
   "cell_type": "code",
   "execution_count": null,
   "id": "9cfada77-f36c-4789-8da6-146e45f6db45",
   "metadata": {},
   "outputs": [],
   "source": []
  },
  {
   "cell_type": "code",
   "execution_count": null,
   "id": "a6b8527b-dd58-426c-941f-284aa879747c",
   "metadata": {},
   "outputs": [],
   "source": []
  },
  {
   "cell_type": "code",
   "execution_count": null,
   "id": "21d37a7a-c93f-4982-8071-5157605c1ae9",
   "metadata": {},
   "outputs": [],
   "source": []
  },
  {
   "cell_type": "markdown",
   "id": "46551799-f2a7-4da4-9037-2536b4957548",
   "metadata": {},
   "source": [
    "<div class=\"alert alert-block alert-danger\">\n",
    "    <b>Flag position</b>\n",
    "</div>"
   ]
  },
  {
   "cell_type": "markdown",
   "id": "2d8985ba-d980-4482-9be0-da4ee0d4149f",
   "metadata": {},
   "source": [
    "- Learning curves\n",
    "- metrics R2, MSE, MAE, etc....\n",
    "- gráfica comparación de predicción con regresión\n",
    "    - arreglar metrica R2 y RMSE\n",
    "- importancia de features "
   ]
  },
  {
   "cell_type": "code",
   "execution_count": null,
   "id": "9aa5c0cd-4433-4caf-abd6-08f274f8f188",
   "metadata": {},
   "outputs": [],
   "source": [
    "XXXXXXXXX"
   ]
  },
  {
   "cell_type": "markdown",
   "id": "01b27b12-f469-4703-b748-d5843dbf4026",
   "metadata": {},
   "source": [
    "<div style=\"background-color: #6D83C5;\" >\n",
    "    <h1 style=\"margin: auto; padding: 20px; color:#fff; \">XXXXXXXXXXXXXXXXXXXXXXXXXXXXX</h1>\n",
    "</div>"
   ]
  },
  {
   "cell_type": "code",
   "execution_count": null,
   "id": "5f7eb4a9-e0aa-48b5-b018-c7dd12b34bba",
   "metadata": {},
   "outputs": [],
   "source": []
  },
  {
   "cell_type": "markdown",
   "id": "6f26a89e-83bd-4ddd-8b0d-9f178ddef63a",
   "metadata": {},
   "source": [
    "import io\n",
    "import pandas as pd\n",
    "df = pd.read_csv(io.StringIO(\"\"\"column1 | column2 | column3  |column4  | column5 \n",
    "A       |    B    |    5     |   4234  |   123   \n",
    "A       |    B    |    2     |   432   |   3243  \n",
    "A       |    B    |    10    |   123   |   43    \n",
    "A       |    B    |    1     |   123   |   45    \n",
    "A       |    B    |    1     |   124   |   23243 \n",
    "A       |    B    |    1     |   125   |   234   \n",
    "A       |    B    |    1     |   126   |   23   \"\"\"), sep=\"|\").pipe(lambda d: d.rename(columns={c:c.strip() for c in d.columns}))\n",
    "- cursos a mirar <br>\n",
    "https://openclassrooms.com/fr/courses/6401081-improve-the-performance-of-a-machine-learning-model/6559796-tune-your-hyperparameters <br>\n",
    "https://openclassrooms.com/fr/courses/6389626-train-a-supervised-machine-learning-model/6389633-think-through-a-classification-task <br>\n",
    "https://lms.fun-mooc.fr/courses/course-v1:inria+41026+session01/courseware/cb3cfcaf0cae4cf7801c4e8d5dab9087/96ae0a5c701c4463a60cb975f75baa07/ <br>\n",
    "https://www.youtube.com/watch?v=w_bLGK4Pteo\n",
    "\n",
    "- grafica de error de training vs error test <br>\n",
    "https://scikit-learn.org/stable/auto_examples/model_selection/plot_train_error_vs_test_error.html\n",
    "\n",
    "- plotting learning curves <br>\n",
    "https://scikit-learn.org/stable/auto_examples/model_selection/plot_learning_curve.html <br>\n",
    "https://scikit-learn.org/stable/modules/learning_curve.html <br>\n",
    "https://www.dataquest.io/blog/learning-curves-machine-learning/ <br>\n",
    "https://utkuufuk.com/2018/05/04/learning-curves/ <br>\n",
    "https://vitalflux.com/validation-curves-explained-python-sklearn-example/\n",
    "\n",
    "- Validation curve <br>\n",
    "https://sdsawtelle.github.io/blog/output/week6-andrew-ng-machine-learning-with-python.html\n",
    "\n",
    "- Visualizaciones <br>\n",
    "https://scikit-learn.org/stable/visualizations.html <br>\n",
    "https://medium.datadriveninvestor.com/visualizing-scikit-model-performance-fb26ff16f7c6\n",
    "\n",
    "\n",
    "- lsitado de metricas <br>\n",
    "https://scikit-learn.org/stable/modules/model_evaluation.html <br>\n",
    "https://scikit-learn.org/stable/modules/generated/sklearn.metrics.r2_score.html#sklearn.metrics.r2_score <br>\n",
    "https://scikit-learn.org/stable/modules/generated/sklearn.linear_model.LinearRegression.html\n",
    "\n",
    "- Receiver Operating Characteristic (ROC) with cross validation <br>\n",
    "https://scikit-learn.org/stable/auto_examples/model_selection/plot_roc_crossval.html#sphx-glr-auto-examples-model-selection-plot-roc-crossval-py\n",
    "\n",
    "- Underfitting vs. Overfitting <br>\n",
    "https://scikit-learn.org/stable/auto_examples/model_selection/plot_underfitting_overfitting.html#sphx-glr-auto-examples-model-selection-plot-underfitting-overfitting-py\n",
    "\n",
    "- Plotting Cross-Validated Predictions <br>\n",
    "https://scikit-learn.org/stable/auto_examples/model_selection/plot_cv_predict.htmlPlotting\n",
    "\n",
    "- Bias Variance Trade off <br>\n",
    "https://towardsdatascience.com/bias-variance-tradeoff-7ca56ba182a\n",
    "\n",
    "- SkLearn course <br>\n",
    "https://inria.github.io/scikit-learn-mooc/index.html\n",
    "\n",
    "- Evaluate model\n",
    "https://towardsdatascience.com/hyperparameter-tuning-the-random-forest-in-python-using-scikit-learn-28d2aa77dd74"
   ]
  },
  {
   "cell_type": "code",
   "execution_count": null,
   "id": "bd2d2951-f173-47e4-bb31-a42bcdfd178c",
   "metadata": {},
   "outputs": [],
   "source": []
  },
  {
   "cell_type": "code",
   "execution_count": null,
   "id": "5f1e6eeb-2752-4265-9552-a5839691b12b",
   "metadata": {},
   "outputs": [],
   "source": []
  },
  {
   "cell_type": "code",
   "execution_count": null,
   "id": "eda232c5-ece6-49e8-84fa-6d49e874bdc9",
   "metadata": {},
   "outputs": [],
   "source": []
  },
  {
   "cell_type": "code",
   "execution_count": null,
   "id": "8144759c-754b-4bb0-8aed-9497d7e6b998",
   "metadata": {},
   "outputs": [],
   "source": []
  },
  {
   "cell_type": "code",
   "execution_count": null,
   "id": "5cc6bd5e-98fc-40f7-bdb5-b5fae22381a6",
   "metadata": {},
   "outputs": [],
   "source": []
  }
 ],
 "metadata": {
  "kernelspec": {
   "display_name": "Python 3",
   "language": "python",
   "name": "python3"
  },
  "language_info": {
   "codemirror_mode": {
    "name": "ipython",
    "version": 3
   },
   "file_extension": ".py",
   "mimetype": "text/x-python",
   "name": "python",
   "nbconvert_exporter": "python",
   "pygments_lexer": "ipython3",
   "version": "3.8.5"
  }
 },
 "nbformat": 4,
 "nbformat_minor": 5
}
