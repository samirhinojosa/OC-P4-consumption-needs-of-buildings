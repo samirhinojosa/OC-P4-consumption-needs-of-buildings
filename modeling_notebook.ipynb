{
 "cells": [
  {
   "cell_type": "markdown",
   "id": "ce468ca3-b790-4103-8261-1356811912a9",
   "metadata": {},
   "source": [
    "<div style=\"display: flex; background-color: #3F579F;\">\n",
    "    <h1 style=\"margin: auto; font-weight: bold; padding: 30px 30px 0px 30px;\" align=\"center\">Consumption needs of buildings - P4</h1>\n",
    "</div>\n",
    "<div style=\"display: flex; background-color: #3F579F; margin: auto; padding: 5px 30px 0px 30px;\" >\n",
    "    <h3 style=\"width: 100%; text-align: center; float: left; font-size: 24px;\" align=\"center\">| Modeling notebook XXX |</h3>\n",
    "</div>\n",
    "<div style=\"display: flex; background-color: #3F579F; margin: auto; padding: 10px 30px 30px 30px;\">\n",
    "    <h4 style=\"width: 100%; text-align: center; float: left; font-size: 24px;\" align=\"center\">Data Scientist course - OpenClassrooms</h4>\n",
    "</div>"
   ]
  },
  {
   "cell_type": "markdown",
   "id": "24f8fd9b-9c31-4b49-866b-0854e0201db2",
   "metadata": {
    "tags": []
   },
   "source": [
    "<div style=\"background-color: #506AB9;\" >\n",
    "    <h2 style=\"margin: auto; padding: 20px; color:#fff; \">1. Libraries and functions</h2>\n",
    "</div>"
   ]
  },
  {
   "cell_type": "markdown",
   "id": "136892e5-2f9c-4512-8693-c96d4b8cc38d",
   "metadata": {},
   "source": [
    "<div style=\"background-color: #6D83C5;\" >\n",
    "    <h3 style=\"margin: auto; padding: 20px; color:#fff; \">1.1. Libraries and functions</h3>\n",
    "</div>"
   ]
  },
  {
   "cell_type": "code",
   "execution_count": 1,
   "id": "53a341ca-1d3d-478d-a3ec-6319bfc0694e",
   "metadata": {
    "tags": []
   },
   "outputs": [],
   "source": [
    "## df_analysis\n",
    "import io\n",
    "import gc\n",
    "import timeit\n",
    "import math\n",
    "from math import prod\n",
    "\n",
    "## General\n",
    "import pandas as pd\n",
    "import numpy as np\n",
    "from numpy.random import seed, randint\n",
    "import matplotlib.pyplot as plt\n",
    "import seaborn as sns\n",
    "\n",
    "## Scikit Learn library\n",
    "from sklearn.model_selection import train_test_split\n",
    "from sklearn.compose import make_column_transformer\n",
    "from sklearn.pipeline import make_pipeline\n",
    "from sklearn.preprocessing import FunctionTransformer, StandardScaler, OneHotEncoder, PolynomialFeatures\n",
    "from sklearn.metrics import mean_squared_error, mean_absolute_error, r2_score\n",
    "from sklearn.inspection import permutation_importance\n",
    "from sklearn.model_selection import cross_validate, KFold, GridSearchCV, validation_curve, learning_curve, cross_val_predict, cross_val_predict\n",
    "from sklearn.neighbors import KNeighborsRegressor, NearestNeighbors\n",
    "from sklearn.linear_model import LinearRegression, Lasso\n",
    "from sklearn.ensemble import RandomForestRegressor, GradientBoostingRegressor\n",
    "from sklearn.svm import SVR\n",
    "\n",
    "\n",
    "%matplotlib inline\n",
    "\n",
    "sns.set_theme(style=\"darkgrid\")\n",
    "\n",
    "SUB = str.maketrans(\"0123456789\", \"₀₁₂₃₄₅₆₇₈₉\")\n",
    "SUP = str.maketrans(\"0123456789\", \"⁰¹²³⁴⁵⁶⁷⁸⁹\")"
   ]
  },
  {
   "cell_type": "markdown",
   "id": "cb2533d3-cfa1-4697-875b-007f75b4c6a0",
   "metadata": {},
   "source": [
    "<div style=\"background-color: #6D83C5;\" >\n",
    "    <h3 style=\"margin: auto; padding: 20px; color:#fff; \">1.2. Functions declaration</h3>\n",
    "</div>"
   ]
  },
  {
   "cell_type": "code",
   "execution_count": 2,
   "id": "1fbda1fe-ff0e-47f5-9b0d-68e4ef09468a",
   "metadata": {
    "tags": []
   },
   "outputs": [],
   "source": [
    "def df_analysis(df, name_df, *args, **kwargs):\n",
    "    \"\"\"\n",
    "    Method used to analyze on the DataFrame.\n",
    "\n",
    "    Parameters:\n",
    "    -----------------\n",
    "        df : pandas.DataFrame\n",
    "        Dataset to analyze.\n",
    "        \n",
    "        name_df : str\n",
    "        Dataset name.\n",
    "        \n",
    "        *args, **kwargs:\n",
    "        -----------------\n",
    "            columns : list\n",
    "            Dataframe keys in list format.\n",
    "            \n",
    "            flag : str\n",
    "            Flag to show complete information about the dataset to analyse\n",
    "            \"complete\" shows all information about the dataset.\n",
    "\n",
    "    Returns:\n",
    "    -----------------\n",
    "        None. \n",
    "        Print the analysis on the Dataset. \n",
    "        \n",
    "    \"\"\"\n",
    "    \n",
    "    # Getting the variables\n",
    "    columns = kwargs.get(\"columns\", None)\n",
    "    type_analysis = kwargs.get(\"type_analysis\", None)\n",
    "    \n",
    "    ORDERING_COMPLETE = [\n",
    "        \"name\", \"type\", \"records\", \"unique\", \"# NaN\", \"% NaN\", \"mean\", \"min\", \"25%\", \"50%\", \"75%\", \"max\", \"std\"\n",
    "    ]\n",
    "    \n",
    "    # Calculating the memory usage based on dataframe.info()\n",
    "    buf = io.StringIO()\n",
    "    df.info(buf=buf)\n",
    "    memory_usage = buf.getvalue().split('\\n')[-2]\n",
    "    \n",
    "    if df.empty:\n",
    "        print(\"The\", name_df, \"dataset is empty. Please verify the file.\")\n",
    "    else:\n",
    "        empty_cols = [col for col in df.columns if df[col].isna().all()] # identifying empty columns\n",
    "        df_rows_duplicates = df[df.duplicated()] #identifying full duplicates rows\n",
    "        \n",
    "        # Creating a dataset based on Type object and records by columns\n",
    "        type_cols = df.dtypes.apply(lambda x: x.name).to_dict() \n",
    "        df_resume = pd.DataFrame(list(type_cols.items()), columns = [\"name\", \"type\"])\n",
    "        df_resume[\"records\"] = list(df.count())\n",
    "        df_resume[\"# NaN\"] = list(df.isnull().sum())\n",
    "        df_resume[\"% NaN\"] = list(((df.isnull().sum() / len(df.index))*100).round(2))\n",
    "        \n",
    "        print(\"\\nAnalysis of\", name_df, \"dataset\")\n",
    "        print(\"--------------------------------------------------------------------\")\n",
    "        print(\"- Dataset shape:                 \", df.shape[0], \"rows and\", df.shape[1], \"columns\")\n",
    "        print(\"- Total of NaN values:           \", df.isna().sum().sum())\n",
    "        print(\"- Percentage of NaN:             \", round((df.isna().sum().sum() / prod(df.shape)) * 100, 2), \"%\")\n",
    "        print(\"- Total of full duplicates rows: \", df_rows_duplicates.shape[0])\n",
    "        print(\"- Total of empty rows:           \", df.shape[0] - df.dropna(axis=\"rows\", how=\"all\").shape[0]) if df.dropna(axis=\"rows\", how=\"all\").shape[0] < df.shape[0] else \\\n",
    "                    print(\"- Total of empty rows:            0\")\n",
    "        print(\"- Total of empty columns:        \", len(empty_cols))\n",
    "        print(\"  + The empty column is:         \", empty_cols) if len(empty_cols) == 1 else \\\n",
    "                    print(\"  + The empty column are:         \", empty_cols) if len(empty_cols) >= 1 else None\n",
    "        print(\"- Unique indexes:                \", df.index.is_unique)\n",
    "        \n",
    "        if columns is not None:\n",
    "            print(\"\\n- The key(s):\", columns, \"is not present multiple times in the dataframe.\\n  It CAN be used as a primary key.\") if df.size == df.drop_duplicates(columns).size else \\\n",
    "                print(\"\\n- The key(s):\", columns, \"is present multiple times in the dataframe.\\n  It CANNOT be used as a primary key.\")\n",
    "        \n",
    "        if type_analysis == \"summarized\":\n",
    "            print(\"\\n\")\n",
    "        \n",
    "        if type_analysis is None or type_analysis != \"summarized\":\n",
    "            pd.set_option(\"display.max_rows\", None) # show full of showing rows\n",
    "            pd.set_option(\"display.max_columns\", None) # show full of showing cols\n",
    "            pd.set_option(\"display.max_colwidth\", None) # show full width of showing cols\n",
    "            pd.set_option(\"display.float_format\", lambda x: \"%.5f\" % x) # show full content in cell    \n",
    "            \n",
    "            if type_analysis is None or type_analysis != \"complete\":\n",
    "                print(\"\\n- Type object and records by columns      (\",memory_usage,\")\")\n",
    "                print(\"--------------------------------------------------------------------\")\n",
    "            elif type_analysis == \"complete\":\n",
    "                df_resume[\"unique\"] = list(df.nunique())\n",
    "                df_desc = pd.DataFrame(df.describe().T).reset_index()\n",
    "                df_desc = df_desc.rename(columns={\"index\": \"name\"})\n",
    "                df_resume = df_resume.merge(right=df_desc[[\"name\", \"mean\", \"min\", \"25%\", \"50%\", \"75%\", \"max\", \"std\"]], on=\"name\", how=\"left\")\n",
    "                df_resume = df_resume[ORDERING_COMPLETE]\n",
    "                print(\"\\n- Type object and records by columns      (\",memory_usage,\")\")\n",
    "                print(\"--------------------------------------------------------------------\")\n",
    "                \n",
    "            display(df_resume.sort_values(\"records\", ascending=False))\n",
    "            \n",
    "            pd.reset_option(\"display.max_rows\") # reset max of showing rows\n",
    "            pd.reset_option(\"display.max_columns\") # reset max of showing cols\n",
    "            pd.reset_option(\"display.max_colwidth\") # reset width of showing cols\n",
    "            pd.reset_option(\"display.float_format\") # reset show full content in cell\n",
    "            \n",
    "        # deleting dataframe to free memory\n",
    "        if type_analysis == \"complete\":\n",
    "            del [[df_resume, df_desc]]\n",
    "            gc.collect()\n",
    "            df_resume, df_desc = (pd.DataFrame() for i in range(2))\n",
    "        else:\n",
    "            del df_resume\n",
    "            gc.collect()\n",
    "            df_resume = pd.DataFrame()\n",
    "\n",
    "\n",
    "def plot_validation_curve(estimator, name_model, X_train, y_train, param_name, param_range, param_name_short, scoring=None, cv=None):\n",
    "    \"\"\"\n",
    "    Generate 1 plots: \n",
    "        1. The test and training validation curve\n",
    "    \n",
    "    Parameters\n",
    "    -----------------\n",
    "    estimator : estimator instance\n",
    "        An estimator instance implementing `fit` and `predict` methods which\n",
    "        will be cloned for each validation.\n",
    "        \n",
    "    name_model : str\n",
    "        Name of the model as title for the chart.     \n",
    "        \n",
    "    X_train : array-like of shape (n_samples, n_features)\n",
    "        Training vector, where ``n_samples`` is the number of samples and\n",
    "        ``n_features`` is the number of features.\n",
    "\n",
    "    y_train : array-like of shape (n_samples) or (n_samples, n_features)\n",
    "        Target relative to ``X`` for classification or regression;\n",
    "        None for unsupervised learning.      \n",
    "        \n",
    "    param_name : str\n",
    "        Name of the parameter that will be varied.\n",
    "    \n",
    "    param_range : array-like of shape (n_values,)\n",
    "        The values of the parameter that will be evaluated.\n",
    "    \n",
    "    param_name_short : str\n",
    "        Short name for param_name\n",
    "        \n",
    "    cv : int, cross-validation generator or an iterable, default=None\n",
    "        Determines the cross-validation splitting strategy.\n",
    "        Possible inputs for cv are:\n",
    "\n",
    "          - None, to use the default 5-fold cross-validation,\n",
    "          - integer, to specify the number of folds.\n",
    "          - :term:`CV splitter`,\n",
    "          - An iterable yielding (train, test) splits as arrays of indices.\n",
    "\n",
    "        For integer/None inputs, if ``y`` is binary or multiclass,\n",
    "        :class:`StratifiedKFold` used. If the estimator is not a classifier\n",
    "        or if ``y`` is neither binary nor multiclass, :class:`KFold` is used.\n",
    "\n",
    "        Refer :ref:`User Guide <cross_validation>` for the various\n",
    "        cross-validators that can be used here.\n",
    "        \n",
    "    Returns:\n",
    "    -----------------\n",
    "        None. \n",
    "        Plot the graph. \n",
    "        \n",
    "    \"\"\"    \n",
    "    # Initializing figure\n",
    "    fig = plt.figure(figsize=(8, 6))\n",
    "    \n",
    "    if name_model in [\"LinearRegression\", \"LinearRegression - Polynomial\", \"KNeighbors\", \"Lasso\", \"SVR\", \"RandomForestRegressor\"]:\n",
    "        \n",
    "        # Get the validation_curves results\n",
    "        train_scores, test_scores = validation_curve(estimator, X_train, y_train, param_name=param_name, param_range=param_range, cv=kfold)\n",
    "\n",
    "        train_scores_mean = np.mean(train_scores, axis=1)\n",
    "        train_scores_std = np.std(train_scores, axis=1)\n",
    "        test_scores_mean = np.mean(test_scores, axis=1)\n",
    "        test_scores_std = np.std(test_scores, axis=1)\n",
    "\n",
    "        plot = sns.lineplot(x=param_range, y=train_scores_mean, label=\"Train\", marker=\"o\")\n",
    "        plt.fill_between(param_range, train_scores_mean - train_scores_std, train_scores_mean + train_scores_std, alpha=0.1, color=\"blue\")\n",
    "\n",
    "        plot = sns.lineplot(x=param_range, y=test_scores_mean, label=\"Validation\", marker=\"o\")\n",
    "        plt.fill_between(param_range, test_scores_mean - test_scores_std, test_scores_mean + test_scores_std, alpha=0.1, color=\"orange\")\n",
    "\n",
    "        plt.legend(bbox_to_anchor=(1.01, 1), borderaxespad=0)\n",
    "        plt.title(name_model + \" Validation curve\", fontdict={ \"fontsize\": 16, \"fontweight\": \"normal\" })\n",
    "        plot.set(xlabel=param_name_short, ylabel=\"R2-score\".translate(SUP), xlim=[0, max(param_range)])\n",
    "        \n",
    "    elif name_model == \"GradientBoostingRegressor\":\n",
    "    \n",
    "       # Get the validation_curves results\n",
    "        train_scores, test_scores = validation_curve(estimator, X_train, y_train, param_name=param_name, param_range=param_range, scoring=scoring, cv=kfold)\n",
    "        \n",
    "        train_errors, test_errors = -train_scores, -test_scores\n",
    "        \n",
    "        plt.errorbar(param_range, train_errors.mean(axis=1), yerr=train_errors.std(axis=1), label=\"Training score\")\n",
    "        plt.errorbar(param_range, test_errors.mean(axis=1), yerr=test_errors.std(axis=1), label=\"Cross-validation score\")\n",
    "\n",
    "        plt.legend()\n",
    "        \n",
    "        # Mean absolute error in k$\\n(smaller is better)\n",
    "        plt.ylabel(\"MAE\")\n",
    "        plt.xlabel(\"Estimators\")\n",
    "        _ = plt.title(name_model + \" Validation curve\", fontdict={ \"fontsize\": 16, \"fontweight\": \"normal\" })\n",
    "        \n",
    "    plt.savefig(\"img/\" + name_model + \"-validation-curve.png\")\n",
    "    sns.despine(fig)\n",
    "    plt.show()\n",
    "\n",
    "            \n",
    "def plot_learning_curve(estimator, name_model, X_train, y_train, cv=None, train_sizes=np.linspace(0.2, 1.0, 10)):\n",
    "    \"\"\"\n",
    "    Generate 3 plots: \n",
    "        1. The test and training learning curve\n",
    "        2. The training samples vs fit times curve\n",
    "        3. The fit times vs score curve\n",
    "    \n",
    "    Parameters\n",
    "    -----------------\n",
    "    estimator : estimator instance\n",
    "        An estimator instance implementing `fit` and `predict` methods which\n",
    "        will be cloned for each validation.\n",
    "        \n",
    "    name_model : str\n",
    "        Name of the model as title for the chart.        \n",
    "        \n",
    "    X_train : array-like of shape (n_samples, n_features)\n",
    "        Training vector, where ``n_samples`` is the number of samples and\n",
    "        ``n_features`` is the number of features.\n",
    "\n",
    "    y_train : array-like of shape (n_samples) or (n_samples, n_features)\n",
    "        Target relative to ``X`` for classification or regression;\n",
    "        None for unsupervised learning.        \n",
    "        \n",
    "    cv : int, cross-validation generator or an iterable, default=None\n",
    "        Determines the cross-validation splitting strategy.\n",
    "        Possible inputs for cv are:\n",
    "\n",
    "          - None, to use the default 5-fold cross-validation,\n",
    "          - integer, to specify the number of folds.\n",
    "          - :term:`CV splitter`,\n",
    "          - An iterable yielding (train, test) splits as arrays of indices.\n",
    "\n",
    "        For integer/None inputs, if ``y`` is binary or multiclass,\n",
    "        :class:`StratifiedKFold` used. If the estimator is not a classifier\n",
    "        or if ``y`` is neither binary nor multiclass, :class:`KFold` is used.\n",
    "\n",
    "        Refer :ref:`User Guide <cross_validation>` for the various\n",
    "        cross-validators that can be used here.\n",
    "\n",
    "    train_sizes : array-like of shape (n_ticks,)\n",
    "        Relative or absolute numbers of training examples that will be used to\n",
    "        generate the learning curve. If the ``dtype`` is float, it is regarded\n",
    "        as a fraction of the maximum size of the training set (that is\n",
    "        determined by the selected validation method), i.e. it has to be within\n",
    "        (0, 1]. Otherwise it is interpreted as absolute sizes of the training\n",
    "        sets. Note that for classification the number of samples usually have\n",
    "        to be big enough to contain at least one sample from each class.\n",
    "        (default: np.linspace(0.1, 1.0, 5) or (0.2, 1.0, 10))\n",
    "        \n",
    "    Returns:\n",
    "    -----------------\n",
    "        None. \n",
    "        Plot the graphs. \n",
    "        \n",
    "    \"\"\"\n",
    "    \n",
    "    # Get the learning_curves results\n",
    "    train_sizes, train_scores, test_scores, fit_times, _ = learning_curve(estimator, X_train, y_train, cv=cv, \\\n",
    "                                                                           train_sizes=train_sizes, n_jobs=-1, return_times=True)\n",
    "    \n",
    "    train_scores_mean = np.mean(train_scores, axis=1)\n",
    "    train_scores_std = np.std(train_scores, axis=1)\n",
    "    test_scores_mean = np.mean(test_scores, axis=1)\n",
    "    test_scores_std = np.std(test_scores, axis=1)\n",
    "    fit_times_mean = np.mean(fit_times, axis=1)\n",
    "    fit_times_std = np.std(fit_times, axis=1)\n",
    "    \n",
    "    # Initializing figure\n",
    "    fig, (ax1, ax2, ax3) = plt.subplots(nrows=1, ncols=3, figsize=(24, 6))\n",
    "    \n",
    "    # Plot learning curve\n",
    "    plot = sns.lineplot(x=train_sizes, y=train_scores_mean, label=\"Train\", marker=\"o\", ax=ax1)\n",
    "    ax1.fill_between(train_sizes, train_scores_mean - train_scores_std, train_scores_mean + train_scores_std, alpha=0.1, color=\"blue\")\n",
    "\n",
    "    plot = sns.lineplot(x=train_sizes, y=test_scores_mean, label=\"Validation\", marker=\"o\", ax=ax1)\n",
    "    ax1.fill_between(train_sizes, test_scores_mean - test_scores_std, test_scores_mean + test_scores_std, alpha=0.1, color=\"orange\")\n",
    "    \n",
    "    ax1.legend(loc=\"best\")\n",
    "    ax1.set_title(\" Learning curve (\" + name_model + \")\", fontdict={ \"fontsize\": 16, \"fontweight\": \"normal\" })\n",
    "    plot.set(xlabel=\"Training examples\", ylabel=\"R2-score\".translate(SUP))\n",
    "    \n",
    "    # Plot Scalability of the model\n",
    "    plot = sns.lineplot(x=train_sizes, y=fit_times_mean, marker=\"o\", ax=ax2)\n",
    "    ax2.fill_between(train_sizes, fit_times_mean - fit_times_std, fit_times_mean + fit_times_std, alpha=0.1, color=\"blue\")\n",
    "    \n",
    "    ax2.set_title(\"Scalability of the model\", fontdict={ \"fontsize\": 16, \"fontweight\": \"normal\" })\n",
    "    plot.set(xlabel=\"Training examples\", ylabel=\"Fit times\")\n",
    "\n",
    "    # Performance of the model\n",
    "    plot = sns.lineplot(x=fit_times_mean, y=test_scores_mean, marker=\"o\", ax=ax3)\n",
    "    ax3.fill_between(fit_times_mean, test_scores_mean - test_scores_std, test_scores_mean + test_scores_std, alpha=0.1)\n",
    "    \n",
    "    ax3.set_title(\"Performance of the model\", fontdict={ \"fontsize\": 16, \"fontweight\": \"normal\" })\n",
    "    plot.set(xlabel=\"Fit times examples\", ylabel=\"R2-score\".translate(SUP))\n",
    "    \n",
    "    plt.savefig(\"img/\" + name_model + \"-performance-model.png\")\n",
    "    sns.despine(fig)\n",
    "    plt.show()\n",
    "\n",
    "\n",
    "def plot_cross_val_predi(estimator, name_model, target_variable, X_train, y_train, cv=None):\n",
    "    \"\"\"\n",
    "    Generate 1 plots: \n",
    "        1. The validation between real values vs predicted values\n",
    "    \n",
    "    Parameters\n",
    "    -----------------\n",
    "    estimator : estimator instance\n",
    "        An estimator instance implementing `fit` and `predict` methods which\n",
    "        will be cloned for each validation.\n",
    "        \n",
    "    name_model : str\n",
    "        Name of the model as title for the chart.   \n",
    "\n",
    "    target_variable : str\n",
    "        Name of the target variable.    \n",
    "        \n",
    "    X_train : array-like of shape (n_samples, n_features)\n",
    "        Training vector, where ``n_samples`` is the number of samples and\n",
    "        ``n_features`` is the number of features.\n",
    "\n",
    "    y_train : array-like of shape (n_samples) or (n_samples, n_features)\n",
    "        Target relative to ``X`` for classification or regression;\n",
    "        None for unsupervised learning.      \n",
    "        \n",
    "    cv : int, cross-validation generator or an iterable, default=None\n",
    "        Determines the cross-validation splitting strategy.\n",
    "        Possible inputs for cv are:\n",
    "\n",
    "          - None, to use the default 5-fold cross-validation,\n",
    "          - integer, to specify the number of folds.\n",
    "          - :term:`CV splitter`,\n",
    "          - An iterable yielding (train, test) splits as arrays of indices.\n",
    "\n",
    "        For integer/None inputs, if ``y`` is binary or multiclass,\n",
    "        :class:`StratifiedKFold` used. If the estimator is not a classifier\n",
    "        or if ``y`` is neither binary nor multiclass, :class:`KFold` is used.\n",
    "\n",
    "        Refer :ref:`User Guide <cross_validation>` for the various\n",
    "        cross-validators that can be used here.\n",
    "        \n",
    "    Returns:\n",
    "    -----------------\n",
    "        None. \n",
    "        Plot the graph. \n",
    "        \n",
    "    \"\"\"   \n",
    "    \n",
    "    # Get the predicted values\n",
    "    predicted = cross_val_predict(estimator, X_train, y_train, cv=kfold)\n",
    "    \n",
    "    # Initializing figure\n",
    "    fig, (ax1, ax2) = plt.subplots(nrows=1, ncols=2, figsize=(18, 8))\n",
    "    \n",
    "    # Main title\n",
    "    plt.suptitle(\"Real values vs Predicted values\", size=24)\n",
    "    \n",
    "    ax1.scatter(y_train, predicted, edgecolors=(0, 0, 0))\n",
    "    ax1.plot([y_train.min(), y_train.max()], [y_train.min(), y_train.max()], \"--k\", lw=4)\n",
    "    \n",
    "    ax1.text(min(y_train)+0.2, 0.98*max(y_train), r'$R^2$=%.2f, RMSE=%.2f' % (\n",
    "            round(r2_score(y_train, predicted), 3),\n",
    "            round(math.sqrt(mean_squared_error(y_train, predicted)), 3)), \n",
    "            style=\"italic\", fontsize=12,\n",
    "            bbox={\"facecolor\": \"grey\", \"alpha\": 0.4, \"pad\": 5})\n",
    "    \n",
    "    sns.kdeplot(y_train, color=\"r\", label=\"Real values\", ax=ax2)\n",
    "    sns.kdeplot(predicted, color=\"b\", label=\"Predicted values\", ax=ax2)\n",
    "    \n",
    "    ax1.set_title(name_model + \" Cross-Values Predictions\", fontdict={ \"fontsize\": 16, \"fontweight\": \"normal\" })\n",
    "    ax1.set_xlabel(\"Real values\")\n",
    "    ax1.set_ylabel(\"Predicted values\")\n",
    "    \n",
    "    ax2.set_title(\"Distribution plot based on density\", fontdict={ \"fontsize\": 16, \"fontweight\": \"normal\" })\n",
    "    ax2.set_xlabel(\"SiteEnergyUse(kBtu)\")\n",
    "    ax2.set_ylabel(\"Density\")\n",
    "    plt.legend(bbox_to_anchor=(0.99, 0.99), borderaxespad=0)\n",
    "    \n",
    "    plt.savefig(\"img/\" + name_model + \"-cross-val-predict.png\")\n",
    "    plt.show()\n",
    "    \n",
    "\n",
    "def plot_features_importance(estimator, name_model, X_train, y_train, scoring=None):\n",
    "    \"\"\"\n",
    "    Generate 1 plots: \n",
    "        1. The importance by feature\n",
    "    \n",
    "    Parameters\n",
    "    -----------------\n",
    "    estimator : estimator instance\n",
    "        An estimator instance implementing `fit` and `predict` methods which\n",
    "        will be cloned for each validation.\n",
    "        \n",
    "    name_model : str\n",
    "        Name of the model as title for the chart.     \n",
    "        \n",
    "    X_train : array-like of shape (n_samples, n_features)\n",
    "        Training vector, where ``n_samples`` is the number of samples and\n",
    "        ``n_features`` is the number of features.\n",
    "\n",
    "    y_train : array-like of shape (n_samples) or (n_samples, n_features)\n",
    "        Target relative to ``X`` for classification or regression;\n",
    "        None for unsupervised learning. \n",
    "        \n",
    "    scoring : string, callable or None, default=None\n",
    "        Scorer to use. It can be a single string or a callable. \n",
    "        If None, the estimator’s default scorer is used. \n",
    "        \n",
    "    Returns:\n",
    "    -----------------\n",
    "        None. \n",
    "        Plot the graph. \n",
    "        \n",
    "    \"\"\"     \n",
    "    # Get the importance by feature\n",
    "    results = permutation_importance(estimator, X_train, y_train, scoring=\"neg_mean_squared_error\")\n",
    "    \n",
    "    # Making a dataframe to work easily\n",
    "    df_importance = pd.DataFrame({\n",
    "                        \"Feature\" : X_train.columns,\n",
    "                        \"Importance\" : results.importances_mean\n",
    "                    })\n",
    "    \n",
    "    # Sorting by importance before plotting\n",
    "    df_importance = df_importance.sort_values(\"Importance\")\n",
    "    \n",
    "    # Initializing figure    \n",
    "    fig = plt.subplots(figsize=(10, 8))\n",
    "    \n",
    "    plot = sns.barplot(data=df_importance, y=df_importance[\"Feature\"], x=df_importance[\"Importance\"])\n",
    "    \n",
    "    plt.title(name_model + \" Features Importance\", fontdict={ \"fontsize\": 16, \"fontweight\": \"normal\" })\n",
    "    plt.xlabel(\"Importance\")\n",
    "    plt.ylabel(\"Features\")\n",
    "    plt.tight_layout()\n",
    "    plt.savefig(\"img/\" + name_model + \"-feature-importance.png\")\n",
    "    plt.show()"
   ]
  },
  {
   "cell_type": "markdown",
   "id": "4a187b49-944f-4539-aea7-c88f883479f2",
   "metadata": {
    "tags": []
   },
   "source": [
    "<div style=\"background-color: #506AB9;\" >\n",
    "    <h2 style=\"margin: auto; padding: 20px; color:#fff; \">2. Importing files</h2>\n",
    "</div>"
   ]
  },
  {
   "cell_type": "markdown",
   "id": "d5220848-185a-4fb5-9d2d-b03a7ebbfbcc",
   "metadata": {},
   "source": [
    "<div style=\"background-color: #6D83C5;\" >\n",
    "    <h3 style=\"margin: auto; padding: 20px; color:#fff; \">2.1. Importing and preparing files</h3>\n",
    "</div>"
   ]
  },
  {
   "cell_type": "code",
   "execution_count": 12,
   "id": "0d36be08-1cf5-4bd1-b2e3-55026d6bf1a1",
   "metadata": {},
   "outputs": [],
   "source": [
    "data = pd.read_csv(r\"datasets\\df_to_work.csv\")"
   ]
  },
  {
   "cell_type": "code",
   "execution_count": 13,
   "id": "82b0e012-eac8-4c02-9160-7a58581f3f79",
   "metadata": {},
   "outputs": [
    {
     "data": {
      "text/html": [
       "<div>\n",
       "<style scoped>\n",
       "    .dataframe tbody tr th:only-of-type {\n",
       "        vertical-align: middle;\n",
       "    }\n",
       "\n",
       "    .dataframe tbody tr th {\n",
       "        vertical-align: top;\n",
       "    }\n",
       "\n",
       "    .dataframe thead th {\n",
       "        text-align: right;\n",
       "    }\n",
       "</style>\n",
       "<table border=\"1\" class=\"dataframe\">\n",
       "  <thead>\n",
       "    <tr style=\"text-align: right;\">\n",
       "      <th></th>\n",
       "      <th>NumberofFloors</th>\n",
       "      <th>NumberofBuildings</th>\n",
       "      <th>BuildingAge</th>\n",
       "      <th>PropertyGFATotal</th>\n",
       "      <th>PropertyGFATotal-binned</th>\n",
       "      <th>Neighborhood</th>\n",
       "      <th>renamed_PropertyType</th>\n",
       "      <th>Electricity_ratio</th>\n",
       "      <th>NaturalGas</th>\n",
       "      <th>SteamUse</th>\n",
       "      <th>OtherFuelUse</th>\n",
       "      <th>SiteEnergyUse(kBtu)</th>\n",
       "      <th>GHGEmissions(MetricTonsCO2e)</th>\n",
       "    </tr>\n",
       "  </thead>\n",
       "  <tbody>\n",
       "    <tr>\n",
       "      <th>0</th>\n",
       "      <td>12.0</td>\n",
       "      <td>1.0</td>\n",
       "      <td>94.0</td>\n",
       "      <td>88434.0</td>\n",
       "      <td>Medium</td>\n",
       "      <td>DOWNTOWN</td>\n",
       "      <td>Hotel</td>\n",
       "      <td>52.79951</td>\n",
       "      <td>True</td>\n",
       "      <td>True</td>\n",
       "      <td>False</td>\n",
       "      <td>6981428.0</td>\n",
       "      <td>249.43</td>\n",
       "    </tr>\n",
       "    <tr>\n",
       "      <th>1</th>\n",
       "      <td>11.0</td>\n",
       "      <td>1.0</td>\n",
       "      <td>25.0</td>\n",
       "      <td>103566.0</td>\n",
       "      <td>Medium</td>\n",
       "      <td>DOWNTOWN</td>\n",
       "      <td>Hotel</td>\n",
       "      <td>46.74768</td>\n",
       "      <td>True</td>\n",
       "      <td>False</td>\n",
       "      <td>False</td>\n",
       "      <td>8354235.0</td>\n",
       "      <td>263.51</td>\n",
       "    </tr>\n",
       "    <tr>\n",
       "      <th>2</th>\n",
       "      <td>10.0</td>\n",
       "      <td>1.0</td>\n",
       "      <td>95.0</td>\n",
       "      <td>61320.0</td>\n",
       "      <td>Medium</td>\n",
       "      <td>DOWNTOWN</td>\n",
       "      <td>Hotel</td>\n",
       "      <td>9.80903</td>\n",
       "      <td>True</td>\n",
       "      <td>True</td>\n",
       "      <td>False</td>\n",
       "      <td>28229320.0</td>\n",
       "      <td>1936.34</td>\n",
       "    </tr>\n",
       "    <tr>\n",
       "      <th>3</th>\n",
       "      <td>18.0</td>\n",
       "      <td>1.0</td>\n",
       "      <td>41.0</td>\n",
       "      <td>175580.0</td>\n",
       "      <td>Medium</td>\n",
       "      <td>DOWNTOWN</td>\n",
       "      <td>Hotel</td>\n",
       "      <td>40.90771</td>\n",
       "      <td>True</td>\n",
       "      <td>False</td>\n",
       "      <td>False</td>\n",
       "      <td>14829099.0</td>\n",
       "      <td>507.70</td>\n",
       "    </tr>\n",
       "    <tr>\n",
       "      <th>4</th>\n",
       "      <td>11.0</td>\n",
       "      <td>1.0</td>\n",
       "      <td>95.0</td>\n",
       "      <td>83008.0</td>\n",
       "      <td>Medium</td>\n",
       "      <td>DOWNTOWN</td>\n",
       "      <td>Hotel</td>\n",
       "      <td>42.85568</td>\n",
       "      <td>True</td>\n",
       "      <td>False</td>\n",
       "      <td>False</td>\n",
       "      <td>6252842.0</td>\n",
       "      <td>208.46</td>\n",
       "    </tr>\n",
       "  </tbody>\n",
       "</table>\n",
       "</div>"
      ],
      "text/plain": [
       "   NumberofFloors  NumberofBuildings  BuildingAge  PropertyGFATotal  \\\n",
       "0            12.0                1.0         94.0           88434.0   \n",
       "1            11.0                1.0         25.0          103566.0   \n",
       "2            10.0                1.0         95.0           61320.0   \n",
       "3            18.0                1.0         41.0          175580.0   \n",
       "4            11.0                1.0         95.0           83008.0   \n",
       "\n",
       "  PropertyGFATotal-binned Neighborhood renamed_PropertyType  \\\n",
       "0                  Medium     DOWNTOWN                Hotel   \n",
       "1                  Medium     DOWNTOWN                Hotel   \n",
       "2                  Medium     DOWNTOWN                Hotel   \n",
       "3                  Medium     DOWNTOWN                Hotel   \n",
       "4                  Medium     DOWNTOWN                Hotel   \n",
       "\n",
       "   Electricity_ratio  NaturalGas  SteamUse  OtherFuelUse  SiteEnergyUse(kBtu)  \\\n",
       "0           52.79951        True      True         False            6981428.0   \n",
       "1           46.74768        True     False         False            8354235.0   \n",
       "2            9.80903        True      True         False           28229320.0   \n",
       "3           40.90771        True     False         False           14829099.0   \n",
       "4           42.85568        True     False         False            6252842.0   \n",
       "\n",
       "   GHGEmissions(MetricTonsCO2e)  \n",
       "0                        249.43  \n",
       "1                        263.51  \n",
       "2                       1936.34  \n",
       "3                        507.70  \n",
       "4                        208.46  "
      ]
     },
     "execution_count": 13,
     "metadata": {},
     "output_type": "execute_result"
    }
   ],
   "source": [
    "data.head()"
   ]
  },
  {
   "cell_type": "code",
   "execution_count": 14,
   "id": "98575580-cc9a-45c8-b096-f9b3a83aa953",
   "metadata": {},
   "outputs": [
    {
     "name": "stdout",
     "output_type": "stream",
     "text": [
      "\n",
      "Analysis of data dataset\n",
      "--------------------------------------------------------------------\n",
      "- Dataset shape:                  1614 rows and 13 columns\n",
      "- Total of NaN values:            48\n",
      "- Percentage of NaN:              0.23 %\n",
      "- Total of full duplicates rows:  0\n",
      "- Total of empty rows:            0\n",
      "- Total of empty columns:         0\n",
      "- Unique indexes:                 True\n",
      "\n",
      "- Type object and records by columns      ( memory usage: 130.9+ KB )\n",
      "--------------------------------------------------------------------\n"
     ]
    },
    {
     "data": {
      "text/html": [
       "<div>\n",
       "<style scoped>\n",
       "    .dataframe tbody tr th:only-of-type {\n",
       "        vertical-align: middle;\n",
       "    }\n",
       "\n",
       "    .dataframe tbody tr th {\n",
       "        vertical-align: top;\n",
       "    }\n",
       "\n",
       "    .dataframe thead th {\n",
       "        text-align: right;\n",
       "    }\n",
       "</style>\n",
       "<table border=\"1\" class=\"dataframe\">\n",
       "  <thead>\n",
       "    <tr style=\"text-align: right;\">\n",
       "      <th></th>\n",
       "      <th>name</th>\n",
       "      <th>type</th>\n",
       "      <th>records</th>\n",
       "      <th>unique</th>\n",
       "      <th># NaN</th>\n",
       "      <th>% NaN</th>\n",
       "      <th>mean</th>\n",
       "      <th>min</th>\n",
       "      <th>25%</th>\n",
       "      <th>50%</th>\n",
       "      <th>75%</th>\n",
       "      <th>max</th>\n",
       "      <th>std</th>\n",
       "    </tr>\n",
       "  </thead>\n",
       "  <tbody>\n",
       "    <tr>\n",
       "      <th>2</th>\n",
       "      <td>BuildingAge</td>\n",
       "      <td>float64</td>\n",
       "      <td>1614</td>\n",
       "      <td>113</td>\n",
       "      <td>0</td>\n",
       "      <td>0.00000</td>\n",
       "      <td>59.44796</td>\n",
       "      <td>6.00000</td>\n",
       "      <td>32.00000</td>\n",
       "      <td>56.00000</td>\n",
       "      <td>91.00000</td>\n",
       "      <td>121.00000</td>\n",
       "      <td>32.75537</td>\n",
       "    </tr>\n",
       "    <tr>\n",
       "      <th>4</th>\n",
       "      <td>PropertyGFATotal-binned</td>\n",
       "      <td>object</td>\n",
       "      <td>1614</td>\n",
       "      <td>3</td>\n",
       "      <td>0</td>\n",
       "      <td>0.00000</td>\n",
       "      <td>NaN</td>\n",
       "      <td>NaN</td>\n",
       "      <td>NaN</td>\n",
       "      <td>NaN</td>\n",
       "      <td>NaN</td>\n",
       "      <td>NaN</td>\n",
       "      <td>NaN</td>\n",
       "    </tr>\n",
       "    <tr>\n",
       "      <th>5</th>\n",
       "      <td>Neighborhood</td>\n",
       "      <td>object</td>\n",
       "      <td>1614</td>\n",
       "      <td>13</td>\n",
       "      <td>0</td>\n",
       "      <td>0.00000</td>\n",
       "      <td>NaN</td>\n",
       "      <td>NaN</td>\n",
       "      <td>NaN</td>\n",
       "      <td>NaN</td>\n",
       "      <td>NaN</td>\n",
       "      <td>NaN</td>\n",
       "      <td>NaN</td>\n",
       "    </tr>\n",
       "    <tr>\n",
       "      <th>6</th>\n",
       "      <td>renamed_PropertyType</td>\n",
       "      <td>object</td>\n",
       "      <td>1614</td>\n",
       "      <td>8</td>\n",
       "      <td>0</td>\n",
       "      <td>0.00000</td>\n",
       "      <td>NaN</td>\n",
       "      <td>NaN</td>\n",
       "      <td>NaN</td>\n",
       "      <td>NaN</td>\n",
       "      <td>NaN</td>\n",
       "      <td>NaN</td>\n",
       "      <td>NaN</td>\n",
       "    </tr>\n",
       "    <tr>\n",
       "      <th>8</th>\n",
       "      <td>NaturalGas</td>\n",
       "      <td>bool</td>\n",
       "      <td>1614</td>\n",
       "      <td>2</td>\n",
       "      <td>0</td>\n",
       "      <td>0.00000</td>\n",
       "      <td>NaN</td>\n",
       "      <td>NaN</td>\n",
       "      <td>NaN</td>\n",
       "      <td>NaN</td>\n",
       "      <td>NaN</td>\n",
       "      <td>NaN</td>\n",
       "      <td>NaN</td>\n",
       "    </tr>\n",
       "    <tr>\n",
       "      <th>9</th>\n",
       "      <td>SteamUse</td>\n",
       "      <td>bool</td>\n",
       "      <td>1614</td>\n",
       "      <td>2</td>\n",
       "      <td>0</td>\n",
       "      <td>0.00000</td>\n",
       "      <td>NaN</td>\n",
       "      <td>NaN</td>\n",
       "      <td>NaN</td>\n",
       "      <td>NaN</td>\n",
       "      <td>NaN</td>\n",
       "      <td>NaN</td>\n",
       "      <td>NaN</td>\n",
       "    </tr>\n",
       "    <tr>\n",
       "      <th>10</th>\n",
       "      <td>OtherFuelUse</td>\n",
       "      <td>bool</td>\n",
       "      <td>1614</td>\n",
       "      <td>2</td>\n",
       "      <td>0</td>\n",
       "      <td>0.00000</td>\n",
       "      <td>NaN</td>\n",
       "      <td>NaN</td>\n",
       "      <td>NaN</td>\n",
       "      <td>NaN</td>\n",
       "      <td>NaN</td>\n",
       "      <td>NaN</td>\n",
       "      <td>NaN</td>\n",
       "    </tr>\n",
       "    <tr>\n",
       "      <th>11</th>\n",
       "      <td>SiteEnergyUse(kBtu)</td>\n",
       "      <td>float64</td>\n",
       "      <td>1614</td>\n",
       "      <td>1613</td>\n",
       "      <td>0</td>\n",
       "      <td>0.00000</td>\n",
       "      <td>6301646.01963</td>\n",
       "      <td>11441.00000</td>\n",
       "      <td>1188142.75000</td>\n",
       "      <td>2397995.50000</td>\n",
       "      <td>6499306.00000</td>\n",
       "      <td>295812640.00000</td>\n",
       "      <td>13693695.87053</td>\n",
       "    </tr>\n",
       "    <tr>\n",
       "      <th>12</th>\n",
       "      <td>GHGEmissions(MetricTonsCO2e)</td>\n",
       "      <td>float64</td>\n",
       "      <td>1614</td>\n",
       "      <td>1541</td>\n",
       "      <td>0</td>\n",
       "      <td>0.00000</td>\n",
       "      <td>134.64926</td>\n",
       "      <td>0.08000</td>\n",
       "      <td>19.08000</td>\n",
       "      <td>47.22000</td>\n",
       "      <td>131.02750</td>\n",
       "      <td>10780.64000</td>\n",
       "      <td>422.52765</td>\n",
       "    </tr>\n",
       "    <tr>\n",
       "      <th>1</th>\n",
       "      <td>NumberofBuildings</td>\n",
       "      <td>float64</td>\n",
       "      <td>1610</td>\n",
       "      <td>5</td>\n",
       "      <td>4</td>\n",
       "      <td>0.25000</td>\n",
       "      <td>1.01118</td>\n",
       "      <td>1.00000</td>\n",
       "      <td>1.00000</td>\n",
       "      <td>1.00000</td>\n",
       "      <td>1.00000</td>\n",
       "      <td>11.00000</td>\n",
       "      <td>0.28403</td>\n",
       "    </tr>\n",
       "    <tr>\n",
       "      <th>7</th>\n",
       "      <td>Electricity_ratio</td>\n",
       "      <td>float64</td>\n",
       "      <td>1608</td>\n",
       "      <td>1251</td>\n",
       "      <td>6</td>\n",
       "      <td>0.37000</td>\n",
       "      <td>70.98046</td>\n",
       "      <td>0.00033</td>\n",
       "      <td>50.85902</td>\n",
       "      <td>72.61001</td>\n",
       "      <td>100.00326</td>\n",
       "      <td>100.00874</td>\n",
       "      <td>25.74438</td>\n",
       "    </tr>\n",
       "    <tr>\n",
       "      <th>3</th>\n",
       "      <td>PropertyGFATotal</td>\n",
       "      <td>float64</td>\n",
       "      <td>1605</td>\n",
       "      <td>1527</td>\n",
       "      <td>9</td>\n",
       "      <td>0.56000</td>\n",
       "      <td>91161.60436</td>\n",
       "      <td>11285.00000</td>\n",
       "      <td>28844.00000</td>\n",
       "      <td>47602.00000</td>\n",
       "      <td>98220.00000</td>\n",
       "      <td>1158691.00000</td>\n",
       "      <td>115527.56070</td>\n",
       "    </tr>\n",
       "    <tr>\n",
       "      <th>0</th>\n",
       "      <td>NumberofFloors</td>\n",
       "      <td>float64</td>\n",
       "      <td>1585</td>\n",
       "      <td>28</td>\n",
       "      <td>29</td>\n",
       "      <td>1.80000</td>\n",
       "      <td>3.44606</td>\n",
       "      <td>1.00000</td>\n",
       "      <td>1.00000</td>\n",
       "      <td>2.00000</td>\n",
       "      <td>4.00000</td>\n",
       "      <td>33.00000</td>\n",
       "      <td>3.79091</td>\n",
       "    </tr>\n",
       "  </tbody>\n",
       "</table>\n",
       "</div>"
      ],
      "text/plain": [
       "                            name     type  records  unique  # NaN   % NaN  \\\n",
       "2                    BuildingAge  float64     1614     113      0 0.00000   \n",
       "4        PropertyGFATotal-binned   object     1614       3      0 0.00000   \n",
       "5                   Neighborhood   object     1614      13      0 0.00000   \n",
       "6           renamed_PropertyType   object     1614       8      0 0.00000   \n",
       "8                     NaturalGas     bool     1614       2      0 0.00000   \n",
       "9                       SteamUse     bool     1614       2      0 0.00000   \n",
       "10                  OtherFuelUse     bool     1614       2      0 0.00000   \n",
       "11           SiteEnergyUse(kBtu)  float64     1614    1613      0 0.00000   \n",
       "12  GHGEmissions(MetricTonsCO2e)  float64     1614    1541      0 0.00000   \n",
       "1              NumberofBuildings  float64     1610       5      4 0.25000   \n",
       "7              Electricity_ratio  float64     1608    1251      6 0.37000   \n",
       "3               PropertyGFATotal  float64     1605    1527      9 0.56000   \n",
       "0                 NumberofFloors  float64     1585      28     29 1.80000   \n",
       "\n",
       "            mean         min           25%           50%           75%  \\\n",
       "2       59.44796     6.00000      32.00000      56.00000      91.00000   \n",
       "4            NaN         NaN           NaN           NaN           NaN   \n",
       "5            NaN         NaN           NaN           NaN           NaN   \n",
       "6            NaN         NaN           NaN           NaN           NaN   \n",
       "8            NaN         NaN           NaN           NaN           NaN   \n",
       "9            NaN         NaN           NaN           NaN           NaN   \n",
       "10           NaN         NaN           NaN           NaN           NaN   \n",
       "11 6301646.01963 11441.00000 1188142.75000 2397995.50000 6499306.00000   \n",
       "12     134.64926     0.08000      19.08000      47.22000     131.02750   \n",
       "1        1.01118     1.00000       1.00000       1.00000       1.00000   \n",
       "7       70.98046     0.00033      50.85902      72.61001     100.00326   \n",
       "3    91161.60436 11285.00000   28844.00000   47602.00000   98220.00000   \n",
       "0        3.44606     1.00000       1.00000       2.00000       4.00000   \n",
       "\n",
       "               max            std  \n",
       "2        121.00000       32.75537  \n",
       "4              NaN            NaN  \n",
       "5              NaN            NaN  \n",
       "6              NaN            NaN  \n",
       "8              NaN            NaN  \n",
       "9              NaN            NaN  \n",
       "10             NaN            NaN  \n",
       "11 295812640.00000 13693695.87053  \n",
       "12     10780.64000      422.52765  \n",
       "1         11.00000        0.28403  \n",
       "7        100.00874       25.74438  \n",
       "3    1158691.00000   115527.56070  \n",
       "0         33.00000        3.79091  "
      ]
     },
     "metadata": {},
     "output_type": "display_data"
    }
   ],
   "source": [
    "df_analysis(data, \"data\", type_analysis=\"complete\")"
   ]
  },
  {
   "cell_type": "markdown",
   "id": "10b8d6da-0849-4f8f-8722-d0898e7b623e",
   "metadata": {
    "tags": []
   },
   "source": [
    "<div style=\"background-color: #506AB9;\" >\n",
    "    <h2 style=\"margin: auto; padding: 20px; color:#fff; \">3. Splitting data (SiteEnergyUse(kBtu)</h2>\n",
    "</div>"
   ]
  },
  {
   "cell_type": "markdown",
   "id": "1b6a99ac-41c2-4778-8b9b-99779277935f",
   "metadata": {},
   "source": [
    "<div style=\"background-color: #6D83C5;\" >\n",
    "    <h3 style=\"margin: auto; padding: 20px; color:#fff; \">3.1. Splitting dataset based on the features and targets</h3>\n",
    "</div>"
   ]
  },
  {
   "cell_type": "markdown",
   "id": "b7c00731-17d8-4d02-8519-2dc468c86feb",
   "metadata": {},
   "source": [
    "<div class=\"alert alert-block alert-info\">\n",
    "    Working with a copy\n",
    "</div>"
   ]
  },
  {
   "cell_type": "code",
   "execution_count": 7,
   "id": "14fc5986-9793-496e-abdd-9f35c6bf7b6d",
   "metadata": {},
   "outputs": [],
   "source": [
    "data_trans = data.copy()"
   ]
  },
  {
   "cell_type": "code",
   "execution_count": 8,
   "id": "00b98811-cb08-4e70-ac00-d65ea957ec8c",
   "metadata": {},
   "outputs": [
    {
     "data": {
      "text/html": [
       "<div>\n",
       "<style scoped>\n",
       "    .dataframe tbody tr th:only-of-type {\n",
       "        vertical-align: middle;\n",
       "    }\n",
       "\n",
       "    .dataframe tbody tr th {\n",
       "        vertical-align: top;\n",
       "    }\n",
       "\n",
       "    .dataframe thead th {\n",
       "        text-align: right;\n",
       "    }\n",
       "</style>\n",
       "<table border=\"1\" class=\"dataframe\">\n",
       "  <thead>\n",
       "    <tr style=\"text-align: right;\">\n",
       "      <th></th>\n",
       "      <th>OSEBuildingID</th>\n",
       "      <th>Neighborhood</th>\n",
       "      <th>NumberofFloors</th>\n",
       "      <th>PropertyGFATotal</th>\n",
       "      <th>SiteEnergyUse(kBtu)</th>\n",
       "      <th>GHGEmissions(MetricTonsCO2e)</th>\n",
       "      <th>ENERGYSTARScore</th>\n",
       "      <th>NumberofBuildings</th>\n",
       "      <th>BuildingAge</th>\n",
       "      <th>Electricity_ratio</th>\n",
       "      <th>NaturalGas</th>\n",
       "      <th>SteamUse</th>\n",
       "      <th>OtherFuelUse</th>\n",
       "      <th>renamed_PropertyType</th>\n",
       "    </tr>\n",
       "  </thead>\n",
       "  <tbody>\n",
       "    <tr>\n",
       "      <th>0</th>\n",
       "      <td>1</td>\n",
       "      <td>DOWNTOWN</td>\n",
       "      <td>12.0</td>\n",
       "      <td>88434.0</td>\n",
       "      <td>6981428.0</td>\n",
       "      <td>249.43</td>\n",
       "      <td>65.0</td>\n",
       "      <td>1.0</td>\n",
       "      <td>94.0</td>\n",
       "      <td>52.79951</td>\n",
       "      <td>True</td>\n",
       "      <td>True</td>\n",
       "      <td>False</td>\n",
       "      <td>Hotel</td>\n",
       "    </tr>\n",
       "    <tr>\n",
       "      <th>1</th>\n",
       "      <td>2</td>\n",
       "      <td>DOWNTOWN</td>\n",
       "      <td>11.0</td>\n",
       "      <td>103566.0</td>\n",
       "      <td>8354235.0</td>\n",
       "      <td>263.51</td>\n",
       "      <td>51.0</td>\n",
       "      <td>1.0</td>\n",
       "      <td>25.0</td>\n",
       "      <td>46.74768</td>\n",
       "      <td>True</td>\n",
       "      <td>False</td>\n",
       "      <td>False</td>\n",
       "      <td>Hotel</td>\n",
       "    </tr>\n",
       "    <tr>\n",
       "      <th>2</th>\n",
       "      <td>5</td>\n",
       "      <td>DOWNTOWN</td>\n",
       "      <td>10.0</td>\n",
       "      <td>61320.0</td>\n",
       "      <td>28229320.0</td>\n",
       "      <td>1936.34</td>\n",
       "      <td>1.0</td>\n",
       "      <td>1.0</td>\n",
       "      <td>95.0</td>\n",
       "      <td>9.80903</td>\n",
       "      <td>True</td>\n",
       "      <td>True</td>\n",
       "      <td>False</td>\n",
       "      <td>Hotel</td>\n",
       "    </tr>\n",
       "    <tr>\n",
       "      <th>3</th>\n",
       "      <td>8</td>\n",
       "      <td>DOWNTOWN</td>\n",
       "      <td>18.0</td>\n",
       "      <td>175580.0</td>\n",
       "      <td>14829099.0</td>\n",
       "      <td>507.70</td>\n",
       "      <td>67.0</td>\n",
       "      <td>1.0</td>\n",
       "      <td>41.0</td>\n",
       "      <td>40.90771</td>\n",
       "      <td>True</td>\n",
       "      <td>False</td>\n",
       "      <td>False</td>\n",
       "      <td>Hotel</td>\n",
       "    </tr>\n",
       "    <tr>\n",
       "      <th>4</th>\n",
       "      <td>10</td>\n",
       "      <td>DOWNTOWN</td>\n",
       "      <td>11.0</td>\n",
       "      <td>83008.0</td>\n",
       "      <td>6252842.0</td>\n",
       "      <td>208.46</td>\n",
       "      <td>25.0</td>\n",
       "      <td>1.0</td>\n",
       "      <td>95.0</td>\n",
       "      <td>42.85568</td>\n",
       "      <td>True</td>\n",
       "      <td>False</td>\n",
       "      <td>False</td>\n",
       "      <td>Hotel</td>\n",
       "    </tr>\n",
       "  </tbody>\n",
       "</table>\n",
       "</div>"
      ],
      "text/plain": [
       "   OSEBuildingID Neighborhood  NumberofFloors  PropertyGFATotal  \\\n",
       "0              1     DOWNTOWN            12.0           88434.0   \n",
       "1              2     DOWNTOWN            11.0          103566.0   \n",
       "2              5     DOWNTOWN            10.0           61320.0   \n",
       "3              8     DOWNTOWN            18.0          175580.0   \n",
       "4             10     DOWNTOWN            11.0           83008.0   \n",
       "\n",
       "   SiteEnergyUse(kBtu)  GHGEmissions(MetricTonsCO2e)  ENERGYSTARScore  \\\n",
       "0            6981428.0                        249.43             65.0   \n",
       "1            8354235.0                        263.51             51.0   \n",
       "2           28229320.0                       1936.34              1.0   \n",
       "3           14829099.0                        507.70             67.0   \n",
       "4            6252842.0                        208.46             25.0   \n",
       "\n",
       "   NumberofBuildings  BuildingAge  Electricity_ratio  NaturalGas  SteamUse  \\\n",
       "0                1.0         94.0           52.79951        True      True   \n",
       "1                1.0         25.0           46.74768        True     False   \n",
       "2                1.0         95.0            9.80903        True      True   \n",
       "3                1.0         41.0           40.90771        True     False   \n",
       "4                1.0         95.0           42.85568        True     False   \n",
       "\n",
       "   OtherFuelUse renamed_PropertyType  \n",
       "0         False                Hotel  \n",
       "1         False                Hotel  \n",
       "2         False                Hotel  \n",
       "3         False                Hotel  \n",
       "4         False                Hotel  "
      ]
     },
     "execution_count": 8,
     "metadata": {},
     "output_type": "execute_result"
    }
   ],
   "source": [
    "data_trans.head()"
   ]
  },
  {
   "cell_type": "markdown",
   "id": "a8fd477b-806c-4c40-b17f-5ebf64502d94",
   "metadata": {},
   "source": [
    "<div class=\"alert alert-block alert-info\">\n",
    "    Making log transformation on specific columns based on the analysis conclusions done\n",
    "</div>"
   ]
  },
  {
   "cell_type": "code",
   "execution_count": null,
   "id": "dca1933a-dc12-423f-bdea-47bb3786ca2c",
   "metadata": {},
   "outputs": [],
   "source": [
    "LOG_TRANS_FEATURES = [\"PropertyGFABuilding(s)\", \"SiteEnergyUse(kBtu)\", \"GHGEmissions(MetricTonsCO2e)\"]"
   ]
  },
  {
   "cell_type": "code",
   "execution_count": null,
   "id": "1527e16d-82f8-4bfb-b575-eae4b6c9acc9",
   "metadata": {},
   "outputs": [],
   "source": [
    "for col in LOG_TRANS_FEATURES:\n",
    "    data_trans[col] = np.log2(data_trans[col])"
   ]
  },
  {
   "cell_type": "code",
   "execution_count": null,
   "id": "df703e56-68aa-41d7-848e-03abe5620329",
   "metadata": {},
   "outputs": [],
   "source": [
    "data_trans.head()"
   ]
  },
  {
   "cell_type": "markdown",
   "id": "dd128828-489d-4fb4-a563-bbe760b21034",
   "metadata": {},
   "source": [
    "<div class=\"alert alert-block alert-info\">\n",
    "    Splitting dataset based on the features and targets\n",
    "</div>"
   ]
  },
  {
   "cell_type": "code",
   "execution_count": 9,
   "id": "c18e6dec-5602-4703-af96-444c2f651fed",
   "metadata": {},
   "outputs": [],
   "source": [
    "X = data_trans.drop(columns=[\"OSEBuildingID\", \"SiteEnergyUse(kBtu)\", \"GHGEmissions(MetricTonsCO2e)\", \"ENERGYSTARScore\"])"
   ]
  },
  {
   "cell_type": "code",
   "execution_count": 10,
   "id": "1ea77c70-adae-4918-91cb-d1ac9913ffe8",
   "metadata": {},
   "outputs": [
    {
     "data": {
      "text/html": [
       "<div>\n",
       "<style scoped>\n",
       "    .dataframe tbody tr th:only-of-type {\n",
       "        vertical-align: middle;\n",
       "    }\n",
       "\n",
       "    .dataframe tbody tr th {\n",
       "        vertical-align: top;\n",
       "    }\n",
       "\n",
       "    .dataframe thead th {\n",
       "        text-align: right;\n",
       "    }\n",
       "</style>\n",
       "<table border=\"1\" class=\"dataframe\">\n",
       "  <thead>\n",
       "    <tr style=\"text-align: right;\">\n",
       "      <th></th>\n",
       "      <th>OSEBuildingID</th>\n",
       "      <th>Neighborhood</th>\n",
       "      <th>NumberofFloors</th>\n",
       "      <th>PropertyGFATotal</th>\n",
       "      <th>SiteEnergyUse(kBtu)</th>\n",
       "      <th>GHGEmissions(MetricTonsCO2e)</th>\n",
       "      <th>ENERGYSTARScore</th>\n",
       "      <th>NumberofBuildings</th>\n",
       "      <th>BuildingAge</th>\n",
       "      <th>Electricity_ratio</th>\n",
       "      <th>NaturalGas</th>\n",
       "      <th>SteamUse</th>\n",
       "      <th>OtherFuelUse</th>\n",
       "      <th>renamed_PropertyType</th>\n",
       "    </tr>\n",
       "  </thead>\n",
       "  <tbody>\n",
       "    <tr>\n",
       "      <th>0</th>\n",
       "      <td>1</td>\n",
       "      <td>DOWNTOWN</td>\n",
       "      <td>12.0</td>\n",
       "      <td>88434.0</td>\n",
       "      <td>6981428.0</td>\n",
       "      <td>249.43</td>\n",
       "      <td>65.0</td>\n",
       "      <td>1.0</td>\n",
       "      <td>94.0</td>\n",
       "      <td>52.79951</td>\n",
       "      <td>True</td>\n",
       "      <td>True</td>\n",
       "      <td>False</td>\n",
       "      <td>Hotel</td>\n",
       "    </tr>\n",
       "    <tr>\n",
       "      <th>1</th>\n",
       "      <td>2</td>\n",
       "      <td>DOWNTOWN</td>\n",
       "      <td>11.0</td>\n",
       "      <td>103566.0</td>\n",
       "      <td>8354235.0</td>\n",
       "      <td>263.51</td>\n",
       "      <td>51.0</td>\n",
       "      <td>1.0</td>\n",
       "      <td>25.0</td>\n",
       "      <td>46.74768</td>\n",
       "      <td>True</td>\n",
       "      <td>False</td>\n",
       "      <td>False</td>\n",
       "      <td>Hotel</td>\n",
       "    </tr>\n",
       "    <tr>\n",
       "      <th>2</th>\n",
       "      <td>5</td>\n",
       "      <td>DOWNTOWN</td>\n",
       "      <td>10.0</td>\n",
       "      <td>61320.0</td>\n",
       "      <td>28229320.0</td>\n",
       "      <td>1936.34</td>\n",
       "      <td>1.0</td>\n",
       "      <td>1.0</td>\n",
       "      <td>95.0</td>\n",
       "      <td>9.80903</td>\n",
       "      <td>True</td>\n",
       "      <td>True</td>\n",
       "      <td>False</td>\n",
       "      <td>Hotel</td>\n",
       "    </tr>\n",
       "    <tr>\n",
       "      <th>3</th>\n",
       "      <td>8</td>\n",
       "      <td>DOWNTOWN</td>\n",
       "      <td>18.0</td>\n",
       "      <td>175580.0</td>\n",
       "      <td>14829099.0</td>\n",
       "      <td>507.70</td>\n",
       "      <td>67.0</td>\n",
       "      <td>1.0</td>\n",
       "      <td>41.0</td>\n",
       "      <td>40.90771</td>\n",
       "      <td>True</td>\n",
       "      <td>False</td>\n",
       "      <td>False</td>\n",
       "      <td>Hotel</td>\n",
       "    </tr>\n",
       "    <tr>\n",
       "      <th>4</th>\n",
       "      <td>10</td>\n",
       "      <td>DOWNTOWN</td>\n",
       "      <td>11.0</td>\n",
       "      <td>83008.0</td>\n",
       "      <td>6252842.0</td>\n",
       "      <td>208.46</td>\n",
       "      <td>25.0</td>\n",
       "      <td>1.0</td>\n",
       "      <td>95.0</td>\n",
       "      <td>42.85568</td>\n",
       "      <td>True</td>\n",
       "      <td>False</td>\n",
       "      <td>False</td>\n",
       "      <td>Hotel</td>\n",
       "    </tr>\n",
       "  </tbody>\n",
       "</table>\n",
       "</div>"
      ],
      "text/plain": [
       "   OSEBuildingID Neighborhood  NumberofFloors  PropertyGFATotal  \\\n",
       "0              1     DOWNTOWN            12.0           88434.0   \n",
       "1              2     DOWNTOWN            11.0          103566.0   \n",
       "2              5     DOWNTOWN            10.0           61320.0   \n",
       "3              8     DOWNTOWN            18.0          175580.0   \n",
       "4             10     DOWNTOWN            11.0           83008.0   \n",
       "\n",
       "   SiteEnergyUse(kBtu)  GHGEmissions(MetricTonsCO2e)  ENERGYSTARScore  \\\n",
       "0            6981428.0                        249.43             65.0   \n",
       "1            8354235.0                        263.51             51.0   \n",
       "2           28229320.0                       1936.34              1.0   \n",
       "3           14829099.0                        507.70             67.0   \n",
       "4            6252842.0                        208.46             25.0   \n",
       "\n",
       "   NumberofBuildings  BuildingAge  Electricity_ratio  NaturalGas  SteamUse  \\\n",
       "0                1.0         94.0           52.79951        True      True   \n",
       "1                1.0         25.0           46.74768        True     False   \n",
       "2                1.0         95.0            9.80903        True      True   \n",
       "3                1.0         41.0           40.90771        True     False   \n",
       "4                1.0         95.0           42.85568        True     False   \n",
       "\n",
       "   OtherFuelUse renamed_PropertyType  \n",
       "0         False                Hotel  \n",
       "1         False                Hotel  \n",
       "2         False                Hotel  \n",
       "3         False                Hotel  \n",
       "4         False                Hotel  "
      ]
     },
     "execution_count": 10,
     "metadata": {},
     "output_type": "execute_result"
    }
   ],
   "source": [
    "data_trans.head()"
   ]
  },
  {
   "cell_type": "code",
   "execution_count": null,
   "id": "f72e0eb6-95af-4925-809b-48d2bc3b7d34",
   "metadata": {},
   "outputs": [],
   "source": [
    "y_energy = data_trans.iloc[:,-2]"
   ]
  },
  {
   "cell_type": "markdown",
   "id": "051a5a77-6752-4187-a81e-facfefe6608d",
   "metadata": {},
   "source": [
    "<div style=\"background-color: #6D83C5;\" >\n",
    "    <h3 style=\"margin: auto; padding: 20px; color:#fff; \">3.2. Train/Test split</h3>\n",
    "</div>"
   ]
  },
  {
   "cell_type": "markdown",
   "id": "4dfbaf08-c144-4988-9cd3-3b7c89e98e9b",
   "metadata": {},
   "source": [
    "<div class=\"alert alert-block alert-info\">\n",
    "    At this point, we are going to predict <b>SiteEnergyUse(kBtu)</b>\n",
    "</div>"
   ]
  },
  {
   "cell_type": "code",
   "execution_count": null,
   "id": "40737922-f686-44c8-81f2-67292f11b906",
   "metadata": {},
   "outputs": [],
   "source": [
    "X_train, X_test, y_train, y_test = train_test_split(X, y_energy, test_size=0.3, random_state=0)"
   ]
  },
  {
   "cell_type": "code",
   "execution_count": null,
   "id": "1ec5c9b5-2fe7-436d-8cd4-29578467bd12",
   "metadata": {},
   "outputs": [],
   "source": [
    "print(\"X_train: {}\".format(X_train.shape))\n",
    "print(\"y_train: {}\".format(y_train.shape))"
   ]
  },
  {
   "cell_type": "code",
   "execution_count": null,
   "id": "24f50a50-6f6e-4f5b-a8a9-f47a85819a52",
   "metadata": {},
   "outputs": [],
   "source": [
    "X_train.head()"
   ]
  },
  {
   "cell_type": "markdown",
   "id": "528a69e3-35b9-488d-94ce-0b4d051529a8",
   "metadata": {},
   "source": [
    "<div style=\"background-color: #6D83C5;\" >\n",
    "    <h3 style=\"margin: auto; padding: 20px; color:#fff; \">3.3. Identifying types of features</h3>\n",
    "</div>"
   ]
  },
  {
   "cell_type": "code",
   "execution_count": null,
   "id": "ba0f376a-fbd9-485e-b093-8d40d18c6b54",
   "metadata": {},
   "outputs": [],
   "source": [
    "NUMERICAL_FEATURES = [\"NumberofFloors\", \"NumberofBuildings\", \"BuildingAge\", \"PropertyGFATotal\", \"Electricity_ratio\", \"NaturalGas\", \"SteamUse\", \"OtherFuelUse\"]\n",
    "CATEGORICAL_FEATURES = [\"Neighborhood\", \"renamed_PropertyType\"]"
   ]
  },
  {
   "cell_type": "markdown",
   "id": "3de540e5-1261-496d-8050-216637998259",
   "metadata": {},
   "source": [
    "<div style=\"background-color: #6D83C5;\" >\n",
    "    <h2 style=\"margin: auto; padding: 20px; color:#fff; \">4. Data preprocessing</h2>\n",
    "</div>"
   ]
  },
  {
   "cell_type": "markdown",
   "id": "8a31d329-ea06-43d4-87be-54bd6e4d3c83",
   "metadata": {
    "tags": []
   },
   "source": [
    "<div class=\"alert alert-block alert-info\">\n",
    "     We are going to process the features as follows<br><br>\n",
    "    <b>Numerical features</b>\n",
    "    <ul style=\"list-style-type: square;\">\n",
    "        <li>Normalizing the features through StandardScaler due to all of them do not have a normal distribution</li>\n",
    "    </ul> \n",
    "    <b>Categorical features</b>\n",
    "    <ul style=\"list-style-type: square;\">\n",
    "        <li>Transforming all features through LabelEncoder</li>\n",
    "    </ul>  \n",
    "</div>"
   ]
  },
  {
   "cell_type": "code",
   "execution_count": null,
   "id": "b50a14e6-0afe-4ce2-81fc-26b6b27d59cc",
   "metadata": {},
   "outputs": [],
   "source": [
    "numerical_pipeline = make_pipeline(StandardScaler())\n",
    "\n",
    "categorical_pipeline = make_pipeline(OneHotEncoder())"
   ]
  },
  {
   "cell_type": "code",
   "execution_count": null,
   "id": "d3904fa0-ec57-4dce-bf06-f206a7712e5a",
   "metadata": {},
   "outputs": [],
   "source": [
    "preprocessor = make_column_transformer(\n",
    "                (numerical_pipeline, NUMERICAL_FEATURES), \n",
    "                (categorical_pipeline, CATEGORICAL_FEATURES))"
   ]
  },
  {
   "cell_type": "markdown",
   "id": "947ba407-6f15-49ed-9d71-e77c2038fbb9",
   "metadata": {
    "tags": []
   },
   "source": [
    "<div style=\"background-color: #6D83C5;\" >\n",
    "    <h2 style=\"margin: auto; padding: 20px; color:#fff; \">5. Modelisation</h2>\n",
    "</div>"
   ]
  },
  {
   "cell_type": "markdown",
   "id": "fdd7ea7a-4f38-4c74-8070-6f236a0bbf11",
   "metadata": {},
   "source": [
    "<div style=\"background-color: #6D83C5;\" >\n",
    "    <h3 style=\"margin: auto; padding: 20px; color:#fff; \">5.1. Supervised models</h3>\n",
    "</div>"
   ]
  },
  {
   "cell_type": "markdown",
   "id": "f18635cf-be6e-4380-b077-55a2d94f7a5a",
   "metadata": {
    "tags": []
   },
   "source": [
    "<div class=\"alert alert-block alert-info\">\n",
    "    List of models to use. for now, in default mode\n",
    "</div>"
   ]
  },
  {
   "cell_type": "code",
   "execution_count": null,
   "id": "1a599428-2197-4ac3-a458-759cf781ad5f",
   "metadata": {
    "tags": []
   },
   "outputs": [],
   "source": [
    "regressors = {\n",
    "    \"Linear\" : LinearRegression(),\n",
    "    \"KNeighbors\" : KNeighborsRegressor(n_neighbors=2),\n",
    "    \"Lasso\" : Lasso(),\n",
    "    \"SVR\" : SVR(),\n",
    "    \"Random Forest\" : RandomForestRegressor(),\n",
    "    \"Gradient Boosting\" : GradientBoostingRegressor()\n",
    "}"
   ]
  },
  {
   "cell_type": "markdown",
   "id": "0d1d0ff1-158a-4641-ab11-541d54e6e312",
   "metadata": {
    "tags": []
   },
   "source": [
    "<div class=\"alert alert-block alert-info\">\n",
    "    Models metrics\n",
    "</div>"
   ]
  },
  {
   "cell_type": "code",
   "execution_count": null,
   "id": "1f6e5c3d-391b-4c6c-b925-2b0e7d8f1c69",
   "metadata": {},
   "outputs": [],
   "source": [
    "# Dataframe with y_test_transformed to compared againts predictions\n",
    "df_y_pred = pd.DataFrame({\n",
    "        \"Model\" : \"Original\",\n",
    "        \"y_pred\" : y_test\n",
    "})\n",
    "\n",
    "# List of metrics results for each models \n",
    "LIST_MODEL, LIST_R2SCORE, LIST_MAE, LIST_RMSE, LIST_DURATION  = ([] for i in range(5))\n",
    "\n",
    "for k, v in regressors.items():\n",
    "    \n",
    "    start_time_model = timeit.default_timer()\n",
    "    \n",
    "    # Data preprocessing based on the pipelines and the regressors setup\n",
    "    reg = make_pipeline(preprocessor, v)\n",
    "    \n",
    "    # Fit the model using the training data and training target\n",
    "    reg.fit(X_train, y_train)\n",
    "    \n",
    "    # Making the prediction using the testing data\n",
    "    y_pred = reg.predict(X_test)\n",
    "    \n",
    "    end_time_model =  round(timeit.default_timer() - start_time_model, 3)\n",
    "    \n",
    "    # Concatenating predictions to compare against y_test_transformed\n",
    "    df_temp = pd.DataFrame({\n",
    "        \"Model\" : k,\n",
    "        \"y_pred\" : y_pred\n",
    "    })\n",
    "    \n",
    "    # Concatenating predictions to compare against y_test_transformed\n",
    "    df_y_pred = pd.concat([df_y_pred, df_temp])\n",
    "    \n",
    "    # Calculating R2 Coefficient of determination for each model (Best possible score is 1.0, lower values are worse.)\n",
    "    R2SCORE = round(1 - r2_score(y_test, y_pred), 3)\n",
    "    \n",
    "    # Calculating the Mean absolute error (The best value is 0.0)\n",
    "    MAE = round(mean_absolute_error(y_test, y_pred), 3)\n",
    "    \n",
    "    # Calculating Root Mean Square Error for each model (The best value is 0.0)\n",
    "    RMSE = round(mean_squared_error(y_test, y_pred, squared=False), 3)\n",
    "    \n",
    "    # Adding results into LIST\n",
    "    LIST_MODEL.append(k)\n",
    "    LIST_R2SCORE.append(R2SCORE)\n",
    "    LIST_MAE.append(MAE)\n",
    "    LIST_RMSE.append(RMSE)\n",
    "    LIST_DURATION.append(end_time_model)"
   ]
  },
  {
   "cell_type": "markdown",
   "id": "635f4c98-65e8-4707-bcaf-59b8a66905ca",
   "metadata": {},
   "source": [
    "<div class=\"alert alert-block alert-info\">\n",
    "    Comparison of energy predictions against original data\n",
    "</div>"
   ]
  },
  {
   "cell_type": "code",
   "execution_count": null,
   "id": "25a223ae-8b16-44ac-9f39-ee0b741a3412",
   "metadata": {
    "tags": []
   },
   "outputs": [],
   "source": [
    "plt.figure(figsize=[10,6])\n",
    "sns.boxplot(x=df_y_pred[\"Model\"], y=df_y_pred[\"y_pred\"], showmeans=True, \n",
    "            meanprops={\"markerfacecolor\":\"white\", \"markeredgecolor\":\"blue\"})\n",
    "plt.title(\"Comparison of energy predictions (default mode)\", size=16)\n",
    "plt.xlabel(\"Original target and targets predicted\", size=12)\n",
    "plt.tight_layout()\n",
    "plt.savefig(\"img/Comparison-of-imputations.png\")\n",
    "plt.show()"
   ]
  },
  {
   "cell_type": "code",
   "execution_count": null,
   "id": "65155808-ebd1-4741-88a0-70119b966a19",
   "metadata": {
    "tags": []
   },
   "outputs": [],
   "source": [
    "plt.figure(figsize=[10,6])\n",
    "sns.boxplot(x=df_y_pred[\"Model\"], y=df_y_pred[\"y_pred\"], showmeans=True, \n",
    "            meanprops={\"markerfacecolor\":\"white\", \"markeredgecolor\":\"blue\"})\n",
    "plt.title(\"Comparison of energy predictions (default mode)\", size=16)\n",
    "plt.xlabel(\"Original target and targets predicted\", size=12)\n",
    "plt.tight_layout()\n",
    "plt.savefig(\"img/Comparison-of-imputations.png\")\n",
    "plt.show()"
   ]
  },
  {
   "cell_type": "code",
   "execution_count": null,
   "id": "7e63d271-039b-45cb-81e0-96fd02e06a36",
   "metadata": {
    "tags": []
   },
   "outputs": [],
   "source": [
    "plt.figure(figsize=[10,6])\n",
    "sns.boxplot(x=df_y_pred[\"Model\"], y=df_y_pred[\"y_pred\"], showmeans=True, \n",
    "            meanprops={\"markerfacecolor\":\"white\", \"markeredgecolor\":\"blue\"})\n",
    "plt.title(\"Comparison of energy predictions (default mode)\", size=16)\n",
    "plt.xlabel(\"Original target and targets predicted\", size=12)\n",
    "plt.tight_layout()\n",
    "plt.savefig(\"img/Comparison-of-imputations.png\")\n",
    "plt.show()"
   ]
  },
  {
   "cell_type": "code",
   "execution_count": null,
   "id": "c79d9d50-ef07-405b-907b-9c6647b32c64",
   "metadata": {
    "tags": []
   },
   "outputs": [],
   "source": [
    "plt.figure(figsize=[10,6])\n",
    "sns.boxplot(x=df_y_pred[\"Model\"], y=df_y_pred[\"y_pred\"], showmeans=True, \n",
    "            meanprops={\"markerfacecolor\":\"white\", \"markeredgecolor\":\"blue\"})\n",
    "plt.title(\"Comparison of energy predictions (default mode)\", size=16)\n",
    "plt.xlabel(\"Original target and targets predicted\", size=12)\n",
    "plt.tight_layout()\n",
    "plt.savefig(\"img/Comparison-of-imputations.png\")\n",
    "plt.show()"
   ]
  },
  {
   "cell_type": "markdown",
   "id": "f82c588b-42ef-4740-9c78-99cbebd41919",
   "metadata": {
    "tags": []
   },
   "source": [
    "<div class=\"alert alert-block alert-success\">\n",
    "    <p><b>Observations / Conclusions</b></p>\n",
    "    \n",
    "    <p>At this point, we can see that <b>Kneighbors</b>, <b>Random Forest</b> and <b>Gradient Boosting</b> are the most <b>similar to Original data</b></p>\n",
    "</div>"
   ]
  },
  {
   "cell_type": "markdown",
   "id": "433faa96-c53f-43ec-8fbc-5674fbe0e669",
   "metadata": {},
   "source": [
    "<div style=\"background-color: #6D83C5;\" >\n",
    "    <h3 style=\"margin: auto; padding: 20px; color:#fff; \">5.2. Predictions metrics</h3>\n",
    "</div>"
   ]
  },
  {
   "cell_type": "markdown",
   "id": "d0cc8513-210a-43b5-b844-8ceffd0deeee",
   "metadata": {
    "tags": []
   },
   "source": [
    "<div class=\"alert alert-block alert-info\">\n",
    "    Creating dataframe based on metrics results for each models\n",
    "</div>"
   ]
  },
  {
   "cell_type": "code",
   "execution_count": null,
   "id": "5766294b-496d-4ec0-9b98-bb8a6c444c2f",
   "metadata": {
    "jupyter": {
     "source_hidden": true
    },
    "tags": []
   },
   "outputs": [],
   "source": [
    "df_models_metrics = pd.DataFrame({\n",
    "    \"Model\" : LIST_MODEL,\n",
    "    \"R2\".translate(SUP) : LIST_R2SCORE, \n",
    "    \"MAE\" : LIST_MAE,    \n",
    "    \"RMSE\" : LIST_RMSE,\n",
    "    \"Duration\" : LIST_DURATION,\n",
    "})\n",
    "\n",
    "df_models_metrics"
   ]
  },
  {
   "cell_type": "code",
   "execution_count": null,
   "id": "47daae42-bc18-4233-a952-249fac42781a",
   "metadata": {
    "jupyter": {
     "source_hidden": true
    },
    "tags": []
   },
   "outputs": [],
   "source": [
    "df_models_metrics = pd.DataFrame({\n",
    "    \"Model\" : LIST_MODEL,\n",
    "    \"R2\".translate(SUP) : LIST_R2SCORE, \n",
    "    \"MAE\" : LIST_MAE,    \n",
    "    \"RMSE\" : LIST_RMSE,\n",
    "    \"Duration\" : LIST_DURATION,\n",
    "})\n",
    "\n",
    "df_models_metrics"
   ]
  },
  {
   "cell_type": "code",
   "execution_count": null,
   "id": "dcfc9175-8ba8-4129-bb8d-b301358d3dff",
   "metadata": {
    "jupyter": {
     "source_hidden": true
    },
    "tags": []
   },
   "outputs": [],
   "source": [
    "df_models_metrics = pd.DataFrame({\n",
    "    \"Model\" : LIST_MODEL,\n",
    "    \"R2\".translate(SUP) : LIST_R2SCORE, \n",
    "    \"MAE\" : LIST_MAE,    \n",
    "    \"RMSE\" : LIST_RMSE,\n",
    "    \"Duration\" : LIST_DURATION,\n",
    "})\n",
    "\n",
    "df_models_metrics"
   ]
  },
  {
   "cell_type": "code",
   "execution_count": null,
   "id": "b3f0e8b8-28c8-4f1e-8b2b-35fb40ec8f5e",
   "metadata": {
    "jupyter": {
     "source_hidden": true
    },
    "tags": []
   },
   "outputs": [],
   "source": [
    "df_models_metrics = pd.DataFrame({\n",
    "    \"Model\" : LIST_MODEL,\n",
    "    \"R2\".translate(SUP) : LIST_R2SCORE, \n",
    "    \"MAE\" : LIST_MAE,    \n",
    "    \"RMSE\" : LIST_RMSE,\n",
    "    \"Duration\" : LIST_DURATION,\n",
    "})\n",
    "\n",
    "df_models_metrics"
   ]
  },
  {
   "cell_type": "markdown",
   "id": "7be8febd-1731-477b-abbd-169f72b5c202",
   "metadata": {
    "tags": []
   },
   "source": [
    "<div class=\"alert alert-block alert-success\">\n",
    "    <p><b>Observations / Conclusions</b></p>\n",
    "    \n",
    "    <b>Best results</b> with default mode considering each model\n",
    "    <ul style=\"list-style-type: square;\">\n",
    "        <li><b>r2:</b> Gradient Boosting(0.639) </li>\n",
    "        <li><b>MAE:</b> Gradient Boosting(0.778) </li>\n",
    "        <li><b>RMSE:</b> Gradient Boosting(1.025) </li>\n",
    "        <li><b>Duration:</b> Lasso(0.186) </li>\n",
    "    </ul>\n",
    "</div>"
   ]
  },
  {
   "cell_type": "code",
   "execution_count": null,
   "id": "7038f5ad-7bb2-453c-9c4a-958808c3b248",
   "metadata": {},
   "outputs": [],
   "source": [
    "df_models_metrics_melt = pd.melt(df_models_metrics, id_vars=\"Model\", var_name=\"Metric\", value_name=\"Value\")\n",
    "df_models_metrics_melt.head(8)"
   ]
  },
  {
   "cell_type": "code",
   "execution_count": null,
   "id": "abcc4861-9f40-49b0-b214-2abcd0bb9c71",
   "metadata": {},
   "outputs": [],
   "source": [
    "fig, ax1 = plt.subplots(figsize=(15, 6))\n",
    "plot = sns.barplot(x=\"Model\", y=\"Value\", hue=\"Metric\", data=df_models_metrics_melt, ax=ax1)\n",
    "for p in plot.patches:\n",
    "    plot.annotate(format(p.get_height(), \".2f\"), (p.get_x() + p.get_width() / 2., p.get_height()), \n",
    "                    ha=\"center\", va=\"center\", xytext=(0, 8), textcoords=\"offset points\")\n",
    "plt.title(\"Comparison of Metrics by model (default mode)\", size=20)\n",
    "plt.legend(bbox_to_anchor=(1.10, 1), borderaxespad=0, title=\"Metrics\")\n",
    "plt.tight_layout()\n",
    "plt.xlabel(\"Model\", size=12)\n",
    "plt.ylabel(\"Metric\", size=12)\n",
    "plt.savefig(\"img/comparisonMetricsByModel.png\")\n",
    "sns.despine(fig)"
   ]
  },
  {
   "cell_type": "markdown",
   "id": "10d639ea-13f3-41b4-a5c6-6547bcf68f64",
   "metadata": {
    "tags": []
   },
   "source": [
    "<div class=\"alert alert-block alert-success\">\n",
    "    <p><b>Observations / Conclusions</b></p>\n",
    "    \n",
    "    So far, <b>Gradient Boosting</b> is giving the best result with <b>default parameters</b>\n",
    "</div>"
   ]
  },
  {
   "cell_type": "markdown",
   "id": "b3c169fb-035f-4e89-94a0-e12b6c14158a",
   "metadata": {},
   "source": [
    "<div style=\"background-color: #6D83C5;\" >\n",
    "    <h3 style=\"margin: auto; padding: 20px; color:#fff; \">5.3. Cross Validation K-Fold</h3>\n",
    "</div>"
   ]
  },
  {
   "cell_type": "code",
   "execution_count": null,
   "id": "11da1dfc-2c98-46a4-9470-bc84edb8e7ab",
   "metadata": {},
   "outputs": [],
   "source": [
    "# List of metrics results for each models \n",
    "LIST_MODEL, LIST_R2SCORE, LIST_MAE, LIST_RMSE, LIST_DURATION, LIST_SCORES  = ([] for i in range(6))\n",
    "\n",
    "for k, v in regressors.items():\n",
    "\n",
    "    # Data preprocessing based on the pipelines and the regressors setup\n",
    "    reg = make_pipeline(preprocessor, v)\n",
    "    \n",
    "    kfold = KFold(n_splits=5, shuffle=False, random_state=None)\n",
    "    \n",
    "    # Get the score for each validation score method to get accuracy of model\n",
    "    scores = cross_validate(reg, X_train, y_train, cv=kfold, scoring=(\"r2\", \"neg_mean_absolute_error\", \"neg_mean_squared_error\"), return_train_score=True)\n",
    "    \n",
    "    # Adding results into LIST\n",
    "    LIST_MODEL.append(k)\n",
    "    LIST_R2SCORE.append(round(scores.get(\"test_r2\").mean(), 3))\n",
    "    LIST_MAE.append(round(abs(scores.get(\"test_neg_mean_absolute_error\").mean()), 3))\n",
    "    LIST_RMSE.append(round(math.sqrt((abs(scores.get(\"test_neg_mean_squared_error\").mean()))), 3))\n",
    "    LIST_DURATION.append(round(scores.get(\"fit_time\").mean(), 3))\n",
    "    LIST_SCORES.append(scores.get(\"test_r2\"))"
   ]
  },
  {
   "cell_type": "markdown",
   "id": "ed4d446e-c258-4075-9a99-05ef48890d2b",
   "metadata": {
    "tags": []
   },
   "source": [
    "<div class=\"alert alert-block alert-info\">\n",
    "    Plotting the cross validation executions\n",
    "</div>"
   ]
  },
  {
   "cell_type": "code",
   "execution_count": null,
   "id": "94c01a30-1a42-4935-a891-d098be61350c",
   "metadata": {},
   "outputs": [],
   "source": [
    "df_cross_val = pd.DataFrame(LIST_SCORES, columns=[1, 2, 3, 4, 5])\n",
    "df_cross_val[\"Model\"] = LIST_MODEL\n",
    "df_cross_val_melt = df_cross_val.melt(id_vars=\"Model\", var_name=\"Execution\", value_name=\"Score\")"
   ]
  },
  {
   "cell_type": "code",
   "execution_count": null,
   "id": "34b30599-af35-4367-9ff5-57f2efeb3f45",
   "metadata": {},
   "outputs": [],
   "source": [
    "df_cross_val"
   ]
  },
  {
   "cell_type": "code",
   "execution_count": null,
   "id": "d1daf16b-0008-4ecd-84e4-02aeb276f094",
   "metadata": {},
   "outputs": [],
   "source": [
    "df_cross_val"
   ]
  },
  {
   "cell_type": "code",
   "execution_count": null,
   "id": "8ded6ee3-2f86-458c-9ee8-722d64bad2ff",
   "metadata": {},
   "outputs": [],
   "source": [
    "df_cross_val"
   ]
  },
  {
   "cell_type": "code",
   "execution_count": null,
   "id": "1c6b4f9d-c6a8-4a8d-9397-9102b11dce14",
   "metadata": {},
   "outputs": [],
   "source": [
    "plt.figure(figsize=(8, 6))\n",
    "plot = sns.lineplot(x=\"Execution\",\n",
    "                    y=\"Score\",\n",
    "                    hue=\"Model\",\n",
    "                    data=df_cross_val_melt\n",
    ")\n",
    "plt.legend(bbox_to_anchor=(0.85, 1), borderaxespad=0, title=\"Model\")\n",
    "plt.tight_layout()\n",
    "plt.title(\"Models cross validations\", size=20)\n",
    "plot.set(xlabel=\"Execution\", ylabel=\"Score\", xlim=(1, 6))\n",
    "\n",
    "plt.savefig(\"img/models-cross-validations-Scores.png\")\n",
    "sns.despine(fig)"
   ]
  },
  {
   "cell_type": "code",
   "execution_count": null,
   "id": "f253629d-ec98-46f2-ab42-b63ec4d98374",
   "metadata": {},
   "outputs": [],
   "source": [
    "plt.figure(figsize=(8, 6))\n",
    "plot = sns.lineplot(x=\"Execution\",\n",
    "                    y=\"Score\",\n",
    "                    hue=\"Model\",\n",
    "                    data=df_cross_val_melt\n",
    ")\n",
    "plt.legend(bbox_to_anchor=(0.85, 1), borderaxespad=0, title=\"Model\")\n",
    "plt.tight_layout()\n",
    "plt.title(\"Models cross validations\", size=20)\n",
    "plot.set(xlabel=\"Execution\", ylabel=\"Score\", xlim=(1, 6))\n",
    "\n",
    "plt.savefig(\"img/models-cross-validations-Scores.png\")\n",
    "sns.despine(fig)"
   ]
  },
  {
   "cell_type": "code",
   "execution_count": null,
   "id": "efce62ca-7e2d-4b79-a91a-69b3118bce87",
   "metadata": {},
   "outputs": [],
   "source": [
    "plt.figure(figsize=(8, 6))\n",
    "plot = sns.lineplot(x=\"Execution\",\n",
    "                    y=\"Score\",\n",
    "                    hue=\"Model\",\n",
    "                    data=df_cross_val_melt\n",
    ")\n",
    "plt.legend(bbox_to_anchor=(0.85, 1), borderaxespad=0, title=\"Model\")\n",
    "plt.tight_layout()\n",
    "plt.title(\"Models cross validations\", size=20)\n",
    "plot.set(xlabel=\"Execution\", ylabel=\"Score\", xlim=(1, 6))\n",
    "\n",
    "plt.savefig(\"img/models-cross-validations-Scores.png\")\n",
    "sns.despine(fig)"
   ]
  },
  {
   "cell_type": "markdown",
   "id": "9f1bd6f8-9e61-4905-a32c-09d0039c878b",
   "metadata": {
    "tags": []
   },
   "source": [
    "<div class=\"alert alert-block alert-success\">\n",
    "    <p><b>Observations / Conclusions</b></p>\n",
    "    \n",
    "    At this point, we can see\n",
    "    <ul style=\"list-style-type: square;\">\n",
    "        <li><b>Gradient Boosting</b> is the best result </li>\n",
    "        <li><b>Lasso</b> is the worst result </li>\n",
    "    </ul>\n",
    "</div>"
   ]
  },
  {
   "cell_type": "markdown",
   "id": "72b64133-19f0-4936-a8c5-5bfba8874f72",
   "metadata": {},
   "source": [
    "<div style=\"background-color: #6D83C5;\" >\n",
    "    <h4 style=\"margin: auto; padding: 20px; color:#fff; \">5.3.1 Predictions metrics</h4>\n",
    "</div>"
   ]
  },
  {
   "cell_type": "markdown",
   "id": "e56b0a39-b26f-4e31-93c3-3d7496c3232a",
   "metadata": {
    "tags": []
   },
   "source": [
    "<div class=\"alert alert-block alert-info\">\n",
    "    Creating dataframe based on metrics results for each models\n",
    "</div>"
   ]
  },
  {
   "cell_type": "code",
   "execution_count": null,
   "id": "9856af73-bbff-40ca-8764-3de09dfc24b3",
   "metadata": {},
   "outputs": [],
   "source": [
    "df_models_metrics_cross = pd.DataFrame({\n",
    "    \"Model\" : LIST_MODEL,\n",
    "    \"R2\".translate(SUP) : LIST_R2SCORE, \n",
    "    \"MAE\" : LIST_MAE,    \n",
    "    \"RMSE\" : LIST_RMSE,\n",
    "    \"Duration\" : LIST_DURATION,\n",
    "})\n",
    "\n",
    "df_models_metrics_cross"
   ]
  },
  {
   "cell_type": "code",
   "execution_count": null,
   "id": "05e8058c-8dd3-45e2-ba27-ae216d95686f",
   "metadata": {},
   "outputs": [],
   "source": [
    "df_models_metrics_cross = pd.DataFrame({\n",
    "    \"Model\" : LIST_MODEL,\n",
    "    \"R2\".translate(SUP) : LIST_R2SCORE, \n",
    "    \"MAE\" : LIST_MAE,    \n",
    "    \"RMSE\" : LIST_RMSE,\n",
    "    \"Duration\" : LIST_DURATION,\n",
    "})\n",
    "\n",
    "df_models_metrics_cross"
   ]
  },
  {
   "cell_type": "code",
   "execution_count": null,
   "id": "11e3f9e1-d766-4b9b-899c-588ef7712829",
   "metadata": {},
   "outputs": [],
   "source": [
    "df_models_metrics_cross = pd.DataFrame({\n",
    "    \"Model\" : LIST_MODEL,\n",
    "    \"R2\".translate(SUP) : LIST_R2SCORE, \n",
    "    \"MAE\" : LIST_MAE,    \n",
    "    \"RMSE\" : LIST_RMSE,\n",
    "    \"Duration\" : LIST_DURATION,\n",
    "})\n",
    "\n",
    "df_models_metrics_cross"
   ]
  },
  {
   "cell_type": "markdown",
   "id": "9aa20c28-2ea6-4ead-8330-a1543e8e1ea9",
   "metadata": {
    "tags": []
   },
   "source": [
    "<div class=\"alert alert-block alert-success\">\n",
    "    <b>Best results</b> with default mode considering each model\n",
    "    <ul style=\"list-style-type: square;\">\n",
    "        <li><b>r2:</b> Gradient Boosting(0.701) </li>\n",
    "        <li><b>MAE:</b> Gradient Boosting(0.777) </li>\n",
    "        <li><b>RMSE:</b> Gradient Boosting(1.054) </li>\n",
    "        <li><b>Duration:</b> Lasso(0.008) </li>\n",
    "    </ul> \n",
    "</div>"
   ]
  },
  {
   "cell_type": "code",
   "execution_count": null,
   "id": "440f655e-05a3-4ac7-9578-fc2847403ee3",
   "metadata": {},
   "outputs": [],
   "source": [
    "df_models_metrics_melt_cross = pd.melt(df_models_metrics_cross, id_vars=\"Model\", var_name=\"Metric\", value_name=\"Value\")\n",
    "df_models_metrics_melt_cross.head()"
   ]
  },
  {
   "cell_type": "code",
   "execution_count": null,
   "id": "0554dab7-2295-476d-8234-1a9e1c53e168",
   "metadata": {},
   "outputs": [],
   "source": [
    "fig, ax1 = plt.subplots(figsize=(15, 6))\n",
    "plot = sns.barplot(x=\"Model\", y=\"Value\", hue=\"Metric\", data=df_models_metrics_melt_cross, ax=ax1)\n",
    "for p in plot.patches:\n",
    "    plot.annotate(format(p.get_height(), \".2f\"), (p.get_x() + p.get_width() / 2., p.get_height()), \n",
    "                    ha=\"center\", va=\"center\", xytext=(0, 8), textcoords=\"offset points\")\n",
    "plt.title(\"Comparison of Metrics by model (cross-validation)\", size=20)\n",
    "plt.legend(bbox_to_anchor=(1.10, 1), borderaxespad=0, title=\"Metrics\")\n",
    "plt.tight_layout()\n",
    "plt.xlabel(\"Model\", size=12)\n",
    "plt.ylabel(\"Metric\", size=12)\n",
    "plt.savefig(\"img/comparisonMetrics_crossByModel.png\")\n",
    "sns.despine(fig)"
   ]
  },
  {
   "cell_type": "code",
   "execution_count": null,
   "id": "738dba3f-80e6-4626-9bbb-1debdf22adf8",
   "metadata": {},
   "outputs": [],
   "source": [
    "fig, ax1 = plt.subplots(figsize=(15, 6))\n",
    "plot = sns.barplot(x=\"Model\", y=\"Value\", hue=\"Metric\", data=df_models_metrics_melt_cross, ax=ax1)\n",
    "for p in plot.patches:\n",
    "    plot.annotate(format(p.get_height(), \".2f\"), (p.get_x() + p.get_width() / 2., p.get_height()), \n",
    "                    ha=\"center\", va=\"center\", xytext=(0, 8), textcoords=\"offset points\")\n",
    "plt.title(\"Comparison of Metrics by model (cross-validation)\", size=20)\n",
    "plt.legend(bbox_to_anchor=(1.10, 1), borderaxespad=0, title=\"Metrics\")\n",
    "plt.tight_layout()\n",
    "plt.xlabel(\"Model\", size=12)\n",
    "plt.ylabel(\"Metric\", size=12)\n",
    "plt.savefig(\"img/comparisonMetrics_crossByModel.png\")\n",
    "sns.despine(fig)"
   ]
  },
  {
   "cell_type": "markdown",
   "id": "6e9a93f7-3b30-4e7f-a87f-ba9fd3c9c036",
   "metadata": {
    "tags": []
   },
   "source": [
    "<div class=\"alert alert-block alert-success\">\n",
    "    <p><b>Observations / Conclusions</b></p>\n",
    "    <ul style=\"list-style-type: square;\">\n",
    "        <li>All models are improved their results but, despite that, results are very similar to previous ones</li>\n",
    "        <li><b>Gradient Boosting</b> is still giving the best result with <b>default parameters</b> and <b>cross-validation</b></li>\n",
    "    </ul>\n",
    "</div>"
   ]
  },
  {
   "cell_type": "markdown",
   "id": "6b4da019-04c1-446d-97f3-f981e3a3741c",
   "metadata": {
    "tags": []
   },
   "source": [
    "<div style=\"background-color: #6D83C5;\" >\n",
    "    <h2 style=\"margin: auto; padding: 20px; color:#fff; \">6. Optimization</h2>\n",
    "</div>"
   ]
  },
  {
   "cell_type": "markdown",
   "id": "df9dcabf-f327-4f14-93d1-e078a553997c",
   "metadata": {
    "tags": []
   },
   "source": [
    "<div class=\"alert alert-block alert-info\">\n",
    "    We are going to optimize each model separately, to see the results more in detail<br><br>\n",
    "    \n",
    "    Also, we are going to add all predictions and metrics base on parameters optimization to compare the results\n",
    "</div>"
   ]
  },
  {
   "cell_type": "code",
   "execution_count": null,
   "id": "c624f716-0c05-4c1e-8d0a-5e1748909ee5",
   "metadata": {},
   "outputs": [],
   "source": [
    "# Dataframe with y_test_transformed to compared againts predictions\n",
    "df_y_pred_gsc = pd.DataFrame({\n",
    "        \"Model\" : \"Original\",\n",
    "        \"y_pred\" : y_test\n",
    "})\n",
    "\n",
    "# Dataframe for metrics to compare\n",
    "df_models_metrics_gsc = pd.DataFrame({})\n",
    "\n",
    "# List of metrics results for each models \n",
    "LIST_MODEL_GSC, LIST_R2SCORE_GSC, LIST_MAE_GSC, LIST_RMSE_GSC, LIST_DURATION_GSC, LIST_SCORES_GSC  = ([] for i in range(6))"
   ]
  },
  {
   "cell_type": "markdown",
   "id": "c11d39f2-fb4e-4afe-81b1-0841e04194ab",
   "metadata": {
    "tags": []
   },
   "source": [
    "<div class=\"alert alert-block alert-info\">\n",
    "    At the same time, we are going to get the following metrics\n",
    "</div>"
   ]
  },
  {
   "cell_type": "code",
   "execution_count": null,
   "id": "4df46400-7c5f-4ad7-9a48-75a2b51afa92",
   "metadata": {},
   "outputs": [],
   "source": [
    "SCORINGS = {\n",
    "    \"R2\" : \"r2\",\n",
    "    \"MSE\" : \"neg_mean_squared_error\", \n",
    "    \"MAE\" : \"neg_mean_absolute_error\"\n",
    "}"
   ]
  },
  {
   "cell_type": "markdown",
   "id": "e364b311-43f8-4c6e-9b74-a6ccefdcc56a",
   "metadata": {},
   "source": [
    "<div style=\"background-color: #6D83C5;\" >\n",
    "    <h3 style=\"margin: auto; padding: 20px; color:#fff; \">6.1. Linear Regression optimization</h3>\n",
    "</div>"
   ]
  },
  {
   "cell_type": "markdown",
   "id": "b6e687ec-c005-4494-a6e2-ee16e6276064",
   "metadata": {
    "tags": []
   },
   "source": [
    "<div class=\"alert alert-block alert-info\">\n",
    "    <p>It is necessary to take in account that we are treating with <b>Non-linear Dataset</b> based on EDA done</p>\n",
    "    \n",
    "    <p>Initializing model</p>\n",
    "</div>"
   ]
  },
  {
   "cell_type": "code",
   "execution_count": null,
   "id": "8fe9cf60-78ce-428c-8d84-7b2491ca2fec",
   "metadata": {
    "tags": []
   },
   "outputs": [],
   "source": [
    "lr = LinearRegression()"
   ]
  },
  {
   "cell_type": "markdown",
   "id": "ebb4a15e-fb2e-4e6c-8860-3c4c32e6b620",
   "metadata": {
    "tags": []
   },
   "source": [
    "<div class=\"alert alert-block alert-info\">\n",
    "    Data preprocessing based on the pipelines and the regressors setup\n",
    "</div>"
   ]
  },
  {
   "cell_type": "code",
   "execution_count": null,
   "id": "b91f8e30-9fe7-4147-acdc-e1d4d98fe4e0",
   "metadata": {},
   "outputs": [],
   "source": [
    "reg = make_pipeline(preprocessor, lr)"
   ]
  },
  {
   "cell_type": "markdown",
   "id": "0c2a8343-3ec3-43a2-a35b-4e91d146d41b",
   "metadata": {
    "tags": []
   },
   "source": [
    "<div class=\"alert alert-block alert-info\">\n",
    "    Identifying the names of each parameter\n",
    "</div>"
   ]
  },
  {
   "cell_type": "code",
   "execution_count": null,
   "id": "02083b88-7cfb-4a58-a9c8-162ce7604fbe",
   "metadata": {},
   "outputs": [],
   "source": [
    "sorted(reg.get_params().keys())"
   ]
  },
  {
   "cell_type": "markdown",
   "id": "f3e6b07f-2182-4a73-9d88-50131953a78e",
   "metadata": {
    "tags": []
   },
   "source": [
    "<div class=\"alert alert-block alert-info\">\n",
    "    Parameters settings \n",
    "</div>"
   ]
  },
  {
   "cell_type": "code",
   "execution_count": null,
   "id": "5caad3ee-5d10-4e6e-b503-862c34f91c39",
   "metadata": {},
   "outputs": [],
   "source": [
    "param_grid = {\n",
    "    \"linearregression__copy_X\" : [True, False], # If True, X will be copied; else, it may be overwritten.\n",
    "    \"linearregression__fit_intercept\" : [True, False] # Whether to calculate the intercept for this model. \n",
    "}"
   ]
  },
  {
   "cell_type": "markdown",
   "id": "96315355-06b5-40f2-8f33-db95357af190",
   "metadata": {
    "tags": []
   },
   "source": [
    "<div class=\"alert alert-block alert-info\">\n",
    "    Executing the model\n",
    "</div>"
   ]
  },
  {
   "cell_type": "code",
   "execution_count": null,
   "id": "25e5fd78-499b-41ac-8869-df7c68050adf",
   "metadata": {},
   "outputs": [],
   "source": [
    "# K-Folds cross-validator\n",
    "kfold = KFold(n_splits=5, shuffle=True, random_state=0)\n",
    "\n",
    "search = GridSearchCV(reg, param_grid, n_jobs=1, cv=kfold, scoring=SCORINGS, refit=\"R2\", return_train_score=True)\n",
    "\n",
    "search.fit(X_train, y_train)\n",
    "\n",
    "# Transforming the result to dataframe format\n",
    "df_results = pd.DataFrame(search.cv_results_)\n",
    "\n",
    "# Get the results\n",
    "print(\"Metrics based on the best R2\".translate(SUP))\n",
    "print(\"- R2:\".translate(SUP), round(search.best_score_, 3))\n",
    "print(\"- MAE:\", round(abs(df_results.iloc[search.best_index_][\"mean_test_MAE\"]), 3))\n",
    "print(\"- RMSE:\", round(math.sqrt(abs(df_results.iloc[search.best_index_][\"mean_test_MSE\"])), 3))\n",
    "print(\"- Duration:\", round(df_results.iloc[search.best_index_][\"mean_score_time\"], 3))\n",
    "print(\"- Parameters:\", search.best_params_)"
   ]
  },
  {
   "cell_type": "code",
   "execution_count": null,
   "id": "03119b91-7482-4f90-871e-25bd97ed2c3b",
   "metadata": {},
   "outputs": [],
   "source": [
    "# K-Folds cross-validator\n",
    "kfold = KFold(n_splits=5, shuffle=True, random_state=0)\n",
    "\n",
    "search = GridSearchCV(reg, param_grid, n_jobs=1, cv=kfold, scoring=SCORINGS, refit=\"R2\", return_train_score=True)\n",
    "\n",
    "search.fit(X_train, y_train)\n",
    "\n",
    "# Transforming the result to dataframe format\n",
    "df_results = pd.DataFrame(search.cv_results_)\n",
    "\n",
    "# Get the results\n",
    "print(\"Metrics based on the best R2\".translate(SUP))\n",
    "print(\"- R2:\".translate(SUP), round(search.best_score_, 3))\n",
    "print(\"- MAE:\", round(abs(df_results.iloc[search.best_index_][\"mean_test_MAE\"]), 3))\n",
    "print(\"- RMSE:\", round(math.sqrt(abs(df_results.iloc[search.best_index_][\"mean_test_MSE\"])), 3))\n",
    "print(\"- Duration:\", round(df_results.iloc[search.best_index_][\"mean_score_time\"], 3))\n",
    "print(\"- Parameters:\", search.best_params_)"
   ]
  },
  {
   "cell_type": "markdown",
   "id": "51cdc04c-8aba-47c6-b9c9-a37332d7cfc4",
   "metadata": {
    "tags": []
   },
   "source": [
    "<div class=\"alert alert-block alert-info\">\n",
    "    We got the <b>best parameters</b> so, we are going to <b>analyze</b> them more in details \n",
    "</div>"
   ]
  },
  {
   "cell_type": "markdown",
   "id": "a13119ad-d63d-4abc-88c2-1a5dd22ffe7e",
   "metadata": {},
   "source": [
    "<div style=\"background-color: #6D83C5;\" >\n",
    "    <h4 style=\"margin: auto; padding: 20px; color:#fff; \">6.1.1. Linear Regression Learning curve</h4>\n",
    "</div>"
   ]
  },
  {
   "cell_type": "markdown",
   "id": "ed431a2e-f819-4703-b5fa-2cc00398ad47",
   "metadata": {
    "tags": []
   },
   "source": [
    "<div class=\"alert alert-block alert-info\">\n",
    "    To plot the <b>Learning curve</b>, we are going to use the <b>best  parameters</b> to analyze the model\n",
    "</div>"
   ]
  },
  {
   "cell_type": "code",
   "execution_count": null,
   "id": "280de317-5ea9-4557-a7c7-f491ae4711c0",
   "metadata": {},
   "outputs": [],
   "source": [
    "kfold = KFold(n_splits=5, shuffle=False, random_state=None)\n",
    "\n",
    "reg = make_pipeline(preprocessor, LinearRegression(copy_X=True, fit_intercept=False))"
   ]
  },
  {
   "cell_type": "markdown",
   "id": "21ef7972-2232-4fd8-92d3-7c0718859f33",
   "metadata": {
    "tags": []
   },
   "source": [
    "<div class=\"alert alert-block alert-info\">\n",
    "    Plotting <b>the learning curve</b> based on the best parameters\n",
    "</div>"
   ]
  },
  {
   "cell_type": "code",
   "execution_count": null,
   "id": "28fca623-4c22-438c-9ea3-1be97315c6d9",
   "metadata": {},
   "outputs": [],
   "source": [
    "plot_learning_curve(reg, \"LinearRegression\", X_train, y_train, cv=kfold)"
   ]
  },
  {
   "cell_type": "code",
   "execution_count": null,
   "id": "00aec43f-b2f7-4151-a55e-02d51c05d8e1",
   "metadata": {},
   "outputs": [],
   "source": [
    "plot_learning_curve(reg, \"LinearRegression\", X_train, y_train, cv=kfold)"
   ]
  },
  {
   "cell_type": "markdown",
   "id": "4e7d596e-d449-4434-b36a-e48fa1eb7d08",
   "metadata": {},
   "source": [
    "<div style=\"background-color: #6D83C5;\" >\n",
    "    <h4 style=\"margin: auto; padding: 20px; color:#fff; \">6.1.2. Linear Regression predictions validations</h4>\n",
    "</div>"
   ]
  },
  {
   "cell_type": "markdown",
   "id": "cd3c7c48-cfcf-42e3-b3ce-859ed4173b33",
   "metadata": {
    "tags": []
   },
   "source": [
    "<div class=\"alert alert-block alert-info\">\n",
    "    To plot the <b>predictions validations</b>, we are going to use the <b>best  parameters</b> to analyze the model after <b>fitting</b> and <b>predicting</b> values</b>\n",
    "</div>"
   ]
  },
  {
   "cell_type": "code",
   "execution_count": null,
   "id": "1806f71d-9744-4de6-af7d-d404cbed7d64",
   "metadata": {},
   "outputs": [],
   "source": [
    "kfold = KFold(n_splits=5, shuffle=True, random_state=0)\n",
    "\n",
    "reg = make_pipeline(preprocessor, LinearRegression(copy_X=True, fit_intercept=False))\n",
    "\n",
    "reg.fit(X_train, y_train)\n",
    "\n",
    "# Making the prediction using the testing data\n",
    "y_pred = reg.predict(X_test)"
   ]
  },
  {
   "cell_type": "markdown",
   "id": "f104e612-662e-493e-a5ea-8b25ff3c2a0a",
   "metadata": {
    "tags": []
   },
   "source": [
    "<div class=\"alert alert-block alert-info\">\n",
    "    Plotting <b>the Cross-Validated Predictions</b> based on the best parameters for <b>training data</b>\n",
    "</div>"
   ]
  },
  {
   "cell_type": "code",
   "execution_count": null,
   "id": "73b553c3-1f83-4219-97a8-b8c983d6d7d5",
   "metadata": {},
   "outputs": [],
   "source": [
    "# Making the prediction using the testing data\n",
    "plot_cross_val_predi(reg, \"LinearRegresion\", \"SiteEnergyUse(kBtu)\", X_train, y_train, cv=kfold)"
   ]
  },
  {
   "cell_type": "markdown",
   "id": "79f063c1-9837-4094-9ed2-e3f9a6392297",
   "metadata": {},
   "source": [
    "<div style=\"background-color: #6D83C5;\" >\n",
    "    <h4 style=\"margin: auto; padding: 20px; color:#fff; \">6.1.3. Linear Regression Features Importance</h4>\n",
    "</div>"
   ]
  },
  {
   "cell_type": "markdown",
   "id": "e0ef4e39-f106-4d99-ada5-47d1f4541bc7",
   "metadata": {
    "tags": []
   },
   "source": [
    "<div class=\"alert alert-block alert-info\">\n",
    "    To plot the <b>Features Importance</b>, we are going to use the <b>best  parameters</b> to analyze the model after <b>fitting</b> values</b>\n",
    "</div>"
   ]
  },
  {
   "cell_type": "code",
   "execution_count": null,
   "id": "165414d1-daa2-4f32-a80e-67af45972e57",
   "metadata": {},
   "outputs": [],
   "source": [
    "reg = make_pipeline(preprocessor, LinearRegression(copy_X=True, fit_intercept=False))\n",
    "\n",
    "reg.fit(X_train, y_train)"
   ]
  },
  {
   "cell_type": "markdown",
   "id": "08b90ce5-3fd7-4cf7-80ff-ca2fcbbba678",
   "metadata": {
    "tags": []
   },
   "source": [
    "<div class=\"alert alert-block alert-info\">\n",
    "    Plotting <b>the Features Importance</b> based on the best parameters\n",
    "</div>"
   ]
  },
  {
   "cell_type": "code",
   "execution_count": null,
   "id": "0fd55d22-9703-467e-aed6-6509bc20f352",
   "metadata": {},
   "outputs": [],
   "source": [
    "plot_features_importance(reg, \"LinearRegresion\", X_train, y_train, scoring=\"neg_mean_squared_error\")"
   ]
  },
  {
   "cell_type": "markdown",
   "id": "bcfe8aab-f8c1-4121-8bbd-28b052e54fdf",
   "metadata": {},
   "source": [
    "<div style=\"background-color: #6D83C5;\" >\n",
    "    <h4 style=\"margin: auto; padding: 20px; color:#fff; \">6.1.4. Polynomial Features</h4>\n",
    "</div>"
   ]
  },
  {
   "cell_type": "markdown",
   "id": "a0700252-a65b-497e-b9ab-d9ad2dd28f94",
   "metadata": {
    "tags": []
   },
   "source": [
    "<div class=\"alert alert-block alert-info\">\n",
    "    <p>we are going to work with a <b>Polynomial Features</b> to make a model more complex</p>\n",
    "    \n",
    "    <p>Initializing model</p>\n",
    "</div>"
   ]
  },
  {
   "cell_type": "code",
   "execution_count": null,
   "id": "16a58515-ab2e-442f-b394-930ba8128fe1",
   "metadata": {
    "tags": []
   },
   "outputs": [],
   "source": [
    "poly = PolynomialFeatures()\n",
    "\n",
    "lr = LinearRegression()"
   ]
  },
  {
   "cell_type": "markdown",
   "id": "ef846528-8d5b-46ba-a1e3-02ce394526e5",
   "metadata": {
    "tags": []
   },
   "source": [
    "<div class=\"alert alert-block alert-info\">\n",
    "    Data preprocessing based on the pipelines and the regressors setup\n",
    "</div>"
   ]
  },
  {
   "cell_type": "code",
   "execution_count": null,
   "id": "daac7941-cb0c-433e-b040-dac6dc7f013b",
   "metadata": {},
   "outputs": [],
   "source": [
    "poly_reg = make_pipeline(preprocessor, poly, lr)"
   ]
  },
  {
   "cell_type": "markdown",
   "id": "ca9f546c-7506-45dd-a757-5252f14b2c9b",
   "metadata": {
    "tags": []
   },
   "source": [
    "<div class=\"alert alert-block alert-info\">\n",
    "    Identifying the names of each parameter\n",
    "</div>"
   ]
  },
  {
   "cell_type": "code",
   "execution_count": null,
   "id": "8ca88fce-6b6e-4665-b88a-2bd0b95d4cf7",
   "metadata": {},
   "outputs": [],
   "source": [
    "sorted(poly_reg.get_params().keys())"
   ]
  },
  {
   "cell_type": "markdown",
   "id": "59207ef5-a8a6-4ef5-9953-2fa3350f7276",
   "metadata": {
    "tags": []
   },
   "source": [
    "<div class=\"alert alert-block alert-info\">\n",
    "    Parameters settings \n",
    "</div>"
   ]
  },
  {
   "cell_type": "code",
   "execution_count": null,
   "id": "490b5de5-c3e1-4ed4-bf58-f49571a84c30",
   "metadata": {},
   "outputs": [],
   "source": [
    "param_grid = {\n",
    "    \"polynomialfeatures__degree\" : [1, 2, 3, 4],\n",
    "#     \"linearregression__copy_X\" : [True, False],\n",
    "    \"linearregression__fit_intercept\" : [True, False]\n",
    "}"
   ]
  },
  {
   "cell_type": "markdown",
   "id": "5f93417f-79cb-40a1-91db-3a435d0c99d2",
   "metadata": {
    "tags": []
   },
   "source": [
    "<div class=\"alert alert-block alert-info\">\n",
    "    Executing the model\n",
    "</div>"
   ]
  },
  {
   "cell_type": "code",
   "execution_count": null,
   "id": "3107df6f-9b74-4cc8-a766-09dfca97fc43",
   "metadata": {},
   "outputs": [],
   "source": [
    "# K-Folds cross-validator\n",
    "kfold = KFold(n_splits=5, shuffle=True, random_state=0)\n",
    "\n",
    "search = GridSearchCV(poly_reg, param_grid, n_jobs=1, cv=kfold, scoring=SCORINGS, refit=\"R2\", return_train_score=True, verbose=3)\n",
    "\n",
    "search.fit(X_train, y_train)\n",
    "\n",
    "# Transforming the result to dataframe format\n",
    "df_results = pd.DataFrame(search.cv_results_)\n",
    "\n",
    "# Get the results\n",
    "print(\"Metrics based on the best R2\".translate(SUP))\n",
    "print(\"- R2:\".translate(SUP), round(search.best_score_, 3))\n",
    "print(\"- MAE:\", round(abs(df_results.iloc[search.best_index_][\"mean_test_MAE\"]), 3))\n",
    "print(\"- RMSE:\", round(math.sqrt(abs(df_results.iloc[search.best_index_][\"mean_test_MSE\"])), 3))\n",
    "print(\"- Duration:\", round(df_results.iloc[search.best_index_][\"mean_score_time\"], 3))\n",
    "print(\"- Parameters:\", search.best_params_)"
   ]
  },
  {
   "cell_type": "markdown",
   "id": "842874b9-ecf6-468c-8929-0603207210ac",
   "metadata": {
    "tags": []
   },
   "source": [
    "<div class=\"alert alert-block alert-info\">\n",
    "    We got the <b>best parameters</b> so, we are going to <b>analyze</b> them more in details \n",
    "</div>"
   ]
  },
  {
   "cell_type": "markdown",
   "id": "bca67501-65d1-44e0-b64d-396bbf934cab",
   "metadata": {},
   "source": [
    "<div style=\"background-color: #6D83C5;\" >\n",
    "    <h5 style=\"margin: auto; padding: 20px; color:#fff; \">6.1.4.1. Linear Regression and Polynomial Features Validation curve</h5>\n",
    "</div>"
   ]
  },
  {
   "cell_type": "markdown",
   "id": "e7e5dc33-7e1f-4e10-aee3-9273e8df54b2",
   "metadata": {
    "tags": []
   },
   "source": [
    "<div class=\"alert alert-block alert-info\">\n",
    "    To plot the <b>Validation curve</b>, we are going to use a <b>range of neighbors</b> to analyze the model through them\n",
    "</div>"
   ]
  },
  {
   "cell_type": "code",
   "execution_count": null,
   "id": "6deb0bb2-e2f6-43f8-ac5e-a017a7786139",
   "metadata": {},
   "outputs": [],
   "source": [
    "kfold = KFold(n_splits=5, shuffle=False, random_state=None)\n",
    "\n",
    "degree = [1, 2, 3, 4, 5]\n",
    "\n",
    "reg = make_pipeline(preprocessor, PolynomialFeatures(), LinearRegression(fit_intercept=False))"
   ]
  },
  {
   "cell_type": "markdown",
   "id": "ee61ec9d-349f-46cd-807b-e2ed42014e42",
   "metadata": {
    "tags": []
   },
   "source": [
    "<div class=\"alert alert-block alert-info\">\n",
    "    Plotting <b>the validacion curve</b> based on the best parameters\n",
    "</div>"
   ]
  },
  {
   "cell_type": "code",
   "execution_count": null,
   "id": "cda534d5-1837-4907-a217-1a06cc78503b",
   "metadata": {},
   "outputs": [],
   "source": [
    "plot_validation_curve(reg, \"LinearRegression - Polynomial\", X_train, y_train, param_name=\"polynomialfeatures__degree\", param_range=degree, param_name_short=\"Degree\", cv=kfold)"
   ]
  },
  {
   "cell_type": "markdown",
   "id": "030d8b1d-a0fb-43f2-aca2-da82a583a2d2",
   "metadata": {
    "tags": []
   },
   "source": [
    "<div class=\"alert alert-block alert-warning\">\n",
    "    It is necessary to remenber that we are treating with Non-linear Dataset. \n",
    "</div>"
   ]
  },
  {
   "cell_type": "markdown",
   "id": "2e011480-65d4-4b48-8332-c33426a0248d",
   "metadata": {},
   "source": [
    "<div style=\"background-color: #6D83C5;\" >\n",
    "    <h5 style=\"margin: auto; padding: 20px; color:#fff; \">6.1.4.2. Linear Regression and Polynomial Features Learning curve</h5>\n",
    "</div>"
   ]
  },
  {
   "cell_type": "markdown",
   "id": "ec7b4c89-b7fe-4780-ba72-4651a21b7bc3",
   "metadata": {
    "tags": []
   },
   "source": [
    "<div class=\"alert alert-block alert-info\">\n",
    "    To plot the <b>Learning curve</b>, we are going to use the <b>best  parameters</b> to analyze the model\n",
    "</div>"
   ]
  },
  {
   "cell_type": "code",
   "execution_count": null,
   "id": "5fe8733c-e919-41db-9d2e-32587b976475",
   "metadata": {},
   "outputs": [],
   "source": [
    "kfold = KFold(n_splits=5, shuffle=False, random_state=None)\n",
    "\n",
    "reg = make_pipeline(preprocessor, PolynomialFeatures(degree=2), LinearRegression(fit_intercept=False))"
   ]
  },
  {
   "cell_type": "markdown",
   "id": "c693884c-74a9-4b29-963f-fc357649a43f",
   "metadata": {
    "tags": []
   },
   "source": [
    "<div class=\"alert alert-block alert-info\">\n",
    "    Plotting <b>the learning curve</b> based on the best parameters\n",
    "</div>"
   ]
  },
  {
   "cell_type": "code",
   "execution_count": null,
   "id": "f248bfee-42da-49ba-a8ac-865963e040b9",
   "metadata": {},
   "outputs": [],
   "source": [
    "plot_learning_curve(reg, \"LinearRegression - Polynomial\", X_train, y_train, cv=kfold)"
   ]
  },
  {
   "cell_type": "markdown",
   "id": "3a1ae091-b794-4c7c-ac41-820d574bb206",
   "metadata": {},
   "source": [
    "<div style=\"background-color: #6D83C5;\" >\n",
    "    <h5 style=\"margin: auto; padding: 20px; color:#fff; \">6.1.4.3. Linear Regression and Polynomial Features predictions validations</h5>\n",
    "</div>"
   ]
  },
  {
   "cell_type": "markdown",
   "id": "3818b8ef-d4b6-4349-b883-da4e50a4cf9c",
   "metadata": {
    "tags": []
   },
   "source": [
    "<div class=\"alert alert-block alert-info\">\n",
    "    To plot the <b>predictions validations</b>, we are going to use the <b>best  parameters</b> to analyze the model after <b>fitting</b> and <b>predicting</b> values</b>\n",
    "</div>"
   ]
  },
  {
   "cell_type": "code",
   "execution_count": null,
   "id": "4dd134c8-1a39-46ce-abe8-66b8907b02bd",
   "metadata": {},
   "outputs": [],
   "source": [
    "kfold = KFold(n_splits=5, shuffle=True, random_state=0)\n",
    "\n",
    "reg = make_pipeline(preprocessor, PolynomialFeatures(degree=2), LinearRegression(fit_intercept=False))\n",
    "\n",
    "reg.fit(X_train, y_train)\n",
    "\n",
    "# Making the prediction using the testing data\n",
    "y_pred = reg.predict(X_test)"
   ]
  },
  {
   "cell_type": "markdown",
   "id": "4161fc13-0b0e-4abd-afbb-a02bf3efaa42",
   "metadata": {
    "tags": []
   },
   "source": [
    "<div class=\"alert alert-block alert-info\">\n",
    "    Plotting <b>the Cross-Validated Predictions</b> based on the best parameters for <b>training data</b>\n",
    "</div>"
   ]
  },
  {
   "cell_type": "code",
   "execution_count": null,
   "id": "dd62616a-72ad-4170-9037-7f84bc725743",
   "metadata": {},
   "outputs": [],
   "source": [
    "# Making the prediction using the testing data\n",
    "plot_cross_val_predi(reg, \"LinearRegression - Polynomial\", \"SiteEnergyUse(kBtu)\", X_train, y_train, cv=kfold)"
   ]
  },
  {
   "cell_type": "markdown",
   "id": "763e13a8-bee9-40a2-8bab-fca1db15a1e2",
   "metadata": {},
   "source": [
    "<div style=\"background-color: #6D83C5;\" >\n",
    "    <h5 style=\"margin: auto; padding: 20px; color:#fff; \">6.1.4.4. Linear Regression and Polynomial Features Features Importance</h5>\n",
    "</div>"
   ]
  },
  {
   "cell_type": "markdown",
   "id": "697563e5-e2d4-460d-8a4e-318d5c944d29",
   "metadata": {
    "tags": []
   },
   "source": [
    "<div class=\"alert alert-block alert-info\">\n",
    "    To plot the <b>Features Importance</b>, we are going to use the <b>best  parameters</b> to analyze the model after <b>fitting</b> values</b>\n",
    "</div>"
   ]
  },
  {
   "cell_type": "code",
   "execution_count": null,
   "id": "fe9ba3d7-2d6d-4362-826e-ffed770ea7f7",
   "metadata": {},
   "outputs": [],
   "source": [
    "reg = make_pipeline(preprocessor, PolynomialFeatures(degree=2), LinearRegression(fit_intercept=False))\n",
    "\n",
    "reg.fit(X_train, y_train)"
   ]
  },
  {
   "cell_type": "markdown",
   "id": "1990ff83-2a6d-4e66-90d5-8bfc1f74831a",
   "metadata": {
    "tags": []
   },
   "source": [
    "<div class=\"alert alert-block alert-info\">\n",
    "    Plotting <b>the Features Importance</b> based on the best parameters\n",
    "</div>"
   ]
  },
  {
   "cell_type": "code",
   "execution_count": null,
   "id": "85832eb8-770b-4245-96d7-e367d4023d51",
   "metadata": {},
   "outputs": [],
   "source": [
    "plot_features_importance(reg, \"LinearRegression - Polynomial\", X_train, y_train, scoring=\"neg_mean_squared_error\")"
   ]
  },
  {
   "cell_type": "markdown",
   "id": "badcdc16-e192-44d4-a3f8-01de19949a84",
   "metadata": {},
   "source": [
    "<div style=\"background-color: #6D83C5;\" >\n",
    "    <h4 style=\"margin: auto; padding: 20px; color:#fff; \">6.1.5 Predictions metrics</h4>\n",
    "</div>"
   ]
  },
  {
   "cell_type": "markdown",
   "id": "2b309111-f905-4b57-9bd9-02768cf6f80d",
   "metadata": {
    "tags": []
   },
   "source": [
    "<div class=\"alert alert-block alert-info\">\n",
    "    <p>To make the comparison among predictions metrics, we are going to select the Linear Regresion without the transformation through Polynomial Features.</p>\n",
    "    \n",
    "    <p>At the same time, we are going to make the prediction with the testing set to compare the result with the model in default mode</p>\n",
    "</div>"
   ]
  },
  {
   "cell_type": "code",
   "execution_count": null,
   "id": "aafad174-074b-487b-b181-ef416a40e9ba",
   "metadata": {},
   "outputs": [],
   "source": [
    "start_time_model = timeit.default_timer()\n",
    "\n",
    "reg = make_pipeline(preprocessor, LinearRegression(copy_X=True, fit_intercept=False))\n",
    "\n",
    "reg.fit(X_train, y_train)\n",
    "\n",
    "# Making the prediction using the testing data\n",
    "y_pred = reg.predict(X_test)\n",
    "\n",
    "end_time_model =  round(timeit.default_timer() - start_time_model, 3)\n",
    "\n",
    "# Calculating R2 Coefficient of determination for each model (Best possible score is 1.0, lower values are worse.)\n",
    "R2SCORE = round(r2_score(y_test, y_pred), 5)\n",
    "    \n",
    "# Calculating the Mean absolute error (The best value is 0.0)\n",
    "MAE = round(mean_absolute_error(y_test, y_pred), 3)\n",
    "    \n",
    "# Calculating Root Mean Square Error for each model (The best value is 0.0)\n",
    "RMSE = round(mean_squared_error(y_test, y_pred, squared=False), 3)"
   ]
  },
  {
   "cell_type": "markdown",
   "id": "3702193c-2100-4704-a936-5fff27df92ec",
   "metadata": {
    "tags": []
   },
   "source": [
    "<div class=\"alert alert-block alert-info\">\n",
    "    Adding the prediction to compare at the end\n",
    "</div>"
   ]
  },
  {
   "cell_type": "code",
   "execution_count": null,
   "id": "17ebdc37-7cba-4b94-b4c7-57bdf2136608",
   "metadata": {
    "tags": []
   },
   "outputs": [],
   "source": [
    "# Concatenating predictions to compare against y_test_transformed\n",
    "df_temp = pd.DataFrame({\n",
    "    \"Model\" : \"LinearRegression\",\n",
    "    \"y_pred\" : y_pred\n",
    "})"
   ]
  },
  {
   "cell_type": "code",
   "execution_count": null,
   "id": "7168b1b9-3cec-4983-b5f8-35fa20444452",
   "metadata": {},
   "outputs": [],
   "source": [
    "# Concatenating predictions to compare against y_test_transformed\n",
    "df_y_pred_gsc = pd.concat([df_y_pred_gsc, df_temp])"
   ]
  },
  {
   "cell_type": "markdown",
   "id": "8cdd0f22-ae2d-421e-8abe-d128a4e35a45",
   "metadata": {
    "tags": []
   },
   "source": [
    "<div class=\"alert alert-block alert-info\">\n",
    "    Verifying the prediction model into the dataset\n",
    "</div>"
   ]
  },
  {
   "cell_type": "code",
   "execution_count": null,
   "id": "0dfd2d0f-ef8c-4798-b603-dea303fdee34",
   "metadata": {},
   "outputs": [],
   "source": [
    "df_y_pred_gsc[\"Model\"].unique()"
   ]
  },
  {
   "cell_type": "markdown",
   "id": "e6935621-8d21-492e-9fb8-edff781518e7",
   "metadata": {
    "tags": []
   },
   "source": [
    "<div class=\"alert alert-block alert-info\">\n",
    "    Adding metrics to compare at the end\n",
    "</div>"
   ]
  },
  {
   "cell_type": "code",
   "execution_count": null,
   "id": "e6a2be48-f924-4ad6-921d-539196abbc83",
   "metadata": {},
   "outputs": [],
   "source": [
    "df_temp = pd.DataFrame({\n",
    "    \"Model\" : [\"LinearRegression\"],\n",
    "    \"R2\".translate(SUP) : [R2SCORE], \n",
    "    \"MAE\" : [MAE],    \n",
    "    \"RMSE\" : [RMSE],\n",
    "    \"Duration\" : [end_time_model]\n",
    "})"
   ]
  },
  {
   "cell_type": "code",
   "execution_count": null,
   "id": "f4121b2b-fd9c-4810-b3c1-5c51add0563a",
   "metadata": {},
   "outputs": [],
   "source": [
    "# Concatenating metrics to compare against model with default parameters\n",
    "df_models_metrics_gsc = pd.concat([df_models_metrics_gsc, df_temp])"
   ]
  },
  {
   "cell_type": "code",
   "execution_count": null,
   "id": "a12e1a4d-369b-47db-a14c-472e3d862a0b",
   "metadata": {},
   "outputs": [],
   "source": [
    "df_models_metrics_gsc"
   ]
  },
  {
   "cell_type": "code",
   "execution_count": null,
   "id": "3cdbde53-9231-4b05-b796-0366dae54dd4",
   "metadata": {},
   "outputs": [],
   "source": [
    "df_models_metrics"
   ]
  },
  {
   "cell_type": "markdown",
   "id": "05860e64-fd21-4bb1-bd91-bf8253e34d54",
   "metadata": {
    "tags": []
   },
   "source": [
    "<div class=\"alert alert-block alert-success\">\n",
    "    Compared to the model with default parameters, we can see that the result (for Linear Regression) is the same\n",
    "</div>"
   ]
  },
  {
   "cell_type": "markdown",
   "id": "38b4ce5a-824d-47e9-8f1a-42cb68ee996d",
   "metadata": {},
   "source": [
    "<div style=\"background-color: #6D83C5;\" >\n",
    "    <h3 style=\"margin: auto; padding: 20px; color:#fff; \">6.2. KNeighbors optimization</h3>\n",
    "</div>"
   ]
  },
  {
   "cell_type": "markdown",
   "id": "2a97c823-ca6e-42d4-a387-834fdf761bd5",
   "metadata": {
    "tags": []
   },
   "source": [
    "<div class=\"alert alert-block alert-info\">\n",
    "    Initializing model\n",
    "</div>"
   ]
  },
  {
   "cell_type": "code",
   "execution_count": null,
   "id": "fcc3172a-20d8-4dca-be14-4e7f68ea79a5",
   "metadata": {
    "tags": []
   },
   "outputs": [],
   "source": [
    "knn = KNeighborsRegressor()"
   ]
  },
  {
   "cell_type": "markdown",
   "id": "54743395-587c-4665-91a3-c88fab57fddb",
   "metadata": {
    "tags": []
   },
   "source": [
    "<div class=\"alert alert-block alert-info\">\n",
    "    Data preprocessing based on the pipelines and the regressors setup\n",
    "</div>"
   ]
  },
  {
   "cell_type": "code",
   "execution_count": null,
   "id": "ac9480bb-33bc-443e-8d93-26734cb16b11",
   "metadata": {},
   "outputs": [],
   "source": [
    "reg = make_pipeline(preprocessor, knn)"
   ]
  },
  {
   "cell_type": "markdown",
   "id": "e84fe29d-d8c6-400c-89ac-b1fdb7c30d37",
   "metadata": {
    "tags": []
   },
   "source": [
    "<div class=\"alert alert-block alert-info\">\n",
    "    Identifying the names of each parameter\n",
    "</div>"
   ]
  },
  {
   "cell_type": "code",
   "execution_count": null,
   "id": "3a47f690-db8c-4011-bf44-eae8a562b7a7",
   "metadata": {},
   "outputs": [],
   "source": [
    "sorted(reg.get_params().keys())"
   ]
  },
  {
   "cell_type": "markdown",
   "id": "c0d54236-cfa2-4007-b595-dad2baff4e12",
   "metadata": {
    "tags": []
   },
   "source": [
    "<div class=\"alert alert-block alert-info\">\n",
    "    Parameters settings\n",
    "</div>"
   ]
  },
  {
   "cell_type": "code",
   "execution_count": null,
   "id": "5596bf1e-ad97-4b4b-be04-373c3da76194",
   "metadata": {},
   "outputs": [],
   "source": [
    "param_grid = {\n",
    "    \"kneighborsregressor__n_neighbors\" : [3, 5, 7, 9, 11, 13, 15, 20, 50], # Number of neighbors to use by default for kneighbors queries.\n",
    "    \"kneighborsregressor__metric\" : [\"euclidean\", \"manhattan\"] # The distance metric to use for the tree.\n",
    "}"
   ]
  },
  {
   "cell_type": "markdown",
   "id": "1cd2ce95-1c08-4274-8478-c919d3dd81bc",
   "metadata": {
    "tags": []
   },
   "source": [
    "<div class=\"alert alert-block alert-info\">\n",
    "    Executing the model\n",
    "</div>"
   ]
  },
  {
   "cell_type": "code",
   "execution_count": null,
   "id": "b1f4e859-7303-4595-9604-929e59837faa",
   "metadata": {},
   "outputs": [],
   "source": [
    "# K-Folds cross-validator\n",
    "kfold = KFold(n_splits=5, shuffle=False, random_state=None)\n",
    "\n",
    "search = GridSearchCV(reg, param_grid, n_jobs=-1, cv=kfold, scoring=SCORINGS, refit=\"R2\", return_train_score=True)\n",
    "\n",
    "search.fit(X_train, y_train)\n",
    "\n",
    "# Transforming the result to dataframe format\n",
    "df_results = pd.DataFrame(search.cv_results_)\n",
    "\n",
    "# Get the results\n",
    "print(\"Metrics based on the best R2\".translate(SUP))\n",
    "print(\"- R2:\".translate(SUP), round(search.best_score_, 3))\n",
    "print(\"- MAE:\", round(abs(df_results.iloc[search.best_index_][\"mean_test_MAE\"]), 3))\n",
    "print(\"- RMSE:\", round(math.sqrt(abs(df_results.iloc[search.best_index_][\"mean_test_MSE\"])), 3))\n",
    "print(\"- Duration:\", round(df_results.iloc[search.best_index_][\"mean_score_time\"], 3))\n",
    "print(\"- Parameters:\", search.best_params_)"
   ]
  },
  {
   "cell_type": "markdown",
   "id": "5454d274-fb6b-4866-a1bd-74d611957521",
   "metadata": {
    "tags": []
   },
   "source": [
    "<div class=\"alert alert-block alert-info\">\n",
    "    We got the <b>best parameters</b> so, we are going to <b>analyze</b> them more in details \n",
    "</div>"
   ]
  },
  {
   "cell_type": "markdown",
   "id": "5a589d11-c0e2-43ed-bf7e-71382a55d9f4",
   "metadata": {},
   "source": [
    "<div style=\"background-color: #6D83C5;\" >\n",
    "    <h4 style=\"margin: auto; padding: 20px; color:#fff; \">6.2.1 KNeighbors Validation curve</h4>\n",
    "</div>"
   ]
  },
  {
   "cell_type": "markdown",
   "id": "db0abf71-42c2-4381-b93d-be6a6a45c6fa",
   "metadata": {
    "tags": []
   },
   "source": [
    "<div class=\"alert alert-block alert-info\">\n",
    "    To plot the <b>Validation curve</b>, we are going to use a <b>range of neighbors</b> to analyze the model through them\n",
    "</div>"
   ]
  },
  {
   "cell_type": "code",
   "execution_count": null,
   "id": "332df373-ff0f-4171-8cc5-3b27ffd5a0da",
   "metadata": {},
   "outputs": [],
   "source": [
    "kfold = KFold(n_splits=5, shuffle=False, random_state=None)\n",
    "\n",
    "n_neighbors = [3, 5, 7, 9, 11, 13, 15, 20, 50]\n",
    "\n",
    "reg = make_pipeline(preprocessor, KNeighborsRegressor(metric=\"euclidean\"))"
   ]
  },
  {
   "cell_type": "markdown",
   "id": "05455a89-61af-4566-83e9-1612ef96adc5",
   "metadata": {
    "tags": []
   },
   "source": [
    "<div class=\"alert alert-block alert-info\">\n",
    "    Plotting <b>the validacion curve</b> based on the best parameters\n",
    "</div>"
   ]
  },
  {
   "cell_type": "code",
   "execution_count": null,
   "id": "943eaef5-7522-40a0-929c-2a01382ce337",
   "metadata": {},
   "outputs": [],
   "source": [
    "plot_validation_curve(reg, \"KNeighbors\", X_train, y_train, param_name=\"kneighborsregressor__n_neighbors\", param_range=n_neighbors, param_name_short=\"Neighbors\", cv=kfold)"
   ]
  },
  {
   "cell_type": "markdown",
   "id": "1c0e43f1-f068-4986-a029-6e4617ada5e1",
   "metadata": {
    "tags": []
   },
   "source": [
    "<div class=\"alert alert-block alert-success\">\n",
    "    <p><b>Observations / Conclusions</b></p>\n",
    "    \n",
    "    \n",
    "    <ul style=\"list-style-type: square;\">\n",
    "        <li>For <b>Neighbors values of 15 to 50</b>, we can see a <b>High Bias</b> and <b>Low Variance</b> so, for this parameters the model is <b>Underfitting</b> maybe due to have a poor feature set <br>or the relationships in the data are inherently</li>\n",
    "        <li>For <b>Neighbors values of 3 to 11</b>, we have a poorly performs for train and validation set so, for this parameters the model is <b>Underfitting</b> as well</li>\n",
    "        <li>The best result if for <b>Neighbors value of 13</b> but, like the previous point we have a poorly performs for both sets. So, in general the model is <b>Underfitting</b></li>\n",
    "    </ul>\n",
    "    \n",
    "</div>"
   ]
  },
  {
   "cell_type": "markdown",
   "id": "935aafba-d485-439e-98ce-2f2c60c7d51f",
   "metadata": {},
   "source": [
    "<div style=\"background-color: #6D83C5;\" >\n",
    "    <h4 style=\"margin: auto; padding: 20px; color:#fff; \">6.2.2 KNeighbors Learning curve</h4>\n",
    "</div>"
   ]
  },
  {
   "cell_type": "markdown",
   "id": "f61aa7fe-6758-4772-adfd-a472869c16a2",
   "metadata": {
    "tags": []
   },
   "source": [
    "<div class=\"alert alert-block alert-info\">\n",
    "    To plot the <b>Learning curve</b>, we are going to use the <b>best  parameters</b> to analyze the model\n",
    "</div>"
   ]
  },
  {
   "cell_type": "code",
   "execution_count": null,
   "id": "eed97748-d058-40c1-8568-8286d78a6471",
   "metadata": {},
   "outputs": [],
   "source": [
    "kfold = KFold(n_splits=5, shuffle=False, random_state=None)\n",
    "\n",
    "reg = make_pipeline(preprocessor, KNeighborsRegressor(n_neighbors=13, metric=\"euclidean\"))"
   ]
  },
  {
   "cell_type": "markdown",
   "id": "681e3cf6-8a81-4458-9ed5-f1e980595e94",
   "metadata": {
    "tags": []
   },
   "source": [
    "<div class=\"alert alert-block alert-info\">\n",
    "    Plotting <b>the learning curve</b> based on the best parameters\n",
    "</div>"
   ]
  },
  {
   "cell_type": "code",
   "execution_count": null,
   "id": "741d9448-608f-4a2b-8b69-d0b263e6205e",
   "metadata": {},
   "outputs": [],
   "source": [
    "plot_learning_curve(reg, \"kneighbors\", X_train, y_train, cv=kfold)"
   ]
  },
  {
   "cell_type": "markdown",
   "id": "691381e4-2b1d-4c16-a0a0-0f6bf5423068",
   "metadata": {},
   "source": [
    "<div style=\"background-color: #6D83C5;\" >\n",
    "    <h4 style=\"margin: auto; padding: 20px; color:#fff; \">6.2.3 KNeighbors predictions validations</h4>\n",
    "</div>"
   ]
  },
  {
   "cell_type": "markdown",
   "id": "9c62543b-78e5-4e08-9a86-5151344bf04e",
   "metadata": {
    "tags": []
   },
   "source": [
    "<div class=\"alert alert-block alert-info\">\n",
    "    To plot the <b>predictions validations</b>, we are going to use the <b>best  parameters</b> to analyze the model after <b>fitting</b> and <b>predicting</b> values</b>\n",
    "</div>"
   ]
  },
  {
   "cell_type": "code",
   "execution_count": null,
   "id": "e959f685-29df-4c30-a17d-0f7196e31be3",
   "metadata": {},
   "outputs": [],
   "source": [
    "kfold = KFold(n_splits=5, shuffle=True, random_state=0)\n",
    "\n",
    "reg = make_pipeline(preprocessor, KNeighborsRegressor(n_neighbors=13, metric=\"euclidean\"))\n",
    "\n",
    "reg.fit(X_train, y_train)\n",
    "\n",
    "# Making the prediction using the testing data\n",
    "y_pred = reg.predict(X_test)"
   ]
  },
  {
   "cell_type": "markdown",
   "id": "b46b577f-baee-4a4d-8070-bb81a8fc4942",
   "metadata": {
    "tags": []
   },
   "source": [
    "<div class=\"alert alert-block alert-info\">\n",
    "    Plotting <b>the Cross-Validated Predictions</b> based on the best parameters for <b>training data</b>\n",
    "</div>"
   ]
  },
  {
   "cell_type": "code",
   "execution_count": null,
   "id": "de6055f7-520f-4979-8753-89d059bca539",
   "metadata": {},
   "outputs": [],
   "source": [
    "# Making the prediction using the testing data\n",
    "plot_cross_val_predi(reg, \"KNeighbors\", \"SiteEnergyUse(kBtu)\", X_train, y_train, cv=kfold)"
   ]
  },
  {
   "cell_type": "markdown",
   "id": "2ac1d0df-48dc-4e96-8b3b-326bf4541a3e",
   "metadata": {},
   "source": [
    "<div style=\"background-color: #6D83C5;\" >\n",
    "    <h4 style=\"margin: auto; padding: 20px; color:#fff; \">6.2.4 KNeighbors Features Importance</h4>\n",
    "</div>"
   ]
  },
  {
   "cell_type": "markdown",
   "id": "393fa939-a749-432a-abb2-3ba2f4f22580",
   "metadata": {
    "tags": []
   },
   "source": [
    "<div class=\"alert alert-block alert-info\">\n",
    "    To plot the <b>Features Importance</b>, we are going to use the <b>best  parameters</b> to analyze the model after <b>fitting</b> values</b>\n",
    "</div>"
   ]
  },
  {
   "cell_type": "code",
   "execution_count": null,
   "id": "908a5162-01c3-465c-9b11-6aa279497bb2",
   "metadata": {},
   "outputs": [],
   "source": [
    "reg = make_pipeline(preprocessor, KNeighborsRegressor(n_neighbors=13, metric=\"euclidean\"))\n",
    "\n",
    "reg.fit(X_train, y_train)"
   ]
  },
  {
   "cell_type": "markdown",
   "id": "2829fb0a-9764-415c-be4f-6a459430031c",
   "metadata": {
    "tags": []
   },
   "source": [
    "<div class=\"alert alert-block alert-info\">\n",
    "    Plotting <b>the Features Importance</b> based on the best parameters\n",
    "</div>"
   ]
  },
  {
   "cell_type": "code",
   "execution_count": null,
   "id": "9c013739-58ea-4947-adac-5e20faf1994d",
   "metadata": {},
   "outputs": [],
   "source": [
    "plot_features_importance(reg, \"KNeighbors\", X_train, y_train, scoring=\"neg_mean_squared_error\")"
   ]
  },
  {
   "cell_type": "markdown",
   "id": "e99094c5-74fd-4bd1-9896-32d71a2bd5a5",
   "metadata": {},
   "source": [
    "<div style=\"background-color: #6D83C5;\" >\n",
    "    <h4 style=\"margin: auto; padding: 20px; color:#fff; \">6.2.5 Find the k Nearest Neighbors</h4>\n",
    "</div>"
   ]
  },
  {
   "cell_type": "markdown",
   "id": "fa8e153e-5bd1-4771-ba52-b24e32de6acf",
   "metadata": {
    "tags": []
   },
   "source": [
    "<div class=\"alert alert-block alert-info\">\n",
    "    We are going to <b>process data</b> directly with <b>make_column_transformer</b> already defined\n",
    "</div>"
   ]
  },
  {
   "cell_type": "code",
   "execution_count": null,
   "id": "4a512f69-7eb6-47ba-8dd0-b1866800a5fa",
   "metadata": {},
   "outputs": [],
   "source": [
    "X_train_transformed = preprocessor.fit_transform(X_train)"
   ]
  },
  {
   "cell_type": "code",
   "execution_count": null,
   "id": "e62c917e-099a-4509-b868-963eff0bb122",
   "metadata": {},
   "outputs": [],
   "source": [
    "X_train_transformed.shape"
   ]
  },
  {
   "cell_type": "code",
   "execution_count": null,
   "id": "acbb5623-d807-4f2a-8e0e-41c984e4d5d5",
   "metadata": {},
   "outputs": [],
   "source": [
    "X_test_transformed = preprocessor.fit_transform(X_test)"
   ]
  },
  {
   "cell_type": "code",
   "execution_count": null,
   "id": "2a615d7a-7491-415b-b0eb-8bac88df6e71",
   "metadata": {},
   "outputs": [],
   "source": [
    "X_test_transformed.shape"
   ]
  },
  {
   "cell_type": "markdown",
   "id": "977935fd-3706-49f2-95c5-38e58c74469b",
   "metadata": {
    "tags": []
   },
   "source": [
    "<div class=\"alert alert-block alert-info\">\n",
    "    Now, we are going to select <b>one random sample</b> of X_test to find its Neighbors\n",
    "</div>"
   ]
  },
  {
   "cell_type": "code",
   "execution_count": null,
   "id": "20d266ac-ca73-4394-8448-48363adfe762",
   "metadata": {
    "tags": []
   },
   "outputs": [],
   "source": [
    "seed(0)\n",
    "\n",
    "# considering the X_test shape\n",
    "indice = randint(0, 496, 1)\n",
    "indice"
   ]
  },
  {
   "cell_type": "code",
   "execution_count": null,
   "id": "d256ee46-43b7-4524-b6ac-1c31911019a6",
   "metadata": {},
   "outputs": [],
   "source": [
    "X_test_sample_transformed = X_test_transformed[indice]"
   ]
  },
  {
   "cell_type": "markdown",
   "id": "6d79e9f2-6c93-4096-9931-c7e0617aba1c",
   "metadata": {
    "tags": []
   },
   "source": [
    "<div class=\"alert alert-block alert-info\">\n",
    "    Initializing model\n",
    "</div>"
   ]
  },
  {
   "cell_type": "code",
   "execution_count": null,
   "id": "ef04fb04-c644-4e50-a2fd-2f11adbebbb1",
   "metadata": {},
   "outputs": [],
   "source": [
    "nbrs = NearestNeighbors(n_neighbors=13, metric=\"euclidean\")"
   ]
  },
  {
   "cell_type": "markdown",
   "id": "4b8ce240-e5d3-401d-aca6-2c225bf352aa",
   "metadata": {
    "tags": []
   },
   "source": [
    "<div class=\"alert alert-block alert-info\">\n",
    "    Fitting the NearestNeighbors\n",
    "</div>"
   ]
  },
  {
   "cell_type": "code",
   "execution_count": null,
   "id": "b51317c7-b29e-46b4-8598-498af6311a42",
   "metadata": {},
   "outputs": [],
   "source": [
    "nbrs.fit(X_train_transformed)"
   ]
  },
  {
   "cell_type": "markdown",
   "id": "895976ad-7030-4947-b4ab-84c64f1432af",
   "metadata": {
    "tags": []
   },
   "source": [
    "<div class=\"alert alert-block alert-info\">\n",
    "    Finding the neighbors\n",
    "</div>"
   ]
  },
  {
   "cell_type": "code",
   "execution_count": null,
   "id": "0794b862-2658-451c-be64-411b92211404",
   "metadata": {},
   "outputs": [],
   "source": [
    "distances, indices = nbrs.kneighbors(X_test_sample_transformed)"
   ]
  },
  {
   "cell_type": "markdown",
   "id": "556cbae6-0a0b-4c3f-8c9a-8a6fff6bf646",
   "metadata": {
    "tags": []
   },
   "source": [
    "<div class=\"alert alert-block alert-info\">\n",
    "    Sample selected\n",
    "</div>"
   ]
  },
  {
   "cell_type": "code",
   "execution_count": null,
   "id": "2893a366-1fba-40bc-a6a0-9ab32e09a202",
   "metadata": {},
   "outputs": [],
   "source": [
    "X_test.iloc[indice]"
   ]
  },
  {
   "cell_type": "markdown",
   "id": "2c0487dc-2973-48a0-956e-f80d2b6ee177",
   "metadata": {
    "tags": []
   },
   "source": [
    "<div class=\"alert alert-block alert-info\">\n",
    "    Sample selected neighbors\n",
    "</div>"
   ]
  },
  {
   "cell_type": "code",
   "execution_count": null,
   "id": "d6179345-e036-48c5-836c-7789aaa64f5a",
   "metadata": {},
   "outputs": [],
   "source": [
    "X_train.iloc[indices[0].tolist()]"
   ]
  },
  {
   "cell_type": "markdown",
   "id": "90c7e5ea-a226-4940-b733-d4c700be473e",
   "metadata": {
    "tags": []
   },
   "source": [
    "<div class=\"alert alert-block alert-info\">\n",
    "    Mean values for features and target based on neighbors\n",
    "</div>"
   ]
  },
  {
   "cell_type": "code",
   "execution_count": null,
   "id": "1b00ec24-fbff-4d18-964d-1263b48a0dda",
   "metadata": {},
   "outputs": [],
   "source": [
    "X_train.iloc[indices[0].tolist()].mean()"
   ]
  },
  {
   "cell_type": "code",
   "execution_count": null,
   "id": "4e642ca8-a5f8-40fd-bb99-6e954286fb03",
   "metadata": {
    "tags": []
   },
   "outputs": [],
   "source": [
    "y_train.iloc[indices[0].tolist()].mean()"
   ]
  },
  {
   "cell_type": "markdown",
   "id": "b9c3b4f1-c126-4469-a77a-42e03c191817",
   "metadata": {
    "tags": []
   },
   "source": [
    "<div class=\"alert alert-block alert-info\">\n",
    "    Real values for test\n",
    "</div>"
   ]
  },
  {
   "cell_type": "code",
   "execution_count": null,
   "id": "c9382108-37b5-4f2d-8d94-a31b3511d672",
   "metadata": {
    "tags": []
   },
   "outputs": [],
   "source": [
    "y_test.iloc[indice]"
   ]
  },
  {
   "cell_type": "markdown",
   "id": "5df696a4-8160-4ede-81b6-5910c1b953c8",
   "metadata": {
    "tags": []
   },
   "source": [
    "<div class=\"alert alert-block alert-success\">\n",
    "    At this point, we can see that the prediction is very close to real value\n",
    "</div>"
   ]
  },
  {
   "cell_type": "markdown",
   "id": "3d1f6e64-5213-4a51-aa2b-b081069343c8",
   "metadata": {},
   "source": [
    "<div style=\"background-color: #6D83C5;\" >\n",
    "    <h4 style=\"margin: auto; padding: 20px; color:#fff; \">6.2.6 Predictions metrics</h4>\n",
    "</div>"
   ]
  },
  {
   "cell_type": "markdown",
   "id": "03988d2c-d901-4d80-af9b-49b8e101c52c",
   "metadata": {
    "tags": []
   },
   "source": [
    "<div class=\"alert alert-block alert-info\">\n",
    "    We are going to make the prediction with the testing set to compare the result with the model in default mode\n",
    "</div>"
   ]
  },
  {
   "cell_type": "code",
   "execution_count": null,
   "id": "c33bc900-c71c-4d78-88bd-02fc6ad48979",
   "metadata": {},
   "outputs": [],
   "source": [
    "start_time_model = timeit.default_timer()\n",
    "\n",
    "reg = make_pipeline(preprocessor, KNeighborsRegressor(n_neighbors=13, metric=\"euclidean\"))\n",
    "\n",
    "reg.fit(X_train, y_train)\n",
    "\n",
    "# Making the prediction using the testing data\n",
    "y_pred = reg.predict(X_test)\n",
    "\n",
    "end_time_model =  round(timeit.default_timer() - start_time_model, 3)\n",
    "\n",
    "# Calculating R2 Coefficient of determination for each model (Best possible score is 1.0, lower values are worse.)\n",
    "R2SCORE = round(r2_score(y_test, y_pred), 5)\n",
    "    \n",
    "# Calculating the Mean absolute error (The best value is 0.0)\n",
    "MAE = round(mean_absolute_error(y_test, y_pred), 3)\n",
    "    \n",
    "# Calculating Root Mean Square Error for each model (The best value is 0.0)\n",
    "RMSE = round(mean_squared_error(y_test, y_pred, squared=False), 3)"
   ]
  },
  {
   "cell_type": "markdown",
   "id": "51c92b22-2c7f-4f44-9f12-131e091a98e4",
   "metadata": {
    "tags": []
   },
   "source": [
    "<div class=\"alert alert-block alert-info\">\n",
    "    Adding the prediction to compare at the end\n",
    "</div>"
   ]
  },
  {
   "cell_type": "code",
   "execution_count": null,
   "id": "f2f5266c-1d9a-439b-82ef-c8516210b479",
   "metadata": {
    "tags": []
   },
   "outputs": [],
   "source": [
    "# Concatenating predictions to compare against y_test_transformed\n",
    "df_temp = pd.DataFrame({\n",
    "    \"Model\" : \"KNeighbors\",\n",
    "    \"y_pred\" : y_pred\n",
    "})"
   ]
  },
  {
   "cell_type": "code",
   "execution_count": null,
   "id": "15bff863-bd16-41b9-bc95-ce4dfeff3c3f",
   "metadata": {},
   "outputs": [],
   "source": [
    "# Concatenating predictions to compare against y_test_transformed\n",
    "df_y_pred_gsc = pd.concat([df_y_pred_gsc, df_temp])"
   ]
  },
  {
   "cell_type": "markdown",
   "id": "900ba07a-427d-4bf4-8672-7758d5d17f0e",
   "metadata": {
    "tags": []
   },
   "source": [
    "<div class=\"alert alert-block alert-info\">\n",
    "    Verifying the prediction model into the dataset\n",
    "</div>"
   ]
  },
  {
   "cell_type": "code",
   "execution_count": null,
   "id": "36f68f3e-4ffe-4b2c-9385-9c355d04d381",
   "metadata": {},
   "outputs": [],
   "source": [
    "df_y_pred_gsc[\"Model\"].unique()"
   ]
  },
  {
   "cell_type": "markdown",
   "id": "c56b4a70-3574-4f6e-a147-1f0c70349394",
   "metadata": {
    "tags": []
   },
   "source": [
    "<div class=\"alert alert-block alert-info\">\n",
    "    Adding metrics to compare at the end\n",
    "</div>"
   ]
  },
  {
   "cell_type": "code",
   "execution_count": null,
   "id": "26c08552-be9d-4f6f-86aa-38f61c501e44",
   "metadata": {},
   "outputs": [],
   "source": [
    "df_temp = pd.DataFrame({\n",
    "    \"Model\" : [\"KNeighbors\"],\n",
    "    \"R2\".translate(SUP) : [R2SCORE], \n",
    "    \"MAE\" : [MAE],    \n",
    "    \"RMSE\" : [RMSE],\n",
    "    \"Duration\" : [end_time_model]\n",
    "})"
   ]
  },
  {
   "cell_type": "code",
   "execution_count": null,
   "id": "6f025d4d-5f99-4abb-8715-16850070d090",
   "metadata": {},
   "outputs": [],
   "source": [
    "# Concatenating metrics to compare against model with default parameters\n",
    "df_models_metrics_gsc = pd.concat([df_models_metrics_gsc, df_temp])"
   ]
  },
  {
   "cell_type": "code",
   "execution_count": null,
   "id": "d8fddf47-a58d-4dbb-9056-4920f8d08f2d",
   "metadata": {},
   "outputs": [],
   "source": [
    "df_models_metrics_gsc"
   ]
  },
  {
   "cell_type": "code",
   "execution_count": null,
   "id": "9ca36b33-4b9e-480f-a4d4-5b0eae7433be",
   "metadata": {},
   "outputs": [],
   "source": [
    "df_models_metrics"
   ]
  },
  {
   "cell_type": "markdown",
   "id": "a0e4fe84-7d12-46f1-83c0-41c9656251c6",
   "metadata": {
    "tags": []
   },
   "source": [
    "<div class=\"alert alert-block alert-success\">\n",
    "    Compared to the model with default parameters, we can see that the result (for Linear Regression) has improved\n",
    "</div>"
   ]
  },
  {
   "cell_type": "markdown",
   "id": "fd43a05b-88ce-45eb-87ce-c6c258d04086",
   "metadata": {},
   "source": [
    "<div style=\"background-color: #6D83C5;\" >\n",
    "    <h3 style=\"margin: auto; padding: 20px; color:#fff; \">6.3. Lasso optimization</h3>\n",
    "</div>"
   ]
  },
  {
   "cell_type": "markdown",
   "id": "75c0769f-a407-4fc2-b77a-21bc9e26efc2",
   "metadata": {
    "tags": []
   },
   "source": [
    "<div class=\"alert alert-block alert-info\">\n",
    "    Initializing model\n",
    "</div>"
   ]
  },
  {
   "cell_type": "code",
   "execution_count": null,
   "id": "cb01d778-0620-4110-b24c-40907f0f9713",
   "metadata": {},
   "outputs": [],
   "source": [
    "ls = Lasso()"
   ]
  },
  {
   "cell_type": "markdown",
   "id": "2962ace3-79a7-44f5-ade1-7770af99501e",
   "metadata": {
    "tags": []
   },
   "source": [
    "<div class=\"alert alert-block alert-info\">\n",
    "    Data preprocessing based on the pipelines and the regressors setup\n",
    "</div>"
   ]
  },
  {
   "cell_type": "code",
   "execution_count": null,
   "id": "3b7b58ea-a0ef-43f2-9467-705ef6f58fbf",
   "metadata": {},
   "outputs": [],
   "source": [
    "reg = make_pipeline(preprocessor, ls)"
   ]
  },
  {
   "cell_type": "markdown",
   "id": "e903a4b2-480c-4119-8a5e-9938b8b967c3",
   "metadata": {
    "tags": []
   },
   "source": [
    "<div class=\"alert alert-block alert-info\">\n",
    "    Identifying the names of each parameter\n",
    "</div>"
   ]
  },
  {
   "cell_type": "code",
   "execution_count": null,
   "id": "d2d16121-b308-4d70-9b97-aeec68aed6e8",
   "metadata": {},
   "outputs": [],
   "source": [
    "sorted(reg.get_params().keys())"
   ]
  },
  {
   "cell_type": "markdown",
   "id": "ce5a632b-e760-4ec5-9217-11feb2728cee",
   "metadata": {
    "tags": []
   },
   "source": [
    "<div class=\"alert alert-block alert-info\">\n",
    "    Parameters settings\n",
    "</div>"
   ]
  },
  {
   "cell_type": "code",
   "execution_count": null,
   "id": "eda5427e-0b63-47c4-99d6-6557b452130c",
   "metadata": {},
   "outputs": [],
   "source": [
    "param_grid = {\n",
    "    \"lasso__alpha\" : np.arange(0.01, 1, 0.01), # Constant that multiplies the L1 term.\n",
    "    \"lasso__copy_X\" : [True, False], # If True, X will be copied; else, it may be overwritten.\n",
    "    \"lasso__fit_intercept\" : [True, False] # Whether to calculate the intercept for this model.\n",
    "}"
   ]
  },
  {
   "cell_type": "markdown",
   "id": "0e4b4594-94e2-4dd9-9ff9-8a28f6c0cd2c",
   "metadata": {
    "tags": []
   },
   "source": [
    "<div class=\"alert alert-block alert-info\">\n",
    "    Executing the model\n",
    "</div>"
   ]
  },
  {
   "cell_type": "code",
   "execution_count": null,
   "id": "0cb8e7e5-fcca-408d-b457-a8584b5dc3c8",
   "metadata": {},
   "outputs": [],
   "source": [
    "# K-Folds cross-validator\n",
    "kfold = KFold(n_splits=5, shuffle=False, random_state=None)\n",
    "\n",
    "search = GridSearchCV(reg, param_grid, n_jobs=-2, cv=kfold, scoring=SCORINGS, refit=\"R2\", return_train_score=True)\n",
    "\n",
    "search.fit(X_train, y_train)\n",
    "\n",
    "# Transforming the result to dataframe format\n",
    "df_results = pd.DataFrame(search.cv_results_)\n",
    "\n",
    "# Get the results\n",
    "print(\"Metrics based on the best R2\".translate(SUP))\n",
    "print(\"- R2:\".translate(SUP), round(search.best_score_, 3))\n",
    "print(\"- MAE:\", round(abs(df_results.iloc[search.best_index_][\"mean_test_MAE\"]), 3))\n",
    "print(\"- RMSE:\", round(math.sqrt(abs(df_results.iloc[search.best_index_][\"mean_test_MSE\"])), 3))\n",
    "print(\"- Duration:\", round(df_results.iloc[search.best_index_][\"mean_score_time\"], 3))\n",
    "print(\"- Parameters:\", search.best_params_)"
   ]
  },
  {
   "cell_type": "markdown",
   "id": "e55c356d-05e7-4eff-9a1c-d4018faa76e9",
   "metadata": {
    "tags": []
   },
   "source": [
    "<div class=\"alert alert-block alert-info\">\n",
    "    We got the <b>best parameters</b> so, we are going to <b>analyze</b> them more in details \n",
    "</div>"
   ]
  },
  {
   "cell_type": "markdown",
   "id": "b056fb99-75a1-4f03-b7a2-4889e1de4e8e",
   "metadata": {},
   "source": [
    "<div style=\"background-color: #6D83C5;\" >\n",
    "    <h4 style=\"margin: auto; padding: 20px; color:#fff; \">6.3.1 Lasso Validation curve</h4>\n",
    "</div>"
   ]
  },
  {
   "cell_type": "markdown",
   "id": "37e39d8b-2cd0-4146-a753-eb27e63f4633",
   "metadata": {
    "tags": []
   },
   "source": [
    "<div class=\"alert alert-block alert-info\">\n",
    "    To plot the <b>Validation curve</b>, we are going to use a <b>range of alpha</b> to analyze the model through them\n",
    "</div>"
   ]
  },
  {
   "cell_type": "code",
   "execution_count": null,
   "id": "996d9cf7-28d3-4bd3-a17b-495537f92a39",
   "metadata": {},
   "outputs": [],
   "source": [
    "kfold = KFold(n_splits=5, shuffle=False, random_state=None)\n",
    "\n",
    "alpha = np.arange(0.01, 1, 0.01).tolist()\n",
    "\n",
    "reg = make_pipeline(preprocessor, Lasso(copy_X=True, fit_intercept=True))"
   ]
  },
  {
   "cell_type": "markdown",
   "id": "4da7cacf-5f40-4110-b5b4-d6f69b1aaa57",
   "metadata": {
    "tags": []
   },
   "source": [
    "<div class=\"alert alert-block alert-info\">\n",
    "    Plotting <b>the validacion curve</b> based on the best parameters\n",
    "</div>"
   ]
  },
  {
   "cell_type": "code",
   "execution_count": null,
   "id": "94599d0d-e078-4f03-b786-253e0b0fbe9c",
   "metadata": {},
   "outputs": [],
   "source": [
    "plot_validation_curve(reg, \"Lasso\", X_train, y_train, param_name=\"lasso__alpha\", param_range=alpha, param_name_short=\"alpha\", cv=kfold)"
   ]
  },
  {
   "cell_type": "markdown",
   "id": "2f3538db-b4f5-4108-8aa0-b307db771f2a",
   "metadata": {
    "tags": []
   },
   "source": [
    "<div class=\"alert alert-block alert-success\">\n",
    "    <p><b>Observations / Conclusions</b></p>\n",
    "    \n",
    "    <p>As you go through <b>alpha</b> you can see how the score decrease. We can say that the model is <b>Underfitting</b> maybe due to have a poor feature set <br>or the relationships in the data are inherently</p>\n",
    "    <p>We have have to consider that <b>Lasso</b> is a type of regularized linear regression that includes an L1 penalsy so, it considers a Linear regresion among the features and the targed. On the other hand, we are working with a Non-linear dataset.</p>\n",
    "\n",
    "</div>"
   ]
  },
  {
   "cell_type": "markdown",
   "id": "674dc5da-0a21-4ec2-89e3-b65c3e0a3f05",
   "metadata": {},
   "source": [
    "<div style=\"background-color: #6D83C5;\" >\n",
    "    <h4 style=\"margin: auto; padding: 20px; color:#fff; \">6.3.2 Lasso Learning curve</h4>\n",
    "</div>"
   ]
  },
  {
   "cell_type": "markdown",
   "id": "db280ecb-ef1e-4d44-b2d0-c429b089c02f",
   "metadata": {
    "tags": []
   },
   "source": [
    "<div class=\"alert alert-block alert-info\">\n",
    "    To plot the <b>Learning curve</b>, we are going to use the <b>best  parameters</b> to analyze the model\n",
    "</div>"
   ]
  },
  {
   "cell_type": "code",
   "execution_count": null,
   "id": "eb76bc90-bd4c-400f-9b14-a78d6d042526",
   "metadata": {},
   "outputs": [],
   "source": [
    "kfold = KFold(n_splits=5, shuffle=False, random_state=None)\n",
    "\n",
    "reg = make_pipeline(preprocessor, Lasso(alpha=0.01, copy_X=True, fit_intercept=True))"
   ]
  },
  {
   "cell_type": "markdown",
   "id": "78271b59-644a-4ac4-8fa8-9fa4203617e0",
   "metadata": {
    "tags": []
   },
   "source": [
    "<div class=\"alert alert-block alert-info\">\n",
    "    Plotting <b>the learning curve</b> based on the best parameters\n",
    "</div>"
   ]
  },
  {
   "cell_type": "code",
   "execution_count": null,
   "id": "754a54d0-edb2-4ee6-9daf-e611421edf1a",
   "metadata": {},
   "outputs": [],
   "source": [
    "plot_learning_curve(reg, \"Lasso\", X_train, y_train, cv=kfold)"
   ]
  },
  {
   "cell_type": "markdown",
   "id": "ac7c5d13-38de-45b9-ba63-76e3ae2e3a13",
   "metadata": {},
   "source": [
    "<div style=\"background-color: #6D83C5;\" >\n",
    "    <h4 style=\"margin: auto; padding: 20px; color:#fff; \">6.3.3 Lasso predictions validations</h4>\n",
    "</div>"
   ]
  },
  {
   "cell_type": "markdown",
   "id": "751d1ebd-9a30-44c6-ba06-d609d19c0906",
   "metadata": {
    "tags": []
   },
   "source": [
    "<div class=\"alert alert-block alert-info\">\n",
    "    To plot the <b>predictions validations</b>, we are going to use the <b>best  parameters</b> to analyze the model after <b>fitting</b> and <b>predicting</b> values</b>\n",
    "</div>"
   ]
  },
  {
   "cell_type": "code",
   "execution_count": null,
   "id": "14231b29-63e0-4f32-870a-6b1212c795a8",
   "metadata": {},
   "outputs": [],
   "source": [
    "kfold = KFold(n_splits=5, shuffle=True, random_state=0)\n",
    "\n",
    "reg = make_pipeline(preprocessor, Lasso(alpha=0.01, copy_X=True, fit_intercept=True))\n",
    "\n",
    "reg.fit(X_train, y_train)\n",
    "\n",
    "# Making the prediction using the testing data\n",
    "y_pred = reg.predict(X_test)"
   ]
  },
  {
   "cell_type": "markdown",
   "id": "f2744e62-188c-4c35-8da0-2c3e5fc00097",
   "metadata": {
    "tags": []
   },
   "source": [
    "<div class=\"alert alert-block alert-info\">\n",
    "    Plotting <b>the Cross-Validated Predictions</b> based on the best parameters for <b>training data</b>\n",
    "</div>"
   ]
  },
  {
   "cell_type": "code",
   "execution_count": null,
   "id": "f16fb709-e3c2-4559-aceb-c54f39d177c4",
   "metadata": {},
   "outputs": [],
   "source": [
    "# Making the prediction using the testing data\n",
    "plot_cross_val_predi(reg, \"Lasso\", \"SiteEnergyUse(kBtu)\", X_train, y_train, cv=kfold)"
   ]
  },
  {
   "cell_type": "markdown",
   "id": "cdd8818c-272e-4501-b942-cb8b55b64738",
   "metadata": {},
   "source": [
    "<div style=\"background-color: #6D83C5;\" >\n",
    "    <h4 style=\"margin: auto; padding: 20px; color:#fff; \">6.3.4 Lasso Features Importance</h4>\n",
    "</div>"
   ]
  },
  {
   "cell_type": "markdown",
   "id": "ce83f9e7-087d-43e7-9f65-73e03dd1cbf9",
   "metadata": {
    "tags": []
   },
   "source": [
    "<div class=\"alert alert-block alert-info\">\n",
    "    To plot the <b>Features Importance</b>, we are going to use the <b>best  parameters</b> to analyze the model after <b>fitting</b> values</b>\n",
    "</div>"
   ]
  },
  {
   "cell_type": "code",
   "execution_count": null,
   "id": "a165cd51-7867-430f-9c3c-1719b14fdfe4",
   "metadata": {},
   "outputs": [],
   "source": [
    "reg = make_pipeline(preprocessor, Lasso(alpha=0.01, copy_X=True, fit_intercept=True))\n",
    "\n",
    "reg.fit(X_train, y_train)"
   ]
  },
  {
   "cell_type": "markdown",
   "id": "36f6d408-da8b-40ea-85c4-c6b780676176",
   "metadata": {
    "tags": []
   },
   "source": [
    "<div class=\"alert alert-block alert-info\">\n",
    "    Plotting <b>the Features Importance</b> based on the best parameters\n",
    "</div>"
   ]
  },
  {
   "cell_type": "code",
   "execution_count": null,
   "id": "9e642041-ec3f-4ed4-9e6d-a6d5aff4fee8",
   "metadata": {},
   "outputs": [],
   "source": [
    "plot_features_importance(reg, \"Lasso\", X_train, y_train, scoring=\"neg_mean_squared_error\")"
   ]
  },
  {
   "cell_type": "markdown",
   "id": "c102f391-2fb4-4cd8-a075-9348d12f1920",
   "metadata": {},
   "source": [
    "<div style=\"background-color: #6D83C5;\" >\n",
    "    <h4 style=\"margin: auto; padding: 20px; color:#fff; \">6.3.5 Predictions metrics</h4>\n",
    "</div>"
   ]
  },
  {
   "cell_type": "markdown",
   "id": "418f2fd9-6a8f-40b2-b9c4-713c1da0aae3",
   "metadata": {
    "tags": []
   },
   "source": [
    "<div class=\"alert alert-block alert-info\">\n",
    "    We are going to make the prediction with the testing set to compare the result with the model in default mode\n",
    "</div>"
   ]
  },
  {
   "cell_type": "code",
   "execution_count": null,
   "id": "18ad80bb-e24c-4b2a-bb8e-0bf233161323",
   "metadata": {},
   "outputs": [],
   "source": [
    "start_time_model = timeit.default_timer()\n",
    "\n",
    "reg = make_pipeline(preprocessor, Lasso(alpha=0.01, copy_X=True, fit_intercept=True))\n",
    "\n",
    "reg.fit(X_train, y_train)\n",
    "\n",
    "# Making the prediction using the testing data\n",
    "y_pred = reg.predict(X_test)\n",
    "\n",
    "end_time_model =  round(timeit.default_timer() - start_time_model, 3)\n",
    "\n",
    "# Calculating R2 Coefficient of determination for each model (Best possible score is 1.0, lower values are worse.)\n",
    "R2SCORE = round(r2_score(y_test, y_pred), 5)\n",
    "    \n",
    "# Calculating the Mean absolute error (The best value is 0.0)\n",
    "MAE = round(mean_absolute_error(y_test, y_pred), 3)\n",
    "    \n",
    "# Calculating Root Mean Square Error for each model (The best value is 0.0)\n",
    "RMSE = round(mean_squared_error(y_test, y_pred, squared=False), 3)"
   ]
  },
  {
   "cell_type": "markdown",
   "id": "65de4bad-aa31-4a7f-a1d5-e282b81cfb0f",
   "metadata": {
    "tags": []
   },
   "source": [
    "<div class=\"alert alert-block alert-info\">\n",
    "    Adding the prediction to compare at the end\n",
    "</div>"
   ]
  },
  {
   "cell_type": "code",
   "execution_count": null,
   "id": "d4f15512-cf5a-4424-b64b-c0624e461155",
   "metadata": {
    "tags": []
   },
   "outputs": [],
   "source": [
    "# Concatenating predictions to compare against y_test_transformed\n",
    "df_temp = pd.DataFrame({\n",
    "    \"Model\" : \"Lasso\",\n",
    "    \"y_pred\" : y_pred\n",
    "})"
   ]
  },
  {
   "cell_type": "code",
   "execution_count": null,
   "id": "54eee4ee-6f01-4522-81bc-ea1ca99f7dd4",
   "metadata": {},
   "outputs": [],
   "source": [
    "# Concatenating predictions to compare against y_test_transformed\n",
    "df_y_pred_gsc = pd.concat([df_y_pred_gsc, df_temp])"
   ]
  },
  {
   "cell_type": "markdown",
   "id": "a92c00bf-333a-4400-9229-b8ac4f27a836",
   "metadata": {
    "tags": []
   },
   "source": [
    "<div class=\"alert alert-block alert-info\">\n",
    "    Verifying the prediction model into the dataset\n",
    "</div>"
   ]
  },
  {
   "cell_type": "code",
   "execution_count": null,
   "id": "1c4b4af5-cb55-4874-a962-8a30792cba64",
   "metadata": {},
   "outputs": [],
   "source": [
    "df_y_pred_gsc[\"Model\"].unique()"
   ]
  },
  {
   "cell_type": "markdown",
   "id": "5ab930e7-7b7f-4576-9f98-050c0b35ce7f",
   "metadata": {
    "tags": []
   },
   "source": [
    "<div class=\"alert alert-block alert-info\">\n",
    "    Adding metrics to compare at the end\n",
    "</div>"
   ]
  },
  {
   "cell_type": "code",
   "execution_count": null,
   "id": "5e31d490-72ee-47cc-837c-a859cd144ca0",
   "metadata": {},
   "outputs": [],
   "source": [
    "df_temp = pd.DataFrame({\n",
    "    \"Model\" : [\"Lasso\"],\n",
    "    \"R2\".translate(SUP) : [R2SCORE], \n",
    "    \"MAE\" : [MAE],    \n",
    "    \"RMSE\" : [RMSE],\n",
    "    \"Duration\" : [end_time_model]\n",
    "})"
   ]
  },
  {
   "cell_type": "code",
   "execution_count": null,
   "id": "01c004eb-a29c-48f0-98db-0da1a4985c93",
   "metadata": {},
   "outputs": [],
   "source": [
    "# Concatenating metrics to compare against model with default parameters\n",
    "df_models_metrics_gsc = pd.concat([df_models_metrics_gsc, df_temp])"
   ]
  },
  {
   "cell_type": "code",
   "execution_count": null,
   "id": "b79ed82b-805a-4647-a896-6513efff328d",
   "metadata": {},
   "outputs": [],
   "source": [
    "df_models_metrics_gsc"
   ]
  },
  {
   "cell_type": "code",
   "execution_count": null,
   "id": "e36d0d55-35b3-4b2d-ba43-57957e63566c",
   "metadata": {},
   "outputs": [],
   "source": [
    "df_models_metrics"
   ]
  },
  {
   "cell_type": "markdown",
   "id": "1d0e69f5-5399-4659-89a6-f85e6993e190",
   "metadata": {
    "tags": []
   },
   "source": [
    "<div class=\"alert alert-block alert-success\">\n",
    "    Compared to the model with default parameters, we can see how the result improved for Lasso\n",
    "</div>"
   ]
  },
  {
   "cell_type": "markdown",
   "id": "73a42df5-f571-4dfe-b641-7435b40ab684",
   "metadata": {},
   "source": [
    "<div style=\"background-color: #6D83C5;\" >\n",
    "    <h3 style=\"margin: auto; padding: 20px; color:#fff; \">6.4. SVR optimization</h3>\n",
    "</div>"
   ]
  },
  {
   "cell_type": "markdown",
   "id": "124daaf8-c94a-457d-8856-674f913eaab6",
   "metadata": {
    "tags": []
   },
   "source": [
    "<div class=\"alert alert-block alert-info\">\n",
    "    Initializing model\n",
    "</div>"
   ]
  },
  {
   "cell_type": "code",
   "execution_count": null,
   "id": "8bb7c603-5aee-4fac-b416-cbf819bd11a3",
   "metadata": {},
   "outputs": [],
   "source": [
    "svr = SVR()"
   ]
  },
  {
   "cell_type": "markdown",
   "id": "34d6999d-a2e9-4051-90d2-07cdf4d1085f",
   "metadata": {
    "tags": []
   },
   "source": [
    "<div class=\"alert alert-block alert-info\">\n",
    "    Data preprocessing based on the pipelines and the regressors setup\n",
    "</div>"
   ]
  },
  {
   "cell_type": "code",
   "execution_count": null,
   "id": "165b4ae6-12bf-42fd-8fea-54394c3db4c6",
   "metadata": {},
   "outputs": [],
   "source": [
    "reg = make_pipeline(preprocessor, svr)"
   ]
  },
  {
   "cell_type": "markdown",
   "id": "c2c7b0f9-2032-4684-9930-57e09818d319",
   "metadata": {
    "tags": []
   },
   "source": [
    "<div class=\"alert alert-block alert-info\">\n",
    "    Identifying the names of each parameter\n",
    "</div>"
   ]
  },
  {
   "cell_type": "code",
   "execution_count": null,
   "id": "4ef2419c-cbef-4e10-bb41-d865d1427009",
   "metadata": {},
   "outputs": [],
   "source": [
    "sorted(reg.get_params().keys())"
   ]
  },
  {
   "cell_type": "markdown",
   "id": "82a9b2f4-f5a2-47a6-a9b9-2ebf4f7e1731",
   "metadata": {
    "tags": []
   },
   "source": [
    "<div class=\"alert alert-block alert-info\">\n",
    "    Parameters settings\n",
    "</div>"
   ]
  },
  {
   "cell_type": "code",
   "execution_count": null,
   "id": "0183350e-e70b-4a4c-98f3-e2008b5518c6",
   "metadata": {
    "tags": []
   },
   "outputs": [],
   "source": [
    "param_grid = {\n",
    "    \"svr__kernel\" : [\"linear\", \"poly\", \"rbf\"], # Specifies the kernel type to be used in the algorithm.\n",
    "    \"svr__gamma\" : [\"auto\", \"scale\"], # Kernel coefficient for ‘rbf’, ‘poly’ and ‘sigmoid’.\n",
    "    \"svr__C\" : [1.5, 10], # Regularization parameter. The strength of the regularization is inversely proportional to C.\n",
    "    \"svr__epsilon\" : [0.1, 0.2, 0.5, 0.3] # It specifies the epsilon-tube within which no penalty is associated \n",
    "                                       # in the training loss function with points predicted within a distance epsilon from the actual value.\n",
    "}"
   ]
  },
  {
   "cell_type": "markdown",
   "id": "34e01def-ade9-41fb-a128-cd05e54a9053",
   "metadata": {
    "tags": []
   },
   "source": [
    "<div class=\"alert alert-block alert-info\">\n",
    "    Executing the model\n",
    "</div>"
   ]
  },
  {
   "cell_type": "code",
   "execution_count": null,
   "id": "c62f2587-1470-4129-8250-541ab327260a",
   "metadata": {},
   "outputs": [],
   "source": [
    "# K-Folds cross-validator\n",
    "kfold = KFold(n_splits=5, shuffle=False, random_state=None)\n",
    "\n",
    "search = GridSearchCV(reg, param_grid, n_jobs=1, cv=kfold, scoring=SCORINGS, refit=\"R2\", return_train_score=True)\n",
    "\n",
    "search.fit(X_train, y_train)\n",
    "\n",
    "# Transforming the result to dataframe format\n",
    "df_results = pd.DataFrame(search.cv_results_)\n",
    "\n",
    "# Get the results\n",
    "print(\"Metrics based on the best R2\".translate(SUP))\n",
    "print(\"- R2:\".translate(SUP), round(search.best_score_, 3))\n",
    "print(\"- MAE:\", round(abs(df_results.iloc[search.best_index_][\"mean_test_MAE\"]), 3))\n",
    "print(\"- RMSE:\", round(math.sqrt(abs(df_results.iloc[search.best_index_][\"mean_test_MSE\"])), 3))\n",
    "print(\"- Duration:\", round(df_results.iloc[search.best_index_][\"mean_score_time\"], 3))\n",
    "print(\"- Parameters:\", search.best_params_)"
   ]
  },
  {
   "cell_type": "markdown",
   "id": "5ef257e4-84a7-4fe2-8860-dab5fb6af9c5",
   "metadata": {
    "tags": []
   },
   "source": [
    "<div class=\"alert alert-block alert-info\">\n",
    "    We got the <b>best parameters</b> so, we are going to <b>analyze</b> them more in details \n",
    "</div>"
   ]
  },
  {
   "cell_type": "markdown",
   "id": "2add2a2c-90ba-4a63-9092-5ea15419922b",
   "metadata": {},
   "source": [
    "<div style=\"background-color: #6D83C5;\" >\n",
    "    <h4 style=\"margin: auto; padding: 20px; color:#fff; \">6.4.1 SVR Validation curve</h4>\n",
    "</div>"
   ]
  },
  {
   "cell_type": "markdown",
   "id": "e9989f7d-8634-47db-9096-1b12b05a910e",
   "metadata": {
    "tags": []
   },
   "source": [
    "<div class=\"alert alert-block alert-info\">\n",
    "    To plot the <b>Validation curve</b>, we are going to use a <b>range of alpha</b> to analyze the model through them\n",
    "</div>"
   ]
  },
  {
   "cell_type": "code",
   "execution_count": null,
   "id": "5771981c-ab4f-4cf2-a3e8-cb64c50235a4",
   "metadata": {},
   "outputs": [],
   "source": [
    "kfold = KFold(n_splits=5, shuffle=False, random_state=None)\n",
    "\n",
    "gamma = np.arange(0.01, 1, 0.01).tolist()\n",
    "\n",
    "reg = make_pipeline(preprocessor, SVR(C=10, epsilon=0.5, kernel=\"rbf\"))"
   ]
  },
  {
   "cell_type": "markdown",
   "id": "55b518f3-8fba-4381-b768-3a742aa9a54b",
   "metadata": {
    "tags": []
   },
   "source": [
    "<div class=\"alert alert-block alert-info\">\n",
    "    Plotting <b>the validacion curve</b> based on the best parameters\n",
    "</div>"
   ]
  },
  {
   "cell_type": "code",
   "execution_count": null,
   "id": "bf7e5fff-897c-429a-bdfa-c309ad3bfeab",
   "metadata": {},
   "outputs": [],
   "source": [
    "plot_validation_curve(reg, \"SVR\", X_train, y_train, param_name=\"svr__gamma\", param_range=gamma, param_name_short=\"gamma\", cv=kfold)"
   ]
  },
  {
   "cell_type": "markdown",
   "id": "55cfa1d1-7704-465b-92ef-1c6ee43d3613",
   "metadata": {
    "tags": []
   },
   "source": [
    "<div class=\"alert alert-block alert-success\">\n",
    "    <p><b>Observations / Conclusions</b></p>\n",
    "    \n",
    "    <p>As you go through <b>gamma</b> you can see how the variance increase between train and validation set. We can say that the model is <b>Overfitting</b> \n",
    "</div>"
   ]
  },
  {
   "cell_type": "markdown",
   "id": "141e2e4d-d473-44e9-8972-b37d2614195d",
   "metadata": {},
   "source": [
    "<div style=\"background-color: #6D83C5;\" >\n",
    "    <h4 style=\"margin: auto; padding: 20px; color:#fff; \">6.4.2 SVR Learning curve</h4>\n",
    "</div>"
   ]
  },
  {
   "cell_type": "markdown",
   "id": "8da1b1ca-f4e6-4c44-b02e-a0ceb5b69aee",
   "metadata": {
    "tags": []
   },
   "source": [
    "<div class=\"alert alert-block alert-info\">\n",
    "    To plot the <b>Learning curve</b>, we are going to use the <b>best  parameters</b> to analyze the model\n",
    "</div>"
   ]
  },
  {
   "cell_type": "code",
   "execution_count": null,
   "id": "80f5d0cb-287c-4998-adc9-42abcc29a7ae",
   "metadata": {},
   "outputs": [],
   "source": [
    "kfold = KFold(n_splits=5, shuffle=False, random_state=None)\n",
    "\n",
    "reg = make_pipeline(preprocessor, SVR(C=10, epsilon=0.5, kernel=\"rbf\", gamma=\"auto\"))"
   ]
  },
  {
   "cell_type": "markdown",
   "id": "d959311e-b0c5-487a-b595-2655db48d187",
   "metadata": {
    "tags": []
   },
   "source": [
    "<div class=\"alert alert-block alert-info\">\n",
    "    Plotting <b>the learning curve</b> based on the best parameters\n",
    "</div>"
   ]
  },
  {
   "cell_type": "code",
   "execution_count": null,
   "id": "421123d3-98a6-4e3d-a423-224df32c0b09",
   "metadata": {},
   "outputs": [],
   "source": [
    "plot_learning_curve(reg, \"SVR\", X_train, y_train, cv=kfold)"
   ]
  },
  {
   "cell_type": "markdown",
   "id": "c617effd-0d37-41be-8949-7367d300c7df",
   "metadata": {},
   "source": [
    "<div style=\"background-color: #6D83C5;\" >\n",
    "    <h4 style=\"margin: auto; padding: 20px; color:#fff; \">6.4.3 SVR predictions validations</h4>\n",
    "</div>"
   ]
  },
  {
   "cell_type": "markdown",
   "id": "4a61d171-871f-42ba-bf94-1551f455453e",
   "metadata": {
    "tags": []
   },
   "source": [
    "<div class=\"alert alert-block alert-info\">\n",
    "    To plot the <b>predictions validations</b>, we are going to use the <b>best  parameters</b> to analyze the model after <b>fitting</b> and <b>predicting</b> values</b>\n",
    "</div>"
   ]
  },
  {
   "cell_type": "code",
   "execution_count": null,
   "id": "41ff47d5-2c36-4010-a4a7-9f885062aecf",
   "metadata": {},
   "outputs": [],
   "source": [
    "kfold = KFold(n_splits=5, shuffle=True, random_state=0)\n",
    "\n",
    "reg = make_pipeline(preprocessor, SVR(C=10, epsilon=0.5, kernel=\"rbf\", gamma=\"auto\"))\n",
    "\n",
    "reg.fit(X_train, y_train)\n",
    "\n",
    "# Making the prediction using the testing data\n",
    "y_pred = reg.predict(X_test)"
   ]
  },
  {
   "cell_type": "markdown",
   "id": "56eae49c-6d76-474d-b395-64332ba91f0c",
   "metadata": {
    "tags": []
   },
   "source": [
    "<div class=\"alert alert-block alert-info\">\n",
    "    Plotting <b>the Cross-Validated Predictions</b> based on the best parameters for <b>training data</b>\n",
    "</div>"
   ]
  },
  {
   "cell_type": "code",
   "execution_count": null,
   "id": "37d99e61-0cc7-4c5f-9a32-e74b1e44644b",
   "metadata": {},
   "outputs": [],
   "source": [
    "# Making the prediction using the testing data\n",
    "plot_cross_val_predi(reg, \"SVR\", \"SiteEnergyUse(kBtu)\", X_train, y_train, cv=kfold)"
   ]
  },
  {
   "cell_type": "markdown",
   "id": "898e36d7-fb27-4607-bd49-35ad1ea16660",
   "metadata": {},
   "source": [
    "<div style=\"background-color: #6D83C5;\" >\n",
    "    <h4 style=\"margin: auto; padding: 20px; color:#fff; \">6.4.4 SVR Features Importance</h4>\n",
    "</div>"
   ]
  },
  {
   "cell_type": "markdown",
   "id": "9f9c0cc5-2611-454a-be02-840701a2a192",
   "metadata": {
    "tags": []
   },
   "source": [
    "<div class=\"alert alert-block alert-info\">\n",
    "    To plot the <b>Features Importance</b>, we are going to use the <b>best  parameters</b> to analyze the model after <b>fitting</b> values</b>\n",
    "</div>"
   ]
  },
  {
   "cell_type": "code",
   "execution_count": null,
   "id": "878d402d-f1ed-4400-a964-cd86551b6671",
   "metadata": {},
   "outputs": [],
   "source": [
    "reg = make_pipeline(preprocessor, SVR(C=10, epsilon=0.5, kernel=\"rbf\", gamma=\"auto\"))\n",
    "\n",
    "reg.fit(X_train, y_train)"
   ]
  },
  {
   "cell_type": "markdown",
   "id": "7ba223c9-5066-4288-bfb5-4fef6c7f7cec",
   "metadata": {
    "tags": []
   },
   "source": [
    "<div class=\"alert alert-block alert-info\">\n",
    "    Plotting <b>the Features Importance</b> based on the best parameters\n",
    "</div>"
   ]
  },
  {
   "cell_type": "code",
   "execution_count": null,
   "id": "1edd59a8-da78-4783-b685-25d61b143447",
   "metadata": {
    "tags": []
   },
   "outputs": [],
   "source": [
    "plot_features_importance(reg, \"SVR\", X_train, y_train, scoring=\"neg_mean_squared_error\")"
   ]
  },
  {
   "cell_type": "markdown",
   "id": "452c502c-0061-41d2-9fa8-dfaa65315495",
   "metadata": {},
   "source": [
    "<div style=\"background-color: #6D83C5;\" >\n",
    "    <h4 style=\"margin: auto; padding: 20px; color:#fff; \">6.4.5 Predictions metrics</h4>\n",
    "</div>"
   ]
  },
  {
   "cell_type": "markdown",
   "id": "326bc08a-3150-483f-ad03-094b3e5bfc59",
   "metadata": {
    "tags": []
   },
   "source": [
    "<div class=\"alert alert-block alert-info\">\n",
    "    We are going to make the prediction with the testing set to compare the result with the model in default mode\n",
    "</div>"
   ]
  },
  {
   "cell_type": "code",
   "execution_count": null,
   "id": "37db6e42-a115-4537-8dbc-c45ae767c46a",
   "metadata": {},
   "outputs": [],
   "source": [
    "start_time_model = timeit.default_timer()\n",
    "\n",
    "reg = make_pipeline(preprocessor, SVR(C=10, epsilon=0.5, kernel=\"rbf\", gamma=\"auto\"))\n",
    "\n",
    "reg.fit(X_train, y_train)\n",
    "\n",
    "# Making the prediction using the testing data\n",
    "y_pred = reg.predict(X_test)\n",
    "\n",
    "end_time_model =  round(timeit.default_timer() - start_time_model, 3)\n",
    "\n",
    "# Calculating R2 Coefficient of determination for each model (Best possible score is 1.0, lower values are worse.)\n",
    "R2SCORE = round(r2_score(y_test, y_pred), 5)\n",
    "    \n",
    "# Calculating the Mean absolute error (The best value is 0.0)\n",
    "MAE = round(mean_absolute_error(y_test, y_pred), 3)\n",
    "    \n",
    "# Calculating Root Mean Square Error for each model (The best value is 0.0)\n",
    "RMSE = round(mean_squared_error(y_test, y_pred, squared=False), 3)"
   ]
  },
  {
   "cell_type": "markdown",
   "id": "13b4bc44-d5aa-4a20-a9f7-23140c2df569",
   "metadata": {
    "tags": []
   },
   "source": [
    "<div class=\"alert alert-block alert-info\">\n",
    "    Adding the prediction to compare at the end\n",
    "</div>"
   ]
  },
  {
   "cell_type": "code",
   "execution_count": null,
   "id": "986d9a1c-79c3-48b1-b8a4-5c9d3c568dd2",
   "metadata": {
    "tags": []
   },
   "outputs": [],
   "source": [
    "# Concatenating predictions to compare against y_test_transformed\n",
    "df_temp = pd.DataFrame({\n",
    "    \"Model\" : \"SVR\",\n",
    "    \"y_pred\" : y_pred\n",
    "})"
   ]
  },
  {
   "cell_type": "code",
   "execution_count": null,
   "id": "614dade3-e5d1-4306-a3ee-f82c668cf564",
   "metadata": {},
   "outputs": [],
   "source": [
    "# Concatenating predictions to compare against y_test_transformed\n",
    "df_y_pred_gsc = pd.concat([df_y_pred_gsc, df_temp])"
   ]
  },
  {
   "cell_type": "markdown",
   "id": "8f5e5210-82b3-4f13-8efd-a84b10b94c54",
   "metadata": {
    "tags": []
   },
   "source": [
    "<div class=\"alert alert-block alert-info\">\n",
    "    Verifying the prediction model into the dataset\n",
    "</div>"
   ]
  },
  {
   "cell_type": "code",
   "execution_count": null,
   "id": "b0a4dfa0-af65-4db6-a947-e4c7f739c805",
   "metadata": {},
   "outputs": [],
   "source": [
    "df_y_pred_gsc[\"Model\"].unique()"
   ]
  },
  {
   "cell_type": "markdown",
   "id": "30cb05e6-0cdc-452c-8e7b-978831a56421",
   "metadata": {
    "tags": []
   },
   "source": [
    "<div class=\"alert alert-block alert-info\">\n",
    "    Adding metrics to compare at the end\n",
    "</div>"
   ]
  },
  {
   "cell_type": "code",
   "execution_count": null,
   "id": "d20f4442-7e98-47c7-bc8e-3f7382e4c766",
   "metadata": {},
   "outputs": [],
   "source": [
    "df_temp = pd.DataFrame({\n",
    "    \"Model\" : [\"SVR\"],\n",
    "    \"R2\".translate(SUP) : [R2SCORE], \n",
    "    \"MAE\" : [MAE],    \n",
    "    \"RMSE\" : [RMSE],\n",
    "    \"Duration\" : [end_time_model]\n",
    "})"
   ]
  },
  {
   "cell_type": "code",
   "execution_count": null,
   "id": "8b4233f0-6b8f-4253-b009-f33a425d58fe",
   "metadata": {},
   "outputs": [],
   "source": [
    "# Concatenating metrics to compare against model with default parameters\n",
    "df_models_metrics_gsc = pd.concat([df_models_metrics_gsc, df_temp])"
   ]
  },
  {
   "cell_type": "code",
   "execution_count": null,
   "id": "61ec7f65-655c-4072-b432-3edafe182053",
   "metadata": {},
   "outputs": [],
   "source": [
    "df_models_metrics_gsc"
   ]
  },
  {
   "cell_type": "code",
   "execution_count": null,
   "id": "8e549d0e-95cd-4e57-8635-d43bc366ca30",
   "metadata": {},
   "outputs": [],
   "source": [
    "df_models_metrics"
   ]
  },
  {
   "cell_type": "markdown",
   "id": "5a8dfb32-5d3c-4c6f-94b1-3a577759a9df",
   "metadata": {
    "tags": []
   },
   "source": [
    "<div class=\"alert alert-block alert-success\">\n",
    "    Compared to the model with default parameters, we can see how the result decreased for SVR\n",
    "</div>"
   ]
  },
  {
   "cell_type": "markdown",
   "id": "32f096d3-347a-47bc-be22-8c3b78174c13",
   "metadata": {},
   "source": [
    "<div style=\"background-color: #6D83C5;\" >\n",
    "    <h3 style=\"margin: auto; padding: 20px; color:#fff; \">6.6. Gradient Boosting optimization</h3>\n",
    "</div>"
   ]
  },
  {
   "cell_type": "markdown",
   "id": "6393b188-72bc-4520-b06d-5db51afd2189",
   "metadata": {
    "tags": []
   },
   "source": [
    "<div class=\"alert alert-block alert-info\">\n",
    "    Initializing model\n",
    "</div>"
   ]
  },
  {
   "cell_type": "code",
   "execution_count": null,
   "id": "bc246068-6606-4d22-924b-ad9ac6fb2f59",
   "metadata": {},
   "outputs": [],
   "source": [
    "gbr = GradientBoostingRegressor()"
   ]
  },
  {
   "cell_type": "markdown",
   "id": "2ca2d7f2-1d75-4750-8e48-b8add83d342f",
   "metadata": {
    "tags": []
   },
   "source": [
    "<div class=\"alert alert-block alert-info\">\n",
    "    Data preprocessing based on the pipelines and the regressors setup\n",
    "</div>"
   ]
  },
  {
   "cell_type": "code",
   "execution_count": null,
   "id": "be2ed424-e5b1-4769-bc5e-e93ac3c3b293",
   "metadata": {},
   "outputs": [],
   "source": [
    "reg = make_pipeline(preprocessor, gbr)"
   ]
  },
  {
   "cell_type": "markdown",
   "id": "db85894f-ba9f-45ef-b0a4-535d2d834dae",
   "metadata": {
    "tags": []
   },
   "source": [
    "<div class=\"alert alert-block alert-info\">\n",
    "    Identifying the names of each parameter\n",
    "</div>"
   ]
  },
  {
   "cell_type": "code",
   "execution_count": null,
   "id": "9bb67013-5558-4ec7-9bd8-adbfa3d0bacf",
   "metadata": {},
   "outputs": [],
   "source": [
    "sorted(reg.get_params().keys())"
   ]
  },
  {
   "cell_type": "markdown",
   "id": "7aed9971-a179-4fc9-aa19-abee3e257b86",
   "metadata": {
    "tags": []
   },
   "source": [
    "<div class=\"alert alert-block alert-info\">\n",
    "    Parameters settings\n",
    "</div>"
   ]
  },
  {
   "cell_type": "code",
   "execution_count": null,
   "id": "b5c01b4f-17f0-4d77-98f7-d90692847034",
   "metadata": {},
   "outputs": [],
   "source": [
    "param_grid = {\n",
    "    \"gradientboostingregressor__learning_rate\" : [0.01, 0.02, 0.03, 0.04],\n",
    "    \"gradientboostingregressor__max_depth\" : [2, 4, 6, 8],\n",
    "    \"gradientboostingregressor__n_estimators\" : [100, 500, 1000, 1500],\n",
    "    \"gradientboostingregressor__subsample\" : [0.9, 0.5, 0.2, 0.1]\n",
    "}"
   ]
  },
  {
   "cell_type": "markdown",
   "id": "32f218dc-29f0-4674-9e89-7d328143edfd",
   "metadata": {
    "tags": []
   },
   "source": [
    "<div class=\"alert alert-block alert-info\">\n",
    "    Executing the model\n",
    "</div>"
   ]
  },
  {
   "cell_type": "code",
   "execution_count": null,
   "id": "ff42f99c-600f-4b3a-a53e-dc1c8030874a",
   "metadata": {},
   "outputs": [],
   "source": [
    "## K-Folds cross-validator\n",
    "kfold = KFold(n_splits=5, shuffle=True, random_state=0)\n",
    "\n",
    "search = GridSearchCV(reg, param_grid, n_jobs=1, cv=kfold, scoring=SCORINGS, refit=\"R2\", return_train_score=True)\n",
    "\n",
    "search.fit(X_train, y_train)\n",
    "\n",
    "# Transforming the result to dataframe format\n",
    "df_results = pd.DataFrame(search.cv_results_)\n",
    "\n",
    "# Get the results\n",
    "print(\"Metrics based on the best R2\".translate(SUP))\n",
    "print(\"- R2:\".translate(SUP), round(search.best_score_, 3))\n",
    "print(\"- MAE:\", round(abs(df_results.iloc[search.best_index_][\"mean_test_MAE\"]), 3))\n",
    "print(\"- RMSE:\", round(math.sqrt(abs(df_results.iloc[search.best_index_][\"mean_test_MSE\"])), 3))\n",
    "print(\"- Duration:\", round(df_results.iloc[search.best_index_][\"mean_score_time\"], 3))\n",
    "print(\"- Parameters:\", search.best_params_)"
   ]
  },
  {
   "cell_type": "markdown",
   "id": "c831b355-b899-4fff-a258-9e1a36c53d1c",
   "metadata": {
    "tags": []
   },
   "source": [
    "<div class=\"alert alert-block alert-info\">\n",
    "    We got the <b>best parameters</b> so, we are going to <b>analyze</b> them more in details \n",
    "</div>"
   ]
  },
  {
   "cell_type": "markdown",
   "id": "c2400176-5280-446b-8ddd-4e9ad0fc1669",
   "metadata": {},
   "source": [
    "<div style=\"background-color: #6D83C5;\" >\n",
    "    <h4 style=\"margin: auto; padding: 20px; color:#fff; \">6.6.1 Gradient Boosting Validation curve</h4>\n",
    "</div>"
   ]
  },
  {
   "cell_type": "markdown",
   "id": "36aeaac1-39b2-4e0d-bef0-3a48b8acf5aa",
   "metadata": {
    "tags": []
   },
   "source": [
    "<div class=\"alert alert-block alert-info\">\n",
    "    To plot the <b>Validation curve</b>, we are going to use a <b>range of estimators</b> to analyze the model through them\n",
    "</div>"
   ]
  },
  {
   "cell_type": "code",
   "execution_count": null,
   "id": "85ab7cee-61f9-4bab-8d39-b60815bf991c",
   "metadata": {},
   "outputs": [],
   "source": [
    "kfold = KFold(n_splits=5, shuffle=True, random_state=0)\n",
    "\n",
    "n_estimators = np.unique(np.logspace(0, 1.8, num=30).astype(int))\n",
    "\n",
    "reg = make_pipeline(preprocessor, GradientBoostingRegressor(learning_rate=0.01, max_depth=2, subsample=0.5))"
   ]
  },
  {
   "cell_type": "markdown",
   "id": "29281308-d06c-4a69-9061-89b6b4acc266",
   "metadata": {
    "tags": []
   },
   "source": [
    "<div class=\"alert alert-block alert-info\">\n",
    "    Plotting <b>the validacion curve</b> based on the best parameters\n",
    "</div>"
   ]
  },
  {
   "cell_type": "code",
   "execution_count": null,
   "id": "7a5e05e7-8620-4c11-b2b0-e9fdd02a7f86",
   "metadata": {},
   "outputs": [],
   "source": [
    "plot_validation_curve(reg, \"GradientBoostingRegressor\", X_train, y_train, param_name=\"gradientboostingregressor__n_estimators\", param_range=n_estimators, param_name_short=\"Estimators\", \\\n",
    "                      scoring=\"neg_mean_absolute_error\", cv=kfold)"
   ]
  },
  {
   "cell_type": "markdown",
   "id": "bdd6caf3-1785-4c75-aacf-6611e7e46ccd",
   "metadata": {},
   "source": [
    "<div style=\"background-color: #6D83C5;\" >\n",
    "    <h4 style=\"margin: auto; padding: 20px; color:#fff; \">6.6.2 Gradient Boosting Learning curve</h4>\n",
    "</div>"
   ]
  },
  {
   "cell_type": "markdown",
   "id": "66030d42-964d-4569-8ef4-fa6ec329f018",
   "metadata": {
    "tags": []
   },
   "source": [
    "<div class=\"alert alert-block alert-info\">\n",
    "    To plot the <b>Learning curve</b>, we are going to use the <b>best  parameters</b> to analyze the model\n",
    "</div>"
   ]
  },
  {
   "cell_type": "code",
   "execution_count": null,
   "id": "84d5aecb-2a6d-44f0-8806-a507532a46c8",
   "metadata": {},
   "outputs": [],
   "source": [
    "kfold = KFold(n_splits=5, shuffle=True, random_state=0)\n",
    "\n",
    "reg = make_pipeline(preprocessor, GradientBoostingRegressor(learning_rate=0.01, max_depth=2, n_estimators=1500, subsample=0.5))"
   ]
  },
  {
   "cell_type": "markdown",
   "id": "eef74d4e-0c9f-4bc9-9622-394aff81ad42",
   "metadata": {
    "tags": []
   },
   "source": [
    "<div class=\"alert alert-block alert-info\">\n",
    "    Plotting <b>the learning curve</b> based on the best parameters\n",
    "</div>"
   ]
  },
  {
   "cell_type": "code",
   "execution_count": null,
   "id": "f2cfa301-cf5a-4bb1-b34e-4e0daeabe884",
   "metadata": {},
   "outputs": [],
   "source": [
    "plot_learning_curve(reg, \"GradientBoostingRegressor\", X_train, y_train, cv=kfold)"
   ]
  },
  {
   "cell_type": "markdown",
   "id": "47033259-0715-4b8c-947f-4486d1f6faef",
   "metadata": {},
   "source": [
    "<div style=\"background-color: #6D83C5;\" >\n",
    "    <h4 style=\"margin: auto; padding: 20px; color:#fff; \">6.6.3 Gradient Boosting predictions validations</h4>\n",
    "</div>"
   ]
  },
  {
   "cell_type": "markdown",
   "id": "b6af9378-7074-4568-9cf1-7896d66c7684",
   "metadata": {
    "tags": []
   },
   "source": [
    "<div class=\"alert alert-block alert-info\">\n",
    "    To plot the <b>predictions validations</b>, we are going to use the <b>best  parameters</b> to analyze the model after <b>fitting</b> and <b>predicting</b> values</b>\n",
    "</div>"
   ]
  },
  {
   "cell_type": "code",
   "execution_count": null,
   "id": "5137846f-8df7-4264-b04a-598c3277e762",
   "metadata": {},
   "outputs": [],
   "source": [
    "kfold = KFold(n_splits=5, shuffle=True, random_state=0)\n",
    "\n",
    "reg = make_pipeline(preprocessor, GradientBoostingRegressor(learning_rate=0.01, max_depth=2, n_estimators=1500, subsample=0.5))\n",
    "\n",
    "reg.fit(X_train, y_train)\n",
    "\n",
    "# Making the prediction using the testing data\n",
    "y_pred = reg.predict(X_test)"
   ]
  },
  {
   "cell_type": "markdown",
   "id": "3aec3758-dc3b-4010-a024-d5f867c4f65b",
   "metadata": {
    "tags": []
   },
   "source": [
    "<div class=\"alert alert-block alert-info\">\n",
    "    Plotting <b>the Cross-Validated Predictions</b> based on the best parameters for <b>training data</b>\n",
    "</div>"
   ]
  },
  {
   "cell_type": "code",
   "execution_count": null,
   "id": "54204961-88c0-4e9d-82ab-b7ed5b5ea46d",
   "metadata": {},
   "outputs": [],
   "source": [
    "# Making the prediction using the testing data\n",
    "plot_cross_val_predi(reg, \"GradientBoostingRegressor\", \"SiteEnergyUse(kBtu)\", X_train, y_train, cv=kfold)"
   ]
  },
  {
   "cell_type": "markdown",
   "id": "0c15c918-93b3-4212-948c-08e400777465",
   "metadata": {},
   "source": [
    "<div style=\"background-color: #6D83C5;\" >\n",
    "    <h4 style=\"margin: auto; padding: 20px; color:#fff; \">6.6.4 Gradient Boosting Features Importance</h4>\n",
    "</div>"
   ]
  },
  {
   "cell_type": "markdown",
   "id": "e9937068-308e-47fe-991c-9332b19f4f3e",
   "metadata": {
    "tags": []
   },
   "source": [
    "<div class=\"alert alert-block alert-info\">\n",
    "    To plot the <b>Features Importance</b>, we are going to use the <b>best  parameters</b> to analyze the model after <b>fitting</b> values</b>\n",
    "</div>"
   ]
  },
  {
   "cell_type": "code",
   "execution_count": null,
   "id": "b23cd49d-de29-4403-982a-c3b4d1ba0138",
   "metadata": {},
   "outputs": [],
   "source": [
    "kfold = KFold(n_splits=5, shuffle=True, random_state=0)\n",
    "\n",
    "reg = make_pipeline(preprocessor, GradientBoostingRegressor(learning_rate=0.01, max_depth=2, n_estimators=1500, subsample=0.5))\n",
    "\n",
    "reg.fit(X_train, y_train)"
   ]
  },
  {
   "cell_type": "markdown",
   "id": "0840465b-e846-48f3-b7e0-e0f21b789683",
   "metadata": {
    "tags": []
   },
   "source": [
    "<div class=\"alert alert-block alert-info\">\n",
    "    Plotting <b>the Features Importance</b> based on the best parameters\n",
    "</div>"
   ]
  },
  {
   "cell_type": "code",
   "execution_count": null,
   "id": "558f93d6-6b89-461e-9189-71556f574447",
   "metadata": {},
   "outputs": [],
   "source": [
    "plot_features_importance(reg, \"GradientBoostingRegressor\", X_train, y_train, scoring=\"neg_mean_squared_error\")"
   ]
  },
  {
   "cell_type": "markdown",
   "id": "358045ff-d601-4f49-8826-613a39c5ff37",
   "metadata": {},
   "source": [
    "<div style=\"background-color: #6D83C5;\" >\n",
    "    <h4 style=\"margin: auto; padding: 20px; color:#fff; \">6.6.5 Predictions metrics</h4>\n",
    "</div>"
   ]
  },
  {
   "cell_type": "markdown",
   "id": "b1db58ad-57a7-40b5-aced-e837e83a1cc6",
   "metadata": {
    "tags": []
   },
   "source": [
    "<div class=\"alert alert-block alert-info\">\n",
    "    We are going to make the prediction with the testing set to compare the result with the model in default mode\n",
    "</div>"
   ]
  },
  {
   "cell_type": "code",
   "execution_count": null,
   "id": "130f85a1-d3d5-4cee-8af8-90ffdc332325",
   "metadata": {},
   "outputs": [],
   "source": [
    "start_time_model = timeit.default_timer()\n",
    "\n",
    "reg = make_pipeline(preprocessor,  GradientBoostingRegressor(learning_rate=0.01, max_depth=2, n_estimators=1500, subsample=0.5))\n",
    "\n",
    "reg.fit(X_train, y_train)\n",
    "\n",
    "# Making the prediction using the testing data\n",
    "y_pred = reg.predict(X_test)\n",
    "\n",
    "end_time_model =  round(timeit.default_timer() - start_time_model, 3)\n",
    "\n",
    "# Calculating R2 Coefficient of determination for each model (Best possible score is 1.0, lower values are worse.)\n",
    "R2SCORE = round(r2_score(y_test, y_pred), 5)\n",
    "    \n",
    "# Calculating the Mean absolute error (The best value is 0.0)\n",
    "MAE = round(mean_absolute_error(y_test, y_pred), 3)\n",
    "    \n",
    "# Calculating Root Mean Square Error for each model (The best value is 0.0)\n",
    "RMSE = round(mean_squared_error(y_test, y_pred, squared=False), 3)"
   ]
  },
  {
   "cell_type": "markdown",
   "id": "11d3cfb5-9277-40b3-9a44-e2769571bd8f",
   "metadata": {
    "tags": []
   },
   "source": [
    "<div class=\"alert alert-block alert-info\">\n",
    "    Adding the prediction to compare at the end\n",
    "</div>"
   ]
  },
  {
   "cell_type": "code",
   "execution_count": null,
   "id": "3980ab54-2d36-4d34-b8cf-79c8fa5e36cb",
   "metadata": {
    "tags": []
   },
   "outputs": [],
   "source": [
    "# Concatenating predictions to compare against y_test_transformed\n",
    "df_temp = pd.DataFrame({\n",
    "    \"Model\" : \"GradientBoostingRegressor\",\n",
    "    \"y_pred\" : y_pred\n",
    "})"
   ]
  },
  {
   "cell_type": "code",
   "execution_count": null,
   "id": "416e24a1-4bf0-449e-8ba9-6406d05a7424",
   "metadata": {},
   "outputs": [],
   "source": [
    "# Concatenating predictions to compare against y_test_transformed\n",
    "df_y_pred_gsc = pd.concat([df_y_pred_gsc, df_temp])"
   ]
  },
  {
   "cell_type": "markdown",
   "id": "2ec8c280-7950-4ff4-97a0-9c37aed6bd67",
   "metadata": {
    "tags": []
   },
   "source": [
    "<div class=\"alert alert-block alert-info\">\n",
    "    Verifying the prediction model into the dataset\n",
    "</div>"
   ]
  },
  {
   "cell_type": "code",
   "execution_count": null,
   "id": "5f7a4304-9192-4cf6-befd-1e961e775659",
   "metadata": {},
   "outputs": [],
   "source": [
    "df_y_pred_gsc[\"Model\"].unique()"
   ]
  },
  {
   "cell_type": "markdown",
   "id": "d955cda5-6432-4d00-b17f-a5f28b35a5c9",
   "metadata": {
    "tags": []
   },
   "source": [
    "<div class=\"alert alert-block alert-info\">\n",
    "    Adding metrics to compare at the end\n",
    "</div>"
   ]
  },
  {
   "cell_type": "code",
   "execution_count": null,
   "id": "5970cc71-bb7f-42b1-8ddd-35427e754319",
   "metadata": {},
   "outputs": [],
   "source": [
    "df_temp = pd.DataFrame({\n",
    "    \"Model\" : [\"GradientBoostingRegressor\"],\n",
    "    \"R2\".translate(SUP) : [R2SCORE], \n",
    "    \"MAE\" : [MAE],    \n",
    "    \"RMSE\" : [RMSE],\n",
    "    \"Duration\" : [end_time_model]\n",
    "})"
   ]
  },
  {
   "cell_type": "code",
   "execution_count": null,
   "id": "cc291462-26a9-4392-8bd2-11fbed96cf2f",
   "metadata": {},
   "outputs": [],
   "source": [
    "# Concatenating metrics to compare against model with default parameters\n",
    "df_models_metrics_gsc = pd.concat([df_models_metrics_gsc, df_temp])"
   ]
  },
  {
   "cell_type": "code",
   "execution_count": null,
   "id": "86d93f89-ea24-4562-833c-5890067f6b32",
   "metadata": {},
   "outputs": [],
   "source": [
    "df_models_metrics_gsc"
   ]
  },
  {
   "cell_type": "code",
   "execution_count": null,
   "id": "77a3c4a8-21e8-4287-946b-bb7ffd872f1d",
   "metadata": {},
   "outputs": [],
   "source": [
    "df_models_metrics"
   ]
  },
  {
   "cell_type": "markdown",
   "id": "c40ac7b9-dca4-4b24-aa7f-e4ab5f2dc078",
   "metadata": {
    "tags": []
   },
   "source": [
    "<div class=\"alert alert-block alert-success\">\n",
    "    Compared to the model with default parameters, we can see that the result is similar\n",
    "</div>"
   ]
  },
  {
   "cell_type": "markdown",
   "id": "b5517647-3655-4459-923f-c51e056c77e3",
   "metadata": {},
   "source": [
    "<div style=\"background-color: #6D83C5;\" >\n",
    "    <h1 style=\"margin: auto; padding: 20px; color:#fff; \">XXXXXXXXXXXXXXXXXXXXXXXXXXXXX</h1>\n",
    "</div>"
   ]
  },
  {
   "cell_type": "markdown",
   "id": "d0e8dadb-a552-49a7-b365-a0cf75e54cf9",
   "metadata": {},
   "source": [
    "<div style=\"background-color: #6D83C5;\" >\n",
    "    <h3 style=\"margin: auto; padding: 20px; color:#fff; \">6.5. Random Forest optimization</h3>\n",
    "</div>"
   ]
  },
  {
   "cell_type": "markdown",
   "id": "7b35cf7f-a06c-4bdd-ae57-9d7a0173c20a",
   "metadata": {
    "tags": []
   },
   "source": [
    "<div class=\"alert alert-block alert-info\">\n",
    "    Initializing model\n",
    "</div>"
   ]
  },
  {
   "cell_type": "code",
   "execution_count": null,
   "id": "5c6ab499-ffff-4391-9e2b-6d9d10c61715",
   "metadata": {},
   "outputs": [],
   "source": [
    "regr = RandomForestRegressor()"
   ]
  },
  {
   "cell_type": "markdown",
   "id": "e920a3ec-c08e-4bf7-b0c8-d40b44a2628d",
   "metadata": {
    "tags": []
   },
   "source": [
    "<div class=\"alert alert-block alert-info\">\n",
    "    Data preprocessing based on the pipelines and the regressors setup\n",
    "</div>"
   ]
  },
  {
   "cell_type": "code",
   "execution_count": null,
   "id": "e53d8482-4e37-40aa-ab46-27fb2a7a5a48",
   "metadata": {},
   "outputs": [],
   "source": [
    "reg = make_pipeline(preprocessor, regr)"
   ]
  },
  {
   "cell_type": "markdown",
   "id": "b5e074ba-e9aa-4fa2-ba12-4f01da72de59",
   "metadata": {
    "tags": []
   },
   "source": [
    "<div class=\"alert alert-block alert-info\">\n",
    "    Identifying the names of each parameter\n",
    "</div>"
   ]
  },
  {
   "cell_type": "code",
   "execution_count": null,
   "id": "100b2ca6-b942-4ce6-9f2c-a1efd066cf40",
   "metadata": {},
   "outputs": [],
   "source": [
    "sorted(reg.get_params().keys())"
   ]
  },
  {
   "cell_type": "markdown",
   "id": "de986adf-436d-40ad-bbff-2fe369ccbad5",
   "metadata": {
    "tags": []
   },
   "source": [
    "<div class=\"alert alert-block alert-info\">\n",
    "    Parameters settings\n",
    "</div>"
   ]
  },
  {
   "cell_type": "code",
   "execution_count": null,
   "id": "6276a381-8c56-459b-a868-9b918d0ed1f4",
   "metadata": {},
   "outputs": [],
   "source": [
    "param_grid = {\n",
    "#     \"randomforestregressor__bootstrap\" : [True, False],\n",
    "    \"randomforestregressor__max_depth\" : [60, 70, 80, 90, 100, 110],\n",
    "    \"randomforestregressor__max_features\" : [\"auto\", \"log2\", \"sqrt\"],\n",
    "    \"randomforestregressor__min_samples_leaf\" : [1, 2, 3, 4, 5],\n",
    "    \"randomforestregressor__min_samples_split\" : [4, 6, 8, 10, 12],\n",
    "    \"randomforestregressor__n_estimators\" : [50, 80, 100, 130, 180]\n",
    "}"
   ]
  },
  {
   "cell_type": "markdown",
   "id": "0c7fc995-fe6c-4dfd-b20a-1fe767a768b5",
   "metadata": {
    "tags": []
   },
   "source": [
    "<div class=\"alert alert-block alert-info\">\n",
    "    Executing the model\n",
    "</div>"
   ]
  },
  {
   "cell_type": "code",
   "execution_count": null,
   "id": "948dfeea-a794-48d6-bdcb-433310b647f0",
   "metadata": {},
   "outputs": [],
   "source": [
    "## K-Folds cross-validator\n",
    "kfold = KFold(n_splits=5, shuffle=True, random_state=0)\n",
    "\n",
    "start_time_model = timeit.default_timer()\n",
    "\n",
    "# search = GridSearchCV(reg, param_grid, n_jobs=-1, cv=kfold, scoring=SCORINGS, refit=\"R2\", return_train_score=True)\n",
    "search = GridSearchCV(reg, param_grid, n_jobs=1, cv=kfold, scoring=SCORINGS, refit=\"R2\", return_train_score=True, verbose=3)\n",
    "\n",
    "search.fit(X_train, y_train)\n",
    "\n",
    "# Transforming the result to dataframe format\n",
    "df_results = pd.DataFrame(search.cv_results_)\n",
    "\n",
    "# Get the results\n",
    "print(\"Metrics based on the best R2\".translate(SUP))\n",
    "print(\"- R2:\".translate(SUP), round(search.best_score_, 3))\n",
    "print(\"- MAE:\", round(abs(df_results.iloc[search.best_index_][\"mean_test_MAE\"]), 3))\n",
    "print(\"- RMSE:\", round(math.sqrt(abs(df_results.iloc[search.best_index_][\"mean_test_MSE\"])), 3))\n",
    "print(\"- Duration:\", round(df_results.iloc[search.best_index_][\"mean_score_time\"], 3))\n",
    "print(\"- Parameters:\", search.best_params_)"
   ]
  },
  {
   "cell_type": "markdown",
   "id": "b09d1538-d8a1-48fa-99b4-1e97de238844",
   "metadata": {
    "tags": []
   },
   "source": [
    "<div class=\"alert alert-block alert-info\">\n",
    "    We got the <b>best parameters</b> so, we are going to <b>analyze</b> them more in details \n",
    "</div>"
   ]
  },
  {
   "cell_type": "markdown",
   "id": "19408ca5-353b-4e52-9712-430c65f6d67a",
   "metadata": {},
   "source": [
    "<div style=\"background-color: #6D83C5;\" >\n",
    "    <h4 style=\"margin: auto; padding: 20px; color:#fff; \">6.5.1 Random Forest Validation curve</h4>\n",
    "</div>"
   ]
  },
  {
   "cell_type": "markdown",
   "id": "1403ba5c-abf4-4519-bacc-2ab770b9ed62",
   "metadata": {
    "tags": []
   },
   "source": [
    "<div class=\"alert alert-block alert-info\">\n",
    "    To plot the <b>Validation curve</b>, we are going to use a <b>range of neighbors</b> to analyze the model through them\n",
    "</div>"
   ]
  },
  {
   "cell_type": "code",
   "execution_count": null,
   "id": "144474aa-115f-4328-8828-15f2c44e0d3f",
   "metadata": {},
   "outputs": [],
   "source": [
    "kfold = KFold(n_splits=5, shuffle=True, random_state=0)\n",
    "\n",
    "n_estimators = np.unique(np.logspace(0, 1.8, num=30).astype(int))\n",
    "\n",
    "reg = make_pipeline(preprocessor, RandomForestRegressor(bootstrap=False, max_depth=80, max_features=\"sqrt\", min_samples_leaf=3, min_samples_split=8))"
   ]
  },
  {
   "cell_type": "markdown",
   "id": "21464c29-dc77-4f70-a1a6-a3bba0605df8",
   "metadata": {
    "tags": []
   },
   "source": [
    "<div class=\"alert alert-block alert-info\">\n",
    "    Plotting <b>the validacion curve</b> based on the best parameters\n",
    "</div>"
   ]
  },
  {
   "cell_type": "code",
   "execution_count": null,
   "id": "10de23d5-53f7-4c70-8d93-08a4064eb924",
   "metadata": {},
   "outputs": [],
   "source": [
    "plot_validation_curve(reg, \"RandomForestRegressor\", X_train, y_train, param_name=\"randomforestregressor__n_estimators\", param_range=n_estimators, param_name_short=\"Estimators\", cv=kfold)"
   ]
  },
  {
   "cell_type": "markdown",
   "id": "c074f651-40b7-449b-8c49-bccc9c1558fb",
   "metadata": {},
   "source": [
    "<div style=\"background-color: #6D83C5;\" >\n",
    "    <h4 style=\"margin: auto; padding: 20px; color:#fff; \">6.5.2 Random Forest Learning curve</h4>\n",
    "</div>"
   ]
  },
  {
   "cell_type": "markdown",
   "id": "17d35d5b-3e84-4c79-86ba-6e75e313cde7",
   "metadata": {
    "tags": []
   },
   "source": [
    "<div class=\"alert alert-block alert-info\">\n",
    "    To plot the <b>Learning curve</b>, we are going to use the <b>best  parameters</b> to analyze the model\n",
    "</div>"
   ]
  },
  {
   "cell_type": "code",
   "execution_count": null,
   "id": "cf0e6013-a3cb-4da5-920d-471d3c828e1b",
   "metadata": {},
   "outputs": [],
   "source": [
    "kfold = KFold(n_splits=5, shuffle=True, random_state=0)\n",
    "\n",
    "reg = make_pipeline(preprocessor, RandomForestRegressor(bootstrap=True, max_depth=100, max_features=\"auto\", min_samples_leaf=3, min_samples_split=10, n_estimators=100))"
   ]
  },
  {
   "cell_type": "markdown",
   "id": "200e50ab-8317-4313-b27b-dcdd67734ee1",
   "metadata": {
    "tags": []
   },
   "source": [
    "<div class=\"alert alert-block alert-info\">\n",
    "    Plotting <b>the learning curve</b> based on the best parameters\n",
    "</div>"
   ]
  },
  {
   "cell_type": "code",
   "execution_count": null,
   "id": "26ef3d9c-43f8-4a56-9130-8a41be73a4e1",
   "metadata": {},
   "outputs": [],
   "source": [
    "plot_learning_curve(reg, \"RandomForestRegressor\", X_train, y_train, cv=kfold)"
   ]
  },
  {
   "cell_type": "markdown",
   "id": "91f0968b-e633-45eb-87ff-b7ed18bae237",
   "metadata": {},
   "source": [
    "<div style=\"background-color: #6D83C5;\" >\n",
    "    <h4 style=\"margin: auto; padding: 20px; color:#fff; \">6.5.3 Random Forest predictions validations</h4>\n",
    "</div>"
   ]
  },
  {
   "cell_type": "markdown",
   "id": "5d71c2f5-1346-465b-8b21-ce1236ebd6c4",
   "metadata": {
    "tags": []
   },
   "source": [
    "<div class=\"alert alert-block alert-info\">\n",
    "    To plot the <b>predictions validations</b>, we are going to use the <b>best  parameters</b> to analyze the model after <b>fitting</b> and <b>predicting</b> values</b>\n",
    "</div>"
   ]
  },
  {
   "cell_type": "code",
   "execution_count": null,
   "id": "4c0f5caa-1a2c-447e-a37a-a6326740166f",
   "metadata": {},
   "outputs": [],
   "source": [
    "kfold = KFold(n_splits=5, shuffle=True, random_state=0)\n",
    "\n",
    "reg = make_pipeline(preprocessor, RandomForestRegressor(bootstrap=True, max_depth=100, max_features=\"auto\", min_samples_leaf=3, min_samples_split=10, n_estimators=100))\n",
    "\n",
    "reg.fit(X_train, y_train)\n",
    "\n",
    "# Making the prediction using the testing data\n",
    "y_pred = reg.predict(X_test)"
   ]
  },
  {
   "cell_type": "markdown",
   "id": "4c5e0454-fcbd-4af1-9609-7cd09e0d3e1e",
   "metadata": {
    "tags": []
   },
   "source": [
    "<div class=\"alert alert-block alert-info\">\n",
    "    Plotting <b>the Cross-Validated Predictions</b> based on the best parameters for <b>training data</b>\n",
    "</div>"
   ]
  },
  {
   "cell_type": "code",
   "execution_count": null,
   "id": "d283afb1-37cf-4a0e-93d0-dec50c76b6d4",
   "metadata": {},
   "outputs": [],
   "source": [
    "# Making the prediction using the testing data\n",
    "plot_cross_val_predi(reg, \"RandomForestRegressor\", X_train, y_train, cv=kfold)"
   ]
  },
  {
   "cell_type": "markdown",
   "id": "db034aef-a261-4e7a-a441-88e60b8d3d61",
   "metadata": {},
   "source": [
    "<div style=\"background-color: #6D83C5;\" >\n",
    "    <h4 style=\"margin: auto; padding: 20px; color:#fff; \">6.5.4 Random Forest  Features Importance</h4>\n",
    "</div>"
   ]
  },
  {
   "cell_type": "markdown",
   "id": "09d1fbf9-8b85-4232-814d-d28d5176d263",
   "metadata": {
    "tags": []
   },
   "source": [
    "<div class=\"alert alert-block alert-info\">\n",
    "    To plot the <b>Features Importance</b>, we are going to use the <b>best  parameters</b> to analyze the model after <b>fitting</b> values</b>\n",
    "</div>"
   ]
  },
  {
   "cell_type": "code",
   "execution_count": null,
   "id": "9fa33a2c-b7af-4ebd-8ca2-28776c308876",
   "metadata": {},
   "outputs": [],
   "source": [
    "reg = make_pipeline(preprocessor, RandomForestRegressor(bootstrap=True, max_depth=100, max_features=\"auto\", min_samples_leaf=3, min_samples_split=10, n_estimators=100))\n",
    "\n",
    "reg.fit(X_train, y_train)"
   ]
  },
  {
   "cell_type": "markdown",
   "id": "c2a30d3e-8e89-4f1d-9247-d694cf1a81ba",
   "metadata": {
    "tags": []
   },
   "source": [
    "<div class=\"alert alert-block alert-info\">\n",
    "    Plotting <b>the Features Importance</b> based on the best parameters\n",
    "</div>"
   ]
  },
  {
   "cell_type": "code",
   "execution_count": null,
   "id": "218e6eb4-c30b-496f-a66f-bda4ccbe8529",
   "metadata": {},
   "outputs": [],
   "source": [
    "plot_features_importance(reg, \"RandomForestRegressor\", X_train, y_train, scoring=\"neg_mean_squared_error\")"
   ]
  },
  {
   "cell_type": "markdown",
   "id": "acae279c-c20b-4f27-b44c-5571fb0cb992",
   "metadata": {},
   "source": [
    "<div style=\"background-color: #6D83C5;\" >\n",
    "    <h4 style=\"margin: auto; padding: 20px; color:#fff; \">6.5.6 Concatenating the results to compare</h4>\n",
    "</div>"
   ]
  },
  {
   "cell_type": "code",
   "execution_count": null,
   "id": "bbfb302b-a9da-4924-8864-4f1a6b59ce58",
   "metadata": {},
   "outputs": [],
   "source": [
    "reg = make_pipeline(preprocessor, RandomForestRegressor(bootstrap=True, max_depth=100, max_features=\"auto\", min_samples_leaf=3, min_samples_split=10, n_estimators=100))\n",
    "\n",
    "reg.fit(X_train, y_train)\n",
    "\n",
    "# Making the prediction using the testing data\n",
    "y_pred = reg.predict(X_test)"
   ]
  },
  {
   "cell_type": "markdown",
   "id": "818803ce-7520-4e34-a542-bdd7b9da10a5",
   "metadata": {
    "tags": []
   },
   "source": [
    "<div class=\"alert alert-block alert-info\">\n",
    "    Adding the prediction to compare at the end\n",
    "</div>"
   ]
  },
  {
   "cell_type": "code",
   "execution_count": null,
   "id": "ef844223-e65f-4a9f-8861-83fd33231082",
   "metadata": {},
   "outputs": [],
   "source": [
    "# Concatenating predictions to compare against y_test_transformed\n",
    "df_temp = pd.DataFrame({\n",
    "    \"Model\" : \"RandomForestRegressor\",\n",
    "    \"y_pred\" : y_pred\n",
    "})"
   ]
  },
  {
   "cell_type": "code",
   "execution_count": null,
   "id": "d81fc57b-c822-43b0-9a47-b6514ecd6520",
   "metadata": {},
   "outputs": [],
   "source": [
    "# Concatenating predictions to compare against y_test_transformed\n",
    "df_y_pred_gsc = pd.concat([df_y_pred_gsc, df_temp])"
   ]
  },
  {
   "cell_type": "markdown",
   "id": "7e7113e6-d159-4345-a3d8-075f9ba5c579",
   "metadata": {
    "tags": []
   },
   "source": [
    "<div class=\"alert alert-block alert-info\">\n",
    "    Adding metrics to compare at the end\n",
    "</div>"
   ]
  },
  {
   "cell_type": "code",
   "execution_count": null,
   "id": "0c9fa445-81fb-4da8-92c3-7944aef7a56e",
   "metadata": {},
   "outputs": [],
   "source": [
    "# Adding results into LIST\n",
    "LIST_MODEL_GSC.append(\"KNeighbors\")\n",
    "LIST_MAE_GSC.append(round(abs(df_results.iloc[search.best_index_][\"mean_test_MAE\"]), 3))\n",
    "LIST_RMSE_GSC.append(round(math.sqrt(abs(df_results.iloc[search.best_index_][\"mean_test_MSE\"])), 3))\n",
    "LIST_R2SCORE_GSC.append(round(search.best_score_, 3))\n",
    "LIST_DURATION_GSC.append(round(df_results.iloc[search.best_index_][\"mean_score_time\"], 3))"
   ]
  },
  {
   "cell_type": "code",
   "execution_count": null,
   "id": "cba4af00-05a9-4c9a-984c-f327a2c4ec1d",
   "metadata": {},
   "outputs": [],
   "source": []
  },
  {
   "cell_type": "code",
   "execution_count": null,
   "id": "82726129-7f38-4be3-b3e5-4bb6073b9f73",
   "metadata": {},
   "outputs": [],
   "source": []
  },
  {
   "cell_type": "code",
   "execution_count": null,
   "id": "4e5aa570-2e5e-47b1-b92f-e6545f830e9a",
   "metadata": {},
   "outputs": [],
   "source": []
  },
  {
   "cell_type": "code",
   "execution_count": null,
   "id": "9cfada77-f36c-4789-8da6-146e45f6db45",
   "metadata": {},
   "outputs": [],
   "source": []
  },
  {
   "cell_type": "code",
   "execution_count": null,
   "id": "a6b8527b-dd58-426c-941f-284aa879747c",
   "metadata": {},
   "outputs": [],
   "source": []
  },
  {
   "cell_type": "code",
   "execution_count": null,
   "id": "21d37a7a-c93f-4982-8071-5157605c1ae9",
   "metadata": {},
   "outputs": [],
   "source": []
  },
  {
   "cell_type": "markdown",
   "id": "46551799-f2a7-4da4-9037-2536b4957548",
   "metadata": {},
   "source": [
    "<div class=\"alert alert-block alert-danger\">\n",
    "    <b>Flag position</b>\n",
    "</div>"
   ]
  },
  {
   "cell_type": "markdown",
   "id": "2d8985ba-d980-4482-9be0-da4ee0d4149f",
   "metadata": {},
   "source": [
    "- Learning curves\n",
    "- metrics R2, MSE, MAE, etc....\n",
    "- gráfica comparación de predicción con regresión\n",
    "    - arreglar metrica R2 y RMSE\n",
    "- importancia de features "
   ]
  },
  {
   "cell_type": "code",
   "execution_count": null,
   "id": "9aa5c0cd-4433-4caf-abd6-08f274f8f188",
   "metadata": {},
   "outputs": [],
   "source": [
    "XXXXXXXXX"
   ]
  },
  {
   "cell_type": "code",
   "execution_count": null,
   "id": "5f7eb4a9-e0aa-48b5-b018-c7dd12b34bba",
   "metadata": {},
   "outputs": [],
   "source": []
  },
  {
   "cell_type": "markdown",
   "id": "6f26a89e-83bd-4ddd-8b0d-9f178ddef63a",
   "metadata": {},
   "source": [
    "import io\n",
    "import pandas as pd\n",
    "df = pd.read_csv(io.StringIO(\"\"\"column1 | column2 | column3  |column4  | column5 \n",
    "A       |    B    |    5     |   4234  |   123   \n",
    "A       |    B    |    2     |   432   |   3243  \n",
    "A       |    B    |    10    |   123   |   43    \n",
    "A       |    B    |    1     |   123   |   45    \n",
    "A       |    B    |    1     |   124   |   23243 \n",
    "A       |    B    |    1     |   125   |   234   \n",
    "A       |    B    |    1     |   126   |   23   \"\"\"), sep=\"|\").pipe(lambda d: d.rename(columns={c:c.strip() for c in d.columns}))\n",
    "- cursos a mirar <br>\n",
    "https://openclassrooms.com/fr/courses/6401081-improve-the-performance-of-a-machine-learning-model/6559796-tune-your-hyperparameters <br>\n",
    "https://openclassrooms.com/fr/courses/6389626-train-a-supervised-machine-learning-model/6389633-think-through-a-classification-task <br>\n",
    "https://lms.fun-mooc.fr/courses/course-v1:inria+41026+session01/courseware/cb3cfcaf0cae4cf7801c4e8d5dab9087/96ae0a5c701c4463a60cb975f75baa07/ <br>\n",
    "https://www.youtube.com/watch?v=w_bLGK4Pteo\n",
    "\n",
    "- grafica de error de training vs error test <br>\n",
    "https://scikit-learn.org/stable/auto_examples/model_selection/plot_train_error_vs_test_error.html\n",
    "\n",
    "- plotting learning curves <br>\n",
    "https://scikit-learn.org/stable/auto_examples/model_selection/plot_learning_curve.html <br>\n",
    "https://scikit-learn.org/stable/modules/learning_curve.html <br>\n",
    "https://www.dataquest.io/blog/learning-curves-machine-learning/ <br>\n",
    "https://utkuufuk.com/2018/05/04/learning-curves/ <br>\n",
    "https://vitalflux.com/validation-curves-explained-python-sklearn-example/\n",
    "\n",
    "- Validation curve <br>\n",
    "https://sdsawtelle.github.io/blog/output/week6-andrew-ng-machine-learning-with-python.html\n",
    "\n",
    "- Visualizaciones <br>\n",
    "https://scikit-learn.org/stable/visualizations.html <br>\n",
    "https://medium.datadriveninvestor.com/visualizing-scikit-model-performance-fb26ff16f7c6\n",
    "\n",
    "\n",
    "- lsitado de metricas <br>\n",
    "https://scikit-learn.org/stable/modules/model_evaluation.html <br>\n",
    "https://scikit-learn.org/stable/modules/generated/sklearn.metrics.r2_score.html#sklearn.metrics.r2_score <br>\n",
    "https://scikit-learn.org/stable/modules/generated/sklearn.linear_model.LinearRegression.html\n",
    "\n",
    "- Receiver Operating Characteristic (ROC) with cross validation <br>\n",
    "https://scikit-learn.org/stable/auto_examples/model_selection/plot_roc_crossval.html#sphx-glr-auto-examples-model-selection-plot-roc-crossval-py\n",
    "\n",
    "- Underfitting vs. Overfitting <br>\n",
    "https://scikit-learn.org/stable/auto_examples/model_selection/plot_underfitting_overfitting.html#sphx-glr-auto-examples-model-selection-plot-underfitting-overfitting-py\n",
    "\n",
    "- Plotting Cross-Validated Predictions <br>\n",
    "https://scikit-learn.org/stable/auto_examples/model_selection/plot_cv_predict.htmlPlotting\n",
    "\n",
    "- Bias Variance Trade off <br>\n",
    "https://towardsdatascience.com/bias-variance-tradeoff-7ca56ba182a\n",
    "\n",
    "- SkLearn course <br>\n",
    "https://inria.github.io/scikit-learn-mooc/index.html\n",
    "\n",
    "- Evaluate model\n",
    "https://towardsdatascience.com/hyperparameter-tuning-the-random-forest-in-python-using-scikit-learn-28d2aa77dd74"
   ]
  },
  {
   "cell_type": "code",
   "execution_count": null,
   "id": "bd2d2951-f173-47e4-bb31-a42bcdfd178c",
   "metadata": {},
   "outputs": [],
   "source": []
  },
  {
   "cell_type": "code",
   "execution_count": null,
   "id": "5f1e6eeb-2752-4265-9552-a5839691b12b",
   "metadata": {},
   "outputs": [],
   "source": []
  },
  {
   "cell_type": "code",
   "execution_count": null,
   "id": "eda232c5-ece6-49e8-84fa-6d49e874bdc9",
   "metadata": {},
   "outputs": [],
   "source": []
  },
  {
   "cell_type": "code",
   "execution_count": null,
   "id": "8144759c-754b-4bb0-8aed-9497d7e6b998",
   "metadata": {},
   "outputs": [],
   "source": []
  },
  {
   "cell_type": "code",
   "execution_count": null,
   "id": "5cc6bd5e-98fc-40f7-bdb5-b5fae22381a6",
   "metadata": {},
   "outputs": [],
   "source": []
  }
 ],
 "metadata": {
  "kernelspec": {
   "display_name": "Python 3",
   "language": "python",
   "name": "python3"
  },
  "language_info": {
   "codemirror_mode": {
    "name": "ipython",
    "version": 3
   },
   "file_extension": ".py",
   "mimetype": "text/x-python",
   "name": "python",
   "nbconvert_exporter": "python",
   "pygments_lexer": "ipython3",
   "version": "3.8.5"
  }
 },
 "nbformat": 4,
 "nbformat_minor": 5
}
